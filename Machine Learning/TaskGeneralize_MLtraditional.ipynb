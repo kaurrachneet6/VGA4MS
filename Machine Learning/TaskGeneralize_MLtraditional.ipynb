{
 "cells": [
  {
   "cell_type": "markdown",
   "metadata": {},
   "source": [
    "## Gait Video Study \n",
    "### Traditional ML algorithms on 2 task generalization frameworks, namely a) W-> WT b) VBW-> VBWT, to classify HOA/MS/PD strides and subjects \n",
    "#### Remember to add the original count of frames in a single stride (before down sampling via smoothing) for each stride as an additional artificial feature to add information about speed of the subject to the model\n",
    "\n",
    "1. Save the optimal hyperparameters, confusion matrices and ROC curves for each algorithm.\n",
    "2. Make sure to not use x, y, z, confidence = 0, 0, 0, 0 as points for the model since they are simply missing values and not data points, so make sure to treat them before inputting to model \n",
    "3. Make sure to normalize (z-score normalization) the features before we feed them to the model.\n",
    "4. We use the summary statistics as range, CoV and asymmetry between the right and left limbs as the features to input to the traditional models requiring fixed size 1D input for each training/testing set sample.\n",
    "5. Since we are implementating \"pure\" task generalization, we train and test on exactly same subjects i.e. we only retain common subjects across W and WT for a) and only retain common subjects across VBW and VBWT for b).\n"
   ]
  },
  {
   "cell_type": "code",
   "execution_count": 30,
   "metadata": {},
   "outputs": [],
   "source": [
    "# 33 subject in total (~10 per group) \n",
    "# 4500 strides - 2000 strides - 200 groups for 10 strides per group\n",
    "# STRIDE - 20*36 - MEAN SUBSTRACTION --- BATCH NORM. \n",
    "# 90 features - 36 Cov, 36 Range, 18 assymetry, 18 DEN\n",
    "# Z-SCORE \n",
    "# Default + Dimensionality reduction - 3D space\n",
    "# Try top 10 features \n",
    "# Subject generalization is where the overfitting issue is tested - If we get good results, that means we are not \n",
    "# overfitting \n",
    "\n",
    "#Check how is AUC 1 even when accurcay is low?"
   ]
  },
  {
   "cell_type": "code",
   "execution_count": 1,
   "metadata": {},
   "outputs": [],
   "source": [
    "from importlib import reload\n",
    "from ml_utils.imports import *\n",
    "\n",
    "from ml_utils import task_gen_traditionalML\n",
    "reload(task_gen_traditionalML)\n",
    "from ml_utils.task_gen_traditionalML import keep_subjects_common_across_train_test, normalize, models, evaluate\n",
    "from ml_utils.task_gen_traditionalML import plot_ROC"
   ]
  },
  {
   "cell_type": "code",
   "execution_count": 2,
   "metadata": {},
   "outputs": [
    {
     "data": {
      "text/html": [
       "<div>\n",
       "<style scoped>\n",
       "    .dataframe tbody tr th:only-of-type {\n",
       "        vertical-align: middle;\n",
       "    }\n",
       "\n",
       "    .dataframe tbody tr th {\n",
       "        vertical-align: top;\n",
       "    }\n",
       "\n",
       "    .dataframe thead th {\n",
       "        text-align: right;\n",
       "    }\n",
       "</style>\n",
       "<table border=\"1\" class=\"dataframe\">\n",
       "  <thead>\n",
       "    <tr style=\"text-align: right;\">\n",
       "      <th></th>\n",
       "      <th>key</th>\n",
       "      <th>cohort</th>\n",
       "      <th>trial</th>\n",
       "      <th>scenario</th>\n",
       "      <th>video</th>\n",
       "      <th>PID</th>\n",
       "      <th>stride_number</th>\n",
       "      <th>frame_count</th>\n",
       "      <th>label</th>\n",
       "      <th>right hip-x-CoV</th>\n",
       "      <th>...</th>\n",
       "      <th>ankle-z-asymmetry</th>\n",
       "      <th>heel-x-asymmetry</th>\n",
       "      <th>heel-y-asymmetry</th>\n",
       "      <th>heel-z-asymmetry</th>\n",
       "      <th>toe 1-x-asymmetry</th>\n",
       "      <th>toe 1-y-asymmetry</th>\n",
       "      <th>toe 1-z-asymmetry</th>\n",
       "      <th>toe 2-x-asymmetry</th>\n",
       "      <th>toe 2-y-asymmetry</th>\n",
       "      <th>toe 2-z-asymmetry</th>\n",
       "    </tr>\n",
       "  </thead>\n",
       "  <tbody>\n",
       "    <tr>\n",
       "      <th>0</th>\n",
       "      <td>GVS_212_T_T1_1</td>\n",
       "      <td>HOA</td>\n",
       "      <td>BW</td>\n",
       "      <td>SLWT</td>\n",
       "      <td>GVS_212_T_T1</td>\n",
       "      <td>212</td>\n",
       "      <td>1</td>\n",
       "      <td>46</td>\n",
       "      <td>0</td>\n",
       "      <td>0.046077</td>\n",
       "      <td>...</td>\n",
       "      <td>14.426173</td>\n",
       "      <td>3.407379</td>\n",
       "      <td>10.662441</td>\n",
       "      <td>0.830365</td>\n",
       "      <td>0.502570</td>\n",
       "      <td>31.450487</td>\n",
       "      <td>8.644012</td>\n",
       "      <td>5.236678</td>\n",
       "      <td>31.182183</td>\n",
       "      <td>8.215725</td>\n",
       "    </tr>\n",
       "    <tr>\n",
       "      <th>1</th>\n",
       "      <td>GVS_212_T_T1_2</td>\n",
       "      <td>HOA</td>\n",
       "      <td>BW</td>\n",
       "      <td>SLWT</td>\n",
       "      <td>GVS_212_T_T1</td>\n",
       "      <td>212</td>\n",
       "      <td>2</td>\n",
       "      <td>39</td>\n",
       "      <td>0</td>\n",
       "      <td>0.021528</td>\n",
       "      <td>...</td>\n",
       "      <td>1.360847</td>\n",
       "      <td>5.155307</td>\n",
       "      <td>11.363806</td>\n",
       "      <td>4.333776</td>\n",
       "      <td>1.025647</td>\n",
       "      <td>28.266400</td>\n",
       "      <td>2.671081</td>\n",
       "      <td>6.678294</td>\n",
       "      <td>15.058825</td>\n",
       "      <td>4.903579</td>\n",
       "    </tr>\n",
       "    <tr>\n",
       "      <th>2</th>\n",
       "      <td>GVS_212_T_T1_3</td>\n",
       "      <td>HOA</td>\n",
       "      <td>BW</td>\n",
       "      <td>SLWT</td>\n",
       "      <td>GVS_212_T_T1</td>\n",
       "      <td>212</td>\n",
       "      <td>3</td>\n",
       "      <td>56</td>\n",
       "      <td>0</td>\n",
       "      <td>0.034394</td>\n",
       "      <td>...</td>\n",
       "      <td>1.341021</td>\n",
       "      <td>8.625363</td>\n",
       "      <td>7.159495</td>\n",
       "      <td>3.366152</td>\n",
       "      <td>1.759968</td>\n",
       "      <td>17.545787</td>\n",
       "      <td>5.921325</td>\n",
       "      <td>8.243491</td>\n",
       "      <td>9.578638</td>\n",
       "      <td>3.008162</td>\n",
       "    </tr>\n",
       "    <tr>\n",
       "      <th>3</th>\n",
       "      <td>GVS_212_T_T1_4</td>\n",
       "      <td>HOA</td>\n",
       "      <td>BW</td>\n",
       "      <td>SLWT</td>\n",
       "      <td>GVS_212_T_T1</td>\n",
       "      <td>212</td>\n",
       "      <td>4</td>\n",
       "      <td>53</td>\n",
       "      <td>0</td>\n",
       "      <td>0.028511</td>\n",
       "      <td>...</td>\n",
       "      <td>2.375934</td>\n",
       "      <td>6.728268</td>\n",
       "      <td>0.098235</td>\n",
       "      <td>0.999027</td>\n",
       "      <td>0.541911</td>\n",
       "      <td>7.843339</td>\n",
       "      <td>4.279617</td>\n",
       "      <td>0.748023</td>\n",
       "      <td>19.471731</td>\n",
       "      <td>5.086056</td>\n",
       "    </tr>\n",
       "    <tr>\n",
       "      <th>4</th>\n",
       "      <td>GVS_212_T_T1_5</td>\n",
       "      <td>HOA</td>\n",
       "      <td>BW</td>\n",
       "      <td>SLWT</td>\n",
       "      <td>GVS_212_T_T1</td>\n",
       "      <td>212</td>\n",
       "      <td>5</td>\n",
       "      <td>44</td>\n",
       "      <td>0</td>\n",
       "      <td>0.025213</td>\n",
       "      <td>...</td>\n",
       "      <td>8.525816</td>\n",
       "      <td>1.775282</td>\n",
       "      <td>0.033210</td>\n",
       "      <td>9.166863</td>\n",
       "      <td>1.354601</td>\n",
       "      <td>6.674183</td>\n",
       "      <td>8.479480</td>\n",
       "      <td>4.373622</td>\n",
       "      <td>0.315168</td>\n",
       "      <td>11.795593</td>\n",
       "    </tr>\n",
       "  </tbody>\n",
       "</table>\n",
       "<p>5 rows × 99 columns</p>\n",
       "</div>"
      ],
      "text/plain": [
       "              key cohort trial scenario         video  PID  stride_number  \\\n",
       "0  GVS_212_T_T1_1    HOA    BW     SLWT  GVS_212_T_T1  212              1   \n",
       "1  GVS_212_T_T1_2    HOA    BW     SLWT  GVS_212_T_T1  212              2   \n",
       "2  GVS_212_T_T1_3    HOA    BW     SLWT  GVS_212_T_T1  212              3   \n",
       "3  GVS_212_T_T1_4    HOA    BW     SLWT  GVS_212_T_T1  212              4   \n",
       "4  GVS_212_T_T1_5    HOA    BW     SLWT  GVS_212_T_T1  212              5   \n",
       "\n",
       "   frame_count  label  right hip-x-CoV  ...  ankle-z-asymmetry  \\\n",
       "0           46      0         0.046077  ...          14.426173   \n",
       "1           39      0         0.021528  ...           1.360847   \n",
       "2           56      0         0.034394  ...           1.341021   \n",
       "3           53      0         0.028511  ...           2.375934   \n",
       "4           44      0         0.025213  ...           8.525816   \n",
       "\n",
       "   heel-x-asymmetry  heel-y-asymmetry  heel-z-asymmetry  toe 1-x-asymmetry  \\\n",
       "0          3.407379         10.662441          0.830365           0.502570   \n",
       "1          5.155307         11.363806          4.333776           1.025647   \n",
       "2          8.625363          7.159495          3.366152           1.759968   \n",
       "3          6.728268          0.098235          0.999027           0.541911   \n",
       "4          1.775282          0.033210          9.166863           1.354601   \n",
       "\n",
       "   toe 1-y-asymmetry  toe 1-z-asymmetry  toe 2-x-asymmetry  toe 2-y-asymmetry  \\\n",
       "0          31.450487           8.644012           5.236678          31.182183   \n",
       "1          28.266400           2.671081           6.678294          15.058825   \n",
       "2          17.545787           5.921325           8.243491           9.578638   \n",
       "3           7.843339           4.279617           0.748023          19.471731   \n",
       "4           6.674183           8.479480           4.373622           0.315168   \n",
       "\n",
       "   toe 2-z-asymmetry  \n",
       "0           8.215725  \n",
       "1           4.903579  \n",
       "2           3.008162  \n",
       "3           5.086056  \n",
       "4          11.795593  \n",
       "\n",
       "[5 rows x 99 columns]"
      ]
     },
     "metadata": {},
     "output_type": "display_data"
    }
   ],
   "source": [
    "path = 'C:\\\\Users\\\\Rachneet Kaur\\\\Box\\\\Gait Video Project\\\\GaitVideoData\\\\video\\\\'\n",
    "data_path = path+'traditional_methods_dataframe.csv'\n",
    "results_path = 'C:\\\\Users\\\\Rachneet Kaur\\\\Box\\Gait Video Project\\\\MLresults\\\\'\n",
    "\n",
    "data = pd.read_csv(data_path, index_col= 0)\n",
    "display(data.head())\n",
    "\n",
    "#Whether to save the results (confusion matrices and RoC plots) or not \n",
    "save_results = True "
   ]
  },
  {
   "cell_type": "markdown",
   "metadata": {},
   "source": [
    "### main() "
   ]
  },
  {
   "cell_type": "markdown",
   "metadata": {},
   "source": [
    "### Task generalization framework 1: train on walking (W) and test on walking while talking (WT) to classify HOA/MS/PD strides and subjects "
   ]
  },
  {
   "cell_type": "code",
   "execution_count": 3,
   "metadata": {
    "scrolled": true
   },
   "outputs": [
    {
     "name": "stdout",
     "output_type": "stream",
     "text": [
      "Original number of subjects in training and test sets: 32 26\n",
      "Subjects in test set, which are not in training set\n",
      "[403]\n",
      "Subjects in training set, which are not in test set\n",
      "[312, 102, 112, 113, 115, 123, 124]\n",
      "Number of subjects in training and test sets after reduction: 25 25\n",
      "Training set (trial W): cohort  PID\n",
      "HOA     215    45\n",
      "        218    45\n",
      "        212    44\n",
      "        213    43\n",
      "        216    40\n",
      "        219    40\n",
      "        217    39\n",
      "        214    38\n",
      "MS      320    45\n",
      "        311    43\n",
      "        310    41\n",
      "        322    40\n",
      "        323    40\n",
      "        321    39\n",
      "        313    38\n",
      "        314    38\n",
      "        318    17\n",
      "PD      406    44\n",
      "        408    44\n",
      "        409    44\n",
      "        404    41\n",
      "        405    41\n",
      "        410    41\n",
      "        407    39\n",
      "        411    39\n",
      "Name: PID, dtype: int64\n",
      "Testing set (trial WT): cohort  PID\n",
      "HOA     217    47\n",
      "        212    46\n",
      "        213    45\n",
      "        218    45\n",
      "        215    44\n",
      "        219    44\n",
      "        216    42\n",
      "        214    38\n",
      "MS      320    47\n",
      "        323    47\n",
      "        321    42\n",
      "        310    41\n",
      "        322    40\n",
      "        314    39\n",
      "        313    30\n",
      "        311    28\n",
      "        318    18\n",
      "PD      409    46\n",
      "        406    44\n",
      "        408    44\n",
      "        411    43\n",
      "        410    41\n",
      "        407    40\n",
      "        404    38\n",
      "        405    37\n",
      "Name: PID, dtype: int64\n",
      "Training shape (1008, 91) (1008, 2)\n",
      "Testing shape (1016, 91) (1016, 2)\n",
      "Strides in training set:  1008\n",
      "HOA, MS and PD strides in training set:\n",
      " MS     341\n",
      "HOA    334\n",
      "PD     333\n",
      "Name: cohort, dtype: int64\n",
      "\n",
      "Strides in test set:  1016\n",
      "HOA, MS and PD strides in test set:\n",
      " HOA    351\n",
      "PD     333\n",
      "MS     332\n",
      "Name: cohort, dtype: int64\n",
      "Imbalance ratio (controls:MS:PD)= 1:X:Y\n",
      " HOA    1.000000\n",
      "PD     0.948718\n",
      "MS     0.945869\n",
      "Name: cohort, dtype: float64\n"
     ]
    }
   ],
   "source": [
    "#Trial W for training \n",
    "trialW = data[data['scenario']=='W']\n",
    "#Trial WT for testing \n",
    "trialWT = data[data['scenario']=='WT']\n",
    "\n",
    "#Trial W and WT after making sure both training and testing sets have common subjects \n",
    "trialW_reduced, trialWT_reduced = keep_subjects_common_across_train_test(trialW, trialWT)\n",
    "# print ('Number of subjects in training and test sets after reduction:', len(trialW_reduced['PID'].unique()), \\\n",
    "#            len(trialWT_reduced['PID'].unique()))\n",
    "print ('Training set (trial W):', trialW_reduced.groupby(['cohort'])['PID'].value_counts())\n",
    "print ('Testing set (trial WT):', trialWT_reduced.groupby(['cohort'])['PID'].value_counts())\n",
    "cols_to_drop = ['PID', 'key', 'cohort', 'trial', 'scenario', 'video', 'stride_number', 'label']\n",
    "#Shuffling the training stride data\n",
    "trialW_reduced = shuffle(trialW_reduced, random_state = 0)\n",
    "trainX = trialW_reduced.drop(cols_to_drop, axis = 1)\n",
    "trainY = trialW_reduced[['PID', 'label']]\n",
    "print ('Training shape', trainX.shape, trainY.shape)\n",
    "\n",
    "#Shuffling the testing stride data \n",
    "trialWT_reduced = shuffle(trialWT_reduced, random_state = 0)\n",
    "testX = trialWT_reduced.drop(cols_to_drop, axis = 1)\n",
    "testY = trialWT_reduced[['PID', 'label']] #PID to compute person based metrics later \n",
    "print ('Testing shape', testX.shape, testY.shape)\n",
    "\n",
    "#Normalize according to z-score standardization\n",
    "norm_mean, norm_sd = normalize(trainX, 'z')\n",
    "trainX_norm = (trainX-norm_mean)/norm_sd\n",
    "testX_norm = (testX-norm_mean)/norm_sd\n",
    "\n",
    "#Total strides and imbalance of labels in the training and testing set\n",
    "#Training set \n",
    "print('Strides in training set: ', len(trialW_reduced))\n",
    "print ('HOA, MS and PD strides in training set:\\n', trialW_reduced['cohort'].value_counts())\n",
    "\n",
    "#Test Set\n",
    "print('\\nStrides in test set: ', len(trialWT_reduced)) \n",
    "print ('HOA, MS and PD strides in test set:\\n', trialWT_reduced['cohort'].value_counts())\n",
    "print ('Imbalance ratio (controls:MS:PD)= 1:X:Y\\n', trialWT_reduced['cohort'].value_counts()/trialWT_reduced['cohort'].value_counts()['HOA'])\n",
    "\n",
    "framework = 'WtoWT' #Defining the task generalization framework of interest"
   ]
  },
  {
   "cell_type": "code",
   "execution_count": 4,
   "metadata": {},
   "outputs": [
    {
     "data": {
      "text/plain": [
       "array([212, 213, 214, 215, 216, 217, 218, 219, 310, 311, 312, 313, 314,\n",
       "       318, 320, 321, 322, 323, 404, 405, 406, 407, 408, 409, 410, 411,\n",
       "       102, 112, 113, 115, 123, 124], dtype=int64)"
      ]
     },
     "execution_count": 4,
     "metadata": {},
     "output_type": "execute_result"
    }
   ],
   "source": [
    "trialW['PID'].unique()"
   ]
  },
  {
   "cell_type": "code",
   "execution_count": 5,
   "metadata": {
    "scrolled": true
   },
   "outputs": [],
   "source": [
    "save_results = False\n",
    "# ml_models = ['logistic_regression']\n",
    "ml_models = ['logistic_regression', 'random_forest', 'adaboost', 'kernel_svm', 'gbm', 'xgboost', 'knn', 'decision_tree',  \\\n",
    "             'linear_svm', 'mlp']\n",
    "metrics = pd.DataFrame(columns = ml_models) #Dataframe to store accuracies for each ML model for raw data \n",
    "\n",
    "#For storing predicted probabilities for person (for all classes HOA/MS/PD) to show ROC curves \n",
    "predicted_probs_person = pd.DataFrame(columns = [ml_model + cohort for ml_model in ml_models for cohort in ['_HOA', '_MS', '_PD'] ]) "
   ]
  },
  {
   "cell_type": "code",
   "execution_count": null,
   "metadata": {
    "scrolled": true
   },
   "outputs": [
    {
     "name": "stdout",
     "output_type": "stream",
     "text": [
      "logistic_regression\n",
      "Stride-based model performance (Macro):  0.7795275590551181 0.783083460435621 0.7781255150733063 0.7781961603260857 0.911542459289001\n",
      "Stride-based model performance (Micro):  0.7795275590551181 0.7795275590551181 0.7795275590551181 0.7795275590551181 None\n",
      "Stride-based model performance (Weighted):  0.7795275590551181 0.7823036991939775 0.7795275590551181 0.7784783609010044 0.9116939490673601\n",
      "Stride-based model performance (Class-wise):  0.7795275590551181 [0.7382716  0.76870748 0.84227129] [0.85185185 0.68072289 0.8018018 ] [0.79100529 0.72204473 0.82153846] None\n",
      "LogisticRegression(random_state=0)\n",
      "Person-based model performance (Macro):  0.92 0.9333333333333332 0.9259259259259259 0.9212962962962964 1.0\n",
      "Person-based model performance (Micro):  0.92 0.92 0.92 0.92 None\n",
      "Person-based model performance (Weighted):  0.92 0.9359999999999999 0.92 0.9194444444444446 1.0\n",
      "Person-based model performance (Class-wise):  0.92 [0.8 1.  1. ] [1.         0.77777778 1.        ] [0.88888889 0.875      1.        ] None\n"
     ]
    },
    {
     "data": {
      "image/png": "[encoded data removed]",
      "text/plain": [
       "<Figure size 432x288 with 2 Axes>"
      ]
     },
     "metadata": {
      "needs_background": "light"
     },
     "output_type": "display_data"
    },
    {
     "data": {
      "image/png": "[encoded data removed]",
      "text/plain": [
       "<Figure size 432x288 with 2 Axes>"
      ]
     },
     "metadata": {
      "needs_background": "light"
     },
     "output_type": "display_data"
    },
    {
     "name": "stdout",
     "output_type": "stream",
     "text": [
      "********************************\n",
      "random_forest\n"
     ]
    }
   ],
   "source": [
    "for ml_model in ml_models:\n",
    "    print (ml_model)\n",
    "    predict_probs_person, stride_person_metrics = models(trainX_norm, trainY, testX_norm, testY, ml_model, framework, results_path, save_results)  \n",
    "    metrics[ml_model] = stride_person_metrics\n",
    "    predicted_probs_person[ml_model+'_HOA'] = predict_probs_person[0]\n",
    "    predicted_probs_person[ml_model+'_MS'] = predict_probs_person[1]\n",
    "    predicted_probs_person[ml_model+'_PD'] = predict_probs_person[2]\n",
    "    print ('********************************')\n",
    "\n",
    "metrics.index = ['stride_accuracy', 'stride_precision_macro', 'stride_precision_micro', 'stride_precision_weighted', \\\n",
    "                 'stride_precision_class_wise', 'stride_recall_macro', 'stride_recall_micro', \\\n",
    "                 'stride_recall_weighted', 'stride_recall_class_wise', \\\n",
    "                 'stride_F1_macro', 'stride_F1_micro', 'stride_F1_weighted', 'stride_F1_class_wise', \\\n",
    "                 'stride_AUC_macro', 'stride_AUC_micro', 'stride_AUC_weighted',\\\n",
    "                 'stride_AUC_class_wise', 'person_accuracy', 'person_precision_macro', 'person_precision_micro', \\\n",
    "                 'person_precision_weighted', \\\n",
    "                 'person_precision_class_wise', 'person_recall_macro', 'person_recall_micro', \\\n",
    "                 'person_recall_weighted', 'person_recall_class_wise', \\\n",
    "                 'person_F1_macro', 'person_F1_micro', 'person_F1_weighted', 'person_F1_class_wise', \\\n",
    "                 'person_AUC_macro', 'person_AUC_micro', 'person_AUC_weighted', 'person_AUC_class_wise']  \n",
    "if save_results:\n",
    "    metrics.to_csv(results_path+ framework+ '\\\\task_generalize_'+framework+'_result_metrics.csv')\n",
    "    predicted_probs_person.to_csv(results_path +framework+ '\\\\task_generalize_'+framework+'_prediction_probs.csv')"
   ]
  },
  {
   "cell_type": "code",
   "execution_count": null,
   "metadata": {},
   "outputs": [],
   "source": [
    "metrics"
   ]
  },
  {
   "cell_type": "code",
   "execution_count": null,
   "metadata": {
    "scrolled": true
   },
   "outputs": [],
   "source": [
    "plot_ROC(ml_models, testY, predicted_probs_person, framework, results_path, save_results)"
   ]
  },
  {
   "cell_type": "code",
   "execution_count": null,
   "metadata": {},
   "outputs": [],
   "source": []
  },
  {
   "cell_type": "markdown",
   "metadata": {},
   "source": [
    "###  Task generalization framework 2: train on virtual beam walking (VBW) and test on virtual beam walking while talking (VBWT) with traditional ML algorithms to classify strides and subjects in HOA/MS/PD groups"
   ]
  },
  {
   "cell_type": "code",
   "execution_count": null,
   "metadata": {},
   "outputs": [],
   "source": [
    "#Trial VBW for training \n",
    "trialVBW = data[data['scenario']=='SLW']\n",
    "#Trial VBWT for testing \n",
    "trialVBWT = data[data['scenario']=='SLWT']\n",
    "\n",
    "#Trial VBW and VBWT after making sure both training and testing sets have common subjects \n",
    "trialVBW_reduced, trialVBWT_reduced = keep_subjects_common_across_train_test(trialVBW, trialVBWT)\n",
    "# print ('Number of subjects in training and test sets after reduction:', len(trialW_reduced['PID'].unique()), \\\n",
    "#            len(trialWT_reduced['PID'].unique()))\n",
    "\n",
    "cols_to_drop = ['PID', 'key', 'cohort', 'trial', 'scenario', 'video', 'stride_number', 'label']\n",
    "#Shuffling the training stride data\n",
    "trialVBW_reduced = shuffle(trialVBW_reduced, random_state = 0)\n",
    "trainX_VBW = trialVBW_reduced.drop(cols_to_drop, axis = 1)\n",
    "trainY_VBW = trialVBW_reduced[['PID', 'label']]\n",
    "print ('Training shape', trainX_VBW.shape, trainY_VBW.shape)\n",
    "\n",
    "#Shuffling the testing stride data \n",
    "trialVBWT_reduced = shuffle(trialVBWT_reduced, random_state = 0)\n",
    "testX_VBWT = trialVBWT_reduced.drop(cols_to_drop, axis = 1)\n",
    "testY_VBWT = trialVBWT_reduced[['PID', 'label']] #PID to compute person based metrics later \n",
    "print ('Testing shape', testX_VBWT.shape, testY_VBWT.shape)\n",
    "\n",
    "#Normalize according to z-score standardization\n",
    "norm_mean_VB, norm_sd_VB = normalize(trainX_VBW, 'z')\n",
    "trainX_norm_VBW = (trainX_VBW-norm_mean_VB)/norm_sd_VB\n",
    "testX_norm_VBWT = (testX_VBWT-norm_mean_VB)/norm_sd_VB\n",
    "\n",
    "#Total strides and imbalance of labels in the training and testing set\n",
    "#Training set \n",
    "print('Strides in training set: ', len(trialVBW_reduced))\n",
    "print ('HOA, MS and PD strides in training set:\\n', trialVBW_reduced['cohort'].value_counts())\n",
    "\n",
    "#Test Set\n",
    "print('\\nStrides in test set: ', len(trialVBWT_reduced)) \n",
    "print ('HOA, MS and PD strides in test set:\\n', trialVBWT_reduced['cohort'].value_counts())\n",
    "print ('Imbalance ratio (controls:MS:PD)= 1:X:Y\\n', trialVBWT_reduced['cohort'].value_counts()/trialVBWT_reduced['cohort'].value_counts()['HOA'])\n",
    "\n",
    "framework = 'VBWtoVBWT' #Defining the task generalization framework of interest"
   ]
  },
  {
   "cell_type": "code",
   "execution_count": null,
   "metadata": {},
   "outputs": [],
   "source": [
    "ml_models = ['random_forest', 'adaboost', 'kernel_svm', 'gbm', 'xgboost', 'knn', 'decision_tree',  'linear_svm', \n",
    "             'logistic_regression', 'mlp']\n",
    "metrics_VB = pd.DataFrame(columns = ml_models) #Dataframe to store accuracies for each ML model for raw data \n",
    "#For storing predicted probabilities for person (for classes HOA/MS/PD) to show ROC curves \n",
    "predicted_probs_person_VB = pd.DataFrame(columns = [ml_model + cohort for ml_model in ml_models for cohort in ['_HOA', '_MS', '_PD'] ]) "
   ]
  },
  {
   "cell_type": "code",
   "execution_count": null,
   "metadata": {
    "scrolled": true
   },
   "outputs": [],
   "source": [
    "for ml_model in ml_models:\n",
    "    print (ml_model)\n",
    "    predict_probs_person_VB, stride_person_metrics_VB = models(trainX_norm_VBW, trainY_VBW, testX_norm_VBWT, testY_VBWT, ml_model, \\\n",
    "                                                              framework, results_path, save_results)\n",
    "    metrics_VB[ml_model] = stride_person_metrics_VB\n",
    "    predicted_probs_person_VB[ml_model+'_HOA'] = predict_probs_person_VB[0]\n",
    "    predicted_probs_person_VB[ml_model+'_MS'] = predict_probs_person_VB[1]\n",
    "    predicted_probs_person_VB[ml_model+'_PD'] = predict_probs_person_VB[2]\n",
    "    print ('********************************')\n",
    "\n",
    "metrics_VB.index = ['stride_accuracy', 'stride_precision_macro', 'stride_precision_micro', 'stride_precision_weighted', \\\n",
    "                 'stride_precision_class_wise', 'stride_recall_macro', 'stride_recall_micro', \\\n",
    "                 'stride_recall_weighted', 'stride_recall_class_wise', \\\n",
    "                 'stride_F1_macro', 'stride_F1_micro', 'stride_F1_weighted', 'stride_F1_class_wise', \\\n",
    "                 'stride_AUC_macro', 'stride_AUC_micro', 'stride_AUC_weighted',\\\n",
    "                 'stride_AUC_class_wise', 'person_accuracy', 'person_precision_macro', 'person_precision_micro', \\\n",
    "                 'person_precision_weighted', \\\n",
    "                 'person_precision_class_wise', 'person_recall_macro', 'person_recall_micro', \\\n",
    "                 'person_recall_weighted', 'person_recall_class_wise', \\\n",
    "                 'person_F1_macro', 'person_F1_micro', 'person_F1_weighted', 'person_F1_class_wise', \\\n",
    "                 'person_AUC_macro', 'person_AUC_micro', 'person_AUC_weighted', 'person_AUC_class_wise']  \n",
    "if save_results:\n",
    "    metrics_VB.to_csv(results_path+ framework+ '\\\\task_generalize_'+framework+'_result_metrics.csv')\n",
    "    predicted_probs_person_VB.to_csv(results_path+framework+'\\\\task_generalize_'+framework+'_prediction_probs.csv')"
   ]
  },
  {
   "cell_type": "code",
   "execution_count": null,
   "metadata": {},
   "outputs": [],
   "source": [
    "metrics_VB"
   ]
  },
  {
   "cell_type": "code",
   "execution_count": null,
   "metadata": {
    "scrolled": true
   },
   "outputs": [],
   "source": [
    "#ROC \n",
    "plot_ROC(ml_models, testY_VBWT, predicted_probs_person_VB, framework, results_path, save_results)"
   ]
  },
  {
   "cell_type": "code",
   "execution_count": null,
   "metadata": {},
   "outputs": [],
   "source": [
    "#Confusion matrices - Done\n",
    "#micro/macro/weighted metric scores \n",
    "#Why is AUC 1 for low accuracy"
   ]
  }
 ],
 "metadata": {
  "kernelspec": {
   "display_name": "Python 3",
   "language": "python",
   "name": "python3"
  },
  "language_info": {
   "codemirror_mode": {
    "name": "ipython",
    "version": 3
   },
   "file_extension": ".py",
   "mimetype": "text/x-python",
   "name": "python",
   "nbconvert_exporter": "python",
   "pygments_lexer": "ipython3",
   "version": "3.7.3"
  }
 },
 "nbformat": 4,
 "nbformat_minor": 4
}
