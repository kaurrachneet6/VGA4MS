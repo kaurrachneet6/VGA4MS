{
 "cells": [
  {
   "cell_type": "markdown",
   "metadata": {},
   "source": [
    "## Gait Video Study \n",
    "### Validating the estimated 3D poses via CoP computed on the treadmill \n",
    "### This code qualitatively and quantitatively validates the centroid of base of support of the estimated body coordinates with their respective treadmill extracted CoP's on a frame-wise or support group-wise basis\n",
    "\n",
    "We will do qualitative and quantitative validation for CoP and centroid of BoS. \n",
    "* In this code, we will compile the quantitative results of distances and correlations between CoPs and centroids for each cohort, trial (W/WT) and support type (Single/Double). \n",
    "* Further, we will plot the butterfly diagrams for CoPs and centroids to qualitatively vizualize how treadmill CoPs match with BoS's centroid values. \n",
    "* We need to select one method of analysis out of shift approach and excursion approach.\n",
    "* We need to collect statistics of our CoP validation analysis to put in the manuscript. "
   ]
  },
  {
   "cell_type": "code",
   "execution_count": null,
   "metadata": {},
   "outputs": [],
   "source": [
    "from importlib import reload\n",
    "from ml_utils import imports \n",
    "reload(imports)\n",
    "from ml_utils.imports import *"
   ]
  },
  {
   "cell_type": "code",
   "execution_count": null,
   "metadata": {},
   "outputs": [],
   "source": []
  }
 ],
 "metadata": {
  "kernelspec": {
   "display_name": "Python 3",
   "language": "python",
   "name": "python3"
  },
  "language_info": {
   "codemirror_mode": {
    "name": "ipython",
    "version": 3
   },
   "file_extension": ".py",
   "mimetype": "text/x-python",
   "name": "python",
   "nbconvert_exporter": "python",
   "pygments_lexer": "ipython3",
   "version": "3.7.3"
  }
 },
 "nbformat": 4,
 "nbformat_minor": 4
}
