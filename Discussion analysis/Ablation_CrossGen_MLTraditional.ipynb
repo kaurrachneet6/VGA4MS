{
 "cells": [
  {
   "cell_type": "markdown",
   "id": "pretty-settlement",
   "metadata": {},
   "source": [
    "## Gait Video Project\n",
    "### Ablation Study on Cross generalization framework with Traditional ML models only \n",
    "We will explore the performance of using feet coordinates only, feet + ankle coordinates, feet + ankle + knee coordinates and all (feet + ankle + knee + hip) coordinates on the traditional ML models "
   ]
  },
  {
   "cell_type": "code",
   "execution_count": null,
   "id": "ready-smooth",
   "metadata": {},
   "outputs": [],
   "source": []
  }
 ],
 "metadata": {
  "kernelspec": {
   "display_name": "Python 3",
   "language": "python",
   "name": "python3"
  },
  "language_info": {
   "codemirror_mode": {
    "name": "ipython",
    "version": 3
   },
   "file_extension": ".py",
   "mimetype": "text/x-python",
   "name": "python",
   "nbconvert_exporter": "python",
   "pygments_lexer": "ipython3",
   "version": "3.7.3"
  }
 },
 "nbformat": 4,
 "nbformat_minor": 5
}
