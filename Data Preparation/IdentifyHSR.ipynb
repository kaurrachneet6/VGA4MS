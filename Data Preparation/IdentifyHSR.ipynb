{
 "cells": [
  {
   "cell_type": "markdown",
   "metadata": {},
   "source": [
    "## Gait Video Study \n",
    "### Identifying frames with HSRs in each video for each cohort and trial to establish break points and also evaluate the corresponding HSR labelling via the ground truth available. Further, downsample with smoothing to define fixed shape of the input tensor for models. \n",
    "#### Remember to preserve the original count of frames in a single stride (before down sampling via smoothing) for each stride to add as an additional artificial feature later to add information about speed of the subject to the model"
   ]
  },
  {
   "cell_type": "code",
   "execution_count": 1,
   "metadata": {},
   "outputs": [],
   "source": [
    "import numpy as np\n",
    "import cv2\n",
    "import os\n",
    "import glob\n",
    "%matplotlib widget\n",
    "import matplotlib.pyplot as plt\n",
    "import pandas as pd\n",
    "import time\n",
    "import shutil\n",
    "import scipy\n",
    "from scipy import signal\n",
    "from scipy.signal import lfilter, firwin, filtfilt, find_peaks, argrelextrema\n",
    "import warnings\n",
    "warnings.filterwarnings(\"ignore\")\n",
    "from IPython.display import display, HTML"
   ]
  },
  {
   "cell_type": "code",
   "execution_count": 2,
   "metadata": {},
   "outputs": [],
   "source": [
    "path = 'C:\\\\Users\\\\purpl\\\\Box\\\\Gait Video Project\\\\GaitVideoData\\\\video\\\\frame_data'\n",
    "frame_path_merged = 'C:\\\\Users\\\\purpl\\\\Box\\\\Gait Video Project\\\\GaitVideoData\\\\video\\\\multi_view_merged_data\\\\'\n",
    "\n",
    "#Configuration for which to run the code for \n",
    "cohorts = ['\\\\HOA', '\\\\MS', '\\\\PD', '\\\\ExtraHOA']\n",
    "trials = ['\\\\beam_walking', '\\\\walking']\n",
    "cameras = ['\\\\feet\\\\', '\\\\lower_body\\\\']\n",
    "\n",
    "order = ['right hip', 'right knee', 'right ankle', 'left hip', 'left knee', 'left ankle', 'left toe 1', 'left toe 2', \\\n",
    "         'left heel', 'right toe 1', 'right toe 2', 'right heel']"
   ]
  },
  {
   "cell_type": "markdown",
   "metadata": {},
   "source": [
    "### Utility functions "
   ]
  },
  {
   "cell_type": "code",
   "execution_count": null,
   "metadata": {},
   "outputs": [],
   "source": []
  },
  {
   "cell_type": "code",
   "execution_count": 3,
   "metadata": {
    "scrolled": true
   },
   "outputs": [],
   "source": [
    "#Saving the HSRframes.txt file to the hip_height_normalized\\\\ containing the final .csvs for analysis\n",
    "# for cohort in cohorts:\n",
    "#     for trial in trials:\n",
    "#         merged_path = frame_path_merged+cohort+trial \n",
    "#         if (os.path.exists(merged_path)):\n",
    "#             videos = os.listdir(merged_path)\n",
    "# #             print (len(videos))\n",
    "#         for video in videos:\n",
    "#             print (glob.glob(path+cohort+trial+'\\\\feet\\\\'+'Inked'+video+'_0_Trim'))\n",
    "#             try:\n",
    "#                 if (not os.path.exists(merged_path+'\\\\'+video+'\\\\HSRframes.txt')):\n",
    "#                     HSR_frames_file = path+cohort+trial+'\\\\feet\\\\'+'Inked'+video+'_0_Trim'+'\\\\HSRframes.txt'\n",
    "#                     shutil.copy(HSR_frames_file, merged_path+'\\\\'+video+'\\\\hip_height_normalized\\\\') \n",
    "#                     print ('HSR for', video, 'copied')\n",
    "#                 else:\n",
    "#                     print ('HSR for', video, 'exists')\n",
    "#             except Exception as e:\n",
    "#                 print (e)"
   ]
  },
  {
   "cell_type": "code",
   "execution_count": 4,
   "metadata": {
    "scrolled": true
   },
   "outputs": [],
   "source": [
    "#Function to plot the given feature across frames of a video and the corresponding ground truth HSRs\n",
    "def plot_true_HSR(signal, index, HSRindices, video, name, peaks = None):\n",
    "    fig= plt.figure(figsize = (8.5, 3))\n",
    "    ax1 = fig.add_subplot(111)\n",
    "    ax1.plot(index, signal, color = 'b', ls='solid', marker='*', \\\n",
    "            markerfacecolor = 'r', markeredgecolor = 'r', ms = 10, markevery= HSRindices, label = 'true HSR')\n",
    "    if peaks is not None:\n",
    "        ax1.plot(index[peaks], signal[peaks], 'go', ms = 4, alpha = 0.5)\n",
    "    plt.xticks(index[0::40], fontsize = 8)\n",
    "    plt.legend()\n",
    "    plt.title(name)\n",
    "    plt.show()\n",
    "    if not os.path.exists('HSR_detection_figs\\\\'+ video):\n",
    "        os.mkdir('HSR_detection_figs\\\\'+ video)\n",
    "    plt.savefig('HSR_detection_figs\\\\'+ video+ '\\\\' + video+ '_'+ name + '.png', dpi = 250)\n",
    "#     append = np.append(ax.get_xticks(), trueHSR_list)\n",
    "#     # ax.set_xticks(trueHSR_list)\n",
    "#     # ax.set_xticks(temp.index)\n",
    "#     plt.show()"
   ]
  },
  {
   "cell_type": "code",
   "execution_count": 5,
   "metadata": {},
   "outputs": [],
   "source": [
    "def plots(identification_feature, series, series_complete, trueHSR_indices, trueHSR_indices_complete, video):\n",
    "    print (series.isna().sum(), series_complete.isna().sum())\n",
    "    plot_true_HSR(series.values, series.index, trueHSR_indices, video, identification_feature)\n",
    "    \n",
    "    #Filtering the series     \n",
    "    a = signal.firwin(5, cutoff = 0.2, window = \"hamming\") \n",
    "    #Low pass filter with window length of 5 and cutoff frequency \n",
    "    fir_series = signal.lfilter(a, [1.0], series.values)\n",
    "    #Identifying local maximum \n",
    "    peaks, _ = find_peaks(-fir_series, distance = 30) #Assuming that HSRs are atleast 30 frames apart (i.e. atleast a second apart)\n",
    "    print ('trueHSR_indices', len(trueHSR_indices), trueHSR_indices)\n",
    "    print ('peaks', len(peaks), peaks)\n",
    "\n",
    "    #Plotting the right heel height (not containing placeholders for the missing frames) and ground truth HSR \n",
    "    plot_true_HSR(fir_series, series.index, trueHSR_indices, video, 'filtered '+ identification_feature, peaks)\n",
    "\n",
    "#     #Plotting the filterd signal (not containing placeholders for the missing frames) and ground truth HSR \n",
    "#     filtered_values = signal.savgol_filter(series.values, window_length = 5, polyorder=3, deriv = 1)\n",
    "#     plot_true_HSR(filtered_values, series.index, trueHSR_indices, video, 'filtered '+identification_feature)\n",
    "\n",
    "#     #Plotting the right heel height (containing placeholders for the missing frames) and ground truth HSR \n",
    "#     plot_true_HSR(series_complete.values, series_complete.index, trueHSR_indices_complete, video, \\\n",
    "#                   'complete '+identification_feature)\n",
    "\n",
    "#     #Plotting the filterd signal (containing placeholders for the missing frames) and ground truth HSR \n",
    "#     filtered_values_complete = signal.savgol_filter(series_complete.values, \\\n",
    "#                                                     window_length = 11, polyorder=3)\n",
    "#     plot_true_HSR(filtered_values_complete, series_complete.index, trueHSR_indices_complete, video, \\\n",
    "#                   'filtered complete '+identification_feature)\n",
    "    return peaks "
   ]
  },
  {
   "cell_type": "code",
   "execution_count": 6,
   "metadata": {},
   "outputs": [],
   "source": [
    "def compute_error_HSR(peaks, trueHSR_indices):\n",
    "    abs_error_indices = [np.argmin(abs(i-trueHSR_indices)) for i in peaks]\n",
    "    error = [i-trueHSR_indices[j] for i, j in zip(peaks, abs_error_indices)]\n",
    "    abs_error = list(map(abs, error))\n",
    "    error_stats = [np.mean(error), np.std(error), np.mean(abs_error), np.std(abs_error)]\n",
    "    return error_stats"
   ]
  },
  {
   "cell_type": "code",
   "execution_count": 7,
   "metadata": {},
   "outputs": [],
   "source": [
    "def feature_plots(video_features, video_features_complete):\n",
    "    #Right Heel Height \n",
    "    series = video_features['right heel-z']\n",
    "    series_complete = video_features_complete['right heel-z']\n",
    "    peaks = plots('right heel-z', series, series_complete, trueHSR_indices, trueHSR_indices_complete, video)\n",
    "    heel_error_stats = compute_error_HSR(peaks, trueHSR_indices)\n",
    "\n",
    "    #Right Toe 1 height \n",
    "    series = video_features['right toe 1-z']\n",
    "    series_complete = video_features_complete['right toe 1-z']\n",
    "    peaks = plots('right toe 1-z', series, series_complete, trueHSR_indices, trueHSR_indices_complete, video)\n",
    "    toe1_error_stats = compute_error_HSR(peaks, trueHSR_indices)\n",
    "    \n",
    "    #Right Toe 2 height \n",
    "    series = video_features['right toe 2-z']\n",
    "    series_complete = video_features_complete['right toe 2-z']\n",
    "    peaks = plots('right toe 2-z', series, series_complete, trueHSR_indices, trueHSR_indices_complete, video)\n",
    "    toe2_error_stats = compute_error_HSR(peaks, trueHSR_indices)\n",
    "    return heel_error_stats, toe1_error_stats, toe2_error_stats    "
   ]
  },
  {
   "cell_type": "code",
   "execution_count": 8,
   "metadata": {
    "scrolled": true
   },
   "outputs": [
    {
     "name": "stdout",
     "output_type": "stream",
     "text": [
      "GVS_212_T_T1\n",
      "[37, 94, 149, 202, 247, 288, 327, 361, 395, 434, 472, 512, 557, 599, 638, 681, 727, 773, 818, 864, 909, 953, 996, 1036, 1074, 1111, 1148, 1184, 1218, 1254, 1289, 1322, 1356, 1391, 1423, 1455, 1491, 1523, 1556, 1591, 1624, 1658, 1692, 1726]\n",
      "0 9\n"
     ]
    },
    {
     "data": {
      "application/vnd.jupyter.widget-view+json": {
       "model_id": "1a106eae9c954f12824403724e8a5a72",
       "version_major": 2,
       "version_minor": 0
      },
      "text/plain": [
       "Canvas(toolbar=Toolbar(toolitems=[('Home', 'Reset original view', 'home', 'home'), ('Back', 'Back to previous …"
      ]
     },
     "metadata": {},
     "output_type": "display_data"
    },
    {
     "name": "stdout",
     "output_type": "stream",
     "text": [
      "trueHSR_indices 43 [36, 93, 148, 201, 246, 287, 326, 360, 394, 433, 471, 511, 552, 594, 633, 676, 722, 768, 812, 857, 902, 946, 989, 1029, 1067, 1104, 1141, 1177, 1211, 1247, 1282, 1315, 1349, 1384, 1416, 1448, 1484, 1516, 1549, 1584, 1617, 1651, 1684]\n",
      "peaks 44 [  11   56   95  151  204  248  288  328  375  431  477  522  556  608\n",
      "  645  679  723  785  816  858  905  948  990 1030 1070 1105 1142 1178\n",
      " 1212 1248 1282 1318 1352 1384 1417 1450 1487 1519 1551 1584 1619 1652\n",
      " 1687 1719]\n"
     ]
    },
    {
     "data": {
      "application/vnd.jupyter.widget-view+json": {
       "model_id": "c9db17759aa741f787e0d73dd13b0180",
       "version_major": 2,
       "version_minor": 0
      },
      "text/plain": [
       "Canvas(toolbar=Toolbar(toolitems=[('Home', 'Reset original view', 'home', 'home'), ('Back', 'Back to previous …"
      ]
     },
     "metadata": {},
     "output_type": "display_data"
    },
    {
     "name": "stdout",
     "output_type": "stream",
     "text": [
      "0 9\n"
     ]
    },
    {
     "data": {
      "application/vnd.jupyter.widget-view+json": {
       "model_id": "01e4d1ba259c454d91596352705ae25d",
       "version_major": 2,
       "version_minor": 0
      },
      "text/plain": [
       "Canvas(toolbar=Toolbar(toolitems=[('Home', 'Reset original view', 'home', 'home'), ('Back', 'Back to previous …"
      ]
     },
     "metadata": {},
     "output_type": "display_data"
    },
    {
     "name": "stdout",
     "output_type": "stream",
     "text": [
      "trueHSR_indices 43 [36, 93, 148, 201, 246, 287, 326, 360, 394, 433, 471, 511, 552, 594, 633, 676, 722, 768, 812, 857, 902, 946, 989, 1029, 1067, 1104, 1141, 1177, 1211, 1247, 1282, 1315, 1349, 1384, 1416, 1448, 1484, 1516, 1549, 1584, 1617, 1651, 1684]\n",
      "peaks 44 [  20   52  104  147  204  245  300  334  368  402  444  475  510  557\n",
      "  595  645  692  734  781  828  868  916  958  997 1037 1072 1103 1151\n",
      " 1185 1224 1255 1289 1326 1361 1415 1454 1491 1526 1561 1591 1626 1658\n",
      " 1691 1725]\n"
     ]
    },
    {
     "data": {
      "application/vnd.jupyter.widget-view+json": {
       "model_id": "e850f25d58c54a38ac584f309aae3ce0",
       "version_major": 2,
       "version_minor": 0
      },
      "text/plain": [
       "Canvas(toolbar=Toolbar(toolitems=[('Home', 'Reset original view', 'home', 'home'), ('Back', 'Back to previous …"
      ]
     },
     "metadata": {},
     "output_type": "display_data"
    },
    {
     "name": "stdout",
     "output_type": "stream",
     "text": [
      "0 9\n"
     ]
    },
    {
     "data": {
      "application/vnd.jupyter.widget-view+json": {
       "model_id": "989092af864e445db718f626daf9cfce",
       "version_major": 2,
       "version_minor": 0
      },
      "text/plain": [
       "Canvas(toolbar=Toolbar(toolitems=[('Home', 'Reset original view', 'home', 'home'), ('Back', 'Back to previous …"
      ]
     },
     "metadata": {},
     "output_type": "display_data"
    },
    {
     "name": "stdout",
     "output_type": "stream",
     "text": [
      "trueHSR_indices 43 [36, 93, 148, 201, 246, 287, 326, 360, 394, 433, 471, 511, 552, 594, 633, 676, 722, 768, 812, 857, 902, 946, 989, 1029, 1067, 1104, 1141, 1177, 1211, 1247, 1282, 1315, 1349, 1384, 1416, 1448, 1484, 1516, 1549, 1584, 1617, 1651, 1684]\n",
      "peaks 44 [  11   49   88  150  205  247  288  327  361  395  430  477  539  604\n",
      "  645  677  723  767  815  859  905  947  989 1030 1069 1106 1142 1178\n",
      " 1213 1249 1283 1318 1351 1384 1417 1450 1487 1518 1552 1585 1619 1652\n",
      " 1687 1719]\n"
     ]
    },
    {
     "data": {
      "application/vnd.jupyter.widget-view+json": {
       "model_id": "a43b51bcfca9478881af32ec0de3886a",
       "version_major": 2,
       "version_minor": 0
      },
      "text/plain": [
       "Canvas(toolbar=Toolbar(toolitems=[('Home', 'Reset original view', 'home', 'home'), ('Back', 'Back to previous …"
      ]
     },
     "metadata": {},
     "output_type": "display_data"
    },
    {
     "name": "stdout",
     "output_type": "stream",
     "text": [
      "GVS_212_T_T2\n",
      "[15, 69, 123, 173, 225, 275, 320, 364, 412, 455, 500, 543, 588, 631, 668, 710, 750, 789, 826, 864, 902, 940, 978, 1015, 1052, 1090, 1126, 1162, 1198, 1234, 1268, 1304, 1339, 1372, 1405, 1440, 1474, 1506, 1539, 1571, 1604, 1638, 1670, 1703, 1736]\n",
      "0 10\n"
     ]
    },
    {
     "data": {
      "application/vnd.jupyter.widget-view+json": {
       "model_id": "9a992f0fcbf94245a4c2288a6cf9d197",
       "version_major": 2,
       "version_minor": 0
      },
      "text/plain": [
       "Canvas(toolbar=Toolbar(toolitems=[('Home', 'Reset original view', 'home', 'home'), ('Back', 'Back to previous …"
      ]
     },
     "metadata": {},
     "output_type": "display_data"
    },
    {
     "name": "stdout",
     "output_type": "stream",
     "text": [
      "trueHSR_indices 45 [14, 68, 121, 171, 223, 272, 316, 359, 407, 450, 495, 537, 581, 624, 661, 703, 743, 782, 819, 857, 895, 932, 970, 1007, 1043, 1081, 1117, 1153, 1189, 1225, 1259, 1295, 1330, 1363, 1396, 1431, 1465, 1497, 1530, 1562, 1594, 1628, 1660, 1693, 1726]\n",
      "peaks 45 [   6   36   90  125  193  227  282  330  361  405  461  495  540  582\n",
      "  625  665  719  760  821  861  897  935  974 1010 1046 1085 1119 1157\n",
      " 1192 1226 1264 1298 1335 1369 1400 1438 1471 1503 1535 1572 1602 1634\n",
      " 1668 1699 1733]\n"
     ]
    },
    {
     "data": {
      "application/vnd.jupyter.widget-view+json": {
       "model_id": "c0dd27652c214b3191239a3f7c165866",
       "version_major": 2,
       "version_minor": 0
      },
      "text/plain": [
       "Canvas(toolbar=Toolbar(toolitems=[('Home', 'Reset original view', 'home', 'home'), ('Back', 'Back to previous …"
      ]
     },
     "metadata": {},
     "output_type": "display_data"
    },
    {
     "name": "stdout",
     "output_type": "stream",
     "text": [
      "0 10\n"
     ]
    },
    {
     "data": {
      "application/vnd.jupyter.widget-view+json": {
       "model_id": "30a60ae0f1d14fc59be36e6081c9e0b0",
       "version_major": 2,
       "version_minor": 0
      },
      "text/plain": [
       "Canvas(toolbar=Toolbar(toolitems=[('Home', 'Reset original view', 'home', 'home'), ('Back', 'Back to previous …"
      ]
     },
     "metadata": {},
     "output_type": "display_data"
    },
    {
     "name": "stdout",
     "output_type": "stream",
     "text": [
      "trueHSR_indices 45 [14, 68, 121, 171, 223, 272, 316, 359, 407, 450, 495, 537, 581, 624, 661, 703, 743, 782, 819, 857, 895, 932, 970, 1007, 1043, 1081, 1117, 1153, 1189, 1225, 1259, 1295, 1330, 1363, 1396, 1431, 1465, 1497, 1530, 1562, 1594, 1628, 1660, 1693, 1726]\n",
      "peaks 45 [  30   66  120  190  243  289  329  371  422  464  507  537  579  635\n",
      "  665  712  755  794  833  872  910  945  977 1018 1052 1087 1122 1157\n",
      " 1198 1230 1271 1305 1335 1371 1405 1445 1475 1508 1540 1575 1610 1641\n",
      " 1674 1707 1738]\n"
     ]
    },
    {
     "data": {
      "application/vnd.jupyter.widget-view+json": {
       "model_id": "2dfef777beeb41429e8b83318aa3e3a3",
       "version_major": 2,
       "version_minor": 0
      },
      "text/plain": [
       "Canvas(toolbar=Toolbar(toolitems=[('Home', 'Reset original view', 'home', 'home'), ('Back', 'Back to previous …"
      ]
     },
     "metadata": {},
     "output_type": "display_data"
    },
    {
     "name": "stdout",
     "output_type": "stream",
     "text": [
      "0 10\n"
     ]
    },
    {
     "data": {
      "application/vnd.jupyter.widget-view+json": {
       "model_id": "b6beb1e8afc74efcaf86cf129d69ed79",
       "version_major": 2,
       "version_minor": 0
      },
      "text/plain": [
       "Canvas(toolbar=Toolbar(toolitems=[('Home', 'Reset original view', 'home', 'home'), ('Back', 'Back to previous …"
      ]
     },
     "metadata": {},
     "output_type": "display_data"
    },
    {
     "name": "stdout",
     "output_type": "stream",
     "text": [
      "trueHSR_indices 45 [14, 68, 121, 171, 223, 272, 316, 359, 407, 450, 495, 537, 581, 624, 661, 703, 743, 782, 819, 857, 895, 932, 970, 1007, 1043, 1081, 1117, 1153, 1189, 1225, 1259, 1295, 1330, 1363, 1396, 1431, 1465, 1497, 1530, 1562, 1594, 1628, 1660, 1693, 1726]\n",
      "peaks 45 [  24   69  125  172  222  272  316  361  406  449  496  539  582  625\n",
      "  663  707  745  781  825  860  899  935  973 1011 1045 1081 1118 1156\n",
      " 1194 1228 1262 1299 1334 1369 1404 1435 1467 1498 1533 1567 1602 1633\n",
      " 1666 1699 1733]\n"
     ]
    },
    {
     "data": {
      "application/vnd.jupyter.widget-view+json": {
       "model_id": "11a2a640d55044708e93d12b127a5cda",
       "version_major": 2,
       "version_minor": 0
      },
      "text/plain": [
       "Canvas(toolbar=Toolbar(toolitems=[('Home', 'Reset original view', 'home', 'home'), ('Back', 'Back to previous …"
      ]
     },
     "metadata": {},
     "output_type": "display_data"
    },
    {
     "name": "stdout",
     "output_type": "stream",
     "text": [
      "GVS_213_T_T1\n",
      "[28, 65, 103, 145, 178, 216, 254, 295, 339, 378, 420, 458, 497, 533, 574, 613, 648, 686, 723, 761, 798, 836, 877, 916, 957, 997, 1040, 1080, 1123, 1165, 1206, 1247, 1289, 1330, 1374, 1417, 1461, 1505, 1549, 1593, 1639, 1684, 1729]\n",
      "0 2\n"
     ]
    },
    {
     "data": {
      "application/vnd.jupyter.widget-view+json": {
       "model_id": "f18f200521f742048d7e439b9fe127a3",
       "version_major": 2,
       "version_minor": 0
      },
      "text/plain": [
       "Canvas(toolbar=Toolbar(toolitems=[('Home', 'Reset original view', 'home', 'home'), ('Back', 'Back to previous …"
      ]
     },
     "metadata": {},
     "output_type": "display_data"
    },
    {
     "name": "stdout",
     "output_type": "stream",
     "text": [
      "trueHSR_indices 43 [28, 65, 103, 145, 178, 216, 254, 294, 337, 376, 418, 456, 495, 531, 572, 611, 646, 684, 721, 759, 796, 834, 875, 914, 955, 995, 1038, 1078, 1121, 1163, 1204, 1245, 1287, 1328, 1372, 1415, 1459, 1503, 1547, 1591, 1637, 1682, 1727]\n",
      "peaks 42 [  12   52  104  141  178  233  265  306  343  384  430  462  501  538\n",
      "  578  613  656  694  727  765  808  842  903  957 1003 1049 1085 1131\n",
      " 1177 1216 1257 1290 1338 1386 1424 1456 1492 1561 1607 1642 1696 1730]\n"
     ]
    },
    {
     "data": {
      "application/vnd.jupyter.widget-view+json": {
       "model_id": "272f98d2fb5d4ce4986ff5d53f12b2b6",
       "version_major": 2,
       "version_minor": 0
      },
      "text/plain": [
       "Canvas(toolbar=Toolbar(toolitems=[('Home', 'Reset original view', 'home', 'home'), ('Back', 'Back to previous …"
      ]
     },
     "metadata": {},
     "output_type": "display_data"
    },
    {
     "name": "stdout",
     "output_type": "stream",
     "text": [
      "0 2\n"
     ]
    },
    {
     "data": {
      "application/vnd.jupyter.widget-view+json": {
       "model_id": "d9d46c2d51774bde94f7b70ae25d3ff6",
       "version_major": 2,
       "version_minor": 0
      },
      "text/plain": [
       "Canvas(toolbar=Toolbar(toolitems=[('Home', 'Reset original view', 'home', 'home'), ('Back', 'Back to previous …"
      ]
     },
     "metadata": {},
     "output_type": "display_data"
    },
    {
     "name": "stdout",
     "output_type": "stream",
     "text": [
      "trueHSR_indices 43 [28, 65, 103, 145, 178, 216, 254, 294, 337, 376, 418, 456, 495, 531, 572, 611, 646, 684, 721, 759, 796, 834, 875, 914, 955, 995, 1038, 1078, 1121, 1163, 1204, 1245, 1287, 1328, 1372, 1415, 1459, 1503, 1547, 1591, 1637, 1682, 1727]\n",
      "peaks 43 [  28   72  103  152  183  229  270  306  346  387  420  460  500  539\n",
      "  580  622  661  694  724  771  811  842  883  923  964 1014 1049 1082\n",
      " 1126 1177 1209 1248 1300 1336 1387 1418 1474 1519 1563 1608 1651 1693\n",
      " 1727]\n"
     ]
    },
    {
     "data": {
      "application/vnd.jupyter.widget-view+json": {
       "model_id": "8aa785c9ae4c4db6bc0db1b5fcade42c",
       "version_major": 2,
       "version_minor": 0
      },
      "text/plain": [
       "Canvas(toolbar=Toolbar(toolitems=[('Home', 'Reset original view', 'home', 'home'), ('Back', 'Back to previous …"
      ]
     },
     "metadata": {},
     "output_type": "display_data"
    },
    {
     "name": "stdout",
     "output_type": "stream",
     "text": [
      "0 2\n"
     ]
    },
    {
     "data": {
      "application/vnd.jupyter.widget-view+json": {
       "model_id": "e494546f03324c4c8849422a1100ab7d",
       "version_major": 2,
       "version_minor": 0
      },
      "text/plain": [
       "Canvas(toolbar=Toolbar(toolitems=[('Home', 'Reset original view', 'home', 'home'), ('Back', 'Back to previous …"
      ]
     },
     "metadata": {},
     "output_type": "display_data"
    },
    {
     "name": "stdout",
     "output_type": "stream",
     "text": [
      "trueHSR_indices 43 [28, 65, 103, 145, 178, 216, 254, 294, 337, 376, 418, 456, 495, 531, 572, 611, 646, 684, 721, 759, 796, 834, 875, 914, 955, 995, 1038, 1078, 1121, 1163, 1204, 1245, 1287, 1328, 1372, 1415, 1459, 1503, 1547, 1591, 1637, 1682, 1727]\n",
      "peaks 43 [  30   65  102  140  178  224  267  301  339  387  427  467  505  546\n",
      "  579  613  656  691  726  765  809  854  889  928  963 1011 1041 1091\n",
      " 1133 1170 1216 1257 1291 1333 1378 1430 1465 1509 1559 1597 1642 1692\n",
      " 1731]\n"
     ]
    },
    {
     "data": {
      "application/vnd.jupyter.widget-view+json": {
       "model_id": "3a287a4a0f3640fc91ecd8e50f89876e",
       "version_major": 2,
       "version_minor": 0
      },
      "text/plain": [
       "Canvas(toolbar=Toolbar(toolitems=[('Home', 'Reset original view', 'home', 'home'), ('Back', 'Back to previous …"
      ]
     },
     "metadata": {},
     "output_type": "display_data"
    },
    {
     "name": "stdout",
     "output_type": "stream",
     "text": [
      "GVS_213_T_T2\n",
      "[14, 51, 91, 128, 167, 202, 237, 272, 308, 341, 374, 406, 442, 477, 511, 542, 574, 606, 638, 671, 703, 736, 769, 802, 835, 868, 901, 933, 967, 1000, 1034, 1068, 1101, 1133, 1167, 1200, 1234, 1269, 1302, 1338, 1371, 1405, 1439, 1473, 1507, 1541, 1574, 1608, 1642, 1677, 1710, 1747]\n",
      "0 175\n"
     ]
    },
    {
     "data": {
      "application/vnd.jupyter.widget-view+json": {
       "model_id": "0b34014be90d44da96f25adfc3c98066",
       "version_major": 2,
       "version_minor": 0
      },
      "text/plain": [
       "Canvas(toolbar=Toolbar(toolitems=[('Home', 'Reset original view', 'home', 'home'), ('Back', 'Back to previous …"
      ]
     },
     "metadata": {},
     "output_type": "display_data"
    },
    {
     "name": "stdout",
     "output_type": "stream",
     "text": [
      "trueHSR_indices 46 [32, 72, 109, 148, 201, 233, 269, 304, 338, 369, 401, 433, 465, 498, 530, 563, 596, 629, 661, 693, 726, 758, 792, 825, 859, 893, 926, 958, 992, 1025, 1059, 1094, 1127, 1163, 1196, 1230, 1264, 1298, 1332, 1366, 1399, 1433, 1467, 1502, 1535, 1572]\n",
      "peaks 40 [  12   46   79  117  175  223  281  335  375  413  473  506  538  598\n",
      "  632  664  695  728  761  794  827  860  899  934  969 1028 1074 1130\n",
      " 1165 1199 1233 1264 1299 1335 1369 1401 1432 1469 1507 1537]\n"
     ]
    },
    {
     "data": {
      "application/vnd.jupyter.widget-view+json": {
       "model_id": "e2d2680801de413e9bb4ae446002fc68",
       "version_major": 2,
       "version_minor": 0
      },
      "text/plain": [
       "Canvas(toolbar=Toolbar(toolitems=[('Home', 'Reset original view', 'home', 'home'), ('Back', 'Back to previous …"
      ]
     },
     "metadata": {},
     "output_type": "display_data"
    },
    {
     "name": "stdout",
     "output_type": "stream",
     "text": [
      "0 175\n"
     ]
    },
    {
     "data": {
      "application/vnd.jupyter.widget-view+json": {
       "model_id": "4e612c13b7dd4b599a150260b86fa868",
       "version_major": 2,
       "version_minor": 0
      },
      "text/plain": [
       "Canvas(toolbar=Toolbar(toolitems=[('Home', 'Reset original view', 'home', 'home'), ('Back', 'Back to previous …"
      ]
     },
     "metadata": {},
     "output_type": "display_data"
    },
    {
     "name": "stdout",
     "output_type": "stream",
     "text": [
      "trueHSR_indices 46 [32, 72, 109, 148, 201, 233, 269, 304, 338, 369, 401, 433, 465, 498, 530, 563, 596, 629, 661, 693, 726, 758, 792, 825, 859, 893, 926, 958, 992, 1025, 1059, 1094, 1127, 1163, 1196, 1230, 1264, 1298, 1332, 1366, 1399, 1433, 1467, 1502, 1535, 1572]\n",
      "peaks 41 [  33   74  114  145  201  231  271  306  367  407  438  476  509  540\n",
      "  572  630  673  706  737  771  804  838  871  905  937  969 1026 1067\n",
      " 1105 1137 1168 1201 1240 1300 1337 1368 1407 1437 1475 1513 1547]\n"
     ]
    },
    {
     "data": {
      "application/vnd.jupyter.widget-view+json": {
       "model_id": "0148999d791f465990857107d3bb6e35",
       "version_major": 2,
       "version_minor": 0
      },
      "text/plain": [
       "Canvas(toolbar=Toolbar(toolitems=[('Home', 'Reset original view', 'home', 'home'), ('Back', 'Back to previous …"
      ]
     },
     "metadata": {},
     "output_type": "display_data"
    },
    {
     "name": "stdout",
     "output_type": "stream",
     "text": [
      "0 175\n"
     ]
    },
    {
     "data": {
      "application/vnd.jupyter.widget-view+json": {
       "model_id": "ee3c7a15e64249b7ba08fcc4239e3bc8",
       "version_major": 2,
       "version_minor": 0
      },
      "text/plain": [
       "Canvas(toolbar=Toolbar(toolitems=[('Home', 'Reset original view', 'home', 'home'), ('Back', 'Back to previous …"
      ]
     },
     "metadata": {},
     "output_type": "display_data"
    },
    {
     "name": "stdout",
     "output_type": "stream",
     "text": [
      "trueHSR_indices 46 [32, 72, 109, 148, 201, 233, 269, 304, 338, 369, 401, 433, 465, 498, 530, 563, 596, 629, 661, 693, 726, 758, 792, 825, 859, 893, 926, 958, 992, 1025, 1059, 1094, 1127, 1163, 1196, 1230, 1264, 1298, 1332, 1366, 1399, 1433, 1467, 1502, 1535, 1572]\n",
      "peaks 42 [   9   40   82  116  149  198  236  266  306  337  370  400  433  473\n",
      "  507  542  600  632  666  703  736  768  803  860  902  961  994 1031\n",
      " 1073 1130 1166 1200 1233 1273 1306 1341 1376 1408 1439 1469 1503 1538]\n"
     ]
    },
    {
     "data": {
      "application/vnd.jupyter.widget-view+json": {
       "model_id": "9853bec2bbbd40c487f2ab27607fbc83",
       "version_major": 2,
       "version_minor": 0
      },
      "text/plain": [
       "Canvas(toolbar=Toolbar(toolitems=[('Home', 'Reset original view', 'home', 'home'), ('Back', 'Back to previous …"
      ]
     },
     "metadata": {},
     "output_type": "display_data"
    },
    {
     "name": "stdout",
     "output_type": "stream",
     "text": [
      "GVS_214_T_T1\n",
      "[Errno 2] No such file or directory: 'C:\\\\Users\\\\purpl\\\\Box\\\\Gait Video Project\\\\GaitVideoData\\\\video\\\\multi_view_merged_data\\\\\\\\HOA\\\\beam_walking\\\\GVS_214_T_T1\\\\hip_height_normalized\\\\\\\\HSRframes.txt'\n",
      "GVS_214_T_T2\n",
      "[29, 408, 439, 470, 500, 534, 561, 594, 623, 652, 683, 713, 742, 772, 802, 831, 859, 890, 917, 947, 977, 1005, 1034, 1062, 1091, 1122, 1151, 1179, 1206, 1235, 1262, 1292, 1320, 1349, 1378, 1405, 1435, 1463, 1492, 1521, 1551, 1579, 1608, 1637, 1666, 1696, 1724, 1754]\n",
      "0 55\n"
     ]
    },
    {
     "data": {
      "application/vnd.jupyter.widget-view+json": {
       "model_id": "cb1600f7276a4a89802fec76610f692e",
       "version_major": 2,
       "version_minor": 0
      },
      "text/plain": [
       "Canvas(toolbar=Toolbar(toolitems=[('Home', 'Reset original view', 'home', 'home'), ('Back', 'Back to previous …"
      ]
     },
     "metadata": {},
     "output_type": "display_data"
    },
    {
     "name": "stdout",
     "output_type": "stream",
     "text": [
      "trueHSR_indices 47 [27, 396, 423, 454, 484, 518, 545, 578, 606, 633, 662, 692, 718, 748, 777, 806, 832, 863, 889, 919, 949, 976, 1004, 1032, 1061, 1091, 1120, 1148, 1175, 1204, 1231, 1260, 1286, 1314, 1343, 1370, 1400, 1428, 1456, 1479, 1535, 1564, 1586, 1614, 1643, 1669, 1699]\n",
      "peaks 41 [   5   44   90  152  207  239  272  303  334  366  397  457  498  545\n",
      "  588  644  694  749  779  838  892  925  958 1008 1043 1073 1119 1158\n",
      " 1205 1238 1268 1311 1343 1402 1435 1480 1546 1589 1625 1658 1701]\n"
     ]
    },
    {
     "data": {
      "application/vnd.jupyter.widget-view+json": {
       "model_id": "77870592398c418fa9015d7e25d9b78e",
       "version_major": 2,
       "version_minor": 0
      },
      "text/plain": [
       "Canvas(toolbar=Toolbar(toolitems=[('Home', 'Reset original view', 'home', 'home'), ('Back', 'Back to previous …"
      ]
     },
     "metadata": {},
     "output_type": "display_data"
    },
    {
     "name": "stdout",
     "output_type": "stream",
     "text": [
      "0 55\n"
     ]
    },
    {
     "data": {
      "application/vnd.jupyter.widget-view+json": {
       "model_id": "b315f730abb444bea8cec64c5b538448",
       "version_major": 2,
       "version_minor": 0
      },
      "text/plain": [
       "Canvas(toolbar=Toolbar(toolitems=[('Home', 'Reset original view', 'home', 'home'), ('Back', 'Back to previous …"
      ]
     },
     "metadata": {},
     "output_type": "display_data"
    },
    {
     "name": "stdout",
     "output_type": "stream",
     "text": [
      "trueHSR_indices 47 [27, 396, 423, 454, 484, 518, 545, 578, 606, 633, 662, 692, 718, 748, 777, 806, 832, 863, 889, 919, 949, 976, 1004, 1032, 1061, 1091, 1120, 1148, 1175, 1204, 1231, 1260, 1286, 1314, 1343, 1370, 1400, 1428, 1456, 1479, 1535, 1564, 1586, 1614, 1643, 1669, 1699]\n",
      "peaks 40 [  29   82  114  151  211  241  273  309  363  395  453  492  526  556\n",
      "  587  634  664  695  748  778  841  890  921  952  983 1032 1064 1119\n",
      " 1155 1207 1258 1322 1374 1408 1455 1511 1544 1586 1623 1671]\n"
     ]
    },
    {
     "data": {
      "application/vnd.jupyter.widget-view+json": {
       "model_id": "299d184d78a4413a8f1ee7e3ecf4d758",
       "version_major": 2,
       "version_minor": 0
      },
      "text/plain": [
       "Canvas(toolbar=Toolbar(toolitems=[('Home', 'Reset original view', 'home', 'home'), ('Back', 'Back to previous …"
      ]
     },
     "metadata": {},
     "output_type": "display_data"
    },
    {
     "name": "stdout",
     "output_type": "stream",
     "text": [
      "0 55\n"
     ]
    },
    {
     "data": {
      "application/vnd.jupyter.widget-view+json": {
       "model_id": "24040e31c6014b02ac21fd57a2df8889",
       "version_major": 2,
       "version_minor": 0
      },
      "text/plain": [
       "Canvas(toolbar=Toolbar(toolitems=[('Home', 'Reset original view', 'home', 'home'), ('Back', 'Back to previous …"
      ]
     },
     "metadata": {},
     "output_type": "display_data"
    },
    {
     "name": "stdout",
     "output_type": "stream",
     "text": [
      "trueHSR_indices 47 [27, 396, 423, 454, 484, 518, 545, 578, 606, 633, 662, 692, 718, 748, 777, 806, 832, 863, 889, 919, 949, 976, 1004, 1032, 1061, 1091, 1120, 1148, 1175, 1204, 1231, 1260, 1286, 1314, 1343, 1370, 1400, 1428, 1456, 1479, 1535, 1564, 1586, 1614, 1643, 1669, 1699]\n",
      "peaks 39 [  26   80  118  152  205  240  273  309  342  376  426  457  506  551\n",
      "  587  640  694  748  779  809  863  921  954  984 1034 1091 1152 1184\n",
      " 1241 1289 1343 1380 1430 1464 1509 1545 1590 1650 1699]\n"
     ]
    },
    {
     "data": {
      "application/vnd.jupyter.widget-view+json": {
       "model_id": "d2986078370d4bcea33e8cf4a6ab30ea",
       "version_major": 2,
       "version_minor": 0
      },
      "text/plain": [
       "Canvas(toolbar=Toolbar(toolitems=[('Home', 'Reset original view', 'home', 'home'), ('Back', 'Back to previous …"
      ]
     },
     "metadata": {},
     "output_type": "display_data"
    },
    {
     "name": "stdout",
     "output_type": "stream",
     "text": [
      "GVS_215_T_T1\n",
      "[90, 138, 180, 221, 258, 291, 325, 366, 399, 437, 486, 517, 566, 617, 730, 787, 836, 888, 918, 951, 984, 1018, 1048, 1078, 1104, 1131, 1163, 1193, 1226, 1258, 1293, 1326, 1359, 1394, 1429, 1464, 1499, 1533, 1568, 1601, 1636, 1670, 1703, 1736]\n",
      "0 7\n"
     ]
    },
    {
     "data": {
      "application/vnd.jupyter.widget-view+json": {
       "model_id": "87bb2ef9a3ee4e3b85f227ad396997e7",
       "version_major": 2,
       "version_minor": 0
      },
      "text/plain": [
       "Canvas(toolbar=Toolbar(toolitems=[('Home', 'Reset original view', 'home', 'home'), ('Back', 'Back to previous …"
      ]
     },
     "metadata": {},
     "output_type": "display_data"
    },
    {
     "name": "stdout",
     "output_type": "stream",
     "text": [
      "trueHSR_indices 43 [89, 136, 178, 255, 288, 322, 362, 394, 432, 481, 511, 560, 611, 724, 781, 830, 881, 911, 944, 977, 1011, 1041, 1071, 1097, 1124, 1156, 1186, 1219, 1251, 1286, 1319, 1352, 1387, 1422, 1457, 1492, 1526, 1561, 1594, 1629, 1663, 1696, 1729]\n",
      "peaks 45 [  13   45   76  112  144  178  217  252  288  324  373  408  450  509\n",
      "  539  581  633  663  693  748  783  832  862  892  944  978 1012 1072\n",
      " 1102 1137 1169 1217 1253 1299 1354 1390 1423 1459 1505 1562 1595 1629\n",
      " 1663 1696 1735]\n"
     ]
    },
    {
     "data": {
      "application/vnd.jupyter.widget-view+json": {
       "model_id": "aeb307c2825f4d5c8267f52469e6a1d1",
       "version_major": 2,
       "version_minor": 0
      },
      "text/plain": [
       "Canvas(toolbar=Toolbar(toolitems=[('Home', 'Reset original view', 'home', 'home'), ('Back', 'Back to previous …"
      ]
     },
     "metadata": {},
     "output_type": "display_data"
    },
    {
     "name": "stdout",
     "output_type": "stream",
     "text": [
      "0 7\n"
     ]
    },
    {
     "data": {
      "application/vnd.jupyter.widget-view+json": {
       "model_id": "228a947bdfd24e339c9defa062059879",
       "version_major": 2,
       "version_minor": 0
      },
      "text/plain": [
       "Canvas(toolbar=Toolbar(toolitems=[('Home', 'Reset original view', 'home', 'home'), ('Back', 'Back to previous …"
      ]
     },
     "metadata": {},
     "output_type": "display_data"
    },
    {
     "name": "stdout",
     "output_type": "stream",
     "text": [
      "trueHSR_indices 43 [89, 136, 178, 255, 288, 322, 362, 394, 432, 481, 511, 560, 611, 724, 781, 830, 881, 911, 944, 977, 1011, 1041, 1071, 1097, 1124, 1156, 1186, 1219, 1251, 1286, 1319, 1352, 1387, 1422, 1457, 1492, 1526, 1561, 1594, 1629, 1663, 1696, 1729]\n",
      "peaks 45 [  13   52   93  141  188  226  259  292  333  371  403  433  474  521\n",
      "  564  617  647  678  710  745  799  845  879  918  950  983 1020 1074\n",
      " 1130 1187 1221 1252 1286 1325 1355 1386 1424 1461 1497 1535 1571 1607\n",
      " 1639 1699 1731]\n"
     ]
    },
    {
     "data": {
      "application/vnd.jupyter.widget-view+json": {
       "model_id": "1e4483d9528c4fdbaecd754b5afa4f1e",
       "version_major": 2,
       "version_minor": 0
      },
      "text/plain": [
       "Canvas(toolbar=Toolbar(toolitems=[('Home', 'Reset original view', 'home', 'home'), ('Back', 'Back to previous …"
      ]
     },
     "metadata": {},
     "output_type": "display_data"
    },
    {
     "name": "stdout",
     "output_type": "stream",
     "text": [
      "0 7\n"
     ]
    },
    {
     "data": {
      "application/vnd.jupyter.widget-view+json": {
       "model_id": "3b72aed7af3347158c7d7bdbc988c029",
       "version_major": 2,
       "version_minor": 0
      },
      "text/plain": [
       "Canvas(toolbar=Toolbar(toolitems=[('Home', 'Reset original view', 'home', 'home'), ('Back', 'Back to previous …"
      ]
     },
     "metadata": {},
     "output_type": "display_data"
    },
    {
     "name": "stdout",
     "output_type": "stream",
     "text": [
      "trueHSR_indices 43 [89, 136, 178, 255, 288, 322, 362, 394, 432, 481, 511, 560, 611, 724, 781, 830, 881, 911, 944, 977, 1011, 1041, 1071, 1097, 1124, 1156, 1186, 1219, 1251, 1286, 1319, 1352, 1387, 1422, 1457, 1492, 1526, 1561, 1594, 1629, 1663, 1696, 1729]\n",
      "peaks 46 [  13   46   78  111  150  185  216  255  299  357  407  444  483  513\n",
      "  556  588  627  663  704  744  780  832  877  911  944  978 1012 1070\n",
      " 1125 1156 1187 1221 1252 1287 1320 1354 1387 1424 1455 1490 1525 1560\n",
      " 1596 1627 1664 1709]\n"
     ]
    },
    {
     "data": {
      "application/vnd.jupyter.widget-view+json": {
       "model_id": "e9690ed3479444ca9b4b80709d456546",
       "version_major": 2,
       "version_minor": 0
      },
      "text/plain": [
       "Canvas(toolbar=Toolbar(toolitems=[('Home', 'Reset original view', 'home', 'home'), ('Back', 'Back to previous …"
      ]
     },
     "metadata": {},
     "output_type": "display_data"
    },
    {
     "name": "stdout",
     "output_type": "stream",
     "text": [
      "GVS_215_T_T2\n",
      "[35, 103, 143, 188, 232, 272, 316, 355, 393, 437, 472, 520, 568, 612, 652, 691, 731, 768, 801, 832, 864, 899, 934, 969, 999, 1034, 1066, 1099, 1132, 1166, 1200, 1236, 1269, 1300, 1333, 1367, 1401, 1431, 1465, 1496, 1529, 1561, 1593, 1624, 1657, 1688, 1717, 1749]\n",
      "0 2\n"
     ]
    },
    {
     "data": {
      "application/vnd.jupyter.widget-view+json": {
       "model_id": "feb3e0742d70447fb8d46058e9701bda",
       "version_major": 2,
       "version_minor": 0
      },
      "text/plain": [
       "Canvas(toolbar=Toolbar(toolitems=[('Home', 'Reset original view', 'home', 'home'), ('Back', 'Back to previous …"
      ]
     },
     "metadata": {},
     "output_type": "display_data"
    },
    {
     "name": "stdout",
     "output_type": "stream",
     "text": [
      "trueHSR_indices 47 [35, 103, 143, 188, 232, 272, 316, 355, 393, 437, 472, 520, 568, 612, 690, 730, 767, 800, 831, 863, 898, 933, 968, 998, 1033, 1065, 1098, 1131, 1165, 1199, 1235, 1268, 1299, 1332, 1366, 1400, 1430, 1464, 1495, 1528, 1560, 1592, 1623, 1656, 1687, 1716, 1747]\n",
      "peaks 45 [   5   38   71  122  152  191  233  275  313  358  392  439  495  542\n",
      "  590  623  654  721  767  801  833  864  900  936  969 1000 1042 1099\n",
      " 1133 1167 1201 1238 1272 1324 1369 1403 1438 1485 1531 1563 1595 1627\n",
      " 1658 1689 1737]\n"
     ]
    },
    {
     "data": {
      "application/vnd.jupyter.widget-view+json": {
       "model_id": "c3098f69d1b542709fc659450df6101e",
       "version_major": 2,
       "version_minor": 0
      },
      "text/plain": [
       "Canvas(toolbar=Toolbar(toolitems=[('Home', 'Reset original view', 'home', 'home'), ('Back', 'Back to previous …"
      ]
     },
     "metadata": {},
     "output_type": "display_data"
    },
    {
     "name": "stdout",
     "output_type": "stream",
     "text": [
      "0 2\n"
     ]
    },
    {
     "data": {
      "application/vnd.jupyter.widget-view+json": {
       "model_id": "15819c331c554d809a78fc5eaec42353",
       "version_major": 2,
       "version_minor": 0
      },
      "text/plain": [
       "Canvas(toolbar=Toolbar(toolitems=[('Home', 'Reset original view', 'home', 'home'), ('Back', 'Back to previous …"
      ]
     },
     "metadata": {},
     "output_type": "display_data"
    },
    {
     "name": "stdout",
     "output_type": "stream",
     "text": [
      "trueHSR_indices 47 [35, 103, 143, 188, 232, 272, 316, 355, 393, 437, 472, 520, 568, 612, 690, 730, 767, 800, 831, 863, 898, 933, 968, 998, 1033, 1065, 1098, 1131, 1165, 1199, 1235, 1268, 1299, 1332, 1366, 1400, 1430, 1464, 1495, 1528, 1560, 1592, 1623, 1656, 1687, 1716, 1747]\n",
      "peaks 45 [   5   42   98  141  196  239  289  329  365  399  436  478  509  540\n",
      "  588  621  654  699  741  774  805  837  871  901  942  977 1009 1044\n",
      " 1097 1145 1176 1213 1247 1278 1312 1344 1377 1409 1472 1505 1563 1598\n",
      " 1629 1687 1726]\n"
     ]
    },
    {
     "data": {
      "application/vnd.jupyter.widget-view+json": {
       "model_id": "7b3709ff19c54f54adeb401e5b26ea2c",
       "version_major": 2,
       "version_minor": 0
      },
      "text/plain": [
       "Canvas(toolbar=Toolbar(toolitems=[('Home', 'Reset original view', 'home', 'home'), ('Back', 'Back to previous …"
      ]
     },
     "metadata": {},
     "output_type": "display_data"
    },
    {
     "name": "stdout",
     "output_type": "stream",
     "text": [
      "0 2\n"
     ]
    },
    {
     "data": {
      "application/vnd.jupyter.widget-view+json": {
       "model_id": "e1137cca038d4a279a2781be3eeaa98b",
       "version_major": 2,
       "version_minor": 0
      },
      "text/plain": [
       "Canvas(toolbar=Toolbar(toolitems=[('Home', 'Reset original view', 'home', 'home'), ('Back', 'Back to previous …"
      ]
     },
     "metadata": {},
     "output_type": "display_data"
    },
    {
     "name": "stdout",
     "output_type": "stream",
     "text": [
      "trueHSR_indices 47 [35, 103, 143, 188, 232, 272, 316, 355, 393, 437, 472, 520, 568, 612, 690, 730, 767, 800, 831, 863, 898, 933, 968, 998, 1033, 1065, 1098, 1131, 1165, 1199, 1235, 1268, 1299, 1332, 1366, 1400, 1430, 1464, 1495, 1528, 1560, 1592, 1623, 1656, 1687, 1716, 1747]\n",
      "peaks 46 [  42   96  143  190  232  278  315  356  391  435  484  516  571  612\n",
      "  653  690  731  768  800  832  864  897  934  969  999 1032 1065 1099\n",
      " 1133 1166 1200 1235 1267 1299 1333 1367 1402 1432 1465 1496 1528 1561\n",
      " 1593 1625 1657 1717]\n"
     ]
    },
    {
     "data": {
      "application/vnd.jupyter.widget-view+json": {
       "model_id": "b1c887c456a3456a9649ddf2991f125e",
       "version_major": 2,
       "version_minor": 0
      },
      "text/plain": [
       "Canvas(toolbar=Toolbar(toolitems=[('Home', 'Reset original view', 'home', 'home'), ('Back', 'Back to previous …"
      ]
     },
     "metadata": {},
     "output_type": "display_data"
    },
    {
     "name": "stdout",
     "output_type": "stream",
     "text": [
      "GVS_216_T_T1\n",
      "[33, 85, 138, 191, 242, 285, 334, 387, 433, 484, 535, 585, 637, 684, 735, 780, 827, 876, 920, 970, 1020, 1071, 1123, 1177, 1243, 1294, 1351, 1406, 1456, 1509, 1556, 1603, 1652, 1698]\n",
      "0 28\n"
     ]
    },
    {
     "data": {
      "application/vnd.jupyter.widget-view+json": {
       "model_id": "3ff0c8f275724a0593260e8d7c384edc",
       "version_major": 2,
       "version_minor": 0
      },
      "text/plain": [
       "Canvas(toolbar=Toolbar(toolitems=[('Home', 'Reset original view', 'home', 'home'), ('Back', 'Back to previous …"
      ]
     },
     "metadata": {},
     "output_type": "display_data"
    },
    {
     "name": "stdout",
     "output_type": "stream",
     "text": [
      "trueHSR_indices 34 [30, 81, 134, 186, 236, 278, 326, 379, 423, 473, 524, 573, 624, 671, 722, 767, 813, 861, 904, 953, 1002, 1050, 1101, 1154, 1220, 1271, 1327, 1380, 1430, 1483, 1529, 1576, 1625, 1671]\n",
      "peaks 37 [  12   48   79  120  154  189  238  283  336  380  425  472  528  570\n",
      "  623  681  722  771  818  863  910  955  998 1069 1104 1152 1182 1220\n",
      " 1277 1330 1386 1451 1485 1532 1578 1626 1676]\n"
     ]
    },
    {
     "data": {
      "application/vnd.jupyter.widget-view+json": {
       "model_id": "381ecf49f9be42f4aa3497ee711f17b1",
       "version_major": 2,
       "version_minor": 0
      },
      "text/plain": [
       "Canvas(toolbar=Toolbar(toolitems=[('Home', 'Reset original view', 'home', 'home'), ('Back', 'Back to previous …"
      ]
     },
     "metadata": {},
     "output_type": "display_data"
    },
    {
     "name": "stdout",
     "output_type": "stream",
     "text": [
      "0 28\n"
     ]
    },
    {
     "data": {
      "application/vnd.jupyter.widget-view+json": {
       "model_id": "21214460b589414398e9db305865b44d",
       "version_major": 2,
       "version_minor": 0
      },
      "text/plain": [
       "Canvas(toolbar=Toolbar(toolitems=[('Home', 'Reset original view', 'home', 'home'), ('Back', 'Back to previous …"
      ]
     },
     "metadata": {},
     "output_type": "display_data"
    },
    {
     "name": "stdout",
     "output_type": "stream",
     "text": [
      "trueHSR_indices 34 [30, 81, 134, 186, 236, 278, 326, 379, 423, 473, 524, 573, 624, 671, 722, 767, 813, 861, 904, 953, 1002, 1050, 1101, 1154, 1220, 1271, 1327, 1380, 1430, 1483, 1529, 1576, 1625, 1671]\n",
      "peaks 37 [  13   44   92  150  193  240  289  339  374  420  454  487  521  572\n",
      "  636  681  721  766  822  874  921  955 1014 1063 1116 1172 1233 1295\n",
      " 1326 1362 1394 1446 1497 1530 1576 1640 1688]\n"
     ]
    },
    {
     "data": {
      "application/vnd.jupyter.widget-view+json": {
       "model_id": "3da7fc874ede40eb8611beffb438cad6",
       "version_major": 2,
       "version_minor": 0
      },
      "text/plain": [
       "Canvas(toolbar=Toolbar(toolitems=[('Home', 'Reset original view', 'home', 'home'), ('Back', 'Back to previous …"
      ]
     },
     "metadata": {},
     "output_type": "display_data"
    },
    {
     "name": "stdout",
     "output_type": "stream",
     "text": [
      "0 28\n"
     ]
    },
    {
     "data": {
      "application/vnd.jupyter.widget-view+json": {
       "model_id": "9b19c74cc9514dd3b4884120583cb208",
       "version_major": 2,
       "version_minor": 0
      },
      "text/plain": [
       "Canvas(toolbar=Toolbar(toolitems=[('Home', 'Reset original view', 'home', 'home'), ('Back', 'Back to previous …"
      ]
     },
     "metadata": {},
     "output_type": "display_data"
    },
    {
     "name": "stdout",
     "output_type": "stream",
     "text": [
      "trueHSR_indices 34 [30, 81, 134, 186, 236, 278, 326, 379, 423, 473, 524, 573, 624, 671, 722, 767, 813, 861, 904, 953, 1002, 1050, 1101, 1154, 1220, 1271, 1327, 1380, 1430, 1483, 1529, 1576, 1625, 1671]\n",
      "peaks 38 [  13   44   79  119  153  189  230  282  344  395  437  483  528  570\n",
      "  623  670  738  771  816  862  910  954  986 1018 1063 1103 1153 1187\n",
      " 1217 1276 1331 1385 1431 1484 1527 1585 1626 1670]\n"
     ]
    },
    {
     "data": {
      "application/vnd.jupyter.widget-view+json": {
       "model_id": "0bb6b3d25aa3432582390630f700a99c",
       "version_major": 2,
       "version_minor": 0
      },
      "text/plain": [
       "Canvas(toolbar=Toolbar(toolitems=[('Home', 'Reset original view', 'home', 'home'), ('Back', 'Back to previous …"
      ]
     },
     "metadata": {},
     "output_type": "display_data"
    },
    {
     "name": "stdout",
     "output_type": "stream",
     "text": [
      "GVS_216_T_T2\n",
      "[27, 79, 139, 194, 248, 296, 338, 379, 423, 465, 504, 542, 579, 615, 652, 688, 723, 757, 792, 828, 865, 900, 936, 972, 1007, 1043, 1081, 1118, 1155, 1191, 1228, 1264, 1299, 1335, 1371, 1406, 1443, 1480, 1515, 1553, 1590, 1625, 1660, 1696, 1732]\n",
      "0 20\n"
     ]
    },
    {
     "data": {
      "application/vnd.jupyter.widget-view+json": {
       "model_id": "19cb57d0ca884ff9b909b3aeeddf7c0c",
       "version_major": 2,
       "version_minor": 0
      },
      "text/plain": [
       "Canvas(toolbar=Toolbar(toolitems=[('Home', 'Reset original view', 'home', 'home'), ('Back', 'Back to previous …"
      ]
     },
     "metadata": {},
     "output_type": "display_data"
    },
    {
     "name": "stdout",
     "output_type": "stream",
     "text": [
      "trueHSR_indices 45 [21, 71, 130, 185, 239, 287, 329, 370, 414, 456, 494, 532, 569, 604, 641, 677, 712, 745, 780, 815, 851, 886, 922, 958, 993, 1029, 1066, 1102, 1139, 1175, 1211, 1247, 1282, 1318, 1354, 1388, 1425, 1462, 1497, 1534, 1571, 1606, 1640, 1676, 1712]\n",
      "peaks 41 [  36   70  129  183  239  284  346  376  413  456  509  569  604  646\n",
      "  677  723  759  815  851  887  922  962  994 1046 1082 1135 1176 1226\n",
      " 1283 1319 1355 1389 1426 1462 1499 1533 1574 1609 1639 1679 1712]\n"
     ]
    },
    {
     "data": {
      "application/vnd.jupyter.widget-view+json": {
       "model_id": "d551ee37c030468397f4db71969ecfea",
       "version_major": 2,
       "version_minor": 0
      },
      "text/plain": [
       "Canvas(toolbar=Toolbar(toolitems=[('Home', 'Reset original view', 'home', 'home'), ('Back', 'Back to previous …"
      ]
     },
     "metadata": {},
     "output_type": "display_data"
    },
    {
     "name": "stdout",
     "output_type": "stream",
     "text": [
      "0 20\n"
     ]
    },
    {
     "data": {
      "application/vnd.jupyter.widget-view+json": {
       "model_id": "3ba0b63238464950a74df123da5b752d",
       "version_major": 2,
       "version_minor": 0
      },
      "text/plain": [
       "Canvas(toolbar=Toolbar(toolitems=[('Home', 'Reset original view', 'home', 'home'), ('Back', 'Back to previous …"
      ]
     },
     "metadata": {},
     "output_type": "display_data"
    },
    {
     "name": "stdout",
     "output_type": "stream",
     "text": [
      "trueHSR_indices 45 [21, 71, 130, 185, 239, 287, 329, 370, 414, 456, 494, 532, 569, 604, 641, 677, 712, 745, 780, 815, 851, 886, 922, 958, 993, 1029, 1066, 1102, 1139, 1175, 1211, 1247, 1282, 1318, 1354, 1388, 1425, 1462, 1497, 1534, 1571, 1606, 1640, 1676, 1712]\n",
      "peaks 45 [  25   75  111  144  193  251  282  330  379  413  454  495  534  573\n",
      "  609  643  686  720  756  791  827  861  897  935  970 1008 1044 1079\n",
      " 1115 1150 1188 1223 1258 1296 1330 1365 1400 1438 1472 1511 1546 1581\n",
      " 1638 1673 1711]\n"
     ]
    },
    {
     "data": {
      "application/vnd.jupyter.widget-view+json": {
       "model_id": "46cbd1f7a1774d5dafd77ac27880b060",
       "version_major": 2,
       "version_minor": 0
      },
      "text/plain": [
       "Canvas(toolbar=Toolbar(toolitems=[('Home', 'Reset original view', 'home', 'home'), ('Back', 'Back to previous …"
      ]
     },
     "metadata": {},
     "output_type": "display_data"
    },
    {
     "name": "stdout",
     "output_type": "stream",
     "text": [
      "0 20\n"
     ]
    },
    {
     "data": {
      "application/vnd.jupyter.widget-view+json": {
       "model_id": "171f3ca1748e4c0f81509c7e5dcf652f",
       "version_major": 2,
       "version_minor": 0
      },
      "text/plain": [
       "Canvas(toolbar=Toolbar(toolitems=[('Home', 'Reset original view', 'home', 'home'), ('Back', 'Back to previous …"
      ]
     },
     "metadata": {},
     "output_type": "display_data"
    },
    {
     "name": "stdout",
     "output_type": "stream",
     "text": [
      "trueHSR_indices 45 [21, 71, 130, 185, 239, 287, 329, 370, 414, 456, 494, 532, 569, 604, 641, 677, 712, 745, 780, 815, 851, 886, 922, 958, 993, 1029, 1066, 1102, 1139, 1175, 1211, 1247, 1282, 1318, 1354, 1388, 1425, 1462, 1497, 1534, 1571, 1606, 1640, 1676, 1712]\n",
      "peaks 45 [  27   63  101  134  179  239  284  340  374  413  452  498  532  570\n",
      "  604  641  677  709  743  779  814  848  886  921  962  994 1031 1067\n",
      " 1102 1143 1188 1247 1283 1317 1355 1391 1424 1462 1499 1534 1574 1608\n",
      " 1639 1678 1715]\n"
     ]
    },
    {
     "data": {
      "application/vnd.jupyter.widget-view+json": {
       "model_id": "9c87b988697d46afaae260918fdc0144",
       "version_major": 2,
       "version_minor": 0
      },
      "text/plain": [
       "Canvas(toolbar=Toolbar(toolitems=[('Home', 'Reset original view', 'home', 'home'), ('Back', 'Back to previous …"
      ]
     },
     "metadata": {},
     "output_type": "display_data"
    },
    {
     "name": "stdout",
     "output_type": "stream",
     "text": [
      "GVS_217_T_T1\n",
      "[0, 60, 123, 185, 248, 309, 379, 445, 508, 569, 625, 676, 727, 776, 824, 873, 920, 970, 1019, 1068, 1116, 1165, 1214, 1262, 1309, 1357, 1405, 1452, 1500, 1548, 1597, 1645, 1694, 1742]\n",
      "0 14\n"
     ]
    },
    {
     "data": {
      "application/vnd.jupyter.widget-view+json": {
       "model_id": "d251ec4dd7f04957ad38ce47efe53ac5",
       "version_major": 2,
       "version_minor": 0
      },
      "text/plain": [
       "Canvas(toolbar=Toolbar(toolitems=[('Home', 'Reset original view', 'home', 'home'), ('Back', 'Back to previous …"
      ]
     },
     "metadata": {},
     "output_type": "display_data"
    },
    {
     "name": "stdout",
     "output_type": "stream",
     "text": [
      "trueHSR_indices 34 [0, 58, 120, 182, 245, 306, 374, 440, 503, 563, 619, 670, 721, 770, 818, 867, 913, 963, 1012, 1061, 1107, 1155, 1204, 1251, 1298, 1345, 1393, 1440, 1488, 1536, 1585, 1632, 1680, 1728]\n",
      "peaks 38 [  30   61  115  149  185  222  273  309  344  380  443  506  536  567\n",
      "  621  671  724  793  833  867  914  963 1011 1062 1107 1153 1202 1249\n",
      " 1298 1345 1392 1438 1487 1534 1584 1630 1678 1726]\n"
     ]
    },
    {
     "data": {
      "application/vnd.jupyter.widget-view+json": {
       "model_id": "59226178b1864f73a52aaa46b4b9cd28",
       "version_major": 2,
       "version_minor": 0
      },
      "text/plain": [
       "Canvas(toolbar=Toolbar(toolitems=[('Home', 'Reset original view', 'home', 'home'), ('Back', 'Back to previous …"
      ]
     },
     "metadata": {},
     "output_type": "display_data"
    },
    {
     "name": "stdout",
     "output_type": "stream",
     "text": [
      "0 14\n"
     ]
    },
    {
     "data": {
      "application/vnd.jupyter.widget-view+json": {
       "model_id": "bf5296f026cf4ba1af680fb549b48c78",
       "version_major": 2,
       "version_minor": 0
      },
      "text/plain": [
       "Canvas(toolbar=Toolbar(toolitems=[('Home', 'Reset original view', 'home', 'home'), ('Back', 'Back to previous …"
      ]
     },
     "metadata": {},
     "output_type": "display_data"
    },
    {
     "name": "stdout",
     "output_type": "stream",
     "text": [
      "trueHSR_indices 34 [0, 58, 120, 182, 245, 306, 374, 440, 503, 563, 619, 670, 721, 770, 818, 867, 913, 963, 1012, 1061, 1107, 1155, 1204, 1251, 1298, 1345, 1393, 1440, 1488, 1536, 1585, 1632, 1680, 1728]\n",
      "peaks 39 [  39   73  118  164  202  243  277  307  343  384  416  455  511  550\n",
      "  583  617  669  721  768  814  864  919  957 1006 1056 1105 1151 1198\n",
      " 1260 1306 1341 1396 1437 1485 1533 1592 1640 1672 1719]\n"
     ]
    },
    {
     "data": {
      "application/vnd.jupyter.widget-view+json": {
       "model_id": "c04d4a04f64f48dd979cab18c9ff0d4d",
       "version_major": 2,
       "version_minor": 0
      },
      "text/plain": [
       "Canvas(toolbar=Toolbar(toolitems=[('Home', 'Reset original view', 'home', 'home'), ('Back', 'Back to previous …"
      ]
     },
     "metadata": {},
     "output_type": "display_data"
    },
    {
     "name": "stdout",
     "output_type": "stream",
     "text": [
      "0 14\n"
     ]
    },
    {
     "data": {
      "application/vnd.jupyter.widget-view+json": {
       "model_id": "d6012c039315433e8eca96c25896b128",
       "version_major": 2,
       "version_minor": 0
      },
      "text/plain": [
       "Canvas(toolbar=Toolbar(toolitems=[('Home', 'Reset original view', 'home', 'home'), ('Back', 'Back to previous …"
      ]
     },
     "metadata": {},
     "output_type": "display_data"
    },
    {
     "name": "stdout",
     "output_type": "stream",
     "text": [
      "trueHSR_indices 34 [0, 58, 120, 182, 245, 306, 374, 440, 503, 563, 619, 670, 721, 770, 818, 867, 913, 963, 1012, 1061, 1107, 1155, 1204, 1251, 1298, 1345, 1393, 1440, 1488, 1536, 1585, 1632, 1680, 1728]\n",
      "peaks 38 [  33   63  123  185  218  249  286  317  373  408  442  474  506  567\n",
      "  621  671  724  771  819  866  914  962 1013 1062 1113 1157 1201 1249\n",
      " 1293 1338 1392 1437 1482 1531 1583 1630 1677 1726]\n"
     ]
    },
    {
     "data": {
      "application/vnd.jupyter.widget-view+json": {
       "model_id": "a693c77fdd2248bbb4a88fd962f73e55",
       "version_major": 2,
       "version_minor": 0
      },
      "text/plain": [
       "Canvas(toolbar=Toolbar(toolitems=[('Home', 'Reset original view', 'home', 'home'), ('Back', 'Back to previous …"
      ]
     },
     "metadata": {},
     "output_type": "display_data"
    },
    {
     "name": "stdout",
     "output_type": "stream",
     "text": [
      "GVS_217_T_T2\n",
      "[36, 93, 145, 195, 242, 292, 341, 390, 439, 487, 535, 584, 633, 679, 727, 774, 822, 871, 919, 968, 1016, 1064, 1114, 1163, 1213, 1261, 1311, 1361, 1411, 1459, 1507, 1555, 1603, 1649, 1696, 1743]\n",
      "0 31\n"
     ]
    },
    {
     "data": {
      "application/vnd.jupyter.widget-view+json": {
       "model_id": "9b114ddde6744d3ca85b56ab1224f7dc",
       "version_major": 2,
       "version_minor": 0
      },
      "text/plain": [
       "Canvas(toolbar=Toolbar(toolitems=[('Home', 'Reset original view', 'home', 'home'), ('Back', 'Back to previous …"
      ]
     },
     "metadata": {},
     "output_type": "display_data"
    },
    {
     "name": "stdout",
     "output_type": "stream",
     "text": [
      "trueHSR_indices 35 [36, 92, 144, 194, 241, 291, 339, 388, 437, 531, 577, 622, 666, 713, 757, 804, 852, 898, 947, 995, 1040, 1089, 1138, 1186, 1233, 1283, 1333, 1383, 1431, 1479, 1526, 1573, 1619, 1665, 1712]\n",
      "peaks 39 [   6   40   85  138  168  203  244  275  316  363  414  462  505  559\n",
      "  605  672  738  783  831  877  923  972 1018 1049 1093 1140 1190 1230\n",
      " 1261 1312 1361 1410 1458 1505 1554 1595 1644 1674 1709]\n"
     ]
    },
    {
     "data": {
      "application/vnd.jupyter.widget-view+json": {
       "model_id": "b6445028fb244bcfa4ac0c98f66a1b97",
       "version_major": 2,
       "version_minor": 0
      },
      "text/plain": [
       "Canvas(toolbar=Toolbar(toolitems=[('Home', 'Reset original view', 'home', 'home'), ('Back', 'Back to previous …"
      ]
     },
     "metadata": {},
     "output_type": "display_data"
    },
    {
     "name": "stdout",
     "output_type": "stream",
     "text": [
      "0 31\n"
     ]
    },
    {
     "data": {
      "application/vnd.jupyter.widget-view+json": {
       "model_id": "4368f344b9484be8b4cafcdf9ae1faa1",
       "version_major": 2,
       "version_minor": 0
      },
      "text/plain": [
       "Canvas(toolbar=Toolbar(toolitems=[('Home', 'Reset original view', 'home', 'home'), ('Back', 'Back to previous …"
      ]
     },
     "metadata": {},
     "output_type": "display_data"
    },
    {
     "name": "stdout",
     "output_type": "stream",
     "text": [
      "trueHSR_indices 35 [36, 92, 144, 194, 241, 291, 339, 388, 437, 531, 577, 622, 666, 713, 757, 804, 852, 898, 947, 995, 1040, 1089, 1138, 1186, 1233, 1283, 1333, 1383, 1431, 1479, 1526, 1573, 1619, 1665, 1712]\n",
      "peaks 38 [   8   48   99  141  200  240  299  348  397  465  515  558  593  625\n",
      "  673  720  765  804  851  905  956 1004 1039 1089 1139 1169 1200 1240\n",
      " 1291 1335 1385 1432 1479 1527 1573 1634 1669 1709]\n"
     ]
    },
    {
     "data": {
      "application/vnd.jupyter.widget-view+json": {
       "model_id": "574d2de9ab5745a9b509e2fb06936e6a",
       "version_major": 2,
       "version_minor": 0
      },
      "text/plain": [
       "Canvas(toolbar=Toolbar(toolitems=[('Home', 'Reset original view', 'home', 'home'), ('Back', 'Back to previous …"
      ]
     },
     "metadata": {},
     "output_type": "display_data"
    },
    {
     "name": "stdout",
     "output_type": "stream",
     "text": [
      "0 31\n"
     ]
    },
    {
     "data": {
      "application/vnd.jupyter.widget-view+json": {
       "model_id": "f398c771cd14496caf66c79d993866f7",
       "version_major": 2,
       "version_minor": 0
      },
      "text/plain": [
       "Canvas(toolbar=Toolbar(toolitems=[('Home', 'Reset original view', 'home', 'home'), ('Back', 'Back to previous …"
      ]
     },
     "metadata": {},
     "output_type": "display_data"
    },
    {
     "name": "stdout",
     "output_type": "stream",
     "text": [
      "trueHSR_indices 35 [36, 92, 144, 194, 241, 291, 339, 388, 437, 531, 577, 622, 666, 713, 757, 804, 852, 898, 947, 995, 1040, 1089, 1138, 1186, 1233, 1283, 1333, 1383, 1431, 1479, 1526, 1573, 1619, 1665, 1712]\n",
      "peaks 40 [   8   44   99  145  197  244  281  316  349  397  444  491  538  582\n",
      "  626  692  734  765  804  850  905  952  993 1027 1089 1139 1192 1234\n",
      " 1264 1299 1335 1386 1433 1479 1509 1553 1588 1625 1663 1704]\n"
     ]
    },
    {
     "data": {
      "application/vnd.jupyter.widget-view+json": {
       "model_id": "93818678c3c1403299ea9704f84b13ac",
       "version_major": 2,
       "version_minor": 0
      },
      "text/plain": [
       "Canvas(toolbar=Toolbar(toolitems=[('Home', 'Reset original view', 'home', 'home'), ('Back', 'Back to previous …"
      ]
     },
     "metadata": {},
     "output_type": "display_data"
    },
    {
     "name": "stdout",
     "output_type": "stream",
     "text": [
      "GVS_218_T_T1\n",
      "[37, 85, 132, 172, 210, 246, 280, 314, 347, 380, 412, 442, 473, 503, 534, 564, 597, 627, 657, 688, 719, 750, 780, 810, 841, 870, 902, 932, 963, 993, 1023, 1055, 1086, 1115, 1146, 1174, 1204, 1235, 1263, 1294, 1322, 1351, 1382, 1409, 1440, 1468, 1498, 1529, 1557, 1588, 1616, 1645, 1674, 1703, 1733, 1761]\n",
      "0 30\n"
     ]
    },
    {
     "data": {
      "application/vnd.jupyter.widget-view+json": {
       "model_id": "793773866dd94a90a8d59b7fb91fe25e",
       "version_major": 2,
       "version_minor": 0
      },
      "text/plain": [
       "Canvas(toolbar=Toolbar(toolitems=[('Home', 'Reset original view', 'home', 'home'), ('Back', 'Back to previous …"
      ]
     },
     "metadata": {},
     "output_type": "display_data"
    },
    {
     "name": "stdout",
     "output_type": "stream",
     "text": [
      "trueHSR_indices 53 [37, 83, 130, 202, 237, 271, 304, 337, 369, 401, 431, 462, 492, 523, 553, 585, 614, 643, 674, 704, 734, 764, 794, 824, 851, 882, 912, 943, 972, 1001, 1033, 1064, 1093, 1124, 1151, 1181, 1212, 1240, 1271, 1299, 1328, 1359, 1386, 1417, 1445, 1505, 1532, 1562, 1589, 1616, 1645, 1674, 1704]\n",
      "peaks 42 [  18   54   85  132  179  238  272  306  338  369  402  462  494  553\n",
      "  587  644  675  705  741  794  824  881  911  944  975 1034 1064 1095\n",
      " 1125 1182 1214 1252 1300 1330 1385 1418 1477 1534 1564 1618 1674 1717]\n"
     ]
    },
    {
     "data": {
      "application/vnd.jupyter.widget-view+json": {
       "model_id": "1aac258c6e564149974ec6776188f682",
       "version_major": 2,
       "version_minor": 0
      },
      "text/plain": [
       "Canvas(toolbar=Toolbar(toolitems=[('Home', 'Reset original view', 'home', 'home'), ('Back', 'Back to previous …"
      ]
     },
     "metadata": {},
     "output_type": "display_data"
    },
    {
     "name": "stdout",
     "output_type": "stream",
     "text": [
      "0 30\n"
     ]
    },
    {
     "data": {
      "application/vnd.jupyter.widget-view+json": {
       "model_id": "43b29b8a4d6944ef9ceb572bf56a8243",
       "version_major": 2,
       "version_minor": 0
      },
      "text/plain": [
       "Canvas(toolbar=Toolbar(toolitems=[('Home', 'Reset original view', 'home', 'home'), ('Back', 'Back to previous …"
      ]
     },
     "metadata": {},
     "output_type": "display_data"
    },
    {
     "name": "stdout",
     "output_type": "stream",
     "text": [
      "trueHSR_indices 53 [37, 83, 130, 202, 237, 271, 304, 337, 369, 401, 431, 462, 492, 523, 553, 585, 614, 643, 674, 704, 734, 764, 794, 824, 851, 882, 912, 943, 972, 1001, 1033, 1064, 1093, 1124, 1151, 1181, 1212, 1240, 1271, 1299, 1328, 1359, 1386, 1417, 1445, 1505, 1532, 1562, 1589, 1616, 1645, 1674, 1704]\n",
      "peaks 39 [  11   46   81  137  176  235  272  312  345  403  462  523  564  613\n",
      "  654  715  761  795  825  861  894  973 1005 1038 1098 1134 1190 1247\n",
      " 1304 1358 1416 1451 1485 1533 1565 1597 1643 1682 1712]\n"
     ]
    },
    {
     "data": {
      "application/vnd.jupyter.widget-view+json": {
       "model_id": "4b8daa08634648f28799d1b918370f63",
       "version_major": 2,
       "version_minor": 0
      },
      "text/plain": [
       "Canvas(toolbar=Toolbar(toolitems=[('Home', 'Reset original view', 'home', 'home'), ('Back', 'Back to previous …"
      ]
     },
     "metadata": {},
     "output_type": "display_data"
    },
    {
     "name": "stdout",
     "output_type": "stream",
     "text": [
      "0 30\n"
     ]
    },
    {
     "data": {
      "application/vnd.jupyter.widget-view+json": {
       "model_id": "f2bf6c36a2884b619d8c58db6fe701ab",
       "version_major": 2,
       "version_minor": 0
      },
      "text/plain": [
       "Canvas(toolbar=Toolbar(toolitems=[('Home', 'Reset original view', 'home', 'home'), ('Back', 'Back to previous …"
      ]
     },
     "metadata": {},
     "output_type": "display_data"
    },
    {
     "name": "stdout",
     "output_type": "stream",
     "text": [
      "trueHSR_indices 53 [37, 83, 130, 202, 237, 271, 304, 337, 369, 401, 431, 462, 492, 523, 553, 585, 614, 643, 674, 704, 734, 764, 794, 824, 851, 882, 912, 943, 972, 1001, 1033, 1064, 1093, 1124, 1151, 1181, 1212, 1240, 1271, 1299, 1328, 1359, 1386, 1417, 1445, 1505, 1532, 1562, 1589, 1616, 1645, 1674, 1704]\n",
      "peaks 42 [  18   51   85  133  178  236  272  306  336  368  403  434  496  526\n",
      "  559  590  622  678  710  741  798  857  911  971 1007 1037 1097 1155\n",
      " 1188 1243 1274 1307 1337 1386 1421 1451 1502 1562 1620 1651 1687 1718]\n"
     ]
    },
    {
     "data": {
      "application/vnd.jupyter.widget-view+json": {
       "model_id": "8f0c185a81dd45e2b5f87d092154a77f",
       "version_major": 2,
       "version_minor": 0
      },
      "text/plain": [
       "Canvas(toolbar=Toolbar(toolitems=[('Home', 'Reset original view', 'home', 'home'), ('Back', 'Back to previous …"
      ]
     },
     "metadata": {},
     "output_type": "display_data"
    },
    {
     "name": "stdout",
     "output_type": "stream",
     "text": [
      "GVS_218_T_T2\n",
      "[10, 60, 105, 150, 193, 234, 270, 305, 339, 373, 407, 441, 473, 504, 537, 568, 600, 631, 662, 694, 726, 756, 787, 818, 849, 881, 911, 943, 973, 1005, 1037, 1068, 1099, 1130, 1161, 1192, 1223, 1254, 1285, 1316, 1348, 1378, 1410, 1441, 1470, 1502, 1533, 1564, 1595, 1626, 1656, 1687, 1717, 1749]\n",
      "0 20\n"
     ]
    },
    {
     "data": {
      "application/vnd.jupyter.widget-view+json": {
       "model_id": "24df4920c7954139a2ba30d06bc274ee",
       "version_major": 2,
       "version_minor": 0
      },
      "text/plain": [
       "Canvas(toolbar=Toolbar(toolitems=[('Home', 'Reset original view', 'home', 'home'), ('Back', 'Back to previous …"
      ]
     },
     "metadata": {},
     "output_type": "display_data"
    },
    {
     "name": "stdout",
     "output_type": "stream",
     "text": [
      "trueHSR_indices 54 [10, 59, 103, 147, 190, 231, 267, 302, 336, 370, 404, 438, 469, 500, 532, 563, 594, 625, 656, 688, 720, 749, 780, 809, 838, 870, 900, 930, 960, 992, 1024, 1055, 1085, 1115, 1146, 1177, 1208, 1239, 1270, 1300, 1330, 1360, 1392, 1422, 1451, 1483, 1514, 1545, 1576, 1606, 1636, 1667, 1697, 1729]\n",
      "peaks 50 [  14   61   92  126  160  192  232  269  301  338  371  406  438  470\n",
      "  512  563  593  627  657  688  718  748  809  839  870  901  931  961\n",
      "  991 1024 1055 1086 1145 1177 1207 1240 1270 1300 1330 1362 1392 1422\n",
      " 1453 1511 1545 1605 1637 1669 1699 1729]\n"
     ]
    },
    {
     "data": {
      "application/vnd.jupyter.widget-view+json": {
       "model_id": "7817772490a9421b9a35875d3bf552f6",
       "version_major": 2,
       "version_minor": 0
      },
      "text/plain": [
       "Canvas(toolbar=Toolbar(toolitems=[('Home', 'Reset original view', 'home', 'home'), ('Back', 'Back to previous …"
      ]
     },
     "metadata": {},
     "output_type": "display_data"
    },
    {
     "name": "stdout",
     "output_type": "stream",
     "text": [
      "0 20\n"
     ]
    },
    {
     "data": {
      "application/vnd.jupyter.widget-view+json": {
       "model_id": "6be7db7bca334070836120b40d824939",
       "version_major": 2,
       "version_minor": 0
      },
      "text/plain": [
       "Canvas(toolbar=Toolbar(toolitems=[('Home', 'Reset original view', 'home', 'home'), ('Back', 'Back to previous …"
      ]
     },
     "metadata": {},
     "output_type": "display_data"
    },
    {
     "name": "stdout",
     "output_type": "stream",
     "text": [
      "trueHSR_indices 54 [10, 59, 103, 147, 190, 231, 267, 302, 336, 370, 404, 438, 469, 500, 532, 563, 594, 625, 656, 688, 720, 749, 780, 809, 838, 870, 900, 930, 960, 992, 1024, 1055, 1085, 1115, 1146, 1177, 1208, 1239, 1270, 1300, 1330, 1360, 1392, 1422, 1451, 1483, 1514, 1545, 1576, 1606, 1636, 1667, 1697, 1729]\n",
      "peaks 43 [  20   58  115  147  202  233  274  309  341  379  412  444  505  538\n",
      "  575  622  665  697  729  782  818  848  879  958 1001 1033 1066 1115\n",
      " 1155 1186 1217 1248 1279 1329 1362 1400 1452 1487 1543 1581 1636 1678\n",
      " 1737]\n"
     ]
    },
    {
     "data": {
      "application/vnd.jupyter.widget-view+json": {
       "model_id": "bc740426f9624143b085fd80c5de5c3c",
       "version_major": 2,
       "version_minor": 0
      },
      "text/plain": [
       "Canvas(toolbar=Toolbar(toolitems=[('Home', 'Reset original view', 'home', 'home'), ('Back', 'Back to previous …"
      ]
     },
     "metadata": {},
     "output_type": "display_data"
    },
    {
     "name": "stdout",
     "output_type": "stream",
     "text": [
      "0 20\n"
     ]
    },
    {
     "data": {
      "application/vnd.jupyter.widget-view+json": {
       "model_id": "5bc3135932e6440785fc651744dbfe04",
       "version_major": 2,
       "version_minor": 0
      },
      "text/plain": [
       "Canvas(toolbar=Toolbar(toolitems=[('Home', 'Reset original view', 'home', 'home'), ('Back', 'Back to previous …"
      ]
     },
     "metadata": {},
     "output_type": "display_data"
    },
    {
     "name": "stdout",
     "output_type": "stream",
     "text": [
      "trueHSR_indices 54 [10, 59, 103, 147, 190, 231, 267, 302, 336, 370, 404, 438, 469, 500, 532, 563, 594, 625, 656, 688, 720, 749, 780, 809, 838, 870, 900, 930, 960, 992, 1024, 1055, 1085, 1115, 1146, 1177, 1208, 1239, 1270, 1300, 1330, 1360, 1392, 1422, 1451, 1483, 1514, 1545, 1576, 1606, 1636, 1667, 1697, 1729]\n",
      "peaks 43 [  20   64  106  151  202  232  270  304  341  371  402  442  499  534\n",
      "  592  625  659  691  722  754  811  844  874  931  961  997 1054 1094\n",
      " 1144 1206 1244 1305 1358 1389 1423 1455 1486 1518 1550 1608 1639 1697\n",
      " 1730]\n"
     ]
    },
    {
     "data": {
      "application/vnd.jupyter.widget-view+json": {
       "model_id": "148ee03ba4744e9bb7a7faeed757e5b2",
       "version_major": 2,
       "version_minor": 0
      },
      "text/plain": [
       "Canvas(toolbar=Toolbar(toolitems=[('Home', 'Reset original view', 'home', 'home'), ('Back', 'Back to previous …"
      ]
     },
     "metadata": {},
     "output_type": "display_data"
    },
    {
     "name": "stdout",
     "output_type": "stream",
     "text": [
      "GVS_219_T_T1\n",
      "[4, 69, 122, 172, 217, 255, 299, 337, 379, 418, 459, 499, 541, 582, 619, 656, 696, 734, 775, 814, 851, 890, 927, 963, 999, 1037, 1074, 1107, 1145, 1179, 1213, 1250, 1286, 1322, 1360, 1397, 1432, 1468, 1504, 1540, 1578, 1614, 1651, 1689, 1726]\n",
      "0 15\n"
     ]
    },
    {
     "data": {
      "application/vnd.jupyter.widget-view+json": {
       "model_id": "5cb903fb6ea14a0eaa6a3e2f38fe0533",
       "version_major": 2,
       "version_minor": 0
      },
      "text/plain": [
       "Canvas(toolbar=Toolbar(toolitems=[('Home', 'Reset original view', 'home', 'home'), ('Back', 'Back to previous …"
      ]
     },
     "metadata": {},
     "output_type": "display_data"
    },
    {
     "name": "stdout",
     "output_type": "stream",
     "text": [
      "trueHSR_indices 45 [2, 63, 115, 165, 210, 248, 292, 330, 372, 411, 451, 490, 532, 573, 609, 646, 686, 723, 764, 803, 840, 879, 916, 952, 988, 1026, 1063, 1096, 1134, 1168, 1202, 1239, 1274, 1310, 1348, 1385, 1418, 1454, 1490, 1526, 1564, 1600, 1637, 1675, 1711]\n",
      "peaks 44 [  29   66  116  167  210  252  295  329  374  413  453  493  536  577\n",
      "  612  649  688  726  765  806  844  882  920  957  992 1030 1075 1123\n",
      " 1172 1208 1243 1279 1327 1358 1389 1427 1458 1499 1532 1569 1607 1642\n",
      " 1681 1717]\n"
     ]
    },
    {
     "data": {
      "application/vnd.jupyter.widget-view+json": {
       "model_id": "10da14df273f45d398561d530c3dd8bc",
       "version_major": 2,
       "version_minor": 0
      },
      "text/plain": [
       "Canvas(toolbar=Toolbar(toolitems=[('Home', 'Reset original view', 'home', 'home'), ('Back', 'Back to previous …"
      ]
     },
     "metadata": {},
     "output_type": "display_data"
    },
    {
     "name": "stdout",
     "output_type": "stream",
     "text": [
      "0 15\n"
     ]
    },
    {
     "data": {
      "application/vnd.jupyter.widget-view+json": {
       "model_id": "0293ef28a7f24a5b8f2aa0a63d7cb6a9",
       "version_major": 2,
       "version_minor": 0
      },
      "text/plain": [
       "Canvas(toolbar=Toolbar(toolitems=[('Home', 'Reset original view', 'home', 'home'), ('Back', 'Back to previous …"
      ]
     },
     "metadata": {},
     "output_type": "display_data"
    },
    {
     "name": "stdout",
     "output_type": "stream",
     "text": [
      "trueHSR_indices 45 [2, 63, 115, 165, 210, 248, 292, 330, 372, 411, 451, 490, 532, 573, 609, 646, 686, 723, 764, 803, 840, 879, 916, 952, 988, 1026, 1063, 1096, 1134, 1168, 1202, 1239, 1274, 1310, 1348, 1385, 1418, 1454, 1490, 1526, 1564, 1600, 1637, 1675, 1711]\n",
      "peaks 45 [   9   39   72  121  177  210  252  297  328  377  413  452  500  537\n",
      "  576  610  645  690  729  770  805  842  892  924  967 1002 1037 1069\n",
      " 1104 1136 1169 1207 1249 1288 1324 1358 1389 1421 1457 1506 1567 1604\n",
      " 1642 1681 1730]\n"
     ]
    },
    {
     "data": {
      "application/vnd.jupyter.widget-view+json": {
       "model_id": "3635086da438424aa5dd3369cb0d6144",
       "version_major": 2,
       "version_minor": 0
      },
      "text/plain": [
       "Canvas(toolbar=Toolbar(toolitems=[('Home', 'Reset original view', 'home', 'home'), ('Back', 'Back to previous …"
      ]
     },
     "metadata": {},
     "output_type": "display_data"
    },
    {
     "name": "stdout",
     "output_type": "stream",
     "text": [
      "0 15\n"
     ]
    },
    {
     "data": {
      "application/vnd.jupyter.widget-view+json": {
       "model_id": "9a1fc9aef08c491681204cd8140b1f72",
       "version_major": 2,
       "version_minor": 0
      },
      "text/plain": [
       "Canvas(toolbar=Toolbar(toolitems=[('Home', 'Reset original view', 'home', 'home'), ('Back', 'Back to previous …"
      ]
     },
     "metadata": {},
     "output_type": "display_data"
    },
    {
     "name": "stdout",
     "output_type": "stream",
     "text": [
      "trueHSR_indices 45 [2, 63, 115, 165, 210, 248, 292, 330, 372, 411, 451, 490, 532, 573, 609, 646, 686, 723, 764, 803, 840, 879, 916, 952, 988, 1026, 1063, 1096, 1134, 1168, 1202, 1239, 1274, 1310, 1348, 1385, 1418, 1454, 1490, 1526, 1564, 1600, 1637, 1675, 1711]\n",
      "peaks 43 [  14   65  114  182  212  250  296  330  374  414  453  493  547  612\n",
      "  645  684  727  770  806  841  887  923  958  992 1035 1075 1135 1182\n",
      " 1212 1248 1283 1314 1356 1388 1424 1456 1506 1539 1575 1616 1648 1681\n",
      " 1715]\n"
     ]
    },
    {
     "data": {
      "application/vnd.jupyter.widget-view+json": {
       "model_id": "ac5bffbfa1db43678560f03f93ebe732",
       "version_major": 2,
       "version_minor": 0
      },
      "text/plain": [
       "Canvas(toolbar=Toolbar(toolitems=[('Home', 'Reset original view', 'home', 'home'), ('Back', 'Back to previous …"
      ]
     },
     "metadata": {},
     "output_type": "display_data"
    },
    {
     "name": "stdout",
     "output_type": "stream",
     "text": [
      "GVS_219_T_T2\n",
      "[53, 111, 163, 215, 257, 301, 344, 384, 426, 467, 510, 551, 592, 631, 673, 714, 756, 799, 838, 878, 920, 962, 1003, 1042, 1082, 1123, 1164, 1204, 1244, 1284, 1324, 1361, 1400, 1439, 1479, 1518, 1556, 1593, 1631, 1670, 1708, 1746]\n",
      "0 2\n"
     ]
    },
    {
     "data": {
      "application/vnd.jupyter.widget-view+json": {
       "model_id": "322f4c6a114345f397cd9a7078361146",
       "version_major": 2,
       "version_minor": 0
      },
      "text/plain": [
       "Canvas(toolbar=Toolbar(toolitems=[('Home', 'Reset original view', 'home', 'home'), ('Back', 'Back to previous …"
      ]
     },
     "metadata": {},
     "output_type": "display_data"
    },
    {
     "name": "stdout",
     "output_type": "stream",
     "text": [
      "trueHSR_indices 41 [53, 111, 163, 215, 257, 301, 344, 384, 426, 467, 510, 551, 592, 631, 673, 714, 756, 798, 876, 918, 960, 1001, 1040, 1080, 1121, 1162, 1202, 1242, 1282, 1322, 1359, 1398, 1437, 1477, 1516, 1554, 1591, 1629, 1668, 1706, 1744]\n",
      "peaks 42 [  24   59  113  168  217  262  306  356  386  433  473  513  556  596\n",
      "  633  675  717  759  802  841  889  922  965 1007 1053 1084 1125 1164\n",
      " 1208 1247 1285 1327 1369 1402 1442 1506 1560 1596 1635 1672 1711 1747]\n"
     ]
    },
    {
     "data": {
      "application/vnd.jupyter.widget-view+json": {
       "model_id": "3175fde4c4fc456d9bc6fb2b42eb58ef",
       "version_major": 2,
       "version_minor": 0
      },
      "text/plain": [
       "Canvas(toolbar=Toolbar(toolitems=[('Home', 'Reset original view', 'home', 'home'), ('Back', 'Back to previous …"
      ]
     },
     "metadata": {},
     "output_type": "display_data"
    },
    {
     "name": "stdout",
     "output_type": "stream",
     "text": [
      "0 2\n"
     ]
    },
    {
     "data": {
      "application/vnd.jupyter.widget-view+json": {
       "model_id": "ccfa9c48f9a948c9951eb2352ee686de",
       "version_major": 2,
       "version_minor": 0
      },
      "text/plain": [
       "Canvas(toolbar=Toolbar(toolitems=[('Home', 'Reset original view', 'home', 'home'), ('Back', 'Back to previous …"
      ]
     },
     "metadata": {},
     "output_type": "display_data"
    },
    {
     "name": "stdout",
     "output_type": "stream",
     "text": [
      "trueHSR_indices 41 [53, 111, 163, 215, 257, 301, 344, 384, 426, 467, 510, 551, 592, 631, 673, 714, 756, 798, 876, 918, 960, 1001, 1040, 1080, 1121, 1162, 1202, 1242, 1282, 1322, 1359, 1398, 1437, 1477, 1516, 1554, 1591, 1629, 1668, 1706, 1744]\n",
      "peaks 42 [   8   43   74  111  164  216  262  313  355  401  437  471  525  568\n",
      "  607  644  688  721  757  813  851  889  920  962 1011 1042 1088 1128\n",
      " 1169 1214 1251 1298 1331 1367 1409 1443 1488 1531 1569 1607 1669 1720]\n"
     ]
    },
    {
     "data": {
      "application/vnd.jupyter.widget-view+json": {
       "model_id": "b4503cb398b0478784a9f232e1459f57",
       "version_major": 2,
       "version_minor": 0
      },
      "text/plain": [
       "Canvas(toolbar=Toolbar(toolitems=[('Home', 'Reset original view', 'home', 'home'), ('Back', 'Back to previous …"
      ]
     },
     "metadata": {},
     "output_type": "display_data"
    },
    {
     "name": "stdout",
     "output_type": "stream",
     "text": [
      "0 2\n"
     ]
    },
    {
     "data": {
      "application/vnd.jupyter.widget-view+json": {
       "model_id": "c1518e1e02d54785835ee4c28cd00051",
       "version_major": 2,
       "version_minor": 0
      },
      "text/plain": [
       "Canvas(toolbar=Toolbar(toolitems=[('Home', 'Reset original view', 'home', 'home'), ('Back', 'Back to previous …"
      ]
     },
     "metadata": {},
     "output_type": "display_data"
    },
    {
     "name": "stdout",
     "output_type": "stream",
     "text": [
      "trueHSR_indices 41 [53, 111, 163, 215, 257, 301, 344, 384, 426, 467, 510, 551, 592, 631, 673, 714, 756, 798, 876, 918, 960, 1001, 1040, 1080, 1121, 1162, 1202, 1242, 1282, 1322, 1359, 1398, 1437, 1477, 1516, 1554, 1591, 1629, 1668, 1706, 1744]\n",
      "peaks 43 [  10   43   77  113  170  230  264  305  345  385  427  473  518  550\n",
      "  597  634  674  715  761  802  841  881  926  965 1003 1042 1084 1125\n",
      " 1164 1209 1248 1288 1325 1370 1401 1443 1502 1557 1596 1637 1672 1711\n",
      " 1746]\n"
     ]
    },
    {
     "data": {
      "application/vnd.jupyter.widget-view+json": {
       "model_id": "f6626b5decb54635bdcb8768e0d4581d",
       "version_major": 2,
       "version_minor": 0
      },
      "text/plain": [
       "Canvas(toolbar=Toolbar(toolitems=[('Home', 'Reset original view', 'home', 'home'), ('Back', 'Back to previous …"
      ]
     },
     "metadata": {},
     "output_type": "display_data"
    },
    {
     "name": "stdout",
     "output_type": "stream",
     "text": [
      "GVS_212_W_T1\n",
      "[22, 58, 97, 136, 170, 207, 243, 279, 314, 349, 387, 420, 454, 488, 520, 555, 588, 620, 653, 685, 715, 747, 780, 812, 843, 874, 905, 937, 968, 998, 1029, 1059, 1089, 1118, 1149, 1179, 1208, 1238, 1268, 1298, 1328, 1356, 1385, 1415, 1445, 1474, 1503, 1532, 1562, 1592, 1619, 1651, 1680, 1710, 1740]\n",
      "0 10\n"
     ]
    },
    {
     "data": {
      "application/vnd.jupyter.widget-view+json": {
       "model_id": "56db7e1635464473a4741e2ae61d9c84",
       "version_major": 2,
       "version_minor": 0
      },
      "text/plain": [
       "Canvas(toolbar=Toolbar(toolitems=[('Home', 'Reset original view', 'home', 'home'), ('Back', 'Back to previous …"
      ]
     },
     "metadata": {},
     "output_type": "display_data"
    },
    {
     "name": "stdout",
     "output_type": "stream",
     "text": [
      "trueHSR_indices 54 [22, 58, 97, 136, 170, 207, 243, 278, 313, 347, 385, 418, 452, 486, 518, 553, 586, 618, 651, 683, 713, 745, 808, 839, 869, 900, 932, 962, 992, 1023, 1053, 1083, 1112, 1143, 1173, 1202, 1232, 1262, 1292, 1322, 1350, 1379, 1409, 1439, 1468, 1497, 1524, 1554, 1584, 1611, 1643, 1672, 1702, 1730]\n",
      "peaks 46 [  36   73  111  148  184  218  254  290  325  360  394  431  465  498\n",
      "  531  590  652  684  721  753  789  819  850  880  911  968 1003 1033\n",
      " 1063 1113 1143 1175 1212 1242 1272 1302 1347 1380 1410 1448 1498 1563\n",
      " 1593 1623 1673 1704]\n"
     ]
    },
    {
     "data": {
      "application/vnd.jupyter.widget-view+json": {
       "model_id": "8613ed50f8a84e88a58d5ec1478f46a6",
       "version_major": 2,
       "version_minor": 0
      },
      "text/plain": [
       "Canvas(toolbar=Toolbar(toolitems=[('Home', 'Reset original view', 'home', 'home'), ('Back', 'Back to previous …"
      ]
     },
     "metadata": {},
     "output_type": "display_data"
    },
    {
     "name": "stdout",
     "output_type": "stream",
     "text": [
      "0 10\n"
     ]
    },
    {
     "data": {
      "application/vnd.jupyter.widget-view+json": {
       "model_id": "5d5372f65906487a8806c5de571ab26d",
       "version_major": 2,
       "version_minor": 0
      },
      "text/plain": [
       "Canvas(toolbar=Toolbar(toolitems=[('Home', 'Reset original view', 'home', 'home'), ('Back', 'Back to previous …"
      ]
     },
     "metadata": {},
     "output_type": "display_data"
    },
    {
     "name": "stdout",
     "output_type": "stream",
     "text": [
      "trueHSR_indices 54 [22, 58, 97, 136, 170, 207, 243, 278, 313, 347, 385, 418, 452, 486, 518, 553, 586, 618, 651, 683, 713, 745, 808, 839, 869, 900, 932, 962, 992, 1023, 1053, 1083, 1112, 1143, 1173, 1202, 1232, 1262, 1292, 1322, 1350, 1379, 1409, 1439, 1468, 1497, 1524, 1554, 1584, 1611, 1643, 1672, 1702, 1730]\n",
      "peaks 46 [  17   69  100  132  170  215  256  287  322  355  395  428  461  496\n",
      "  530  562  597  628  658  691  724  754  786  818  849  909  941  971\n",
      " 1001 1062 1093 1140 1170 1200 1259 1289 1329 1378 1417 1476 1534 1581\n",
      " 1621 1651 1681 1728]\n"
     ]
    },
    {
     "data": {
      "application/vnd.jupyter.widget-view+json": {
       "model_id": "6b48e9ec37444c51a7a62acb30d309f9",
       "version_major": 2,
       "version_minor": 0
      },
      "text/plain": [
       "Canvas(toolbar=Toolbar(toolitems=[('Home', 'Reset original view', 'home', 'home'), ('Back', 'Back to previous …"
      ]
     },
     "metadata": {},
     "output_type": "display_data"
    },
    {
     "name": "stdout",
     "output_type": "stream",
     "text": [
      "0 10\n"
     ]
    },
    {
     "data": {
      "application/vnd.jupyter.widget-view+json": {
       "model_id": "f77ca7750bc548578b5abc98ae737e2e",
       "version_major": 2,
       "version_minor": 0
      },
      "text/plain": [
       "Canvas(toolbar=Toolbar(toolitems=[('Home', 'Reset original view', 'home', 'home'), ('Back', 'Back to previous …"
      ]
     },
     "metadata": {},
     "output_type": "display_data"
    },
    {
     "name": "stdout",
     "output_type": "stream",
     "text": [
      "trueHSR_indices 54 [22, 58, 97, 136, 170, 207, 243, 278, 313, 347, 385, 418, 452, 486, 518, 553, 586, 618, 651, 683, 713, 745, 808, 839, 869, 900, 932, 962, 992, 1023, 1053, 1083, 1112, 1143, 1173, 1202, 1232, 1262, 1292, 1322, 1350, 1379, 1409, 1439, 1468, 1497, 1524, 1554, 1584, 1611, 1643, 1672, 1702, 1730]\n",
      "peaks 41 [  36   71  111  148  178  215  255  291  324  355  397  428  461  497\n",
      "  530  563  598  630  661  721  755  817  850  910  941  972 1020 1062\n",
      " 1092 1152 1212 1270 1329 1389 1448 1495 1534 1581 1622 1681 1728]\n"
     ]
    },
    {
     "data": {
      "application/vnd.jupyter.widget-view+json": {
       "model_id": "c8d2bc81eeb2471f9074a7007b3fefe3",
       "version_major": 2,
       "version_minor": 0
      },
      "text/plain": [
       "Canvas(toolbar=Toolbar(toolitems=[('Home', 'Reset original view', 'home', 'home'), ('Back', 'Back to previous …"
      ]
     },
     "metadata": {},
     "output_type": "display_data"
    },
    {
     "name": "stdout",
     "output_type": "stream",
     "text": [
      "GVS_212_W_T2\n",
      "[17, 60, 100, 138, 172, 210, 246, 282, 314, 347, 381, 412, 444, 477, 507, 538, 567, 599, 629, 659, 689, 719, 748, 779, 809, 838, 868, 899, 930, 959, 989, 1017, 1048, 1077, 1106, 1136, 1164, 1194, 1223, 1251, 1282, 1310, 1339, 1366, 1396, 1423, 1451, 1478, 1504, 1532, 1558, 1586, 1613, 1642, 1667, 1696, 1724, 1752]\n",
      "0 18\n"
     ]
    },
    {
     "data": {
      "application/vnd.jupyter.widget-view+json": {
       "model_id": "55a5b8d4cb0c4ebba0cc41ca5a11348c",
       "version_major": 2,
       "version_minor": 0
      },
      "text/plain": [
       "Canvas(toolbar=Toolbar(toolitems=[('Home', 'Reset original view', 'home', 'home'), ('Back', 'Back to previous …"
      ]
     },
     "metadata": {},
     "output_type": "display_data"
    },
    {
     "name": "stdout",
     "output_type": "stream",
     "text": [
      "trueHSR_indices 57 [17, 59, 99, 137, 171, 209, 244, 280, 311, 343, 377, 408, 439, 472, 501, 532, 561, 592, 622, 652, 681, 711, 740, 770, 800, 829, 858, 889, 920, 948, 978, 1006, 1037, 1066, 1095, 1125, 1153, 1183, 1212, 1240, 1270, 1298, 1327, 1353, 1383, 1410, 1437, 1464, 1490, 1518, 1543, 1571, 1598, 1625, 1650, 1679, 1706]\n",
      "peaks 43 [  33   75  114  151  188  223  257  292  324  356  387  421  452  484\n",
      "  544  575  655  693  723  772  811  841  898  929  980 1019 1068 1098\n",
      " 1156 1186 1224 1280 1327 1360 1411 1445 1495 1526 1574 1608 1653 1689\n",
      " 1722]\n"
     ]
    },
    {
     "data": {
      "application/vnd.jupyter.widget-view+json": {
       "model_id": "bb6beb2d4aa3490084514b807f54a586",
       "version_major": 2,
       "version_minor": 0
      },
      "text/plain": [
       "Canvas(toolbar=Toolbar(toolitems=[('Home', 'Reset original view', 'home', 'home'), ('Back', 'Back to previous …"
      ]
     },
     "metadata": {},
     "output_type": "display_data"
    },
    {
     "name": "stdout",
     "output_type": "stream",
     "text": [
      "0 18\n"
     ]
    },
    {
     "data": {
      "application/vnd.jupyter.widget-view+json": {
       "model_id": "7c40aa1c881f44c4a07c535fe9b2ce41",
       "version_major": 2,
       "version_minor": 0
      },
      "text/plain": [
       "Canvas(toolbar=Toolbar(toolitems=[('Home', 'Reset original view', 'home', 'home'), ('Back', 'Back to previous …"
      ]
     },
     "metadata": {},
     "output_type": "display_data"
    },
    {
     "name": "stdout",
     "output_type": "stream",
     "text": [
      "trueHSR_indices 57 [17, 59, 99, 137, 171, 209, 244, 280, 311, 343, 377, 408, 439, 472, 501, 532, 561, 592, 622, 652, 681, 711, 740, 770, 800, 829, 858, 889, 920, 948, 978, 1006, 1037, 1066, 1095, 1125, 1153, 1183, 1212, 1240, 1270, 1298, 1327, 1353, 1383, 1410, 1437, 1464, 1490, 1518, 1543, 1571, 1598, 1625, 1650, 1679, 1706]\n",
      "peaks 41 [  30   71  113  150  187  218  255  289  321  353  388  420  470  511\n",
      "  541  571  602  663  723  778  810  867  901  931  977 1016 1075 1105\n",
      " 1162 1193 1249 1280 1333 1364 1419 1462 1515 1580 1630 1660 1705]\n"
     ]
    },
    {
     "data": {
      "application/vnd.jupyter.widget-view+json": {
       "model_id": "9653619e9f834e69b526fd786f7b9e23",
       "version_major": 2,
       "version_minor": 0
      },
      "text/plain": [
       "Canvas(toolbar=Toolbar(toolitems=[('Home', 'Reset original view', 'home', 'home'), ('Back', 'Back to previous …"
      ]
     },
     "metadata": {},
     "output_type": "display_data"
    },
    {
     "name": "stdout",
     "output_type": "stream",
     "text": [
      "0 18\n"
     ]
    },
    {
     "data": {
      "application/vnd.jupyter.widget-view+json": {
       "model_id": "e722b368e2444b09913bbec6f9ecef98",
       "version_major": 2,
       "version_minor": 0
      },
      "text/plain": [
       "Canvas(toolbar=Toolbar(toolitems=[('Home', 'Reset original view', 'home', 'home'), ('Back', 'Back to previous …"
      ]
     },
     "metadata": {},
     "output_type": "display_data"
    },
    {
     "name": "stdout",
     "output_type": "stream",
     "text": [
      "trueHSR_indices 57 [17, 59, 99, 137, 171, 209, 244, 280, 311, 343, 377, 408, 439, 472, 501, 532, 561, 592, 622, 652, 681, 711, 740, 770, 800, 829, 858, 889, 920, 948, 978, 1006, 1037, 1066, 1095, 1125, 1153, 1183, 1212, 1240, 1270, 1298, 1327, 1353, 1383, 1410, 1437, 1464, 1490, 1518, 1543, 1571, 1598, 1625, 1650, 1679, 1706]\n",
      "peaks 42 [  33   69  114  150  187  222  256  292  323  354  387  420  450  480\n",
      "  512  543  600  633  690  723  773  810  870  929  988 1018 1063 1098\n",
      " 1132 1194 1251 1281 1335 1365 1408 1444 1515 1552 1595 1631 1687 1722]\n"
     ]
    },
    {
     "data": {
      "application/vnd.jupyter.widget-view+json": {
       "model_id": "0fc9b15594964eaa93152ebc16b66dd5",
       "version_major": 2,
       "version_minor": 0
      },
      "text/plain": [
       "Canvas(toolbar=Toolbar(toolitems=[('Home', 'Reset original view', 'home', 'home'), ('Back', 'Back to previous …"
      ]
     },
     "metadata": {},
     "output_type": "display_data"
    },
    {
     "name": "stdout",
     "output_type": "stream",
     "text": [
      "GVS_213_W_T1\n",
      "[17, 54, 95, 135, 171, 208, 246, 284, 322, 360, 395, 431, 463, 497, 531, 565, 600, 633, 666, 701, 735, 767, 802, 835, 869, 905, 939, 974, 1010, 1045, 1077, 1111, 1145, 1179, 1211, 1243, 1278, 1313, 1348, 1383, 1416, 1452, 1487, 1522, 1558, 1592, 1626, 1660, 1696, 1733]\n",
      "0 5\n"
     ]
    },
    {
     "data": {
      "application/vnd.jupyter.widget-view+json": {
       "model_id": "229b9fcaa2a049f1a5c41dc695ed1664",
       "version_major": 2,
       "version_minor": 0
      },
      "text/plain": [
       "Canvas(toolbar=Toolbar(toolitems=[('Home', 'Reset original view', 'home', 'home'), ('Back', 'Back to previous …"
      ]
     },
     "metadata": {},
     "output_type": "display_data"
    },
    {
     "name": "stdout",
     "output_type": "stream",
     "text": [
      "trueHSR_indices 50 [17, 54, 95, 135, 171, 208, 246, 284, 322, 360, 395, 431, 463, 497, 531, 565, 600, 633, 666, 700, 734, 765, 800, 833, 866, 902, 936, 970, 1006, 1041, 1073, 1107, 1141, 1175, 1207, 1239, 1274, 1309, 1344, 1379, 1411, 1447, 1482, 1517, 1553, 1587, 1621, 1655, 1691, 1728]\n",
      "peaks 44 [  18   56   95  136  186  222  259  289  326  374  409  444  479  535\n",
      "  570  603  637  679  714  748  781  814  869  916  950  987 1020 1054\n",
      " 1088 1120 1154 1211 1250 1309 1359 1393 1423 1462 1520 1556 1595 1659\n",
      " 1697 1733]\n"
     ]
    },
    {
     "data": {
      "application/vnd.jupyter.widget-view+json": {
       "model_id": "aafe3828149a46fcb34cbd1d23122337",
       "version_major": 2,
       "version_minor": 0
      },
      "text/plain": [
       "Canvas(toolbar=Toolbar(toolitems=[('Home', 'Reset original view', 'home', 'home'), ('Back', 'Back to previous …"
      ]
     },
     "metadata": {},
     "output_type": "display_data"
    },
    {
     "name": "stdout",
     "output_type": "stream",
     "text": [
      "0 5\n"
     ]
    },
    {
     "data": {
      "application/vnd.jupyter.widget-view+json": {
       "model_id": "5f9e5471fff94c14b2ef4d5e03e70628",
       "version_major": 2,
       "version_minor": 0
      },
      "text/plain": [
       "Canvas(toolbar=Toolbar(toolitems=[('Home', 'Reset original view', 'home', 'home'), ('Back', 'Back to previous …"
      ]
     },
     "metadata": {},
     "output_type": "display_data"
    },
    {
     "name": "stdout",
     "output_type": "stream",
     "text": [
      "trueHSR_indices 50 [17, 54, 95, 135, 171, 208, 246, 284, 322, 360, 395, 431, 463, 497, 531, 565, 600, 633, 666, 700, 734, 765, 800, 833, 866, 902, 936, 970, 1006, 1041, 1073, 1107, 1141, 1175, 1207, 1239, 1274, 1309, 1344, 1379, 1411, 1447, 1482, 1517, 1553, 1587, 1621, 1655, 1691, 1728]\n",
      "peaks 48 [  15   53   97  134  184  220  259  298  328  361  397  430  476  509\n",
      "  543  576  612  647  677  712  744  776  813  870  901  940  973 1018\n",
      " 1054 1086 1119 1151 1185 1218 1253 1286 1323 1357 1391 1448 1493 1529\n",
      " 1560 1596 1631 1665 1703 1736]\n"
     ]
    },
    {
     "data": {
      "application/vnd.jupyter.widget-view+json": {
       "model_id": "99cdfaf799794f5b8c11f55eecaafd42",
       "version_major": 2,
       "version_minor": 0
      },
      "text/plain": [
       "Canvas(toolbar=Toolbar(toolitems=[('Home', 'Reset original view', 'home', 'home'), ('Back', 'Back to previous …"
      ]
     },
     "metadata": {},
     "output_type": "display_data"
    },
    {
     "name": "stdout",
     "output_type": "stream",
     "text": [
      "0 5\n"
     ]
    },
    {
     "data": {
      "application/vnd.jupyter.widget-view+json": {
       "model_id": "91da5debb5324968ba5e818f00ba32a2",
       "version_major": 2,
       "version_minor": 0
      },
      "text/plain": [
       "Canvas(toolbar=Toolbar(toolitems=[('Home', 'Reset original view', 'home', 'home'), ('Back', 'Back to previous …"
      ]
     },
     "metadata": {},
     "output_type": "display_data"
    },
    {
     "name": "stdout",
     "output_type": "stream",
     "text": [
      "trueHSR_indices 50 [17, 54, 95, 135, 171, 208, 246, 284, 322, 360, 395, 431, 463, 497, 531, 565, 600, 633, 666, 700, 734, 765, 800, 833, 866, 902, 936, 970, 1006, 1041, 1073, 1107, 1141, 1175, 1207, 1239, 1274, 1309, 1344, 1379, 1411, 1447, 1482, 1517, 1553, 1587, 1621, 1655, 1691, 1728]\n",
      "peaks 46 [  17   68   99  136  185  221  259  290  327  363  396  432  474  535\n",
      "  566  604  638  672  714  766  800  832  869  915  972 1010 1053 1088\n",
      " 1119 1152 1212 1250 1287 1322 1358 1392 1424 1461 1493 1528 1565 1596\n",
      " 1627 1658 1706 1736]\n"
     ]
    },
    {
     "data": {
      "application/vnd.jupyter.widget-view+json": {
       "model_id": "52d25b2b4dce4ac18c6ce99891ba236d",
       "version_major": 2,
       "version_minor": 0
      },
      "text/plain": [
       "Canvas(toolbar=Toolbar(toolitems=[('Home', 'Reset original view', 'home', 'home'), ('Back', 'Back to previous …"
      ]
     },
     "metadata": {},
     "output_type": "display_data"
    },
    {
     "name": "stdout",
     "output_type": "stream",
     "text": [
      "GVS_213_W_T2\n",
      "[17, 53, 92, 130, 165, 201, 239, 276, 310, 347, 383, 415, 448, 483, 517, 550, 584, 616, 648, 682, 715, 749, 782, 815, 850, 883, 916, 950, 983, 1016, 1050, 1086, 1118, 1154, 1190, 1224, 1258, 1293, 1328, 1362, 1397, 1431, 1467, 1501, 1535, 1569, 1603, 1639, 1672, 1708, 1742]\n",
      "0 1\n"
     ]
    },
    {
     "data": {
      "application/vnd.jupyter.widget-view+json": {
       "model_id": "42669979ad784c419ab59650718f91fe",
       "version_major": 2,
       "version_minor": 0
      },
      "text/plain": [
       "Canvas(toolbar=Toolbar(toolitems=[('Home', 'Reset original view', 'home', 'home'), ('Back', 'Back to previous …"
      ]
     },
     "metadata": {},
     "output_type": "display_data"
    },
    {
     "name": "stdout",
     "output_type": "stream",
     "text": [
      "trueHSR_indices 51 [17, 53, 92, 130, 165, 201, 239, 276, 310, 347, 383, 415, 448, 483, 517, 550, 584, 616, 648, 682, 715, 749, 782, 815, 850, 883, 916, 950, 983, 1016, 1050, 1086, 1118, 1154, 1190, 1224, 1258, 1293, 1328, 1362, 1396, 1430, 1466, 1500, 1534, 1568, 1602, 1638, 1671, 1707, 1741]\n",
      "peaks 46 [   7   57   94  146  181  217  256  292  350  388  431  463  519  564\n",
      "  597  631  662  718  762  798  832  864  897  932  964  996 1032 1064\n",
      " 1099 1133 1169 1205 1238 1272 1307 1343 1378 1410 1445 1481 1539 1574\n",
      " 1608 1643 1677 1711]\n"
     ]
    },
    {
     "data": {
      "application/vnd.jupyter.widget-view+json": {
       "model_id": "953f6d36a17d439291128783886162ed",
       "version_major": 2,
       "version_minor": 0
      },
      "text/plain": [
       "Canvas(toolbar=Toolbar(toolitems=[('Home', 'Reset original view', 'home', 'home'), ('Back', 'Back to previous …"
      ]
     },
     "metadata": {},
     "output_type": "display_data"
    },
    {
     "name": "stdout",
     "output_type": "stream",
     "text": [
      "0 1\n"
     ]
    },
    {
     "data": {
      "application/vnd.jupyter.widget-view+json": {
       "model_id": "b3fee71d00e044829be101515b0ec9ae",
       "version_major": 2,
       "version_minor": 0
      },
      "text/plain": [
       "Canvas(toolbar=Toolbar(toolitems=[('Home', 'Reset original view', 'home', 'home'), ('Back', 'Back to previous …"
      ]
     },
     "metadata": {},
     "output_type": "display_data"
    },
    {
     "name": "stdout",
     "output_type": "stream",
     "text": [
      "trueHSR_indices 51 [17, 53, 92, 130, 165, 201, 239, 276, 310, 347, 383, 415, 448, 483, 517, 550, 584, 616, 648, 682, 715, 749, 782, 815, 850, 883, 916, 950, 983, 1016, 1050, 1086, 1118, 1154, 1190, 1224, 1258, 1293, 1328, 1362, 1396, 1430, 1466, 1500, 1534, 1568, 1602, 1638, 1671, 1707, 1741]\n",
      "peaks 48 [  31   66  108  142  179  216  253  288  320  357  392  428  462  494\n",
      "  527  559  596  630  685  716  754  795  827  858  896  928  958  991\n",
      " 1024 1060 1097 1131 1165 1203 1237 1269 1305 1342 1373 1403 1445 1481\n",
      " 1543 1580 1616 1651 1685 1716]\n"
     ]
    },
    {
     "data": {
      "application/vnd.jupyter.widget-view+json": {
       "model_id": "cf2888b78c3247288ba3d6f0057487d0",
       "version_major": 2,
       "version_minor": 0
      },
      "text/plain": [
       "Canvas(toolbar=Toolbar(toolitems=[('Home', 'Reset original view', 'home', 'home'), ('Back', 'Back to previous …"
      ]
     },
     "metadata": {},
     "output_type": "display_data"
    },
    {
     "name": "stdout",
     "output_type": "stream",
     "text": [
      "0 1\n"
     ]
    },
    {
     "data": {
      "application/vnd.jupyter.widget-view+json": {
       "model_id": "bf0dc7ecd0f5432db759d360587a35e7",
       "version_major": 2,
       "version_minor": 0
      },
      "text/plain": [
       "Canvas(toolbar=Toolbar(toolitems=[('Home', 'Reset original view', 'home', 'home'), ('Back', 'Back to previous …"
      ]
     },
     "metadata": {},
     "output_type": "display_data"
    },
    {
     "name": "stdout",
     "output_type": "stream",
     "text": [
      "trueHSR_indices 51 [17, 53, 92, 130, 165, 201, 239, 276, 310, 347, 383, 415, 448, 483, 517, 550, 584, 616, 648, 682, 715, 749, 782, 815, 850, 883, 916, 950, 983, 1016, 1050, 1086, 1118, 1154, 1190, 1224, 1258, 1293, 1328, 1362, 1396, 1430, 1466, 1500, 1534, 1568, 1602, 1638, 1671, 1707, 1741]\n",
      "peaks 46 [   6   66  108  145  181  216  279  315  351  395  429  485  519  563\n",
      "  597  627  687  717  756  786  831  864  897  931  963  995 1032 1064\n",
      " 1099 1133 1163 1204 1237 1272 1306 1342 1373 1404 1445 1481 1540 1579\n",
      " 1609 1644 1678 1711]\n"
     ]
    },
    {
     "data": {
      "application/vnd.jupyter.widget-view+json": {
       "model_id": "97797fb17b5442068699e1a2c870f319",
       "version_major": 2,
       "version_minor": 0
      },
      "text/plain": [
       "Canvas(toolbar=Toolbar(toolitems=[('Home', 'Reset original view', 'home', 'home'), ('Back', 'Back to previous …"
      ]
     },
     "metadata": {},
     "output_type": "display_data"
    },
    {
     "name": "stdout",
     "output_type": "stream",
     "text": [
      "GVS_214_W_T1\n",
      "[43, 87, 123, 159, 198, 239, 274, 309, 345, 379, 412, 445, 479, 510, 541, 571, 602, 632, 661, 690, 718, 748, 775, 804, 834, 861, 891, 917, 946, 974, 1001, 1030, 1058, 1087, 1114, 1143, 1170, 1199, 1227, 1255, 1284, 1311, 1341, 1368, 1397, 1424, 1453, 1483, 1510, 1538, 1566, 1595, 1623, 1651, 1681, 1708, 1737]\n",
      "0 31\n"
     ]
    },
    {
     "data": {
      "application/vnd.jupyter.widget-view+json": {
       "model_id": "c30d37100cfb4c608e8246072d3e2793",
       "version_major": 2,
       "version_minor": 0
      },
      "text/plain": [
       "Canvas(toolbar=Toolbar(toolitems=[('Home', 'Reset original view', 'home', 'home'), ('Back', 'Back to previous …"
      ]
     },
     "metadata": {},
     "output_type": "display_data"
    },
    {
     "name": "stdout",
     "output_type": "stream",
     "text": [
      "trueHSR_indices 56 [43, 85, 121, 157, 195, 235, 269, 304, 336, 370, 403, 436, 470, 500, 531, 561, 592, 621, 647, 676, 704, 734, 760, 789, 818, 843, 873, 899, 928, 956, 983, 1012, 1038, 1066, 1092, 1121, 1148, 1177, 1205, 1232, 1260, 1287, 1316, 1342, 1371, 1398, 1427, 1457, 1484, 1512, 1536, 1565, 1620, 1650, 1677, 1706]\n",
      "peaks 40 [  21   56  101  134  168  207  249  282  314  368  401  434  481  529\n",
      "  563  602  647  678  739  770  801  845  878  930  986 1018 1067 1103\n",
      " 1136 1178 1233 1290 1342 1405 1438 1486 1538 1591 1647 1708]\n"
     ]
    },
    {
     "data": {
      "application/vnd.jupyter.widget-view+json": {
       "model_id": "6256c6e0a3514a62aba101e5d7071025",
       "version_major": 2,
       "version_minor": 0
      },
      "text/plain": [
       "Canvas(toolbar=Toolbar(toolitems=[('Home', 'Reset original view', 'home', 'home'), ('Back', 'Back to previous …"
      ]
     },
     "metadata": {},
     "output_type": "display_data"
    },
    {
     "name": "stdout",
     "output_type": "stream",
     "text": [
      "0 31\n"
     ]
    },
    {
     "data": {
      "application/vnd.jupyter.widget-view+json": {
       "model_id": "7787a607a7574ca092025ef29cc49921",
       "version_major": 2,
       "version_minor": 0
      },
      "text/plain": [
       "Canvas(toolbar=Toolbar(toolitems=[('Home', 'Reset original view', 'home', 'home'), ('Back', 'Back to previous …"
      ]
     },
     "metadata": {},
     "output_type": "display_data"
    },
    {
     "name": "stdout",
     "output_type": "stream",
     "text": [
      "trueHSR_indices 56 [43, 85, 121, 157, 195, 235, 269, 304, 336, 370, 403, 436, 470, 500, 531, 561, 592, 621, 647, 676, 704, 734, 760, 789, 818, 843, 873, 899, 928, 956, 983, 1012, 1038, 1066, 1092, 1121, 1148, 1177, 1205, 1232, 1260, 1287, 1316, 1342, 1371, 1398, 1427, 1457, 1484, 1512, 1536, 1565, 1620, 1650, 1677, 1706]\n",
      "peaks 39 [  11   42  100  133  169  207  245  281  334  380  413  446  498  542\n",
      "  591  631  676  711  741  799  853  883  928  966 1020 1093 1148 1185\n",
      " 1215 1260 1297 1353 1405 1437 1485 1522 1575 1648 1708]\n"
     ]
    },
    {
     "data": {
      "application/vnd.jupyter.widget-view+json": {
       "model_id": "0428a3282fc344199e1346b893696b55",
       "version_major": 2,
       "version_minor": 0
      },
      "text/plain": [
       "Canvas(toolbar=Toolbar(toolitems=[('Home', 'Reset original view', 'home', 'home'), ('Back', 'Back to previous …"
      ]
     },
     "metadata": {},
     "output_type": "display_data"
    },
    {
     "name": "stdout",
     "output_type": "stream",
     "text": [
      "0 31\n"
     ]
    },
    {
     "data": {
      "application/vnd.jupyter.widget-view+json": {
       "model_id": "2774aa674b5a4d4ab5875d12955769c5",
       "version_major": 2,
       "version_minor": 0
      },
      "text/plain": [
       "Canvas(toolbar=Toolbar(toolitems=[('Home', 'Reset original view', 'home', 'home'), ('Back', 'Back to previous …"
      ]
     },
     "metadata": {},
     "output_type": "display_data"
    },
    {
     "name": "stdout",
     "output_type": "stream",
     "text": [
      "trueHSR_indices 56 [43, 85, 121, 157, 195, 235, 269, 304, 336, 370, 403, 436, 470, 500, 531, 561, 592, 621, 647, 676, 704, 734, 760, 789, 818, 843, 873, 899, 928, 956, 983, 1012, 1038, 1066, 1092, 1121, 1148, 1177, 1205, 1232, 1260, 1287, 1316, 1342, 1371, 1398, 1427, 1457, 1484, 1512, 1536, 1565, 1620, 1650, 1677, 1706]\n",
      "peaks 42 [   4   40  100  133  168  207  248  281  334  367  401  446  481  530\n",
      "  560  591  647  704  734  769  800  851  883  934  991 1038 1103 1136\n",
      " 1177 1211 1241 1298 1342 1381 1426 1457 1512 1547 1591 1647 1677 1708]\n"
     ]
    },
    {
     "data": {
      "application/vnd.jupyter.widget-view+json": {
       "model_id": "d67281933dba464c87d47cf82a47a683",
       "version_major": 2,
       "version_minor": 0
      },
      "text/plain": [
       "Canvas(toolbar=Toolbar(toolitems=[('Home', 'Reset original view', 'home', 'home'), ('Back', 'Back to previous …"
      ]
     },
     "metadata": {},
     "output_type": "display_data"
    },
    {
     "name": "stdout",
     "output_type": "stream",
     "text": [
      "GVS_214_W_T2\n",
      "[9, 43, 71, 103, 133, 163, 194, 224, 255, 288, 317, 348, 379, 407, 437, 467, 496, 525, 555, 584, 612, 641, 668, 698, 727, 754, 782, 811, 838, 867, 895, 923, 951, 979, 1008, 1036, 1065, 1093, 1121, 1151, 1179, 1207, 1235, 1263, 1291, 1319, 1348, 1375, 1405, 1434, 1462, 1490, 1517, 1547, 1574, 1603, 1631, 1660, 1688, 1715]\n",
      "0 33\n"
     ]
    },
    {
     "data": {
      "application/vnd.jupyter.widget-view+json": {
       "model_id": "5ad01a9d748643298dce9b031149868c",
       "version_major": 2,
       "version_minor": 0
      },
      "text/plain": [
       "Canvas(toolbar=Toolbar(toolitems=[('Home', 'Reset original view', 'home', 'home'), ('Back', 'Back to previous …"
      ]
     },
     "metadata": {},
     "output_type": "display_data"
    },
    {
     "name": "stdout",
     "output_type": "stream",
     "text": [
      "trueHSR_indices 59 [8, 42, 70, 102, 132, 162, 192, 222, 252, 285, 314, 342, 373, 401, 430, 460, 489, 516, 546, 574, 602, 630, 657, 687, 715, 742, 769, 798, 825, 854, 882, 910, 938, 962, 989, 1017, 1045, 1073, 1101, 1130, 1157, 1185, 1213, 1241, 1264, 1291, 1342, 1372, 1401, 1429, 1457, 1484, 1514, 1541, 1570, 1598, 1627, 1655, 1682]\n",
      "peaks 39 [   6   52  102  163  202  235  285  344  374  432  491  527  575  631\n",
      "  670  716  769  799  833  879  939  988 1020 1054 1084 1127 1186 1222\n",
      " 1267 1302 1342 1376 1411 1459 1494 1543 1602 1657 1693]\n"
     ]
    },
    {
     "data": {
      "application/vnd.jupyter.widget-view+json": {
       "model_id": "6f120d590ac94bcabe6da16f7b8df4a7",
       "version_major": 2,
       "version_minor": 0
      },
      "text/plain": [
       "Canvas(toolbar=Toolbar(toolitems=[('Home', 'Reset original view', 'home', 'home'), ('Back', 'Back to previous …"
      ]
     },
     "metadata": {},
     "output_type": "display_data"
    },
    {
     "name": "stdout",
     "output_type": "stream",
     "text": [
      "0 33\n"
     ]
    },
    {
     "data": {
      "application/vnd.jupyter.widget-view+json": {
       "model_id": "6bc6ff265f474f9faf043a0d531eb6d3",
       "version_major": 2,
       "version_minor": 0
      },
      "text/plain": [
       "Canvas(toolbar=Toolbar(toolitems=[('Home', 'Reset original view', 'home', 'home'), ('Back', 'Back to previous …"
      ]
     },
     "metadata": {},
     "output_type": "display_data"
    },
    {
     "name": "stdout",
     "output_type": "stream",
     "text": [
      "trueHSR_indices 59 [8, 42, 70, 102, 132, 162, 192, 222, 252, 285, 314, 342, 373, 401, 430, 460, 489, 516, 546, 574, 602, 630, 657, 687, 715, 742, 769, 798, 825, 854, 882, 910, 938, 962, 989, 1017, 1045, 1073, 1101, 1130, 1157, 1185, 1213, 1241, 1264, 1291, 1342, 1372, 1401, 1429, 1457, 1484, 1514, 1541, 1570, 1598, 1627, 1655, 1682]\n",
      "peaks 40 [   8   49   82  138  171  202  232  263  312  348  381  412  458  490\n",
      "  528  574  629  695  741  778  833  881  911  947  997 1052 1082 1137\n",
      " 1184 1221 1273 1325 1370 1400 1457 1493 1551 1608 1655 1692]\n"
     ]
    },
    {
     "data": {
      "application/vnd.jupyter.widget-view+json": {
       "model_id": "6f02f6feb4d9458f84f608147f9657b2",
       "version_major": 2,
       "version_minor": 0
      },
      "text/plain": [
       "Canvas(toolbar=Toolbar(toolitems=[('Home', 'Reset original view', 'home', 'home'), ('Back', 'Back to previous …"
      ]
     },
     "metadata": {},
     "output_type": "display_data"
    },
    {
     "name": "stdout",
     "output_type": "stream",
     "text": [
      "0 33\n"
     ]
    },
    {
     "data": {
      "application/vnd.jupyter.widget-view+json": {
       "model_id": "8574035616984c49a06e3b1f642b20a1",
       "version_major": 2,
       "version_minor": 0
      },
      "text/plain": [
       "Canvas(toolbar=Toolbar(toolitems=[('Home', 'Reset original view', 'home', 'home'), ('Back', 'Back to previous …"
      ]
     },
     "metadata": {},
     "output_type": "display_data"
    },
    {
     "name": "stdout",
     "output_type": "stream",
     "text": [
      "trueHSR_indices 59 [8, 42, 70, 102, 132, 162, 192, 222, 252, 285, 314, 342, 373, 401, 430, 460, 489, 516, 546, 574, 602, 630, 657, 687, 715, 742, 769, 798, 825, 854, 882, 910, 938, 962, 989, 1017, 1045, 1073, 1101, 1130, 1157, 1185, 1213, 1241, 1264, 1291, 1342, 1372, 1401, 1429, 1457, 1484, 1514, 1541, 1570, 1598, 1627, 1655, 1682]\n",
      "peaks 39 [  19   82  138  171  202  232  263  313  348  402  458  488  519  575\n",
      "  607  657  696  741  796  832  880  912  948  989 1046 1083 1155 1190\n",
      " 1239 1271 1319 1376 1406 1438 1488 1520 1580 1625 1664]\n"
     ]
    },
    {
     "data": {
      "application/vnd.jupyter.widget-view+json": {
       "model_id": "dad85a2fc845436eb2f37af461eac1e8",
       "version_major": 2,
       "version_minor": 0
      },
      "text/plain": [
       "Canvas(toolbar=Toolbar(toolitems=[('Home', 'Reset original view', 'home', 'home'), ('Back', 'Back to previous …"
      ]
     },
     "metadata": {},
     "output_type": "display_data"
    },
    {
     "name": "stdout",
     "output_type": "stream",
     "text": [
      "GVS_215_W_T1\n",
      "[23, 59, 91, 125, 164, 199, 235, 271, 304, 337, 368, 399, 433, 464, 496, 530, 561, 595, 628, 661, 692, 727, 757, 790, 823, 857, 891, 923, 955, 991, 1022, 1053, 1086, 1117, 1149, 1181, 1212, 1245, 1277, 1310, 1341, 1373, 1404, 1437, 1468, 1500, 1532, 1562, 1594, 1627, 1658, 1690, 1721]\n",
      "0 4\n"
     ]
    },
    {
     "data": {
      "application/vnd.jupyter.widget-view+json": {
       "model_id": "0873d5df9af94ff0945dac4d6974d189",
       "version_major": 2,
       "version_minor": 0
      },
      "text/plain": [
       "Canvas(toolbar=Toolbar(toolitems=[('Home', 'Reset original view', 'home', 'home'), ('Back', 'Back to previous …"
      ]
     },
     "metadata": {},
     "output_type": "display_data"
    },
    {
     "name": "stdout",
     "output_type": "stream",
     "text": [
      "trueHSR_indices 52 [23, 57, 89, 123, 195, 231, 267, 300, 333, 364, 395, 429, 460, 492, 526, 557, 591, 624, 657, 688, 723, 753, 786, 819, 853, 887, 919, 951, 987, 1018, 1049, 1082, 1113, 1145, 1177, 1208, 1241, 1273, 1306, 1337, 1369, 1400, 1433, 1464, 1496, 1528, 1558, 1590, 1623, 1654, 1686, 1717]\n",
      "peaks 45 [  34   90  124  167  206  244  280  312  344  376  429  471  504  538\n",
      "  591  631  668  703  734  766  827  865  898  931  965  996 1055 1088\n",
      " 1121 1153 1187 1220 1253 1285 1318 1349 1380 1439 1496 1538 1601 1633\n",
      " 1665 1695 1730]\n"
     ]
    },
    {
     "data": {
      "application/vnd.jupyter.widget-view+json": {
       "model_id": "a84f33e968c441c59d64302fd53cf4cf",
       "version_major": 2,
       "version_minor": 0
      },
      "text/plain": [
       "Canvas(toolbar=Toolbar(toolitems=[('Home', 'Reset original view', 'home', 'home'), ('Back', 'Back to previous …"
      ]
     },
     "metadata": {},
     "output_type": "display_data"
    },
    {
     "name": "stdout",
     "output_type": "stream",
     "text": [
      "0 4\n"
     ]
    },
    {
     "data": {
      "application/vnd.jupyter.widget-view+json": {
       "model_id": "49f06c7a6fb2469992864d4cf6f8939e",
       "version_major": 2,
       "version_minor": 0
      },
      "text/plain": [
       "Canvas(toolbar=Toolbar(toolitems=[('Home', 'Reset original view', 'home', 'home'), ('Back', 'Back to previous …"
      ]
     },
     "metadata": {},
     "output_type": "display_data"
    },
    {
     "name": "stdout",
     "output_type": "stream",
     "text": [
      "trueHSR_indices 52 [23, 57, 89, 123, 195, 231, 267, 300, 333, 364, 395, 429, 460, 492, 526, 557, 591, 624, 657, 688, 723, 753, 786, 819, 853, 887, 919, 951, 987, 1018, 1049, 1082, 1113, 1145, 1177, 1208, 1241, 1273, 1306, 1337, 1369, 1400, 1433, 1464, 1496, 1528, 1558, 1590, 1623, 1654, 1686, 1717]\n",
      "peaks 45 [  23   56   98  158  209  241  279  312  368  406  467  505  536  569\n",
      "  601  635  668  701  732  790  853  886  920  952  985 1018 1049 1084\n",
      " 1114 1145 1181 1240 1281 1337 1367 1400 1431 1465 1506 1557 1589 1619\n",
      " 1653 1686 1716]\n"
     ]
    },
    {
     "data": {
      "application/vnd.jupyter.widget-view+json": {
       "model_id": "78f029609f454c1a920729f4a74cf86c",
       "version_major": 2,
       "version_minor": 0
      },
      "text/plain": [
       "Canvas(toolbar=Toolbar(toolitems=[('Home', 'Reset original view', 'home', 'home'), ('Back', 'Back to previous …"
      ]
     },
     "metadata": {},
     "output_type": "display_data"
    },
    {
     "name": "stdout",
     "output_type": "stream",
     "text": [
      "0 4\n"
     ]
    },
    {
     "data": {
      "application/vnd.jupyter.widget-view+json": {
       "model_id": "e84ffe50379543a3b6309a72a2c78044",
       "version_major": 2,
       "version_minor": 0
      },
      "text/plain": [
       "Canvas(toolbar=Toolbar(toolitems=[('Home', 'Reset original view', 'home', 'home'), ('Back', 'Back to previous …"
      ]
     },
     "metadata": {},
     "output_type": "display_data"
    },
    {
     "name": "stdout",
     "output_type": "stream",
     "text": [
      "trueHSR_indices 52 [23, 57, 89, 123, 195, 231, 267, 300, 333, 364, 395, 429, 460, 492, 526, 557, 591, 624, 657, 688, 723, 753, 786, 819, 853, 887, 919, 951, 987, 1018, 1049, 1082, 1113, 1145, 1177, 1208, 1241, 1273, 1306, 1337, 1369, 1400, 1433, 1464, 1496, 1528, 1558, 1590, 1623, 1654, 1686, 1717]\n",
      "peaks 46 [  25   57   88  124  174  209  242  280  339  399  433  500  530  565\n",
      "  597  627  660  699  730  766  825  864  895  931  963  996 1029 1060\n",
      " 1093 1125 1181 1218 1252 1285 1340 1376 1406 1440 1473 1534 1565 1600\n",
      " 1633 1664 1695 1728]\n"
     ]
    },
    {
     "data": {
      "application/vnd.jupyter.widget-view+json": {
       "model_id": "e0768e8f0d034570817c8136659c0705",
       "version_major": 2,
       "version_minor": 0
      },
      "text/plain": [
       "Canvas(toolbar=Toolbar(toolitems=[('Home', 'Reset original view', 'home', 'home'), ('Back', 'Back to previous …"
      ]
     },
     "metadata": {},
     "output_type": "display_data"
    },
    {
     "name": "stdout",
     "output_type": "stream",
     "text": [
      "GVS_215_W_T2\n",
      "[6, 48, 85, 122, 158, 190, 222, 255, 289, 322, 357, 392, 426, 458, 492, 524, 558, 591, 623, 657, 690, 722, 757, 793, 825, 857, 891, 921, 954, 987, 1017, 1050, 1083, 1116, 1149, 1182, 1214, 1247, 1279, 1311, 1343, 1372, 1401, 1430, 1460, 1491, 1521, 1552, 1582, 1613, 1643, 1674, 1704, 1736]\n",
      "0 0\n"
     ]
    },
    {
     "data": {
      "application/vnd.jupyter.widget-view+json": {
       "model_id": "c92ba9c6dde5483daae2ad61c911254f",
       "version_major": 2,
       "version_minor": 0
      },
      "text/plain": [
       "Canvas(toolbar=Toolbar(toolitems=[('Home', 'Reset original view', 'home', 'home'), ('Back', 'Back to previous …"
      ]
     },
     "metadata": {},
     "output_type": "display_data"
    },
    {
     "name": "stdout",
     "output_type": "stream",
     "text": [
      "trueHSR_indices 54 [6, 48, 85, 122, 158, 190, 222, 255, 289, 322, 357, 392, 426, 458, 492, 524, 558, 591, 623, 657, 690, 722, 757, 793, 825, 857, 891, 921, 954, 987, 1017, 1050, 1083, 1116, 1149, 1182, 1214, 1247, 1279, 1311, 1343, 1372, 1401, 1430, 1460, 1491, 1521, 1552, 1582, 1613, 1643, 1674, 1704, 1736]\n",
      "peaks 45 [  13   52   99  138  196  237  269  302  338  371  430  468  503  538\n",
      "  570  604  636  696  732  772  805  867  898  928  964 1001 1032 1063\n",
      " 1094 1130 1186 1224 1254 1291 1323 1353 1403 1462 1493 1523 1555 1585\n",
      " 1616 1675 1707]\n"
     ]
    },
    {
     "data": {
      "application/vnd.jupyter.widget-view+json": {
       "model_id": "1a2ccc1d3f5b4d6c928c092b6cf4d57c",
       "version_major": 2,
       "version_minor": 0
      },
      "text/plain": [
       "Canvas(toolbar=Toolbar(toolitems=[('Home', 'Reset original view', 'home', 'home'), ('Back', 'Back to previous …"
      ]
     },
     "metadata": {},
     "output_type": "display_data"
    },
    {
     "name": "stdout",
     "output_type": "stream",
     "text": [
      "0 0\n"
     ]
    },
    {
     "data": {
      "application/vnd.jupyter.widget-view+json": {
       "model_id": "3be63a5f6f4d41e38c7eb6eb8d7e3a7f",
       "version_major": 2,
       "version_minor": 0
      },
      "text/plain": [
       "Canvas(toolbar=Toolbar(toolitems=[('Home', 'Reset original view', 'home', 'home'), ('Back', 'Back to previous …"
      ]
     },
     "metadata": {},
     "output_type": "display_data"
    },
    {
     "name": "stdout",
     "output_type": "stream",
     "text": [
      "trueHSR_indices 54 [6, 48, 85, 122, 158, 190, 222, 255, 289, 322, 357, 392, 426, 458, 492, 524, 558, 591, 623, 657, 690, 722, 757, 793, 825, 857, 891, 921, 954, 987, 1017, 1050, 1083, 1116, 1149, 1182, 1214, 1247, 1279, 1311, 1343, 1372, 1401, 1430, 1460, 1491, 1521, 1552, 1582, 1613, 1643, 1674, 1704, 1736]\n",
      "peaks 43 [  14   50   99  131  162  222  256  292  323  358  394  426  459  493\n",
      "  526  569  626  657  691  723  770  804  838  899  955  998 1060 1093\n",
      " 1129 1192 1227 1258 1318 1351 1406 1439 1492 1528 1583 1615 1645 1682\n",
      " 1735]\n"
     ]
    },
    {
     "data": {
      "application/vnd.jupyter.widget-view+json": {
       "model_id": "d704f530eddf43ea9a59e53c049f500b",
       "version_major": 2,
       "version_minor": 0
      },
      "text/plain": [
       "Canvas(toolbar=Toolbar(toolitems=[('Home', 'Reset original view', 'home', 'home'), ('Back', 'Back to previous …"
      ]
     },
     "metadata": {},
     "output_type": "display_data"
    },
    {
     "name": "stdout",
     "output_type": "stream",
     "text": [
      "0 0\n"
     ]
    },
    {
     "data": {
      "application/vnd.jupyter.widget-view+json": {
       "model_id": "58e0bfcbb6eb4bcab59fd3d132de55ad",
       "version_major": 2,
       "version_minor": 0
      },
      "text/plain": [
       "Canvas(toolbar=Toolbar(toolitems=[('Home', 'Reset original view', 'home', 'home'), ('Back', 'Back to previous …"
      ]
     },
     "metadata": {},
     "output_type": "display_data"
    },
    {
     "name": "stdout",
     "output_type": "stream",
     "text": [
      "trueHSR_indices 54 [6, 48, 85, 122, 158, 190, 222, 255, 289, 322, 357, 392, 426, 458, 492, 524, 558, 591, 623, 657, 690, 722, 757, 793, 825, 857, 891, 921, 954, 987, 1017, 1050, 1083, 1116, 1149, 1182, 1214, 1247, 1279, 1311, 1343, 1372, 1401, 1430, 1460, 1491, 1521, 1552, 1582, 1613, 1643, 1674, 1704, 1736]\n",
      "peaks 44 [  24   60   98  131  163  195  233  268  301  332  364  398  430  471\n",
      "  502  537  599  630  664  699  729  794  833  863  902  936  998 1030\n",
      " 1092 1130 1187 1219 1254 1290 1347 1404 1436 1469 1524 1555 1588 1624\n",
      " 1654 1716]\n"
     ]
    },
    {
     "data": {
      "application/vnd.jupyter.widget-view+json": {
       "model_id": "831f807199704e95869562b8192e09c4",
       "version_major": 2,
       "version_minor": 0
      },
      "text/plain": [
       "Canvas(toolbar=Toolbar(toolitems=[('Home', 'Reset original view', 'home', 'home'), ('Back', 'Back to previous …"
      ]
     },
     "metadata": {},
     "output_type": "display_data"
    },
    {
     "name": "stdout",
     "output_type": "stream",
     "text": [
      "GVS_216_W_T1\n",
      "[16, 60, 102, 146, 187, 222, 257, 295, 331, 368, 400, 432, 464, 497, 527, 558, 589, 617, 647, 677, 705, 735, 762, 793, 821, 851, 882, 910, 940, 971, 1002, 1033, 1063, 1094, 1124, 1156, 1187, 1217, 1249, 1279, 1309, 1341, 1372, 1403, 1434, 1464, 1496, 1527, 1559, 1590, 1620, 1651, 1683, 1712, 1744]\n",
      "0 13\n"
     ]
    },
    {
     "data": {
      "application/vnd.jupyter.widget-view+json": {
       "model_id": "801d98f071114989bfc7cb2c4e393a64",
       "version_major": 2,
       "version_minor": 0
      },
      "text/plain": [
       "Canvas(toolbar=Toolbar(toolitems=[('Home', 'Reset original view', 'home', 'home'), ('Back', 'Back to previous …"
      ]
     },
     "metadata": {},
     "output_type": "display_data"
    },
    {
     "name": "stdout",
     "output_type": "stream",
     "text": [
      "trueHSR_indices 55 [16, 60, 102, 146, 187, 222, 253, 290, 326, 363, 395, 427, 459, 492, 522, 552, 583, 611, 641, 671, 699, 727, 754, 785, 813, 843, 873, 901, 930, 961, 992, 1023, 1053, 1084, 1114, 1146, 1177, 1207, 1239, 1268, 1298, 1330, 1361, 1392, 1423, 1452, 1484, 1515, 1547, 1577, 1607, 1638, 1670, 1699, 1731]\n",
      "peaks 42 [   4   34   68  121  160  199  261  291  330  377  407  440  474  511\n",
      "  560  614  676  710  740  796  826  874  912  943 1003 1034 1087 1128\n",
      " 1160 1193 1247 1301 1363 1395 1429 1460 1490 1553 1585 1615 1671 1702]\n"
     ]
    },
    {
     "data": {
      "application/vnd.jupyter.widget-view+json": {
       "model_id": "5a709d3893bd4a28bd219f9fdc3bf245",
       "version_major": 2,
       "version_minor": 0
      },
      "text/plain": [
       "Canvas(toolbar=Toolbar(toolitems=[('Home', 'Reset original view', 'home', 'home'), ('Back', 'Back to previous …"
      ]
     },
     "metadata": {},
     "output_type": "display_data"
    },
    {
     "name": "stdout",
     "output_type": "stream",
     "text": [
      "0 13\n"
     ]
    },
    {
     "data": {
      "application/vnd.jupyter.widget-view+json": {
       "model_id": "ced170cec6ab4551a66338b6476e536c",
       "version_major": 2,
       "version_minor": 0
      },
      "text/plain": [
       "Canvas(toolbar=Toolbar(toolitems=[('Home', 'Reset original view', 'home', 'home'), ('Back', 'Back to previous …"
      ]
     },
     "metadata": {},
     "output_type": "display_data"
    },
    {
     "name": "stdout",
     "output_type": "stream",
     "text": [
      "trueHSR_indices 55 [16, 60, 102, 146, 187, 222, 253, 290, 326, 363, 395, 427, 459, 492, 522, 552, 583, 611, 641, 671, 699, 727, 754, 785, 813, 843, 873, 901, 930, 961, 992, 1023, 1053, 1084, 1114, 1146, 1177, 1207, 1239, 1268, 1298, 1330, 1361, 1392, 1423, 1452, 1484, 1515, 1547, 1577, 1607, 1638, 1670, 1699, 1731]\n",
      "peaks 42 [  27   69  120  156  194  229  262  300  339  374  404  460  491  522\n",
      "  557  591  621  652  726  784  820  853  883  939 1001 1052 1085 1123\n",
      " 1153 1216 1247 1307 1362 1394 1433 1463 1493 1553 1583 1613 1647 1677]\n"
     ]
    },
    {
     "data": {
      "application/vnd.jupyter.widget-view+json": {
       "model_id": "1ccfe0aafed14633a3415a4219837be3",
       "version_major": 2,
       "version_minor": 0
      },
      "text/plain": [
       "Canvas(toolbar=Toolbar(toolitems=[('Home', 'Reset original view', 'home', 'home'), ('Back', 'Back to previous …"
      ]
     },
     "metadata": {},
     "output_type": "display_data"
    },
    {
     "name": "stdout",
     "output_type": "stream",
     "text": [
      "0 13\n"
     ]
    },
    {
     "data": {
      "application/vnd.jupyter.widget-view+json": {
       "model_id": "d9ca087ea3b64c9a81b33a500f53b752",
       "version_major": 2,
       "version_minor": 0
      },
      "text/plain": [
       "Canvas(toolbar=Toolbar(toolitems=[('Home', 'Reset original view', 'home', 'home'), ('Back', 'Back to previous …"
      ]
     },
     "metadata": {},
     "output_type": "display_data"
    },
    {
     "name": "stdout",
     "output_type": "stream",
     "text": [
      "trueHSR_indices 55 [16, 60, 102, 146, 187, 222, 253, 290, 326, 363, 395, 427, 459, 492, 522, 552, 583, 611, 641, 671, 699, 727, 754, 785, 813, 843, 873, 901, 930, 961, 992, 1023, 1053, 1084, 1114, 1146, 1177, 1207, 1239, 1268, 1298, 1330, 1361, 1392, 1423, 1452, 1484, 1515, 1547, 1577, 1607, 1638, 1670, 1699, 1731]\n",
      "peaks 44 [  27   69  120  158  197  232  266  299  331  377  440  470  501  556\n",
      "  590  623  676  709  760  796  826  856  902  939  974 1021 1051 1090\n",
      " 1122 1158 1213 1245 1275 1305 1337 1367 1429 1490 1523 1583 1614 1646\n",
      " 1676 1706]\n"
     ]
    },
    {
     "data": {
      "application/vnd.jupyter.widget-view+json": {
       "model_id": "b0ffd24008834b10bf33cc2176c863a1",
       "version_major": 2,
       "version_minor": 0
      },
      "text/plain": [
       "Canvas(toolbar=Toolbar(toolitems=[('Home', 'Reset original view', 'home', 'home'), ('Back', 'Back to previous …"
      ]
     },
     "metadata": {},
     "output_type": "display_data"
    },
    {
     "name": "stdout",
     "output_type": "stream",
     "text": [
      "GVS_216_W_T2\n",
      "[10, 54, 89, 122, 159, 190, 219, 249, 278, 304, 334, 361, 390, 417, 445, 472, 500, 528, 555, 582, 610, 637, 664, 691, 720, 747, 773, 803, 831, 859, 886, 913, 942, 968, 997, 1024, 1053, 1081, 1107, 1136, 1163, 1191, 1217, 1246, 1273, 1301, 1329, 1357, 1384, 1411, 1440, 1467, 1495, 1522, 1550, 1578, 1605, 1633, 1659, 1687, 1714]\n",
      "0 17\n"
     ]
    },
    {
     "data": {
      "application/vnd.jupyter.widget-view+json": {
       "model_id": "77810fb4173b40249016205bb2691b1d",
       "version_major": 2,
       "version_minor": 0
      },
      "text/plain": [
       "Canvas(toolbar=Toolbar(toolitems=[('Home', 'Reset original view', 'home', 'home'), ('Back', 'Back to previous …"
      ]
     },
     "metadata": {},
     "output_type": "display_data"
    },
    {
     "name": "stdout",
     "output_type": "stream",
     "text": [
      "trueHSR_indices 61 [10, 50, 84, 114, 151, 182, 211, 241, 270, 295, 325, 352, 381, 408, 436, 463, 491, 519, 546, 573, 601, 628, 654, 681, 710, 736, 761, 791, 819, 847, 874, 901, 930, 956, 985, 1012, 1041, 1069, 1094, 1123, 1150, 1178, 1203, 1232, 1259, 1287, 1314, 1341, 1368, 1395, 1424, 1451, 1479, 1506, 1533, 1561, 1588, 1616, 1642, 1670, 1697]\n",
      "peaks 41 [  20   55   96  131  164  194  240  273  304  359  392  446  489  522\n",
      "  571  606  638  684  738  771  821  880  912  960 1014 1050 1095 1157\n",
      " 1205 1240 1288 1322 1369 1425 1461 1509 1561 1594 1625 1671 1705]\n"
     ]
    },
    {
     "data": {
      "application/vnd.jupyter.widget-view+json": {
       "model_id": "383b35f9bad84c64a2badfc523452a4c",
       "version_major": 2,
       "version_minor": 0
      },
      "text/plain": [
       "Canvas(toolbar=Toolbar(toolitems=[('Home', 'Reset original view', 'home', 'home'), ('Back', 'Back to previous …"
      ]
     },
     "metadata": {},
     "output_type": "display_data"
    },
    {
     "name": "stdout",
     "output_type": "stream",
     "text": [
      "0 17\n"
     ]
    },
    {
     "data": {
      "application/vnd.jupyter.widget-view+json": {
       "model_id": "aded55077afb4f058bc807e08cfab96b",
       "version_major": 2,
       "version_minor": 0
      },
      "text/plain": [
       "Canvas(toolbar=Toolbar(toolitems=[('Home', 'Reset original view', 'home', 'home'), ('Back', 'Back to previous …"
      ]
     },
     "metadata": {},
     "output_type": "display_data"
    },
    {
     "name": "stdout",
     "output_type": "stream",
     "text": [
      "trueHSR_indices 61 [10, 50, 84, 114, 151, 182, 211, 241, 270, 295, 325, 352, 381, 408, 436, 463, 491, 519, 546, 573, 601, 628, 654, 681, 710, 736, 761, 791, 819, 847, 874, 901, 930, 956, 985, 1012, 1041, 1069, 1094, 1123, 1150, 1178, 1203, 1232, 1259, 1287, 1314, 1341, 1368, 1395, 1424, 1451, 1479, 1506, 1533, 1561, 1588, 1616, 1642, 1670, 1697]\n",
      "peaks 38 [  15   48   94  126  158  191  249  305  359  416  470  500  545  583\n",
      "  626  662  718  772  828  873  909  962  994 1048 1094 1131 1184 1230\n",
      " 1264 1295 1347 1403 1461 1510 1567 1614 1649 1696]\n"
     ]
    },
    {
     "data": {
      "application/vnd.jupyter.widget-view+json": {
       "model_id": "e90e33bcd2ba4f4aba5d85e582cdc619",
       "version_major": 2,
       "version_minor": 0
      },
      "text/plain": [
       "Canvas(toolbar=Toolbar(toolitems=[('Home', 'Reset original view', 'home', 'home'), ('Back', 'Back to previous …"
      ]
     },
     "metadata": {},
     "output_type": "display_data"
    },
    {
     "name": "stdout",
     "output_type": "stream",
     "text": [
      "0 17\n"
     ]
    },
    {
     "data": {
      "application/vnd.jupyter.widget-view+json": {
       "model_id": "e793881700a349a19e4df9a7eb275763",
       "version_major": 2,
       "version_minor": 0
      },
      "text/plain": [
       "Canvas(toolbar=Toolbar(toolitems=[('Home', 'Reset original view', 'home', 'home'), ('Back', 'Back to previous …"
      ]
     },
     "metadata": {},
     "output_type": "display_data"
    },
    {
     "name": "stdout",
     "output_type": "stream",
     "text": [
      "trueHSR_indices 61 [10, 50, 84, 114, 151, 182, 211, 241, 270, 295, 325, 352, 381, 408, 436, 463, 491, 519, 546, 573, 601, 628, 654, 681, 710, 736, 761, 791, 819, 847, 874, 901, 930, 956, 985, 1012, 1041, 1069, 1094, 1123, 1150, 1178, 1203, 1232, 1259, 1287, 1314, 1341, 1368, 1395, 1424, 1451, 1479, 1506, 1533, 1561, 1588, 1616, 1642, 1670, 1697]\n",
      "peaks 39 [  23   59   94  126  163  193  234  274  304  359  392  435  470  522\n",
      "  572  606  636  684  715  768  828  880  938  984 1014 1077 1131 1184\n",
      " 1237 1288 1341 1374 1433 1477 1517 1560 1623 1671 1705]\n"
     ]
    },
    {
     "data": {
      "application/vnd.jupyter.widget-view+json": {
       "model_id": "99253b0c522744959698184a3a051173",
       "version_major": 2,
       "version_minor": 0
      },
      "text/plain": [
       "Canvas(toolbar=Toolbar(toolitems=[('Home', 'Reset original view', 'home', 'home'), ('Back', 'Back to previous …"
      ]
     },
     "metadata": {},
     "output_type": "display_data"
    },
    {
     "name": "stdout",
     "output_type": "stream",
     "text": [
      "GVS_217_W_T1\n",
      "[22, 92, 141, 191, 240, 285, 325, 366, 402, 438, 474, 512, 549, 585, 621, 658, 695, 733, 770, 805, 841, 876, 911, 948, 984, 1020, 1056, 1092, 1127, 1162, 1197, 1232, 1267, 1303, 1337, 1370, 1405, 1441, 1476, 1510, 1547, 1581, 1615, 1650, 1685, 1718]\n",
      "0 9\n"
     ]
    },
    {
     "data": {
      "application/vnd.jupyter.widget-view+json": {
       "model_id": "aace2b7461b74eaba042a96f648dc0aa",
       "version_major": 2,
       "version_minor": 0
      },
      "text/plain": [
       "Canvas(toolbar=Toolbar(toolitems=[('Home', 'Reset original view', 'home', 'home'), ('Back', 'Back to previous …"
      ]
     },
     "metadata": {},
     "output_type": "display_data"
    },
    {
     "name": "stdout",
     "output_type": "stream",
     "text": [
      "trueHSR_indices 46 [22, 92, 141, 191, 240, 285, 325, 366, 402, 435, 471, 509, 546, 581, 617, 654, 691, 729, 765, 800, 836, 870, 905, 942, 977, 1013, 1049, 1085, 1120, 1155, 1190, 1225, 1260, 1296, 1330, 1363, 1398, 1434, 1468, 1501, 1538, 1572, 1606, 1641, 1676, 1709]\n",
      "peaks 41 [  24   58  108  139  197  238  286  324  373  414  449  485  522  555\n",
      "  592  633  688  741  778  810  845  884  940  987 1024 1062 1095 1129\n",
      " 1163 1225 1257 1319 1362 1406 1445 1478 1535 1570 1616 1674 1726]\n"
     ]
    },
    {
     "data": {
      "application/vnd.jupyter.widget-view+json": {
       "model_id": "7e51adf068fb4b1cb5d97d5181881ad8",
       "version_major": 2,
       "version_minor": 0
      },
      "text/plain": [
       "Canvas(toolbar=Toolbar(toolitems=[('Home', 'Reset original view', 'home', 'home'), ('Back', 'Back to previous …"
      ]
     },
     "metadata": {},
     "output_type": "display_data"
    },
    {
     "name": "stdout",
     "output_type": "stream",
     "text": [
      "0 9\n"
     ]
    },
    {
     "data": {
      "application/vnd.jupyter.widget-view+json": {
       "model_id": "aba6a16831674210886279e4f105db5a",
       "version_major": 2,
       "version_minor": 0
      },
      "text/plain": [
       "Canvas(toolbar=Toolbar(toolitems=[('Home', 'Reset original view', 'home', 'home'), ('Back', 'Back to previous …"
      ]
     },
     "metadata": {},
     "output_type": "display_data"
    },
    {
     "name": "stdout",
     "output_type": "stream",
     "text": [
      "trueHSR_indices 46 [22, 92, 141, 191, 240, 285, 325, 366, 402, 435, 471, 509, 546, 581, 617, 654, 691, 729, 765, 800, 836, 870, 905, 942, 977, 1013, 1049, 1085, 1120, 1155, 1190, 1225, 1260, 1296, 1330, 1363, 1398, 1434, 1468, 1501, 1538, 1572, 1606, 1641, 1676, 1709]\n",
      "peaks 43 [  20   59  107  149  189  242  285  324  374  415  449  508  557  593\n",
      "  631  661  691  727  777  808  867  903  940  975 1010 1047 1084 1117\n",
      " 1152 1188 1224 1259 1295 1328 1362 1406 1446 1499 1535 1577 1612 1647\n",
      " 1708]\n"
     ]
    },
    {
     "data": {
      "application/vnd.jupyter.widget-view+json": {
       "model_id": "e6b215f01f2843139cc78daac072ba13",
       "version_major": 2,
       "version_minor": 0
      },
      "text/plain": [
       "Canvas(toolbar=Toolbar(toolitems=[('Home', 'Reset original view', 'home', 'home'), ('Back', 'Back to previous …"
      ]
     },
     "metadata": {},
     "output_type": "display_data"
    },
    {
     "name": "stdout",
     "output_type": "stream",
     "text": [
      "0 9\n"
     ]
    },
    {
     "data": {
      "application/vnd.jupyter.widget-view+json": {
       "model_id": "d0f01dc860d249859ea4b086a5d3306e",
       "version_major": 2,
       "version_minor": 0
      },
      "text/plain": [
       "Canvas(toolbar=Toolbar(toolitems=[('Home', 'Reset original view', 'home', 'home'), ('Back', 'Back to previous …"
      ]
     },
     "metadata": {},
     "output_type": "display_data"
    },
    {
     "name": "stdout",
     "output_type": "stream",
     "text": [
      "trueHSR_indices 46 [22, 92, 141, 191, 240, 285, 325, 366, 402, 435, 471, 509, 546, 581, 617, 654, 691, 729, 765, 800, 836, 870, 905, 942, 977, 1013, 1049, 1085, 1120, 1155, 1190, 1225, 1260, 1296, 1330, 1363, 1398, 1434, 1468, 1501, 1538, 1572, 1606, 1641, 1676, 1709]\n",
      "peaks 44 [  17   47  107  141  190  242  285  324  369  415  450  509  546  589\n",
      "  619  655  691  728  777  808  867  903  940  975 1011 1047 1084 1117\n",
      " 1161 1193 1225 1259 1295 1329 1362 1406 1446 1499 1535 1577 1612 1646\n",
      " 1676 1712]\n"
     ]
    },
    {
     "data": {
      "application/vnd.jupyter.widget-view+json": {
       "model_id": "bc526fd8c67949a0a0a7b6ccc89c3dad",
       "version_major": 2,
       "version_minor": 0
      },
      "text/plain": [
       "Canvas(toolbar=Toolbar(toolitems=[('Home', 'Reset original view', 'home', 'home'), ('Back', 'Back to previous …"
      ]
     },
     "metadata": {},
     "output_type": "display_data"
    },
    {
     "name": "stdout",
     "output_type": "stream",
     "text": [
      "GVS_217_W_T2\n",
      "[45, 88, 131, 170, 207, 247, 283, 320, 355, 391, 427, 461, 496, 532, 565, 599, 633, 667, 700, 734, 768, 802, 835, 867, 901, 934, 966, 1001, 1034, 1068, 1102, 1135, 1168, 1201, 1234, 1267, 1301, 1335, 1367, 1401, 1435, 1466, 1501, 1535, 1567, 1601, 1636, 1669, 1702, 1736]\n",
      "0 13\n"
     ]
    },
    {
     "data": {
      "application/vnd.jupyter.widget-view+json": {
       "model_id": "c7709e3a9dcf4a429bf5abd3435ded43",
       "version_major": 2,
       "version_minor": 0
      },
      "text/plain": [
       "Canvas(toolbar=Toolbar(toolitems=[('Home', 'Reset original view', 'home', 'home'), ('Back', 'Back to previous …"
      ]
     },
     "metadata": {},
     "output_type": "display_data"
    },
    {
     "name": "stdout",
     "output_type": "stream",
     "text": [
      "trueHSR_indices 50 [45, 88, 131, 170, 207, 247, 283, 320, 355, 390, 424, 458, 492, 528, 561, 595, 628, 662, 694, 726, 760, 793, 825, 857, 891, 924, 956, 991, 1024, 1058, 1092, 1125, 1158, 1191, 1224, 1257, 1291, 1325, 1357, 1391, 1425, 1456, 1491, 1524, 1556, 1589, 1624, 1656, 1689, 1723]\n",
      "peaks 47 [  11   43   84  128  174  209  249  280  319  366  423  467  502  534\n",
      "  570  607  638  676  736  768  801  836  867  900  934  968 1000 1033\n",
      " 1067 1101 1136 1167 1200 1234 1266 1300 1334 1367 1403 1434 1467 1505\n",
      " 1566 1600 1631 1667 1699]\n"
     ]
    },
    {
     "data": {
      "application/vnd.jupyter.widget-view+json": {
       "model_id": "98a10b01cb0d4fefaef8de77b1b900d1",
       "version_major": 2,
       "version_minor": 0
      },
      "text/plain": [
       "Canvas(toolbar=Toolbar(toolitems=[('Home', 'Reset original view', 'home', 'home'), ('Back', 'Back to previous …"
      ]
     },
     "metadata": {},
     "output_type": "display_data"
    },
    {
     "name": "stdout",
     "output_type": "stream",
     "text": [
      "0 13\n"
     ]
    },
    {
     "data": {
      "application/vnd.jupyter.widget-view+json": {
       "model_id": "5c867d35eb9e49a69d2b9b7d87ccd327",
       "version_major": 2,
       "version_minor": 0
      },
      "text/plain": [
       "Canvas(toolbar=Toolbar(toolitems=[('Home', 'Reset original view', 'home', 'home'), ('Back', 'Back to previous …"
      ]
     },
     "metadata": {},
     "output_type": "display_data"
    },
    {
     "name": "stdout",
     "output_type": "stream",
     "text": [
      "trueHSR_indices 50 [45, 88, 131, 170, 207, 247, 283, 320, 355, 390, 424, 458, 492, 528, 561, 595, 628, 662, 694, 726, 760, 793, 825, 857, 891, 924, 956, 991, 1024, 1058, 1092, 1125, 1158, 1191, 1224, 1257, 1291, 1325, 1357, 1391, 1425, 1456, 1491, 1524, 1556, 1589, 1624, 1656, 1689, 1723]\n",
      "peaks 48 [  12   43   85  128  176  208  248  286  333  366  401  436  471  504\n",
      "  540  571  607  638  670  705  739  773  806  836  871  904  936  970\n",
      " 1003 1056 1104 1137 1171 1204 1235 1279 1322 1355 1405 1438 1469 1504\n",
      " 1538 1571 1601 1635 1688 1721]\n"
     ]
    },
    {
     "data": {
      "application/vnd.jupyter.widget-view+json": {
       "model_id": "f860bbbc895c454b8783dc915665be2e",
       "version_major": 2,
       "version_minor": 0
      },
      "text/plain": [
       "Canvas(toolbar=Toolbar(toolitems=[('Home', 'Reset original view', 'home', 'home'), ('Back', 'Back to previous …"
      ]
     },
     "metadata": {},
     "output_type": "display_data"
    },
    {
     "name": "stdout",
     "output_type": "stream",
     "text": [
      "0 13\n"
     ]
    },
    {
     "data": {
      "application/vnd.jupyter.widget-view+json": {
       "model_id": "4441a62af7e74c8d8cef7f82df0b21b9",
       "version_major": 2,
       "version_minor": 0
      },
      "text/plain": [
       "Canvas(toolbar=Toolbar(toolitems=[('Home', 'Reset original view', 'home', 'home'), ('Back', 'Back to previous …"
      ]
     },
     "metadata": {},
     "output_type": "display_data"
    },
    {
     "name": "stdout",
     "output_type": "stream",
     "text": [
      "trueHSR_indices 50 [45, 88, 131, 170, 207, 247, 283, 320, 355, 390, 424, 458, 492, 528, 561, 595, 628, 662, 694, 726, 760, 793, 825, 857, 891, 924, 956, 991, 1024, 1058, 1092, 1125, 1158, 1191, 1224, 1257, 1291, 1325, 1357, 1391, 1425, 1456, 1491, 1524, 1556, 1589, 1624, 1656, 1689, 1723]\n",
      "peaks 49 [  16   51   85  137  175  208  249  286  319  366  398  431  471  504\n",
      "  540  571  607  638  676  706  739  773  806  836  871  904  936  970\n",
      " 1003 1038 1073 1104 1138 1171 1204 1235 1279 1322 1355 1405 1438 1469\n",
      " 1504 1538 1571 1601 1635 1689 1722]\n"
     ]
    },
    {
     "data": {
      "application/vnd.jupyter.widget-view+json": {
       "model_id": "75facef946904fca96961e32b7a462b9",
       "version_major": 2,
       "version_minor": 0
      },
      "text/plain": [
       "Canvas(toolbar=Toolbar(toolitems=[('Home', 'Reset original view', 'home', 'home'), ('Back', 'Back to previous …"
      ]
     },
     "metadata": {},
     "output_type": "display_data"
    },
    {
     "name": "stdout",
     "output_type": "stream",
     "text": [
      "GVS_218_W_T1\n",
      "[24, 66, 103, 142, 176, 215, 250, 286, 320, 355, 391, 424, 459, 495, 530, 563, 598, 634, 670, 705, 741, 777, 811, 845, 880, 915, 950, 985, 1019, 1054, 1089, 1123, 1157, 1193, 1229, 1262, 1297, 1332, 1366, 1402, 1437, 1471, 1507, 1541, 1574, 1609, 1644, 1679, 1714]\n",
      "0 27\n"
     ]
    },
    {
     "data": {
      "application/vnd.jupyter.widget-view+json": {
       "model_id": "7e3c8b15688247f4873a5a07d5ef3d4b",
       "version_major": 2,
       "version_minor": 0
      },
      "text/plain": [
       "Canvas(toolbar=Toolbar(toolitems=[('Home', 'Reset original view', 'home', 'home'), ('Back', 'Back to previous …"
      ]
     },
     "metadata": {},
     "output_type": "display_data"
    },
    {
     "name": "stdout",
     "output_type": "stream",
     "text": [
      "trueHSR_indices 48 [24, 66, 103, 140, 167, 205, 267, 298, 333, 369, 402, 437, 473, 508, 541, 574, 610, 646, 681, 716, 752, 786, 820, 855, 890, 924, 959, 993, 1028, 1063, 1097, 1131, 1167, 1203, 1236, 1271, 1306, 1340, 1376, 1410, 1444, 1480, 1514, 1547, 1582, 1617, 1652, 1687]\n",
      "peaks 45 [  21   74  112  143  176  208  270  323  373  411  448  480  514  548\n",
      "  579  616  653  689  723  754  794  827  866  905  961  995 1030 1065\n",
      " 1097 1136 1169 1208 1239 1269 1310 1344 1379 1413 1450 1482 1519 1551\n",
      " 1584 1648 1700]\n"
     ]
    },
    {
     "data": {
      "application/vnd.jupyter.widget-view+json": {
       "model_id": "e4d950c9745f4a839d7e5363680dbade",
       "version_major": 2,
       "version_minor": 0
      },
      "text/plain": [
       "Canvas(toolbar=Toolbar(toolitems=[('Home', 'Reset original view', 'home', 'home'), ('Back', 'Back to previous …"
      ]
     },
     "metadata": {},
     "output_type": "display_data"
    },
    {
     "name": "stdout",
     "output_type": "stream",
     "text": [
      "0 27\n"
     ]
    },
    {
     "data": {
      "application/vnd.jupyter.widget-view+json": {
       "model_id": "ecbf3e295c1d46079c51a388398df00d",
       "version_major": 2,
       "version_minor": 0
      },
      "text/plain": [
       "Canvas(toolbar=Toolbar(toolitems=[('Home', 'Reset original view', 'home', 'home'), ('Back', 'Back to previous …"
      ]
     },
     "metadata": {},
     "output_type": "display_data"
    },
    {
     "name": "stdout",
     "output_type": "stream",
     "text": [
      "trueHSR_indices 48 [24, 66, 103, 140, 167, 205, 267, 298, 333, 369, 402, 437, 473, 508, 541, 574, 610, 646, 681, 716, 752, 786, 820, 855, 890, 924, 959, 993, 1028, 1063, 1097, 1131, 1167, 1203, 1236, 1271, 1306, 1340, 1376, 1410, 1444, 1480, 1514, 1547, 1582, 1617, 1652, 1687]\n",
      "peaks 46 [  24   77  117  147  180  212  264  304  345  376  407  440  475  507\n",
      "  545  584  615  649  683  718  753  787  820  856  893  923  957  992\n",
      " 1026 1062 1099 1132 1166 1212 1246 1281 1341 1386 1422 1456 1515 1545\n",
      " 1583 1616 1649 1697]\n"
     ]
    },
    {
     "data": {
      "application/vnd.jupyter.widget-view+json": {
       "model_id": "266d8330f56543ef88f79d044a8a92f4",
       "version_major": 2,
       "version_minor": 0
      },
      "text/plain": [
       "Canvas(toolbar=Toolbar(toolitems=[('Home', 'Reset original view', 'home', 'home'), ('Back', 'Back to previous …"
      ]
     },
     "metadata": {},
     "output_type": "display_data"
    },
    {
     "name": "stdout",
     "output_type": "stream",
     "text": [
      "0 27\n"
     ]
    },
    {
     "data": {
      "application/vnd.jupyter.widget-view+json": {
       "model_id": "8e35a0115a014311a40fdfc423ae3816",
       "version_major": 2,
       "version_minor": 0
      },
      "text/plain": [
       "Canvas(toolbar=Toolbar(toolitems=[('Home', 'Reset original view', 'home', 'home'), ('Back', 'Back to previous …"
      ]
     },
     "metadata": {},
     "output_type": "display_data"
    },
    {
     "name": "stdout",
     "output_type": "stream",
     "text": [
      "trueHSR_indices 48 [24, 66, 103, 140, 167, 205, 267, 298, 333, 369, 402, 437, 473, 508, 541, 574, 610, 646, 681, 716, 752, 786, 820, 855, 890, 924, 959, 993, 1028, 1063, 1097, 1131, 1167, 1203, 1236, 1271, 1306, 1340, 1376, 1410, 1444, 1480, 1514, 1547, 1582, 1617, 1652, 1687]\n",
      "peaks 42 [  24   75  117  180  216  270  332  376  409  448  485  519  575  615\n",
      "  658  688  723  755  794  827  859  890  931  965  995 1029 1061 1098\n",
      " 1136 1178 1232 1284 1343 1379 1410 1448 1479 1514 1548 1578 1649 1701]\n"
     ]
    },
    {
     "data": {
      "application/vnd.jupyter.widget-view+json": {
       "model_id": "c9ff5bba43df49b0ba4e0b01597e807f",
       "version_major": 2,
       "version_minor": 0
      },
      "text/plain": [
       "Canvas(toolbar=Toolbar(toolitems=[('Home', 'Reset original view', 'home', 'home'), ('Back', 'Back to previous …"
      ]
     },
     "metadata": {},
     "output_type": "display_data"
    },
    {
     "name": "stdout",
     "output_type": "stream",
     "text": [
      "GVS_218_W_T2\n",
      "[29, 68, 108, 147, 181, 215, 248, 281, 311, 346, 375, 407, 440, 471, 504, 537, 568, 601, 632, 663, 696, 728, 760, 792, 823, 855, 887, 918, 951, 983, 1015, 1048, 1079, 1111, 1143, 1174, 1205, 1237, 1267, 1300, 1330, 1361, 1393, 1425, 1456, 1488, 1519, 1552, 1583, 1615, 1648, 1679, 1711, 1743]\n",
      "0 50\n"
     ]
    },
    {
     "data": {
      "application/vnd.jupyter.widget-view+json": {
       "model_id": "21d934981a484316a868b8aea620663d",
       "version_major": 2,
       "version_minor": 0
      },
      "text/plain": [
       "Canvas(toolbar=Toolbar(toolitems=[('Home', 'Reset original view', 'home', 'home'), ('Back', 'Back to previous …"
      ]
     },
     "metadata": {},
     "output_type": "display_data"
    },
    {
     "name": "stdout",
     "output_type": "stream",
     "text": [
      "trueHSR_indices 54 [29, 68, 96, 124, 151, 182, 211, 243, 272, 307, 336, 368, 401, 431, 464, 497, 528, 560, 590, 621, 654, 685, 717, 749, 780, 812, 844, 874, 907, 939, 971, 1004, 1035, 1066, 1097, 1128, 1159, 1191, 1221, 1254, 1284, 1315, 1346, 1378, 1409, 1440, 1471, 1503, 1534, 1566, 1599, 1630, 1662, 1693]\n",
      "peaks 43 [  36   95  125  187  245  278  308  338  399  429  466  499  531  564\n",
      "  619  662  693  729  764  806  852  884  937  973 1006 1044 1077 1116\n",
      " 1162 1194 1255 1289 1319 1349 1380 1423 1474 1505 1564 1602 1634 1664\n",
      " 1695]\n"
     ]
    },
    {
     "data": {
      "application/vnd.jupyter.widget-view+json": {
       "model_id": "9272c112f33f4804a7534cabff03ca8c",
       "version_major": 2,
       "version_minor": 0
      },
      "text/plain": [
       "Canvas(toolbar=Toolbar(toolitems=[('Home', 'Reset original view', 'home', 'home'), ('Back', 'Back to previous …"
      ]
     },
     "metadata": {},
     "output_type": "display_data"
    },
    {
     "name": "stdout",
     "output_type": "stream",
     "text": [
      "0 50\n"
     ]
    },
    {
     "data": {
      "application/vnd.jupyter.widget-view+json": {
       "model_id": "14a477bd74ee4f1d90067bd9999aa81f",
       "version_major": 2,
       "version_minor": 0
      },
      "text/plain": [
       "Canvas(toolbar=Toolbar(toolitems=[('Home', 'Reset original view', 'home', 'home'), ('Back', 'Back to previous …"
      ]
     },
     "metadata": {},
     "output_type": "display_data"
    },
    {
     "name": "stdout",
     "output_type": "stream",
     "text": [
      "trueHSR_indices 54 [29, 68, 96, 124, 151, 182, 211, 243, 272, 307, 336, 368, 401, 431, 464, 497, 528, 560, 590, 621, 654, 685, 717, 749, 780, 812, 844, 874, 907, 939, 971, 1004, 1035, 1066, 1097, 1128, 1159, 1191, 1221, 1254, 1284, 1315, 1346, 1378, 1409, 1440, 1471, 1503, 1534, 1566, 1599, 1630, 1662, 1693]\n",
      "peaks 43 [  32   79  132  192  250  280  314  345  407  441  475  508  560  590\n",
      "  624  655  686  717  752  791  847  908  950 1004 1038 1068 1099 1157\n",
      " 1189 1231 1264 1294 1351 1388 1418 1450 1501 1531 1565 1596 1630 1671\n",
      " 1704]\n"
     ]
    },
    {
     "data": {
      "application/vnd.jupyter.widget-view+json": {
       "model_id": "8817d4a57d6640a49040243057e331e7",
       "version_major": 2,
       "version_minor": 0
      },
      "text/plain": [
       "Canvas(toolbar=Toolbar(toolitems=[('Home', 'Reset original view', 'home', 'home'), ('Back', 'Back to previous …"
      ]
     },
     "metadata": {},
     "output_type": "display_data"
    },
    {
     "name": "stdout",
     "output_type": "stream",
     "text": [
      "0 50\n"
     ]
    },
    {
     "data": {
      "application/vnd.jupyter.widget-view+json": {
       "model_id": "69e30bc59a3c4e9b9fe835a659121753",
       "version_major": 2,
       "version_minor": 0
      },
      "text/plain": [
       "Canvas(toolbar=Toolbar(toolitems=[('Home', 'Reset original view', 'home', 'home'), ('Back', 'Back to previous …"
      ]
     },
     "metadata": {},
     "output_type": "display_data"
    },
    {
     "name": "stdout",
     "output_type": "stream",
     "text": [
      "trueHSR_indices 54 [29, 68, 96, 124, 151, 182, 211, 243, 272, 307, 336, 368, 401, 431, 464, 497, 528, 560, 590, 621, 654, 685, 717, 749, 780, 812, 844, 874, 907, 939, 971, 1004, 1035, 1066, 1097, 1128, 1159, 1191, 1221, 1254, 1284, 1315, 1346, 1378, 1409, 1440, 1471, 1503, 1534, 1566, 1599, 1630, 1662, 1693]\n",
      "peaks 47 [  30   77  119  152  182  217  248  279  310  340  372  403  434  465\n",
      "  496  529  564  624  657  692  752  782  843  873  908  940  975 1007\n",
      " 1039 1076 1115 1161 1199 1255 1289 1320 1379 1412 1443 1474 1504 1535\n",
      " 1565 1596 1632 1673 1703]\n"
     ]
    },
    {
     "data": {
      "application/vnd.jupyter.widget-view+json": {
       "model_id": "4a032fa18b3e4ed18dca14522f9dd481",
       "version_major": 2,
       "version_minor": 0
      },
      "text/plain": [
       "Canvas(toolbar=Toolbar(toolitems=[('Home', 'Reset original view', 'home', 'home'), ('Back', 'Back to previous …"
      ]
     },
     "metadata": {},
     "output_type": "display_data"
    },
    {
     "name": "stdout",
     "output_type": "stream",
     "text": [
      "GVS_219_W_T1\n",
      "[15, 51, 89, 120, 148, 177, 203, 230, 258, 289, 322, 355, 388, 418, 453, 485, 516, 549, 582, 613, 646, 678, 709, 743, 773, 806, 838, 871, 902, 934, 967, 1000, 1032, 1065, 1098, 1131, 1164, 1197, 1229, 1264, 1299, 1332, 1365, 1399, 1433, 1470, 1505, 1540, 1574, 1609, 1642, 1677, 1709, 1743]\n",
      "0 83\n"
     ]
    },
    {
     "data": {
      "application/vnd.jupyter.widget-view+json": {
       "model_id": "b8d5fd4f53b54dda81f85e801d284f1a",
       "version_major": 2,
       "version_minor": 0
      },
      "text/plain": [
       "Canvas(toolbar=Toolbar(toolitems=[('Home', 'Reset original view', 'home', 'home'), ('Back', 'Back to previous …"
      ]
     },
     "metadata": {},
     "output_type": "display_data"
    },
    {
     "name": "stdout",
     "output_type": "stream",
     "text": [
      "trueHSR_indices 52 [15, 51, 88, 109, 126, 153, 181, 212, 244, 277, 310, 340, 375, 406, 437, 470, 503, 534, 567, 599, 628, 662, 692, 725, 757, 790, 821, 853, 886, 918, 949, 982, 1015, 1048, 1081, 1114, 1146, 1181, 1216, 1249, 1282, 1316, 1350, 1387, 1422, 1457, 1491, 1526, 1559, 1594, 1626, 1660]\n",
      "peaks 43 [  25   62  104  157  212  245  278  312  342  375  407  444  476  534\n",
      "  568  599  662  701  759  800  832  865  918  958  990 1023 1057 1091\n",
      " 1123 1157 1193 1226 1259 1290 1352 1400 1434 1491 1528 1559 1594 1633\n",
      " 1668]\n"
     ]
    },
    {
     "data": {
      "application/vnd.jupyter.widget-view+json": {
       "model_id": "2d45aa291a4a4cc08149a880a29d1231",
       "version_major": 2,
       "version_minor": 0
      },
      "text/plain": [
       "Canvas(toolbar=Toolbar(toolitems=[('Home', 'Reset original view', 'home', 'home'), ('Back', 'Back to previous …"
      ]
     },
     "metadata": {},
     "output_type": "display_data"
    },
    {
     "name": "stdout",
     "output_type": "stream",
     "text": [
      "0 83\n"
     ]
    },
    {
     "data": {
      "application/vnd.jupyter.widget-view+json": {
       "model_id": "f609d48b334845338946acc42a738320",
       "version_major": 2,
       "version_minor": 0
      },
      "text/plain": [
       "Canvas(toolbar=Toolbar(toolitems=[('Home', 'Reset original view', 'home', 'home'), ('Back', 'Back to previous …"
      ]
     },
     "metadata": {},
     "output_type": "display_data"
    },
    {
     "name": "stdout",
     "output_type": "stream",
     "text": [
      "trueHSR_indices 52 [15, 51, 88, 109, 126, 153, 181, 212, 244, 277, 310, 340, 375, 406, 437, 470, 503, 534, 567, 599, 628, 662, 692, 725, 757, 790, 821, 853, 886, 918, 949, 982, 1015, 1048, 1081, 1114, 1146, 1181, 1216, 1249, 1282, 1316, 1350, 1387, 1422, 1457, 1491, 1526, 1559, 1594, 1626, 1660]\n",
      "peaks 41 [  50   85  122  152  210  245  287  349  407  444  478  535  567  602\n",
      "  660  695  726  758  821  853  885  918  951  981 1020 1079 1111 1146\n",
      " 1183 1225 1259 1313 1362 1396 1432 1466 1526 1557 1596 1628 1665]\n"
     ]
    },
    {
     "data": {
      "application/vnd.jupyter.widget-view+json": {
       "model_id": "347d845e3040477095425b7d44f58aff",
       "version_major": 2,
       "version_minor": 0
      },
      "text/plain": [
       "Canvas(toolbar=Toolbar(toolitems=[('Home', 'Reset original view', 'home', 'home'), ('Back', 'Back to previous …"
      ]
     },
     "metadata": {},
     "output_type": "display_data"
    },
    {
     "name": "stdout",
     "output_type": "stream",
     "text": [
      "0 83\n"
     ]
    },
    {
     "data": {
      "application/vnd.jupyter.widget-view+json": {
       "model_id": "016eb6b5e8cf4af6b89cbe4e52df52fb",
       "version_major": 2,
       "version_minor": 0
      },
      "text/plain": [
       "Canvas(toolbar=Toolbar(toolitems=[('Home', 'Reset original view', 'home', 'home'), ('Back', 'Back to previous …"
      ]
     },
     "metadata": {},
     "output_type": "display_data"
    },
    {
     "name": "stdout",
     "output_type": "stream",
     "text": [
      "trueHSR_indices 52 [15, 51, 88, 109, 126, 153, 181, 212, 244, 277, 310, 340, 375, 406, 437, 470, 503, 534, 567, 599, 628, 662, 692, 725, 757, 790, 821, 853, 886, 918, 949, 982, 1015, 1048, 1081, 1114, 1146, 1181, 1216, 1249, 1282, 1316, 1350, 1387, 1422, 1457, 1491, 1526, 1559, 1594, 1626, 1660]\n",
      "peaks 43 [  21   53   85  122  152  212  247  287  343  378  415  448  480  534\n",
      "  568  599  663  701  758  798  858  891  927  958  992 1024 1058 1113\n",
      " 1153 1191 1226 1259 1289 1320 1358 1425 1457 1495 1532 1568 1604 1635\n",
      " 1669]\n"
     ]
    },
    {
     "data": {
      "application/vnd.jupyter.widget-view+json": {
       "model_id": "2d3cd6d6bd4248aa9709621470f4973d",
       "version_major": 2,
       "version_minor": 0
      },
      "text/plain": [
       "Canvas(toolbar=Toolbar(toolitems=[('Home', 'Reset original view', 'home', 'home'), ('Back', 'Back to previous …"
      ]
     },
     "metadata": {},
     "output_type": "display_data"
    },
    {
     "name": "stdout",
     "output_type": "stream",
     "text": [
      "GVS_219_W_T2\n",
      "[32, 70, 113, 153, 188, 213, 241, 268, 294, 323, 353, 387, 418, 450, 482, 511, 541, 571, 603, 634, 666, 696, 726, 757, 788, 818, 850, 881, 911, 941, 972, 1003, 1035, 1065, 1096, 1127, 1158, 1189, 1218, 1250, 1282, 1312, 1345, 1374, 1405, 1436, 1468, 1499, 1530, 1561, 1592, 1623, 1654, 1685, 1715]\n",
      "0 150\n"
     ]
    },
    {
     "data": {
      "application/vnd.jupyter.widget-view+json": {
       "model_id": "b65a365cde8148b38a399202e6917e58",
       "version_major": 2,
       "version_minor": 0
      },
      "text/plain": [
       "Canvas(toolbar=Toolbar(toolitems=[('Home', 'Reset original view', 'home', 'home'), ('Back', 'Back to previous …"
      ]
     },
     "metadata": {},
     "output_type": "display_data"
    },
    {
     "name": "stdout",
     "output_type": "stream",
     "text": [
      "trueHSR_indices 51 [32, 70, 82, 112, 129, 150, 179, 209, 243, 274, 305, 337, 366, 396, 426, 458, 489, 521, 551, 581, 612, 643, 673, 705, 736, 766, 796, 827, 858, 890, 920, 951, 1012, 1042, 1071, 1103, 1135, 1165, 1198, 1226, 1257, 1288, 1320, 1351, 1382, 1413, 1443, 1474, 1504, 1535, 1565]\n",
      "peaks 40 [  35   87  124  179  211  243  276  306  338  399  459  492  528  558\n",
      "  591  621  683  716  768  802  844  890  920  955  991 1043 1073 1103\n",
      " 1137 1167 1198 1229 1270 1300 1353 1384 1423 1475 1512 1566]\n"
     ]
    },
    {
     "data": {
      "application/vnd.jupyter.widget-view+json": {
       "model_id": "d484718b96b4402785bdd2f5f9586c2e",
       "version_major": 2,
       "version_minor": 0
      },
      "text/plain": [
       "Canvas(toolbar=Toolbar(toolitems=[('Home', 'Reset original view', 'home', 'home'), ('Back', 'Back to previous …"
      ]
     },
     "metadata": {},
     "output_type": "display_data"
    },
    {
     "name": "stdout",
     "output_type": "stream",
     "text": [
      "0 150\n"
     ]
    },
    {
     "data": {
      "application/vnd.jupyter.widget-view+json": {
       "model_id": "759a6d6a478b40d2b7e96d547fa402f3",
       "version_major": 2,
       "version_minor": 0
      },
      "text/plain": [
       "Canvas(toolbar=Toolbar(toolitems=[('Home', 'Reset original view', 'home', 'home'), ('Back', 'Back to previous …"
      ]
     },
     "metadata": {},
     "output_type": "display_data"
    },
    {
     "name": "stdout",
     "output_type": "stream",
     "text": [
      "trueHSR_indices 51 [32, 70, 82, 112, 129, 150, 179, 209, 243, 274, 305, 337, 366, 396, 426, 458, 489, 521, 551, 581, 612, 643, 673, 705, 736, 766, 796, 827, 858, 890, 920, 951, 1012, 1042, 1071, 1103, 1135, 1165, 1198, 1226, 1257, 1288, 1320, 1351, 1382, 1413, 1443, 1474, 1504, 1535, 1565]\n",
      "peaks 39 [  34   79  135  177  212  244  280  311  341  376  407  458  492  553\n",
      "  613  653  685  735  766  806  838  889  919  960 1012 1042 1103 1135\n",
      " 1165 1197 1236 1290 1352 1383 1413 1444 1474 1535 1577]\n"
     ]
    },
    {
     "data": {
      "application/vnd.jupyter.widget-view+json": {
       "model_id": "f5ee9f45c78548589ceee9c5003d8f48",
       "version_major": 2,
       "version_minor": 0
      },
      "text/plain": [
       "Canvas(toolbar=Toolbar(toolitems=[('Home', 'Reset original view', 'home', 'home'), ('Back', 'Back to previous …"
      ]
     },
     "metadata": {},
     "output_type": "display_data"
    },
    {
     "name": "stdout",
     "output_type": "stream",
     "text": [
      "0 150\n"
     ]
    },
    {
     "data": {
      "application/vnd.jupyter.widget-view+json": {
       "model_id": "86fe98267d4a49b9899c2a50720ffbac",
       "version_major": 2,
       "version_minor": 0
      },
      "text/plain": [
       "Canvas(toolbar=Toolbar(toolitems=[('Home', 'Reset original view', 'home', 'home'), ('Back', 'Back to previous …"
      ]
     },
     "metadata": {},
     "output_type": "display_data"
    },
    {
     "name": "stdout",
     "output_type": "stream",
     "text": [
      "trueHSR_indices 51 [32, 70, 82, 112, 129, 150, 179, 209, 243, 274, 305, 337, 366, 396, 426, 458, 489, 521, 551, 581, 612, 643, 673, 705, 736, 766, 796, 827, 858, 890, 920, 951, 1012, 1042, 1071, 1103, 1135, 1165, 1198, 1226, 1257, 1288, 1320, 1351, 1382, 1413, 1443, 1474, 1504, 1535, 1565]\n",
      "peaks 39 [  34   67  104  160  219  276  316  369  402  432  469  522  560  591\n",
      "  650  685  742  799  833  865  898  931  984 1017 1047 1078 1110 1143\n",
      " 1200 1236 1266 1298 1328 1385 1417 1448 1505 1537 1577]\n"
     ]
    },
    {
     "data": {
      "application/vnd.jupyter.widget-view+json": {
       "model_id": "8ad0bad3bbcc404991d64e13cb3e86bc",
       "version_major": 2,
       "version_minor": 0
      },
      "text/plain": [
       "Canvas(toolbar=Toolbar(toolitems=[('Home', 'Reset original view', 'home', 'home'), ('Back', 'Back to previous …"
      ]
     },
     "metadata": {},
     "output_type": "display_data"
    },
    {
     "name": "stdout",
     "output_type": "stream",
     "text": [
      "GVS_310_T_T1\n",
      "[11, 55, 101, 149, 200, 247, 295, 348, 393, 441, 488, 538, 588, 636, 687, 737, 787, 839, 897]\n",
      "0 7\n"
     ]
    },
    {
     "data": {
      "application/vnd.jupyter.widget-view+json": {
       "model_id": "010e24389b5842c3910283796e04d887",
       "version_major": 2,
       "version_minor": 0
      },
      "text/plain": [
       "Canvas(toolbar=Toolbar(toolitems=[('Home', 'Reset original view', 'home', 'home'), ('Back', 'Back to previous …"
      ]
     },
     "metadata": {},
     "output_type": "display_data"
    },
    {
     "name": "stdout",
     "output_type": "stream",
     "text": [
      "trueHSR_indices 19 [11, 54, 100, 148, 199, 245, 293, 346, 391, 439, 486, 536, 586, 634, 685, 734, 781, 832, 890]\n",
      "peaks 21 [ 38  70 119 162 221 272 303 336 387 440 491 534 584 615 649 681 726 771\n",
      " 814 859 905]\n"
     ]
    },
    {
     "data": {
      "application/vnd.jupyter.widget-view+json": {
       "model_id": "52e2cbb3060a44e7b1ddb288e4e13ecc",
       "version_major": 2,
       "version_minor": 0
      },
      "text/plain": [
       "Canvas(toolbar=Toolbar(toolitems=[('Home', 'Reset original view', 'home', 'home'), ('Back', 'Back to previous …"
      ]
     },
     "metadata": {},
     "output_type": "display_data"
    },
    {
     "name": "stdout",
     "output_type": "stream",
     "text": [
      "0 7\n"
     ]
    },
    {
     "data": {
      "application/vnd.jupyter.widget-view+json": {
       "model_id": "6c05e8ff5ece49c98df941c84be63899",
       "version_major": 2,
       "version_minor": 0
      },
      "text/plain": [
       "Canvas(toolbar=Toolbar(toolitems=[('Home', 'Reset original view', 'home', 'home'), ('Back', 'Back to previous …"
      ]
     },
     "metadata": {},
     "output_type": "display_data"
    },
    {
     "name": "stdout",
     "output_type": "stream",
     "text": [
      "trueHSR_indices 19 [11, 54, 100, 148, 199, 245, 293, 346, 391, 439, 486, 536, 586, 634, 685, 734, 781, 832, 890]\n",
      "peaks 23 [ 43  83 121 184 217 276 315 353 385 420 455 501 552 583 616 647 679 726\n",
      " 783 814 857 889 926]\n"
     ]
    },
    {
     "data": {
      "application/vnd.jupyter.widget-view+json": {
       "model_id": "d736bcd0382449fd915232017ec2de8b",
       "version_major": 2,
       "version_minor": 0
      },
      "text/plain": [
       "Canvas(toolbar=Toolbar(toolitems=[('Home', 'Reset original view', 'home', 'home'), ('Back', 'Back to previous …"
      ]
     },
     "metadata": {},
     "output_type": "display_data"
    },
    {
     "name": "stdout",
     "output_type": "stream",
     "text": [
      "0 7\n"
     ]
    },
    {
     "data": {
      "application/vnd.jupyter.widget-view+json": {
       "model_id": "0a9b07de9ec14bc684390398d75a57af",
       "version_major": 2,
       "version_minor": 0
      },
      "text/plain": [
       "Canvas(toolbar=Toolbar(toolitems=[('Home', 'Reset original view', 'home', 'home'), ('Back', 'Back to previous …"
      ]
     },
     "metadata": {},
     "output_type": "display_data"
    },
    {
     "name": "stdout",
     "output_type": "stream",
     "text": [
      "trueHSR_indices 19 [11, 54, 100, 148, 199, 245, 293, 346, 391, 439, 486, 536, 586, 634, 685, 734, 781, 832, 890]\n",
      "peaks 19 [ 38  70 118 179 219 277 336 386 437 497 552 584 645 678 729 771 815 858\n",
      " 904]\n"
     ]
    },
    {
     "data": {
      "application/vnd.jupyter.widget-view+json": {
       "model_id": "e7efc82baa29412fa9a3c6274c11e6db",
       "version_major": 2,
       "version_minor": 0
      },
      "text/plain": [
       "Canvas(toolbar=Toolbar(toolitems=[('Home', 'Reset original view', 'home', 'home'), ('Back', 'Back to previous …"
      ]
     },
     "metadata": {},
     "output_type": "display_data"
    },
    {
     "name": "stdout",
     "output_type": "stream",
     "text": [
      "GVS_310_T_T2\n",
      "[21, 79, 136, 202, 282, 353, 418, 470, 530, 581, 633, 686, 739, 791, 842, 888, 936, 981, 1025, 1067, 1112, 1159, 1207]\n",
      "0 8\n"
     ]
    },
    {
     "data": {
      "application/vnd.jupyter.widget-view+json": {
       "model_id": "97b346693d9b419087fe497f353febbe",
       "version_major": 2,
       "version_minor": 0
      },
      "text/plain": [
       "Canvas(toolbar=Toolbar(toolitems=[('Home', 'Reset original view', 'home', 'home'), ('Back', 'Back to previous …"
      ]
     },
     "metadata": {},
     "output_type": "display_data"
    },
    {
     "name": "stdout",
     "output_type": "stream",
     "text": [
      "trueHSR_indices 23 [21, 77, 133, 197, 277, 348, 412, 464, 523, 574, 626, 679, 731, 783, 834, 880, 928, 973, 1017, 1059, 1104, 1151, 1199]\n",
      "peaks 31 [   9   41  100  132  164  220  281  336  369  400  452  482  513  567\n",
      "  621  653  685  715  764  794  832  865  895  945  977 1013 1043 1075\n",
      " 1125 1169 1208]\n"
     ]
    },
    {
     "data": {
      "application/vnd.jupyter.widget-view+json": {
       "model_id": "f56de209fd8e40e199a77f35ce92e896",
       "version_major": 2,
       "version_minor": 0
      },
      "text/plain": [
       "Canvas(toolbar=Toolbar(toolitems=[('Home', 'Reset original view', 'home', 'home'), ('Back', 'Back to previous …"
      ]
     },
     "metadata": {},
     "output_type": "display_data"
    },
    {
     "name": "stdout",
     "output_type": "stream",
     "text": [
      "0 8\n"
     ]
    },
    {
     "data": {
      "application/vnd.jupyter.widget-view+json": {
       "model_id": "6c90a1606f70489199430c48baa095be",
       "version_major": 2,
       "version_minor": 0
      },
      "text/plain": [
       "Canvas(toolbar=Toolbar(toolitems=[('Home', 'Reset original view', 'home', 'home'), ('Back', 'Back to previous …"
      ]
     },
     "metadata": {},
     "output_type": "display_data"
    },
    {
     "name": "stdout",
     "output_type": "stream",
     "text": [
      "trueHSR_indices 23 [21, 77, 133, 197, 277, 348, 412, 464, 523, 574, 626, 679, 731, 783, 834, 880, 928, 973, 1017, 1059, 1104, 1151, 1199]\n",
      "peaks 30 [   8   39   81  111  159  218  258  300  334  366  397  432  474  531\n",
      "  563  606  644  680  714  744  777  817  852  913  968 1015 1072 1115\n",
      " 1168 1221]\n"
     ]
    },
    {
     "data": {
      "application/vnd.jupyter.widget-view+json": {
       "model_id": "b4ac6a3fd8c24d2e8f55b88df6a8a2f4",
       "version_major": 2,
       "version_minor": 0
      },
      "text/plain": [
       "Canvas(toolbar=Toolbar(toolitems=[('Home', 'Reset original view', 'home', 'home'), ('Back', 'Back to previous …"
      ]
     },
     "metadata": {},
     "output_type": "display_data"
    },
    {
     "name": "stdout",
     "output_type": "stream",
     "text": [
      "0 8\n"
     ]
    },
    {
     "data": {
      "application/vnd.jupyter.widget-view+json": {
       "model_id": "d8bc6310ba41401da0c2de8444c6e85b",
       "version_major": 2,
       "version_minor": 0
      },
      "text/plain": [
       "Canvas(toolbar=Toolbar(toolitems=[('Home', 'Reset original view', 'home', 'home'), ('Back', 'Back to previous …"
      ]
     },
     "metadata": {},
     "output_type": "display_data"
    },
    {
     "name": "stdout",
     "output_type": "stream",
     "text": [
      "trueHSR_indices 23 [21, 77, 133, 197, 277, 348, 412, 464, 523, 574, 626, 679, 731, 783, 834, 880, 928, 973, 1017, 1059, 1104, 1151, 1199]\n",
      "peaks 30 [  39   94  157  190  221  281  335  369  401  451  482  513  566  618\n",
      "  652  695  730  760  794  829  865  898  945  977 1013 1055 1107 1142\n",
      " 1172 1208]\n"
     ]
    },
    {
     "data": {
      "application/vnd.jupyter.widget-view+json": {
       "model_id": "c65f6e88c2814aa1b06d2edcf00aff2c",
       "version_major": 2,
       "version_minor": 0
      },
      "text/plain": [
       "Canvas(toolbar=Toolbar(toolitems=[('Home', 'Reset original view', 'home', 'home'), ('Back', 'Back to previous …"
      ]
     },
     "metadata": {},
     "output_type": "display_data"
    },
    {
     "name": "stdout",
     "output_type": "stream",
     "text": [
      "GVS_311_T_T1\n",
      "[35, 71, 107, 143, 179, 214, 250, 287, 320, 356, 392, 427, 462, 500, 536, 570, 606, 641, 674, 706, 737, 769, 800, 829, 860, 889, 917, 947, 977]\n",
      "0 92\n"
     ]
    },
    {
     "data": {
      "application/vnd.jupyter.widget-view+json": {
       "model_id": "b6a946ec89b84dcab561e2c6c7613024",
       "version_major": 2,
       "version_minor": 0
      },
      "text/plain": [
       "Canvas(toolbar=Toolbar(toolitems=[('Home', 'Reset original view', 'home', 'home'), ('Back', 'Back to previous …"
      ]
     },
     "metadata": {},
     "output_type": "display_data"
    },
    {
     "name": "stdout",
     "output_type": "stream",
     "text": [
      "trueHSR_indices 25 [35, 71, 96, 166, 197, 228, 316, 346, 371, 401, 438, 472, 504, 537, 569, 627, 656, 687, 716, 741, 771, 799, 825, 855, 885]\n",
      "peaks 25 [  5  52  96 141 175 206 241 286 318 367 398 430 466 497 529 562 592 625\n",
      " 658 692 723 756 791 830 865]\n"
     ]
    },
    {
     "data": {
      "application/vnd.jupyter.widget-view+json": {
       "model_id": "49d5f272a3ef4549aab21ea653624bb2",
       "version_major": 2,
       "version_minor": 0
      },
      "text/plain": [
       "Canvas(toolbar=Toolbar(toolitems=[('Home', 'Reset original view', 'home', 'home'), ('Back', 'Back to previous …"
      ]
     },
     "metadata": {},
     "output_type": "display_data"
    },
    {
     "name": "stdout",
     "output_type": "stream",
     "text": [
      "0 92\n"
     ]
    },
    {
     "data": {
      "application/vnd.jupyter.widget-view+json": {
       "model_id": "b33bb53f7d74442a925fe46807103e7c",
       "version_major": 2,
       "version_minor": 0
      },
      "text/plain": [
       "Canvas(toolbar=Toolbar(toolitems=[('Home', 'Reset original view', 'home', 'home'), ('Back', 'Back to previous …"
      ]
     },
     "metadata": {},
     "output_type": "display_data"
    },
    {
     "name": "stdout",
     "output_type": "stream",
     "text": [
      "trueHSR_indices 25 [35, 71, 96, 166, 197, 228, 316, 346, 371, 401, 438, 472, 504, 537, 569, 627, 656, 687, 716, 741, 771, 799, 825, 855, 885]\n",
      "peaks 24 [  8  38  96 139 177 211 243 287 342 388 423 456 491 530 564 617 649 684\n",
      " 720 750 785 821 856 889]\n"
     ]
    },
    {
     "data": {
      "application/vnd.jupyter.widget-view+json": {
       "model_id": "9550a18c72cb42b9a9e77f0c8e529f43",
       "version_major": 2,
       "version_minor": 0
      },
      "text/plain": [
       "Canvas(toolbar=Toolbar(toolitems=[('Home', 'Reset original view', 'home', 'home'), ('Back', 'Back to previous …"
      ]
     },
     "metadata": {},
     "output_type": "display_data"
    },
    {
     "name": "stdout",
     "output_type": "stream",
     "text": [
      "0 92\n"
     ]
    },
    {
     "data": {
      "application/vnd.jupyter.widget-view+json": {
       "model_id": "526dd1e472434e9e88a635f2f8b5225c",
       "version_major": 2,
       "version_minor": 0
      },
      "text/plain": [
       "Canvas(toolbar=Toolbar(toolitems=[('Home', 'Reset original view', 'home', 'home'), ('Back', 'Back to previous …"
      ]
     },
     "metadata": {},
     "output_type": "display_data"
    },
    {
     "name": "stdout",
     "output_type": "stream",
     "text": [
      "trueHSR_indices 25 [35, 71, 96, 166, 197, 228, 316, 346, 371, 401, 438, 472, 504, 537, 569, 627, 656, 687, 716, 741, 771, 799, 825, 855, 885]\n",
      "peaks 23 [ 12  59  99 140 183 222 286 339 369 400 436 497 529 560 591 622 653 692\n",
      " 722 756 790 823 862]\n"
     ]
    },
    {
     "data": {
      "application/vnd.jupyter.widget-view+json": {
       "model_id": "f450f9839050447982fc7172f4a6e114",
       "version_major": 2,
       "version_minor": 0
      },
      "text/plain": [
       "Canvas(toolbar=Toolbar(toolitems=[('Home', 'Reset original view', 'home', 'home'), ('Back', 'Back to previous …"
      ]
     },
     "metadata": {},
     "output_type": "display_data"
    },
    {
     "name": "stdout",
     "output_type": "stream",
     "text": [
      "GVS_311_T_T2\n",
      "[53, 100, 139, 180, 217, 258, 301, 346, 387, 428, 468, 507, 547, 584, 620, 656, 690, 726, 757, 791, 822, 857, 890, 924, 956, 991, 1026, 1062, 1094, 1125, 1161, 1196, 1227, 1261, 1295, 1329, 1361, 1395, 1429, 1462, 1494, 1529, 1561, 1595, 1627, 1657, 1690, 1719, 1751]\n",
      "0 194\n"
     ]
    },
    {
     "data": {
      "application/vnd.jupyter.widget-view+json": {
       "model_id": "c6655b52e19c4c24bb9aacc5e4f97078",
       "version_major": 2,
       "version_minor": 0
      },
      "text/plain": [
       "Canvas(toolbar=Toolbar(toolitems=[('Home', 'Reset original view', 'home', 'home'), ('Back', 'Back to previous …"
      ]
     },
     "metadata": {},
     "output_type": "display_data"
    },
    {
     "name": "stdout",
     "output_type": "stream",
     "text": [
      "trueHSR_indices 42 [45, 88, 121, 155, 187, 263, 303, 340, 379, 446, 503, 584, 643, 674, 702, 731, 760, 789, 818, 849, 882, 913, 942, 973, 1005, 1037, 1068, 1101, 1134, 1165, 1197, 1229, 1261, 1292, 1321, 1349, 1380, 1410, 1441, 1466, 1499, 1527]\n",
      "peaks 38 [  29   59   94  142  193  232  271  309  368  418  456  512  553  583\n",
      "  620  651  681  748  778  826  860  891  922  984 1026 1059 1093 1140\n",
      " 1170 1208 1238 1269 1304 1340 1385 1444 1476 1539]\n"
     ]
    },
    {
     "data": {
      "application/vnd.jupyter.widget-view+json": {
       "model_id": "d87da2899c0147ccb0c85d18a5691940",
       "version_major": 2,
       "version_minor": 0
      },
      "text/plain": [
       "Canvas(toolbar=Toolbar(toolitems=[('Home', 'Reset original view', 'home', 'home'), ('Back', 'Back to previous …"
      ]
     },
     "metadata": {},
     "output_type": "display_data"
    },
    {
     "name": "stdout",
     "output_type": "stream",
     "text": [
      "0 194\n"
     ]
    },
    {
     "data": {
      "application/vnd.jupyter.widget-view+json": {
       "model_id": "364c9f4ee9d142a89f564f7c251cb7e9",
       "version_major": 2,
       "version_minor": 0
      },
      "text/plain": [
       "Canvas(toolbar=Toolbar(toolitems=[('Home', 'Reset original view', 'home', 'home'), ('Back', 'Back to previous …"
      ]
     },
     "metadata": {},
     "output_type": "display_data"
    },
    {
     "name": "stdout",
     "output_type": "stream",
     "text": [
      "trueHSR_indices 42 [45, 88, 121, 155, 187, 263, 303, 340, 379, 446, 503, 584, 643, 674, 702, 731, 760, 789, 818, 849, 882, 913, 942, 973, 1005, 1037, 1068, 1101, 1134, 1165, 1197, 1229, 1261, 1292, 1321, 1349, 1380, 1410, 1441, 1466, 1499, 1527]\n",
      "peaks 37 [  12   49   86  119  162  197  229  264  304  339  378  408  447  509\n",
      "  563  593  623  672  732  797  850  884  924  956  986 1037 1071 1103\n",
      " 1165 1201 1264 1298 1351 1390 1424 1472 1510]\n"
     ]
    },
    {
     "data": {
      "application/vnd.jupyter.widget-view+json": {
       "model_id": "54b2c3d51d594b9ebcab8a288e06f3c7",
       "version_major": 2,
       "version_minor": 0
      },
      "text/plain": [
       "Canvas(toolbar=Toolbar(toolitems=[('Home', 'Reset original view', 'home', 'home'), ('Back', 'Back to previous …"
      ]
     },
     "metadata": {},
     "output_type": "display_data"
    },
    {
     "name": "stdout",
     "output_type": "stream",
     "text": [
      "0 194\n"
     ]
    },
    {
     "data": {
      "application/vnd.jupyter.widget-view+json": {
       "model_id": "6a6047b9e3da423cbe373feace9079ba",
       "version_major": 2,
       "version_minor": 0
      },
      "text/plain": [
       "Canvas(toolbar=Toolbar(toolitems=[('Home', 'Reset original view', 'home', 'home'), ('Back', 'Back to previous …"
      ]
     },
     "metadata": {},
     "output_type": "display_data"
    },
    {
     "name": "stdout",
     "output_type": "stream",
     "text": [
      "trueHSR_indices 42 [45, 88, 121, 155, 187, 263, 303, 340, 379, 446, 503, 584, 643, 674, 702, 731, 760, 789, 818, 849, 882, 913, 942, 973, 1005, 1037, 1068, 1101, 1134, 1165, 1197, 1229, 1261, 1292, 1321, 1349, 1380, 1410, 1441, 1466, 1499, 1527]\n",
      "peaks 39 [  20   56   89  122  155  188  235  270  303  339  381  418  457  512\n",
      "  553  584  644  681  731  769  828  860  904  951  986 1026 1075 1108\n",
      " 1140 1205 1253 1294 1326 1360 1392 1444 1475 1510 1541]\n"
     ]
    },
    {
     "data": {
      "application/vnd.jupyter.widget-view+json": {
       "model_id": "2e1c3b82877047f090ce5faca5fb10fd",
       "version_major": 2,
       "version_minor": 0
      },
      "text/plain": [
       "Canvas(toolbar=Toolbar(toolitems=[('Home', 'Reset original view', 'home', 'home'), ('Back', 'Back to previous …"
      ]
     },
     "metadata": {},
     "output_type": "display_data"
    },
    {
     "name": "stdout",
     "output_type": "stream",
     "text": [
      "GVS_312_T_T1\n",
      "[Errno 2] No such file or directory: 'C:\\\\Users\\\\purpl\\\\Box\\\\Gait Video Project\\\\GaitVideoData\\\\video\\\\multi_view_merged_data\\\\\\\\MS\\\\beam_walking\\\\GVS_312_T_T1\\\\hip_height_normalized\\\\\\\\HSRframes.txt'\n",
      "GVS_312_T_T2\n",
      "[Errno 2] No such file or directory: 'C:\\\\Users\\\\purpl\\\\Box\\\\Gait Video Project\\\\GaitVideoData\\\\video\\\\multi_view_merged_data\\\\\\\\MS\\\\beam_walking\\\\GVS_312_T_T2\\\\hip_height_normalized\\\\\\\\HSRframes.txt'\n",
      "GVS_314_T_T1\n",
      "[110, 181, 260, 454, 560, 670, 788, 935, 1054, 1169, 1291, 1420, 1529, 1602, 1672, 1723]\n",
      "0 10\n"
     ]
    },
    {
     "data": {
      "application/vnd.jupyter.widget-view+json": {
       "model_id": "9d5e6efa12c44ae0b3fe5da35984dc30",
       "version_major": 2,
       "version_minor": 0
      },
      "text/plain": [
       "Canvas(toolbar=Toolbar(toolitems=[('Home', 'Reset original view', 'home', 'home'), ('Back', 'Back to previous …"
      ]
     },
     "metadata": {},
     "output_type": "display_data"
    },
    {
     "name": "stdout",
     "output_type": "stream",
     "text": [
      "trueHSR_indices 16 [108, 179, 258, 451, 556, 665, 783, 928, 1047, 1161, 1282, 1410, 1519, 1592, 1662, 1713]\n",
      "peaks 40 [  25   63  102  146  181  236  276  340  389  419  461  521  571  619\n",
      "  660  690  735  777  825  869  924  959 1010 1046 1097 1132 1165 1222\n",
      " 1280 1331 1371 1411 1454 1490 1522 1564 1595 1625 1661 1713]\n"
     ]
    },
    {
     "data": {
      "application/vnd.jupyter.widget-view+json": {
       "model_id": "3fbef3812d1e4470972dc05fdf9d615e",
       "version_major": 2,
       "version_minor": 0
      },
      "text/plain": [
       "Canvas(toolbar=Toolbar(toolitems=[('Home', 'Reset original view', 'home', 'home'), ('Back', 'Back to previous …"
      ]
     },
     "metadata": {},
     "output_type": "display_data"
    },
    {
     "name": "stdout",
     "output_type": "stream",
     "text": [
      "0 10\n"
     ]
    },
    {
     "data": {
      "application/vnd.jupyter.widget-view+json": {
       "model_id": "da343e0181144698a2e6e8196e0a7166",
       "version_major": 2,
       "version_minor": 0
      },
      "text/plain": [
       "Canvas(toolbar=Toolbar(toolitems=[('Home', 'Reset original view', 'home', 'home'), ('Back', 'Back to previous …"
      ]
     },
     "metadata": {},
     "output_type": "display_data"
    },
    {
     "name": "stdout",
     "output_type": "stream",
     "text": [
      "trueHSR_indices 16 [108, 179, 258, 451, 556, 665, 783, 928, 1047, 1161, 1282, 1410, 1519, 1592, 1662, 1713]\n",
      "peaks 42 [   8   63   95  131  186  225  265  305  344  376  418  467  512  574\n",
      "  614  679  723  757  799  832  867  922  962 1001 1046 1090 1125 1159\n",
      " 1204 1234 1277 1320 1358 1388 1427 1468 1518 1564 1607 1637 1670 1729]\n"
     ]
    },
    {
     "data": {
      "application/vnd.jupyter.widget-view+json": {
       "model_id": "1ef06114e5304c35849ea6ced9ccd183",
       "version_major": 2,
       "version_minor": 0
      },
      "text/plain": [
       "Canvas(toolbar=Toolbar(toolitems=[('Home', 'Reset original view', 'home', 'home'), ('Back', 'Back to previous …"
      ]
     },
     "metadata": {},
     "output_type": "display_data"
    },
    {
     "name": "stdout",
     "output_type": "stream",
     "text": [
      "0 10\n"
     ]
    },
    {
     "data": {
      "application/vnd.jupyter.widget-view+json": {
       "model_id": "a9340f1069024696b94fb48229b51702",
       "version_major": 2,
       "version_minor": 0
      },
      "text/plain": [
       "Canvas(toolbar=Toolbar(toolitems=[('Home', 'Reset original view', 'home', 'home'), ('Back', 'Back to previous …"
      ]
     },
     "metadata": {},
     "output_type": "display_data"
    },
    {
     "name": "stdout",
     "output_type": "stream",
     "text": [
      "trueHSR_indices 16 [108, 179, 258, 451, 556, 665, 783, 928, 1047, 1161, 1282, 1410, 1519, 1592, 1662, 1713]\n",
      "peaks 43 [   8   40   76  125  163  202  261  297  329  367  418  456  486  516\n",
      "  571  603  651  689  723  779  832  869  904  939  971 1005 1047 1085\n",
      " 1127 1161 1199 1231 1283 1323 1388 1437 1488 1522 1564 1595 1643 1675\n",
      " 1713]\n"
     ]
    },
    {
     "data": {
      "application/vnd.jupyter.widget-view+json": {
       "model_id": "1b510f179747490da281d982dfca8880",
       "version_major": 2,
       "version_minor": 0
      },
      "text/plain": [
       "Canvas(toolbar=Toolbar(toolitems=[('Home', 'Reset original view', 'home', 'home'), ('Back', 'Back to previous …"
      ]
     },
     "metadata": {},
     "output_type": "display_data"
    },
    {
     "name": "stdout",
     "output_type": "stream",
     "text": [
      "GVS_314_T_T2\n",
      "[45, 130, 244, 336, 427, 519, 616, 773, 924, 1116, 1450]\n",
      "0 5\n"
     ]
    },
    {
     "data": {
      "application/vnd.jupyter.widget-view+json": {
       "model_id": "72e9fe0de96e43cbac0ab419f42bbcca",
       "version_major": 2,
       "version_minor": 0
      },
      "text/plain": [
       "Canvas(toolbar=Toolbar(toolitems=[('Home', 'Reset original view', 'home', 'home'), ('Back', 'Back to previous …"
      ]
     },
     "metadata": {},
     "output_type": "display_data"
    },
    {
     "name": "stdout",
     "output_type": "stream",
     "text": [
      "trueHSR_indices 11 [45, 130, 244, 335, 425, 516, 612, 769, 920, 1111, 1445]\n",
      "peaks 39 [   9   45   80  127  163  207  244  280  314  350  388  421  455  512\n",
      "  554  607  653  689  730  763  818  861  914  945  979 1022 1069 1105\n",
      " 1139 1183 1218 1258 1296 1346 1404 1437 1490 1535 1566]\n"
     ]
    },
    {
     "data": {
      "application/vnd.jupyter.widget-view+json": {
       "model_id": "46ace8db9a324b199522d27bd8c38ecf",
       "version_major": 2,
       "version_minor": 0
      },
      "text/plain": [
       "Canvas(toolbar=Toolbar(toolitems=[('Home', 'Reset original view', 'home', 'home'), ('Back', 'Back to previous …"
      ]
     },
     "metadata": {},
     "output_type": "display_data"
    },
    {
     "name": "stdout",
     "output_type": "stream",
     "text": [
      "0 5\n"
     ]
    },
    {
     "data": {
      "application/vnd.jupyter.widget-view+json": {
       "model_id": "b56fdde533394b418a74a078f70b69e7",
       "version_major": 2,
       "version_minor": 0
      },
      "text/plain": [
       "Canvas(toolbar=Toolbar(toolitems=[('Home', 'Reset original view', 'home', 'home'), ('Back', 'Back to previous …"
      ]
     },
     "metadata": {},
     "output_type": "display_data"
    },
    {
     "name": "stdout",
     "output_type": "stream",
     "text": [
      "trueHSR_indices 11 [45, 130, 244, 335, 425, 516, 612, 769, 920, 1111, 1445]\n",
      "peaks 37 [   9   60  104  144  175  215  251  281  341  410  442  477  534  584\n",
      "  626  673  705  766  800  838  897  928  960 1010 1041 1081 1120 1154\n",
      " 1189 1250 1289 1335 1372 1405 1449 1512 1566]\n"
     ]
    },
    {
     "data": {
      "application/vnd.jupyter.widget-view+json": {
       "model_id": "510b374869a8457f9931aa9b2fbee81d",
       "version_major": 2,
       "version_minor": 0
      },
      "text/plain": [
       "Canvas(toolbar=Toolbar(toolitems=[('Home', 'Reset original view', 'home', 'home'), ('Back', 'Back to previous …"
      ]
     },
     "metadata": {},
     "output_type": "display_data"
    },
    {
     "name": "stdout",
     "output_type": "stream",
     "text": [
      "0 5\n"
     ]
    },
    {
     "data": {
      "application/vnd.jupyter.widget-view+json": {
       "model_id": "9207458006824bb7b7930355e4d8c1e3",
       "version_major": 2,
       "version_minor": 0
      },
      "text/plain": [
       "Canvas(toolbar=Toolbar(toolitems=[('Home', 'Reset original view', 'home', 'home'), ('Back', 'Back to previous …"
      ]
     },
     "metadata": {},
     "output_type": "display_data"
    },
    {
     "name": "stdout",
     "output_type": "stream",
     "text": [
      "trueHSR_indices 11 [45, 130, 244, 335, 425, 516, 612, 769, 920, 1111, 1445]\n",
      "peaks 41 [   9   50   98  132  163  210  244  281  314  347  397  431  477  516\n",
      "  549  596  634  672  705  740  775  806  844  879  916  957 1010 1041\n",
      " 1079 1109 1146 1184 1219 1250 1289 1348 1390 1442 1489 1523 1560]\n"
     ]
    },
    {
     "data": {
      "application/vnd.jupyter.widget-view+json": {
       "model_id": "d6c10c90a580458cb2fbaeab64cebe22",
       "version_major": 2,
       "version_minor": 0
      },
      "text/plain": [
       "Canvas(toolbar=Toolbar(toolitems=[('Home', 'Reset original view', 'home', 'home'), ('Back', 'Back to previous …"
      ]
     },
     "metadata": {},
     "output_type": "display_data"
    },
    {
     "name": "stdout",
     "output_type": "stream",
     "text": [
      "GVS_318_T_T1\n",
      "[Errno 2] No such file or directory: 'C:\\\\Users\\\\purpl\\\\Box\\\\Gait Video Project\\\\GaitVideoData\\\\video\\\\multi_view_merged_data\\\\\\\\MS\\\\beam_walking\\\\GVS_318_T_T1\\\\hip_height_normalized\\\\\\\\HSRframes.txt'\n",
      "GVS_318_T_T2\n",
      "[Errno 2] No such file or directory: 'C:\\\\Users\\\\purpl\\\\Box\\\\Gait Video Project\\\\GaitVideoData\\\\video\\\\multi_view_merged_data\\\\\\\\MS\\\\beam_walking\\\\GVS_318_T_T2\\\\hip_height_normalized\\\\\\\\HSRframes.txt'\n",
      "GVS_320_T_T1\n",
      "[37, 78, 120, 164, 205, 248, 288, 333, 375, 418, 459, 503, 544, 586, 629, 670, 713, 754, 795, 837, 880, 921, 964, 1007, 1048, 1091]\n",
      "0 22\n"
     ]
    },
    {
     "data": {
      "application/vnd.jupyter.widget-view+json": {
       "model_id": "edc50106b7824e18aecfa6918f9b506c",
       "version_major": 2,
       "version_minor": 0
      },
      "text/plain": [
       "Canvas(toolbar=Toolbar(toolitems=[('Home', 'Reset original view', 'home', 'home'), ('Back', 'Back to previous …"
      ]
     },
     "metadata": {},
     "output_type": "display_data"
    },
    {
     "name": "stdout",
     "output_type": "stream",
     "text": [
      "trueHSR_indices 26 [37, 78, 120, 162, 203, 246, 282, 327, 369, 411, 452, 496, 532, 573, 615, 656, 699, 740, 779, 817, 859, 899, 942, 985, 1026, 1069]\n",
      "peaks 28 [  15   46   88  123  155  203  246  286  333  367  397  430  470  518\n",
      "  555  597  638  676  714  751  785  826  871  918  965 1015 1050 1093]\n"
     ]
    },
    {
     "data": {
      "application/vnd.jupyter.widget-view+json": {
       "model_id": "202444b2afcd45f493d2dc31f08aed9f",
       "version_major": 2,
       "version_minor": 0
      },
      "text/plain": [
       "Canvas(toolbar=Toolbar(toolitems=[('Home', 'Reset original view', 'home', 'home'), ('Back', 'Back to previous …"
      ]
     },
     "metadata": {},
     "output_type": "display_data"
    },
    {
     "name": "stdout",
     "output_type": "stream",
     "text": [
      "0 22\n"
     ]
    },
    {
     "data": {
      "application/vnd.jupyter.widget-view+json": {
       "model_id": "972681a767544433a363a6fbb978475f",
       "version_major": 2,
       "version_minor": 0
      },
      "text/plain": [
       "Canvas(toolbar=Toolbar(toolitems=[('Home', 'Reset original view', 'home', 'home'), ('Back', 'Back to previous …"
      ]
     },
     "metadata": {},
     "output_type": "display_data"
    },
    {
     "name": "stdout",
     "output_type": "stream",
     "text": [
      "trueHSR_indices 26 [37, 78, 120, 162, 203, 246, 282, 327, 369, 411, 452, 496, 532, 573, 615, 656, 699, 740, 779, 817, 859, 899, 942, 985, 1026, 1069]\n",
      "peaks 27 [  18   52   90  139  181  230  274  317  365  408  441  473  507  537\n",
      "  593  627  665  703  745  801  842  878  921  968 1001 1039 1092]\n"
     ]
    },
    {
     "data": {
      "application/vnd.jupyter.widget-view+json": {
       "model_id": "44cd38c2be3b4919ab73c90d01657fb4",
       "version_major": 2,
       "version_minor": 0
      },
      "text/plain": [
       "Canvas(toolbar=Toolbar(toolitems=[('Home', 'Reset original view', 'home', 'home'), ('Back', 'Back to previous …"
      ]
     },
     "metadata": {},
     "output_type": "display_data"
    },
    {
     "name": "stdout",
     "output_type": "stream",
     "text": [
      "0 22\n"
     ]
    },
    {
     "data": {
      "application/vnd.jupyter.widget-view+json": {
       "model_id": "a79a057a3a2146d08245a21cf4ed060f",
       "version_major": 2,
       "version_minor": 0
      },
      "text/plain": [
       "Canvas(toolbar=Toolbar(toolitems=[('Home', 'Reset original view', 'home', 'home'), ('Back', 'Back to previous …"
      ]
     },
     "metadata": {},
     "output_type": "display_data"
    },
    {
     "name": "stdout",
     "output_type": "stream",
     "text": [
      "trueHSR_indices 26 [37, 78, 120, 162, 203, 246, 282, 327, 369, 411, 452, 496, 532, 573, 615, 656, 699, 740, 779, 817, 859, 899, 942, 985, 1026, 1069]\n",
      "peaks 27 [  14   46   91  136  167  199  247  280  315  364  411  457  517  547\n",
      "  580  623  664  714  746  789  826  868  919  952  996 1037 1091]\n"
     ]
    },
    {
     "data": {
      "application/vnd.jupyter.widget-view+json": {
       "model_id": "63ad67ad9b1e42ef80a1d08ff86ab025",
       "version_major": 2,
       "version_minor": 0
      },
      "text/plain": [
       "Canvas(toolbar=Toolbar(toolitems=[('Home', 'Reset original view', 'home', 'home'), ('Back', 'Back to previous …"
      ]
     },
     "metadata": {},
     "output_type": "display_data"
    },
    {
     "name": "stdout",
     "output_type": "stream",
     "text": [
      "GVS_320_T_T2\n",
      "[29, 86, 130, 175, 220, 264, 308, 350, 395, 438, 483, 526, 568, 610, 652, 696, 737, 778, 820, 860, 902, 942, 982, 1023, 1064, 1106, 1147, 1187, 1227, 1269, 1311, 1350, 1393, 1432, 1474, 1515, 1555, 1597, 1637, 1676, 1716, 1757]\n",
      "0 3\n"
     ]
    },
    {
     "data": {
      "application/vnd.jupyter.widget-view+json": {
       "model_id": "11b3f9800f3c494dace4b69e192cee98",
       "version_major": 2,
       "version_minor": 0
      },
      "text/plain": [
       "Canvas(toolbar=Toolbar(toolitems=[('Home', 'Reset original view', 'home', 'home'), ('Back', 'Back to previous …"
      ]
     },
     "metadata": {},
     "output_type": "display_data"
    },
    {
     "name": "stdout",
     "output_type": "stream",
     "text": [
      "trueHSR_indices 41 [29, 86, 130, 175, 220, 264, 308, 350, 395, 438, 483, 526, 568, 610, 652, 696, 737, 778, 820, 860, 902, 941, 981, 1022, 1063, 1105, 1145, 1185, 1225, 1267, 1309, 1348, 1391, 1430, 1472, 1513, 1553, 1595, 1635, 1674, 1714]\n",
      "peaks 42 [  22   54   86  127  173  216  261  306  363  403  440  481  527  571\n",
      "  623  655  697  740  779  821  862  902  937  984 1034 1065 1109 1152\n",
      " 1201 1239 1270 1320 1352 1393 1432 1473 1524 1555 1595 1637 1676 1715]\n"
     ]
    },
    {
     "data": {
      "application/vnd.jupyter.widget-view+json": {
       "model_id": "20245b6d22cd42d4bc6ad8db8bbb7156",
       "version_major": 2,
       "version_minor": 0
      },
      "text/plain": [
       "Canvas(toolbar=Toolbar(toolitems=[('Home', 'Reset original view', 'home', 'home'), ('Back', 'Back to previous …"
      ]
     },
     "metadata": {},
     "output_type": "display_data"
    },
    {
     "name": "stdout",
     "output_type": "stream",
     "text": [
      "0 3\n"
     ]
    },
    {
     "data": {
      "application/vnd.jupyter.widget-view+json": {
       "model_id": "4c3959231cd640bfacb94355f5728205",
       "version_major": 2,
       "version_minor": 0
      },
      "text/plain": [
       "Canvas(toolbar=Toolbar(toolitems=[('Home', 'Reset original view', 'home', 'home'), ('Back', 'Back to previous …"
      ]
     },
     "metadata": {},
     "output_type": "display_data"
    },
    {
     "name": "stdout",
     "output_type": "stream",
     "text": [
      "trueHSR_indices 41 [29, 86, 130, 175, 220, 264, 308, 350, 395, 438, 483, 526, 568, 610, 652, 696, 737, 778, 820, 860, 902, 941, 981, 1022, 1063, 1105, 1145, 1185, 1225, 1267, 1309, 1348, 1391, 1430, 1472, 1513, 1553, 1595, 1635, 1674, 1714]\n",
      "peaks 42 [  20   60  100  146  189  219  279  324  361  392  454  499  542  584\n",
      "  625  668  711  747  793  833  874  916  953  985 1021 1061 1116 1148\n",
      " 1198 1229 1265 1323 1363 1405 1435 1470 1510 1566 1610 1648 1686 1728]\n"
     ]
    },
    {
     "data": {
      "application/vnd.jupyter.widget-view+json": {
       "model_id": "c35842f8f6ad4cd9bfd2e23013720cdd",
       "version_major": 2,
       "version_minor": 0
      },
      "text/plain": [
       "Canvas(toolbar=Toolbar(toolitems=[('Home', 'Reset original view', 'home', 'home'), ('Back', 'Back to previous …"
      ]
     },
     "metadata": {},
     "output_type": "display_data"
    },
    {
     "name": "stdout",
     "output_type": "stream",
     "text": [
      "0 3\n"
     ]
    },
    {
     "data": {
      "application/vnd.jupyter.widget-view+json": {
       "model_id": "6517bae206b44007bf6c33c91c35d8e7",
       "version_major": 2,
       "version_minor": 0
      },
      "text/plain": [
       "Canvas(toolbar=Toolbar(toolitems=[('Home', 'Reset original view', 'home', 'home'), ('Back', 'Back to previous …"
      ]
     },
     "metadata": {},
     "output_type": "display_data"
    },
    {
     "name": "stdout",
     "output_type": "stream",
     "text": [
      "trueHSR_indices 41 [29, 86, 130, 175, 220, 264, 308, 350, 395, 438, 483, 526, 568, 610, 652, 696, 737, 778, 820, 860, 902, 941, 981, 1022, 1063, 1105, 1145, 1185, 1225, 1267, 1309, 1348, 1391, 1430, 1472, 1513, 1553, 1595, 1635, 1674, 1714]\n",
      "peaks 42 [  20   53   83  128  172  217  261  308  352  400  437  481  525  567\n",
      "  608  652  707  746  776  820  858  913  949  980 1034 1076 1110 1142\n",
      " 1183 1225 1269 1307 1347 1388 1429 1472 1511 1551 1594 1645 1678 1712]\n"
     ]
    },
    {
     "data": {
      "application/vnd.jupyter.widget-view+json": {
       "model_id": "8b758a95bc2a45f48c722a89b981f285",
       "version_major": 2,
       "version_minor": 0
      },
      "text/plain": [
       "Canvas(toolbar=Toolbar(toolitems=[('Home', 'Reset original view', 'home', 'home'), ('Back', 'Back to previous …"
      ]
     },
     "metadata": {},
     "output_type": "display_data"
    },
    {
     "name": "stdout",
     "output_type": "stream",
     "text": [
      "GVS_321_T_T1\n",
      "[44, 106, 166, 225, 304, 380, 442, 506, 563, 629, 687, 744, 803, 862, 925, 988, 1047, 1112, 1165, 1228, 1289, 1354, 1419, 1482, 1548, 1614, 1678, 1735]\n",
      "0 0\n"
     ]
    },
    {
     "data": {
      "application/vnd.jupyter.widget-view+json": {
       "model_id": "607263969e5d4b47ad5bbe221beb3c87",
       "version_major": 2,
       "version_minor": 0
      },
      "text/plain": [
       "Canvas(toolbar=Toolbar(toolitems=[('Home', 'Reset original view', 'home', 'home'), ('Back', 'Back to previous …"
      ]
     },
     "metadata": {},
     "output_type": "display_data"
    },
    {
     "name": "stdout",
     "output_type": "stream",
     "text": [
      "trueHSR_indices 28 [44, 106, 166, 225, 304, 380, 442, 506, 563, 629, 687, 744, 803, 862, 925, 988, 1047, 1112, 1165, 1228, 1289, 1354, 1419, 1482, 1548, 1614, 1678, 1735]\n",
      "peaks 37 [   4   48  104  141  174  222  259  306  371  439  476  507  563  593\n",
      "  626  684  745  802  860  927  982 1048 1078 1113 1166 1221 1251 1290\n",
      " 1355 1417 1485 1515 1552 1582 1614 1679 1738]\n"
     ]
    },
    {
     "data": {
      "application/vnd.jupyter.widget-view+json": {
       "model_id": "f852d24264434dd8bc071910d4029175",
       "version_major": 2,
       "version_minor": 0
      },
      "text/plain": [
       "Canvas(toolbar=Toolbar(toolitems=[('Home', 'Reset original view', 'home', 'home'), ('Back', 'Back to previous …"
      ]
     },
     "metadata": {},
     "output_type": "display_data"
    },
    {
     "name": "stdout",
     "output_type": "stream",
     "text": [
      "0 0\n"
     ]
    },
    {
     "data": {
      "application/vnd.jupyter.widget-view+json": {
       "model_id": "d61d2f141bb6462dbf49706dddafd84b",
       "version_major": 2,
       "version_minor": 0
      },
      "text/plain": [
       "Canvas(toolbar=Toolbar(toolitems=[('Home', 'Reset original view', 'home', 'home'), ('Back', 'Back to previous …"
      ]
     },
     "metadata": {},
     "output_type": "display_data"
    },
    {
     "name": "stdout",
     "output_type": "stream",
     "text": [
      "trueHSR_indices 28 [44, 106, 166, 225, 304, 380, 442, 506, 563, 629, 687, 744, 803, 862, 925, 988, 1047, 1112, 1165, 1228, 1289, 1354, 1419, 1482, 1548, 1614, 1678, 1735]\n",
      "peaks 41 [  22   57  109  167  198  229  260  299  331  369  400  463  504  563\n",
      "  594  624  683  743  783  821  859  893  923  983 1018 1070 1127 1164\n",
      " 1223 1286 1323 1353 1397 1439 1501 1567 1599 1632 1662 1695 1737]\n"
     ]
    },
    {
     "data": {
      "application/vnd.jupyter.widget-view+json": {
       "model_id": "0d803c44a2094c11b9dd66bd2d610d84",
       "version_major": 2,
       "version_minor": 0
      },
      "text/plain": [
       "Canvas(toolbar=Toolbar(toolitems=[('Home', 'Reset original view', 'home', 'home'), ('Back', 'Back to previous …"
      ]
     },
     "metadata": {},
     "output_type": "display_data"
    },
    {
     "name": "stdout",
     "output_type": "stream",
     "text": [
      "0 0\n"
     ]
    },
    {
     "data": {
      "application/vnd.jupyter.widget-view+json": {
       "model_id": "165e21df36914c3cb6e6d6df72b130e1",
       "version_major": 2,
       "version_minor": 0
      },
      "text/plain": [
       "Canvas(toolbar=Toolbar(toolitems=[('Home', 'Reset original view', 'home', 'home'), ('Back', 'Back to previous …"
      ]
     },
     "metadata": {},
     "output_type": "display_data"
    },
    {
     "name": "stdout",
     "output_type": "stream",
     "text": [
      "trueHSR_indices 28 [44, 106, 166, 225, 304, 380, 442, 506, 563, 629, 687, 744, 803, 862, 925, 988, 1047, 1112, 1165, 1228, 1289, 1354, 1419, 1482, 1548, 1614, 1678, 1735]\n",
      "peaks 39 [   8   48  107  167  222  260  308  339  371  420  451  507  567  625\n",
      "  684  741  800  860  893  926  983 1047 1113 1165 1196 1231 1291 1323\n",
      " 1356 1389 1420 1454 1485 1515 1551 1581 1614 1680 1738]\n"
     ]
    },
    {
     "data": {
      "application/vnd.jupyter.widget-view+json": {
       "model_id": "2db5da73c4254300aacd1cf448a63e04",
       "version_major": 2,
       "version_minor": 0
      },
      "text/plain": [
       "Canvas(toolbar=Toolbar(toolitems=[('Home', 'Reset original view', 'home', 'home'), ('Back', 'Back to previous …"
      ]
     },
     "metadata": {},
     "output_type": "display_data"
    },
    {
     "name": "stdout",
     "output_type": "stream",
     "text": [
      "GVS_321_T_T2\n",
      "[3, 47, 90, 132, 177, 220, 265, 310, 353, 396, 443, 485, 529, 572, 617, 661, 703, 749, 795, 840, 884, 926, 970, 1016, 1060, 1104, 1155, 1195, 1243]\n",
      "0 0\n"
     ]
    },
    {
     "data": {
      "application/vnd.jupyter.widget-view+json": {
       "model_id": "e1154bb4a26c4632b4de729c90f19ad3",
       "version_major": 2,
       "version_minor": 0
      },
      "text/plain": [
       "Canvas(toolbar=Toolbar(toolitems=[('Home', 'Reset original view', 'home', 'home'), ('Back', 'Back to previous …"
      ]
     },
     "metadata": {},
     "output_type": "display_data"
    },
    {
     "name": "stdout",
     "output_type": "stream",
     "text": [
      "trueHSR_indices 29 [3, 47, 90, 132, 177, 220, 265, 310, 353, 396, 443, 485, 529, 572, 617, 661, 703, 749, 795, 840, 884, 926, 970, 1016, 1060, 1104, 1155, 1195, 1243]\n",
      "peaks 28 [  40   73  107  137  169  211  260  324  370  412  476  524  562  605\n",
      "  652  699  745  782  829  875  917  958 1010 1048 1094 1142 1176 1230]\n"
     ]
    },
    {
     "data": {
      "application/vnd.jupyter.widget-view+json": {
       "model_id": "dfce9268e044488b9fbe2517435cbbb1",
       "version_major": 2,
       "version_minor": 0
      },
      "text/plain": [
       "Canvas(toolbar=Toolbar(toolitems=[('Home', 'Reset original view', 'home', 'home'), ('Back', 'Back to previous …"
      ]
     },
     "metadata": {},
     "output_type": "display_data"
    },
    {
     "name": "stdout",
     "output_type": "stream",
     "text": [
      "0 0\n"
     ]
    },
    {
     "data": {
      "application/vnd.jupyter.widget-view+json": {
       "model_id": "48a58ade770e4da8932c8daf92904310",
       "version_major": 2,
       "version_minor": 0
      },
      "text/plain": [
       "Canvas(toolbar=Toolbar(toolitems=[('Home', 'Reset original view', 'home', 'home'), ('Back', 'Back to previous …"
      ]
     },
     "metadata": {},
     "output_type": "display_data"
    },
    {
     "name": "stdout",
     "output_type": "stream",
     "text": [
      "trueHSR_indices 29 [3, 47, 90, 132, 177, 220, 265, 310, 353, 396, 443, 485, 529, 572, 617, 661, 703, 749, 795, 840, 884, 926, 970, 1016, 1060, 1104, 1155, 1195, 1243]\n",
      "peaks 29 [  32   62  107  151  181  213  256  294  325  369  431  479  520  566\n",
      "  611  656  700  748  791  837  882  925  972 1013 1058 1097 1144 1186\n",
      " 1233]\n"
     ]
    },
    {
     "data": {
      "application/vnd.jupyter.widget-view+json": {
       "model_id": "a87e5802db434bd1a24b9809050325d8",
       "version_major": 2,
       "version_minor": 0
      },
      "text/plain": [
       "Canvas(toolbar=Toolbar(toolitems=[('Home', 'Reset original view', 'home', 'home'), ('Back', 'Back to previous …"
      ]
     },
     "metadata": {},
     "output_type": "display_data"
    },
    {
     "name": "stdout",
     "output_type": "stream",
     "text": [
      "0 0\n"
     ]
    },
    {
     "data": {
      "application/vnd.jupyter.widget-view+json": {
       "model_id": "3f4b0c9190224787a582c02d3596580a",
       "version_major": 2,
       "version_minor": 0
      },
      "text/plain": [
       "Canvas(toolbar=Toolbar(toolitems=[('Home', 'Reset original view', 'home', 'home'), ('Back', 'Back to previous …"
      ]
     },
     "metadata": {},
     "output_type": "display_data"
    },
    {
     "name": "stdout",
     "output_type": "stream",
     "text": [
      "trueHSR_indices 29 [3, 47, 90, 132, 177, 220, 265, 310, 353, 396, 443, 485, 529, 572, 617, 661, 703, 749, 795, 840, 884, 926, 970, 1016, 1060, 1104, 1155, 1195, 1243]\n",
      "peaks 30 [  10   40   72  107  139  169  216  256  294  325  370  415  479  512\n",
      "  565  605  652  692  743  791  829  866  917  958 1003 1060 1094 1147\n",
      " 1184 1235]\n"
     ]
    },
    {
     "data": {
      "application/vnd.jupyter.widget-view+json": {
       "model_id": "7e0352a955704dddba9bee57380ded2b",
       "version_major": 2,
       "version_minor": 0
      },
      "text/plain": [
       "Canvas(toolbar=Toolbar(toolitems=[('Home', 'Reset original view', 'home', 'home'), ('Back', 'Back to previous …"
      ]
     },
     "metadata": {},
     "output_type": "display_data"
    },
    {
     "name": "stdout",
     "output_type": "stream",
     "text": [
      "GVS_323_T_T1\n",
      "[12, 57, 106, 142, 173, 206, 237, 268, 299, 328, 357, 386, 414, 442, 469, 498, 523, 551, 578, 604, 633, 660, 689, 716, 745, 772, 800, 829, 857, 887, 914, 940, 966, 993, 1019, 1048, 1075, 1105, 1134, 1162, 1190, 1218, 1248, 1277, 1305, 1334, 1361, 1391, 1418, 1448, 1476, 1503, 1532, 1559, 1587, 1615, 1644, 1673, 1702, 1730, 1759]\n",
      "0 97\n"
     ]
    },
    {
     "data": {
      "application/vnd.jupyter.widget-view+json": {
       "model_id": "a0526e04bc4e4e85ad21e04b5cde2cef",
       "version_major": 2,
       "version_minor": 0
      },
      "text/plain": [
       "Canvas(toolbar=Toolbar(toolitems=[('Home', 'Reset original view', 'home', 'home'), ('Back', 'Back to previous …"
      ]
     },
     "metadata": {},
     "output_type": "display_data"
    },
    {
     "name": "stdout",
     "output_type": "stream",
     "text": [
      "trueHSR_indices 59 [12, 57, 101, 158, 191, 220, 249, 279, 308, 334, 359, 386, 414, 439, 465, 517, 544, 570, 599, 625, 653, 680, 709, 736, 764, 793, 820, 850, 877, 903, 929, 956, 982, 1011, 1036, 1066, 1092, 1119, 1147, 1173, 1203, 1231, 1255, 1282, 1306, 1335, 1360, 1389, 1414, 1432, 1456, 1479, 1503, 1529, 1556, 1583, 1609, 1637, 1662]\n",
      "peaks 36 [  25   60  109  161  221  251  309  360  397  465  519  552  602  654\n",
      "  693  738  801  852  905  940  986 1039 1075 1122 1157 1205 1241 1291\n",
      " 1330 1363 1394 1435 1479 1540 1595 1639]\n"
     ]
    },
    {
     "data": {
      "application/vnd.jupyter.widget-view+json": {
       "model_id": "81dc10c1fd1d434095e1f6e5c176198a",
       "version_major": 2,
       "version_minor": 0
      },
      "text/plain": [
       "Canvas(toolbar=Toolbar(toolitems=[('Home', 'Reset original view', 'home', 'home'), ('Back', 'Back to previous …"
      ]
     },
     "metadata": {},
     "output_type": "display_data"
    },
    {
     "name": "stdout",
     "output_type": "stream",
     "text": [
      "0 97\n"
     ]
    },
    {
     "data": {
      "application/vnd.jupyter.widget-view+json": {
       "model_id": "754ecbdcf4444491b921824fc6a0a3b1",
       "version_major": 2,
       "version_minor": 0
      },
      "text/plain": [
       "Canvas(toolbar=Toolbar(toolitems=[('Home', 'Reset original view', 'home', 'home'), ('Back', 'Back to previous …"
      ]
     },
     "metadata": {},
     "output_type": "display_data"
    },
    {
     "name": "stdout",
     "output_type": "stream",
     "text": [
      "trueHSR_indices 59 [12, 57, 101, 158, 191, 220, 249, 279, 308, 334, 359, 386, 414, 439, 465, 517, 544, 570, 599, 625, 653, 680, 709, 736, 764, 793, 820, 850, 877, 903, 929, 956, 982, 1011, 1036, 1066, 1092, 1119, 1147, 1173, 1203, 1231, 1255, 1282, 1306, 1335, 1360, 1389, 1414, 1432, 1456, 1479, 1503, 1529, 1556, 1583, 1609, 1637, 1662]\n",
      "peaks 36 [  42   72  110  164  224  258  307  338  390  443  490  520  553  602\n",
      "  653  709  774  825  857  933  964 1020 1066 1102 1157 1204 1240 1277\n",
      " 1308 1342 1395 1439 1486 1531 1585 1645]\n"
     ]
    },
    {
     "data": {
      "application/vnd.jupyter.widget-view+json": {
       "model_id": "906626aac7be46f6b7ee7b98cfff9347",
       "version_major": 2,
       "version_minor": 0
      },
      "text/plain": [
       "Canvas(toolbar=Toolbar(toolitems=[('Home', 'Reset original view', 'home', 'home'), ('Back', 'Back to previous …"
      ]
     },
     "metadata": {},
     "output_type": "display_data"
    },
    {
     "name": "stdout",
     "output_type": "stream",
     "text": [
      "0 97\n"
     ]
    },
    {
     "data": {
      "application/vnd.jupyter.widget-view+json": {
       "model_id": "bf48ebd9bb7d4af6b9769c2879dff4ee",
       "version_major": 2,
       "version_minor": 0
      },
      "text/plain": [
       "Canvas(toolbar=Toolbar(toolitems=[('Home', 'Reset original view', 'home', 'home'), ('Back', 'Back to previous …"
      ]
     },
     "metadata": {},
     "output_type": "display_data"
    },
    {
     "name": "stdout",
     "output_type": "stream",
     "text": [
      "trueHSR_indices 59 [12, 57, 101, 158, 191, 220, 249, 279, 308, 334, 359, 386, 414, 439, 465, 517, 544, 570, 599, 625, 653, 680, 709, 736, 764, 793, 820, 850, 877, 903, 929, 956, 982, 1011, 1036, 1066, 1092, 1119, 1147, 1173, 1203, 1231, 1255, 1282, 1306, 1335, 1360, 1389, 1414, 1432, 1456, 1479, 1503, 1529, 1556, 1583, 1609, 1637, 1662]\n",
      "peaks 39 [   6   40   72  110  161  191  221  252  288  336  368  442  518  553\n",
      "  602  634  685  740  801  857  905  940  987 1017 1048 1094 1127 1178\n",
      " 1214 1258 1289 1363 1394 1439 1487 1534 1584 1616 1665]\n"
     ]
    },
    {
     "data": {
      "application/vnd.jupyter.widget-view+json": {
       "model_id": "0145f8bf4472439983d6764c2198efab",
       "version_major": 2,
       "version_minor": 0
      },
      "text/plain": [
       "Canvas(toolbar=Toolbar(toolitems=[('Home', 'Reset original view', 'home', 'home'), ('Back', 'Back to previous …"
      ]
     },
     "metadata": {},
     "output_type": "display_data"
    },
    {
     "name": "stdout",
     "output_type": "stream",
     "text": [
      "GVS_310_W_T1\n",
      "[60, 119, 174, 231, 285, 344, 402, 455, 503, 553, 600, 646, 686, 730, 768, 810, 850, 894, 934, 973, 1012, 1052, 1093, 1133, 1172, 1212, 1252, 1287, 1324, 1368, 1408, 1450, 1492, 1532, 1578, 1622, 1666, 1712, 1753, 1798, 1840, 1888]\n",
      "0 20\n"
     ]
    },
    {
     "data": {
      "application/vnd.jupyter.widget-view+json": {
       "model_id": "598c83008bdc44a6b453dbd33ef01d75",
       "version_major": 2,
       "version_minor": 0
      },
      "text/plain": [
       "Canvas(toolbar=Toolbar(toolitems=[('Home', 'Reset original view', 'home', 'home'), ('Back', 'Back to previous …"
      ]
     },
     "metadata": {},
     "output_type": "display_data"
    },
    {
     "name": "stdout",
     "output_type": "stream",
     "text": [
      "trueHSR_indices 40 [45, 103, 158, 215, 269, 328, 386, 439, 487, 537, 584, 630, 670, 714, 752, 794, 834, 878, 918, 957, 996, 1036, 1077, 1117, 1156, 1196, 1236, 1271, 1308, 1351, 1391, 1431, 1473, 1513, 1559, 1603, 1647, 1693, 1733, 1778]\n",
      "peaks 40 [   7   71  102  156  214  274  326  384  435  486  539  585  628  685\n",
      "  723  753  808  851  892  954  996 1047 1078 1133 1163 1211 1244 1276\n",
      " 1310 1367 1407 1448 1487 1522 1556 1603 1648 1709 1749 1780]\n"
     ]
    },
    {
     "data": {
      "application/vnd.jupyter.widget-view+json": {
       "model_id": "0638f210314e49bc8ae725d66e164d73",
       "version_major": 2,
       "version_minor": 0
      },
      "text/plain": [
       "Canvas(toolbar=Toolbar(toolitems=[('Home', 'Reset original view', 'home', 'home'), ('Back', 'Back to previous …"
      ]
     },
     "metadata": {},
     "output_type": "display_data"
    },
    {
     "name": "stdout",
     "output_type": "stream",
     "text": [
      "0 20\n"
     ]
    },
    {
     "data": {
      "application/vnd.jupyter.widget-view+json": {
       "model_id": "354628e68d0d4673a8944dd20540677f",
       "version_major": 2,
       "version_minor": 0
      },
      "text/plain": [
       "Canvas(toolbar=Toolbar(toolitems=[('Home', 'Reset original view', 'home', 'home'), ('Back', 'Back to previous …"
      ]
     },
     "metadata": {},
     "output_type": "display_data"
    },
    {
     "name": "stdout",
     "output_type": "stream",
     "text": [
      "trueHSR_indices 40 [45, 103, 158, 215, 269, 328, 386, 439, 487, 537, 584, 630, 670, 714, 752, 794, 834, 878, 918, 957, 996, 1036, 1077, 1117, 1156, 1196, 1236, 1271, 1308, 1351, 1391, 1431, 1473, 1513, 1559, 1603, 1647, 1693, 1733, 1778]\n",
      "peaks 42 [  22   67  122  180  211  241  285  345  399  453  501  548  599  642\n",
      "  681  711  767  799  831  884  931  967 1009 1043 1083 1115 1171 1206\n",
      " 1246 1284 1324 1359 1404 1438 1483 1526 1571 1604 1649 1697 1746 1792]\n"
     ]
    },
    {
     "data": {
      "application/vnd.jupyter.widget-view+json": {
       "model_id": "5c44c1bf475d407785e7f2c4a91034f5",
       "version_major": 2,
       "version_minor": 0
      },
      "text/plain": [
       "Canvas(toolbar=Toolbar(toolitems=[('Home', 'Reset original view', 'home', 'home'), ('Back', 'Back to previous …"
      ]
     },
     "metadata": {},
     "output_type": "display_data"
    },
    {
     "name": "stdout",
     "output_type": "stream",
     "text": [
      "0 20\n"
     ]
    },
    {
     "data": {
      "application/vnd.jupyter.widget-view+json": {
       "model_id": "210e87d5bc034534b9d19f75ca53b7c2",
       "version_major": 2,
       "version_minor": 0
      },
      "text/plain": [
       "Canvas(toolbar=Toolbar(toolitems=[('Home', 'Reset original view', 'home', 'home'), ('Back', 'Back to previous …"
      ]
     },
     "metadata": {},
     "output_type": "display_data"
    },
    {
     "name": "stdout",
     "output_type": "stream",
     "text": [
      "trueHSR_indices 40 [45, 103, 158, 215, 269, 328, 386, 439, 487, 537, 584, 630, 670, 714, 752, 794, 834, 878, 918, 957, 996, 1036, 1077, 1117, 1156, 1196, 1236, 1271, 1308, 1351, 1391, 1431, 1473, 1513, 1559, 1603, 1647, 1693, 1733, 1778]\n",
      "peaks 43 [   7   55   99  159  211  264  299  333  380  410  454  495  550  584\n",
      "  640  681  712  768  799  831  884  925  961  994 1033 1083 1115 1161\n",
      " 1194 1242 1274 1310 1358 1389 1429 1470 1512 1555 1608 1651 1694 1734\n",
      " 1781]\n"
     ]
    },
    {
     "data": {
      "application/vnd.jupyter.widget-view+json": {
       "model_id": "29dd8e8b284445e3857c5e8c56e6accb",
       "version_major": 2,
       "version_minor": 0
      },
      "text/plain": [
       "Canvas(toolbar=Toolbar(toolitems=[('Home', 'Reset original view', 'home', 'home'), ('Back', 'Back to previous …"
      ]
     },
     "metadata": {},
     "output_type": "display_data"
    },
    {
     "name": "stdout",
     "output_type": "stream",
     "text": [
      "GVS_310_W_T2\n",
      "[49, 115, 170, 224, 279, 333, 386, 440, 492, 541, 587, 633, 681, 722, 763, 804, 845, 884, 922, 959, 997, 1036, 1074, 1112, 1149, 1184, 1223, 1260, 1300, 1342, 1385, 1427, 1465, 1504, 1543, 1583, 1621, 1661, 1702, 1744]\n",
      "0 19\n"
     ]
    },
    {
     "data": {
      "application/vnd.jupyter.widget-view+json": {
       "model_id": "8447411908db4d58833cdc515293ba15",
       "version_major": 2,
       "version_minor": 0
      },
      "text/plain": [
       "Canvas(toolbar=Toolbar(toolitems=[('Home', 'Reset original view', 'home', 'home'), ('Back', 'Back to previous …"
      ]
     },
     "metadata": {},
     "output_type": "display_data"
    },
    {
     "name": "stdout",
     "output_type": "stream",
     "text": [
      "trueHSR_indices 40 [34, 97, 152, 206, 261, 315, 368, 422, 474, 523, 569, 615, 663, 704, 745, 786, 827, 866, 904, 941, 979, 1018, 1056, 1094, 1131, 1166, 1205, 1242, 1282, 1324, 1367, 1409, 1447, 1486, 1525, 1565, 1603, 1643, 1684, 1726]\n",
      "peaks 40 [  28   58   91  149  207  258  313  366  418  470  523  572  616  673\n",
      "  704  761  791  827  880  913  952  986 1017 1055 1093 1132 1166 1210\n",
      " 1242 1286 1326 1369 1408 1449 1487 1524 1565 1602 1643 1694]\n"
     ]
    },
    {
     "data": {
      "application/vnd.jupyter.widget-view+json": {
       "model_id": "d8bec8af6fb64e77b18a4546e51944e9",
       "version_major": 2,
       "version_minor": 0
      },
      "text/plain": [
       "Canvas(toolbar=Toolbar(toolitems=[('Home', 'Reset original view', 'home', 'home'), ('Back', 'Back to previous …"
      ]
     },
     "metadata": {},
     "output_type": "display_data"
    },
    {
     "name": "stdout",
     "output_type": "stream",
     "text": [
      "0 19\n"
     ]
    },
    {
     "data": {
      "application/vnd.jupyter.widget-view+json": {
       "model_id": "62b7be7300b544a79bb3b0d300d41201",
       "version_major": 2,
       "version_minor": 0
      },
      "text/plain": [
       "Canvas(toolbar=Toolbar(toolitems=[('Home', 'Reset original view', 'home', 'home'), ('Back', 'Back to previous …"
      ]
     },
     "metadata": {},
     "output_type": "display_data"
    },
    {
     "name": "stdout",
     "output_type": "stream",
     "text": [
      "trueHSR_indices 40 [34, 97, 152, 206, 261, 315, 368, 422, 474, 523, 569, 615, 663, 704, 745, 786, 827, 866, 904, 941, 979, 1018, 1056, 1094, 1131, 1166, 1205, 1242, 1282, 1324, 1367, 1409, 1447, 1486, 1525, 1565, 1603, 1643, 1684, 1726]\n",
      "peaks 40 [   4   55  114  159  223  278  333  383  440  487  539  586  632  671\n",
      "  718  761  800  832  867  917  976 1030 1060 1091 1130 1176 1209 1247\n",
      " 1279 1320 1367 1406 1445 1497 1536 1567 1602 1651 1686 1726]\n"
     ]
    },
    {
     "data": {
      "application/vnd.jupyter.widget-view+json": {
       "model_id": "da4354d67cf54dd686efd1bd352b20ea",
       "version_major": 2,
       "version_minor": 0
      },
      "text/plain": [
       "Canvas(toolbar=Toolbar(toolitems=[('Home', 'Reset original view', 'home', 'home'), ('Back', 'Back to previous …"
      ]
     },
     "metadata": {},
     "output_type": "display_data"
    },
    {
     "name": "stdout",
     "output_type": "stream",
     "text": [
      "0 19\n"
     ]
    },
    {
     "data": {
      "application/vnd.jupyter.widget-view+json": {
       "model_id": "2480939e89974f13badaceeccf09df6b",
       "version_major": 2,
       "version_minor": 0
      },
      "text/plain": [
       "Canvas(toolbar=Toolbar(toolitems=[('Home', 'Reset original view', 'home', 'home'), ('Back', 'Back to previous …"
      ]
     },
     "metadata": {},
     "output_type": "display_data"
    },
    {
     "name": "stdout",
     "output_type": "stream",
     "text": [
      "trueHSR_indices 40 [34, 97, 152, 206, 261, 315, 368, 422, 474, 523, 569, 615, 663, 704, 745, 786, 827, 866, 904, 941, 979, 1018, 1056, 1094, 1131, 1166, 1205, 1242, 1282, 1324, 1367, 1409, 1447, 1486, 1525, 1565, 1603, 1643, 1684, 1726]\n",
      "peaks 40 [   5   50  112  167  200  258  309  368  417  470  522  572  629  659\n",
      "  710  761  794  825  868  913  952  987 1031 1092 1141 1171 1202 1240\n",
      " 1280 1321 1370 1405 1445 1490 1525 1573 1604 1649 1686 1723]\n"
     ]
    },
    {
     "data": {
      "application/vnd.jupyter.widget-view+json": {
       "model_id": "e74108ca1d5c48d0b211c6d26a743b29",
       "version_major": 2,
       "version_minor": 0
      },
      "text/plain": [
       "Canvas(toolbar=Toolbar(toolitems=[('Home', 'Reset original view', 'home', 'home'), ('Back', 'Back to previous …"
      ]
     },
     "metadata": {},
     "output_type": "display_data"
    },
    {
     "name": "stdout",
     "output_type": "stream",
     "text": [
      "GVS_311_W_T1\n",
      "[27, 73, 112, 155, 196, 242, 285, 327, 362, 405, 447, 484, 521, 557, 591, 637, 663, 701, 735, 771, 807, 842, 877, 913, 945, 974, 1004, 1039, 1071, 1111, 1149, 1182, 1218, 1253, 1298, 1322, 1357, 1392, 1427, 1463, 1501, 1537, 1573, 1606, 1639, 1672, 1705, 1739, 1772]\n",
      "0 249\n"
     ]
    },
    {
     "data": {
      "application/vnd.jupyter.widget-view+json": {
       "model_id": "49c17d8855a943cba26a7f052b7b5b43",
       "version_major": 2,
       "version_minor": 0
      },
      "text/plain": [
       "Canvas(toolbar=Toolbar(toolitems=[('Home', 'Reset original view', 'home', 'home'), ('Back', 'Back to previous …"
      ]
     },
     "metadata": {},
     "output_type": "display_data"
    },
    {
     "name": "stdout",
     "output_type": "stream",
     "text": [
      "trueHSR_indices 35 [111, 149, 212, 232, 272, 311, 346, 411, 438, 484, 589, 623, 655, 713, 741, 770, 854, 893, 924, 953, 987, 1016, 1059, 1083, 1118, 1152, 1187, 1223, 1261, 1297, 1332, 1365, 1398, 1490, 1523]\n",
      "peaks 39 [  19   60   91  127  164  194  240  274  325  356  388  445  484  516\n",
      "  551  587  630  660  690  739  774  807  864  900  961 1022 1075 1126\n",
      " 1161 1198 1234 1273 1307 1338 1373 1408 1458 1494 1530]\n"
     ]
    },
    {
     "data": {
      "application/vnd.jupyter.widget-view+json": {
       "model_id": "0b401718fdf7492a917e894b95be22d5",
       "version_major": 2,
       "version_minor": 0
      },
      "text/plain": [
       "Canvas(toolbar=Toolbar(toolitems=[('Home', 'Reset original view', 'home', 'home'), ('Back', 'Back to previous …"
      ]
     },
     "metadata": {},
     "output_type": "display_data"
    },
    {
     "name": "stdout",
     "output_type": "stream",
     "text": [
      "0 249\n"
     ]
    },
    {
     "data": {
      "application/vnd.jupyter.widget-view+json": {
       "model_id": "fff7f427c1e945cb8f3c8503c46f6d9f",
       "version_major": 2,
       "version_minor": 0
      },
      "text/plain": [
       "Canvas(toolbar=Toolbar(toolitems=[('Home', 'Reset original view', 'home', 'home'), ('Back', 'Back to previous …"
      ]
     },
     "metadata": {},
     "output_type": "display_data"
    },
    {
     "name": "stdout",
     "output_type": "stream",
     "text": [
      "trueHSR_indices 35 [111, 149, 212, 232, 272, 311, 346, 411, 438, 484, 589, 623, 655, 713, 741, 770, 854, 893, 924, 953, 987, 1016, 1059, 1083, 1118, 1152, 1187, 1223, 1261, 1297, 1332, 1365, 1398, 1490, 1523]\n",
      "peaks 36 [  20   56  113  161  215  272  311  347  383  428  467  498  531  563\n",
      "  608  657  715  747  804  856  903  953  988 1018 1082 1118 1149 1184\n",
      " 1227 1260 1307 1363 1398 1457 1488 1526]\n"
     ]
    },
    {
     "data": {
      "application/vnd.jupyter.widget-view+json": {
       "model_id": "58e9c8e10c0048f683bd8db4e8399938",
       "version_major": 2,
       "version_minor": 0
      },
      "text/plain": [
       "Canvas(toolbar=Toolbar(toolitems=[('Home', 'Reset original view', 'home', 'home'), ('Back', 'Back to previous …"
      ]
     },
     "metadata": {},
     "output_type": "display_data"
    },
    {
     "name": "stdout",
     "output_type": "stream",
     "text": [
      "0 249\n"
     ]
    },
    {
     "data": {
      "application/vnd.jupyter.widget-view+json": {
       "model_id": "d8b6065d8f094db08048fef58ef032eb",
       "version_major": 2,
       "version_minor": 0
      },
      "text/plain": [
       "Canvas(toolbar=Toolbar(toolitems=[('Home', 'Reset original view', 'home', 'home'), ('Back', 'Back to previous …"
      ]
     },
     "metadata": {},
     "output_type": "display_data"
    },
    {
     "name": "stdout",
     "output_type": "stream",
     "text": [
      "trueHSR_indices 35 [111, 149, 212, 232, 272, 311, 346, 411, 438, 484, 589, 623, 655, 713, 741, 770, 854, 893, 924, 953, 987, 1016, 1059, 1083, 1118, 1152, 1187, 1223, 1261, 1297, 1332, 1365, 1398, 1490, 1523]\n",
      "peaks 39 [  19   51   86  119  153  188  247  288  325  357  389  425  457  503\n",
      "  562  602  654  688  744  774  805  861  900  957  987 1022 1057 1090\n",
      " 1126 1156 1189 1234 1300 1341 1374 1407 1459 1489 1530]\n"
     ]
    },
    {
     "data": {
      "application/vnd.jupyter.widget-view+json": {
       "model_id": "7b022d82293d42bf82a30fcbe8d0fd7e",
       "version_major": 2,
       "version_minor": 0
      },
      "text/plain": [
       "Canvas(toolbar=Toolbar(toolitems=[('Home', 'Reset original view', 'home', 'home'), ('Back', 'Back to previous …"
      ]
     },
     "metadata": {},
     "output_type": "display_data"
    },
    {
     "name": "stdout",
     "output_type": "stream",
     "text": [
      "GVS_311_W_T2\n",
      "[30, 66, 100, 134, 172, 206, 243, 274, 307, 341, 375, 407, 440, 470, 503, 534, 566, 597, 622, 652, 684, 715, 745, 775, 804, 833, 865, 895, 926, 957, 986, 1014, 1044, 1074, 1105, 1134]\n",
      "0 132\n"
     ]
    },
    {
     "data": {
      "application/vnd.jupyter.widget-view+json": {
       "model_id": "a4ad98ba196b4b81952f79857b028512",
       "version_major": 2,
       "version_minor": 0
      },
      "text/plain": [
       "Canvas(toolbar=Toolbar(toolitems=[('Home', 'Reset original view', 'home', 'home'), ('Back', 'Back to previous …"
      ]
     },
     "metadata": {},
     "output_type": "display_data"
    },
    {
     "name": "stdout",
     "output_type": "stream",
     "text": [
      "trueHSR_indices 34 [18, 44, 88, 123, 155, 192, 222, 255, 286, 317, 346, 378, 401, 434, 464, 496, 550, 575, 606, 635, 661, 688, 717, 743, 775, 799, 824, 851, 876, 895, 920, 946, 977, 1004]\n",
      "peaks 27 [  31   69  107  143  175  208  244  302  332  362  397  434  489  519\n",
      "  552  582  614  644  675  713  752  799  831  881  934  965 1002]\n"
     ]
    },
    {
     "data": {
      "application/vnd.jupyter.widget-view+json": {
       "model_id": "d26adcaebbc44f74ade82d423d3dc74c",
       "version_major": 2,
       "version_minor": 0
      },
      "text/plain": [
       "Canvas(toolbar=Toolbar(toolitems=[('Home', 'Reset original view', 'home', 'home'), ('Back', 'Back to previous …"
      ]
     },
     "metadata": {},
     "output_type": "display_data"
    },
    {
     "name": "stdout",
     "output_type": "stream",
     "text": [
      "0 132\n"
     ]
    },
    {
     "data": {
      "application/vnd.jupyter.widget-view+json": {
       "model_id": "d49975d75cb6434384c632a86a14a7a9",
       "version_major": 2,
       "version_minor": 0
      },
      "text/plain": [
       "Canvas(toolbar=Toolbar(toolitems=[('Home', 'Reset original view', 'home', 'home'), ('Back', 'Back to previous …"
      ]
     },
     "metadata": {},
     "output_type": "display_data"
    },
    {
     "name": "stdout",
     "output_type": "stream",
     "text": [
      "trueHSR_indices 34 [18, 44, 88, 123, 155, 192, 222, 255, 286, 317, 346, 378, 401, 434, 464, 496, 550, 575, 606, 635, 661, 688, 717, 743, 775, 799, 824, 851, 876, 895, 920, 946, 977, 1004]\n",
      "peaks 23 [ 31  68 101 162 228 265 299 330 361 394 426 486 530 592 644 674 738 785\n",
      " 830 863 908 960 992]\n"
     ]
    },
    {
     "data": {
      "application/vnd.jupyter.widget-view+json": {
       "model_id": "c928e4f72df24b819d057644480400c3",
       "version_major": 2,
       "version_minor": 0
      },
      "text/plain": [
       "Canvas(toolbar=Toolbar(toolitems=[('Home', 'Reset original view', 'home', 'home'), ('Back', 'Back to previous …"
      ]
     },
     "metadata": {},
     "output_type": "display_data"
    },
    {
     "name": "stdout",
     "output_type": "stream",
     "text": [
      "0 132\n"
     ]
    },
    {
     "data": {
      "application/vnd.jupyter.widget-view+json": {
       "model_id": "1ce2befb39444d10940dbc791a28660a",
       "version_major": 2,
       "version_minor": 0
      },
      "text/plain": [
       "Canvas(toolbar=Toolbar(toolitems=[('Home', 'Reset original view', 'home', 'home'), ('Back', 'Back to previous …"
      ]
     },
     "metadata": {},
     "output_type": "display_data"
    },
    {
     "name": "stdout",
     "output_type": "stream",
     "text": [
      "trueHSR_indices 34 [18, 44, 88, 123, 155, 192, 222, 255, 286, 317, 346, 378, 401, 434, 464, 496, 550, 575, 606, 635, 661, 688, 717, 743, 775, 799, 824, 851, 876, 895, 920, 946, 977, 1004]\n",
      "peaks 25 [ 31  62  98 129 167 199 231 268 300 335 392 426 458 489 520 585 625 671\n",
      " 712 752 798 836 881 934 972]\n"
     ]
    },
    {
     "data": {
      "application/vnd.jupyter.widget-view+json": {
       "model_id": "4f86db10a8ce4c31b8c82938b66071ff",
       "version_major": 2,
       "version_minor": 0
      },
      "text/plain": [
       "Canvas(toolbar=Toolbar(toolitems=[('Home', 'Reset original view', 'home', 'home'), ('Back', 'Back to previous …"
      ]
     },
     "metadata": {},
     "output_type": "display_data"
    },
    {
     "name": "stdout",
     "output_type": "stream",
     "text": [
      "GVS_312_W_T2\n",
      "[Errno 2] No such file or directory: 'C:\\\\Users\\\\purpl\\\\Box\\\\Gait Video Project\\\\GaitVideoData\\\\video\\\\multi_view_merged_data\\\\\\\\MS\\\\walking\\\\GVS_312_W_T2\\\\hip_height_normalized\\\\\\\\HSRframes.txt'\n",
      "GVS_313_W_T1\n",
      "[29, 104, 170, 236, 296, 358, 413, 474, 527, 580, 635, 691, 745, 801, 855, 906, 957, 1009, 1061, 1115, 1167, 1222, 1278, 1329, 1378, 1429, 1489, 1604, 1662, 1723, 1772, 1816]\n",
      "0 7\n"
     ]
    },
    {
     "data": {
      "application/vnd.jupyter.widget-view+json": {
       "model_id": "c1d4fb9451c340ca8917c7ed315b90ad",
       "version_major": 2,
       "version_minor": 0
      },
      "text/plain": [
       "Canvas(toolbar=Toolbar(toolitems=[('Home', 'Reset original view', 'home', 'home'), ('Back', 'Back to previous …"
      ]
     },
     "metadata": {},
     "output_type": "display_data"
    },
    {
     "name": "stdout",
     "output_type": "stream",
     "text": [
      "trueHSR_indices 31 [25, 100, 166, 232, 292, 354, 409, 469, 522, 575, 630, 686, 740, 795, 849, 900, 951, 1003, 1055, 1109, 1161, 1216, 1272, 1323, 1372, 1423, 1483, 1597, 1655, 1716, 1765]\n",
      "peaks 39 [   7   41   72  115  170  233  297  367  411  441  483  543  595  647\n",
      "  695  747  794  827  860  901  961 1025 1057 1089 1130 1181 1216 1248\n",
      " 1282 1325 1373 1424 1454 1503 1556 1600 1658 1717 1768]\n"
     ]
    },
    {
     "data": {
      "application/vnd.jupyter.widget-view+json": {
       "model_id": "574926af79cf4cd38f77bca8a2667fe6",
       "version_major": 2,
       "version_minor": 0
      },
      "text/plain": [
       "Canvas(toolbar=Toolbar(toolitems=[('Home', 'Reset original view', 'home', 'home'), ('Back', 'Back to previous …"
      ]
     },
     "metadata": {},
     "output_type": "display_data"
    },
    {
     "name": "stdout",
     "output_type": "stream",
     "text": [
      "0 7\n"
     ]
    },
    {
     "data": {
      "application/vnd.jupyter.widget-view+json": {
       "model_id": "7b6b1a7b565d46bd9e6627a32b61a3d5",
       "version_major": 2,
       "version_minor": 0
      },
      "text/plain": [
       "Canvas(toolbar=Toolbar(toolitems=[('Home', 'Reset original view', 'home', 'home'), ('Back', 'Back to previous …"
      ]
     },
     "metadata": {},
     "output_type": "display_data"
    },
    {
     "name": "stdout",
     "output_type": "stream",
     "text": [
      "trueHSR_indices 31 [25, 100, 166, 232, 292, 354, 409, 469, 522, 575, 630, 686, 740, 795, 849, 900, 951, 1003, 1055, 1109, 1161, 1216, 1272, 1323, 1372, 1423, 1483, 1597, 1655, 1716, 1765]\n",
      "peaks 38 [  11   56   98  128  184  231  290  354  411  472  537  575  632  682\n",
      "  738  799  851  899  955 1005 1062 1121 1156 1188 1218 1248 1292 1342\n",
      " 1393 1425 1483 1537 1568 1599 1631 1663 1713 1766]\n"
     ]
    },
    {
     "data": {
      "application/vnd.jupyter.widget-view+json": {
       "model_id": "fe15efe0f66749958f67211baaa3dabc",
       "version_major": 2,
       "version_minor": 0
      },
      "text/plain": [
       "Canvas(toolbar=Toolbar(toolitems=[('Home', 'Reset original view', 'home', 'home'), ('Back', 'Back to previous …"
      ]
     },
     "metadata": {},
     "output_type": "display_data"
    },
    {
     "name": "stdout",
     "output_type": "stream",
     "text": [
      "0 7\n"
     ]
    },
    {
     "data": {
      "application/vnd.jupyter.widget-view+json": {
       "model_id": "bcccc85d5f934d89b59187d9431b3d1c",
       "version_major": 2,
       "version_minor": 0
      },
      "text/plain": [
       "Canvas(toolbar=Toolbar(toolitems=[('Home', 'Reset original view', 'home', 'home'), ('Back', 'Back to previous …"
      ]
     },
     "metadata": {},
     "output_type": "display_data"
    },
    {
     "name": "stdout",
     "output_type": "stream",
     "text": [
      "trueHSR_indices 31 [25, 100, 166, 232, 292, 354, 409, 469, 522, 575, 630, 686, 740, 795, 849, 900, 951, 1003, 1055, 1109, 1161, 1216, 1272, 1323, 1372, 1423, 1483, 1597, 1655, 1716, 1765]\n",
      "peaks 38 [  10   44   86  125  156  194  254  306  368  400  436  486  546  595\n",
      "  646  696  743  774  815  864  906  961  993 1026 1068 1119 1185 1229\n",
      " 1282 1338 1395 1441 1501 1559 1618 1682 1724 1754]\n"
     ]
    },
    {
     "data": {
      "application/vnd.jupyter.widget-view+json": {
       "model_id": "4dde296931604d759fffec459f1b3b79",
       "version_major": 2,
       "version_minor": 0
      },
      "text/plain": [
       "Canvas(toolbar=Toolbar(toolitems=[('Home', 'Reset original view', 'home', 'home'), ('Back', 'Back to previous …"
      ]
     },
     "metadata": {},
     "output_type": "display_data"
    },
    {
     "name": "stdout",
     "output_type": "stream",
     "text": [
      "GVS_313_W_T2\n",
      "[81, 151, 207, 266, 325, 383, 435, 487, 535, 583, 635, 684, 734, 780, 823, 870, 919, 967, 1018, 1067, 1109, 1145, 1177, 1220, 1255]\n",
      "0 2\n"
     ]
    },
    {
     "data": {
      "application/vnd.jupyter.widget-view+json": {
       "model_id": "862b12cddda8494dbd0de7c8ead7df19",
       "version_major": 2,
       "version_minor": 0
      },
      "text/plain": [
       "Canvas(toolbar=Toolbar(toolitems=[('Home', 'Reset original view', 'home', 'home'), ('Back', 'Back to previous …"
      ]
     },
     "metadata": {},
     "output_type": "display_data"
    },
    {
     "name": "stdout",
     "output_type": "stream",
     "text": [
      "trueHSR_indices 25 [80, 150, 206, 265, 324, 382, 434, 486, 534, 582, 634, 683, 733, 779, 822, 869, 918, 966, 1017, 1066, 1108, 1144, 1176, 1219, 1254]\n",
      "peaks 31 [  14   48   81  113  164  208  242  286  342  385  436  486  516  551\n",
      "  583  633  685  731  781  825  869  903  939  971 1020 1066 1110 1147\n",
      " 1180 1220 1260]\n"
     ]
    },
    {
     "data": {
      "application/vnd.jupyter.widget-view+json": {
       "model_id": "20f782c7ed404c868d010ba9688b3536",
       "version_major": 2,
       "version_minor": 0
      },
      "text/plain": [
       "Canvas(toolbar=Toolbar(toolitems=[('Home', 'Reset original view', 'home', 'home'), ('Back', 'Back to previous …"
      ]
     },
     "metadata": {},
     "output_type": "display_data"
    },
    {
     "name": "stdout",
     "output_type": "stream",
     "text": [
      "0 2\n"
     ]
    },
    {
     "data": {
      "application/vnd.jupyter.widget-view+json": {
       "model_id": "9431412e2fdb4a01a026a2ff1b305b37",
       "version_major": 2,
       "version_minor": 0
      },
      "text/plain": [
       "Canvas(toolbar=Toolbar(toolitems=[('Home', 'Reset original view', 'home', 'home'), ('Back', 'Back to previous …"
      ]
     },
     "metadata": {},
     "output_type": "display_data"
    },
    {
     "name": "stdout",
     "output_type": "stream",
     "text": [
      "trueHSR_indices 25 [80, 150, 206, 265, 324, 382, 434, 486, 534, 582, 634, 683, 733, 779, 822, 869, 918, 966, 1017, 1066, 1108, 1144, 1176, 1219, 1254]\n",
      "peaks 30 [  12   43   97  148  208  268  309  345  400  438  470  501  539  580\n",
      "  633  664  698  731  779  839  878  935  987 1033 1077 1121 1152 1191\n",
      " 1231 1264]\n"
     ]
    },
    {
     "data": {
      "application/vnd.jupyter.widget-view+json": {
       "model_id": "1c4be4c3b32347208d31e3a7540a2427",
       "version_major": 2,
       "version_minor": 0
      },
      "text/plain": [
       "Canvas(toolbar=Toolbar(toolitems=[('Home', 'Reset original view', 'home', 'home'), ('Back', 'Back to previous …"
      ]
     },
     "metadata": {},
     "output_type": "display_data"
    },
    {
     "name": "stdout",
     "output_type": "stream",
     "text": [
      "0 2\n"
     ]
    },
    {
     "data": {
      "application/vnd.jupyter.widget-view+json": {
       "model_id": "fda9eeb75b384c448158e887e3e2446c",
       "version_major": 2,
       "version_minor": 0
      },
      "text/plain": [
       "Canvas(toolbar=Toolbar(toolitems=[('Home', 'Reset original view', 'home', 'home'), ('Back', 'Back to previous …"
      ]
     },
     "metadata": {},
     "output_type": "display_data"
    },
    {
     "name": "stdout",
     "output_type": "stream",
     "text": [
      "trueHSR_indices 25 [80, 150, 206, 265, 324, 382, 434, 486, 534, 582, 634, 683, 733, 779, 822, 869, 918, 966, 1017, 1066, 1108, 1144, 1176, 1219, 1254]\n",
      "peaks 30 [  14   44  101  162  209  242  291  326  385  423  456  496  552  602\n",
      "  649  705  751  798  842  889  937  974 1021 1051 1081 1111 1156 1188\n",
      " 1226 1270]\n"
     ]
    },
    {
     "data": {
      "application/vnd.jupyter.widget-view+json": {
       "model_id": "06274f05afdc4f0d81fd3e78bd8f4c85",
       "version_major": 2,
       "version_minor": 0
      },
      "text/plain": [
       "Canvas(toolbar=Toolbar(toolitems=[('Home', 'Reset original view', 'home', 'home'), ('Back', 'Back to previous …"
      ]
     },
     "metadata": {},
     "output_type": "display_data"
    },
    {
     "name": "stdout",
     "output_type": "stream",
     "text": [
      "GVS_314_W_T1\n",
      "[63, 132, 185, 235, 279, 314, 356, 408, 459, 502, 548, 598, 648, 698, 749, 799, 849, 901, 951, 998, 1044, 1093, 1140, 1190, 1245, 1297, 1346, 1394, 1439, 1483, 1528, 1572, 1618, 1668, 1720, 1770]\n",
      "0 0\n"
     ]
    },
    {
     "data": {
      "application/vnd.jupyter.widget-view+json": {
       "model_id": "5ec6203ef3a24e44b0087ba2488479e2",
       "version_major": 2,
       "version_minor": 0
      },
      "text/plain": [
       "Canvas(toolbar=Toolbar(toolitems=[('Home', 'Reset original view', 'home', 'home'), ('Back', 'Back to previous …"
      ]
     },
     "metadata": {},
     "output_type": "display_data"
    },
    {
     "name": "stdout",
     "output_type": "stream",
     "text": [
      "trueHSR_indices 35 [63, 132, 185, 235, 279, 314, 356, 408, 459, 502, 548, 598, 648, 698, 749, 799, 849, 901, 951, 998, 1044, 1093, 1140, 1190, 1245, 1297, 1346, 1394, 1439, 1483, 1528, 1572, 1618, 1668, 1720]\n",
      "peaks 39 [  10   42   82  142  174  205  255  314  358  411  460  508  549  610\n",
      "  650  700  750  800  851  902  940  970 1002 1061 1093 1142 1192 1247\n",
      " 1298 1347 1395 1440 1484 1515 1546 1584 1621 1670 1720]\n"
     ]
    },
    {
     "data": {
      "application/vnd.jupyter.widget-view+json": {
       "model_id": "167e60619f2145249737fa423e13fa3a",
       "version_major": 2,
       "version_minor": 0
      },
      "text/plain": [
       "Canvas(toolbar=Toolbar(toolitems=[('Home', 'Reset original view', 'home', 'home'), ('Back', 'Back to previous …"
      ]
     },
     "metadata": {},
     "output_type": "display_data"
    },
    {
     "name": "stdout",
     "output_type": "stream",
     "text": [
      "0 0\n"
     ]
    },
    {
     "data": {
      "application/vnd.jupyter.widget-view+json": {
       "model_id": "307fcc5434fc4476aed3ab0b2029087c",
       "version_major": 2,
       "version_minor": 0
      },
      "text/plain": [
       "Canvas(toolbar=Toolbar(toolitems=[('Home', 'Reset original view', 'home', 'home'), ('Back', 'Back to previous …"
      ]
     },
     "metadata": {},
     "output_type": "display_data"
    },
    {
     "name": "stdout",
     "output_type": "stream",
     "text": [
      "trueHSR_indices 35 [63, 132, 185, 235, 279, 314, 356, 408, 459, 502, 548, 598, 648, 698, 749, 799, 849, 901, 951, 998, 1044, 1093, 1140, 1190, 1245, 1297, 1346, 1394, 1439, 1483, 1528, 1572, 1618, 1668, 1720]\n",
      "peaks 37 [  21   73  131  185  243  280  326  366  418  472  519  566  611  651\n",
      "  710  749  802  851  902  952 1002 1045 1097 1150 1191 1222 1267 1306\n",
      " 1362 1398 1446 1500 1544 1586 1621 1683 1733]\n"
     ]
    },
    {
     "data": {
      "application/vnd.jupyter.widget-view+json": {
       "model_id": "bd0cc25026044e33b48560e00b133bc5",
       "version_major": 2,
       "version_minor": 0
      },
      "text/plain": [
       "Canvas(toolbar=Toolbar(toolitems=[('Home', 'Reset original view', 'home', 'home'), ('Back', 'Back to previous …"
      ]
     },
     "metadata": {},
     "output_type": "display_data"
    },
    {
     "name": "stdout",
     "output_type": "stream",
     "text": [
      "0 0\n"
     ]
    },
    {
     "data": {
      "application/vnd.jupyter.widget-view+json": {
       "model_id": "c7ac66035cf7485a88f5bfbc12685582",
       "version_major": 2,
       "version_minor": 0
      },
      "text/plain": [
       "Canvas(toolbar=Toolbar(toolitems=[('Home', 'Reset original view', 'home', 'home'), ('Back', 'Back to previous …"
      ]
     },
     "metadata": {},
     "output_type": "display_data"
    },
    {
     "name": "stdout",
     "output_type": "stream",
     "text": [
      "trueHSR_indices 35 [63, 132, 185, 235, 279, 314, 356, 408, 459, 502, 548, 598, 648, 698, 749, 799, 849, 901, 951, 998, 1044, 1093, 1140, 1190, 1245, 1297, 1346, 1394, 1439, 1483, 1528, 1572, 1618, 1668, 1720]\n",
      "peaks 38 [   9   42   80  136  196  242  281  321  373  421  469  513  550  609\n",
      "  667  720  767  817  865  919  970 1009 1052 1110 1155 1206 1247 1284\n",
      " 1317 1347 1401 1458 1494 1537 1591 1634 1691 1740]\n"
     ]
    },
    {
     "data": {
      "application/vnd.jupyter.widget-view+json": {
       "model_id": "e207dd28d4e74d0c893b49d52e0904cc",
       "version_major": 2,
       "version_minor": 0
      },
      "text/plain": [
       "Canvas(toolbar=Toolbar(toolitems=[('Home', 'Reset original view', 'home', 'home'), ('Back', 'Back to previous …"
      ]
     },
     "metadata": {},
     "output_type": "display_data"
    },
    {
     "name": "stdout",
     "output_type": "stream",
     "text": [
      "GVS_314_W_T2\n",
      "[110, 173, 228, 280, 333, 385, 429, 484, 536, 590, 645, 698, 744, 792, 837, 885, 933, 990, 1043, 1093, 1146, 1198, 1255, 1309, 1359, 1407, 1459, 1512, 1565, 1614, 1665, 1717]\n",
      "0 13\n"
     ]
    },
    {
     "data": {
      "application/vnd.jupyter.widget-view+json": {
       "model_id": "4d0dad5f836c4ba18fc4531e955d1d30",
       "version_major": 2,
       "version_minor": 0
      },
      "text/plain": [
       "Canvas(toolbar=Toolbar(toolitems=[('Home', 'Reset original view', 'home', 'home'), ('Back', 'Back to previous …"
      ]
     },
     "metadata": {},
     "output_type": "display_data"
    },
    {
     "name": "stdout",
     "output_type": "stream",
     "text": [
      "trueHSR_indices 32 [99, 161, 216, 268, 321, 373, 417, 472, 524, 578, 633, 686, 732, 780, 825, 873, 921, 978, 1031, 1081, 1134, 1186, 1243, 1297, 1347, 1395, 1447, 1500, 1553, 1601, 1652, 1704]\n",
      "peaks 40 [  17   53   86  125  171  219  250  281  321  376  422  452  497  534\n",
      "  580  610  644  702  757  809  856  895  950  986 1018 1063 1109 1151\n",
      " 1210 1252 1287 1319 1357 1407 1457 1501 1555 1608 1665 1728]\n"
     ]
    },
    {
     "data": {
      "application/vnd.jupyter.widget-view+json": {
       "model_id": "9e9c7a7d5165450a916b20806735835c",
       "version_major": 2,
       "version_minor": 0
      },
      "text/plain": [
       "Canvas(toolbar=Toolbar(toolitems=[('Home', 'Reset original view', 'home', 'home'), ('Back', 'Back to previous …"
      ]
     },
     "metadata": {},
     "output_type": "display_data"
    },
    {
     "name": "stdout",
     "output_type": "stream",
     "text": [
      "0 13\n"
     ]
    },
    {
     "data": {
      "application/vnd.jupyter.widget-view+json": {
       "model_id": "b6f4bd93a4b14c2dbeb790887d39edb5",
       "version_major": 2,
       "version_minor": 0
      },
      "text/plain": [
       "Canvas(toolbar=Toolbar(toolitems=[('Home', 'Reset original view', 'home', 'home'), ('Back', 'Back to previous …"
      ]
     },
     "metadata": {},
     "output_type": "display_data"
    },
    {
     "name": "stdout",
     "output_type": "stream",
     "text": [
      "trueHSR_indices 32 [99, 161, 216, 268, 321, 373, 417, 472, 524, 578, 633, 686, 732, 780, 825, 873, 921, 978, 1031, 1081, 1134, 1186, 1243, 1297, 1347, 1395, 1447, 1500, 1553, 1601, 1652, 1704]\n",
      "peaks 41 [  12   53   98  128  164  223  271  323  353  383  424  454  486  527\n",
      "  557  592  638  673  703  736  793  836  893  934  964  997 1052 1088\n",
      " 1145 1206 1248 1279 1313 1364 1414 1462 1516 1566 1609 1652 1707]\n"
     ]
    },
    {
     "data": {
      "application/vnd.jupyter.widget-view+json": {
       "model_id": "88e27f19f0f94873a1d51b286b712f1a",
       "version_major": 2,
       "version_minor": 0
      },
      "text/plain": [
       "Canvas(toolbar=Toolbar(toolitems=[('Home', 'Reset original view', 'home', 'home'), ('Back', 'Back to previous …"
      ]
     },
     "metadata": {},
     "output_type": "display_data"
    },
    {
     "name": "stdout",
     "output_type": "stream",
     "text": [
      "0 13\n"
     ]
    },
    {
     "data": {
      "application/vnd.jupyter.widget-view+json": {
       "model_id": "dd2345588722434eada431592f07b791",
       "version_major": 2,
       "version_minor": 0
      },
      "text/plain": [
       "Canvas(toolbar=Toolbar(toolitems=[('Home', 'Reset original view', 'home', 'home'), ('Back', 'Back to previous …"
      ]
     },
     "metadata": {},
     "output_type": "display_data"
    },
    {
     "name": "stdout",
     "output_type": "stream",
     "text": [
      "trueHSR_indices 32 [99, 161, 216, 268, 321, 373, 417, 472, 524, 578, 633, 686, 732, 780, 825, 873, 921, 978, 1031, 1081, 1134, 1186, 1243, 1297, 1347, 1395, 1447, 1500, 1553, 1601, 1652, 1704]\n",
      "peaks 36 [  19   53  114  161  219  250  281  314  344  394  431  487  534  588\n",
      "  643  698  744  789  842  882  937 1000 1053 1100 1144 1197 1260 1319\n",
      " 1359 1410 1457 1511 1571 1609 1664 1720]\n"
     ]
    },
    {
     "data": {
      "application/vnd.jupyter.widget-view+json": {
       "model_id": "48f7ce1b4d28468aaf42de9581ab61a7",
       "version_major": 2,
       "version_minor": 0
      },
      "text/plain": [
       "Canvas(toolbar=Toolbar(toolitems=[('Home', 'Reset original view', 'home', 'home'), ('Back', 'Back to previous …"
      ]
     },
     "metadata": {},
     "output_type": "display_data"
    },
    {
     "name": "stdout",
     "output_type": "stream",
     "text": [
      "GVS_318_W_T1\n",
      "[Errno 2] No such file or directory: 'C:\\\\Users\\\\purpl\\\\Box\\\\Gait Video Project\\\\GaitVideoData\\\\video\\\\multi_view_merged_data\\\\\\\\MS\\\\walking\\\\GVS_318_W_T1\\\\hip_height_normalized\\\\\\\\HSRframes.txt'\n",
      "GVS_318_W_T2\n",
      "[Errno 2] No such file or directory: 'C:\\\\Users\\\\purpl\\\\Box\\\\Gait Video Project\\\\GaitVideoData\\\\video\\\\multi_view_merged_data\\\\\\\\MS\\\\walking\\\\GVS_318_W_T2\\\\hip_height_normalized\\\\\\\\HSRframes.txt'\n",
      "GVS_320_W_T1\n",
      "[23, 65, 108, 150, 189, 230, 271, 311, 354, 395, 438, 480, 520, 558, 602, 645, 691, 735, 774, 811, 848, 883, 916, 950, 986, 1017, 1054, 1089, 1122, 1155, 1190, 1225, 1260, 1295, 1328, 1361, 1394, 1429, 1462, 1500, 1534, 1569, 1604, 1640, 1673, 1707, 1741]\n",
      "0 3\n"
     ]
    },
    {
     "data": {
      "application/vnd.jupyter.widget-view+json": {
       "model_id": "2187f75c79534b2982384a917a3b8fd7",
       "version_major": 2,
       "version_minor": 0
      },
      "text/plain": [
       "Canvas(toolbar=Toolbar(toolitems=[('Home', 'Reset original view', 'home', 'home'), ('Back', 'Back to previous …"
      ]
     },
     "metadata": {},
     "output_type": "display_data"
    },
    {
     "name": "stdout",
     "output_type": "stream",
     "text": [
      "trueHSR_indices 47 [21, 63, 106, 148, 187, 228, 269, 309, 352, 393, 436, 478, 518, 555, 599, 642, 688, 732, 771, 808, 845, 880, 913, 947, 983, 1014, 1051, 1086, 1119, 1152, 1187, 1222, 1257, 1292, 1325, 1358, 1391, 1426, 1459, 1497, 1531, 1566, 1601, 1637, 1670, 1704, 1738]\n",
      "peaks 46 [   6   37   67  124  165  232  272  315  355  395  439  481  521  572\n",
      "  622  662  705  737  777  816  850  883  919  952  988 1029 1089 1127\n",
      " 1159 1196 1230 1263 1299 1331 1364 1398 1433 1466 1500 1537 1572 1607\n",
      " 1642 1677 1716 1750]\n"
     ]
    },
    {
     "data": {
      "application/vnd.jupyter.widget-view+json": {
       "model_id": "92f7fe777abb4a02ae469401c6c1f432",
       "version_major": 2,
       "version_minor": 0
      },
      "text/plain": [
       "Canvas(toolbar=Toolbar(toolitems=[('Home', 'Reset original view', 'home', 'home'), ('Back', 'Back to previous …"
      ]
     },
     "metadata": {},
     "output_type": "display_data"
    },
    {
     "name": "stdout",
     "output_type": "stream",
     "text": [
      "0 3\n"
     ]
    },
    {
     "data": {
      "application/vnd.jupyter.widget-view+json": {
       "model_id": "774df81e7b35449f94568ab5c51730c9",
       "version_major": 2,
       "version_minor": 0
      },
      "text/plain": [
       "Canvas(toolbar=Toolbar(toolitems=[('Home', 'Reset original view', 'home', 'home'), ('Back', 'Back to previous …"
      ]
     },
     "metadata": {},
     "output_type": "display_data"
    },
    {
     "name": "stdout",
     "output_type": "stream",
     "text": [
      "trueHSR_indices 47 [21, 63, 106, 148, 187, 228, 269, 309, 352, 393, 436, 478, 518, 555, 599, 642, 688, 732, 771, 808, 845, 880, 913, 947, 983, 1014, 1051, 1086, 1119, 1152, 1187, 1222, 1257, 1292, 1325, 1358, 1391, 1426, 1459, 1497, 1531, 1566, 1601, 1637, 1670, 1704, 1738]\n",
      "peaks 45 [   4   36   75  108  147  201  242  273  316  353  406  440  480  520\n",
      "  566  603  640  689  751  787  822  853  893  951  996 1027 1059 1089\n",
      " 1128 1166 1199 1233 1264 1294 1329 1368 1428 1476 1510 1543 1605 1638\n",
      " 1672 1706 1752]\n"
     ]
    },
    {
     "data": {
      "application/vnd.jupyter.widget-view+json": {
       "model_id": "401c48b171de4ba9939cc2651ba0d101",
       "version_major": 2,
       "version_minor": 0
      },
      "text/plain": [
       "Canvas(toolbar=Toolbar(toolitems=[('Home', 'Reset original view', 'home', 'home'), ('Back', 'Back to previous …"
      ]
     },
     "metadata": {},
     "output_type": "display_data"
    },
    {
     "name": "stdout",
     "output_type": "stream",
     "text": [
      "0 3\n"
     ]
    },
    {
     "data": {
      "application/vnd.jupyter.widget-view+json": {
       "model_id": "eb6b8f1741a14a8397a941d9faa33fbe",
       "version_major": 2,
       "version_minor": 0
      },
      "text/plain": [
       "Canvas(toolbar=Toolbar(toolitems=[('Home', 'Reset original view', 'home', 'home'), ('Back', 'Back to previous …"
      ]
     },
     "metadata": {},
     "output_type": "display_data"
    },
    {
     "name": "stdout",
     "output_type": "stream",
     "text": [
      "trueHSR_indices 47 [21, 63, 106, 148, 187, 228, 269, 309, 352, 393, 436, 478, 518, 555, 599, 642, 688, 732, 771, 808, 845, 880, 913, 947, 983, 1014, 1051, 1086, 1119, 1152, 1187, 1222, 1257, 1292, 1325, 1358, 1391, 1426, 1459, 1497, 1531, 1566, 1601, 1637, 1670, 1704, 1738]\n",
      "peaks 49 [   4   37   79  109  156  202  232  271  325  363  394  442  492  533\n",
      "  566  598  628  661  702  746  781  816  858  889  919  957  988 1024\n",
      " 1058 1089 1128 1159 1196 1230 1263 1295 1326 1364 1398 1433 1469 1504\n",
      " 1543 1574 1605 1645 1676 1716 1750]\n"
     ]
    },
    {
     "data": {
      "application/vnd.jupyter.widget-view+json": {
       "model_id": "000f2fb439e34371a04db7891c58938b",
       "version_major": 2,
       "version_minor": 0
      },
      "text/plain": [
       "Canvas(toolbar=Toolbar(toolitems=[('Home', 'Reset original view', 'home', 'home'), ('Back', 'Back to previous …"
      ]
     },
     "metadata": {},
     "output_type": "display_data"
    },
    {
     "name": "stdout",
     "output_type": "stream",
     "text": [
      "GVS_320_W_T2\n",
      "[11, 59, 104, 144, 183, 221, 259, 296, 335, 371, 408, 444, 481, 517, 554, 590, 627, 663, 698, 732, 765, 800, 836, 870, 905, 941, 974, 1009, 1043, 1075, 1110, 1145, 1180, 1214, 1247, 1282, 1315, 1350, 1384, 1417, 1452, 1486, 1520, 1553, 1587, 1622, 1657, 1691, 1724, 1759, 1794]\n",
      "0 7\n"
     ]
    },
    {
     "data": {
      "application/vnd.jupyter.widget-view+json": {
       "model_id": "c61990fef5dc4724bea9cf37a80ce864",
       "version_major": 2,
       "version_minor": 0
      },
      "text/plain": [
       "Canvas(toolbar=Toolbar(toolitems=[('Home', 'Reset original view', 'home', 'home'), ('Back', 'Back to previous …"
      ]
     },
     "metadata": {},
     "output_type": "display_data"
    },
    {
     "name": "stdout",
     "output_type": "stream",
     "text": [
      "trueHSR_indices 49 [11, 59, 104, 144, 183, 221, 259, 296, 335, 371, 408, 444, 481, 517, 554, 590, 627, 662, 697, 731, 764, 799, 835, 869, 903, 937, 970, 1005, 1039, 1071, 1106, 1141, 1173, 1207, 1240, 1275, 1308, 1343, 1377, 1410, 1445, 1479, 1513, 1546, 1580, 1615, 1650, 1684, 1717]\n",
      "peaks 48 [  15   47   80  119  150  188  224  259  300  339  373  415  448  495\n",
      "  556  592  628  664  699  734  769  803  840  876  908  940  975 1009\n",
      " 1043 1077 1111 1148 1180 1211 1246 1280 1314 1347 1383 1422 1485 1519\n",
      " 1553 1584 1617 1654 1689 1726]\n"
     ]
    },
    {
     "data": {
      "application/vnd.jupyter.widget-view+json": {
       "model_id": "429f2ad73eca4dbeb56116af67142fb8",
       "version_major": 2,
       "version_minor": 0
      },
      "text/plain": [
       "Canvas(toolbar=Toolbar(toolitems=[('Home', 'Reset original view', 'home', 'home'), ('Back', 'Back to previous …"
      ]
     },
     "metadata": {},
     "output_type": "display_data"
    },
    {
     "name": "stdout",
     "output_type": "stream",
     "text": [
      "0 7\n"
     ]
    },
    {
     "data": {
      "application/vnd.jupyter.widget-view+json": {
       "model_id": "32cb41cddaa14dc29cb74233a3af4d74",
       "version_major": 2,
       "version_minor": 0
      },
      "text/plain": [
       "Canvas(toolbar=Toolbar(toolitems=[('Home', 'Reset original view', 'home', 'home'), ('Back', 'Back to previous …"
      ]
     },
     "metadata": {},
     "output_type": "display_data"
    },
    {
     "name": "stdout",
     "output_type": "stream",
     "text": [
      "trueHSR_indices 49 [11, 59, 104, 144, 183, 221, 259, 296, 335, 371, 408, 444, 481, 517, 554, 590, 627, 662, 697, 731, 764, 799, 835, 869, 903, 937, 970, 1005, 1039, 1071, 1106, 1141, 1173, 1207, 1240, 1275, 1308, 1343, 1377, 1410, 1445, 1479, 1513, 1546, 1580, 1615, 1650, 1684, 1717]\n",
      "peaks 44 [  34   71  103  159  192  226  271  304  340  384  415  448  480  516\n",
      "  567  627  661  697  734  772  808  849  883  938  980 1017 1049 1082\n",
      " 1115 1172 1207 1254 1289 1348 1390 1425 1455 1493 1526 1582 1616 1652\n",
      " 1698 1729]\n"
     ]
    },
    {
     "data": {
      "application/vnd.jupyter.widget-view+json": {
       "model_id": "1de24839e2864591b73e55f11d5510c2",
       "version_major": 2,
       "version_minor": 0
      },
      "text/plain": [
       "Canvas(toolbar=Toolbar(toolitems=[('Home', 'Reset original view', 'home', 'home'), ('Back', 'Back to previous …"
      ]
     },
     "metadata": {},
     "output_type": "display_data"
    },
    {
     "name": "stdout",
     "output_type": "stream",
     "text": [
      "0 7\n"
     ]
    },
    {
     "data": {
      "application/vnd.jupyter.widget-view+json": {
       "model_id": "e412862dea0c40d68d5af1a9de8124a9",
       "version_major": 2,
       "version_minor": 0
      },
      "text/plain": [
       "Canvas(toolbar=Toolbar(toolitems=[('Home', 'Reset original view', 'home', 'home'), ('Back', 'Back to previous …"
      ]
     },
     "metadata": {},
     "output_type": "display_data"
    },
    {
     "name": "stdout",
     "output_type": "stream",
     "text": [
      "trueHSR_indices 49 [11, 59, 104, 144, 183, 221, 259, 296, 335, 371, 408, 444, 481, 517, 554, 590, 627, 662, 697, 731, 764, 799, 835, 869, 903, 937, 970, 1005, 1039, 1071, 1106, 1141, 1173, 1207, 1240, 1275, 1308, 1343, 1377, 1410, 1445, 1479, 1513, 1546, 1580, 1615, 1650, 1684, 1717]\n",
      "peaks 45 [  16   79  110  147  193  227  266  299  338  380  419  480  524  556\n",
      "  591  635  671  733  768  803  842  873  906  942  976 1009 1043 1077\n",
      " 1112 1148 1178 1210 1246 1289 1321 1382 1414 1449 1490 1549 1588 1621\n",
      " 1656 1690 1724]\n"
     ]
    },
    {
     "data": {
      "application/vnd.jupyter.widget-view+json": {
       "model_id": "67e0ebb2eb5b4a7f8843cc29cc5346e5",
       "version_major": 2,
       "version_minor": 0
      },
      "text/plain": [
       "Canvas(toolbar=Toolbar(toolitems=[('Home', 'Reset original view', 'home', 'home'), ('Back', 'Back to previous …"
      ]
     },
     "metadata": {},
     "output_type": "display_data"
    },
    {
     "name": "stdout",
     "output_type": "stream",
     "text": [
      "GVS_321_W_T1\n",
      "[62, 115, 165, 217, 273, 328, 393, 460, 525, 583, 655, 723, 795, 857, 922, 981, 1042, 1098, 1150, 1203, 1256, 1312, 1366, 1417, 1473, 1527, 1583, 1661]\n",
      "0 1\n"
     ]
    },
    {
     "data": {
      "application/vnd.jupyter.widget-view+json": {
       "model_id": "f63d7af5a07e4344a4d371307fd0923e",
       "version_major": 2,
       "version_minor": 0
      },
      "text/plain": [
       "Canvas(toolbar=Toolbar(toolitems=[('Home', 'Reset original view', 'home', 'home'), ('Back', 'Back to previous …"
      ]
     },
     "metadata": {},
     "output_type": "display_data"
    },
    {
     "name": "stdout",
     "output_type": "stream",
     "text": [
      "trueHSR_indices 28 [62, 115, 165, 217, 273, 328, 392, 459, 524, 582, 654, 722, 794, 856, 921, 980, 1041, 1097, 1149, 1202, 1255, 1311, 1365, 1416, 1472, 1526, 1582, 1660]\n",
      "peaks 40 [  30   64  111  147  187  219  276  327  358  398  457  488  524  581\n",
      "  617  658  688  721  757  792  827  869  899  936  980 1054 1098 1150\n",
      " 1208 1254 1321 1374 1417 1475 1513 1547 1578 1608 1657 1693]\n"
     ]
    },
    {
     "data": {
      "application/vnd.jupyter.widget-view+json": {
       "model_id": "d2f049617e88435aad8813e62b6c9ba6",
       "version_major": 2,
       "version_minor": 0
      },
      "text/plain": [
       "Canvas(toolbar=Toolbar(toolitems=[('Home', 'Reset original view', 'home', 'home'), ('Back', 'Back to previous …"
      ]
     },
     "metadata": {},
     "output_type": "display_data"
    },
    {
     "name": "stdout",
     "output_type": "stream",
     "text": [
      "0 1\n"
     ]
    },
    {
     "data": {
      "application/vnd.jupyter.widget-view+json": {
       "model_id": "0e3f16c03ea64874b559e101819f14f3",
       "version_major": 2,
       "version_minor": 0
      },
      "text/plain": [
       "Canvas(toolbar=Toolbar(toolitems=[('Home', 'Reset original view', 'home', 'home'), ('Back', 'Back to previous …"
      ]
     },
     "metadata": {},
     "output_type": "display_data"
    },
    {
     "name": "stdout",
     "output_type": "stream",
     "text": [
      "trueHSR_indices 28 [62, 115, 165, 217, 273, 328, 392, 459, 524, 582, 654, 722, 794, 856, 921, 980, 1041, 1097, 1149, 1202, 1255, 1311, 1365, 1416, 1472, 1526, 1582, 1660]\n",
      "peaks 38 [  16   61  111  152  183  214  271  309  346  409  439  479  527  576\n",
      "  606  647  678  744  809  839  870  915  975 1034 1092 1146 1197 1229\n",
      " 1274 1305 1359 1412 1466 1522 1577 1609 1655 1689]\n"
     ]
    },
    {
     "data": {
      "application/vnd.jupyter.widget-view+json": {
       "model_id": "9c447e4c74be4843a759615ead84a7c5",
       "version_major": 2,
       "version_minor": 0
      },
      "text/plain": [
       "Canvas(toolbar=Toolbar(toolitems=[('Home', 'Reset original view', 'home', 'home'), ('Back', 'Back to previous …"
      ]
     },
     "metadata": {},
     "output_type": "display_data"
    },
    {
     "name": "stdout",
     "output_type": "stream",
     "text": [
      "0 1\n"
     ]
    },
    {
     "data": {
      "application/vnd.jupyter.widget-view+json": {
       "model_id": "9f402bd9e35d43ed930865778ed03097",
       "version_major": 2,
       "version_minor": 0
      },
      "text/plain": [
       "Canvas(toolbar=Toolbar(toolitems=[('Home', 'Reset original view', 'home', 'home'), ('Back', 'Back to previous …"
      ]
     },
     "metadata": {},
     "output_type": "display_data"
    },
    {
     "name": "stdout",
     "output_type": "stream",
     "text": [
      "trueHSR_indices 28 [62, 115, 165, 217, 273, 328, 392, 459, 524, 582, 654, 722, 794, 856, 921, 980, 1041, 1097, 1149, 1202, 1255, 1311, 1365, 1416, 1472, 1526, 1582, 1660]\n",
      "peaks 42 [  29   61   92  134  174  216  273  309  349  411  457  488  521  580\n",
      "  617  650  681  719  755  789  823  853  916  978 1008 1038 1094 1148\n",
      " 1199 1229 1271 1308 1341 1379 1416 1455 1488 1524 1568 1601 1657 1687]\n"
     ]
    },
    {
     "data": {
      "application/vnd.jupyter.widget-view+json": {
       "model_id": "8795950476784c14b6d5ce24aec96dc4",
       "version_major": 2,
       "version_minor": 0
      },
      "text/plain": [
       "Canvas(toolbar=Toolbar(toolitems=[('Home', 'Reset original view', 'home', 'home'), ('Back', 'Back to previous …"
      ]
     },
     "metadata": {},
     "output_type": "display_data"
    },
    {
     "name": "stdout",
     "output_type": "stream",
     "text": [
      "GVS_321_W_T2\n",
      "[7, 61, 104, 148, 193, 237, 277, 317, 355, 394, 437, 474, 517, 557, 598, 641, 683, 721, 762, 802, 843, 883, 921, 959, 999, 1039, 1077, 1112, 1158, 1201, 1244, 1290, 1333, 1377, 1416, 1458, 1498, 1541, 1582, 1624, 1669, 1711, 1750]\n",
      "0 0\n"
     ]
    },
    {
     "data": {
      "application/vnd.jupyter.widget-view+json": {
       "model_id": "04ae0a2688fa4f01aa7634eb531d0810",
       "version_major": 2,
       "version_minor": 0
      },
      "text/plain": [
       "Canvas(toolbar=Toolbar(toolitems=[('Home', 'Reset original view', 'home', 'home'), ('Back', 'Back to previous …"
      ]
     },
     "metadata": {},
     "output_type": "display_data"
    },
    {
     "name": "stdout",
     "output_type": "stream",
     "text": [
      "trueHSR_indices 43 [7, 61, 104, 148, 193, 237, 277, 317, 355, 394, 437, 474, 517, 557, 598, 641, 683, 721, 762, 802, 843, 883, 921, 959, 999, 1039, 1077, 1112, 1158, 1201, 1244, 1290, 1333, 1377, 1416, 1458, 1498, 1541, 1582, 1624, 1669, 1711, 1750]\n",
      "peaks 43 [  31   79  112  163  193  233  278  318  368  410  444  483  518  570\n",
      "  607  653  685  721  759  804  844  894  929  975 1007 1049 1089 1131\n",
      " 1164 1203 1262 1300 1333 1378 1419 1458 1496 1539 1579 1625 1667 1708\n",
      " 1749]\n"
     ]
    },
    {
     "data": {
      "application/vnd.jupyter.widget-view+json": {
       "model_id": "b3aadf811e5b454ba86eb87c73f8f857",
       "version_major": 2,
       "version_minor": 0
      },
      "text/plain": [
       "Canvas(toolbar=Toolbar(toolitems=[('Home', 'Reset original view', 'home', 'home'), ('Back', 'Back to previous …"
      ]
     },
     "metadata": {},
     "output_type": "display_data"
    },
    {
     "name": "stdout",
     "output_type": "stream",
     "text": [
      "0 0\n"
     ]
    },
    {
     "data": {
      "application/vnd.jupyter.widget-view+json": {
       "model_id": "7e8748905ccd4ae99680b84afe142ecd",
       "version_major": 2,
       "version_minor": 0
      },
      "text/plain": [
       "Canvas(toolbar=Toolbar(toolitems=[('Home', 'Reset original view', 'home', 'home'), ('Back', 'Back to previous …"
      ]
     },
     "metadata": {},
     "output_type": "display_data"
    },
    {
     "name": "stdout",
     "output_type": "stream",
     "text": [
      "trueHSR_indices 43 [7, 61, 104, 148, 193, 237, 277, 317, 355, 394, 437, 474, 517, 557, 598, 641, 683, 721, 762, 802, 843, 883, 921, 959, 999, 1039, 1077, 1112, 1158, 1201, 1244, 1290, 1333, 1377, 1416, 1458, 1498, 1541, 1582, 1624, 1669, 1711, 1750]\n",
      "peaks 43 [   7   37   74  115  162  206  273  314  353  406  436  472  518  554\n",
      "  596  638  681  720  759  804  844  882  929  968 1001 1048 1080 1110\n",
      " 1154 1203 1243 1290 1331 1373 1417 1456 1496 1539 1580 1636 1681 1717\n",
      " 1748]\n"
     ]
    },
    {
     "data": {
      "application/vnd.jupyter.widget-view+json": {
       "model_id": "62dbdd8a894a423e87cb575d243d94e1",
       "version_major": 2,
       "version_minor": 0
      },
      "text/plain": [
       "Canvas(toolbar=Toolbar(toolitems=[('Home', 'Reset original view', 'home', 'home'), ('Back', 'Back to previous …"
      ]
     },
     "metadata": {},
     "output_type": "display_data"
    },
    {
     "name": "stdout",
     "output_type": "stream",
     "text": [
      "0 0\n"
     ]
    },
    {
     "data": {
      "application/vnd.jupyter.widget-view+json": {
       "model_id": "ab03d366ce484256871e1eaefcbcd882",
       "version_major": 2,
       "version_minor": 0
      },
      "text/plain": [
       "Canvas(toolbar=Toolbar(toolitems=[('Home', 'Reset original view', 'home', 'home'), ('Back', 'Back to previous …"
      ]
     },
     "metadata": {},
     "output_type": "display_data"
    },
    {
     "name": "stdout",
     "output_type": "stream",
     "text": [
      "trueHSR_indices 43 [7, 61, 104, 148, 193, 237, 277, 317, 355, 394, 437, 474, 517, 557, 598, 641, 683, 721, 762, 802, 843, 883, 921, 959, 999, 1039, 1077, 1112, 1158, 1201, 1244, 1290, 1333, 1377, 1416, 1458, 1498, 1541, 1582, 1624, 1669, 1711, 1750]\n",
      "peaks 44 [   7   37   68  102  148  192  234  273  315  353  409  450  480  518\n",
      "  554  596  639  685  720  759  804  840  894  929  967 1001 1038 1073\n",
      " 1110 1155 1202 1243 1290 1331 1374 1418 1456 1496 1539 1580 1625 1681\n",
      " 1716 1749]\n"
     ]
    },
    {
     "data": {
      "application/vnd.jupyter.widget-view+json": {
       "model_id": "9e7b6710feb648cfaa2593d2904ffff4",
       "version_major": 2,
       "version_minor": 0
      },
      "text/plain": [
       "Canvas(toolbar=Toolbar(toolitems=[('Home', 'Reset original view', 'home', 'home'), ('Back', 'Back to previous …"
      ]
     },
     "metadata": {},
     "output_type": "display_data"
    },
    {
     "name": "stdout",
     "output_type": "stream",
     "text": [
      "GVS_322_W_T1\n",
      "[17, 96, 153, 205, 254, 302, 350, 402, 447, 493, 536, 577, 621, 665, 708, 746, 825, 865, 904, 942, 982, 1020, 1060, 1100, 1139, 1181, 1220, 1262, 1300, 1337, 1377, 1419, 1471, 1524, 1579, 1635, 1688]\n",
      "0 3\n"
     ]
    },
    {
     "data": {
      "application/vnd.jupyter.widget-view+json": {
       "model_id": "65805dc6869a4f8ea3ec9e6a8cfa4c7b",
       "version_major": 2,
       "version_minor": 0
      },
      "text/plain": [
       "Canvas(toolbar=Toolbar(toolitems=[('Home', 'Reset original view', 'home', 'home'), ('Back', 'Back to previous …"
      ]
     },
     "metadata": {},
     "output_type": "display_data"
    },
    {
     "name": "stdout",
     "output_type": "stream",
     "text": [
      "trueHSR_indices 37 [17, 94, 151, 203, 252, 300, 348, 400, 445, 491, 534, 575, 619, 663, 706, 744, 823, 863, 902, 940, 980, 1018, 1058, 1098, 1137, 1179, 1218, 1260, 1298, 1335, 1375, 1417, 1468, 1521, 1576, 1632, 1685]\n",
      "peaks 41 [  18   48   98  128  173  204  254  319  368  418  462  507  551  587\n",
      "  618  674  718  758  795  837  871  903  952  993 1032 1072 1111 1150\n",
      " 1180 1231 1272 1310 1347 1391 1434 1481 1526 1559 1589 1650 1707]\n"
     ]
    },
    {
     "data": {
      "application/vnd.jupyter.widget-view+json": {
       "model_id": "14711ee759f949ecbc91c35014cc1d78",
       "version_major": 2,
       "version_minor": 0
      },
      "text/plain": [
       "Canvas(toolbar=Toolbar(toolitems=[('Home', 'Reset original view', 'home', 'home'), ('Back', 'Back to previous …"
      ]
     },
     "metadata": {},
     "output_type": "display_data"
    },
    {
     "name": "stdout",
     "output_type": "stream",
     "text": [
      "0 3\n"
     ]
    },
    {
     "data": {
      "application/vnd.jupyter.widget-view+json": {
       "model_id": "adb8cf197a3a4cd9afa193cabc337d08",
       "version_major": 2,
       "version_minor": 0
      },
      "text/plain": [
       "Canvas(toolbar=Toolbar(toolitems=[('Home', 'Reset original view', 'home', 'home'), ('Back', 'Back to previous …"
      ]
     },
     "metadata": {},
     "output_type": "display_data"
    },
    {
     "name": "stdout",
     "output_type": "stream",
     "text": [
      "trueHSR_indices 37 [17, 94, 151, 203, 252, 300, 348, 400, 445, 491, 534, 575, 619, 663, 706, 744, 823, 863, 902, 940, 980, 1018, 1058, 1098, 1137, 1179, 1218, 1260, 1298, 1335, 1375, 1417, 1468, 1521, 1576, 1632, 1685]\n",
      "peaks 42 [   7   37   82  119  169  200  249  298  335  365  414  446  488  535\n",
      "  587  631  677  720  757  797  836  875  913  976 1015 1059 1095 1135\n",
      " 1175 1217 1256 1294 1336 1386 1423 1484 1517 1554 1588 1647 1683 1725]\n"
     ]
    },
    {
     "data": {
      "application/vnd.jupyter.widget-view+json": {
       "model_id": "6c8c921c8bea46b48f165736cf07e357",
       "version_major": 2,
       "version_minor": 0
      },
      "text/plain": [
       "Canvas(toolbar=Toolbar(toolitems=[('Home', 'Reset original view', 'home', 'home'), ('Back', 'Back to previous …"
      ]
     },
     "metadata": {},
     "output_type": "display_data"
    },
    {
     "name": "stdout",
     "output_type": "stream",
     "text": [
      "0 3\n"
     ]
    },
    {
     "data": {
      "application/vnd.jupyter.widget-view+json": {
       "model_id": "1c518d1ce02a4ebf90ab5e4b8abfb94d",
       "version_major": 2,
       "version_minor": 0
      },
      "text/plain": [
       "Canvas(toolbar=Toolbar(toolitems=[('Home', 'Reset original view', 'home', 'home'), ('Back', 'Back to previous …"
      ]
     },
     "metadata": {},
     "output_type": "display_data"
    },
    {
     "name": "stdout",
     "output_type": "stream",
     "text": [
      "trueHSR_indices 37 [17, 94, 151, 203, 252, 300, 348, 400, 445, 491, 534, 575, 619, 663, 706, 744, 823, 863, 902, 940, 980, 1018, 1058, 1098, 1137, 1179, 1218, 1260, 1298, 1335, 1375, 1417, 1468, 1521, 1576, 1632, 1685]\n",
      "peaks 41 [  15   54  105  162  223  254  298  348  381  414  461  498  535  583\n",
      "  630  661  718  757  795  835  875  912  949  993 1031 1071 1109 1150\n",
      " 1191 1229 1271 1307 1346 1390 1433 1476 1508 1538 1590 1649 1706]\n"
     ]
    },
    {
     "data": {
      "application/vnd.jupyter.widget-view+json": {
       "model_id": "8cfca2df32394206835fb84013b7c0c9",
       "version_major": 2,
       "version_minor": 0
      },
      "text/plain": [
       "Canvas(toolbar=Toolbar(toolitems=[('Home', 'Reset original view', 'home', 'home'), ('Back', 'Back to previous …"
      ]
     },
     "metadata": {},
     "output_type": "display_data"
    },
    {
     "name": "stdout",
     "output_type": "stream",
     "text": [
      "GVS_322_W_T2\n",
      "[54, 119, 172, 233, 274, 325, 371, 416, 458, 499, 541, 585, 627, 668, 711, 753, 798, 843, 887, 932, 977, 1022, 1069, 1117, 1161, 1208, 1255, 1302, 1349, 1398, 1444, 1491, 1538, 1584, 1629, 1678, 1723]\n",
      "0 2\n"
     ]
    },
    {
     "data": {
      "application/vnd.jupyter.widget-view+json": {
       "model_id": "50f0e5357042427398b26cfd4996a94b",
       "version_major": 2,
       "version_minor": 0
      },
      "text/plain": [
       "Canvas(toolbar=Toolbar(toolitems=[('Home', 'Reset original view', 'home', 'home'), ('Back', 'Back to previous …"
      ]
     },
     "metadata": {},
     "output_type": "display_data"
    },
    {
     "name": "stdout",
     "output_type": "stream",
     "text": [
      "trueHSR_indices 37 [54, 119, 172, 233, 274, 325, 371, 415, 457, 498, 540, 584, 626, 667, 710, 752, 797, 842, 886, 931, 976, 1021, 1068, 1116, 1160, 1207, 1254, 1301, 1348, 1397, 1443, 1490, 1537, 1583, 1628, 1676, 1721]\n",
      "peaks 41 [  25   81  128  190  224  258  294  342  388  429  466  499  556  598\n",
      "  640  673  710  752  813  854  887  947  991 1037 1070 1116 1161 1207\n",
      " 1271 1302 1334 1365 1395 1427 1458 1507 1550 1598 1642 1692 1724]\n"
     ]
    },
    {
     "data": {
      "application/vnd.jupyter.widget-view+json": {
       "model_id": "57a48d62bfa14e879141f6fccab2fa27",
       "version_major": 2,
       "version_minor": 0
      },
      "text/plain": [
       "Canvas(toolbar=Toolbar(toolitems=[('Home', 'Reset original view', 'home', 'home'), ('Back', 'Back to previous …"
      ]
     },
     "metadata": {},
     "output_type": "display_data"
    },
    {
     "name": "stdout",
     "output_type": "stream",
     "text": [
      "0 2\n"
     ]
    },
    {
     "data": {
      "application/vnd.jupyter.widget-view+json": {
       "model_id": "c7b56e68852a459595826bed9e46542c",
       "version_major": 2,
       "version_minor": 0
      },
      "text/plain": [
       "Canvas(toolbar=Toolbar(toolitems=[('Home', 'Reset original view', 'home', 'home'), ('Back', 'Back to previous …"
      ]
     },
     "metadata": {},
     "output_type": "display_data"
    },
    {
     "name": "stdout",
     "output_type": "stream",
     "text": [
      "trueHSR_indices 37 [54, 119, 172, 233, 274, 325, 371, 415, 457, 498, 540, 584, 626, 667, 710, 752, 797, 842, 886, 931, 976, 1021, 1068, 1116, 1160, 1207, 1254, 1301, 1348, 1397, 1443, 1490, 1537, 1583, 1628, 1676, 1721]\n",
      "peaks 43 [   8   73  134  170  209  242  292  322  356  388  427  470  502  538\n",
      "  584  638  682  723  764  812  855  900  942  972 1020 1053 1084 1129\n",
      " 1160 1222 1256 1299 1344 1391 1439 1487 1533 1579 1609 1642 1672 1717\n",
      " 1754]\n"
     ]
    },
    {
     "data": {
      "application/vnd.jupyter.widget-view+json": {
       "model_id": "408ae0290f96451cb33b9e934e060569",
       "version_major": 2,
       "version_minor": 0
      },
      "text/plain": [
       "Canvas(toolbar=Toolbar(toolitems=[('Home', 'Reset original view', 'home', 'home'), ('Back', 'Back to previous …"
      ]
     },
     "metadata": {},
     "output_type": "display_data"
    },
    {
     "name": "stdout",
     "output_type": "stream",
     "text": [
      "0 2\n"
     ]
    },
    {
     "data": {
      "application/vnd.jupyter.widget-view+json": {
       "model_id": "f301fee308e04a85a99a8bc0bc4d3fdf",
       "version_major": 2,
       "version_minor": 0
      },
      "text/plain": [
       "Canvas(toolbar=Toolbar(toolitems=[('Home', 'Reset original view', 'home', 'home'), ('Back', 'Back to previous …"
      ]
     },
     "metadata": {},
     "output_type": "display_data"
    },
    {
     "name": "stdout",
     "output_type": "stream",
     "text": [
      "trueHSR_indices 37 [54, 119, 172, 233, 274, 325, 371, 415, 457, 498, 540, 584, 626, 667, 710, 752, 797, 842, 886, 931, 976, 1021, 1068, 1116, 1160, 1207, 1254, 1301, 1348, 1397, 1443, 1490, 1537, 1583, 1628, 1676, 1721]\n",
      "peaks 44 [   8   76  127  171  209  243  273  308  339  385  415  456  498  540\n",
      "  596  638  674  724  764  811  852  885  931  987 1021 1074 1115 1174\n",
      " 1207 1239 1269 1302 1363 1394 1428 1458 1489 1520 1550 1598 1640 1683\n",
      " 1723 1754]\n"
     ]
    },
    {
     "data": {
      "application/vnd.jupyter.widget-view+json": {
       "model_id": "bd6b68f32d3e406eabd1d5ad0c5de01d",
       "version_major": 2,
       "version_minor": 0
      },
      "text/plain": [
       "Canvas(toolbar=Toolbar(toolitems=[('Home', 'Reset original view', 'home', 'home'), ('Back', 'Back to previous …"
      ]
     },
     "metadata": {},
     "output_type": "display_data"
    },
    {
     "name": "stdout",
     "output_type": "stream",
     "text": [
      "GVS_323_W_T1\n",
      "[4, 48, 89, 127, 160, 192, 222, 252, 281, 311, 340, 369, 398, 426, 455, 483, 511, 539, 568, 596, 623, 653, 681, 709, 739, 766, 796, 825, 854, 883, 912, 941, 969, 1000, 1028, 1057, 1087, 1114, 1172, 1202, 1230, 1258, 1288, 1316, 1345, 1373, 1403, 1432, 1460, 1490, 1518, 1548, 1577, 1605, 1634, 1663, 1693, 1721, 1751, 1780]\n",
      "0 87\n"
     ]
    },
    {
     "data": {
      "application/vnd.jupyter.widget-view+json": {
       "model_id": "62411001c5ae4cd0a0e7ef0cfe6c60b3",
       "version_major": 2,
       "version_minor": 0
      },
      "text/plain": [
       "Canvas(toolbar=Toolbar(toolitems=[('Home', 'Reset original view', 'home', 'home'), ('Back', 'Back to previous …"
      ]
     },
     "metadata": {},
     "output_type": "display_data"
    },
    {
     "name": "stdout",
     "output_type": "stream",
     "text": [
      "trueHSR_indices 56 [4, 48, 89, 127, 160, 192, 220, 248, 277, 307, 336, 364, 391, 416, 445, 473, 501, 529, 557, 584, 609, 637, 660, 684, 735, 764, 792, 820, 849, 877, 906, 932, 962, 984, 1009, 1037, 1063, 1116, 1167, 1192, 1222, 1248, 1296, 1326, 1355, 1382, 1411, 1438, 1465, 1494, 1519, 1548, 1577, 1607, 1634, 1664]\n",
      "peaks 40 [  31   61  103  156  197  228  279  337  395  427  459  498  530  565\n",
      "  637  669  713  746  793  830  878  933  963  995 1037 1072 1118 1149\n",
      " 1203 1235 1272 1326 1365 1411 1465 1501 1534 1578 1635 1667]\n"
     ]
    },
    {
     "data": {
      "application/vnd.jupyter.widget-view+json": {
       "model_id": "f49d98f9a4da4509bfc579f015072baa",
       "version_major": 2,
       "version_minor": 0
      },
      "text/plain": [
       "Canvas(toolbar=Toolbar(toolitems=[('Home', 'Reset original view', 'home', 'home'), ('Back', 'Back to previous …"
      ]
     },
     "metadata": {},
     "output_type": "display_data"
    },
    {
     "name": "stdout",
     "output_type": "stream",
     "text": [
      "0 87\n"
     ]
    },
    {
     "data": {
      "application/vnd.jupyter.widget-view+json": {
       "model_id": "a46fb17e4a55441c960c705282788e5e",
       "version_major": 2,
       "version_minor": 0
      },
      "text/plain": [
       "Canvas(toolbar=Toolbar(toolitems=[('Home', 'Reset original view', 'home', 'home'), ('Back', 'Back to previous …"
      ]
     },
     "metadata": {},
     "output_type": "display_data"
    },
    {
     "name": "stdout",
     "output_type": "stream",
     "text": [
      "trueHSR_indices 56 [4, 48, 89, 127, 160, 192, 220, 248, 277, 307, 336, 364, 391, 416, 445, 473, 501, 529, 557, 584, 609, 637, 660, 684, 735, 764, 792, 820, 849, 877, 906, 932, 962, 984, 1009, 1037, 1063, 1116, 1167, 1192, 1222, 1248, 1296, 1326, 1355, 1382, 1411, 1438, 1465, 1494, 1519, 1548, 1577, 1607, 1634, 1664]\n",
      "peaks 41 [  15   50   89  123  160  193  229  278  337  398  447  483  517  555\n",
      "  585  635  686  716  762  820  876  907  943  983 1035 1089 1119 1149\n",
      " 1192 1223 1253 1297 1334 1381 1411 1466 1518 1548 1585 1634 1668]\n"
     ]
    },
    {
     "data": {
      "application/vnd.jupyter.widget-view+json": {
       "model_id": "a892203e76694091aba0c8cc2d377b3f",
       "version_major": 2,
       "version_minor": 0
      },
      "text/plain": [
       "Canvas(toolbar=Toolbar(toolitems=[('Home', 'Reset original view', 'home', 'home'), ('Back', 'Back to previous …"
      ]
     },
     "metadata": {},
     "output_type": "display_data"
    },
    {
     "name": "stdout",
     "output_type": "stream",
     "text": [
      "0 87\n"
     ]
    },
    {
     "data": {
      "application/vnd.jupyter.widget-view+json": {
       "model_id": "2a88978273bc4bad8fca3b84eb775903",
       "version_major": 2,
       "version_minor": 0
      },
      "text/plain": [
       "Canvas(toolbar=Toolbar(toolitems=[('Home', 'Reset original view', 'home', 'home'), ('Back', 'Back to previous …"
      ]
     },
     "metadata": {},
     "output_type": "display_data"
    },
    {
     "name": "stdout",
     "output_type": "stream",
     "text": [
      "trueHSR_indices 56 [4, 48, 89, 127, 160, 192, 220, 248, 277, 307, 336, 364, 391, 416, 445, 473, 501, 529, 557, 584, 609, 637, 660, 684, 735, 764, 792, 820, 849, 877, 906, 932, 962, 984, 1009, 1037, 1063, 1116, 1167, 1192, 1222, 1248, 1296, 1326, 1355, 1382, 1411, 1438, 1465, 1494, 1519, 1548, 1577, 1607, 1634, 1664]\n",
      "peaks 37 [  34   64   94  137  196  228  276  314  370  424  459  501  565  608\n",
      "  644  714  764  799  830  882  936  968 1017 1066 1118 1174 1222 1255\n",
      " 1306 1356 1391 1429 1465 1501 1555 1606 1642]\n"
     ]
    },
    {
     "data": {
      "application/vnd.jupyter.widget-view+json": {
       "model_id": "7203c248869c4759807aec8f86f42da4",
       "version_major": 2,
       "version_minor": 0
      },
      "text/plain": [
       "Canvas(toolbar=Toolbar(toolitems=[('Home', 'Reset original view', 'home', 'home'), ('Back', 'Back to previous …"
      ]
     },
     "metadata": {},
     "output_type": "display_data"
    },
    {
     "name": "stdout",
     "output_type": "stream",
     "text": [
      "GVS_323_W_T2\n",
      "[15, 64, 107, 139, 170, 201, 232, 265, 298, 331, 363, 395, 424, 456, 489, 519, 550, 581, 610, 640, 670, 701, 732, 761, 792, 822, 853, 884, 913, 946, 975, 1006, 1039, 1069, 1102, 1133, 1165, 1198, 1229, 1260, 1292, 1324, 1356, 1387, 1418, 1449, 1480, 1509, 1540, 1569, 1599, 1629, 1659, 1689, 1718, 1749, 1779]\n",
      "0 20\n"
     ]
    },
    {
     "data": {
      "application/vnd.jupyter.widget-view+json": {
       "model_id": "db8ce702dfca464d80378bc58cbd1902",
       "version_major": 2,
       "version_minor": 0
      },
      "text/plain": [
       "Canvas(toolbar=Toolbar(toolitems=[('Home', 'Reset original view', 'home', 'home'), ('Back', 'Back to previous …"
      ]
     },
     "metadata": {},
     "output_type": "display_data"
    },
    {
     "name": "stdout",
     "output_type": "stream",
     "text": [
      "trueHSR_indices 57 [13, 58, 101, 133, 164, 195, 226, 259, 288, 321, 352, 382, 411, 443, 476, 506, 537, 568, 597, 627, 657, 688, 719, 748, 779, 809, 840, 871, 895, 928, 957, 988, 1021, 1051, 1084, 1115, 1147, 1180, 1211, 1242, 1274, 1306, 1338, 1369, 1400, 1431, 1462, 1491, 1522, 1551, 1581, 1609, 1639, 1669, 1698, 1729, 1759]\n",
      "peaks 47 [  28   60  102  145  201  261  292  333  385  415  446  477  508  538\n",
      "  569  599  630  690  750  790  841  873  928  959  990 1022 1053 1086\n",
      " 1118 1149 1181 1212 1243 1276 1307 1341 1372 1402 1434 1464 1524 1559\n",
      " 1607 1641 1672 1731 1761]\n"
     ]
    },
    {
     "data": {
      "application/vnd.jupyter.widget-view+json": {
       "model_id": "7c18eb3dd0db4eccb4c7d4f0c70a6c30",
       "version_major": 2,
       "version_minor": 0
      },
      "text/plain": [
       "Canvas(toolbar=Toolbar(toolitems=[('Home', 'Reset original view', 'home', 'home'), ('Back', 'Back to previous …"
      ]
     },
     "metadata": {},
     "output_type": "display_data"
    },
    {
     "name": "stdout",
     "output_type": "stream",
     "text": [
      "0 20\n"
     ]
    },
    {
     "data": {
      "application/vnd.jupyter.widget-view+json": {
       "model_id": "c4ca426822374f29a502fb390c4a1e39",
       "version_major": 2,
       "version_minor": 0
      },
      "text/plain": [
       "Canvas(toolbar=Toolbar(toolitems=[('Home', 'Reset original view', 'home', 'home'), ('Back', 'Back to previous …"
      ]
     },
     "metadata": {},
     "output_type": "display_data"
    },
    {
     "name": "stdout",
     "output_type": "stream",
     "text": [
      "trueHSR_indices 57 [13, 58, 101, 133, 164, 195, 226, 259, 288, 321, 352, 382, 411, 443, 476, 506, 537, 568, 597, 627, 657, 688, 719, 748, 779, 809, 840, 871, 895, 928, 957, 988, 1021, 1051, 1084, 1115, 1147, 1180, 1211, 1242, 1274, 1306, 1338, 1369, 1400, 1431, 1462, 1491, 1522, 1551, 1581, 1609, 1639, 1669, 1698, 1729, 1759]\n",
      "peaks 43 [  23   57   99  134  196  226  259  322  382  414  453  486  536  569\n",
      "  626  659  690  748  781  838  871  927  958  988 1020 1054 1087 1147\n",
      " 1179 1211 1245 1284 1338 1381 1435 1471 1502 1552 1583 1642 1672 1730\n",
      " 1761]\n"
     ]
    },
    {
     "data": {
      "application/vnd.jupyter.widget-view+json": {
       "model_id": "21aa3d704853489ebc989b28e13d9740",
       "version_major": 2,
       "version_minor": 0
      },
      "text/plain": [
       "Canvas(toolbar=Toolbar(toolitems=[('Home', 'Reset original view', 'home', 'home'), ('Back', 'Back to previous …"
      ]
     },
     "metadata": {},
     "output_type": "display_data"
    },
    {
     "name": "stdout",
     "output_type": "stream",
     "text": [
      "0 20\n"
     ]
    },
    {
     "data": {
      "application/vnd.jupyter.widget-view+json": {
       "model_id": "0e0e50de3ba8471dbb6d5ada384d76a7",
       "version_major": 2,
       "version_minor": 0
      },
      "text/plain": [
       "Canvas(toolbar=Toolbar(toolitems=[('Home', 'Reset original view', 'home', 'home'), ('Back', 'Back to previous …"
      ]
     },
     "metadata": {},
     "output_type": "display_data"
    },
    {
     "name": "stdout",
     "output_type": "stream",
     "text": [
      "trueHSR_indices 57 [13, 58, 101, 133, 164, 195, 226, 259, 288, 321, 352, 382, 411, 443, 476, 506, 537, 568, 597, 627, 657, 688, 719, 748, 779, 809, 840, 871, 895, 928, 957, 988, 1021, 1051, 1084, 1115, 1147, 1180, 1211, 1242, 1274, 1306, 1338, 1369, 1400, 1431, 1462, 1491, 1522, 1551, 1581, 1609, 1639, 1669, 1698, 1729, 1759]\n",
      "peaks 43 [  43   74  113  162  201  238  295  356  389  424  481  515  569  603\n",
      "  633  694  724  757  813  850  898  933  990 1026 1061 1124 1154 1186\n",
      " 1217 1249 1281 1314 1344 1377 1411 1469 1527 1561 1609 1649 1680 1710\n",
      " 1768]\n"
     ]
    },
    {
     "data": {
      "application/vnd.jupyter.widget-view+json": {
       "model_id": "ca9d6a4add93484aa324ce3dc68cfc11",
       "version_major": 2,
       "version_minor": 0
      },
      "text/plain": [
       "Canvas(toolbar=Toolbar(toolitems=[('Home', 'Reset original view', 'home', 'home'), ('Back', 'Back to previous …"
      ]
     },
     "metadata": {},
     "output_type": "display_data"
    },
    {
     "name": "stdout",
     "output_type": "stream",
     "text": [
      "GVS_403_T_T1\n",
      "[13, 53, 91, 130, 169, 206, 243, 284, 319, 361, 399, 441, 473, 513, 554, 588, 628, 669, 706, 739, 776]\n",
      "0 7\n"
     ]
    },
    {
     "data": {
      "application/vnd.jupyter.widget-view+json": {
       "model_id": "7fada1820a0e47039e617cfefcdc87eb",
       "version_major": 2,
       "version_minor": 0
      },
      "text/plain": [
       "Canvas(toolbar=Toolbar(toolitems=[('Home', 'Reset original view', 'home', 'home'), ('Back', 'Back to previous …"
      ]
     },
     "metadata": {},
     "output_type": "display_data"
    },
    {
     "name": "stdout",
     "output_type": "stream",
     "text": [
      "trueHSR_indices 21 [13, 53, 91, 130, 169, 206, 243, 284, 319, 361, 398, 440, 472, 511, 551, 585, 624, 664, 700, 733, 769]\n",
      "peaks 19 [ 22  68 102 137 181 222 255 299 337 374 433 483 517 559 595 636 672 713\n",
      " 759]\n"
     ]
    },
    {
     "data": {
      "application/vnd.jupyter.widget-view+json": {
       "model_id": "3dabf8f9878a4e42a82ae0f546a7be4b",
       "version_major": 2,
       "version_minor": 0
      },
      "text/plain": [
       "Canvas(toolbar=Toolbar(toolitems=[('Home', 'Reset original view', 'home', 'home'), ('Back', 'Back to previous …"
      ]
     },
     "metadata": {},
     "output_type": "display_data"
    },
    {
     "name": "stdout",
     "output_type": "stream",
     "text": [
      "0 7\n"
     ]
    },
    {
     "data": {
      "application/vnd.jupyter.widget-view+json": {
       "model_id": "0986ca55fbde429681913d932e462f06",
       "version_major": 2,
       "version_minor": 0
      },
      "text/plain": [
       "Canvas(toolbar=Toolbar(toolitems=[('Home', 'Reset original view', 'home', 'home'), ('Back', 'Back to previous …"
      ]
     },
     "metadata": {},
     "output_type": "display_data"
    },
    {
     "name": "stdout",
     "output_type": "stream",
     "text": [
      "trueHSR_indices 21 [13, 53, 91, 130, 169, 206, 243, 284, 319, 361, 398, 440, 472, 511, 551, 585, 624, 664, 700, 733, 769]\n",
      "peaks 21 [  9  57  89 133 171 211 248 283 319 367 409 442 474 505 550 585 624 664\n",
      " 698 733 766]\n"
     ]
    },
    {
     "data": {
      "application/vnd.jupyter.widget-view+json": {
       "model_id": "5fbe7903397445af85af2cc20df9667f",
       "version_major": 2,
       "version_minor": 0
      },
      "text/plain": [
       "Canvas(toolbar=Toolbar(toolitems=[('Home', 'Reset original view', 'home', 'home'), ('Back', 'Back to previous …"
      ]
     },
     "metadata": {},
     "output_type": "display_data"
    },
    {
     "name": "stdout",
     "output_type": "stream",
     "text": [
      "0 7\n"
     ]
    },
    {
     "data": {
      "application/vnd.jupyter.widget-view+json": {
       "model_id": "6fb04fa1800540c49ccdabae6fb66a5c",
       "version_major": 2,
       "version_minor": 0
      },
      "text/plain": [
       "Canvas(toolbar=Toolbar(toolitems=[('Home', 'Reset original view', 'home', 'home'), ('Back', 'Back to previous …"
      ]
     },
     "metadata": {},
     "output_type": "display_data"
    },
    {
     "name": "stdout",
     "output_type": "stream",
     "text": [
      "trueHSR_indices 21 [13, 53, 91, 130, 169, 206, 243, 284, 319, 361, 398, 440, 472, 511, 551, 585, 624, 664, 700, 733, 769]\n",
      "peaks 20 [ 28  58 102 140 182 219 255 296 332 371 407 446 481 515 556 595 636 666\n",
      " 704 742]\n"
     ]
    },
    {
     "data": {
      "application/vnd.jupyter.widget-view+json": {
       "model_id": "9b225e077949468c9d81eeaa6fe68334",
       "version_major": 2,
       "version_minor": 0
      },
      "text/plain": [
       "Canvas(toolbar=Toolbar(toolitems=[('Home', 'Reset original view', 'home', 'home'), ('Back', 'Back to previous …"
      ]
     },
     "metadata": {},
     "output_type": "display_data"
    },
    {
     "name": "stdout",
     "output_type": "stream",
     "text": [
      "GVS_403_T_T2\n",
      "[6, 71, 157, 222, 278, 326, 368, 409, 455, 497, 539, 577, 618, 659, 689, 739, 781, 820, 866, 909, 948, 985, 1030, 1069, 1115, 1158, 1203, 1244, 1286, 1330, 1371, 1415, 1461, 1501, 1549, 1590, 1633, 1672, 1720, 1764]\n",
      "0 11\n"
     ]
    },
    {
     "data": {
      "application/vnd.jupyter.widget-view+json": {
       "model_id": "cbf77987d2e14308bb9808651fbcccfe",
       "version_major": 2,
       "version_minor": 0
      },
      "text/plain": [
       "Canvas(toolbar=Toolbar(toolitems=[('Home', 'Reset original view', 'home', 'home'), ('Back', 'Back to previous …"
      ]
     },
     "metadata": {},
     "output_type": "display_data"
    },
    {
     "name": "stdout",
     "output_type": "stream",
     "text": [
      "trueHSR_indices 39 [5, 70, 155, 220, 276, 324, 366, 407, 452, 493, 535, 573, 614, 655, 685, 735, 776, 814, 860, 903, 941, 978, 1022, 1061, 1107, 1150, 1195, 1236, 1278, 1322, 1363, 1407, 1453, 1492, 1540, 1580, 1623, 1662, 1709]\n",
      "peaks 41 [  27   66   97  152  189  222  271  331  367  399  453  496  532  564\n",
      "  607  647  680  727  770  817  872  904  942  981 1020 1082 1117 1159\n",
      " 1195 1254 1286 1331 1374 1421 1456 1503 1546 1579 1619 1679 1721]\n"
     ]
    },
    {
     "data": {
      "application/vnd.jupyter.widget-view+json": {
       "model_id": "2ef9f0da6bec4cf7b4a82fb9737d288b",
       "version_major": 2,
       "version_minor": 0
      },
      "text/plain": [
       "Canvas(toolbar=Toolbar(toolitems=[('Home', 'Reset original view', 'home', 'home'), ('Back', 'Back to previous …"
      ]
     },
     "metadata": {},
     "output_type": "display_data"
    },
    {
     "name": "stdout",
     "output_type": "stream",
     "text": [
      "0 11\n"
     ]
    },
    {
     "data": {
      "application/vnd.jupyter.widget-view+json": {
       "model_id": "8e53bedf772c4e42ae77cb5223122b8a",
       "version_major": 2,
       "version_minor": 0
      },
      "text/plain": [
       "Canvas(toolbar=Toolbar(toolitems=[('Home', 'Reset original view', 'home', 'home'), ('Back', 'Back to previous …"
      ]
     },
     "metadata": {},
     "output_type": "display_data"
    },
    {
     "name": "stdout",
     "output_type": "stream",
     "text": [
      "trueHSR_indices 39 [5, 70, 155, 220, 276, 324, 366, 407, 452, 493, 535, 573, 614, 655, 685, 735, 776, 814, 860, 903, 941, 978, 1022, 1061, 1107, 1150, 1195, 1236, 1278, 1322, 1363, 1407, 1453, 1492, 1540, 1580, 1623, 1662, 1709]\n",
      "peaks 41 [  22   74  111  151  213  244  278  321  359  401  443  486  543  582\n",
      "  623  663  699  744  784  825  862  904  942  973 1021 1067 1109 1151\n",
      " 1194 1241 1282 1320 1377 1416 1451 1493 1549 1589 1634 1676 1708]\n"
     ]
    },
    {
     "data": {
      "application/vnd.jupyter.widget-view+json": {
       "model_id": "9b3d9273e92a463bba4c577f4e63b388",
       "version_major": 2,
       "version_minor": 0
      },
      "text/plain": [
       "Canvas(toolbar=Toolbar(toolitems=[('Home', 'Reset original view', 'home', 'home'), ('Back', 'Back to previous …"
      ]
     },
     "metadata": {},
     "output_type": "display_data"
    },
    {
     "name": "stdout",
     "output_type": "stream",
     "text": [
      "0 11\n"
     ]
    },
    {
     "data": {
      "application/vnd.jupyter.widget-view+json": {
       "model_id": "601a1f6791d745379d51946d854f82ec",
       "version_major": 2,
       "version_minor": 0
      },
      "text/plain": [
       "Canvas(toolbar=Toolbar(toolitems=[('Home', 'Reset original view', 'home', 'home'), ('Back', 'Back to previous …"
      ]
     },
     "metadata": {},
     "output_type": "display_data"
    },
    {
     "name": "stdout",
     "output_type": "stream",
     "text": [
      "trueHSR_indices 39 [5, 70, 155, 220, 276, 324, 366, 407, 452, 493, 535, 573, 614, 655, 685, 735, 776, 814, 860, 903, 941, 978, 1022, 1061, 1107, 1150, 1195, 1236, 1278, 1322, 1363, 1407, 1453, 1492, 1540, 1580, 1623, 1662, 1709]\n",
      "peaks 40 [  26   69  130  164  216  269  315  369  413  446  481  531  564  608\n",
      "  651  688  742  776  817  859  904  942  983 1027 1066 1107 1147 1197\n",
      " 1234 1284 1331 1375 1421 1451 1507 1543 1575 1619 1679 1723]\n"
     ]
    },
    {
     "data": {
      "application/vnd.jupyter.widget-view+json": {
       "model_id": "76be18cbf53a484982781e4a0663ff42",
       "version_major": 2,
       "version_minor": 0
      },
      "text/plain": [
       "Canvas(toolbar=Toolbar(toolitems=[('Home', 'Reset original view', 'home', 'home'), ('Back', 'Back to previous …"
      ]
     },
     "metadata": {},
     "output_type": "display_data"
    },
    {
     "name": "stdout",
     "output_type": "stream",
     "text": [
      "GVS_406_T_T1\n",
      "[15, 77, 142, 455, 500, 545, 594, 642, 691, 742, 793, 845, 900, 949, 1006, 1062, 1119, 1180, 1233, 1289, 1343, 1403, 1463, 1521, 1577, 1635, 1691, 1741, 1794]\n",
      "0 41\n"
     ]
    },
    {
     "data": {
      "application/vnd.jupyter.widget-view+json": {
       "model_id": "217b55209079439690184be8ef77b1da",
       "version_major": 2,
       "version_minor": 0
      },
      "text/plain": [
       "Canvas(toolbar=Toolbar(toolitems=[('Home', 'Reset original view', 'home', 'home'), ('Back', 'Back to previous …"
      ]
     },
     "metadata": {},
     "output_type": "display_data"
    },
    {
     "name": "stdout",
     "output_type": "stream",
     "text": [
      "trueHSR_indices 28 [14, 73, 135, 435, 480, 524, 573, 621, 669, 720, 771, 822, 873, 922, 979, 1035, 1092, 1147, 1198, 1254, 1308, 1368, 1427, 1485, 1540, 1597, 1650, 1700]\n",
      "peaks 40 [  13   63  105  137  191  251  296  337  388  430  473  507  555  591\n",
      "  641  697  743  790  843  885  929  969 1005 1047 1083 1115 1146 1193\n",
      " 1256 1305 1346 1390 1421 1451 1490 1547 1588 1632 1663 1696]\n"
     ]
    },
    {
     "data": {
      "application/vnd.jupyter.widget-view+json": {
       "model_id": "19b77c6d87744447aadc550cd30e6a5f",
       "version_major": 2,
       "version_minor": 0
      },
      "text/plain": [
       "Canvas(toolbar=Toolbar(toolitems=[('Home', 'Reset original view', 'home', 'home'), ('Back', 'Back to previous …"
      ]
     },
     "metadata": {},
     "output_type": "display_data"
    },
    {
     "name": "stdout",
     "output_type": "stream",
     "text": [
      "0 41\n"
     ]
    },
    {
     "data": {
      "application/vnd.jupyter.widget-view+json": {
       "model_id": "976518435d5540998e8090f86adb2c4f",
       "version_major": 2,
       "version_minor": 0
      },
      "text/plain": [
       "Canvas(toolbar=Toolbar(toolitems=[('Home', 'Reset original view', 'home', 'home'), ('Back', 'Back to previous …"
      ]
     },
     "metadata": {},
     "output_type": "display_data"
    },
    {
     "name": "stdout",
     "output_type": "stream",
     "text": [
      "trueHSR_indices 28 [14, 73, 135, 435, 480, 524, 573, 621, 669, 720, 771, 822, 873, 922, 979, 1035, 1092, 1147, 1198, 1254, 1308, 1368, 1427, 1485, 1540, 1597, 1650, 1700]\n",
      "peaks 39 [  17   62   92  142  174  210  258  309  353  395  442  489  529  581\n",
      "  629  663  696  727  774  819  880  935  980 1013 1045 1101 1160 1210\n",
      " 1267 1320 1378 1419 1460 1497 1532 1568 1608 1658 1699]\n"
     ]
    },
    {
     "data": {
      "application/vnd.jupyter.widget-view+json": {
       "model_id": "0deae93ab16c4946a52e4573b8a61573",
       "version_major": 2,
       "version_minor": 0
      },
      "text/plain": [
       "Canvas(toolbar=Toolbar(toolitems=[('Home', 'Reset original view', 'home', 'home'), ('Back', 'Back to previous …"
      ]
     },
     "metadata": {},
     "output_type": "display_data"
    },
    {
     "name": "stdout",
     "output_type": "stream",
     "text": [
      "0 41\n"
     ]
    },
    {
     "data": {
      "application/vnd.jupyter.widget-view+json": {
       "model_id": "d729586c3108406aab6f4c76ae356c86",
       "version_major": 2,
       "version_minor": 0
      },
      "text/plain": [
       "Canvas(toolbar=Toolbar(toolitems=[('Home', 'Reset original view', 'home', 'home'), ('Back', 'Back to previous …"
      ]
     },
     "metadata": {},
     "output_type": "display_data"
    },
    {
     "name": "stdout",
     "output_type": "stream",
     "text": [
      "trueHSR_indices 28 [14, 73, 135, 435, 480, 524, 573, 621, 669, 720, 771, 822, 873, 922, 979, 1035, 1092, 1147, 1198, 1254, 1308, 1368, 1427, 1485, 1540, 1597, 1650, 1700]\n",
      "peaks 36 [  16   63   98  137  178  214  250  295  340  389  428  476  526  573\n",
      "  615  650  711  775  826  886  930  987 1034 1082 1137 1193 1256 1305\n",
      " 1361 1428 1459 1490 1546 1589 1644 1696]\n"
     ]
    },
    {
     "data": {
      "application/vnd.jupyter.widget-view+json": {
       "model_id": "90834558b3c449b2b8660ca7fc822fd0",
       "version_major": 2,
       "version_minor": 0
      },
      "text/plain": [
       "Canvas(toolbar=Toolbar(toolitems=[('Home', 'Reset original view', 'home', 'home'), ('Back', 'Back to previous …"
      ]
     },
     "metadata": {},
     "output_type": "display_data"
    },
    {
     "name": "stdout",
     "output_type": "stream",
     "text": [
      "GVS_406_T_T2\n",
      "[49, 272, 312, 353, 392, 430, 469, 514, 555, 596, 639, 678, 718, 760, 803, 845, 883, 925, 966, 1009, 1054, 1094, 1138, 1183, 1226, 1270, 1309, 1352, 1394, 1437, 1482, 1524, 1565, 1607, 1647, 1691, 1733, 1774, 1825, 1870, 1915]\n",
      "0 375\n"
     ]
    },
    {
     "data": {
      "application/vnd.jupyter.widget-view+json": {
       "model_id": "ac32199b763744ca83d8d27c82c737bb",
       "version_major": 2,
       "version_minor": 0
      },
      "text/plain": [
       "Canvas(toolbar=Toolbar(toolitems=[('Home', 'Reset original view', 'home', 'home'), ('Back', 'Back to previous …"
      ]
     },
     "metadata": {},
     "output_type": "display_data"
    },
    {
     "name": "stdout",
     "output_type": "stream",
     "text": [
      "trueHSR_indices 34 [35, 240, 280, 320, 359, 397, 434, 473, 519, 554, 590, 629, 654, 680, 709, 715, 730, 756, 797, 837, 913, 950, 991, 1016, 1036, 1059, 1097, 1132, 1173, 1208, 1244, 1282, 1324, 1362]\n",
      "peaks 33 [  16   46   82  132  165  224  279  310  365  417  454  507  540  586\n",
      "  622  673  726  756  787  823  872  908  968 1006 1036 1067 1112 1166\n",
      " 1217 1261 1303 1343 1377]\n"
     ]
    },
    {
     "data": {
      "application/vnd.jupyter.widget-view+json": {
       "model_id": "3dcf18763923492fbcaabcb4469d642e",
       "version_major": 2,
       "version_minor": 0
      },
      "text/plain": [
       "Canvas(toolbar=Toolbar(toolitems=[('Home', 'Reset original view', 'home', 'home'), ('Back', 'Back to previous …"
      ]
     },
     "metadata": {},
     "output_type": "display_data"
    },
    {
     "name": "stdout",
     "output_type": "stream",
     "text": [
      "0 375\n"
     ]
    },
    {
     "data": {
      "application/vnd.jupyter.widget-view+json": {
       "model_id": "54f2b41edc34473880178364cecc6736",
       "version_major": 2,
       "version_minor": 0
      },
      "text/plain": [
       "Canvas(toolbar=Toolbar(toolitems=[('Home', 'Reset original view', 'home', 'home'), ('Back', 'Back to previous …"
      ]
     },
     "metadata": {},
     "output_type": "display_data"
    },
    {
     "name": "stdout",
     "output_type": "stream",
     "text": [
      "trueHSR_indices 34 [35, 240, 280, 320, 359, 397, 434, 473, 519, 554, 590, 629, 654, 680, 709, 715, 730, 756, 797, 837, 913, 950, 991, 1016, 1036, 1059, 1097, 1132, 1173, 1208, 1244, 1282, 1324, 1362]\n",
      "peaks 32 [  29   79  110  143  202  238  279  330  366  408  446  483  529  593\n",
      "  660  720  773  806  849  881  913  957 1000 1042 1077 1110 1171 1210\n",
      " 1254 1292 1336 1368]\n"
     ]
    },
    {
     "data": {
      "application/vnd.jupyter.widget-view+json": {
       "model_id": "654ec9c325f6418d89b8be49c84bf84b",
       "version_major": 2,
       "version_minor": 0
      },
      "text/plain": [
       "Canvas(toolbar=Toolbar(toolitems=[('Home', 'Reset original view', 'home', 'home'), ('Back', 'Back to previous …"
      ]
     },
     "metadata": {},
     "output_type": "display_data"
    },
    {
     "name": "stdout",
     "output_type": "stream",
     "text": [
      "0 375\n"
     ]
    },
    {
     "data": {
      "application/vnd.jupyter.widget-view+json": {
       "model_id": "82569f240576496f85ec3cedcb77499e",
       "version_major": 2,
       "version_minor": 0
      },
      "text/plain": [
       "Canvas(toolbar=Toolbar(toolitems=[('Home', 'Reset original view', 'home', 'home'), ('Back', 'Back to previous …"
      ]
     },
     "metadata": {},
     "output_type": "display_data"
    },
    {
     "name": "stdout",
     "output_type": "stream",
     "text": [
      "trueHSR_indices 34 [35, 240, 280, 320, 359, 397, 434, 473, 519, 554, 590, 629, 654, 680, 709, 715, 730, 756, 797, 837, 913, 950, 991, 1016, 1036, 1059, 1097, 1132, 1173, 1208, 1244, 1282, 1324, 1362]\n",
      "peaks 32 [  21   54   85  129  165  215  266  328  365  402  432  475  517  550\n",
      "  585  623  662  722  781  832  871  907  948  983 1014 1079 1126 1168\n",
      " 1201 1240 1306 1364]\n"
     ]
    },
    {
     "data": {
      "application/vnd.jupyter.widget-view+json": {
       "model_id": "0567b0348a7a46fb9899328e1d750217",
       "version_major": 2,
       "version_minor": 0
      },
      "text/plain": [
       "Canvas(toolbar=Toolbar(toolitems=[('Home', 'Reset original view', 'home', 'home'), ('Back', 'Back to previous …"
      ]
     },
     "metadata": {},
     "output_type": "display_data"
    },
    {
     "name": "stdout",
     "output_type": "stream",
     "text": [
      "GVS_407_T_T1\n",
      "[69, 150, 227, 301, 371, 437, 488, 534, 587, 635, 682, 732, 781, 830, 876, 926, 971, 1019, 1065, 1113, 1158, 1201, 1247, 1294, 1342, 1391, 1440, 1489, 1537, 1583, 1632, 1680, 1733, 1784]\n",
      "0 68\n"
     ]
    },
    {
     "data": {
      "application/vnd.jupyter.widget-view+json": {
       "model_id": "215ce96bf4ec44479455dfbdbf875741",
       "version_major": 2,
       "version_minor": 0
      },
      "text/plain": [
       "Canvas(toolbar=Toolbar(toolitems=[('Home', 'Reset original view', 'home', 'home'), ('Back', 'Back to previous …"
      ]
     },
     "metadata": {},
     "output_type": "display_data"
    },
    {
     "name": "stdout",
     "output_type": "stream",
     "text": [
      "trueHSR_indices 30 [62, 137, 214, 286, 350, 416, 467, 513, 566, 614, 661, 711, 760, 807, 850, 900, 945, 992, 1022, 1111, 1195, 1241, 1288, 1337, 1385, 1434, 1481, 1523, 1568, 1614]\n",
      "peaks 39 [  21   64  100  136  169  206  246  293  336  379  414  455  487  521\n",
      "  577  623  671  721  757  788  818  863  908  957  991 1033 1079 1119\n",
      " 1156 1203 1251 1296 1346 1395 1440 1477 1516 1574 1620]\n"
     ]
    },
    {
     "data": {
      "application/vnd.jupyter.widget-view+json": {
       "model_id": "eec9a742d10f402a8294f2c72f9c60f7",
       "version_major": 2,
       "version_minor": 0
      },
      "text/plain": [
       "Canvas(toolbar=Toolbar(toolitems=[('Home', 'Reset original view', 'home', 'home'), ('Back', 'Back to previous …"
      ]
     },
     "metadata": {},
     "output_type": "display_data"
    },
    {
     "name": "stdout",
     "output_type": "stream",
     "text": [
      "0 68\n"
     ]
    },
    {
     "data": {
      "application/vnd.jupyter.widget-view+json": {
       "model_id": "c6108c42253f45519eb9c187a728e154",
       "version_major": 2,
       "version_minor": 0
      },
      "text/plain": [
       "Canvas(toolbar=Toolbar(toolitems=[('Home', 'Reset original view', 'home', 'home'), ('Back', 'Back to previous …"
      ]
     },
     "metadata": {},
     "output_type": "display_data"
    },
    {
     "name": "stdout",
     "output_type": "stream",
     "text": [
      "trueHSR_indices 30 [62, 137, 214, 286, 350, 416, 467, 513, 566, 614, 661, 711, 760, 807, 850, 900, 945, 992, 1022, 1111, 1195, 1241, 1288, 1337, 1385, 1434, 1481, 1523, 1568, 1614]\n",
      "peaks 37 [  21   61   96  141  173  208  242  295  354  395  428  473  531  575\n",
      "  611  667  711  760  806  847  896  940  986 1031 1067 1108 1157 1193\n",
      " 1251 1287 1333 1388 1430 1480 1521 1567 1608]\n"
     ]
    },
    {
     "data": {
      "application/vnd.jupyter.widget-view+json": {
       "model_id": "250397ba13244d0ba0db32ba1bec24d1",
       "version_major": 2,
       "version_minor": 0
      },
      "text/plain": [
       "Canvas(toolbar=Toolbar(toolitems=[('Home', 'Reset original view', 'home', 'home'), ('Back', 'Back to previous …"
      ]
     },
     "metadata": {},
     "output_type": "display_data"
    },
    {
     "name": "stdout",
     "output_type": "stream",
     "text": [
      "0 68\n"
     ]
    },
    {
     "data": {
      "application/vnd.jupyter.widget-view+json": {
       "model_id": "b862675ca45b47a69a093d962d3c3b7a",
       "version_major": 2,
       "version_minor": 0
      },
      "text/plain": [
       "Canvas(toolbar=Toolbar(toolitems=[('Home', 'Reset original view', 'home', 'home'), ('Back', 'Back to previous …"
      ]
     },
     "metadata": {},
     "output_type": "display_data"
    },
    {
     "name": "stdout",
     "output_type": "stream",
     "text": [
      "trueHSR_indices 30 [62, 137, 214, 286, 350, 416, 467, 513, 566, 614, 661, 711, 760, 807, 850, 900, 945, 992, 1022, 1111, 1195, 1241, 1288, 1337, 1385, 1434, 1481, 1523, 1568, 1614]\n",
      "peaks 39 [  21   62   96  131  162  197  233  263  296  337  369  414  473  530\n",
      "  577  620  656  690  723  757  806  849  903  944  992 1038 1082 1118\n",
      " 1161 1197 1235 1281 1346 1398 1440 1486 1537 1577 1619]\n"
     ]
    },
    {
     "data": {
      "application/vnd.jupyter.widget-view+json": {
       "model_id": "e24165dea54c418d858b38c858bc21f2",
       "version_major": 2,
       "version_minor": 0
      },
      "text/plain": [
       "Canvas(toolbar=Toolbar(toolitems=[('Home', 'Reset original view', 'home', 'home'), ('Back', 'Back to previous …"
      ]
     },
     "metadata": {},
     "output_type": "display_data"
    },
    {
     "name": "stdout",
     "output_type": "stream",
     "text": [
      "GVS_407_T_T2\n",
      "[90, 178, 256, 328, 401, 474, 542, 615, 686, 749, 805, 857, 908, 959, 1015, 1072, 1128, 1199, 1288, 1392, 1481, 1557, 1623, 1679]\n",
      "0 122\n"
     ]
    },
    {
     "data": {
      "application/vnd.jupyter.widget-view+json": {
       "model_id": "f3c6dcd130a74a2082559100017daa70",
       "version_major": 2,
       "version_minor": 0
      },
      "text/plain": [
       "Canvas(toolbar=Toolbar(toolitems=[('Home', 'Reset original view', 'home', 'home'), ('Back', 'Back to previous …"
      ]
     },
     "metadata": {},
     "output_type": "display_data"
    },
    {
     "name": "stdout",
     "output_type": "stream",
     "text": [
      "trueHSR_indices 23 [87, 168, 245, 313, 384, 446, 502, 567, 626, 678, 733, 782, 830, 877, 981, 1035, 1103, 1191, 1293, 1374, 1446, 1507, 1557]\n",
      "peaks 38 [  12   44   74  107  155  186  227  264  310  369  410  461  526  587\n",
      "  620  653  693  748  798  833  891  940  993 1027 1069 1100 1134 1192\n",
      " 1226 1256 1298 1328 1362 1393 1435 1474 1513 1555]\n"
     ]
    },
    {
     "data": {
      "application/vnd.jupyter.widget-view+json": {
       "model_id": "e142bfc82f654d6fbdd90628e5a277f5",
       "version_major": 2,
       "version_minor": 0
      },
      "text/plain": [
       "Canvas(toolbar=Toolbar(toolitems=[('Home', 'Reset original view', 'home', 'home'), ('Back', 'Back to previous …"
      ]
     },
     "metadata": {},
     "output_type": "display_data"
    },
    {
     "name": "stdout",
     "output_type": "stream",
     "text": [
      "0 122\n"
     ]
    },
    {
     "data": {
      "application/vnd.jupyter.widget-view+json": {
       "model_id": "9b61cec33ed94c118bdb07d4beb243c9",
       "version_major": 2,
       "version_minor": 0
      },
      "text/plain": [
       "Canvas(toolbar=Toolbar(toolitems=[('Home', 'Reset original view', 'home', 'home'), ('Back', 'Back to previous …"
      ]
     },
     "metadata": {},
     "output_type": "display_data"
    },
    {
     "name": "stdout",
     "output_type": "stream",
     "text": [
      "trueHSR_indices 23 [87, 168, 245, 313, 384, 446, 502, 567, 626, 678, 733, 782, 830, 877, 981, 1035, 1103, 1191, 1293, 1374, 1446, 1507, 1557]\n",
      "peaks 38 [  11   47  103  154  185  238  274  310  340  379  441  474  530  562\n",
      "  593  623  699  733  770  800  845  877  931  980 1020 1055 1101 1136\n",
      " 1191 1233 1265 1300 1333 1390 1435 1473 1509 1557]\n"
     ]
    },
    {
     "data": {
      "application/vnd.jupyter.widget-view+json": {
       "model_id": "0aaf53cea40c47e8b61e7a57ea357b4e",
       "version_major": 2,
       "version_minor": 0
      },
      "text/plain": [
       "Canvas(toolbar=Toolbar(toolitems=[('Home', 'Reset original view', 'home', 'home'), ('Back', 'Back to previous …"
      ]
     },
     "metadata": {},
     "output_type": "display_data"
    },
    {
     "name": "stdout",
     "output_type": "stream",
     "text": [
      "0 122\n"
     ]
    },
    {
     "data": {
      "application/vnd.jupyter.widget-view+json": {
       "model_id": "b0deabbdbedf43408d817b3413ca6e02",
       "version_major": 2,
       "version_minor": 0
      },
      "text/plain": [
       "Canvas(toolbar=Toolbar(toolitems=[('Home', 'Reset original view', 'home', 'home'), ('Back', 'Back to previous …"
      ]
     },
     "metadata": {},
     "output_type": "display_data"
    },
    {
     "name": "stdout",
     "output_type": "stream",
     "text": [
      "trueHSR_indices 23 [87, 168, 245, 313, 384, 446, 502, 567, 626, 678, 733, 782, 830, 877, 981, 1035, 1103, 1191, 1293, 1374, 1446, 1507, 1557]\n",
      "peaks 39 [  11   45   86  121  154  187  241  274  310  351  383  422  460  503\n",
      "  536  584  620  650  699  736  783  833  891  941  984 1020 1055 1103\n",
      " 1133 1190 1220 1254 1293 1325 1361 1393 1454 1500 1534]\n"
     ]
    },
    {
     "data": {
      "application/vnd.jupyter.widget-view+json": {
       "model_id": "c80c71c8be94422dbf282be5a7d3ed20",
       "version_major": 2,
       "version_minor": 0
      },
      "text/plain": [
       "Canvas(toolbar=Toolbar(toolitems=[('Home', 'Reset original view', 'home', 'home'), ('Back', 'Back to previous …"
      ]
     },
     "metadata": {},
     "output_type": "display_data"
    },
    {
     "name": "stdout",
     "output_type": "stream",
     "text": [
      "GVS_408_T_T1\n",
      "[7, 76, 141, 210, 273, 327, 370, 407, 446, 484, 519, 552, 588, 621, 660, 703, 746, 786, 826, 865, 904, 943, 983, 1025, 1063, 1103, 1143, 1183, 1221, 1260, 1299, 1339, 1379, 1417, 1459, 1498]\n",
      "0 2\n"
     ]
    },
    {
     "data": {
      "application/vnd.jupyter.widget-view+json": {
       "model_id": "d9395272ea204c7285d2075f44f4b8a1",
       "version_major": 2,
       "version_minor": 0
      },
      "text/plain": [
       "Canvas(toolbar=Toolbar(toolitems=[('Home', 'Reset original view', 'home', 'home'), ('Back', 'Back to previous …"
      ]
     },
     "metadata": {},
     "output_type": "display_data"
    },
    {
     "name": "stdout",
     "output_type": "stream",
     "text": [
      "trueHSR_indices 33 [7, 76, 141, 210, 273, 326, 369, 406, 445, 483, 518, 551, 587, 620, 659, 702, 745, 785, 825, 864, 903, 942, 982, 1023, 1061, 1101, 1141, 1181, 1219, 1258, 1297, 1337, 1377]\n",
      "peaks 35 [  19   57  102  153  190  226  278  309  344  383  423  460  519  552\n",
      "  588  638  670  713  762  804  834  883  923  961  993 1040 1072 1117\n",
      " 1159 1191 1229 1263 1307 1353 1387]\n"
     ]
    },
    {
     "data": {
      "application/vnd.jupyter.widget-view+json": {
       "model_id": "fe510511c6c9421ba2dc610e4b4189f3",
       "version_major": 2,
       "version_minor": 0
      },
      "text/plain": [
       "Canvas(toolbar=Toolbar(toolitems=[('Home', 'Reset original view', 'home', 'home'), ('Back', 'Back to previous …"
      ]
     },
     "metadata": {},
     "output_type": "display_data"
    },
    {
     "name": "stdout",
     "output_type": "stream",
     "text": [
      "0 2\n"
     ]
    },
    {
     "data": {
      "application/vnd.jupyter.widget-view+json": {
       "model_id": "b5eb2b0d9a5244b1b9463dec0f1f524d",
       "version_major": 2,
       "version_minor": 0
      },
      "text/plain": [
       "Canvas(toolbar=Toolbar(toolitems=[('Home', 'Reset original view', 'home', 'home'), ('Back', 'Back to previous …"
      ]
     },
     "metadata": {},
     "output_type": "display_data"
    },
    {
     "name": "stdout",
     "output_type": "stream",
     "text": [
      "trueHSR_indices 33 [7, 76, 141, 210, 273, 326, 369, 406, 445, 483, 518, 551, 587, 620, 659, 702, 745, 785, 825, 864, 903, 942, 982, 1023, 1061, 1101, 1141, 1181, 1219, 1258, 1297, 1337, 1377]\n",
      "peaks 34 [  35   75  111  144  211  242  273  327  380  414  446  497  531  590\n",
      "  636  675  719  761  803  842  880  920  952  991 1025 1076 1117 1154\n",
      " 1186 1220 1261 1299 1352 1393]\n"
     ]
    },
    {
     "data": {
      "application/vnd.jupyter.widget-view+json": {
       "model_id": "7a7d199fa44b44cfa75515a717942408",
       "version_major": 2,
       "version_minor": 0
      },
      "text/plain": [
       "Canvas(toolbar=Toolbar(toolitems=[('Home', 'Reset original view', 'home', 'home'), ('Back', 'Back to previous …"
      ]
     },
     "metadata": {},
     "output_type": "display_data"
    },
    {
     "name": "stdout",
     "output_type": "stream",
     "text": [
      "0 2\n"
     ]
    },
    {
     "data": {
      "application/vnd.jupyter.widget-view+json": {
       "model_id": "c86be156d01646bc899e1b46e9c857e6",
       "version_major": 2,
       "version_minor": 0
      },
      "text/plain": [
       "Canvas(toolbar=Toolbar(toolitems=[('Home', 'Reset original view', 'home', 'home'), ('Back', 'Back to previous …"
      ]
     },
     "metadata": {},
     "output_type": "display_data"
    },
    {
     "name": "stdout",
     "output_type": "stream",
     "text": [
      "trueHSR_indices 33 [7, 76, 141, 210, 273, 326, 369, 406, 445, 483, 518, 551, 587, 620, 659, 702, 745, 785, 825, 864, 903, 942, 982, 1023, 1061, 1101, 1141, 1181, 1219, 1258, 1297, 1337, 1377]\n",
      "peaks 35 [  10   79  112  144  205  242  280  326  369  406  446  483  521  553\n",
      "  588  629  676  718  752  797  836  866  915  954  993 1023 1063 1102\n",
      " 1142 1181 1230 1261 1303 1345 1390]\n"
     ]
    },
    {
     "data": {
      "application/vnd.jupyter.widget-view+json": {
       "model_id": "41426dfcd51f424d8fb13e2ef7dc49ca",
       "version_major": 2,
       "version_minor": 0
      },
      "text/plain": [
       "Canvas(toolbar=Toolbar(toolitems=[('Home', 'Reset original view', 'home', 'home'), ('Back', 'Back to previous …"
      ]
     },
     "metadata": {},
     "output_type": "display_data"
    },
    {
     "name": "stdout",
     "output_type": "stream",
     "text": [
      "GVS_408_T_T2\n",
      "[12, 84, 152, 219, 290, 360, 433, 505, 577, 643, 701, 757, 807, 855, 901, 951, 998, 1048, 1097, 1146, 1191, 1233, 1274, 1311, 1348, 1381, 1417, 1452, 1487, 1520, 1555, 1588, 1623, 1658, 1688, 1723, 1757, 1791, 1824, 1859, 1896]\n",
      "0 8\n"
     ]
    },
    {
     "data": {
      "application/vnd.jupyter.widget-view+json": {
       "model_id": "1c90ef3714c646d5bb623daef3929a20",
       "version_major": 2,
       "version_minor": 0
      },
      "text/plain": [
       "Canvas(toolbar=Toolbar(toolitems=[('Home', 'Reset original view', 'home', 'home'), ('Back', 'Back to previous …"
      ]
     },
     "metadata": {},
     "output_type": "display_data"
    },
    {
     "name": "stdout",
     "output_type": "stream",
     "text": [
      "trueHSR_indices 37 [10, 81, 149, 216, 287, 357, 430, 502, 574, 640, 698, 754, 804, 852, 897, 947, 994, 1044, 1093, 1142, 1187, 1229, 1270, 1307, 1344, 1377, 1413, 1448, 1483, 1516, 1550, 1582, 1617, 1652, 1682, 1715, 1749]\n",
      "peaks 42 [  35   67  102  154  191  228  286  318  372  427  463  516  556  592\n",
      "  652  707  746  777  814  866  912  959 1003 1058 1118 1154 1198 1249\n",
      " 1283 1325 1384 1424 1455 1492 1525 1557 1590 1626 1663 1693 1725 1758]\n"
     ]
    },
    {
     "data": {
      "application/vnd.jupyter.widget-view+json": {
       "model_id": "052281cb711e4b958ef469d4953bb147",
       "version_major": 2,
       "version_minor": 0
      },
      "text/plain": [
       "Canvas(toolbar=Toolbar(toolitems=[('Home', 'Reset original view', 'home', 'home'), ('Back', 'Back to previous …"
      ]
     },
     "metadata": {},
     "output_type": "display_data"
    },
    {
     "name": "stdout",
     "output_type": "stream",
     "text": [
      "0 8\n"
     ]
    },
    {
     "data": {
      "application/vnd.jupyter.widget-view+json": {
       "model_id": "6a81b0fe0e114ed6973376f9925f1fb4",
       "version_major": 2,
       "version_minor": 0
      },
      "text/plain": [
       "Canvas(toolbar=Toolbar(toolitems=[('Home', 'Reset original view', 'home', 'home'), ('Back', 'Back to previous …"
      ]
     },
     "metadata": {},
     "output_type": "display_data"
    },
    {
     "name": "stdout",
     "output_type": "stream",
     "text": [
      "trueHSR_indices 37 [10, 81, 149, 216, 287, 357, 430, 502, 574, 640, 698, 754, 804, 852, 897, 947, 994, 1044, 1093, 1142, 1187, 1229, 1270, 1307, 1344, 1377, 1413, 1448, 1483, 1516, 1550, 1582, 1617, 1652, 1682, 1715, 1749]\n",
      "peaks 41 [  35   68  100  139  173  215  246  276  312  344  385  429  459  503\n",
      "  536  599  631  665  725  775  812  856  915  967 1007 1062 1096 1143\n",
      " 1204 1240 1273 1311 1349 1391 1452 1487 1535 1566 1629 1669 1731]\n"
     ]
    },
    {
     "data": {
      "application/vnd.jupyter.widget-view+json": {
       "model_id": "a5f07e19052940a88071f9ef32e3a95e",
       "version_major": 2,
       "version_minor": 0
      },
      "text/plain": [
       "Canvas(toolbar=Toolbar(toolitems=[('Home', 'Reset original view', 'home', 'home'), ('Back', 'Back to previous …"
      ]
     },
     "metadata": {},
     "output_type": "display_data"
    },
    {
     "name": "stdout",
     "output_type": "stream",
     "text": [
      "0 8\n"
     ]
    },
    {
     "data": {
      "application/vnd.jupyter.widget-view+json": {
       "model_id": "1b4bd480d8cd44798c09c6a13d6b4bb9",
       "version_major": 2,
       "version_minor": 0
      },
      "text/plain": [
       "Canvas(toolbar=Toolbar(toolitems=[('Home', 'Reset original view', 'home', 'home'), ('Back', 'Back to previous …"
      ]
     },
     "metadata": {},
     "output_type": "display_data"
    },
    {
     "name": "stdout",
     "output_type": "stream",
     "text": [
      "trueHSR_indices 37 [10, 81, 149, 216, 287, 357, 430, 502, 574, 640, 698, 754, 804, 852, 897, 947, 994, 1044, 1093, 1142, 1187, 1229, 1270, 1307, 1344, 1377, 1413, 1448, 1483, 1516, 1550, 1582, 1617, 1652, 1682, 1715, 1749]\n",
      "peaks 43 [  39  102  152  191  228  287  334  372  415  445  482  514  556  587\n",
      "  617  658  706  769  813  856  912  960  997 1045 1102 1144 1198 1237\n",
      " 1282 1312 1348 1382 1417 1454 1486 1520 1555 1590 1624 1662 1692 1726\n",
      " 1759]\n"
     ]
    },
    {
     "data": {
      "application/vnd.jupyter.widget-view+json": {
       "model_id": "4ddadffebc01495c9e5a5c7a8f119083",
       "version_major": 2,
       "version_minor": 0
      },
      "text/plain": [
       "Canvas(toolbar=Toolbar(toolitems=[('Home', 'Reset original view', 'home', 'home'), ('Back', 'Back to previous …"
      ]
     },
     "metadata": {},
     "output_type": "display_data"
    },
    {
     "name": "stdout",
     "output_type": "stream",
     "text": [
      "GVS_409_T_T1\n",
      "[Errno 2] No such file or directory: 'C:\\\\Users\\\\purpl\\\\Box\\\\Gait Video Project\\\\GaitVideoData\\\\video\\\\multi_view_merged_data\\\\\\\\PD\\\\beam_walking\\\\GVS_409_T_T1\\\\hip_height_normalized\\\\\\\\HSRframes.txt'\n",
      "GVS_409_T_T2\n",
      "[Errno 2] No such file or directory: 'C:\\\\Users\\\\purpl\\\\Box\\\\Gait Video Project\\\\GaitVideoData\\\\video\\\\multi_view_merged_data\\\\\\\\PD\\\\beam_walking\\\\GVS_409_T_T2\\\\hip_height_normalized\\\\\\\\HSRframes.txt'\n",
      "GVS_410_T_T1\n",
      "[7, 49, 90, 133, 173, 216, 259, 301, 343, 387, 431, 474, 520, 560, 602, 644, 686, 731, 771, 817, 863, 909, 956, 1002, 1048, 1095, 1140, 1187, 1234, 1282, 1328, 1374, 1421, 1470, 1519, 1566, 1613, 1661, 1708, 1755, 1804]\n",
      "0 6\n"
     ]
    },
    {
     "data": {
      "application/vnd.jupyter.widget-view+json": {
       "model_id": "5280de9d04604fe69ec1d318dc05998a",
       "version_major": 2,
       "version_minor": 0
      },
      "text/plain": [
       "Canvas(toolbar=Toolbar(toolitems=[('Home', 'Reset original view', 'home', 'home'), ('Back', 'Back to previous …"
      ]
     },
     "metadata": {},
     "output_type": "display_data"
    },
    {
     "name": "stdout",
     "output_type": "stream",
     "text": [
      "trueHSR_indices 39 [7, 49, 90, 133, 173, 216, 259, 301, 343, 387, 431, 474, 520, 560, 602, 644, 686, 731, 771, 817, 863, 909, 956, 1002, 1048, 1095, 1140, 1187, 1234, 1282, 1328, 1374, 1419, 1468, 1516, 1562, 1609, 1657, 1704]\n",
      "peaks 41 [  20   64  110  142  176  211  243  273  313  358  390  428  470  515\n",
      "  555  597  642  680  727  767  813  858  916  958  996 1044 1089 1133\n",
      " 1186 1230 1278 1323 1369 1415 1462 1511 1561 1606 1651 1698 1731]\n"
     ]
    },
    {
     "data": {
      "application/vnd.jupyter.widget-view+json": {
       "model_id": "dce24e3f91114c1ab8b078a0e6d7ee91",
       "version_major": 2,
       "version_minor": 0
      },
      "text/plain": [
       "Canvas(toolbar=Toolbar(toolitems=[('Home', 'Reset original view', 'home', 'home'), ('Back', 'Back to previous …"
      ]
     },
     "metadata": {},
     "output_type": "display_data"
    },
    {
     "name": "stdout",
     "output_type": "stream",
     "text": [
      "0 6\n"
     ]
    },
    {
     "data": {
      "application/vnd.jupyter.widget-view+json": {
       "model_id": "8d90698fe8a143b196d4774fa3059fa0",
       "version_major": 2,
       "version_minor": 0
      },
      "text/plain": [
       "Canvas(toolbar=Toolbar(toolitems=[('Home', 'Reset original view', 'home', 'home'), ('Back', 'Back to previous …"
      ]
     },
     "metadata": {},
     "output_type": "display_data"
    },
    {
     "name": "stdout",
     "output_type": "stream",
     "text": [
      "trueHSR_indices 39 [7, 49, 90, 133, 173, 216, 259, 301, 343, 387, 431, 474, 520, 560, 602, 644, 686, 731, 771, 817, 863, 909, 956, 1002, 1048, 1095, 1140, 1187, 1234, 1282, 1328, 1374, 1419, 1468, 1516, 1562, 1609, 1657, 1704]\n",
      "peaks 41 [   8   45   85  132  176  212  253  283  313  345  379  426  470  516\n",
      "  556  606  643  684  727  767  813  859  916  963 1001 1042 1090 1135\n",
      " 1186 1230 1294 1344 1380 1415 1463 1511 1560 1606 1652 1701 1736]\n"
     ]
    },
    {
     "data": {
      "application/vnd.jupyter.widget-view+json": {
       "model_id": "b6efdeca7626409794f89ca373f425e2",
       "version_major": 2,
       "version_minor": 0
      },
      "text/plain": [
       "Canvas(toolbar=Toolbar(toolitems=[('Home', 'Reset original view', 'home', 'home'), ('Back', 'Back to previous …"
      ]
     },
     "metadata": {},
     "output_type": "display_data"
    },
    {
     "name": "stdout",
     "output_type": "stream",
     "text": [
      "0 6\n"
     ]
    },
    {
     "data": {
      "application/vnd.jupyter.widget-view+json": {
       "model_id": "e1d7bcf5865342339834121a9240eded",
       "version_major": 2,
       "version_minor": 0
      },
      "text/plain": [
       "Canvas(toolbar=Toolbar(toolitems=[('Home', 'Reset original view', 'home', 'home'), ('Back', 'Back to previous …"
      ]
     },
     "metadata": {},
     "output_type": "display_data"
    },
    {
     "name": "stdout",
     "output_type": "stream",
     "text": [
      "trueHSR_indices 39 [7, 49, 90, 133, 173, 216, 259, 301, 343, 387, 431, 474, 520, 560, 602, 644, 686, 731, 771, 817, 863, 909, 956, 1002, 1048, 1095, 1140, 1187, 1234, 1282, 1328, 1374, 1419, 1468, 1516, 1562, 1609, 1657, 1704]\n",
      "peaks 42 [  10   47   85  132  176  212  255  313  345  379  428  485  516  556\n",
      "  606  643  685  725  767  813  859  916  963 1001 1042 1089 1138 1186\n",
      " 1230 1266 1298 1344 1380 1416 1451 1482 1513 1560 1606 1651 1703 1736]\n"
     ]
    },
    {
     "data": {
      "application/vnd.jupyter.widget-view+json": {
       "model_id": "ee1231b7541345f3839c9c4042a42dae",
       "version_major": 2,
       "version_minor": 0
      },
      "text/plain": [
       "Canvas(toolbar=Toolbar(toolitems=[('Home', 'Reset original view', 'home', 'home'), ('Back', 'Back to previous …"
      ]
     },
     "metadata": {},
     "output_type": "display_data"
    },
    {
     "name": "stdout",
     "output_type": "stream",
     "text": [
      "GVS_410_T_T2\n",
      "[7, 45, 85, 128, 166, 210, 254, 303, 350, 393, 435, 476, 515, 555, 596, 636, 677, 716, 758, 798, 838, 877, 916, 958, 999, 1039, 1080, 1121, 1161, 1200, 1239, 1279, 1318, 1357, 1395, 1437, 1476, 1517, 1559, 1599, 1638, 1678, 1719, 1760]\n",
      "0 10\n"
     ]
    },
    {
     "data": {
      "application/vnd.jupyter.widget-view+json": {
       "model_id": "993efecf30c644239fe99321a42f027e",
       "version_major": 2,
       "version_minor": 0
      },
      "text/plain": [
       "Canvas(toolbar=Toolbar(toolitems=[('Home', 'Reset original view', 'home', 'home'), ('Back', 'Back to previous …"
      ]
     },
     "metadata": {},
     "output_type": "display_data"
    },
    {
     "name": "stdout",
     "output_type": "stream",
     "text": [
      "trueHSR_indices 42 [7, 45, 85, 128, 166, 210, 254, 303, 349, 392, 434, 475, 514, 554, 595, 635, 676, 715, 755, 795, 835, 873, 912, 954, 995, 1074, 1115, 1155, 1192, 1231, 1271, 1310, 1349, 1387, 1429, 1468, 1509, 1551, 1591, 1629, 1668, 1709]\n",
      "peaks 43 [   9   57  104  144  178  217  267  315  360  403  451  484  518  557\n",
      "  599  640  682  718  765  800  838  877  918  954  991 1038 1079 1119\n",
      " 1160 1197 1237 1277 1329 1365 1396 1432 1476 1513 1555 1595 1630 1670\n",
      " 1709]\n"
     ]
    },
    {
     "data": {
      "application/vnd.jupyter.widget-view+json": {
       "model_id": "a18ba6dbdef74b9c9538f9e4c498f904",
       "version_major": 2,
       "version_minor": 0
      },
      "text/plain": [
       "Canvas(toolbar=Toolbar(toolitems=[('Home', 'Reset original view', 'home', 'home'), ('Back', 'Back to previous …"
      ]
     },
     "metadata": {},
     "output_type": "display_data"
    },
    {
     "name": "stdout",
     "output_type": "stream",
     "text": [
      "0 10\n"
     ]
    },
    {
     "data": {
      "application/vnd.jupyter.widget-view+json": {
       "model_id": "d0c8fc7599314a6f881bb8df285baf4e",
       "version_major": 2,
       "version_minor": 0
      },
      "text/plain": [
       "Canvas(toolbar=Toolbar(toolitems=[('Home', 'Reset original view', 'home', 'home'), ('Back', 'Back to previous …"
      ]
     },
     "metadata": {},
     "output_type": "display_data"
    },
    {
     "name": "stdout",
     "output_type": "stream",
     "text": [
      "trueHSR_indices 42 [7, 45, 85, 128, 166, 210, 254, 303, 349, 392, 434, 475, 514, 554, 595, 635, 676, 715, 755, 795, 835, 873, 912, 954, 995, 1074, 1115, 1155, 1192, 1231, 1271, 1310, 1349, 1387, 1429, 1468, 1509, 1551, 1591, 1629, 1668, 1709]\n",
      "peaks 43 [  29   60  103  143  180  216  258  319  351  397  435  465  517  553\n",
      "  597  638  678  718  755  798  839  877  918  959 1000 1037 1079 1119\n",
      " 1159 1197 1237 1276 1315 1353 1393 1433 1474 1513 1555 1593 1633 1671\n",
      " 1714]\n"
     ]
    },
    {
     "data": {
      "application/vnd.jupyter.widget-view+json": {
       "model_id": "2ae0ed814b6a4f5c8ab4a78343b6975b",
       "version_major": 2,
       "version_minor": 0
      },
      "text/plain": [
       "Canvas(toolbar=Toolbar(toolitems=[('Home', 'Reset original view', 'home', 'home'), ('Back', 'Back to previous …"
      ]
     },
     "metadata": {},
     "output_type": "display_data"
    },
    {
     "name": "stdout",
     "output_type": "stream",
     "text": [
      "0 10\n"
     ]
    },
    {
     "data": {
      "application/vnd.jupyter.widget-view+json": {
       "model_id": "3a688a80ca3245ac996741b10d9b75bf",
       "version_major": 2,
       "version_minor": 0
      },
      "text/plain": [
       "Canvas(toolbar=Toolbar(toolitems=[('Home', 'Reset original view', 'home', 'home'), ('Back', 'Back to previous …"
      ]
     },
     "metadata": {},
     "output_type": "display_data"
    },
    {
     "name": "stdout",
     "output_type": "stream",
     "text": [
      "trueHSR_indices 42 [7, 45, 85, 128, 166, 210, 254, 303, 349, 392, 434, 475, 514, 554, 595, 635, 676, 715, 755, 795, 835, 873, 912, 954, 995, 1074, 1115, 1155, 1192, 1231, 1271, 1310, 1349, 1387, 1429, 1468, 1509, 1551, 1591, 1629, 1668, 1709]\n",
      "peaks 43 [  29   60  103  144  180  215  258  319  351  398  435  465  519  553\n",
      "  597  638  676  717  755  799  839  877  913  956 1001 1037 1079 1119\n",
      " 1158 1197 1237 1276 1314 1355 1388 1431 1474 1512 1554 1592 1630 1671\n",
      " 1713]\n"
     ]
    },
    {
     "data": {
      "application/vnd.jupyter.widget-view+json": {
       "model_id": "003f5d530e7d4230934e42c121690417",
       "version_major": 2,
       "version_minor": 0
      },
      "text/plain": [
       "Canvas(toolbar=Toolbar(toolitems=[('Home', 'Reset original view', 'home', 'home'), ('Back', 'Back to previous …"
      ]
     },
     "metadata": {},
     "output_type": "display_data"
    },
    {
     "name": "stdout",
     "output_type": "stream",
     "text": [
      "GVS_403_W_T2\n",
      "[Errno 2] No such file or directory: 'C:\\\\Users\\\\purpl\\\\Box\\\\Gait Video Project\\\\GaitVideoData\\\\video\\\\multi_view_merged_data\\\\\\\\PD\\\\walking\\\\GVS_403_W_T2\\\\hip_height_normalized\\\\\\\\HSRframes.txt'\n",
      "GVS_404_W_T1\n",
      "[13, 46, 75, 104, 133, 161, 197, 217, 247, 274, 301, 327, 351, 375, 400, 427, 452, 479, 494, 519, 542, 564, 585, 602, 646, 665, 758, 782, 885, 903, 922, 959, 985, 1007, 1053, 1079, 1101, 1122, 1170, 1197, 1215, 1267, 1288, 1316, 1355, 1358, 1386, 1409, 1437, 1469, 1503]\n",
      "0 2\n"
     ]
    },
    {
     "data": {
      "application/vnd.jupyter.widget-view+json": {
       "model_id": "119ebb76f85a40daab6ec6ab146ea802",
       "version_major": 2,
       "version_minor": 0
      },
      "text/plain": [
       "Canvas(toolbar=Toolbar(toolitems=[('Home', 'Reset original view', 'home', 'home'), ('Back', 'Back to previous …"
      ]
     },
     "metadata": {},
     "output_type": "display_data"
    },
    {
     "name": "stdout",
     "output_type": "stream",
     "text": [
      "trueHSR_indices 51 [13, 46, 75, 104, 133, 161, 197, 217, 247, 274, 301, 327, 351, 375, 400, 427, 452, 479, 494, 519, 542, 564, 585, 602, 646, 665, 756, 780, 883, 901, 920, 957, 983, 1005, 1051, 1077, 1099, 1120, 1168, 1195, 1213, 1265, 1286, 1314, 1353, 1356, 1384, 1407, 1435, 1467, 1501]\n",
      "peaks 38 [   5   45   76  109  144  189  253  283  332  383  414  454  504  536\n",
      "  568  606  637  671  716  757  791  831  875  926  962  996 1051 1105\n",
      " 1158 1203 1266 1301 1336 1373 1411 1441 1473 1507]\n"
     ]
    },
    {
     "data": {
      "application/vnd.jupyter.widget-view+json": {
       "model_id": "51c07ac862954be7a66616dd77c6678e",
       "version_major": 2,
       "version_minor": 0
      },
      "text/plain": [
       "Canvas(toolbar=Toolbar(toolitems=[('Home', 'Reset original view', 'home', 'home'), ('Back', 'Back to previous …"
      ]
     },
     "metadata": {},
     "output_type": "display_data"
    },
    {
     "name": "stdout",
     "output_type": "stream",
     "text": [
      "0 2\n"
     ]
    },
    {
     "data": {
      "application/vnd.jupyter.widget-view+json": {
       "model_id": "4ac02452ee634669859bd0da3a989e34",
       "version_major": 2,
       "version_minor": 0
      },
      "text/plain": [
       "Canvas(toolbar=Toolbar(toolitems=[('Home', 'Reset original view', 'home', 'home'), ('Back', 'Back to previous …"
      ]
     },
     "metadata": {},
     "output_type": "display_data"
    },
    {
     "name": "stdout",
     "output_type": "stream",
     "text": [
      "trueHSR_indices 51 [13, 46, 75, 104, 133, 161, 197, 217, 247, 274, 301, 327, 351, 375, 400, 427, 452, 479, 494, 519, 542, 564, 585, 602, 646, 665, 756, 780, 883, 901, 920, 957, 983, 1005, 1051, 1077, 1099, 1120, 1168, 1195, 1213, 1265, 1286, 1314, 1353, 1356, 1384, 1407, 1435, 1467, 1501]\n",
      "peaks 36 [   6   48   78  120  161  194  226  262  299  333  383  414  454  508\n",
      "  555  611  665  703  757  790  838  886  926  961 1003 1051 1082 1112\n",
      " 1159 1204 1265 1322 1360 1411 1441 1486]\n"
     ]
    },
    {
     "data": {
      "application/vnd.jupyter.widget-view+json": {
       "model_id": "db58e3cc08424694bda6c215b76da830",
       "version_major": 2,
       "version_minor": 0
      },
      "text/plain": [
       "Canvas(toolbar=Toolbar(toolitems=[('Home', 'Reset original view', 'home', 'home'), ('Back', 'Back to previous …"
      ]
     },
     "metadata": {},
     "output_type": "display_data"
    },
    {
     "name": "stdout",
     "output_type": "stream",
     "text": [
      "0 2\n"
     ]
    },
    {
     "data": {
      "application/vnd.jupyter.widget-view+json": {
       "model_id": "bd1e98ce5229409fa009839d3ff649af",
       "version_major": 2,
       "version_minor": 0
      },
      "text/plain": [
       "Canvas(toolbar=Toolbar(toolitems=[('Home', 'Reset original view', 'home', 'home'), ('Back', 'Back to previous …"
      ]
     },
     "metadata": {},
     "output_type": "display_data"
    },
    {
     "name": "stdout",
     "output_type": "stream",
     "text": [
      "trueHSR_indices 51 [13, 46, 75, 104, 133, 161, 197, 217, 247, 274, 301, 327, 351, 375, 400, 427, 452, 479, 494, 519, 542, 564, 585, 602, 646, 665, 756, 780, 883, 901, 920, 957, 983, 1005, 1051, 1077, 1099, 1120, 1168, 1195, 1213, 1265, 1286, 1314, 1353, 1356, 1384, 1407, 1435, 1467, 1501]\n",
      "peaks 37 [   6   51   84  120  161  194  226  262  299  333  383  421  454  508\n",
      "  538  573  611  671  703  740  789  830  871  926  963 1010 1066 1112\n",
      " 1158 1204 1265 1300 1334 1382 1425 1456 1486]\n"
     ]
    },
    {
     "data": {
      "application/vnd.jupyter.widget-view+json": {
       "model_id": "73d1c92675a74902ad05047d3fd506b6",
       "version_major": 2,
       "version_minor": 0
      },
      "text/plain": [
       "Canvas(toolbar=Toolbar(toolitems=[('Home', 'Reset original view', 'home', 'home'), ('Back', 'Back to previous …"
      ]
     },
     "metadata": {},
     "output_type": "display_data"
    },
    {
     "name": "stdout",
     "output_type": "stream",
     "text": [
      "GVS_404_W_T2\n",
      "[17, 50, 80, 107, 136, 164, 192, 218, 245, 269, 296, 320, 345, 369, 396, 420, 442, 464, 485, 505, 524, 545, 559, 574, 596, 617, 645, 672, 699, 728, 754, 782, 807, 836, 860, 887, 911, 936, 960, 982, 1006, 1029, 1050, 1073, 1100, 1124, 1162, 1172, 1191, 1213, 1247, 1278, 1302, 1329, 1357, 1387, 1415, 1441, 1468, 1497, 1522, 1552, 1579, 1602, 1623, 1648, 1672, 1697, 1718, 1742, 1764, 1787, 1811, 1835, 1857, 1879]\n",
      "0 4\n"
     ]
    },
    {
     "data": {
      "application/vnd.jupyter.widget-view+json": {
       "model_id": "33b9c34886a748f486bceab75d3ecfdc",
       "version_major": 2,
       "version_minor": 0
      },
      "text/plain": [
       "Canvas(toolbar=Toolbar(toolitems=[('Home', 'Reset original view', 'home', 'home'), ('Back', 'Back to previous …"
      ]
     },
     "metadata": {},
     "output_type": "display_data"
    },
    {
     "name": "stdout",
     "output_type": "stream",
     "text": [
      "trueHSR_indices 67 [17, 50, 80, 107, 134, 162, 190, 215, 242, 266, 293, 317, 342, 366, 393, 417, 438, 460, 481, 501, 520, 541, 555, 570, 592, 613, 641, 668, 695, 724, 750, 778, 803, 832, 856, 883, 907, 932, 956, 978, 1002, 1025, 1046, 1069, 1096, 1120, 1158, 1168, 1187, 1209, 1243, 1274, 1298, 1325, 1353, 1383, 1411, 1437, 1464, 1493, 1518, 1548, 1575, 1598, 1619, 1644, 1668]\n",
      "peaks 42 [  16   58  111  142  179  228  261  295  326  374  406  455  491  529\n",
      "  575  622  669  700  734  780  814  870  900  934  985 1032 1072 1107\n",
      " 1140 1173 1230 1284 1326 1361 1395 1440 1485 1525 1560 1590 1623 1676]\n"
     ]
    },
    {
     "data": {
      "application/vnd.jupyter.widget-view+json": {
       "model_id": "9db49d8509c745a680c43bfeedfe14e5",
       "version_major": 2,
       "version_minor": 0
      },
      "text/plain": [
       "Canvas(toolbar=Toolbar(toolitems=[('Home', 'Reset original view', 'home', 'home'), ('Back', 'Back to previous …"
      ]
     },
     "metadata": {},
     "output_type": "display_data"
    },
    {
     "name": "stdout",
     "output_type": "stream",
     "text": [
      "0 4\n"
     ]
    },
    {
     "data": {
      "application/vnd.jupyter.widget-view+json": {
       "model_id": "f9398168fdf446789a94f0df9464e374",
       "version_major": 2,
       "version_minor": 0
      },
      "text/plain": [
       "Canvas(toolbar=Toolbar(toolitems=[('Home', 'Reset original view', 'home', 'home'), ('Back', 'Back to previous …"
      ]
     },
     "metadata": {},
     "output_type": "display_data"
    },
    {
     "name": "stdout",
     "output_type": "stream",
     "text": [
      "trueHSR_indices 67 [17, 50, 80, 107, 134, 162, 190, 215, 242, 266, 293, 317, 342, 366, 393, 417, 438, 460, 481, 501, 520, 541, 555, 570, 592, 613, 641, 668, 695, 724, 750, 778, 803, 832, 856, 883, 907, 932, 956, 978, 1002, 1025, 1046, 1069, 1096, 1120, 1158, 1168, 1187, 1209, 1243, 1274, 1298, 1325, 1353, 1383, 1411, 1437, 1464, 1493, 1518, 1548, 1575, 1598, 1619, 1644, 1668]\n",
      "peaks 42 [  28   77  111  171  223  269  301  349  388  424  461  494  530  573\n",
      "  622  669  701  733  780  815  848  888  920  960  995 1033 1072 1112\n",
      " 1144 1191 1230 1282 1323 1361 1397 1441 1471 1524 1560 1592 1623 1678]\n"
     ]
    },
    {
     "data": {
      "application/vnd.jupyter.widget-view+json": {
       "model_id": "72bcea8126af4002b95912a62aaf0c8f",
       "version_major": 2,
       "version_minor": 0
      },
      "text/plain": [
       "Canvas(toolbar=Toolbar(toolitems=[('Home', 'Reset original view', 'home', 'home'), ('Back', 'Back to previous …"
      ]
     },
     "metadata": {},
     "output_type": "display_data"
    },
    {
     "name": "stdout",
     "output_type": "stream",
     "text": [
      "0 4\n"
     ]
    },
    {
     "data": {
      "application/vnd.jupyter.widget-view+json": {
       "model_id": "85f48450c0e54505bb5722e6f9e00e96",
       "version_major": 2,
       "version_minor": 0
      },
      "text/plain": [
       "Canvas(toolbar=Toolbar(toolitems=[('Home', 'Reset original view', 'home', 'home'), ('Back', 'Back to previous …"
      ]
     },
     "metadata": {},
     "output_type": "display_data"
    },
    {
     "name": "stdout",
     "output_type": "stream",
     "text": [
      "trueHSR_indices 67 [17, 50, 80, 107, 134, 162, 190, 215, 242, 266, 293, 317, 342, 366, 393, 417, 438, 460, 481, 501, 520, 541, 555, 570, 592, 613, 641, 668, 695, 724, 750, 778, 803, 832, 856, 883, 907, 932, 956, 978, 1002, 1025, 1046, 1069, 1096, 1120, 1158, 1168, 1187, 1209, 1243, 1274, 1298, 1325, 1353, 1383, 1411, 1437, 1464, 1493, 1518, 1548, 1575, 1598, 1619, 1644, 1668]\n",
      "peaks 41 [  28   77  112  171  223  269  301  350  388  427  490  532  573  621\n",
      "  669  701  733  780  815  846  888  920  960  995 1032 1077 1107 1142\n",
      " 1191 1230 1282 1323 1361 1397 1441 1487 1524 1560 1592 1623 1679]\n"
     ]
    },
    {
     "data": {
      "application/vnd.jupyter.widget-view+json": {
       "model_id": "b04f08c61fd648cbbebb9d796f8ff8f3",
       "version_major": 2,
       "version_minor": 0
      },
      "text/plain": [
       "Canvas(toolbar=Toolbar(toolitems=[('Home', 'Reset original view', 'home', 'home'), ('Back', 'Back to previous …"
      ]
     },
     "metadata": {},
     "output_type": "display_data"
    },
    {
     "name": "stdout",
     "output_type": "stream",
     "text": [
      "GVS_404_W_T3\n",
      "[Errno 2] No such file or directory: 'C:\\\\Users\\\\purpl\\\\Box\\\\Gait Video Project\\\\GaitVideoData\\\\video\\\\multi_view_merged_data\\\\\\\\PD\\\\walking\\\\GVS_404_W_T3\\\\hip_height_normalized\\\\\\\\HSRframes.txt'\n",
      "GVS_404_W_T4\n",
      "[Errno 2] No such file or directory: 'C:\\\\Users\\\\purpl\\\\Box\\\\Gait Video Project\\\\GaitVideoData\\\\video\\\\multi_view_merged_data\\\\\\\\PD\\\\walking\\\\GVS_404_W_T4\\\\hip_height_normalized\\\\\\\\HSRframes.txt'\n",
      "GVS_405_W_T1\n",
      "[Errno 2] No such file or directory: 'C:\\\\Users\\\\purpl\\\\Box\\\\Gait Video Project\\\\GaitVideoData\\\\video\\\\multi_view_merged_data\\\\\\\\PD\\\\walking\\\\GVS_405_W_T1\\\\hip_height_normalized\\\\\\\\HSRframes.txt'\n",
      "GVS_405_W_T2\n",
      "[Errno 2] No such file or directory: 'C:\\\\Users\\\\purpl\\\\Box\\\\Gait Video Project\\\\GaitVideoData\\\\video\\\\multi_view_merged_data\\\\\\\\PD\\\\walking\\\\GVS_405_W_T2\\\\hip_height_normalized\\\\\\\\HSRframes.txt'\n",
      "GVS_405_W_T3\n",
      "[Errno 2] No such file or directory: 'C:\\\\Users\\\\purpl\\\\Box\\\\Gait Video Project\\\\GaitVideoData\\\\video\\\\multi_view_merged_data\\\\\\\\PD\\\\walking\\\\GVS_405_W_T3\\\\hip_height_normalized\\\\\\\\HSRframes.txt'\n",
      "GVS_405_W_T4\n",
      "[Errno 2] No such file or directory: 'C:\\\\Users\\\\purpl\\\\Box\\\\Gait Video Project\\\\GaitVideoData\\\\video\\\\multi_view_merged_data\\\\\\\\PD\\\\walking\\\\GVS_405_W_T4\\\\hip_height_normalized\\\\\\\\HSRframes.txt'\n",
      "GVS_406_W_T1\n",
      "[16, 62, 100, 138, 172, 208, 242, 279, 319, 358, 395, 434, 468, 506, 544, 579, 615, 654, 689, 725, 762, 797, 833, 868, 905, 941, 977, 1012, 1047, 1084, 1121, 1157, 1193, 1229, 1265, 1301, 1336, 1372, 1408, 1442, 1477, 1512, 1547, 1582, 1618, 1654, 1689, 1722, 1758, 1799, 1836, 1875, 1914, 1954]\n",
      "0 15\n"
     ]
    },
    {
     "data": {
      "application/vnd.jupyter.widget-view+json": {
       "model_id": "72240d35c96c49e58518cb7925173515",
       "version_major": 2,
       "version_minor": 0
      },
      "text/plain": [
       "Canvas(toolbar=Toolbar(toolitems=[('Home', 'Reset original view', 'home', 'home'), ('Back', 'Back to previous …"
      ]
     },
     "metadata": {},
     "output_type": "display_data"
    },
    {
     "name": "stdout",
     "output_type": "stream",
     "text": [
      "trueHSR_indices 48 [16, 62, 100, 138, 172, 207, 240, 277, 316, 355, 392, 430, 464, 500, 537, 571, 607, 644, 679, 715, 752, 787, 823, 858, 895, 931, 967, 1002, 1037, 1074, 1111, 1147, 1183, 1219, 1255, 1291, 1326, 1362, 1398, 1432, 1466, 1500, 1535, 1570, 1606, 1642, 1675, 1707]\n",
      "peaks 45 [  21   63  103  141  172  220  250  280  322  359  394  441  471  503\n",
      "  536  571  625  656  692  726  772  823  860  898  934  969 1008 1040\n",
      " 1077 1114 1149 1193 1226 1256 1307 1339 1374 1435 1468 1504 1538 1579\n",
      " 1644 1681 1719]\n"
     ]
    },
    {
     "data": {
      "application/vnd.jupyter.widget-view+json": {
       "model_id": "398d2497a9fc4bea80d5e73fd157fcef",
       "version_major": 2,
       "version_minor": 0
      },
      "text/plain": [
       "Canvas(toolbar=Toolbar(toolitems=[('Home', 'Reset original view', 'home', 'home'), ('Back', 'Back to previous …"
      ]
     },
     "metadata": {},
     "output_type": "display_data"
    },
    {
     "name": "stdout",
     "output_type": "stream",
     "text": [
      "0 15\n"
     ]
    },
    {
     "data": {
      "application/vnd.jupyter.widget-view+json": {
       "model_id": "63deb40027e74728a6850b56a6a8b185",
       "version_major": 2,
       "version_minor": 0
      },
      "text/plain": [
       "Canvas(toolbar=Toolbar(toolitems=[('Home', 'Reset original view', 'home', 'home'), ('Back', 'Back to previous …"
      ]
     },
     "metadata": {},
     "output_type": "display_data"
    },
    {
     "name": "stdout",
     "output_type": "stream",
     "text": [
      "trueHSR_indices 48 [16, 62, 100, 138, 172, 207, 240, 277, 316, 355, 392, 430, 464, 500, 537, 571, 607, 644, 679, 715, 752, 787, 823, 858, 895, 931, 967, 1002, 1037, 1074, 1111, 1147, 1183, 1219, 1255, 1291, 1326, 1362, 1398, 1432, 1466, 1500, 1535, 1570, 1606, 1642, 1675, 1707]\n",
      "peaks 42 [  24   73  105  151  182  247  277  331  362  401  441  475  510  550\n",
      "  582  621  656  693  729  764  800  835  871  908  942  982 1053 1109\n",
      " 1163 1202 1260 1297 1339 1373 1409 1467 1507 1541 1573 1611 1653 1713]\n"
     ]
    },
    {
     "data": {
      "application/vnd.jupyter.widget-view+json": {
       "model_id": "896f8bf4f9e44673a2da5f9c859077fa",
       "version_major": 2,
       "version_minor": 0
      },
      "text/plain": [
       "Canvas(toolbar=Toolbar(toolitems=[('Home', 'Reset original view', 'home', 'home'), ('Back', 'Back to previous …"
      ]
     },
     "metadata": {},
     "output_type": "display_data"
    },
    {
     "name": "stdout",
     "output_type": "stream",
     "text": [
      "0 15\n"
     ]
    },
    {
     "data": {
      "application/vnd.jupyter.widget-view+json": {
       "model_id": "a93c8e110f61414196953e12a1217a64",
       "version_major": 2,
       "version_minor": 0
      },
      "text/plain": [
       "Canvas(toolbar=Toolbar(toolitems=[('Home', 'Reset original view', 'home', 'home'), ('Back', 'Back to previous …"
      ]
     },
     "metadata": {},
     "output_type": "display_data"
    },
    {
     "name": "stdout",
     "output_type": "stream",
     "text": [
      "trueHSR_indices 48 [16, 62, 100, 138, 172, 207, 240, 277, 316, 355, 392, 430, 464, 500, 537, 571, 607, 644, 679, 715, 752, 787, 823, 858, 895, 931, 967, 1002, 1037, 1074, 1111, 1147, 1183, 1219, 1255, 1291, 1326, 1362, 1398, 1432, 1466, 1500, 1535, 1570, 1606, 1642, 1675, 1707]\n",
      "peaks 45 [  24   62  104  134  178  217  247  280  320  359  409  441  503  536\n",
      "  586  619  652  688  718  752  787  824  859  895  930  967 1002 1038\n",
      " 1075 1120 1158 1193 1230 1289 1331 1361 1409 1443 1503 1537 1573 1608\n",
      " 1650 1681 1714]\n"
     ]
    },
    {
     "data": {
      "application/vnd.jupyter.widget-view+json": {
       "model_id": "20f01a2956ba4ea6a46fd46704ab9110",
       "version_major": 2,
       "version_minor": 0
      },
      "text/plain": [
       "Canvas(toolbar=Toolbar(toolitems=[('Home', 'Reset original view', 'home', 'home'), ('Back', 'Back to previous …"
      ]
     },
     "metadata": {},
     "output_type": "display_data"
    },
    {
     "name": "stdout",
     "output_type": "stream",
     "text": [
      "GVS_406_W_T2\n",
      "[35, 73, 110, 148, 185, 224, 264, 303, 342, 380, 417, 453, 490, 528, 563, 599, 635, 673, 709, 744, 777, 813, 849, 888, 926, 962, 998, 1035, 1071, 1107, 1144, 1180, 1218, 1254, 1288, 1327, 1363, 1401, 1439, 1476, 1511, 1548, 1584, 1621, 1658, 1692, 1730, 1766, 1806, 1847, 1890]\n",
      "0 60\n"
     ]
    },
    {
     "data": {
      "application/vnd.jupyter.widget-view+json": {
       "model_id": "f7ed454f473a4f87a09d57dddd59ad4b",
       "version_major": 2,
       "version_minor": 0
      },
      "text/plain": [
       "Canvas(toolbar=Toolbar(toolitems=[('Home', 'Reset original view', 'home', 'home'), ('Back', 'Back to previous …"
      ]
     },
     "metadata": {},
     "output_type": "display_data"
    },
    {
     "name": "stdout",
     "output_type": "stream",
     "text": [
      "trueHSR_indices 46 [25, 63, 94, 126, 160, 199, 239, 278, 316, 354, 391, 427, 464, 502, 537, 573, 609, 647, 682, 717, 750, 783, 819, 858, 896, 932, 967, 1003, 1039, 1068, 1103, 1138, 1176, 1212, 1245, 1315, 1353, 1391, 1428, 1457, 1491, 1527, 1564, 1601, 1632, 1670]\n",
      "peaks 43 [   9   39   71  128  165  205  243  284  327  360  394  441  478  516\n",
      "  550  614  652  685  737  768  804  840  872  935  977 1008 1044 1074\n",
      " 1128 1162 1195 1252 1284 1319 1357 1393 1442 1476 1506 1543 1589 1638\n",
      " 1674]\n"
     ]
    },
    {
     "data": {
      "application/vnd.jupyter.widget-view+json": {
       "model_id": "d60335a33fa04c8cab79fbc0b32f24ab",
       "version_major": 2,
       "version_minor": 0
      },
      "text/plain": [
       "Canvas(toolbar=Toolbar(toolitems=[('Home', 'Reset original view', 'home', 'home'), ('Back', 'Back to previous …"
      ]
     },
     "metadata": {},
     "output_type": "display_data"
    },
    {
     "name": "stdout",
     "output_type": "stream",
     "text": [
      "0 60\n"
     ]
    },
    {
     "data": {
      "application/vnd.jupyter.widget-view+json": {
       "model_id": "393477329d2f428bbbc4e17735dff932",
       "version_major": 2,
       "version_minor": 0
      },
      "text/plain": [
       "Canvas(toolbar=Toolbar(toolitems=[('Home', 'Reset original view', 'home', 'home'), ('Back', 'Back to previous …"
      ]
     },
     "metadata": {},
     "output_type": "display_data"
    },
    {
     "name": "stdout",
     "output_type": "stream",
     "text": [
      "trueHSR_indices 46 [25, 63, 94, 126, 160, 199, 239, 278, 316, 354, 391, 427, 464, 502, 537, 573, 609, 647, 682, 717, 750, 783, 819, 858, 896, 932, 967, 1003, 1039, 1068, 1103, 1138, 1176, 1212, 1245, 1315, 1353, 1391, 1428, 1457, 1491, 1527, 1564, 1601, 1632, 1670]\n",
      "peaks 45 [  34   66   98  132  168  206  246  284  323  361  393  433  466  507\n",
      "  549  585  625  660  694  755  790  830  869  902  937  974 1010 1044\n",
      " 1075 1110 1147 1183 1219 1252 1289 1328 1361 1401 1433 1464 1514 1570\n",
      " 1609 1645 1677]\n"
     ]
    },
    {
     "data": {
      "application/vnd.jupyter.widget-view+json": {
       "model_id": "7c1b6f0deb184e908dfea0d295b4b08a",
       "version_major": 2,
       "version_minor": 0
      },
      "text/plain": [
       "Canvas(toolbar=Toolbar(toolitems=[('Home', 'Reset original view', 'home', 'home'), ('Back', 'Back to previous …"
      ]
     },
     "metadata": {},
     "output_type": "display_data"
    },
    {
     "name": "stdout",
     "output_type": "stream",
     "text": [
      "0 60\n"
     ]
    },
    {
     "data": {
      "application/vnd.jupyter.widget-view+json": {
       "model_id": "3bd74d43ac814170a71edb5379d35b65",
       "version_major": 2,
       "version_minor": 0
      },
      "text/plain": [
       "Canvas(toolbar=Toolbar(toolitems=[('Home', 'Reset original view', 'home', 'home'), ('Back', 'Back to previous …"
      ]
     },
     "metadata": {},
     "output_type": "display_data"
    },
    {
     "name": "stdout",
     "output_type": "stream",
     "text": [
      "trueHSR_indices 46 [25, 63, 94, 126, 160, 199, 239, 278, 316, 354, 391, 427, 464, 502, 537, 573, 609, 647, 682, 717, 750, 783, 819, 858, 896, 932, 967, 1003, 1039, 1068, 1103, 1138, 1176, 1212, 1245, 1315, 1353, 1391, 1428, 1457, 1491, 1527, 1564, 1601, 1632, 1670]\n",
      "peaks 42 [  39   93  158  203  251  293  327  363  404  440  478  515  550  582\n",
      "  612  651  693  738  785  821  859  906  942  976 1007 1040 1072 1109\n",
      " 1143 1178 1213 1259 1291 1332 1363 1400 1430 1460 1515 1575 1612 1673]\n"
     ]
    },
    {
     "data": {
      "application/vnd.jupyter.widget-view+json": {
       "model_id": "07663eeaed6c45e29fcccfea8a3c23ba",
       "version_major": 2,
       "version_minor": 0
      },
      "text/plain": [
       "Canvas(toolbar=Toolbar(toolitems=[('Home', 'Reset original view', 'home', 'home'), ('Back', 'Back to previous …"
      ]
     },
     "metadata": {},
     "output_type": "display_data"
    },
    {
     "name": "stdout",
     "output_type": "stream",
     "text": [
      "GVS_407_W_T1\n",
      "[35, 95, 149, 197, 253, 303, 353, 408, 462, 512, 565, 616, 663, 710, 760, 807, 858, 910, 956, 996, 1038, 1080, 1121, 1161, 1203, 1242, 1284, 1324, 1365, 1404, 1446, 1486, 1527, 1568, 1609, 1651, 1694, 1736]\n",
      "0 41\n"
     ]
    },
    {
     "data": {
      "application/vnd.jupyter.widget-view+json": {
       "model_id": "d8adc5e3e06d4b2c993e2add631eba71",
       "version_major": 2,
       "version_minor": 0
      },
      "text/plain": [
       "Canvas(toolbar=Toolbar(toolitems=[('Home', 'Reset original view', 'home', 'home'), ('Back', 'Back to previous …"
      ]
     },
     "metadata": {},
     "output_type": "display_data"
    },
    {
     "name": "stdout",
     "output_type": "stream",
     "text": [
      "trueHSR_indices 35 [77, 131, 178, 233, 281, 328, 431, 481, 534, 585, 632, 677, 726, 773, 824, 875, 921, 961, 1003, 1045, 1085, 1125, 1167, 1206, 1246, 1286, 1327, 1366, 1408, 1448, 1489, 1530, 1571, 1613, 1654]\n",
      "peaks 41 [  26   56   98  131  161  202  254  301  334  371  403  454  503  557\n",
      "  607  654  701  748  779  812  852  901  935  983 1030 1060 1104 1141\n",
      " 1184 1224 1261 1308 1342 1384 1426 1466 1509 1553 1595 1635 1676]\n"
     ]
    },
    {
     "data": {
      "application/vnd.jupyter.widget-view+json": {
       "model_id": "8720475e1b4f48fb8e7702dcc067b335",
       "version_major": 2,
       "version_minor": 0
      },
      "text/plain": [
       "Canvas(toolbar=Toolbar(toolitems=[('Home', 'Reset original view', 'home', 'home'), ('Back', 'Back to previous …"
      ]
     },
     "metadata": {},
     "output_type": "display_data"
    },
    {
     "name": "stdout",
     "output_type": "stream",
     "text": [
      "0 41\n"
     ]
    },
    {
     "data": {
      "application/vnd.jupyter.widget-view+json": {
       "model_id": "9d7f53f88ee947d9a8592df947bb2f26",
       "version_major": 2,
       "version_minor": 0
      },
      "text/plain": [
       "Canvas(toolbar=Toolbar(toolitems=[('Home', 'Reset original view', 'home', 'home'), ('Back', 'Back to previous …"
      ]
     },
     "metadata": {},
     "output_type": "display_data"
    },
    {
     "name": "stdout",
     "output_type": "stream",
     "text": [
      "trueHSR_indices 35 [77, 131, 178, 233, 281, 328, 431, 481, 534, 585, 632, 677, 726, 773, 824, 875, 921, 961, 1003, 1045, 1085, 1125, 1167, 1206, 1246, 1286, 1327, 1366, 1408, 1448, 1489, 1530, 1571, 1613, 1654]\n",
      "peaks 39 [  26   83  139  191  240  288  341  399  446  500  533  564  596  639\n",
      "  685  737  795  845  877  937  975 1014 1053 1099 1136 1178 1209 1255\n",
      " 1299 1338 1376 1411 1454 1495 1538 1578 1623 1661 1692]\n"
     ]
    },
    {
     "data": {
      "application/vnd.jupyter.widget-view+json": {
       "model_id": "3d2bea3cb55e409ea6387d660d1954a7",
       "version_major": 2,
       "version_minor": 0
      },
      "text/plain": [
       "Canvas(toolbar=Toolbar(toolitems=[('Home', 'Reset original view', 'home', 'home'), ('Back', 'Back to previous …"
      ]
     },
     "metadata": {},
     "output_type": "display_data"
    },
    {
     "name": "stdout",
     "output_type": "stream",
     "text": [
      "0 41\n"
     ]
    },
    {
     "data": {
      "application/vnd.jupyter.widget-view+json": {
       "model_id": "fe961e895f414da0b324aa3418286e05",
       "version_major": 2,
       "version_minor": 0
      },
      "text/plain": [
       "Canvas(toolbar=Toolbar(toolitems=[('Home', 'Reset original view', 'home', 'home'), ('Back', 'Back to previous …"
      ]
     },
     "metadata": {},
     "output_type": "display_data"
    },
    {
     "name": "stdout",
     "output_type": "stream",
     "text": [
      "trueHSR_indices 35 [77, 131, 178, 233, 281, 328, 431, 481, 534, 585, 632, 677, 726, 773, 824, 875, 921, 961, 1003, 1045, 1085, 1125, 1167, 1206, 1246, 1286, 1327, 1366, 1408, 1448, 1489, 1530, 1571, 1613, 1654]\n",
      "peaks 41 [  27   68   98  144  201  254  300  350  398  435  474  505  555  589\n",
      "  640  700  737  782  833  874  904  937  976 1021 1059 1101 1142 1178\n",
      " 1222 1264 1299 1344 1375 1413 1460 1495 1545 1592 1632 1665 1699]\n"
     ]
    },
    {
     "data": {
      "application/vnd.jupyter.widget-view+json": {
       "model_id": "735164a6abc34029a52723fa110221ef",
       "version_major": 2,
       "version_minor": 0
      },
      "text/plain": [
       "Canvas(toolbar=Toolbar(toolitems=[('Home', 'Reset original view', 'home', 'home'), ('Back', 'Back to previous …"
      ]
     },
     "metadata": {},
     "output_type": "display_data"
    },
    {
     "name": "stdout",
     "output_type": "stream",
     "text": [
      "GVS_407_W_T2\n",
      "[58, 123, 183, 239, 288, 343, 397, 448, 501, 555, 605, 654, 702, 749, 795, 837, 882, 923, 970, 1011, 1055, 1099, 1143, 1188, 1234, 1279, 1322, 1367, 1412, 1456, 1502, 1546, 1590, 1636, 1681, 1727]\n",
      "0 9\n"
     ]
    },
    {
     "data": {
      "application/vnd.jupyter.widget-view+json": {
       "model_id": "0c54a5bd736a4e3aa79932e247a0ee19",
       "version_major": 2,
       "version_minor": 0
      },
      "text/plain": [
       "Canvas(toolbar=Toolbar(toolitems=[('Home', 'Reset original view', 'home', 'home'), ('Back', 'Back to previous …"
      ]
     },
     "metadata": {},
     "output_type": "display_data"
    },
    {
     "name": "stdout",
     "output_type": "stream",
     "text": [
      "trueHSR_indices 36 [55, 120, 180, 236, 285, 340, 394, 443, 496, 550, 600, 649, 697, 744, 790, 832, 877, 918, 964, 1005, 1049, 1093, 1137, 1182, 1227, 1272, 1315, 1360, 1405, 1449, 1494, 1538, 1582, 1628, 1673, 1718]\n",
      "peaks 40 [  13   57   90  145  203  255  308  362  413  468  518  571  609  640\n",
      "  674  717  770  807  856  899  944  988 1030 1066 1112 1156 1208 1244\n",
      " 1290 1333 1380 1424 1469 1503 1535 1571 1601 1648 1694 1725]\n"
     ]
    },
    {
     "data": {
      "application/vnd.jupyter.widget-view+json": {
       "model_id": "3fdce69cd8c545a393cf388139e700f8",
       "version_major": 2,
       "version_minor": 0
      },
      "text/plain": [
       "Canvas(toolbar=Toolbar(toolitems=[('Home', 'Reset original view', 'home', 'home'), ('Back', 'Back to previous …"
      ]
     },
     "metadata": {},
     "output_type": "display_data"
    },
    {
     "name": "stdout",
     "output_type": "stream",
     "text": [
      "0 9\n"
     ]
    },
    {
     "data": {
      "application/vnd.jupyter.widget-view+json": {
       "model_id": "f603e63206f64bf0acfed70925c809c4",
       "version_major": 2,
       "version_minor": 0
      },
      "text/plain": [
       "Canvas(toolbar=Toolbar(toolitems=[('Home', 'Reset original view', 'home', 'home'), ('Back', 'Back to previous …"
      ]
     },
     "metadata": {},
     "output_type": "display_data"
    },
    {
     "name": "stdout",
     "output_type": "stream",
     "text": [
      "trueHSR_indices 36 [55, 120, 180, 236, 285, 340, 394, 443, 496, 550, 600, 649, 697, 744, 790, 832, 877, 918, 964, 1005, 1049, 1093, 1137, 1182, 1227, 1272, 1315, 1360, 1405, 1449, 1494, 1538, 1582, 1628, 1673, 1718]\n",
      "peaks 38 [  29   64   97  128  189  236  297  349  404  457  496  557  607  666\n",
      "  717  758  803  834  884  929  971 1011 1053 1101 1141 1183 1230 1275\n",
      " 1317 1365 1419 1464 1498 1547 1590 1635 1680 1728]\n"
     ]
    },
    {
     "data": {
      "application/vnd.jupyter.widget-view+json": {
       "model_id": "e0cb63673ba14a8fb5eb9be0d30ff279",
       "version_major": 2,
       "version_minor": 0
      },
      "text/plain": [
       "Canvas(toolbar=Toolbar(toolitems=[('Home', 'Reset original view', 'home', 'home'), ('Back', 'Back to previous …"
      ]
     },
     "metadata": {},
     "output_type": "display_data"
    },
    {
     "name": "stdout",
     "output_type": "stream",
     "text": [
      "0 9\n"
     ]
    },
    {
     "data": {
      "application/vnd.jupyter.widget-view+json": {
       "model_id": "1f0f320faac243b9921a71d80af896dc",
       "version_major": 2,
       "version_minor": 0
      },
      "text/plain": [
       "Canvas(toolbar=Toolbar(toolitems=[('Home', 'Reset original view', 'home', 'home'), ('Back', 'Back to previous …"
      ]
     },
     "metadata": {},
     "output_type": "display_data"
    },
    {
     "name": "stdout",
     "output_type": "stream",
     "text": [
      "trueHSR_indices 36 [55, 120, 180, 236, 285, 340, 394, 443, 496, 550, 600, 649, 697, 744, 790, 832, 877, 918, 964, 1005, 1049, 1093, 1137, 1182, 1227, 1272, 1315, 1360, 1405, 1449, 1494, 1538, 1582, 1628, 1673, 1718]\n",
      "peaks 38 [  28   64   97  143  202  254  296  352  413  459  518  561  607  666\n",
      "  698  748  805  847  893  931  976 1006 1052 1110 1155 1200 1245 1290\n",
      " 1326 1377 1423 1456 1496 1555 1600 1637 1693 1723]\n"
     ]
    },
    {
     "data": {
      "application/vnd.jupyter.widget-view+json": {
       "model_id": "64f2b1d5741f4ca6b589ec037f8f8c33",
       "version_major": 2,
       "version_minor": 0
      },
      "text/plain": [
       "Canvas(toolbar=Toolbar(toolitems=[('Home', 'Reset original view', 'home', 'home'), ('Back', 'Back to previous …"
      ]
     },
     "metadata": {},
     "output_type": "display_data"
    },
    {
     "name": "stdout",
     "output_type": "stream",
     "text": [
      "GVS_408_W_T1\n",
      "[48, 90, 128, 166, 199, 232, 265, 303, 337, 373, 409, 446, 482, 519, 555, 593, 629, 664, 702, 739, 778, 816, 857, 897, 938, 979, 1020, 1064, 1108, 1151, 1192, 1234, 1273, 1312, 1352, 1392, 1435, 1474, 1516, 1558, 1599, 1640, 1679, 1719, 1757, 1796, 1839, 1879, 1918]\n",
      "0 10\n"
     ]
    },
    {
     "data": {
      "application/vnd.jupyter.widget-view+json": {
       "model_id": "308931b5b8b344f6bf32da909eb0413f",
       "version_major": 2,
       "version_minor": 0
      },
      "text/plain": [
       "Canvas(toolbar=Toolbar(toolitems=[('Home', 'Reset original view', 'home', 'home'), ('Back', 'Back to previous …"
      ]
     },
     "metadata": {},
     "output_type": "display_data"
    },
    {
     "name": "stdout",
     "output_type": "stream",
     "text": [
      "trueHSR_indices 43 [47, 89, 127, 165, 198, 231, 264, 302, 336, 372, 408, 445, 481, 551, 587, 623, 658, 695, 732, 771, 808, 849, 889, 930, 971, 1011, 1055, 1099, 1142, 1183, 1225, 1264, 1303, 1343, 1383, 1426, 1464, 1506, 1548, 1589, 1630, 1669, 1709]\n",
      "peaks 45 [  10   49   91  145  181  212  244  279  317  350  387  423  460  497\n",
      "  529  563  599  635  671  708  745  776  820  863  893  925  964 1005\n",
      " 1072 1113 1157 1199 1232 1278 1319 1356 1399 1440 1500 1530 1562 1603\n",
      " 1637 1667 1722]\n"
     ]
    },
    {
     "data": {
      "application/vnd.jupyter.widget-view+json": {
       "model_id": "71d8e6ad273f4f7e8065e9157ee15a85",
       "version_major": 2,
       "version_minor": 0
      },
      "text/plain": [
       "Canvas(toolbar=Toolbar(toolitems=[('Home', 'Reset original view', 'home', 'home'), ('Back', 'Back to previous …"
      ]
     },
     "metadata": {},
     "output_type": "display_data"
    },
    {
     "name": "stdout",
     "output_type": "stream",
     "text": [
      "0 10\n"
     ]
    },
    {
     "data": {
      "application/vnd.jupyter.widget-view+json": {
       "model_id": "09f5a8907763464dac735adb39bea2db",
       "version_major": 2,
       "version_minor": 0
      },
      "text/plain": [
       "Canvas(toolbar=Toolbar(toolitems=[('Home', 'Reset original view', 'home', 'home'), ('Back', 'Back to previous …"
      ]
     },
     "metadata": {},
     "output_type": "display_data"
    },
    {
     "name": "stdout",
     "output_type": "stream",
     "text": [
      "trueHSR_indices 43 [47, 89, 127, 165, 198, 231, 264, 302, 336, 372, 408, 445, 481, 551, 587, 623, 658, 695, 732, 771, 808, 849, 889, 930, 971, 1011, 1055, 1099, 1142, 1183, 1225, 1264, 1303, 1343, 1383, 1426, 1464, 1506, 1548, 1589, 1630, 1669, 1709]\n",
      "peaks 45 [  11   55   87  125  165  198  238  277  313  343  377  411  446  484\n",
      "  517  557  591  630  661  701  736  772  807  859  889  928  972 1010\n",
      " 1050 1100 1152 1187 1232 1263 1304 1353 1384 1425 1462 1516 1558 1598\n",
      " 1631 1681 1720]\n"
     ]
    },
    {
     "data": {
      "application/vnd.jupyter.widget-view+json": {
       "model_id": "695ef383682a4331a9224dc82798e7e1",
       "version_major": 2,
       "version_minor": 0
      },
      "text/plain": [
       "Canvas(toolbar=Toolbar(toolitems=[('Home', 'Reset original view', 'home', 'home'), ('Back', 'Back to previous …"
      ]
     },
     "metadata": {},
     "output_type": "display_data"
    },
    {
     "name": "stdout",
     "output_type": "stream",
     "text": [
      "0 10\n"
     ]
    },
    {
     "data": {
      "application/vnd.jupyter.widget-view+json": {
       "model_id": "ad24513fb8984e8e8c48ffe0155fa457",
       "version_major": 2,
       "version_minor": 0
      },
      "text/plain": [
       "Canvas(toolbar=Toolbar(toolitems=[('Home', 'Reset original view', 'home', 'home'), ('Back', 'Back to previous …"
      ]
     },
     "metadata": {},
     "output_type": "display_data"
    },
    {
     "name": "stdout",
     "output_type": "stream",
     "text": [
      "trueHSR_indices 43 [47, 89, 127, 165, 198, 231, 264, 302, 336, 372, 408, 445, 481, 551, 587, 623, 658, 695, 732, 771, 808, 849, 889, 930, 971, 1011, 1055, 1099, 1142, 1183, 1225, 1264, 1303, 1343, 1383, 1426, 1464, 1506, 1548, 1589, 1630, 1669, 1709]\n",
      "peaks 45 [  11   55   86  144  198  230  269  300  336  371  413  452  483  516\n",
      "  552  592  626  656  692  734  775  815  849  884  926  965 1008 1040\n",
      " 1071 1112 1156 1191 1233 1276 1318 1355 1396 1433 1467 1506 1553 1585\n",
      " 1628 1668 1714]\n"
     ]
    },
    {
     "data": {
      "application/vnd.jupyter.widget-view+json": {
       "model_id": "63120d13cbd74fe58bad8b5d3c619628",
       "version_major": 2,
       "version_minor": 0
      },
      "text/plain": [
       "Canvas(toolbar=Toolbar(toolitems=[('Home', 'Reset original view', 'home', 'home'), ('Back', 'Back to previous …"
      ]
     },
     "metadata": {},
     "output_type": "display_data"
    },
    {
     "name": "stdout",
     "output_type": "stream",
     "text": [
      "GVS_408_W_T2\n",
      "[32, 78, 119, 160, 200, 239, 280, 317, 354, 394, 35, 474, 511, 547, 586, 622, 658, 703, 742, 779, 815, 848, 883, 916, 950, 982, 1013, 1046, 1078, 1109, 1141, 1173, 1205, 1237, 1269, 1301, 1332, 1364, 1395, 1428, 1459, 1491, 1521, 1555, 1586, 1617, 1649, 1680, 1711, 1744, 1776, 1808, 1841, 1875, 1913]\n",
      "0 20\n"
     ]
    },
    {
     "data": {
      "application/vnd.jupyter.widget-view+json": {
       "model_id": "3b51a25b060641cba6a2c3a300db82d7",
       "version_major": 2,
       "version_minor": 0
      },
      "text/plain": [
       "Canvas(toolbar=Toolbar(toolitems=[('Home', 'Reset original view', 'home', 'home'), ('Back', 'Back to previous …"
      ]
     },
     "metadata": {},
     "output_type": "display_data"
    },
    {
     "name": "stdout",
     "output_type": "stream",
     "text": [
      "trueHSR_indices 49 [34, 76, 117, 154, 194, 233, 274, 311, 347, 383, 463, 500, 536, 574, 610, 646, 690, 729, 766, 802, 834, 869, 902, 936, 968, 999, 1032, 1064, 1095, 1126, 1158, 1190, 1222, 1253, 1283, 1314, 1346, 1377, 1410, 1441, 1473, 1503, 1537, 1567, 1598, 1630, 1661, 1692, 1724]\n",
      "peaks 45 [  33   78  119  160  197  236  273  309  345  379  427  460  515  552\n",
      "  590  626  665  707  744  781  817  848  882  916  949  981 1033 1064\n",
      " 1097 1128 1158 1201 1254 1294 1327 1379 1424 1474 1507 1537 1580 1613\n",
      " 1660 1693 1737]\n"
     ]
    },
    {
     "data": {
      "application/vnd.jupyter.widget-view+json": {
       "model_id": "36a42f220e7241b79a1abea05d2969ec",
       "version_major": 2,
       "version_minor": 0
      },
      "text/plain": [
       "Canvas(toolbar=Toolbar(toolitems=[('Home', 'Reset original view', 'home', 'home'), ('Back', 'Back to previous …"
      ]
     },
     "metadata": {},
     "output_type": "display_data"
    },
    {
     "name": "stdout",
     "output_type": "stream",
     "text": [
      "0 20\n"
     ]
    },
    {
     "data": {
      "application/vnd.jupyter.widget-view+json": {
       "model_id": "9afb15ada0774ed79353fd9330fd02d0",
       "version_major": 2,
       "version_minor": 0
      },
      "text/plain": [
       "Canvas(toolbar=Toolbar(toolitems=[('Home', 'Reset original view', 'home', 'home'), ('Back', 'Back to previous …"
      ]
     },
     "metadata": {},
     "output_type": "display_data"
    },
    {
     "name": "stdout",
     "output_type": "stream",
     "text": [
      "trueHSR_indices 49 [34, 76, 117, 154, 194, 233, 274, 311, 347, 383, 463, 500, 536, 574, 610, 646, 690, 729, 766, 802, 834, 869, 902, 936, 968, 999, 1032, 1064, 1095, 1126, 1158, 1190, 1222, 1253, 1283, 1314, 1346, 1377, 1410, 1441, 1473, 1503, 1537, 1567, 1598, 1630, 1661, 1692, 1724]\n",
      "peaks 44 [  11   42   85  130  166  209  274  317  348  382  438  474  508  538\n",
      "  572  610  647  690  730  764  810  867  899  940  997 1042 1074 1126\n",
      " 1163 1199 1231 1261 1293 1326 1357 1410 1442 1473 1515 1547 1608 1640\n",
      " 1691 1723]\n"
     ]
    },
    {
     "data": {
      "application/vnd.jupyter.widget-view+json": {
       "model_id": "452719ad0868494fa572229cd87a294e",
       "version_major": 2,
       "version_minor": 0
      },
      "text/plain": [
       "Canvas(toolbar=Toolbar(toolitems=[('Home', 'Reset original view', 'home', 'home'), ('Back', 'Back to previous …"
      ]
     },
     "metadata": {},
     "output_type": "display_data"
    },
    {
     "name": "stdout",
     "output_type": "stream",
     "text": [
      "0 20\n"
     ]
    },
    {
     "data": {
      "application/vnd.jupyter.widget-view+json": {
       "model_id": "ce4f9583c4e24b5b9b765bb937145344",
       "version_major": 2,
       "version_minor": 0
      },
      "text/plain": [
       "Canvas(toolbar=Toolbar(toolitems=[('Home', 'Reset original view', 'home', 'home'), ('Back', 'Back to previous …"
      ]
     },
     "metadata": {},
     "output_type": "display_data"
    },
    {
     "name": "stdout",
     "output_type": "stream",
     "text": [
      "trueHSR_indices 49 [34, 76, 117, 154, 194, 233, 274, 311, 347, 383, 463, 500, 536, 574, 610, 646, 690, 729, 766, 802, 834, 869, 902, 936, 968, 999, 1032, 1064, 1095, 1126, 1158, 1190, 1222, 1253, 1283, 1314, 1346, 1377, 1410, 1441, 1473, 1503, 1537, 1567, 1598, 1630, 1661, 1692, 1724]\n",
      "peaks 47 [   5   39   78  125  160  200  240  279  314  352  388  431  469  505\n",
      "  545  583  617  650  695  733  772  808  847  908  938  975 1005 1037\n",
      " 1069 1130 1162 1193 1225 1262 1294 1344 1379 1420 1450 1507 1537 1577\n",
      " 1607 1638 1670 1704 1735]\n"
     ]
    },
    {
     "data": {
      "application/vnd.jupyter.widget-view+json": {
       "model_id": "d36b570e064f4df4b5c3adc977dfe91a",
       "version_major": 2,
       "version_minor": 0
      },
      "text/plain": [
       "Canvas(toolbar=Toolbar(toolitems=[('Home', 'Reset original view', 'home', 'home'), ('Back', 'Back to previous …"
      ]
     },
     "metadata": {},
     "output_type": "display_data"
    },
    {
     "name": "stdout",
     "output_type": "stream",
     "text": [
      "GVS_409_W_T1\n",
      "[Errno 2] No such file or directory: 'C:\\\\Users\\\\purpl\\\\Box\\\\Gait Video Project\\\\GaitVideoData\\\\video\\\\multi_view_merged_data\\\\\\\\PD\\\\walking\\\\GVS_409_W_T1\\\\hip_height_normalized\\\\\\\\HSRframes.txt'\n",
      "GVS_409_W_T2\n",
      "[Errno 2] No such file or directory: 'C:\\\\Users\\\\purpl\\\\Box\\\\Gait Video Project\\\\GaitVideoData\\\\video\\\\multi_view_merged_data\\\\\\\\PD\\\\walking\\\\GVS_409_W_T2\\\\hip_height_normalized\\\\\\\\HSRframes.txt'\n",
      "GVS_410_W_T1\n",
      "[3, 45, 86, 127, 166, 208, 249, 291, 336, 374, 415, 451, 494, 535, 575, 614, 656, 698, 740, 783, 822, 863, 905, 946, 987, 1026, 1067, 1107, 1150, 1192, 1234, 1275, 1317, 1359, 1399, 1440, 1481, 1521, 1560, 1600, 1642, 1683, 1722, 1763, 1802, 1845, 1886, 1927, 1970]\n",
      "0 3\n"
     ]
    },
    {
     "data": {
      "application/vnd.jupyter.widget-view+json": {
       "model_id": "2a7dfe161d354b109151498bd5e82b22",
       "version_major": 2,
       "version_minor": 0
      },
      "text/plain": [
       "Canvas(toolbar=Toolbar(toolitems=[('Home', 'Reset original view', 'home', 'home'), ('Back', 'Back to previous …"
      ]
     },
     "metadata": {},
     "output_type": "display_data"
    },
    {
     "name": "stdout",
     "output_type": "stream",
     "text": [
      "trueHSR_indices 43 [3, 45, 86, 126, 165, 207, 248, 290, 335, 373, 414, 450, 493, 534, 574, 613, 655, 697, 739, 782, 821, 862, 904, 945, 986, 1025, 1066, 1106, 1149, 1191, 1233, 1273, 1315, 1357, 1397, 1438, 1479, 1519, 1558, 1598, 1639, 1680, 1719]\n",
      "peaks 42 [  21   58  105  139  177  221  266  315  347  384  448  492  545  585\n",
      "  626  667  708  750  794  834  873  914  955  996 1036 1086 1116 1159\n",
      " 1210 1242 1289 1325 1367 1397 1449 1492 1538 1569 1608 1641 1675 1730]\n"
     ]
    },
    {
     "data": {
      "application/vnd.jupyter.widget-view+json": {
       "model_id": "b13464357e5b4243962059fcb67f4b9f",
       "version_major": 2,
       "version_minor": 0
      },
      "text/plain": [
       "Canvas(toolbar=Toolbar(toolitems=[('Home', 'Reset original view', 'home', 'home'), ('Back', 'Back to previous …"
      ]
     },
     "metadata": {},
     "output_type": "display_data"
    },
    {
     "name": "stdout",
     "output_type": "stream",
     "text": [
      "0 3\n"
     ]
    },
    {
     "data": {
      "application/vnd.jupyter.widget-view+json": {
       "model_id": "ffb5cc5989864bca8fd1498f7ffd88f5",
       "version_major": 2,
       "version_minor": 0
      },
      "text/plain": [
       "Canvas(toolbar=Toolbar(toolitems=[('Home', 'Reset original view', 'home', 'home'), ('Back', 'Back to previous …"
      ]
     },
     "metadata": {},
     "output_type": "display_data"
    },
    {
     "name": "stdout",
     "output_type": "stream",
     "text": [
      "trueHSR_indices 43 [3, 45, 86, 126, 165, 207, 248, 290, 335, 373, 414, 450, 493, 534, 574, 613, 655, 697, 739, 782, 821, 862, 904, 945, 986, 1025, 1066, 1106, 1149, 1191, 1233, 1273, 1315, 1357, 1397, 1438, 1479, 1519, 1558, 1598, 1639, 1680, 1719]\n",
      "peaks 43 [  21   62  104  141  183  222  257  290  339  374  407  449  495  531\n",
      "  572  621  654  698  738  779  837  878  919  953  987 1021 1084 1123\n",
      " 1158 1198 1228 1260 1291 1324 1372 1410 1443 1492 1536 1595 1634 1675\n",
      " 1729]\n"
     ]
    },
    {
     "data": {
      "application/vnd.jupyter.widget-view+json": {
       "model_id": "e41c4c3cdba14d4fa78e9321a478942e",
       "version_major": 2,
       "version_minor": 0
      },
      "text/plain": [
       "Canvas(toolbar=Toolbar(toolitems=[('Home', 'Reset original view', 'home', 'home'), ('Back', 'Back to previous …"
      ]
     },
     "metadata": {},
     "output_type": "display_data"
    },
    {
     "name": "stdout",
     "output_type": "stream",
     "text": [
      "0 3\n"
     ]
    },
    {
     "data": {
      "application/vnd.jupyter.widget-view+json": {
       "model_id": "74a5b09b8482459d969811a8d2e24358",
       "version_major": 2,
       "version_minor": 0
      },
      "text/plain": [
       "Canvas(toolbar=Toolbar(toolitems=[('Home', 'Reset original view', 'home', 'home'), ('Back', 'Back to previous …"
      ]
     },
     "metadata": {},
     "output_type": "display_data"
    },
    {
     "name": "stdout",
     "output_type": "stream",
     "text": [
      "trueHSR_indices 43 [3, 45, 86, 126, 165, 207, 248, 290, 335, 373, 414, 450, 493, 534, 574, 613, 655, 697, 739, 782, 821, 862, 904, 945, 986, 1025, 1066, 1106, 1149, 1191, 1233, 1273, 1315, 1357, 1397, 1438, 1479, 1519, 1558, 1598, 1639, 1680, 1719]\n",
      "peaks 42 [  21   62  104  141  183  221  257  290  342  374  426  459  495  531\n",
      "  572  621  654  698  755  796  837  878  919  952 1000 1034 1064 1123\n",
      " 1164 1198 1228 1289 1333 1372 1410 1443 1492 1536 1595 1648 1686 1729]\n"
     ]
    },
    {
     "data": {
      "application/vnd.jupyter.widget-view+json": {
       "model_id": "bef11e7e964a4e5689ceee747f7221b4",
       "version_major": 2,
       "version_minor": 0
      },
      "text/plain": [
       "Canvas(toolbar=Toolbar(toolitems=[('Home', 'Reset original view', 'home', 'home'), ('Back', 'Back to previous …"
      ]
     },
     "metadata": {},
     "output_type": "display_data"
    },
    {
     "name": "stdout",
     "output_type": "stream",
     "text": [
      "GVS_410_W_T2\n",
      "[41, 83, 122, 163, 204, 243, 284, 327, 366, 405, 445, 485, 524, 564, 604, 645, 684, 722, 765, 806, 849, 889, 928, 968, 1007, 1047, 1085, 1124, 1163, 1201, 1241, 1282, 1323, 1365, 1406, 1448, 1490, 1532, 1574, 1616, 1658, 1700, 1744, 1787]\n",
      "0 0\n"
     ]
    },
    {
     "data": {
      "application/vnd.jupyter.widget-view+json": {
       "model_id": "19ce20c6245b453cb54f185989954e47",
       "version_major": 2,
       "version_minor": 0
      },
      "text/plain": [
       "Canvas(toolbar=Toolbar(toolitems=[('Home', 'Reset original view', 'home', 'home'), ('Back', 'Back to previous …"
      ]
     },
     "metadata": {},
     "output_type": "display_data"
    },
    {
     "name": "stdout",
     "output_type": "stream",
     "text": [
      "trueHSR_indices 43 [41, 83, 122, 163, 204, 243, 284, 327, 366, 405, 445, 485, 524, 564, 604, 645, 684, 722, 765, 806, 849, 889, 928, 968, 1007, 1047, 1085, 1124, 1163, 1201, 1241, 1282, 1323, 1365, 1406, 1448, 1490, 1532, 1574, 1616, 1658, 1700, 1744]\n",
      "peaks 44 [  19   62   99  136  171  204  253  297  346  383  427  464  495  545\n",
      "  575  617  654  694  747  786  826  872  911  948  989 1026 1069 1102\n",
      " 1147 1184 1219 1263 1303 1347 1386 1417 1458 1501 1554 1585 1628 1668\n",
      " 1712 1745]\n"
     ]
    },
    {
     "data": {
      "application/vnd.jupyter.widget-view+json": {
       "model_id": "e58cbd2080374d3b9d22c4e8f0a55b5f",
       "version_major": 2,
       "version_minor": 0
      },
      "text/plain": [
       "Canvas(toolbar=Toolbar(toolitems=[('Home', 'Reset original view', 'home', 'home'), ('Back', 'Back to previous …"
      ]
     },
     "metadata": {},
     "output_type": "display_data"
    },
    {
     "name": "stdout",
     "output_type": "stream",
     "text": [
      "0 0\n"
     ]
    },
    {
     "data": {
      "application/vnd.jupyter.widget-view+json": {
       "model_id": "9a404d9d30024c9abbdc9ff1585169a4",
       "version_major": 2,
       "version_minor": 0
      },
      "text/plain": [
       "Canvas(toolbar=Toolbar(toolitems=[('Home', 'Reset original view', 'home', 'home'), ('Back', 'Back to previous …"
      ]
     },
     "metadata": {},
     "output_type": "display_data"
    },
    {
     "name": "stdout",
     "output_type": "stream",
     "text": [
      "trueHSR_indices 43 [41, 83, 122, 163, 204, 243, 284, 327, 366, 405, 445, 485, 524, 564, 604, 645, 684, 722, 765, 806, 849, 889, 928, 968, 1007, 1047, 1085, 1124, 1163, 1201, 1241, 1282, 1323, 1365, 1406, 1448, 1490, 1532, 1574, 1616, 1658, 1700, 1744]\n",
      "peaks 44 [   6   61   98  139  171  209  252  300  341  380  414  459  498  539\n",
      "  579  619  658  699  739  781  823  863  902  942  972 1013 1044 1085\n",
      " 1139 1177 1215 1256 1290 1329 1380 1421 1465 1504 1541 1572 1631 1666\n",
      " 1697 1741]\n"
     ]
    },
    {
     "data": {
      "application/vnd.jupyter.widget-view+json": {
       "model_id": "b15a02c560c94686836b58532b0ea8ec",
       "version_major": 2,
       "version_minor": 0
      },
      "text/plain": [
       "Canvas(toolbar=Toolbar(toolitems=[('Home', 'Reset original view', 'home', 'home'), ('Back', 'Back to previous …"
      ]
     },
     "metadata": {},
     "output_type": "display_data"
    },
    {
     "name": "stdout",
     "output_type": "stream",
     "text": [
      "0 0\n"
     ]
    },
    {
     "data": {
      "application/vnd.jupyter.widget-view+json": {
       "model_id": "a3029d9b50d249ceb4cd4325bcb43777",
       "version_major": 2,
       "version_minor": 0
      },
      "text/plain": [
       "Canvas(toolbar=Toolbar(toolitems=[('Home', 'Reset original view', 'home', 'home'), ('Back', 'Back to previous …"
      ]
     },
     "metadata": {},
     "output_type": "display_data"
    },
    {
     "name": "stdout",
     "output_type": "stream",
     "text": [
      "trueHSR_indices 43 [41, 83, 122, 163, 204, 243, 284, 327, 366, 405, 445, 485, 524, 564, 604, 645, 684, 722, 765, 806, 849, 889, 928, 968, 1007, 1047, 1085, 1124, 1163, 1201, 1241, 1282, 1323, 1365, 1406, 1448, 1490, 1532, 1574, 1616, 1658, 1700, 1744]\n",
      "peaks 44 [   6   61   98  139  170  209  252  300  341  380  414  452  498  539\n",
      "  579  619  659  700  739  781  823  863  903  942  983 1013 1061 1092\n",
      " 1139 1177 1215 1256 1289 1329 1380 1421 1465 1505 1540 1572 1631 1666\n",
      " 1699 1741]\n"
     ]
    },
    {
     "data": {
      "application/vnd.jupyter.widget-view+json": {
       "model_id": "39a6e161d48849f6a075132a9e0264d8",
       "version_major": 2,
       "version_minor": 0
      },
      "text/plain": [
       "Canvas(toolbar=Toolbar(toolitems=[('Home', 'Reset original view', 'home', 'home'), ('Back', 'Back to previous …"
      ]
     },
     "metadata": {},
     "output_type": "display_data"
    },
    {
     "name": "stdout",
     "output_type": "stream",
     "text": [
      "GVS_411_W_T1\n",
      "[Errno 2] No such file or directory: 'C:\\\\Users\\\\purpl\\\\Box\\\\Gait Video Project\\\\GaitVideoData\\\\video\\\\multi_view_merged_data\\\\\\\\PD\\\\walking\\\\GVS_411_W_T1\\\\hip_height_normalized\\\\\\\\HSRframes.txt'\n",
      "GVS_411_W_T2\n",
      "[31, 61, 89, 119, 151, 182, 212, 240, 266, 296, 323, 351, 380, 408, 436, 463, 493, 520, 549, 577, 605, 634, 662, 692, 720, 750, 780, 809, 840, 870, 902, 933, 963, 994, 1024, 1055, 1087, 1117, 1148, 1180, 1209, 1238, 1267, 1295, 1323, 1351, 1380, 1408, 1436, 1464, 1493, 1520, 1548, 1575, 1604, 1632, 1661, 1690, 1717, 1745, 1772, 1801]\n",
      "0 15\n"
     ]
    },
    {
     "data": {
      "application/vnd.jupyter.widget-view+json": {
       "model_id": "d61bb7e675ce4e65859e87134df60102",
       "version_major": 2,
       "version_minor": 0
      },
      "text/plain": [
       "Canvas(toolbar=Toolbar(toolitems=[('Home', 'Reset original view', 'home', 'home'), ('Back', 'Back to previous …"
      ]
     },
     "metadata": {},
     "output_type": "display_data"
    },
    {
     "name": "stdout",
     "output_type": "stream",
     "text": [
      "trueHSR_indices 59 [31, 60, 88, 118, 150, 181, 211, 239, 265, 295, 322, 350, 379, 407, 434, 458, 488, 514, 543, 571, 599, 627, 655, 685, 712, 742, 769, 798, 828, 858, 888, 919, 949, 980, 1010, 1041, 1073, 1103, 1133, 1165, 1194, 1223, 1252, 1280, 1308, 1336, 1365, 1393, 1421, 1449, 1478, 1505, 1533, 1560, 1589, 1617, 1646, 1675, 1702]\n",
      "peaks 42 [  13   43   73  117  148  189  235  266  303  359  417  469  512  555\n",
      "  599  639  695  726  781  826  868  929  959  989 1023 1070 1108 1143\n",
      " 1173 1205 1259 1317 1363 1402 1433 1488 1542 1573 1626 1656 1688 1721]\n"
     ]
    },
    {
     "data": {
      "application/vnd.jupyter.widget-view+json": {
       "model_id": "0fe469405b3745e7ae4cd9bd81f1c30f",
       "version_major": 2,
       "version_minor": 0
      },
      "text/plain": [
       "Canvas(toolbar=Toolbar(toolitems=[('Home', 'Reset original view', 'home', 'home'), ('Back', 'Back to previous …"
      ]
     },
     "metadata": {},
     "output_type": "display_data"
    },
    {
     "name": "stdout",
     "output_type": "stream",
     "text": [
      "0 15\n"
     ]
    },
    {
     "data": {
      "application/vnd.jupyter.widget-view+json": {
       "model_id": "5be36201296d46df94329041d1409e50",
       "version_major": 2,
       "version_minor": 0
      },
      "text/plain": [
       "Canvas(toolbar=Toolbar(toolitems=[('Home', 'Reset original view', 'home', 'home'), ('Back', 'Back to previous …"
      ]
     },
     "metadata": {},
     "output_type": "display_data"
    },
    {
     "name": "stdout",
     "output_type": "stream",
     "text": [
      "trueHSR_indices 59 [31, 60, 88, 118, 150, 181, 211, 239, 265, 295, 322, 350, 379, 407, 434, 458, 488, 514, 543, 571, 599, 627, 655, 685, 712, 742, 769, 798, 828, 858, 888, 919, 949, 980, 1010, 1041, 1073, 1103, 1133, 1165, 1194, 1223, 1252, 1280, 1308, 1336, 1365, 1393, 1421, 1449, 1478, 1505, 1533, 1560, 1589, 1617, 1646, 1675, 1702]\n",
      "peaks 42 [  10   43   74  117  149  189  237  277  322  359  415  465  496  555\n",
      "  599  638  671  712  750  807  870  916  947  977 1007 1039 1099 1133\n",
      " 1191 1245 1278 1316 1363 1395 1433 1476 1513 1545 1597 1654 1688 1721]\n"
     ]
    },
    {
     "data": {
      "application/vnd.jupyter.widget-view+json": {
       "model_id": "65a25cf42d994883aa63780f8c97fc18",
       "version_major": 2,
       "version_minor": 0
      },
      "text/plain": [
       "Canvas(toolbar=Toolbar(toolitems=[('Home', 'Reset original view', 'home', 'home'), ('Back', 'Back to previous …"
      ]
     },
     "metadata": {},
     "output_type": "display_data"
    },
    {
     "name": "stdout",
     "output_type": "stream",
     "text": [
      "0 15\n"
     ]
    },
    {
     "data": {
      "application/vnd.jupyter.widget-view+json": {
       "model_id": "8f484b6a19db4b038737f8a7f0674afa",
       "version_major": 2,
       "version_minor": 0
      },
      "text/plain": [
       "Canvas(toolbar=Toolbar(toolitems=[('Home', 'Reset original view', 'home', 'home'), ('Back', 'Back to previous …"
      ]
     },
     "metadata": {},
     "output_type": "display_data"
    },
    {
     "name": "stdout",
     "output_type": "stream",
     "text": [
      "trueHSR_indices 59 [31, 60, 88, 118, 150, 181, 211, 239, 265, 295, 322, 350, 379, 407, 434, 458, 488, 514, 543, 571, 599, 627, 655, 685, 712, 742, 769, 798, 828, 858, 888, 919, 949, 980, 1010, 1041, 1073, 1103, 1133, 1165, 1194, 1223, 1252, 1280, 1308, 1336, 1365, 1393, 1421, 1449, 1478, 1505, 1533, 1560, 1589, 1617, 1646, 1675, 1702]\n",
      "peaks 40 [  10   43   74  117  149  179  237  278  308  359  415  465  496  555\n",
      "  599  638  668  698  750  807  870  916  947 1007 1054 1099 1133 1191\n",
      " 1245 1278 1334 1364 1395 1447 1513 1544 1597 1654 1688 1720]\n"
     ]
    },
    {
     "data": {
      "application/vnd.jupyter.widget-view+json": {
       "model_id": "ca23f87da6874bc999445ca2252d35e3",
       "version_major": 2,
       "version_minor": 0
      },
      "text/plain": [
       "Canvas(toolbar=Toolbar(toolitems=[('Home', 'Reset original view', 'home', 'home'), ('Back', 'Back to previous …"
      ]
     },
     "metadata": {},
     "output_type": "display_data"
    },
    {
     "name": "stdout",
     "output_type": "stream",
     "text": [
      "GVS_411_W_T3\n",
      "[Errno 2] No such file or directory: 'C:\\\\Users\\\\purpl\\\\Box\\\\Gait Video Project\\\\GaitVideoData\\\\video\\\\multi_view_merged_data\\\\\\\\PD\\\\walking\\\\GVS_411_W_T3\\\\hip_height_normalized\\\\\\\\HSRframes.txt'\n",
      "GVS_411_W_T4\n",
      "[Errno 2] No such file or directory: 'C:\\\\Users\\\\purpl\\\\Box\\\\Gait Video Project\\\\GaitVideoData\\\\video\\\\multi_view_merged_data\\\\\\\\PD\\\\walking\\\\GVS_411_W_T4\\\\hip_height_normalized\\\\\\\\HSRframes.txt'\n",
      "GVS_403_W_T2\n",
      "[Errno 2] No such file or directory: 'C:\\\\Users\\\\purpl\\\\Box\\\\Gait Video Project\\\\GaitVideoData\\\\video\\\\multi_view_merged_data\\\\\\\\ExtraHOA\\\\beam_walking\\\\GVS_403_W_T2\\\\hip_height_normalized\\\\\\\\HSRframes.txt'\n",
      "GVS_404_W_T1\n",
      "[Errno 2] No such file or directory: 'C:\\\\Users\\\\purpl\\\\Box\\\\Gait Video Project\\\\GaitVideoData\\\\video\\\\multi_view_merged_data\\\\\\\\ExtraHOA\\\\beam_walking\\\\GVS_404_W_T1\\\\hip_height_normalized\\\\\\\\HSRframes.txt'\n",
      "GVS_404_W_T2\n",
      "[Errno 2] No such file or directory: 'C:\\\\Users\\\\purpl\\\\Box\\\\Gait Video Project\\\\GaitVideoData\\\\video\\\\multi_view_merged_data\\\\\\\\ExtraHOA\\\\beam_walking\\\\GVS_404_W_T2\\\\hip_height_normalized\\\\\\\\HSRframes.txt'\n",
      "GVS_404_W_T3\n",
      "[Errno 2] No such file or directory: 'C:\\\\Users\\\\purpl\\\\Box\\\\Gait Video Project\\\\GaitVideoData\\\\video\\\\multi_view_merged_data\\\\\\\\ExtraHOA\\\\beam_walking\\\\GVS_404_W_T3\\\\hip_height_normalized\\\\\\\\HSRframes.txt'\n",
      "GVS_404_W_T4\n",
      "[Errno 2] No such file or directory: 'C:\\\\Users\\\\purpl\\\\Box\\\\Gait Video Project\\\\GaitVideoData\\\\video\\\\multi_view_merged_data\\\\\\\\ExtraHOA\\\\beam_walking\\\\GVS_404_W_T4\\\\hip_height_normalized\\\\\\\\HSRframes.txt'\n",
      "GVS_405_W_T1\n",
      "[Errno 2] No such file or directory: 'C:\\\\Users\\\\purpl\\\\Box\\\\Gait Video Project\\\\GaitVideoData\\\\video\\\\multi_view_merged_data\\\\\\\\ExtraHOA\\\\beam_walking\\\\GVS_405_W_T1\\\\hip_height_normalized\\\\\\\\HSRframes.txt'\n",
      "GVS_405_W_T2\n",
      "[Errno 2] No such file or directory: 'C:\\\\Users\\\\purpl\\\\Box\\\\Gait Video Project\\\\GaitVideoData\\\\video\\\\multi_view_merged_data\\\\\\\\ExtraHOA\\\\beam_walking\\\\GVS_405_W_T2\\\\hip_height_normalized\\\\\\\\HSRframes.txt'\n",
      "GVS_405_W_T3\n",
      "[Errno 2] No such file or directory: 'C:\\\\Users\\\\purpl\\\\Box\\\\Gait Video Project\\\\GaitVideoData\\\\video\\\\multi_view_merged_data\\\\\\\\ExtraHOA\\\\beam_walking\\\\GVS_405_W_T3\\\\hip_height_normalized\\\\\\\\HSRframes.txt'\n",
      "GVS_405_W_T4\n",
      "[Errno 2] No such file or directory: 'C:\\\\Users\\\\purpl\\\\Box\\\\Gait Video Project\\\\GaitVideoData\\\\video\\\\multi_view_merged_data\\\\\\\\ExtraHOA\\\\beam_walking\\\\GVS_405_W_T4\\\\hip_height_normalized\\\\\\\\HSRframes.txt'\n",
      "GVS_406_W_T1\n",
      "[Errno 2] No such file or directory: 'C:\\\\Users\\\\purpl\\\\Box\\\\Gait Video Project\\\\GaitVideoData\\\\video\\\\multi_view_merged_data\\\\\\\\ExtraHOA\\\\beam_walking\\\\GVS_406_W_T1\\\\hip_height_normalized\\\\\\\\HSRframes.txt'\n",
      "GVS_406_W_T2\n",
      "[Errno 2] No such file or directory: 'C:\\\\Users\\\\purpl\\\\Box\\\\Gait Video Project\\\\GaitVideoData\\\\video\\\\multi_view_merged_data\\\\\\\\ExtraHOA\\\\beam_walking\\\\GVS_406_W_T2\\\\hip_height_normalized\\\\\\\\HSRframes.txt'\n",
      "GVS_407_W_T1\n",
      "[Errno 2] No such file or directory: 'C:\\\\Users\\\\purpl\\\\Box\\\\Gait Video Project\\\\GaitVideoData\\\\video\\\\multi_view_merged_data\\\\\\\\ExtraHOA\\\\beam_walking\\\\GVS_407_W_T1\\\\hip_height_normalized\\\\\\\\HSRframes.txt'\n",
      "GVS_407_W_T2\n",
      "[Errno 2] No such file or directory: 'C:\\\\Users\\\\purpl\\\\Box\\\\Gait Video Project\\\\GaitVideoData\\\\video\\\\multi_view_merged_data\\\\\\\\ExtraHOA\\\\beam_walking\\\\GVS_407_W_T2\\\\hip_height_normalized\\\\\\\\HSRframes.txt'\n",
      "GVS_408_W_T1\n",
      "[Errno 2] No such file or directory: 'C:\\\\Users\\\\purpl\\\\Box\\\\Gait Video Project\\\\GaitVideoData\\\\video\\\\multi_view_merged_data\\\\\\\\ExtraHOA\\\\beam_walking\\\\GVS_408_W_T1\\\\hip_height_normalized\\\\\\\\HSRframes.txt'\n",
      "GVS_408_W_T2\n",
      "[Errno 2] No such file or directory: 'C:\\\\Users\\\\purpl\\\\Box\\\\Gait Video Project\\\\GaitVideoData\\\\video\\\\multi_view_merged_data\\\\\\\\ExtraHOA\\\\beam_walking\\\\GVS_408_W_T2\\\\hip_height_normalized\\\\\\\\HSRframes.txt'\n",
      "GVS_409_W_T1\n",
      "[Errno 2] No such file or directory: 'C:\\\\Users\\\\purpl\\\\Box\\\\Gait Video Project\\\\GaitVideoData\\\\video\\\\multi_view_merged_data\\\\\\\\ExtraHOA\\\\beam_walking\\\\GVS_409_W_T1\\\\hip_height_normalized\\\\\\\\HSRframes.txt'\n",
      "GVS_409_W_T2\n",
      "[Errno 2] No such file or directory: 'C:\\\\Users\\\\purpl\\\\Box\\\\Gait Video Project\\\\GaitVideoData\\\\video\\\\multi_view_merged_data\\\\\\\\ExtraHOA\\\\beam_walking\\\\GVS_409_W_T2\\\\hip_height_normalized\\\\\\\\HSRframes.txt'\n",
      "GVS_410_W_T1\n",
      "[Errno 2] No such file or directory: 'C:\\\\Users\\\\purpl\\\\Box\\\\Gait Video Project\\\\GaitVideoData\\\\video\\\\multi_view_merged_data\\\\\\\\ExtraHOA\\\\beam_walking\\\\GVS_410_W_T1\\\\hip_height_normalized\\\\\\\\HSRframes.txt'\n",
      "GVS_410_W_T2\n",
      "[Errno 2] No such file or directory: 'C:\\\\Users\\\\purpl\\\\Box\\\\Gait Video Project\\\\GaitVideoData\\\\video\\\\multi_view_merged_data\\\\\\\\ExtraHOA\\\\beam_walking\\\\GVS_410_W_T2\\\\hip_height_normalized\\\\\\\\HSRframes.txt'\n",
      "GVS_411_W_T1\n",
      "[Errno 2] No such file or directory: 'C:\\\\Users\\\\purpl\\\\Box\\\\Gait Video Project\\\\GaitVideoData\\\\video\\\\multi_view_merged_data\\\\\\\\ExtraHOA\\\\beam_walking\\\\GVS_411_W_T1\\\\hip_height_normalized\\\\\\\\HSRframes.txt'\n",
      "GVS_411_W_T2\n",
      "[Errno 2] No such file or directory: 'C:\\\\Users\\\\purpl\\\\Box\\\\Gait Video Project\\\\GaitVideoData\\\\video\\\\multi_view_merged_data\\\\\\\\ExtraHOA\\\\beam_walking\\\\GVS_411_W_T2\\\\hip_height_normalized\\\\\\\\HSRframes.txt'\n",
      "GVS_411_W_T3\n",
      "[Errno 2] No such file or directory: 'C:\\\\Users\\\\purpl\\\\Box\\\\Gait Video Project\\\\GaitVideoData\\\\video\\\\multi_view_merged_data\\\\\\\\ExtraHOA\\\\beam_walking\\\\GVS_411_W_T3\\\\hip_height_normalized\\\\\\\\HSRframes.txt'\n",
      "GVS_411_W_T4\n",
      "[Errno 2] No such file or directory: 'C:\\\\Users\\\\purpl\\\\Box\\\\Gait Video Project\\\\GaitVideoData\\\\video\\\\multi_view_merged_data\\\\\\\\ExtraHOA\\\\beam_walking\\\\GVS_411_W_T4\\\\hip_height_normalized\\\\\\\\HSRframes.txt'\n",
      "GVS_102_W_T1\n",
      "[20, 58, 96, 136, 177, 215, 255, 295, 332, 371, 412, 451, 490, 529, 568, 609, 650, 689, 728, 767, 809, 848, 887, 926, 963, 1005, 1044, 1083, 1122, 1160, 1199, 1238, 1277, 1315, 1355, 1396, 1433, 1474, 1512, 1554, 1591, 1629, 1670, 1710, 1747, 1787, 1827, 1869, 1909, 1948, 1988, 2028, 2068, 2107, 2147, 2187, 2226, 2265, 2307, 2346, 2387, 2426, 2467, 2507, 2548, 2587, 2627, 2667, 2706, 2745, 2785, 2824, 2863, 2904, 2944, 2984, 3024, 3064, 3104, 3144, 3182, 3222, 3262, 3302, 3340, 3380, 3418, 3458, 3498, 3537, 3578]\n",
      "0 39\n"
     ]
    },
    {
     "data": {
      "application/vnd.jupyter.widget-view+json": {
       "model_id": "550d1c8f0a9a4280afe43bd78c3bac82",
       "version_major": 2,
       "version_minor": 0
      },
      "text/plain": [
       "Canvas(toolbar=Toolbar(toolitems=[('Home', 'Reset original view', 'home', 'home'), ('Back', 'Back to previous …"
      ]
     },
     "metadata": {},
     "output_type": "display_data"
    },
    {
     "name": "stdout",
     "output_type": "stream",
     "text": [
      "trueHSR_indices 90 [20, 58, 96, 136, 177, 214, 252, 292, 329, 368, 407, 446, 485, 524, 563, 604, 645, 683, 722, 759, 800, 838, 877, 916, 951, 993, 1032, 1107, 1145, 1184, 1223, 1261, 1299, 1339, 1380, 1416, 1457, 1495, 1537, 1573, 1611, 1652, 1691, 1727, 1766, 1806, 1848, 1888, 1927, 1967, 2007, 2047, 2086, 2126, 2164, 2203, 2242, 2284, 2323, 2363, 2402, 2443, 2481, 2521, 2559, 2598, 2638, 2677, 2715, 2755, 2794, 2832, 2872, 2912, 2952, 2991, 3031, 3070, 3110, 3148, 3188, 3227, 3267, 3305, 3343, 3381, 3421, 3459, 3498, 3539]\n",
      "peaks 91 [  22   60  103  142  183  223  254  290  329  368  406  446  488  532\n",
      "  566  604  647  685  723  760  798  846  880  915  953  993 1033 1068\n",
      " 1110 1145 1187 1223 1268 1304 1338 1378 1427 1465 1505 1535 1575 1612\n",
      " 1659 1691 1728 1773 1808 1847 1887 1926 1967 2005 2046 2087 2126 2169\n",
      " 2204 2246 2283 2324 2363 2402 2443 2482 2521 2560 2600 2639 2677 2716\n",
      " 2757 2800 2835 2881 2913 2956 2993 3034 3070 3110 3151 3189 3228 3269\n",
      " 3312 3344 3382 3423 3468 3510 3540]\n"
     ]
    },
    {
     "data": {
      "application/vnd.jupyter.widget-view+json": {
       "model_id": "ad42937ba01947c084f6aa4ac343b097",
       "version_major": 2,
       "version_minor": 0
      },
      "text/plain": [
       "Canvas(toolbar=Toolbar(toolitems=[('Home', 'Reset original view', 'home', 'home'), ('Back', 'Back to previous …"
      ]
     },
     "metadata": {},
     "output_type": "display_data"
    },
    {
     "name": "stdout",
     "output_type": "stream",
     "text": [
      "0 39\n"
     ]
    },
    {
     "data": {
      "application/vnd.jupyter.widget-view+json": {
       "model_id": "0e33fb5929354cad91a5b1fd077b4524",
       "version_major": 2,
       "version_minor": 0
      },
      "text/plain": [
       "Canvas(toolbar=Toolbar(toolitems=[('Home', 'Reset original view', 'home', 'home'), ('Back', 'Back to previous …"
      ]
     },
     "metadata": {},
     "output_type": "display_data"
    },
    {
     "name": "stdout",
     "output_type": "stream",
     "text": [
      "trueHSR_indices 90 [20, 58, 96, 136, 177, 214, 252, 292, 329, 368, 407, 446, 485, 524, 563, 604, 645, 683, 722, 759, 800, 838, 877, 916, 951, 993, 1032, 1107, 1145, 1184, 1223, 1261, 1299, 1339, 1380, 1416, 1457, 1495, 1537, 1573, 1611, 1652, 1691, 1727, 1766, 1806, 1848, 1888, 1927, 1967, 2007, 2047, 2086, 2126, 2164, 2203, 2242, 2284, 2323, 2363, 2402, 2443, 2481, 2521, 2559, 2598, 2638, 2677, 2715, 2755, 2794, 2832, 2872, 2912, 2952, 2991, 3031, 3070, 3110, 3148, 3188, 3227, 3267, 3305, 3343, 3381, 3421, 3459, 3498, 3539]\n",
      "peaks 91 [  23   57  104  141  183  218  257  295  335  374  413  452  484  529\n",
      "  571  610  651  690  727  765  804  839  882  920  958  998 1038 1073\n",
      " 1112 1150 1193 1228 1265 1303 1343 1385 1422 1463 1498 1541 1578 1617\n",
      " 1656 1694 1732 1776 1811 1858 1891 1932 1971 2011 2052 2091 2132 2172\n",
      " 2209 2249 2288 2329 2368 2408 2447 2486 2530 2561 2603 2646 2678 2720\n",
      " 2764 2799 2840 2878 2918 2958 2996 3037 3075 3114 3154 3195 3233 3272\n",
      " 3312 3348 3387 3427 3465 3499 3546]\n"
     ]
    },
    {
     "data": {
      "application/vnd.jupyter.widget-view+json": {
       "model_id": "91d0ed5b8d6043a397acbeb563b75614",
       "version_major": 2,
       "version_minor": 0
      },
      "text/plain": [
       "Canvas(toolbar=Toolbar(toolitems=[('Home', 'Reset original view', 'home', 'home'), ('Back', 'Back to previous …"
      ]
     },
     "metadata": {},
     "output_type": "display_data"
    },
    {
     "name": "stdout",
     "output_type": "stream",
     "text": [
      "0 39\n"
     ]
    },
    {
     "data": {
      "application/vnd.jupyter.widget-view+json": {
       "model_id": "25ae04039263421cab2da4c89cf593fa",
       "version_major": 2,
       "version_minor": 0
      },
      "text/plain": [
       "Canvas(toolbar=Toolbar(toolitems=[('Home', 'Reset original view', 'home', 'home'), ('Back', 'Back to previous …"
      ]
     },
     "metadata": {},
     "output_type": "display_data"
    },
    {
     "name": "stdout",
     "output_type": "stream",
     "text": [
      "trueHSR_indices 90 [20, 58, 96, 136, 177, 214, 252, 292, 329, 368, 407, 446, 485, 524, 563, 604, 645, 683, 722, 759, 800, 838, 877, 916, 951, 993, 1032, 1107, 1145, 1184, 1223, 1261, 1299, 1339, 1380, 1416, 1457, 1495, 1537, 1573, 1611, 1652, 1691, 1727, 1766, 1806, 1848, 1888, 1927, 1967, 2007, 2047, 2086, 2126, 2164, 2203, 2242, 2284, 2323, 2363, 2402, 2443, 2481, 2521, 2559, 2598, 2638, 2677, 2715, 2755, 2794, 2832, 2872, 2912, 2952, 2991, 3031, 3070, 3110, 3148, 3188, 3227, 3267, 3305, 3343, 3381, 3421, 3459, 3498, 3539]\n",
      "peaks 89 [  24   63  104  142  183  218  258  295  334  373  413  454  484  532\n",
      "  565  605  645  684  722  768  800  849  886  926  964 1006 1044 1080\n",
      " 1120 1154 1190 1225 1269 1306 1346 1386 1418 1469 1501 1536 1574 1611\n",
      " 1664 1728 1779 1818 1859 1895 1927 1965 2005 2047 2083 2136 2167 2205\n",
      " 2255 2294 2334 2373 2414 2454 2491 2526 2557 2608 2646 2683 2723 2763\n",
      " 2806 2840 2881 2924 2954 3004 3044 3110 3147 3188 3237 3268 3304 3353\n",
      " 3388 3423 3457 3501 3538]\n"
     ]
    },
    {
     "data": {
      "application/vnd.jupyter.widget-view+json": {
       "model_id": "b79c8c8e502642d8b95351d84049eeea",
       "version_major": 2,
       "version_minor": 0
      },
      "text/plain": [
       "Canvas(toolbar=Toolbar(toolitems=[('Home', 'Reset original view', 'home', 'home'), ('Back', 'Back to previous …"
      ]
     },
     "metadata": {},
     "output_type": "display_data"
    },
    {
     "name": "stdout",
     "output_type": "stream",
     "text": [
      "GVS_112_W_T1\n",
      "[33, 70, 106, 143, 179, 217, 253, 289, 327, 364, 402, 440, 476, 514, 551, 587, 624, 662, 697, 734, 771, 807, 844, 881, 918, 953, 990, 1028, 1066, 1103, 1140, 1177, 1213, 1250, 1287, 1323, 1361, 1399, 1435, 1472, 1510, 1547, 1585, 1621, 1659, 1696, 1733, 1768, 1803, 1840, 1875, 1910, 1945, 1979, 2016, 2051, 2087, 2123, 2160, 2196, 2232, 2269, 2304, 2340, 2377, 2414, 2451, 2487, 2523, 2559, 2596, 2632, 2668, 2704, 2740, 2777, 2812, 2849, 2885, 2921, 2958, 2994, 3032, 3068, 3105, 3142, 3179, 3215, 3252, 3290, 3325, 3364, 3400, 3436, 3473, 3510, 3547, 3584]\n",
      "0 1\n"
     ]
    },
    {
     "data": {
      "application/vnd.jupyter.widget-view+json": {
       "model_id": "58dc22c35142432691898fc22367df15",
       "version_major": 2,
       "version_minor": 0
      },
      "text/plain": [
       "Canvas(toolbar=Toolbar(toolitems=[('Home', 'Reset original view', 'home', 'home'), ('Back', 'Back to previous …"
      ]
     },
     "metadata": {},
     "output_type": "display_data"
    },
    {
     "name": "stdout",
     "output_type": "stream",
     "text": [
      "trueHSR_indices 98 [33, 70, 106, 143, 179, 217, 253, 289, 327, 364, 402, 439, 475, 513, 550, 586, 623, 661, 696, 733, 770, 806, 843, 880, 917, 952, 989, 1027, 1065, 1102, 1139, 1176, 1212, 1249, 1286, 1322, 1360, 1398, 1434, 1471, 1509, 1546, 1584, 1620, 1658, 1695, 1732, 1767, 1802, 1839, 1874, 1909, 1944, 1978, 2015, 2050, 2086, 2122, 2159, 2195, 2231, 2268, 2303, 2339, 2376, 2413, 2450, 2486, 2522, 2558, 2595, 2631, 2667, 2703, 2739, 2776, 2811, 2848, 2884, 2920, 2957, 2993, 3031, 3067, 3104, 3141, 3178, 3214, 3251, 3289, 3324, 3363, 3399, 3435, 3472, 3509, 3546, 3583]\n",
      "peaks 96 [  41   75  112  149  186  222  257  294  332  370  408  442  480  517\n",
      "  556  591  625  665  701  739  772  811  848  884  921  957  994 1032\n",
      " 1070 1108 1145 1180 1216 1253 1290 1329 1365 1402 1438 1477 1513 1551\n",
      " 1588 1625 1664 1698 1737 1772 1808 1843 1879 1913 1946 1983 2017 2055\n",
      " 2090 2127 2163 2218 2271 2310 2345 2381 2418 2455 2491 2544 2599 2636\n",
      " 2672 2708 2744 2780 2816 2852 2888 2923 2962 2998 3036 3071 3110 3146\n",
      " 3182 3219 3256 3293 3330 3365 3404 3440 3478 3514 3551 3588]\n"
     ]
    },
    {
     "data": {
      "application/vnd.jupyter.widget-view+json": {
       "model_id": "629323fb5e8a44fe82c5274de1ce5dd9",
       "version_major": 2,
       "version_minor": 0
      },
      "text/plain": [
       "Canvas(toolbar=Toolbar(toolitems=[('Home', 'Reset original view', 'home', 'home'), ('Back', 'Back to previous …"
      ]
     },
     "metadata": {},
     "output_type": "display_data"
    },
    {
     "name": "stdout",
     "output_type": "stream",
     "text": [
      "0 1\n"
     ]
    },
    {
     "data": {
      "application/vnd.jupyter.widget-view+json": {
       "model_id": "183043e6e7b842b79e1e2fcb765e4137",
       "version_major": 2,
       "version_minor": 0
      },
      "text/plain": [
       "Canvas(toolbar=Toolbar(toolitems=[('Home', 'Reset original view', 'home', 'home'), ('Back', 'Back to previous …"
      ]
     },
     "metadata": {},
     "output_type": "display_data"
    },
    {
     "name": "stdout",
     "output_type": "stream",
     "text": [
      "trueHSR_indices 98 [33, 70, 106, 143, 179, 217, 253, 289, 327, 364, 402, 439, 475, 513, 550, 586, 623, 661, 696, 733, 770, 806, 843, 880, 917, 952, 989, 1027, 1065, 1102, 1139, 1176, 1212, 1249, 1286, 1322, 1360, 1398, 1434, 1471, 1509, 1546, 1584, 1620, 1658, 1695, 1732, 1767, 1802, 1839, 1874, 1909, 1944, 1978, 2015, 2050, 2086, 2122, 2159, 2195, 2231, 2268, 2303, 2339, 2376, 2413, 2450, 2486, 2522, 2558, 2595, 2631, 2667, 2703, 2739, 2776, 2811, 2848, 2884, 2920, 2957, 2993, 3031, 3067, 3104, 3141, 3178, 3214, 3251, 3289, 3324, 3363, 3399, 3435, 3472, 3509, 3546, 3583]\n",
      "peaks 98 [  37   75  111  148  186  222  258  295  332  369  407  444  480  518\n",
      "  555  592  630  665  700  739  775  811  848  885  922  958  994 1032\n",
      " 1070 1108 1145 1180 1216 1253 1292 1327 1365 1403 1439 1477 1513 1551\n",
      " 1588 1625 1663 1699 1737 1772 1808 1843 1879 1915 1946 1984 2022 2055\n",
      " 2091 2127 2163 2200 2237 2273 2309 2345 2381 2418 2454 2492 2528 2564\n",
      " 2600 2636 2672 2709 2744 2780 2817 2853 2888 2925 2962 2998 3035 3072\n",
      " 3110 3147 3183 3220 3257 3294 3331 3368 3404 3441 3478 3515 3551 3588]\n"
     ]
    },
    {
     "data": {
      "application/vnd.jupyter.widget-view+json": {
       "model_id": "35feecb2a28743148ba7a9706deb341d",
       "version_major": 2,
       "version_minor": 0
      },
      "text/plain": [
       "Canvas(toolbar=Toolbar(toolitems=[('Home', 'Reset original view', 'home', 'home'), ('Back', 'Back to previous …"
      ]
     },
     "metadata": {},
     "output_type": "display_data"
    },
    {
     "name": "stdout",
     "output_type": "stream",
     "text": [
      "0 1\n"
     ]
    },
    {
     "data": {
      "application/vnd.jupyter.widget-view+json": {
       "model_id": "664b0f86caf54fdab55eb1832675c472",
       "version_major": 2,
       "version_minor": 0
      },
      "text/plain": [
       "Canvas(toolbar=Toolbar(toolitems=[('Home', 'Reset original view', 'home', 'home'), ('Back', 'Back to previous …"
      ]
     },
     "metadata": {},
     "output_type": "display_data"
    },
    {
     "name": "stdout",
     "output_type": "stream",
     "text": [
      "trueHSR_indices 98 [33, 70, 106, 143, 179, 217, 253, 289, 327, 364, 402, 439, 475, 513, 550, 586, 623, 661, 696, 733, 770, 806, 843, 880, 917, 952, 989, 1027, 1065, 1102, 1139, 1176, 1212, 1249, 1286, 1322, 1360, 1398, 1434, 1471, 1509, 1546, 1584, 1620, 1658, 1695, 1732, 1767, 1802, 1839, 1874, 1909, 1944, 1978, 2015, 2050, 2086, 2122, 2159, 2195, 2231, 2268, 2303, 2339, 2376, 2413, 2450, 2486, 2522, 2558, 2595, 2631, 2667, 2703, 2739, 2776, 2811, 2848, 2884, 2920, 2957, 2993, 3031, 3067, 3104, 3141, 3178, 3214, 3251, 3289, 3324, 3363, 3399, 3435, 3472, 3509, 3546, 3583]\n",
      "peaks 97 [  37   75  111  148  186  222  258  295  332  369  407  444  480  518\n",
      "  555  592  630  665  700  739  775  811  848  885  922  958  994 1032\n",
      " 1070 1108 1145 1180 1216 1253 1292 1327 1365 1403 1438 1477 1513 1551\n",
      " 1588 1625 1663 1700 1737 1772 1808 1843 1879 1914 1946 1984 2018 2055\n",
      " 2091 2127 2163 2200 2237 2273 2309 2345 2381 2418 2454 2492 2545 2600\n",
      " 2636 2672 2708 2744 2780 2817 2853 2888 2925 2962 2998 3035 3072 3110\n",
      " 3147 3183 3220 3257 3294 3331 3368 3404 3441 3478 3515 3551 3588]\n"
     ]
    },
    {
     "data": {
      "application/vnd.jupyter.widget-view+json": {
       "model_id": "242e4436208a441cb1e5fe46aef37ef2",
       "version_major": 2,
       "version_minor": 0
      },
      "text/plain": [
       "Canvas(toolbar=Toolbar(toolitems=[('Home', 'Reset original view', 'home', 'home'), ('Back', 'Back to previous …"
      ]
     },
     "metadata": {},
     "output_type": "display_data"
    },
    {
     "name": "stdout",
     "output_type": "stream",
     "text": [
      "GVS_113_W_T1\n",
      "[47, 84, 122, 160, 198, 228, 262, 301, 339, 376, 412, 446, 483, 520, 557, 593, 628, 666, 701, 736, 768, 805, 841, 873, 908, 944, 979, 1016, 1048, 1083, 1116, 1152, 1188, 1224, 1258, 1293, 1327, 1361, 1398, 1434, 1468, 1504, 1541, 1576, 1610, 1643, 1676, 1712, 1748, 1785, 1817, 1853, 1890, 1926, 1962, 1997, 2031, 2068]\n",
      "0 0\n"
     ]
    },
    {
     "data": {
      "application/vnd.jupyter.widget-view+json": {
       "model_id": "4198feae18504343bd9e96303ad07fee",
       "version_major": 2,
       "version_minor": 0
      },
      "text/plain": [
       "Canvas(toolbar=Toolbar(toolitems=[('Home', 'Reset original view', 'home', 'home'), ('Back', 'Back to previous …"
      ]
     },
     "metadata": {},
     "output_type": "display_data"
    },
    {
     "name": "stdout",
     "output_type": "stream",
     "text": [
      "trueHSR_indices 58 [47, 84, 122, 160, 198, 228, 262, 301, 339, 376, 412, 446, 483, 520, 557, 593, 628, 666, 701, 736, 768, 805, 841, 873, 908, 944, 979, 1016, 1048, 1083, 1116, 1152, 1188, 1224, 1258, 1293, 1327, 1361, 1398, 1434, 1468, 1504, 1541, 1576, 1610, 1643, 1676, 1712, 1748, 1785, 1817, 1853, 1890, 1926, 1962, 1997, 2031, 2068]\n",
      "peaks 58 [  14   52   89  124  165  231  266  305  341  380  416  450  487  525\n",
      "  561  597  631  671  703  740  771  808  843  877  910  947  981 1016\n",
      " 1052 1086 1118 1155 1190 1227 1260 1294 1330 1364 1400 1438 1470 1509\n",
      " 1544 1577 1614 1646 1681 1716 1751 1789 1819 1856 1892 1929 1965 2001\n",
      " 2035 2073]\n"
     ]
    },
    {
     "data": {
      "application/vnd.jupyter.widget-view+json": {
       "model_id": "6076a43f3daa4e9db7a63dc4474edea2",
       "version_major": 2,
       "version_minor": 0
      },
      "text/plain": [
       "Canvas(toolbar=Toolbar(toolitems=[('Home', 'Reset original view', 'home', 'home'), ('Back', 'Back to previous …"
      ]
     },
     "metadata": {},
     "output_type": "display_data"
    },
    {
     "name": "stdout",
     "output_type": "stream",
     "text": [
      "0 0\n"
     ]
    },
    {
     "data": {
      "application/vnd.jupyter.widget-view+json": {
       "model_id": "17e017927d2b49c4962fa4b9b25584b1",
       "version_major": 2,
       "version_minor": 0
      },
      "text/plain": [
       "Canvas(toolbar=Toolbar(toolitems=[('Home', 'Reset original view', 'home', 'home'), ('Back', 'Back to previous …"
      ]
     },
     "metadata": {},
     "output_type": "display_data"
    },
    {
     "name": "stdout",
     "output_type": "stream",
     "text": [
      "trueHSR_indices 58 [47, 84, 122, 160, 198, 228, 262, 301, 339, 376, 412, 446, 483, 520, 557, 593, 628, 666, 701, 736, 768, 805, 841, 873, 908, 944, 979, 1016, 1048, 1083, 1116, 1152, 1188, 1224, 1258, 1293, 1327, 1361, 1398, 1434, 1468, 1504, 1541, 1576, 1610, 1643, 1676, 1712, 1748, 1785, 1817, 1853, 1890, 1926, 1962, 1997, 2031, 2068]\n",
      "peaks 59 [  11   51   87  125  165  202  232  266  305  342  379  416  450  487\n",
      "  524  561  597  631  670  703  740  771  808  842  877  912  947  981\n",
      " 1016 1051 1086 1120 1156 1191 1227 1261 1296 1330 1364 1401 1437 1471\n",
      " 1508 1543 1578 1613 1645 1680 1716 1752 1789 1821 1858 1894 1929 1965\n",
      " 2001 2034 2072]\n"
     ]
    },
    {
     "data": {
      "application/vnd.jupyter.widget-view+json": {
       "model_id": "b5b7b39066cc49ac872ff6336c2e301e",
       "version_major": 2,
       "version_minor": 0
      },
      "text/plain": [
       "Canvas(toolbar=Toolbar(toolitems=[('Home', 'Reset original view', 'home', 'home'), ('Back', 'Back to previous …"
      ]
     },
     "metadata": {},
     "output_type": "display_data"
    },
    {
     "name": "stdout",
     "output_type": "stream",
     "text": [
      "0 0\n"
     ]
    },
    {
     "data": {
      "application/vnd.jupyter.widget-view+json": {
       "model_id": "58103f5ce1c148fea184c6ca91c68745",
       "version_major": 2,
       "version_minor": 0
      },
      "text/plain": [
       "Canvas(toolbar=Toolbar(toolitems=[('Home', 'Reset original view', 'home', 'home'), ('Back', 'Back to previous …"
      ]
     },
     "metadata": {},
     "output_type": "display_data"
    },
    {
     "name": "stdout",
     "output_type": "stream",
     "text": [
      "trueHSR_indices 58 [47, 84, 122, 160, 198, 228, 262, 301, 339, 376, 412, 446, 483, 520, 557, 593, 628, 666, 701, 736, 768, 805, 841, 873, 908, 944, 979, 1016, 1048, 1083, 1116, 1152, 1188, 1224, 1258, 1293, 1327, 1361, 1398, 1434, 1468, 1504, 1541, 1576, 1610, 1643, 1676, 1712, 1748, 1785, 1817, 1853, 1890, 1926, 1962, 1997, 2031, 2068]\n",
      "peaks 59 [  11   51   88  125  165  202  232  266  305  342  380  416  450  487\n",
      "  524  561  597  632  670  704  740  771  808  842  877  912  947  981\n",
      " 1016 1052 1086 1120 1156 1191 1227 1262 1296 1330 1365 1401 1437 1471\n",
      " 1508 1543 1578 1614 1645 1680 1716 1752 1789 1821 1858 1894 1929 1965\n",
      " 2001 2034 2072]\n"
     ]
    },
    {
     "data": {
      "application/vnd.jupyter.widget-view+json": {
       "model_id": "de140604369a462cb0d8001b17ff677b",
       "version_major": 2,
       "version_minor": 0
      },
      "text/plain": [
       "Canvas(toolbar=Toolbar(toolitems=[('Home', 'Reset original view', 'home', 'home'), ('Back', 'Back to previous …"
      ]
     },
     "metadata": {},
     "output_type": "display_data"
    },
    {
     "name": "stdout",
     "output_type": "stream",
     "text": [
      "GVS_115_W_T1\n",
      "[3, 38, 76, 107, 140, 172, 202, 235, 263, 292, 321, 351, 380, 410, 439, 468, 497, 526, 554, 583, 612, 640, 669, 698, 727, 755, 784, 813, 841, 869, 898, 927, 955, 983, 1012, 1040, 1069, 1097, 1126, 1154, 1183, 1212, 1240, 1268, 1297, 1326, 1354, 1383, 1412, 1440, 1468, 1498, 1526, 1554, 1583, 1611, 1640, 1668, 1696, 1725, 1754, 1782, 1810, 1839, 1867, 1896, 1924, 1952, 1982, 2010, 2038, 2067, 2095, 2124, 2152, 2181, 2210, 2237, 2265, 2295, 2323, 2352, 2380]\n",
      "0 0\n"
     ]
    },
    {
     "data": {
      "application/vnd.jupyter.widget-view+json": {
       "model_id": "e3c1283f3ecc4d4dbc7e77a6dc7f8154",
       "version_major": 2,
       "version_minor": 0
      },
      "text/plain": [
       "Canvas(toolbar=Toolbar(toolitems=[('Home', 'Reset original view', 'home', 'home'), ('Back', 'Back to previous …"
      ]
     },
     "metadata": {},
     "output_type": "display_data"
    },
    {
     "name": "stdout",
     "output_type": "stream",
     "text": [
      "trueHSR_indices 83 [3, 38, 76, 107, 140, 172, 202, 235, 263, 292, 321, 351, 380, 410, 439, 468, 497, 526, 554, 583, 612, 640, 669, 698, 727, 755, 784, 813, 841, 869, 898, 927, 955, 983, 1012, 1040, 1069, 1097, 1126, 1154, 1183, 1212, 1240, 1268, 1297, 1326, 1354, 1383, 1412, 1440, 1468, 1498, 1526, 1554, 1583, 1611, 1640, 1668, 1696, 1725, 1754, 1782, 1810, 1839, 1867, 1896, 1924, 1952, 1982, 2010, 2038, 2067, 2095, 2124, 2152, 2181, 2210, 2237, 2265, 2295, 2323, 2352, 2380]\n",
      "peaks 52 [   5   40   78  110  144  176  206  237  267  325  355  414  470  529\n",
      "  561  616  699  759  791  843  900  931  987 1046 1129 1160 1212 1242\n",
      " 1273 1329 1386 1441 1472 1528 1558 1588 1642 1699 1730 1784 1841 1876\n",
      " 1928 1959 2015 2071 2157 2210 2242 2296 2326 2384]\n"
     ]
    },
    {
     "data": {
      "application/vnd.jupyter.widget-view+json": {
       "model_id": "c459689e211145e79fef3742f57c6113",
       "version_major": 2,
       "version_minor": 0
      },
      "text/plain": [
       "Canvas(toolbar=Toolbar(toolitems=[('Home', 'Reset original view', 'home', 'home'), ('Back', 'Back to previous …"
      ]
     },
     "metadata": {},
     "output_type": "display_data"
    },
    {
     "name": "stdout",
     "output_type": "stream",
     "text": [
      "0 0\n"
     ]
    },
    {
     "data": {
      "application/vnd.jupyter.widget-view+json": {
       "model_id": "50853399699b443ebbb2d07ebd8e5647",
       "version_major": 2,
       "version_minor": 0
      },
      "text/plain": [
       "Canvas(toolbar=Toolbar(toolitems=[('Home', 'Reset original view', 'home', 'home'), ('Back', 'Back to previous …"
      ]
     },
     "metadata": {},
     "output_type": "display_data"
    },
    {
     "name": "stdout",
     "output_type": "stream",
     "text": [
      "trueHSR_indices 83 [3, 38, 76, 107, 140, 172, 202, 235, 263, 292, 321, 351, 380, 410, 439, 468, 497, 526, 554, 583, 612, 640, 669, 698, 727, 755, 784, 813, 841, 869, 898, 927, 955, 983, 1012, 1040, 1069, 1097, 1126, 1154, 1183, 1212, 1240, 1268, 1297, 1326, 1354, 1383, 1412, 1440, 1468, 1498, 1526, 1554, 1583, 1611, 1640, 1668, 1696, 1725, 1754, 1782, 1810, 1839, 1867, 1896, 1924, 1952, 1982, 2010, 2038, 2067, 2095, 2124, 2152, 2181, 2210, 2237, 2265, 2295, 2323, 2352, 2380]\n",
      "peaks 49 [   8   43   79  113  145  177  208  267  326  414  471  502  559  616\n",
      "  670  703  759  789  844  901  958  988 1045 1104 1157 1212 1243 1273\n",
      " 1329 1385 1442 1473 1529 1587 1642 1699 1730 1813 1843 1898 1929 1985\n",
      " 2041 2100 2155 2242 2296 2327 2385]\n"
     ]
    },
    {
     "data": {
      "application/vnd.jupyter.widget-view+json": {
       "model_id": "b62ee6b94584469397e1feca04ae2b58",
       "version_major": 2,
       "version_minor": 0
      },
      "text/plain": [
       "Canvas(toolbar=Toolbar(toolitems=[('Home', 'Reset original view', 'home', 'home'), ('Back', 'Back to previous …"
      ]
     },
     "metadata": {},
     "output_type": "display_data"
    },
    {
     "name": "stdout",
     "output_type": "stream",
     "text": [
      "0 0\n"
     ]
    },
    {
     "data": {
      "application/vnd.jupyter.widget-view+json": {
       "model_id": "082eb09599e144b1b67d4fe8b3a09335",
       "version_major": 2,
       "version_minor": 0
      },
      "text/plain": [
       "Canvas(toolbar=Toolbar(toolitems=[('Home', 'Reset original view', 'home', 'home'), ('Back', 'Back to previous …"
      ]
     },
     "metadata": {},
     "output_type": "display_data"
    },
    {
     "name": "stdout",
     "output_type": "stream",
     "text": [
      "trueHSR_indices 83 [3, 38, 76, 107, 140, 172, 202, 235, 263, 292, 321, 351, 380, 410, 439, 468, 497, 526, 554, 583, 612, 640, 669, 698, 727, 755, 784, 813, 841, 869, 898, 927, 955, 983, 1012, 1040, 1069, 1097, 1126, 1154, 1183, 1212, 1240, 1268, 1297, 1326, 1354, 1383, 1412, 1440, 1468, 1498, 1526, 1554, 1583, 1611, 1640, 1668, 1696, 1725, 1754, 1782, 1810, 1839, 1867, 1896, 1924, 1952, 1982, 2010, 2038, 2067, 2095, 2124, 2152, 2181, 2210, 2237, 2265, 2295, 2323, 2352, 2380]\n",
      "peaks 47 [   8   43   79  112  145  177  208  267  326  414  470  530  584  616\n",
      "  672  703  759  789  843  930  987 1044 1098 1157 1213 1243 1273 1329\n",
      " 1386 1442 1473 1529 1587 1644 1699 1759 1842 1898 1928 1985 2041 2071\n",
      " 2155 2242 2296 2326 2385]\n"
     ]
    },
    {
     "data": {
      "application/vnd.jupyter.widget-view+json": {
       "model_id": "fa4a70ebf0c5496b8651f05971257e9f",
       "version_major": 2,
       "version_minor": 0
      },
      "text/plain": [
       "Canvas(toolbar=Toolbar(toolitems=[('Home', 'Reset original view', 'home', 'home'), ('Back', 'Back to previous …"
      ]
     },
     "metadata": {},
     "output_type": "display_data"
    },
    {
     "name": "stdout",
     "output_type": "stream",
     "text": [
      "GVS_123_W_T1\n",
      "[30, 63, 96, 129, 162, 196, 230, 263, 296, 329, 363, 396, 429, 461, 494, 528, 562, 598, 633, 667, 702, 738, 774, 810, 844, 880, 916, 952, 987, 1022, 1058, 1091, 1127, 1161, 1194, 1228, 1263, 1297, 1330, 1364, 1398, 1432, 1466, 1500, 1534, 1569, 1603, 1636, 1671, 1704, 1738, 1772, 1804, 1839, 1873, 1905, 1939, 1972, 2005, 2038, 2071, 2105, 2139, 2173, 2206, 2240, 2273, 2306, 2338, 2372, 2405, 2436, 2470, 2502, 2536, 2568, 2601, 2635, 2667, 2700, 2734, 2767, 2800, 2834, 2867, 2902, 2935, 2968, 3001, 3035, 3067, 3101, 3133, 3165, 3198, 3231, 3264, 3297, 3331, 3363, 3396, 3428, 3459, 3492, 3526, 3560, 3591, 3624, 3657, 3688, 3721, 3752, 3786, 3819, 3852, 3884, 3917, 3949, 3982]\n",
      "0 0\n"
     ]
    },
    {
     "data": {
      "application/vnd.jupyter.widget-view+json": {
       "model_id": "40fafee65cb24a4aa8b044a3dab88dc6",
       "version_major": 2,
       "version_minor": 0
      },
      "text/plain": [
       "Canvas(toolbar=Toolbar(toolitems=[('Home', 'Reset original view', 'home', 'home'), ('Back', 'Back to previous …"
      ]
     },
     "metadata": {},
     "output_type": "display_data"
    },
    {
     "name": "stdout",
     "output_type": "stream",
     "text": [
      "trueHSR_indices 119 [30, 63, 96, 129, 162, 196, 230, 263, 296, 329, 363, 396, 429, 461, 494, 528, 562, 598, 633, 667, 702, 738, 774, 810, 844, 880, 916, 952, 987, 1022, 1058, 1091, 1127, 1161, 1194, 1228, 1263, 1297, 1330, 1364, 1398, 1432, 1466, 1500, 1534, 1569, 1603, 1636, 1671, 1704, 1738, 1772, 1804, 1839, 1873, 1905, 1939, 1972, 2005, 2038, 2071, 2105, 2139, 2173, 2206, 2240, 2273, 2306, 2338, 2372, 2405, 2436, 2470, 2502, 2536, 2568, 2601, 2635, 2667, 2700, 2734, 2767, 2800, 2834, 2867, 2902, 2935, 2968, 3001, 3035, 3067, 3101, 3133, 3165, 3198, 3231, 3264, 3297, 3331, 3363, 3396, 3428, 3459, 3492, 3526, 3560, 3591, 3624, 3657, 3688, 3721, 3752, 3786, 3819, 3852, 3884, 3917, 3949, 3982]\n",
      "peaks 119 [  32   66  100  132  165  199  233  266  300  332  365  397  431  465\n",
      "  497  532  566  600  636  668  707  742  778  814  848  883  920  954\n",
      "  990 1025 1060 1095 1127 1163 1198 1230 1265 1299 1334 1366 1400 1434\n",
      " 1468 1502 1537 1572 1605 1639 1673 1707 1741 1772 1806 1839 1876 1908\n",
      " 1942 1975 2008 2042 2073 2108 2141 2175 2208 2242 2274 2306 2341 2372\n",
      " 2406 2438 2472 2505 2538 2570 2602 2636 2670 2702 2736 2769 2801 2837\n",
      " 2871 2904 2936 2969 3003 3036 3069 3102 3135 3168 3201 3234 3266 3299\n",
      " 3331 3364 3398 3430 3463 3494 3527 3560 3594 3625 3658 3691 3723 3755\n",
      " 3787 3820 3853 3885 3918 3951 3982]\n"
     ]
    },
    {
     "data": {
      "application/vnd.jupyter.widget-view+json": {
       "model_id": "d219e0b9a5364e26ab273c9245134148",
       "version_major": 2,
       "version_minor": 0
      },
      "text/plain": [
       "Canvas(toolbar=Toolbar(toolitems=[('Home', 'Reset original view', 'home', 'home'), ('Back', 'Back to previous …"
      ]
     },
     "metadata": {},
     "output_type": "display_data"
    },
    {
     "name": "stdout",
     "output_type": "stream",
     "text": [
      "0 0\n"
     ]
    },
    {
     "data": {
      "application/vnd.jupyter.widget-view+json": {
       "model_id": "52387c3005914c4fb9a2b283051a95a7",
       "version_major": 2,
       "version_minor": 0
      },
      "text/plain": [
       "Canvas(toolbar=Toolbar(toolitems=[('Home', 'Reset original view', 'home', 'home'), ('Back', 'Back to previous …"
      ]
     },
     "metadata": {},
     "output_type": "display_data"
    },
    {
     "name": "stdout",
     "output_type": "stream",
     "text": [
      "trueHSR_indices 119 [30, 63, 96, 129, 162, 196, 230, 263, 296, 329, 363, 396, 429, 461, 494, 528, 562, 598, 633, 667, 702, 738, 774, 810, 844, 880, 916, 952, 987, 1022, 1058, 1091, 1127, 1161, 1194, 1228, 1263, 1297, 1330, 1364, 1398, 1432, 1466, 1500, 1534, 1569, 1603, 1636, 1671, 1704, 1738, 1772, 1804, 1839, 1873, 1905, 1939, 1972, 2005, 2038, 2071, 2105, 2139, 2173, 2206, 2240, 2273, 2306, 2338, 2372, 2405, 2436, 2470, 2502, 2536, 2568, 2601, 2635, 2667, 2700, 2734, 2767, 2800, 2834, 2867, 2902, 2935, 2968, 3001, 3035, 3067, 3101, 3133, 3165, 3198, 3231, 3264, 3297, 3331, 3363, 3396, 3428, 3459, 3492, 3526, 3560, 3591, 3624, 3657, 3688, 3721, 3752, 3786, 3819, 3852, 3884, 3917, 3949, 3982]\n",
      "peaks 119 [  33   66   99  131  166  200  232  265  299  332  365  398  432  465\n",
      "  498  531  565  601  635  670  706  742  778  813  848  883  919  954\n",
      "  990 1024 1060 1094 1129 1163 1197 1231 1265 1299 1333 1367 1399 1433\n",
      " 1469 1502 1535 1571 1605 1639 1674 1707 1740 1774 1807 1840 1875 1907\n",
      " 1941 1975 2007 2040 2074 2108 2141 2175 2209 2241 2274 2307 2340 2373\n",
      " 2406 2439 2472 2505 2538 2571 2603 2637 2670 2703 2736 2769 2803 2836\n",
      " 2869 2903 2936 2969 3002 3035 3068 3101 3134 3167 3200 3233 3266 3299\n",
      " 3331 3364 3397 3430 3462 3495 3528 3561 3593 3626 3658 3691 3723 3755\n",
      " 3788 3820 3853 3886 3918 3950 3983]\n"
     ]
    },
    {
     "data": {
      "application/vnd.jupyter.widget-view+json": {
       "model_id": "bdd0e57dddfb40e89b04d71dde458e22",
       "version_major": 2,
       "version_minor": 0
      },
      "text/plain": [
       "Canvas(toolbar=Toolbar(toolitems=[('Home', 'Reset original view', 'home', 'home'), ('Back', 'Back to previous …"
      ]
     },
     "metadata": {},
     "output_type": "display_data"
    },
    {
     "name": "stdout",
     "output_type": "stream",
     "text": [
      "0 0\n"
     ]
    },
    {
     "data": {
      "application/vnd.jupyter.widget-view+json": {
       "model_id": "dc999eaae54841e29c2ff2f6b70cfda3",
       "version_major": 2,
       "version_minor": 0
      },
      "text/plain": [
       "Canvas(toolbar=Toolbar(toolitems=[('Home', 'Reset original view', 'home', 'home'), ('Back', 'Back to previous …"
      ]
     },
     "metadata": {},
     "output_type": "display_data"
    },
    {
     "name": "stdout",
     "output_type": "stream",
     "text": [
      "trueHSR_indices 119 [30, 63, 96, 129, 162, 196, 230, 263, 296, 329, 363, 396, 429, 461, 494, 528, 562, 598, 633, 667, 702, 738, 774, 810, 844, 880, 916, 952, 987, 1022, 1058, 1091, 1127, 1161, 1194, 1228, 1263, 1297, 1330, 1364, 1398, 1432, 1466, 1500, 1534, 1569, 1603, 1636, 1671, 1704, 1738, 1772, 1804, 1839, 1873, 1905, 1939, 1972, 2005, 2038, 2071, 2105, 2139, 2173, 2206, 2240, 2273, 2306, 2338, 2372, 2405, 2436, 2470, 2502, 2536, 2568, 2601, 2635, 2667, 2700, 2734, 2767, 2800, 2834, 2867, 2902, 2935, 2968, 3001, 3035, 3067, 3101, 3133, 3165, 3198, 3231, 3264, 3297, 3331, 3363, 3396, 3428, 3459, 3492, 3526, 3560, 3591, 3624, 3657, 3688, 3721, 3752, 3786, 3819, 3852, 3884, 3917, 3949, 3982]\n",
      "peaks 119 [  33   66   99  131  166  199  232  265  299  332  365  398  431  465\n",
      "  498  532  565  600  635  670  705  742  778  813  848  882  918  954\n",
      "  990 1024 1060 1094 1129 1163 1197 1231 1265 1299 1333 1366 1399 1433\n",
      " 1468 1502 1535 1571 1604 1639 1673 1707 1740 1774 1807 1840 1875 1908\n",
      " 1941 1975 2007 2040 2073 2108 2141 2175 2208 2241 2274 2307 2340 2373\n",
      " 2406 2439 2471 2504 2538 2570 2603 2637 2670 2703 2736 2769 2803 2836\n",
      " 2870 2903 2936 2969 3002 3035 3068 3101 3134 3167 3200 3233 3266 3299\n",
      " 3331 3364 3397 3430 3462 3495 3528 3561 3593 3626 3658 3691 3723 3755\n",
      " 3788 3820 3853 3885 3918 3950 3983]\n"
     ]
    },
    {
     "data": {
      "application/vnd.jupyter.widget-view+json": {
       "model_id": "fe6e8ac26dbd4ac0914812c9d8a35995",
       "version_major": 2,
       "version_minor": 0
      },
      "text/plain": [
       "Canvas(toolbar=Toolbar(toolitems=[('Home', 'Reset original view', 'home', 'home'), ('Back', 'Back to previous …"
      ]
     },
     "metadata": {},
     "output_type": "display_data"
    },
    {
     "name": "stdout",
     "output_type": "stream",
     "text": [
      "GVS_124_W_T1\n",
      "[9, 63, 124, 184, 244, 302, 357, 413, 467, 521, 573, 622, 675, 719, 760, 803, 850, 892, 939, 985, 1029, 1073, 1118, 1162, 1208, 1255, 1300, 1344, 1388, 1434, 1479, 1525, 1569, 1613, 1661, 1707, 1751, 1796, 1841, 1886, 1933, 1977, 2023, 2067, 2113, 2158, 2203, 2247, 2292, 2338, 2382, 2424, 2467, 2511, 2555, 2596, 2639, 2682, 2724, 2767, 2810, 2853, 2893, 2935, 2976]\n",
      "0 0\n"
     ]
    },
    {
     "data": {
      "application/vnd.jupyter.widget-view+json": {
       "model_id": "c4b6cdc01f2a4572a7a47206d8482516",
       "version_major": 2,
       "version_minor": 0
      },
      "text/plain": [
       "Canvas(toolbar=Toolbar(toolitems=[('Home', 'Reset original view', 'home', 'home'), ('Back', 'Back to previous …"
      ]
     },
     "metadata": {},
     "output_type": "display_data"
    },
    {
     "name": "stdout",
     "output_type": "stream",
     "text": [
      "trueHSR_indices 65 [9, 63, 124, 184, 244, 302, 357, 413, 467, 521, 573, 622, 675, 719, 760, 803, 850, 892, 939, 985, 1029, 1073, 1118, 1162, 1208, 1255, 1300, 1344, 1388, 1434, 1479, 1525, 1569, 1613, 1661, 1707, 1751, 1796, 1841, 1886, 1933, 1977, 2023, 2067, 2113, 2158, 2203, 2247, 2292, 2338, 2382, 2424, 2467, 2511, 2555, 2596, 2639, 2682, 2724, 2767, 2810, 2853, 2893, 2935, 2976]\n",
      "peaks 64 [  14   69  131  185  245  307  362  416  472  524  579  622  679  720\n",
      "  761  807  850  893  943  985 1033 1076 1119 1167 1211 1260 1303 1348\n",
      " 1394 1436 1481 1529 1572 1619 1664 1711 1755 1798 1845 1889 1935 1980\n",
      " 2024 2070 2115 2159 2207 2248 2294 2339 2384 2428 2471 2516 2558 2600\n",
      " 2642 2684 2726 2768 2812 2855 2897 2937]\n"
     ]
    },
    {
     "data": {
      "application/vnd.jupyter.widget-view+json": {
       "model_id": "15467c68514f45f9bced40739d4dd6a4",
       "version_major": 2,
       "version_minor": 0
      },
      "text/plain": [
       "Canvas(toolbar=Toolbar(toolitems=[('Home', 'Reset original view', 'home', 'home'), ('Back', 'Back to previous …"
      ]
     },
     "metadata": {},
     "output_type": "display_data"
    },
    {
     "name": "stdout",
     "output_type": "stream",
     "text": [
      "0 0\n"
     ]
    },
    {
     "data": {
      "application/vnd.jupyter.widget-view+json": {
       "model_id": "6ec2fca0220a4b48900a5c47d51bacd2",
       "version_major": 2,
       "version_minor": 0
      },
      "text/plain": [
       "Canvas(toolbar=Toolbar(toolitems=[('Home', 'Reset original view', 'home', 'home'), ('Back', 'Back to previous …"
      ]
     },
     "metadata": {},
     "output_type": "display_data"
    },
    {
     "name": "stdout",
     "output_type": "stream",
     "text": [
      "trueHSR_indices 65 [9, 63, 124, 184, 244, 302, 357, 413, 467, 521, 573, 622, 675, 719, 760, 803, 850, 892, 939, 985, 1029, 1073, 1118, 1162, 1208, 1255, 1300, 1344, 1388, 1434, 1479, 1525, 1569, 1613, 1661, 1707, 1751, 1796, 1841, 1886, 1933, 1977, 2023, 2067, 2113, 2158, 2203, 2247, 2292, 2338, 2382, 2424, 2467, 2511, 2555, 2596, 2639, 2682, 2724, 2767, 2810, 2853, 2893, 2935, 2976]\n",
      "peaks 64 [  12   65  121  191  248  308  361  420  470  525  578  623  679  721\n",
      "  762  807  853  900  944  987 1032 1075 1122 1167 1213 1259 1304 1347\n",
      " 1394 1438 1484 1531 1574 1618 1666 1711 1756 1800 1846 1892 1937 1981\n",
      " 2026 2072 2115 2160 2207 2252 2297 2342 2387 2428 2472 2514 2559 2600\n",
      " 2644 2686 2729 2771 2812 2856 2898 2940]\n"
     ]
    },
    {
     "data": {
      "application/vnd.jupyter.widget-view+json": {
       "model_id": "38a991961f4147bba409093a5d901585",
       "version_major": 2,
       "version_minor": 0
      },
      "text/plain": [
       "Canvas(toolbar=Toolbar(toolitems=[('Home', 'Reset original view', 'home', 'home'), ('Back', 'Back to previous …"
      ]
     },
     "metadata": {},
     "output_type": "display_data"
    },
    {
     "name": "stdout",
     "output_type": "stream",
     "text": [
      "0 0\n"
     ]
    },
    {
     "data": {
      "application/vnd.jupyter.widget-view+json": {
       "model_id": "eee4b3d862374128b35234d285ec9fdf",
       "version_major": 2,
       "version_minor": 0
      },
      "text/plain": [
       "Canvas(toolbar=Toolbar(toolitems=[('Home', 'Reset original view', 'home', 'home'), ('Back', 'Back to previous …"
      ]
     },
     "metadata": {},
     "output_type": "display_data"
    },
    {
     "name": "stdout",
     "output_type": "stream",
     "text": [
      "trueHSR_indices 65 [9, 63, 124, 184, 244, 302, 357, 413, 467, 521, 573, 622, 675, 719, 760, 803, 850, 892, 939, 985, 1029, 1073, 1118, 1162, 1208, 1255, 1300, 1344, 1388, 1434, 1479, 1525, 1569, 1613, 1661, 1707, 1751, 1796, 1841, 1886, 1933, 1977, 2023, 2067, 2113, 2158, 2203, 2247, 2292, 2338, 2382, 2424, 2467, 2511, 2555, 2596, 2639, 2682, 2724, 2767, 2810, 2853, 2893, 2935, 2976]\n",
      "peaks 64 [  14   68  121  191  248  308  361  419  470  525  579  623  680  721\n",
      "  762  807  853  900  944  987 1033 1075 1122 1167 1213 1259 1304 1347\n",
      " 1394 1438 1484 1531 1574 1618 1665 1711 1756 1800 1845 1892 1937 1981\n",
      " 2026 2071 2115 2160 2207 2252 2296 2342 2387 2428 2472 2514 2559 2599\n",
      " 2644 2686 2729 2771 2812 2856 2899 2940]\n"
     ]
    },
    {
     "data": {
      "application/vnd.jupyter.widget-view+json": {
       "model_id": "ab7aaa1df9cf4f7b979f97048a5a10e9",
       "version_major": 2,
       "version_minor": 0
      },
      "text/plain": [
       "Canvas(toolbar=Toolbar(toolitems=[('Home', 'Reset original view', 'home', 'home'), ('Back', 'Back to previous …"
      ]
     },
     "metadata": {},
     "output_type": "display_data"
    }
   ],
   "source": [
    "labels = ['frame_number'] + [o + '-'+ y for o in order for y in ['x', 'y', 'z']]\n",
    "cols = ['video', 'heel_mean_error', 'heel_std_error', 'heel_abs_mean_error', 'heel_abs_std_error', \\\n",
    "       'toe1_mean_error', 'toe1_std_error', 'toe1_abs_mean_error', 'toe1_abs_std_error', \\\n",
    "       'toe2_mean_error', 'toe2_std_error', 'toe2_abs_mean_error', 'toe2_abs_std_error']\n",
    "dataframe_error_stats = pd.DataFrame(columns = cols)\n",
    "\n",
    "for cohort in cohorts:\n",
    "    for trial in trials:\n",
    "        merged_path = frame_path_merged+cohort+trial \n",
    "        if (os.path.exists(merged_path)):\n",
    "            videos = os.listdir(merged_path)\n",
    "#             print (len(videos))\n",
    "        for video in videos:\n",
    "            try:\n",
    "                print (video)\n",
    "                #Reading the ground truth HSR frames numbers\n",
    "                trueHSR = open(merged_path+'\\\\'+video+'\\\\hip_height_normalized\\\\'+'\\\\HSRframes.txt').read()\n",
    "                #Making a list containing ground truth HSRs out of the read file\n",
    "                trueHSR_list = [int(a) for a in trueHSR.split(',')]\n",
    "                print (trueHSR_list)\n",
    "\n",
    "                frames = glob.glob(merged_path+'\\\\'+video+'\\\\hip_height_normalized\\\\*.csv')\n",
    "                #First, we need to sort the frames since we need frames to appear in order to detect HSRs\n",
    "                sorted_frames = sorted(frames,  key=lambda name: int(name.split('\\\\')[-1][:-4]))\n",
    "                #Dataframe to hold all 12*3 features (right hip-x, right hip-y, ...) as columns and all frames as rows \n",
    "                #for each video \n",
    "                video_features = pd.DataFrame(columns = labels)\n",
    "                for frame in sorted_frames:\n",
    "                    #Append the frame number also in the temp dataframe, since it the true HSR is given in frame number\n",
    "                    frame_no = int(frame.split('\\\\')[-1][:-4])\n",
    "                    frame_csv = pd.read_csv(frame, index_col = 0)\n",
    "                    #Appending the 36 features and frame number of each frame as a row for each video's dataframe \n",
    "                    video_features.loc[len(video_features)] = np.append(frame_no, frame_csv[['x', 'y', 'z']].values.flatten())\n",
    "                video_features = video_features.astype({'frame_number': 'int'})\n",
    "                #Setting the frame number as the index \n",
    "                video_features.set_index('frame_number', inplace = True)\n",
    "#                 display(video_features)\n",
    "\n",
    "                #If some frames are missing, appending those rows with NaN values \n",
    "                video_features_complete = video_features.reindex(range(video_features.index[-1]))\n",
    "                #Indices for the ground truth HSR in the video_features dataframe (not containing placeholders for \n",
    "                #the missing frames)\n",
    "                trueHSR_indices = [i for i, val in enumerate(video_features.index) if val in trueHSR_list] \n",
    "                #Indices for the ground truth HSR in the video_features_complete dataframe (containing NaN valued placeholders for \n",
    "                #the missing frames)\n",
    "                trueHSR_indices_complete = [i for i, val in enumerate(video_features_complete.index) if val in trueHSR_list] \n",
    "                heel_error_stats, toe1_error_stats, toe2_error_stats = feature_plots(video_features, video_features_complete)\n",
    "                dataframe_error_stats.loc[len(dataframe_error_stats)] = [video]+ heel_error_stats + toe1_error_stats + toe2_error_stats\n",
    "            except Exception as e:\n",
    "                print (e)\n",
    "dataframe_error_stats.to_csv('dataframe_error_stats_HSR_identification_cutoff0.2.csv')"
   ]
  },
  {
   "cell_type": "code",
   "execution_count": 121,
   "metadata": {},
   "outputs": [
    {
     "data": {
      "text/plain": [
       "heel_mean_error         3.601103\n",
       "heel_std_error         11.461905\n",
       "heel_abs_mean_error     9.903092\n",
       "heel_abs_std_error      7.919262\n",
       "toe1_mean_error         4.171872\n",
       "toe1_std_error         10.983309\n",
       "toe1_abs_mean_error     9.692363\n",
       "toe1_abs_std_error      7.812334\n",
       "toe2_mean_error         3.988749\n",
       "toe2_std_error         10.703722\n",
       "toe2_abs_mean_error     9.389973\n",
       "toe2_abs_std_error      7.681196\n",
       "dtype: float64"
      ]
     },
     "execution_count": 121,
     "metadata": {},
     "output_type": "execute_result"
    }
   ],
   "source": [
    "dataframe_error_stats.mean() #cutoff 0.3"
   ]
  },
  {
   "cell_type": "code",
   "execution_count": 22,
   "metadata": {},
   "outputs": [],
   "source": [
    "#Do we need the missing frame information \n",
    "#We might need to annotate the ground truth HSR frames in the plot \n",
    "#https://stackoverflow.com/questions/14432557/matplotlib-scatter-plot-with-different-text-at-each-data-point\n",
    "#For any algorithm to find the HSR's, we might need to fill missing values in the series we are using to detect HSR\n",
    "#The ground truth HSR markers are not shown when the values are NAN- solve?\n",
    "\n"
   ]
  },
  {
   "cell_type": "code",
   "execution_count": 21,
   "metadata": {
    "scrolled": true
   },
   "outputs": [
    {
     "data": {
      "text/html": [
       "<div>\n",
       "<style scoped>\n",
       "    .dataframe tbody tr th:only-of-type {\n",
       "        vertical-align: middle;\n",
       "    }\n",
       "\n",
       "    .dataframe tbody tr th {\n",
       "        vertical-align: top;\n",
       "    }\n",
       "\n",
       "    .dataframe thead th {\n",
       "        text-align: right;\n",
       "    }\n",
       "</style>\n",
       "<table border=\"1\" class=\"dataframe\">\n",
       "  <thead>\n",
       "    <tr style=\"text-align: right;\">\n",
       "      <th></th>\n",
       "      <th>right hip-x</th>\n",
       "      <th>right hip-y</th>\n",
       "      <th>right hip-z</th>\n",
       "      <th>right knee-x</th>\n",
       "      <th>right knee-y</th>\n",
       "      <th>right knee-z</th>\n",
       "      <th>right ankle-x</th>\n",
       "      <th>right ankle-y</th>\n",
       "      <th>right ankle-z</th>\n",
       "      <th>left hip-x</th>\n",
       "      <th>...</th>\n",
       "      <th>left heel-z</th>\n",
       "      <th>right toe 1-x</th>\n",
       "      <th>right toe 1-y</th>\n",
       "      <th>right toe 1-z</th>\n",
       "      <th>right toe 2-x</th>\n",
       "      <th>right toe 2-y</th>\n",
       "      <th>right toe 2-z</th>\n",
       "      <th>right heel-x</th>\n",
       "      <th>right heel-y</th>\n",
       "      <th>right heel-z</th>\n",
       "    </tr>\n",
       "    <tr>\n",
       "      <th>frame_number</th>\n",
       "      <th></th>\n",
       "      <th></th>\n",
       "      <th></th>\n",
       "      <th></th>\n",
       "      <th></th>\n",
       "      <th></th>\n",
       "      <th></th>\n",
       "      <th></th>\n",
       "      <th></th>\n",
       "      <th></th>\n",
       "      <th></th>\n",
       "      <th></th>\n",
       "      <th></th>\n",
       "      <th></th>\n",
       "      <th></th>\n",
       "      <th></th>\n",
       "      <th></th>\n",
       "      <th></th>\n",
       "      <th></th>\n",
       "      <th></th>\n",
       "      <th></th>\n",
       "    </tr>\n",
       "  </thead>\n",
       "  <tbody>\n",
       "    <tr>\n",
       "      <th>53</th>\n",
       "      <td>37.048133</td>\n",
       "      <td>146.451724</td>\n",
       "      <td>100.24585</td>\n",
       "      <td>36.356229</td>\n",
       "      <td>138.623370</td>\n",
       "      <td>82.602680</td>\n",
       "      <td>34.803705</td>\n",
       "      <td>123.244309</td>\n",
       "      <td>12.885191</td>\n",
       "      <td>11.237682</td>\n",
       "      <td>...</td>\n",
       "      <td>13.492850</td>\n",
       "      <td>39.657276</td>\n",
       "      <td>142.701991</td>\n",
       "      <td>0.000095</td>\n",
       "      <td>42.057920</td>\n",
       "      <td>139.010111</td>\n",
       "      <td>2.455036</td>\n",
       "      <td>32.509905</td>\n",
       "      <td>129.407018</td>\n",
       "      <td>8.792484</td>\n",
       "    </tr>\n",
       "    <tr>\n",
       "      <th>100</th>\n",
       "      <td>39.074558</td>\n",
       "      <td>129.882936</td>\n",
       "      <td>100.00000</td>\n",
       "      <td>33.794004</td>\n",
       "      <td>135.428224</td>\n",
       "      <td>90.817186</td>\n",
       "      <td>32.443192</td>\n",
       "      <td>142.257810</td>\n",
       "      <td>16.296373</td>\n",
       "      <td>13.566014</td>\n",
       "      <td>...</td>\n",
       "      <td>6.369884</td>\n",
       "      <td>36.258862</td>\n",
       "      <td>166.856018</td>\n",
       "      <td>0.000083</td>\n",
       "      <td>37.589039</td>\n",
       "      <td>163.603924</td>\n",
       "      <td>2.160192</td>\n",
       "      <td>30.502734</td>\n",
       "      <td>148.731697</td>\n",
       "      <td>11.998443</td>\n",
       "    </tr>\n",
       "    <tr>\n",
       "      <th>139</th>\n",
       "      <td>36.820152</td>\n",
       "      <td>128.769127</td>\n",
       "      <td>100.00000</td>\n",
       "      <td>32.092320</td>\n",
       "      <td>148.742838</td>\n",
       "      <td>94.864718</td>\n",
       "      <td>32.647042</td>\n",
       "      <td>168.016627</td>\n",
       "      <td>12.099557</td>\n",
       "      <td>6.272163</td>\n",
       "      <td>...</td>\n",
       "      <td>6.406413</td>\n",
       "      <td>32.593489</td>\n",
       "      <td>186.266721</td>\n",
       "      <td>0.000083</td>\n",
       "      <td>36.882348</td>\n",
       "      <td>184.024354</td>\n",
       "      <td>1.499800</td>\n",
       "      <td>31.394341</td>\n",
       "      <td>173.434898</td>\n",
       "      <td>8.503569</td>\n",
       "    </tr>\n",
       "    <tr>\n",
       "      <th>180</th>\n",
       "      <td>37.551827</td>\n",
       "      <td>128.745619</td>\n",
       "      <td>100.00000</td>\n",
       "      <td>34.658947</td>\n",
       "      <td>138.520406</td>\n",
       "      <td>90.134863</td>\n",
       "      <td>33.357162</td>\n",
       "      <td>147.590420</td>\n",
       "      <td>14.128858</td>\n",
       "      <td>8.518414</td>\n",
       "      <td>...</td>\n",
       "      <td>18.099223</td>\n",
       "      <td>38.514812</td>\n",
       "      <td>168.925415</td>\n",
       "      <td>0.000083</td>\n",
       "      <td>41.301464</td>\n",
       "      <td>164.610357</td>\n",
       "      <td>2.869353</td>\n",
       "      <td>30.567825</td>\n",
       "      <td>150.906839</td>\n",
       "      <td>11.921651</td>\n",
       "    </tr>\n",
       "    <tr>\n",
       "      <th>217</th>\n",
       "      <td>38.339703</td>\n",
       "      <td>130.495360</td>\n",
       "      <td>100.00000</td>\n",
       "      <td>32.186540</td>\n",
       "      <td>130.781715</td>\n",
       "      <td>89.025650</td>\n",
       "      <td>31.009072</td>\n",
       "      <td>142.292728</td>\n",
       "      <td>11.401710</td>\n",
       "      <td>12.136953</td>\n",
       "      <td>...</td>\n",
       "      <td>37.677862</td>\n",
       "      <td>29.434787</td>\n",
       "      <td>159.483218</td>\n",
       "      <td>0.000083</td>\n",
       "      <td>35.165033</td>\n",
       "      <td>157.227221</td>\n",
       "      <td>1.513235</td>\n",
       "      <td>31.142704</td>\n",
       "      <td>146.571348</td>\n",
       "      <td>8.565510</td>\n",
       "    </tr>\n",
       "    <tr>\n",
       "      <th>301</th>\n",
       "      <td>38.312743</td>\n",
       "      <td>129.309013</td>\n",
       "      <td>100.00000</td>\n",
       "      <td>34.221073</td>\n",
       "      <td>126.831025</td>\n",
       "      <td>87.932107</td>\n",
       "      <td>32.599775</td>\n",
       "      <td>126.146770</td>\n",
       "      <td>18.391939</td>\n",
       "      <td>13.747978</td>\n",
       "      <td>...</td>\n",
       "      <td>13.390751</td>\n",
       "      <td>39.442292</td>\n",
       "      <td>153.919775</td>\n",
       "      <td>0.000083</td>\n",
       "      <td>40.107495</td>\n",
       "      <td>151.719196</td>\n",
       "      <td>1.461037</td>\n",
       "      <td>28.414938</td>\n",
       "      <td>131.601595</td>\n",
       "      <td>14.762770</td>\n",
       "    </tr>\n",
       "    <tr>\n",
       "      <th>346</th>\n",
       "      <td>35.264289</td>\n",
       "      <td>125.281756</td>\n",
       "      <td>100.00000</td>\n",
       "      <td>32.912077</td>\n",
       "      <td>130.762056</td>\n",
       "      <td>88.247174</td>\n",
       "      <td>32.377453</td>\n",
       "      <td>140.096116</td>\n",
       "      <td>12.068455</td>\n",
       "      <td>8.422134</td>\n",
       "      <td>...</td>\n",
       "      <td>24.712305</td>\n",
       "      <td>35.219363</td>\n",
       "      <td>158.312626</td>\n",
       "      <td>0.000083</td>\n",
       "      <td>38.807329</td>\n",
       "      <td>156.038923</td>\n",
       "      <td>1.518436</td>\n",
       "      <td>31.121635</td>\n",
       "      <td>145.496496</td>\n",
       "      <td>8.484320</td>\n",
       "    </tr>\n",
       "    <tr>\n",
       "      <th>387</th>\n",
       "      <td>38.993032</td>\n",
       "      <td>128.124045</td>\n",
       "      <td>100.00000</td>\n",
       "      <td>34.632111</td>\n",
       "      <td>138.523948</td>\n",
       "      <td>87.974323</td>\n",
       "      <td>34.814677</td>\n",
       "      <td>147.554275</td>\n",
       "      <td>11.999158</td>\n",
       "      <td>10.640862</td>\n",
       "      <td>...</td>\n",
       "      <td>15.536359</td>\n",
       "      <td>38.355923</td>\n",
       "      <td>172.570379</td>\n",
       "      <td>6.916573</td>\n",
       "      <td>40.514652</td>\n",
       "      <td>163.545678</td>\n",
       "      <td>1.414694</td>\n",
       "      <td>32.159665</td>\n",
       "      <td>154.084736</td>\n",
       "      <td>7.661540</td>\n",
       "    </tr>\n",
       "    <tr>\n",
       "      <th>428</th>\n",
       "      <td>38.342386</td>\n",
       "      <td>130.492127</td>\n",
       "      <td>100.00000</td>\n",
       "      <td>35.619649</td>\n",
       "      <td>145.525640</td>\n",
       "      <td>85.552791</td>\n",
       "      <td>35.792570</td>\n",
       "      <td>153.980679</td>\n",
       "      <td>9.958998</td>\n",
       "      <td>10.749334</td>\n",
       "      <td>...</td>\n",
       "      <td>18.214282</td>\n",
       "      <td>36.326403</td>\n",
       "      <td>169.004747</td>\n",
       "      <td>0.000083</td>\n",
       "      <td>40.685229</td>\n",
       "      <td>167.812071</td>\n",
       "      <td>0.804097</td>\n",
       "      <td>33.778980</td>\n",
       "      <td>158.348917</td>\n",
       "      <td>7.056832</td>\n",
       "    </tr>\n",
       "    <tr>\n",
       "      <th>507</th>\n",
       "      <td>35.102707</td>\n",
       "      <td>121.173252</td>\n",
       "      <td>100.00000</td>\n",
       "      <td>34.631069</td>\n",
       "      <td>137.745986</td>\n",
       "      <td>99.849957</td>\n",
       "      <td>37.507659</td>\n",
       "      <td>161.476369</td>\n",
       "      <td>14.137283</td>\n",
       "      <td>7.369816</td>\n",
       "      <td>...</td>\n",
       "      <td>5.242587</td>\n",
       "      <td>41.940595</td>\n",
       "      <td>182.820736</td>\n",
       "      <td>0.000083</td>\n",
       "      <td>43.285467</td>\n",
       "      <td>179.563141</td>\n",
       "      <td>2.163883</td>\n",
       "      <td>37.019529</td>\n",
       "      <td>167.909666</td>\n",
       "      <td>9.870694</td>\n",
       "    </tr>\n",
       "    <tr>\n",
       "      <th>584</th>\n",
       "      <td>36.083871</td>\n",
       "      <td>128.190212</td>\n",
       "      <td>100.00000</td>\n",
       "      <td>35.678043</td>\n",
       "      <td>146.327112</td>\n",
       "      <td>100.000000</td>\n",
       "      <td>37.936398</td>\n",
       "      <td>172.199227</td>\n",
       "      <td>19.456978</td>\n",
       "      <td>7.681296</td>\n",
       "      <td>...</td>\n",
       "      <td>5.337048</td>\n",
       "      <td>39.238776</td>\n",
       "      <td>188.288542</td>\n",
       "      <td>8.794179</td>\n",
       "      <td>44.278382</td>\n",
       "      <td>187.048670</td>\n",
       "      <td>9.631559</td>\n",
       "      <td>35.921387</td>\n",
       "      <td>177.612168</td>\n",
       "      <td>15.862197</td>\n",
       "    </tr>\n",
       "    <tr>\n",
       "      <th>690</th>\n",
       "      <td>38.298332</td>\n",
       "      <td>128.736803</td>\n",
       "      <td>100.00000</td>\n",
       "      <td>36.057153</td>\n",
       "      <td>137.707653</td>\n",
       "      <td>98.505419</td>\n",
       "      <td>38.276688</td>\n",
       "      <td>161.450210</td>\n",
       "      <td>12.782668</td>\n",
       "      <td>14.263743</td>\n",
       "      <td>...</td>\n",
       "      <td>18.524423</td>\n",
       "      <td>40.422034</td>\n",
       "      <td>180.740802</td>\n",
       "      <td>0.000083</td>\n",
       "      <td>44.707555</td>\n",
       "      <td>178.463745</td>\n",
       "      <td>1.522788</td>\n",
       "      <td>37.671202</td>\n",
       "      <td>165.766036</td>\n",
       "      <td>9.919546</td>\n",
       "    </tr>\n",
       "    <tr>\n",
       "      <th>757</th>\n",
       "      <td>34.707165</td>\n",
       "      <td>129.987780</td>\n",
       "      <td>100.00000</td>\n",
       "      <td>33.689268</td>\n",
       "      <td>133.064619</td>\n",
       "      <td>93.086386</td>\n",
       "      <td>36.252643</td>\n",
       "      <td>146.474535</td>\n",
       "      <td>14.214941</td>\n",
       "      <td>7.106701</td>\n",
       "      <td>...</td>\n",
       "      <td>11.262511</td>\n",
       "      <td>37.766975</td>\n",
       "      <td>167.922604</td>\n",
       "      <td>0.000083</td>\n",
       "      <td>41.345040</td>\n",
       "      <td>165.670386</td>\n",
       "      <td>1.504161</td>\n",
       "      <td>36.523480</td>\n",
       "      <td>153.954884</td>\n",
       "      <td>9.256502</td>\n",
       "    </tr>\n",
       "    <tr>\n",
       "      <th>791</th>\n",
       "      <td>33.110127</td>\n",
       "      <td>127.100836</td>\n",
       "      <td>100.00000</td>\n",
       "      <td>32.495357</td>\n",
       "      <td>140.134291</td>\n",
       "      <td>90.483049</td>\n",
       "      <td>32.651087</td>\n",
       "      <td>147.631519</td>\n",
       "      <td>15.524206</td>\n",
       "      <td>5.515231</td>\n",
       "      <td>...</td>\n",
       "      <td>7.720447</td>\n",
       "      <td>39.328872</td>\n",
       "      <td>171.078196</td>\n",
       "      <td>0.000083</td>\n",
       "      <td>40.689564</td>\n",
       "      <td>167.824960</td>\n",
       "      <td>2.161042</td>\n",
       "      <td>31.498262</td>\n",
       "      <td>156.245992</td>\n",
       "      <td>9.809529</td>\n",
       "    </tr>\n",
       "    <tr>\n",
       "      <th>822</th>\n",
       "      <td>33.811689</td>\n",
       "      <td>125.911887</td>\n",
       "      <td>100.00000</td>\n",
       "      <td>33.675135</td>\n",
       "      <td>131.522302</td>\n",
       "      <td>92.655879</td>\n",
       "      <td>36.294120</td>\n",
       "      <td>147.517335</td>\n",
       "      <td>12.070741</td>\n",
       "      <td>5.446419</td>\n",
       "      <td>...</td>\n",
       "      <td>16.784836</td>\n",
       "      <td>38.419005</td>\n",
       "      <td>165.733993</td>\n",
       "      <td>0.000083</td>\n",
       "      <td>42.664736</td>\n",
       "      <td>162.435011</td>\n",
       "      <td>2.200175</td>\n",
       "      <td>34.303782</td>\n",
       "      <td>152.939001</td>\n",
       "      <td>8.470252</td>\n",
       "    </tr>\n",
       "    <tr>\n",
       "      <th>857</th>\n",
       "      <td>36.241235</td>\n",
       "      <td>132.878005</td>\n",
       "      <td>100.00000</td>\n",
       "      <td>34.713420</td>\n",
       "      <td>140.880359</td>\n",
       "      <td>88.574721</td>\n",
       "      <td>35.590991</td>\n",
       "      <td>148.621027</td>\n",
       "      <td>13.456687</td>\n",
       "      <td>9.245025</td>\n",
       "      <td>...</td>\n",
       "      <td>29.557486</td>\n",
       "      <td>39.245323</td>\n",
       "      <td>168.935227</td>\n",
       "      <td>0.000083</td>\n",
       "      <td>42.088193</td>\n",
       "      <td>166.700570</td>\n",
       "      <td>1.490275</td>\n",
       "      <td>33.658044</td>\n",
       "      <td>155.109742</td>\n",
       "      <td>9.148948</td>\n",
       "    </tr>\n",
       "    <tr>\n",
       "      <th>890</th>\n",
       "      <td>33.986517</td>\n",
       "      <td>130.594608</td>\n",
       "      <td>100.00000</td>\n",
       "      <td>32.491167</td>\n",
       "      <td>139.355011</td>\n",
       "      <td>92.501107</td>\n",
       "      <td>37.019428</td>\n",
       "      <td>147.493989</td>\n",
       "      <td>17.130145</td>\n",
       "      <td>7.072309</td>\n",
       "      <td>...</td>\n",
       "      <td>17.440363</td>\n",
       "      <td>36.986718</td>\n",
       "      <td>166.828377</td>\n",
       "      <td>4.311878</td>\n",
       "      <td>41.280554</td>\n",
       "      <td>164.578718</td>\n",
       "      <td>5.816444</td>\n",
       "      <td>38.667871</td>\n",
       "      <td>152.851271</td>\n",
       "      <td>13.583445</td>\n",
       "    </tr>\n",
       "    <tr>\n",
       "      <th>924</th>\n",
       "      <td>36.153322</td>\n",
       "      <td>129.948181</td>\n",
       "      <td>100.00000</td>\n",
       "      <td>35.869435</td>\n",
       "      <td>132.238264</td>\n",
       "      <td>97.125682</td>\n",
       "      <td>39.293008</td>\n",
       "      <td>149.621652</td>\n",
       "      <td>15.622559</td>\n",
       "      <td>8.585993</td>\n",
       "      <td>...</td>\n",
       "      <td>32.334593</td>\n",
       "      <td>40.879123</td>\n",
       "      <td>173.193244</td>\n",
       "      <td>0.000083</td>\n",
       "      <td>45.149528</td>\n",
       "      <td>169.886411</td>\n",
       "      <td>2.205455</td>\n",
       "      <td>38.034324</td>\n",
       "      <td>155.013482</td>\n",
       "      <td>12.044083</td>\n",
       "    </tr>\n",
       "    <tr>\n",
       "      <th>956</th>\n",
       "      <td>33.985079</td>\n",
       "      <td>130.595399</td>\n",
       "      <td>100.00000</td>\n",
       "      <td>34.364015</td>\n",
       "      <td>131.509286</td>\n",
       "      <td>96.898262</td>\n",
       "      <td>40.818021</td>\n",
       "      <td>151.699627</td>\n",
       "      <td>13.543455</td>\n",
       "      <td>7.120293</td>\n",
       "      <td>...</td>\n",
       "      <td>28.214503</td>\n",
       "      <td>41.554955</td>\n",
       "      <td>172.131276</td>\n",
       "      <td>0.000083</td>\n",
       "      <td>46.585067</td>\n",
       "      <td>169.855967</td>\n",
       "      <td>1.523902</td>\n",
       "      <td>38.800792</td>\n",
       "      <td>156.055496</td>\n",
       "      <td>10.649478</td>\n",
       "    </tr>\n",
       "    <tr>\n",
       "      <th>991</th>\n",
       "      <td>34.650052</td>\n",
       "      <td>128.811857</td>\n",
       "      <td>100.00000</td>\n",
       "      <td>35.138809</td>\n",
       "      <td>132.266084</td>\n",
       "      <td>92.857957</td>\n",
       "      <td>40.701920</td>\n",
       "      <td>148.483470</td>\n",
       "      <td>12.134391</td>\n",
       "      <td>7.052232</td>\n",
       "      <td>...</td>\n",
       "      <td>23.976810</td>\n",
       "      <td>39.918565</td>\n",
       "      <td>166.782747</td>\n",
       "      <td>0.000083</td>\n",
       "      <td>45.669366</td>\n",
       "      <td>164.485619</td>\n",
       "      <td>1.540566</td>\n",
       "      <td>40.123766</td>\n",
       "      <td>152.813661</td>\n",
       "      <td>9.261829</td>\n",
       "    </tr>\n",
       "    <tr>\n",
       "      <th>1026</th>\n",
       "      <td>36.857488</td>\n",
       "      <td>129.932270</td>\n",
       "      <td>100.00000</td>\n",
       "      <td>35.178230</td>\n",
       "      <td>133.040657</td>\n",
       "      <td>99.410480</td>\n",
       "      <td>40.240774</td>\n",
       "      <td>156.047357</td>\n",
       "      <td>14.184259</td>\n",
       "      <td>7.092506</td>\n",
       "      <td>...</td>\n",
       "      <td>24.509785</td>\n",
       "      <td>42.474542</td>\n",
       "      <td>177.452458</td>\n",
       "      <td>0.000083</td>\n",
       "      <td>46.762403</td>\n",
       "      <td>174.136890</td>\n",
       "      <td>2.211299</td>\n",
       "      <td>37.577997</td>\n",
       "      <td>162.519941</td>\n",
       "      <td>9.884987</td>\n",
       "    </tr>\n",
       "    <tr>\n",
       "      <th>1062</th>\n",
       "      <td>35.424467</td>\n",
       "      <td>129.976991</td>\n",
       "      <td>100.00000</td>\n",
       "      <td>34.566626</td>\n",
       "      <td>136.971548</td>\n",
       "      <td>100.000000</td>\n",
       "      <td>36.680578</td>\n",
       "      <td>158.261219</td>\n",
       "      <td>21.404639</td>\n",
       "      <td>7.079846</td>\n",
       "      <td>...</td>\n",
       "      <td>26.428164</td>\n",
       "      <td>38.814329</td>\n",
       "      <td>176.474505</td>\n",
       "      <td>9.336243</td>\n",
       "      <td>43.092226</td>\n",
       "      <td>174.199417</td>\n",
       "      <td>10.857620</td>\n",
       "      <td>34.738671</td>\n",
       "      <td>164.771291</td>\n",
       "      <td>17.082714</td>\n",
       "    </tr>\n",
       "    <tr>\n",
       "      <th>1094</th>\n",
       "      <td>36.093410</td>\n",
       "      <td>128.185441</td>\n",
       "      <td>100.00000</td>\n",
       "      <td>35.841906</td>\n",
       "      <td>131.486607</td>\n",
       "      <td>96.141257</td>\n",
       "      <td>42.872417</td>\n",
       "      <td>148.450532</td>\n",
       "      <td>14.927235</td>\n",
       "      <td>7.023052</td>\n",
       "      <td>...</td>\n",
       "      <td>26.013272</td>\n",
       "      <td>42.969254</td>\n",
       "      <td>170.966470</td>\n",
       "      <td>0.000083</td>\n",
       "      <td>47.966804</td>\n",
       "      <td>167.659644</td>\n",
       "      <td>2.207669</td>\n",
       "      <td>42.327478</td>\n",
       "      <td>152.768610</td>\n",
       "      <td>12.062805</td>\n",
       "    </tr>\n",
       "    <tr>\n",
       "      <th>1125</th>\n",
       "      <td>35.252237</td>\n",
       "      <td>125.871059</td>\n",
       "      <td>100.00000</td>\n",
       "      <td>35.863508</td>\n",
       "      <td>131.460884</td>\n",
       "      <td>91.849720</td>\n",
       "      <td>43.196319</td>\n",
       "      <td>136.642669</td>\n",
       "      <td>18.447855</td>\n",
       "      <td>6.932307</td>\n",
       "      <td>...</td>\n",
       "      <td>23.068967</td>\n",
       "      <td>45.686259</td>\n",
       "      <td>164.479978</td>\n",
       "      <td>0.000083</td>\n",
       "      <td>49.243361</td>\n",
       "      <td>162.238815</td>\n",
       "      <td>1.496769</td>\n",
       "      <td>41.484723</td>\n",
       "      <td>145.690256</td>\n",
       "      <td>12.444330</td>\n",
       "    </tr>\n",
       "    <tr>\n",
       "      <th>1161</th>\n",
       "      <td>34.648657</td>\n",
       "      <td>128.813794</td>\n",
       "      <td>100.00000</td>\n",
       "      <td>34.435006</td>\n",
       "      <td>133.080299</td>\n",
       "      <td>95.915539</td>\n",
       "      <td>38.706903</td>\n",
       "      <td>153.933961</td>\n",
       "      <td>12.114309</td>\n",
       "      <td>5.595987</td>\n",
       "      <td>...</td>\n",
       "      <td>6.759681</td>\n",
       "      <td>37.928826</td>\n",
       "      <td>172.202972</td>\n",
       "      <td>0.000083</td>\n",
       "      <td>43.682162</td>\n",
       "      <td>169.933388</td>\n",
       "      <td>1.522313</td>\n",
       "      <td>37.451824</td>\n",
       "      <td>159.299527</td>\n",
       "      <td>8.553257</td>\n",
       "    </tr>\n",
       "    <tr>\n",
       "      <th>1196</th>\n",
       "      <td>37.632055</td>\n",
       "      <td>130.498790</td>\n",
       "      <td>100.00000</td>\n",
       "      <td>37.478813</td>\n",
       "      <td>136.116833</td>\n",
       "      <td>93.824470</td>\n",
       "      <td>43.002496</td>\n",
       "      <td>151.679638</td>\n",
       "      <td>13.534753</td>\n",
       "      <td>10.065759</td>\n",
       "      <td>...</td>\n",
       "      <td>30.358363</td>\n",
       "      <td>41.560017</td>\n",
       "      <td>172.088129</td>\n",
       "      <td>0.000083</td>\n",
       "      <td>47.302409</td>\n",
       "      <td>169.819598</td>\n",
       "      <td>1.521581</td>\n",
       "      <td>43.170527</td>\n",
       "      <td>155.959269</td>\n",
       "      <td>10.697988</td>\n",
       "    </tr>\n",
       "    <tr>\n",
       "      <th>1227</th>\n",
       "      <td>37.607227</td>\n",
       "      <td>129.915928</td>\n",
       "      <td>100.00000</td>\n",
       "      <td>36.036427</td>\n",
       "      <td>136.934750</td>\n",
       "      <td>91.868047</td>\n",
       "      <td>43.745547</td>\n",
       "      <td>151.639672</td>\n",
       "      <td>12.153753</td>\n",
       "      <td>7.882364</td>\n",
       "      <td>...</td>\n",
       "      <td>9.599684</td>\n",
       "      <td>42.217608</td>\n",
       "      <td>169.964727</td>\n",
       "      <td>0.000083</td>\n",
       "      <td>47.996640</td>\n",
       "      <td>168.715732</td>\n",
       "      <td>0.845769</td>\n",
       "      <td>44.618623</td>\n",
       "      <td>155.943859</td>\n",
       "      <td>9.302860</td>\n",
       "    </tr>\n",
       "    <tr>\n",
       "      <th>1261</th>\n",
       "      <td>38.324166</td>\n",
       "      <td>129.907489</td>\n",
       "      <td>100.00000</td>\n",
       "      <td>38.217199</td>\n",
       "      <td>136.084355</td>\n",
       "      <td>100.000000</td>\n",
       "      <td>41.836265</td>\n",
       "      <td>159.191524</td>\n",
       "      <td>15.607319</td>\n",
       "      <td>12.185542</td>\n",
       "      <td>...</td>\n",
       "      <td>39.688080</td>\n",
       "      <td>45.613133</td>\n",
       "      <td>182.750213</td>\n",
       "      <td>0.000083</td>\n",
       "      <td>47.681101</td>\n",
       "      <td>179.487625</td>\n",
       "      <td>2.169400</td>\n",
       "      <td>39.797947</td>\n",
       "      <td>163.568625</td>\n",
       "      <td>12.699201</td>\n",
       "    </tr>\n",
       "    <tr>\n",
       "      <th>1295</th>\n",
       "      <td>34.623833</td>\n",
       "      <td>128.224956</td>\n",
       "      <td>100.00000</td>\n",
       "      <td>33.714592</td>\n",
       "      <td>133.093227</td>\n",
       "      <td>99.438367</td>\n",
       "      <td>31.940533</td>\n",
       "      <td>128.305756</td>\n",
       "      <td>32.618052</td>\n",
       "      <td>6.234707</td>\n",
       "      <td>...</td>\n",
       "      <td>31.786456</td>\n",
       "      <td>35.739603</td>\n",
       "      <td>177.522826</td>\n",
       "      <td>0.000083</td>\n",
       "      <td>40.932175</td>\n",
       "      <td>176.007385</td>\n",
       "      <td>1.020626</td>\n",
       "      <td>36.678669</td>\n",
       "      <td>165.093733</td>\n",
       "      <td>8.243096</td>\n",
       "    </tr>\n",
       "    <tr>\n",
       "      <th>1329</th>\n",
       "      <td>36.095238</td>\n",
       "      <td>128.199030</td>\n",
       "      <td>100.00000</td>\n",
       "      <td>35.273445</td>\n",
       "      <td>135.402939</td>\n",
       "      <td>98.581558</td>\n",
       "      <td>42.560233</td>\n",
       "      <td>159.212151</td>\n",
       "      <td>12.830081</td>\n",
       "      <td>7.742892</td>\n",
       "      <td>...</td>\n",
       "      <td>30.324957</td>\n",
       "      <td>41.806977</td>\n",
       "      <td>178.560917</td>\n",
       "      <td>0.000083</td>\n",
       "      <td>46.878781</td>\n",
       "      <td>177.323297</td>\n",
       "      <td>0.836069</td>\n",
       "      <td>40.615297</td>\n",
       "      <td>165.694208</td>\n",
       "      <td>8.526721</td>\n",
       "    </tr>\n",
       "    <tr>\n",
       "      <th>1361</th>\n",
       "      <td>33.927842</td>\n",
       "      <td>129.414386</td>\n",
       "      <td>100.00000</td>\n",
       "      <td>35.152352</td>\n",
       "      <td>132.255722</td>\n",
       "      <td>99.201127</td>\n",
       "      <td>43.900921</td>\n",
       "      <td>155.935749</td>\n",
       "      <td>13.539757</td>\n",
       "      <td>5.598468</td>\n",
       "      <td>...</td>\n",
       "      <td>25.308261</td>\n",
       "      <td>43.913235</td>\n",
       "      <td>176.358484</td>\n",
       "      <td>0.000083</td>\n",
       "      <td>48.936061</td>\n",
       "      <td>174.074696</td>\n",
       "      <td>1.529501</td>\n",
       "      <td>44.097165</td>\n",
       "      <td>161.285626</td>\n",
       "      <td>9.993535</td>\n",
       "    </tr>\n",
       "    <tr>\n",
       "      <th>1395</th>\n",
       "      <td>35.420889</td>\n",
       "      <td>130.557915</td>\n",
       "      <td>100.00000</td>\n",
       "      <td>36.784516</td>\n",
       "      <td>136.928651</td>\n",
       "      <td>93.962984</td>\n",
       "      <td>43.921944</td>\n",
       "      <td>157.017917</td>\n",
       "      <td>10.677272</td>\n",
       "      <td>7.130405</td>\n",
       "      <td>...</td>\n",
       "      <td>9.521967</td>\n",
       "      <td>43.059105</td>\n",
       "      <td>173.118972</td>\n",
       "      <td>0.000083</td>\n",
       "      <td>48.104188</td>\n",
       "      <td>170.870769</td>\n",
       "      <td>1.505976</td>\n",
       "      <td>42.665582</td>\n",
       "      <td>162.404472</td>\n",
       "      <td>7.102300</td>\n",
       "    </tr>\n",
       "    <tr>\n",
       "      <th>1429</th>\n",
       "      <td>34.599694</td>\n",
       "      <td>128.219557</td>\n",
       "      <td>100.00000</td>\n",
       "      <td>35.203734</td>\n",
       "      <td>133.820368</td>\n",
       "      <td>99.658229</td>\n",
       "      <td>39.617670</td>\n",
       "      <td>158.198228</td>\n",
       "      <td>13.520987</td>\n",
       "      <td>5.548203</td>\n",
       "      <td>...</td>\n",
       "      <td>31.104921</td>\n",
       "      <td>39.612172</td>\n",
       "      <td>178.592569</td>\n",
       "      <td>0.000083</td>\n",
       "      <td>45.377347</td>\n",
       "      <td>176.326831</td>\n",
       "      <td>1.519799</td>\n",
       "      <td>38.301657</td>\n",
       "      <td>162.511696</td>\n",
       "      <td>10.657260</td>\n",
       "    </tr>\n",
       "    <tr>\n",
       "      <th>1462</th>\n",
       "      <td>33.992176</td>\n",
       "      <td>130.579077</td>\n",
       "      <td>100.00000</td>\n",
       "      <td>35.976676</td>\n",
       "      <td>135.388629</td>\n",
       "      <td>96.173998</td>\n",
       "      <td>43.191154</td>\n",
       "      <td>155.964675</td>\n",
       "      <td>12.565800</td>\n",
       "      <td>6.405860</td>\n",
       "      <td>...</td>\n",
       "      <td>9.277570</td>\n",
       "      <td>43.101757</td>\n",
       "      <td>174.236582</td>\n",
       "      <td>0.451756</td>\n",
       "      <td>48.160791</td>\n",
       "      <td>172.997295</td>\n",
       "      <td>1.288808</td>\n",
       "      <td>42.678367</td>\n",
       "      <td>162.396483</td>\n",
       "      <td>8.300123</td>\n",
       "    </tr>\n",
       "    <tr>\n",
       "      <th>1494</th>\n",
       "      <td>35.401831</td>\n",
       "      <td>129.959450</td>\n",
       "      <td>100.00000</td>\n",
       "      <td>35.216198</td>\n",
       "      <td>134.610799</td>\n",
       "      <td>94.769463</td>\n",
       "      <td>43.021919</td>\n",
       "      <td>151.673163</td>\n",
       "      <td>13.492544</td>\n",
       "      <td>6.400058</td>\n",
       "      <td>...</td>\n",
       "      <td>18.228848</td>\n",
       "      <td>44.465747</td>\n",
       "      <td>172.031273</td>\n",
       "      <td>0.000083</td>\n",
       "      <td>48.796817</td>\n",
       "      <td>169.760216</td>\n",
       "      <td>1.518949</td>\n",
       "      <td>42.392293</td>\n",
       "      <td>154.932712</td>\n",
       "      <td>11.329631</td>\n",
       "    </tr>\n",
       "    <tr>\n",
       "      <th>1529</th>\n",
       "      <td>36.834836</td>\n",
       "      <td>128.758074</td>\n",
       "      <td>100.00000</td>\n",
       "      <td>38.223755</td>\n",
       "      <td>136.881147</td>\n",
       "      <td>91.854664</td>\n",
       "      <td>44.526013</td>\n",
       "      <td>152.685172</td>\n",
       "      <td>11.407401</td>\n",
       "      <td>7.063257</td>\n",
       "      <td>...</td>\n",
       "      <td>19.659117</td>\n",
       "      <td>43.687296</td>\n",
       "      <td>169.887634</td>\n",
       "      <td>0.000083</td>\n",
       "      <td>49.427259</td>\n",
       "      <td>167.631783</td>\n",
       "      <td>1.513167</td>\n",
       "      <td>45.381513</td>\n",
       "      <td>156.959885</td>\n",
       "      <td>8.575995</td>\n",
       "    </tr>\n",
       "    <tr>\n",
       "      <th>1561</th>\n",
       "      <td>35.447517</td>\n",
       "      <td>130.556719</td>\n",
       "      <td>100.00000</td>\n",
       "      <td>35.365327</td>\n",
       "      <td>137.723749</td>\n",
       "      <td>96.281722</td>\n",
       "      <td>43.844174</td>\n",
       "      <td>154.849072</td>\n",
       "      <td>14.965117</td>\n",
       "      <td>6.425692</td>\n",
       "      <td>...</td>\n",
       "      <td>23.204277</td>\n",
       "      <td>42.487535</td>\n",
       "      <td>177.415459</td>\n",
       "      <td>0.000083</td>\n",
       "      <td>47.504411</td>\n",
       "      <td>175.155975</td>\n",
       "      <td>1.513369</td>\n",
       "      <td>44.753712</td>\n",
       "      <td>159.131853</td>\n",
       "      <td>12.128527</td>\n",
       "    </tr>\n",
       "    <tr>\n",
       "      <th>1595</th>\n",
       "      <td>35.343735</td>\n",
       "      <td>128.211103</td>\n",
       "      <td>100.00000</td>\n",
       "      <td>36.776396</td>\n",
       "      <td>136.918300</td>\n",
       "      <td>100.000000</td>\n",
       "      <td>42.768036</td>\n",
       "      <td>164.535433</td>\n",
       "      <td>12.105722</td>\n",
       "      <td>5.558932</td>\n",
       "      <td>...</td>\n",
       "      <td>25.955920</td>\n",
       "      <td>43.413501</td>\n",
       "      <td>182.798044</td>\n",
       "      <td>0.000083</td>\n",
       "      <td>48.428016</td>\n",
       "      <td>180.519867</td>\n",
       "      <td>1.525755</td>\n",
       "      <td>42.126444</td>\n",
       "      <td>167.796183</td>\n",
       "      <td>9.941977</td>\n",
       "    </tr>\n",
       "    <tr>\n",
       "      <th>1627</th>\n",
       "      <td>36.055736</td>\n",
       "      <td>127.615816</td>\n",
       "      <td>100.00000</td>\n",
       "      <td>35.275604</td>\n",
       "      <td>136.167994</td>\n",
       "      <td>100.000000</td>\n",
       "      <td>40.601549</td>\n",
       "      <td>165.700416</td>\n",
       "      <td>12.795388</td>\n",
       "      <td>6.323963</td>\n",
       "      <td>...</td>\n",
       "      <td>36.759993</td>\n",
       "      <td>40.568760</td>\n",
       "      <td>185.000168</td>\n",
       "      <td>0.000083</td>\n",
       "      <td>45.593422</td>\n",
       "      <td>182.737400</td>\n",
       "      <td>1.515570</td>\n",
       "      <td>39.330979</td>\n",
       "      <td>171.052672</td>\n",
       "      <td>9.243112</td>\n",
       "    </tr>\n",
       "    <tr>\n",
       "      <th>1657</th>\n",
       "      <td>35.507620</td>\n",
       "      <td>132.893079</td>\n",
       "      <td>100.00000</td>\n",
       "      <td>36.226835</td>\n",
       "      <td>141.632215</td>\n",
       "      <td>87.275888</td>\n",
       "      <td>42.772648</td>\n",
       "      <td>145.233747</td>\n",
       "      <td>14.919285</td>\n",
       "      <td>6.463104</td>\n",
       "      <td>...</td>\n",
       "      <td>14.564883</td>\n",
       "      <td>44.326674</td>\n",
       "      <td>167.744402</td>\n",
       "      <td>0.000083</td>\n",
       "      <td>49.351726</td>\n",
       "      <td>165.452691</td>\n",
       "      <td>1.534760</td>\n",
       "      <td>40.715862</td>\n",
       "      <td>148.520794</td>\n",
       "      <td>12.733787</td>\n",
       "    </tr>\n",
       "    <tr>\n",
       "      <th>1690</th>\n",
       "      <td>36.136515</td>\n",
       "      <td>129.370634</td>\n",
       "      <td>100.00000</td>\n",
       "      <td>39.005938</td>\n",
       "      <td>138.424570</td>\n",
       "      <td>95.838506</td>\n",
       "      <td>45.457357</td>\n",
       "      <td>159.129595</td>\n",
       "      <td>12.142470</td>\n",
       "      <td>7.062495</td>\n",
       "      <td>...</td>\n",
       "      <td>26.027948</td>\n",
       "      <td>43.933551</td>\n",
       "      <td>177.437650</td>\n",
       "      <td>0.000083</td>\n",
       "      <td>49.728000</td>\n",
       "      <td>176.191994</td>\n",
       "      <td>0.843603</td>\n",
       "      <td>44.914180</td>\n",
       "      <td>163.432280</td>\n",
       "      <td>9.288251</td>\n",
       "    </tr>\n",
       "    <tr>\n",
       "      <th>1719</th>\n",
       "      <td>36.847378</td>\n",
       "      <td>129.345208</td>\n",
       "      <td>100.00000</td>\n",
       "      <td>36.760758</td>\n",
       "      <td>136.923714</td>\n",
       "      <td>90.415231</td>\n",
       "      <td>42.835309</td>\n",
       "      <td>147.359020</td>\n",
       "      <td>13.526586</td>\n",
       "      <td>7.107872</td>\n",
       "      <td>...</td>\n",
       "      <td>14.586133</td>\n",
       "      <td>43.610814</td>\n",
       "      <td>167.765402</td>\n",
       "      <td>0.000083</td>\n",
       "      <td>48.643630</td>\n",
       "      <td>165.474254</td>\n",
       "      <td>1.534410</td>\n",
       "      <td>40.781340</td>\n",
       "      <td>150.663482</td>\n",
       "      <td>11.329551</td>\n",
       "    </tr>\n",
       "  </tbody>\n",
       "</table>\n",
       "<p>42 rows × 36 columns</p>\n",
       "</div>"
      ],
      "text/plain": [
       "              right hip-x  right hip-y  right hip-z  right knee-x  \\\n",
       "frame_number                                                        \n",
       "53              37.048133   146.451724    100.24585     36.356229   \n",
       "100             39.074558   129.882936    100.00000     33.794004   \n",
       "139             36.820152   128.769127    100.00000     32.092320   \n",
       "180             37.551827   128.745619    100.00000     34.658947   \n",
       "217             38.339703   130.495360    100.00000     32.186540   \n",
       "301             38.312743   129.309013    100.00000     34.221073   \n",
       "346             35.264289   125.281756    100.00000     32.912077   \n",
       "387             38.993032   128.124045    100.00000     34.632111   \n",
       "428             38.342386   130.492127    100.00000     35.619649   \n",
       "507             35.102707   121.173252    100.00000     34.631069   \n",
       "584             36.083871   128.190212    100.00000     35.678043   \n",
       "690             38.298332   128.736803    100.00000     36.057153   \n",
       "757             34.707165   129.987780    100.00000     33.689268   \n",
       "791             33.110127   127.100836    100.00000     32.495357   \n",
       "822             33.811689   125.911887    100.00000     33.675135   \n",
       "857             36.241235   132.878005    100.00000     34.713420   \n",
       "890             33.986517   130.594608    100.00000     32.491167   \n",
       "924             36.153322   129.948181    100.00000     35.869435   \n",
       "956             33.985079   130.595399    100.00000     34.364015   \n",
       "991             34.650052   128.811857    100.00000     35.138809   \n",
       "1026            36.857488   129.932270    100.00000     35.178230   \n",
       "1062            35.424467   129.976991    100.00000     34.566626   \n",
       "1094            36.093410   128.185441    100.00000     35.841906   \n",
       "1125            35.252237   125.871059    100.00000     35.863508   \n",
       "1161            34.648657   128.813794    100.00000     34.435006   \n",
       "1196            37.632055   130.498790    100.00000     37.478813   \n",
       "1227            37.607227   129.915928    100.00000     36.036427   \n",
       "1261            38.324166   129.907489    100.00000     38.217199   \n",
       "1295            34.623833   128.224956    100.00000     33.714592   \n",
       "1329            36.095238   128.199030    100.00000     35.273445   \n",
       "1361            33.927842   129.414386    100.00000     35.152352   \n",
       "1395            35.420889   130.557915    100.00000     36.784516   \n",
       "1429            34.599694   128.219557    100.00000     35.203734   \n",
       "1462            33.992176   130.579077    100.00000     35.976676   \n",
       "1494            35.401831   129.959450    100.00000     35.216198   \n",
       "1529            36.834836   128.758074    100.00000     38.223755   \n",
       "1561            35.447517   130.556719    100.00000     35.365327   \n",
       "1595            35.343735   128.211103    100.00000     36.776396   \n",
       "1627            36.055736   127.615816    100.00000     35.275604   \n",
       "1657            35.507620   132.893079    100.00000     36.226835   \n",
       "1690            36.136515   129.370634    100.00000     39.005938   \n",
       "1719            36.847378   129.345208    100.00000     36.760758   \n",
       "\n",
       "              right knee-y  right knee-z  right ankle-x  right ankle-y  \\\n",
       "frame_number                                                             \n",
       "53              138.623370     82.602680      34.803705     123.244309   \n",
       "100             135.428224     90.817186      32.443192     142.257810   \n",
       "139             148.742838     94.864718      32.647042     168.016627   \n",
       "180             138.520406     90.134863      33.357162     147.590420   \n",
       "217             130.781715     89.025650      31.009072     142.292728   \n",
       "301             126.831025     87.932107      32.599775     126.146770   \n",
       "346             130.762056     88.247174      32.377453     140.096116   \n",
       "387             138.523948     87.974323      34.814677     147.554275   \n",
       "428             145.525640     85.552791      35.792570     153.980679   \n",
       "507             137.745986     99.849957      37.507659     161.476369   \n",
       "584             146.327112    100.000000      37.936398     172.199227   \n",
       "690             137.707653     98.505419      38.276688     161.450210   \n",
       "757             133.064619     93.086386      36.252643     146.474535   \n",
       "791             140.134291     90.483049      32.651087     147.631519   \n",
       "822             131.522302     92.655879      36.294120     147.517335   \n",
       "857             140.880359     88.574721      35.590991     148.621027   \n",
       "890             139.355011     92.501107      37.019428     147.493989   \n",
       "924             132.238264     97.125682      39.293008     149.621652   \n",
       "956             131.509286     96.898262      40.818021     151.699627   \n",
       "991             132.266084     92.857957      40.701920     148.483470   \n",
       "1026            133.040657     99.410480      40.240774     156.047357   \n",
       "1062            136.971548    100.000000      36.680578     158.261219   \n",
       "1094            131.486607     96.141257      42.872417     148.450532   \n",
       "1125            131.460884     91.849720      43.196319     136.642669   \n",
       "1161            133.080299     95.915539      38.706903     153.933961   \n",
       "1196            136.116833     93.824470      43.002496     151.679638   \n",
       "1227            136.934750     91.868047      43.745547     151.639672   \n",
       "1261            136.084355    100.000000      41.836265     159.191524   \n",
       "1295            133.093227     99.438367      31.940533     128.305756   \n",
       "1329            135.402939     98.581558      42.560233     159.212151   \n",
       "1361            132.255722     99.201127      43.900921     155.935749   \n",
       "1395            136.928651     93.962984      43.921944     157.017917   \n",
       "1429            133.820368     99.658229      39.617670     158.198228   \n",
       "1462            135.388629     96.173998      43.191154     155.964675   \n",
       "1494            134.610799     94.769463      43.021919     151.673163   \n",
       "1529            136.881147     91.854664      44.526013     152.685172   \n",
       "1561            137.723749     96.281722      43.844174     154.849072   \n",
       "1595            136.918300    100.000000      42.768036     164.535433   \n",
       "1627            136.167994    100.000000      40.601549     165.700416   \n",
       "1657            141.632215     87.275888      42.772648     145.233747   \n",
       "1690            138.424570     95.838506      45.457357     159.129595   \n",
       "1719            136.923714     90.415231      42.835309     147.359020   \n",
       "\n",
       "              right ankle-z  left hip-x  ...  left heel-z  right toe 1-x  \\\n",
       "frame_number                             ...                               \n",
       "53                12.885191   11.237682  ...    13.492850      39.657276   \n",
       "100               16.296373   13.566014  ...     6.369884      36.258862   \n",
       "139               12.099557    6.272163  ...     6.406413      32.593489   \n",
       "180               14.128858    8.518414  ...    18.099223      38.514812   \n",
       "217               11.401710   12.136953  ...    37.677862      29.434787   \n",
       "301               18.391939   13.747978  ...    13.390751      39.442292   \n",
       "346               12.068455    8.422134  ...    24.712305      35.219363   \n",
       "387               11.999158   10.640862  ...    15.536359      38.355923   \n",
       "428                9.958998   10.749334  ...    18.214282      36.326403   \n",
       "507               14.137283    7.369816  ...     5.242587      41.940595   \n",
       "584               19.456978    7.681296  ...     5.337048      39.238776   \n",
       "690               12.782668   14.263743  ...    18.524423      40.422034   \n",
       "757               14.214941    7.106701  ...    11.262511      37.766975   \n",
       "791               15.524206    5.515231  ...     7.720447      39.328872   \n",
       "822               12.070741    5.446419  ...    16.784836      38.419005   \n",
       "857               13.456687    9.245025  ...    29.557486      39.245323   \n",
       "890               17.130145    7.072309  ...    17.440363      36.986718   \n",
       "924               15.622559    8.585993  ...    32.334593      40.879123   \n",
       "956               13.543455    7.120293  ...    28.214503      41.554955   \n",
       "991               12.134391    7.052232  ...    23.976810      39.918565   \n",
       "1026              14.184259    7.092506  ...    24.509785      42.474542   \n",
       "1062              21.404639    7.079846  ...    26.428164      38.814329   \n",
       "1094              14.927235    7.023052  ...    26.013272      42.969254   \n",
       "1125              18.447855    6.932307  ...    23.068967      45.686259   \n",
       "1161              12.114309    5.595987  ...     6.759681      37.928826   \n",
       "1196              13.534753   10.065759  ...    30.358363      41.560017   \n",
       "1227              12.153753    7.882364  ...     9.599684      42.217608   \n",
       "1261              15.607319   12.185542  ...    39.688080      45.613133   \n",
       "1295              32.618052    6.234707  ...    31.786456      35.739603   \n",
       "1329              12.830081    7.742892  ...    30.324957      41.806977   \n",
       "1361              13.539757    5.598468  ...    25.308261      43.913235   \n",
       "1395              10.677272    7.130405  ...     9.521967      43.059105   \n",
       "1429              13.520987    5.548203  ...    31.104921      39.612172   \n",
       "1462              12.565800    6.405860  ...     9.277570      43.101757   \n",
       "1494              13.492544    6.400058  ...    18.228848      44.465747   \n",
       "1529              11.407401    7.063257  ...    19.659117      43.687296   \n",
       "1561              14.965117    6.425692  ...    23.204277      42.487535   \n",
       "1595              12.105722    5.558932  ...    25.955920      43.413501   \n",
       "1627              12.795388    6.323963  ...    36.759993      40.568760   \n",
       "1657              14.919285    6.463104  ...    14.564883      44.326674   \n",
       "1690              12.142470    7.062495  ...    26.027948      43.933551   \n",
       "1719              13.526586    7.107872  ...    14.586133      43.610814   \n",
       "\n",
       "              right toe 1-y  right toe 1-z  right toe 2-x  right toe 2-y  \\\n",
       "frame_number                                                               \n",
       "53               142.701991       0.000095      42.057920     139.010111   \n",
       "100              166.856018       0.000083      37.589039     163.603924   \n",
       "139              186.266721       0.000083      36.882348     184.024354   \n",
       "180              168.925415       0.000083      41.301464     164.610357   \n",
       "217              159.483218       0.000083      35.165033     157.227221   \n",
       "301              153.919775       0.000083      40.107495     151.719196   \n",
       "346              158.312626       0.000083      38.807329     156.038923   \n",
       "387              172.570379       6.916573      40.514652     163.545678   \n",
       "428              169.004747       0.000083      40.685229     167.812071   \n",
       "507              182.820736       0.000083      43.285467     179.563141   \n",
       "584              188.288542       8.794179      44.278382     187.048670   \n",
       "690              180.740802       0.000083      44.707555     178.463745   \n",
       "757              167.922604       0.000083      41.345040     165.670386   \n",
       "791              171.078196       0.000083      40.689564     167.824960   \n",
       "822              165.733993       0.000083      42.664736     162.435011   \n",
       "857              168.935227       0.000083      42.088193     166.700570   \n",
       "890              166.828377       4.311878      41.280554     164.578718   \n",
       "924              173.193244       0.000083      45.149528     169.886411   \n",
       "956              172.131276       0.000083      46.585067     169.855967   \n",
       "991              166.782747       0.000083      45.669366     164.485619   \n",
       "1026             177.452458       0.000083      46.762403     174.136890   \n",
       "1062             176.474505       9.336243      43.092226     174.199417   \n",
       "1094             170.966470       0.000083      47.966804     167.659644   \n",
       "1125             164.479978       0.000083      49.243361     162.238815   \n",
       "1161             172.202972       0.000083      43.682162     169.933388   \n",
       "1196             172.088129       0.000083      47.302409     169.819598   \n",
       "1227             169.964727       0.000083      47.996640     168.715732   \n",
       "1261             182.750213       0.000083      47.681101     179.487625   \n",
       "1295             177.522826       0.000083      40.932175     176.007385   \n",
       "1329             178.560917       0.000083      46.878781     177.323297   \n",
       "1361             176.358484       0.000083      48.936061     174.074696   \n",
       "1395             173.118972       0.000083      48.104188     170.870769   \n",
       "1429             178.592569       0.000083      45.377347     176.326831   \n",
       "1462             174.236582       0.451756      48.160791     172.997295   \n",
       "1494             172.031273       0.000083      48.796817     169.760216   \n",
       "1529             169.887634       0.000083      49.427259     167.631783   \n",
       "1561             177.415459       0.000083      47.504411     175.155975   \n",
       "1595             182.798044       0.000083      48.428016     180.519867   \n",
       "1627             185.000168       0.000083      45.593422     182.737400   \n",
       "1657             167.744402       0.000083      49.351726     165.452691   \n",
       "1690             177.437650       0.000083      49.728000     176.191994   \n",
       "1719             167.765402       0.000083      48.643630     165.474254   \n",
       "\n",
       "              right toe 2-z  right heel-x  right heel-y  right heel-z  \n",
       "frame_number                                                           \n",
       "53                 2.455036     32.509905    129.407018      8.792484  \n",
       "100                2.160192     30.502734    148.731697     11.998443  \n",
       "139                1.499800     31.394341    173.434898      8.503569  \n",
       "180                2.869353     30.567825    150.906839     11.921651  \n",
       "217                1.513235     31.142704    146.571348      8.565510  \n",
       "301                1.461037     28.414938    131.601595     14.762770  \n",
       "346                1.518436     31.121635    145.496496      8.484320  \n",
       "387                1.414694     32.159665    154.084736      7.661540  \n",
       "428                0.804097     33.778980    158.348917      7.056832  \n",
       "507                2.163883     37.019529    167.909666      9.870694  \n",
       "584                9.631559     35.921387    177.612168     15.862197  \n",
       "690                1.522788     37.671202    165.766036      9.919546  \n",
       "757                1.504161     36.523480    153.954884      9.256502  \n",
       "791                2.161042     31.498262    156.245992      9.809529  \n",
       "822                2.200175     34.303782    152.939001      8.470252  \n",
       "857                1.490275     33.658044    155.109742      9.148948  \n",
       "890                5.816444     38.667871    152.851271     13.583445  \n",
       "924                2.205455     38.034324    155.013482     12.044083  \n",
       "956                1.523902     38.800792    156.055496     10.649478  \n",
       "991                1.540566     40.123766    152.813661      9.261829  \n",
       "1026               2.211299     37.577997    162.519941      9.884987  \n",
       "1062              10.857620     34.738671    164.771291     17.082714  \n",
       "1094               2.207669     42.327478    152.768610     12.062805  \n",
       "1125               1.496769     41.484723    145.690256     12.444330  \n",
       "1161               1.522313     37.451824    159.299527      8.553257  \n",
       "1196               1.521581     43.170527    155.959269     10.697988  \n",
       "1227               0.845769     44.618623    155.943859      9.302860  \n",
       "1261               2.169400     39.797947    163.568625     12.699201  \n",
       "1295               1.020626     36.678669    165.093733      8.243096  \n",
       "1329               0.836069     40.615297    165.694208      8.526721  \n",
       "1361               1.529501     44.097165    161.285626      9.993535  \n",
       "1395               1.505976     42.665582    162.404472      7.102300  \n",
       "1429               1.519799     38.301657    162.511696     10.657260  \n",
       "1462               1.288808     42.678367    162.396483      8.300123  \n",
       "1494               1.518949     42.392293    154.932712     11.329631  \n",
       "1529               1.513167     45.381513    156.959885      8.575995  \n",
       "1561               1.513369     44.753712    159.131853     12.128527  \n",
       "1595               1.525755     42.126444    167.796183      9.941977  \n",
       "1627               1.515570     39.330979    171.052672      9.243112  \n",
       "1657               1.534760     40.715862    148.520794     12.733787  \n",
       "1690               0.843603     44.914180    163.432280      9.288251  \n",
       "1719               1.534410     40.781340    150.663482     11.329551  \n",
       "\n",
       "[42 rows x 36 columns]"
      ]
     },
     "execution_count": 21,
     "metadata": {},
     "output_type": "execute_result"
    }
   ],
   "source": [
    "video_features.iloc[trueHSR_indices]"
   ]
  },
  {
   "cell_type": "code",
   "execution_count": 22,
   "metadata": {
    "scrolled": true
   },
   "outputs": [
    {
     "data": {
      "text/html": [
       "<div>\n",
       "<style scoped>\n",
       "    .dataframe tbody tr th:only-of-type {\n",
       "        vertical-align: middle;\n",
       "    }\n",
       "\n",
       "    .dataframe tbody tr th {\n",
       "        vertical-align: top;\n",
       "    }\n",
       "\n",
       "    .dataframe thead th {\n",
       "        text-align: right;\n",
       "    }\n",
       "</style>\n",
       "<table border=\"1\" class=\"dataframe\">\n",
       "  <thead>\n",
       "    <tr style=\"text-align: right;\">\n",
       "      <th></th>\n",
       "      <th>right hip-x</th>\n",
       "      <th>right hip-y</th>\n",
       "      <th>right hip-z</th>\n",
       "      <th>right knee-x</th>\n",
       "      <th>right knee-y</th>\n",
       "      <th>right knee-z</th>\n",
       "      <th>right ankle-x</th>\n",
       "      <th>right ankle-y</th>\n",
       "      <th>right ankle-z</th>\n",
       "      <th>left hip-x</th>\n",
       "      <th>...</th>\n",
       "      <th>left heel-z</th>\n",
       "      <th>right toe 1-x</th>\n",
       "      <th>right toe 1-y</th>\n",
       "      <th>right toe 1-z</th>\n",
       "      <th>right toe 2-x</th>\n",
       "      <th>right toe 2-y</th>\n",
       "      <th>right toe 2-z</th>\n",
       "      <th>right heel-x</th>\n",
       "      <th>right heel-y</th>\n",
       "      <th>right heel-z</th>\n",
       "    </tr>\n",
       "    <tr>\n",
       "      <th>frame_number</th>\n",
       "      <th></th>\n",
       "      <th></th>\n",
       "      <th></th>\n",
       "      <th></th>\n",
       "      <th></th>\n",
       "      <th></th>\n",
       "      <th></th>\n",
       "      <th></th>\n",
       "      <th></th>\n",
       "      <th></th>\n",
       "      <th></th>\n",
       "      <th></th>\n",
       "      <th></th>\n",
       "      <th></th>\n",
       "      <th></th>\n",
       "      <th></th>\n",
       "      <th></th>\n",
       "      <th></th>\n",
       "      <th></th>\n",
       "      <th></th>\n",
       "      <th></th>\n",
       "    </tr>\n",
       "  </thead>\n",
       "  <tbody>\n",
       "    <tr>\n",
       "      <th>0</th>\n",
       "      <td>41.370643</td>\n",
       "      <td>163.228161</td>\n",
       "      <td>99.959804</td>\n",
       "      <td>36.643326</td>\n",
       "      <td>145.290165</td>\n",
       "      <td>86.960413</td>\n",
       "      <td>32.404607</td>\n",
       "      <td>107.722605</td>\n",
       "      <td>24.782969</td>\n",
       "      <td>19.590266</td>\n",
       "      <td>...</td>\n",
       "      <td>28.296674</td>\n",
       "      <td>33.887073</td>\n",
       "      <td>123.654815</td>\n",
       "      <td>14.224877</td>\n",
       "      <td>38.345958</td>\n",
       "      <td>120.902105</td>\n",
       "      <td>16.063455</td>\n",
       "      <td>29.913310</td>\n",
       "      <td>114.414536</td>\n",
       "      <td>20.338801</td>\n",
       "    </tr>\n",
       "    <tr>\n",
       "      <th>1</th>\n",
       "      <td>41.489810</td>\n",
       "      <td>164.325712</td>\n",
       "      <td>99.729965</td>\n",
       "      <td>36.727253</td>\n",
       "      <td>145.644953</td>\n",
       "      <td>87.163416</td>\n",
       "      <td>32.487928</td>\n",
       "      <td>107.963289</td>\n",
       "      <td>24.853433</td>\n",
       "      <td>19.637059</td>\n",
       "      <td>...</td>\n",
       "      <td>28.359521</td>\n",
       "      <td>33.037907</td>\n",
       "      <td>122.701965</td>\n",
       "      <td>15.083775</td>\n",
       "      <td>38.420932</td>\n",
       "      <td>121.197506</td>\n",
       "      <td>16.097618</td>\n",
       "      <td>29.993543</td>\n",
       "      <td>114.673994</td>\n",
       "      <td>20.396808</td>\n",
       "    </tr>\n",
       "    <tr>\n",
       "      <th>2</th>\n",
       "      <td>40.728796</td>\n",
       "      <td>164.768122</td>\n",
       "      <td>99.952857</td>\n",
       "      <td>36.003600</td>\n",
       "      <td>147.928942</td>\n",
       "      <td>86.103504</td>\n",
       "      <td>32.623244</td>\n",
       "      <td>109.553953</td>\n",
       "      <td>24.038792</td>\n",
       "      <td>19.701044</td>\n",
       "      <td>...</td>\n",
       "      <td>27.544598</td>\n",
       "      <td>34.961160</td>\n",
       "      <td>124.268777</td>\n",
       "      <td>14.290404</td>\n",
       "      <td>39.432922</td>\n",
       "      <td>121.495981</td>\n",
       "      <td>16.142338</td>\n",
       "      <td>30.088584</td>\n",
       "      <td>115.009466</td>\n",
       "      <td>20.414202</td>\n",
       "    </tr>\n",
       "    <tr>\n",
       "      <th>3</th>\n",
       "      <td>40.159973</td>\n",
       "      <td>160.651475</td>\n",
       "      <td>100.195847</td>\n",
       "      <td>35.485498</td>\n",
       "      <td>143.326761</td>\n",
       "      <td>86.965627</td>\n",
       "      <td>32.216717</td>\n",
       "      <td>108.267210</td>\n",
       "      <td>23.742999</td>\n",
       "      <td>18.541376</td>\n",
       "      <td>...</td>\n",
       "      <td>18.509690</td>\n",
       "      <td>33.672419</td>\n",
       "      <td>122.835225</td>\n",
       "      <td>14.089248</td>\n",
       "      <td>39.007619</td>\n",
       "      <td>121.332571</td>\n",
       "      <td>15.101749</td>\n",
       "      <td>29.756769</td>\n",
       "      <td>114.918405</td>\n",
       "      <td>19.325933</td>\n",
       "    </tr>\n",
       "    <tr>\n",
       "      <th>4</th>\n",
       "      <td>40.395077</td>\n",
       "      <td>162.842572</td>\n",
       "      <td>99.730411</td>\n",
       "      <td>35.712094</td>\n",
       "      <td>144.947790</td>\n",
       "      <td>86.760146</td>\n",
       "      <td>33.211226</td>\n",
       "      <td>107.410946</td>\n",
       "      <td>24.769385</td>\n",
       "      <td>18.602010</td>\n",
       "      <td>...</td>\n",
       "      <td>20.235141</td>\n",
       "      <td>33.775890</td>\n",
       "      <td>122.052749</td>\n",
       "      <td>15.063996</td>\n",
       "      <td>39.086210</td>\n",
       "      <td>119.281363</td>\n",
       "      <td>16.917555</td>\n",
       "      <td>30.704375</td>\n",
       "      <td>112.816721</td>\n",
       "      <td>21.177855</td>\n",
       "    </tr>\n",
       "    <tr>\n",
       "      <th>...</th>\n",
       "      <td>...</td>\n",
       "      <td>...</td>\n",
       "      <td>...</td>\n",
       "      <td>...</td>\n",
       "      <td>...</td>\n",
       "      <td>...</td>\n",
       "      <td>...</td>\n",
       "      <td>...</td>\n",
       "      <td>...</td>\n",
       "      <td>...</td>\n",
       "      <td>...</td>\n",
       "      <td>...</td>\n",
       "      <td>...</td>\n",
       "      <td>...</td>\n",
       "      <td>...</td>\n",
       "      <td>...</td>\n",
       "      <td>...</td>\n",
       "      <td>...</td>\n",
       "      <td>...</td>\n",
       "      <td>...</td>\n",
       "      <td>...</td>\n",
       "    </tr>\n",
       "    <tr>\n",
       "      <th>1735</th>\n",
       "      <td>41.515564</td>\n",
       "      <td>137.451876</td>\n",
       "      <td>100.000000</td>\n",
       "      <td>35.742624</td>\n",
       "      <td>148.646568</td>\n",
       "      <td>84.653613</td>\n",
       "      <td>32.739362</td>\n",
       "      <td>149.780361</td>\n",
       "      <td>13.903912</td>\n",
       "      <td>11.567446</td>\n",
       "      <td>...</td>\n",
       "      <td>9.995548</td>\n",
       "      <td>33.273470</td>\n",
       "      <td>164.773624</td>\n",
       "      <td>3.965422</td>\n",
       "      <td>41.238126</td>\n",
       "      <td>163.517675</td>\n",
       "      <td>4.822387</td>\n",
       "      <td>28.590621</td>\n",
       "      <td>156.315481</td>\n",
       "      <td>9.558647</td>\n",
       "    </tr>\n",
       "    <tr>\n",
       "      <th>1736</th>\n",
       "      <td>42.097287</td>\n",
       "      <td>133.329501</td>\n",
       "      <td>100.000000</td>\n",
       "      <td>34.999575</td>\n",
       "      <td>147.899273</td>\n",
       "      <td>87.251615</td>\n",
       "      <td>34.634767</td>\n",
       "      <td>142.221940</td>\n",
       "      <td>21.025555</td>\n",
       "      <td>12.251690</td>\n",
       "      <td>...</td>\n",
       "      <td>4.321840</td>\n",
       "      <td>35.870013</td>\n",
       "      <td>156.119137</td>\n",
       "      <td>11.815865</td>\n",
       "      <td>40.901954</td>\n",
       "      <td>153.848687</td>\n",
       "      <td>13.336467</td>\n",
       "      <td>31.870934</td>\n",
       "      <td>146.571769</td>\n",
       "      <td>18.133303</td>\n",
       "    </tr>\n",
       "    <tr>\n",
       "      <th>1737</th>\n",
       "      <td>42.099438</td>\n",
       "      <td>133.322825</td>\n",
       "      <td>100.000000</td>\n",
       "      <td>35.005352</td>\n",
       "      <td>147.911365</td>\n",
       "      <td>87.961349</td>\n",
       "      <td>34.707677</td>\n",
       "      <td>144.347646</td>\n",
       "      <td>20.334225</td>\n",
       "      <td>12.244748</td>\n",
       "      <td>...</td>\n",
       "      <td>4.320795</td>\n",
       "      <td>35.862753</td>\n",
       "      <td>156.155656</td>\n",
       "      <td>12.509365</td>\n",
       "      <td>40.936819</td>\n",
       "      <td>154.941229</td>\n",
       "      <td>13.329981</td>\n",
       "      <td>31.911538</td>\n",
       "      <td>147.645839</td>\n",
       "      <td>18.139080</td>\n",
       "    </tr>\n",
       "    <tr>\n",
       "      <th>1739</th>\n",
       "      <td>42.079886</td>\n",
       "      <td>132.739883</td>\n",
       "      <td>100.000000</td>\n",
       "      <td>35.049207</td>\n",
       "      <td>150.234051</td>\n",
       "      <td>88.393255</td>\n",
       "      <td>29.898624</td>\n",
       "      <td>132.660938</td>\n",
       "      <td>30.039164</td>\n",
       "      <td>12.263315</td>\n",
       "      <td>...</td>\n",
       "      <td>5.693542</td>\n",
       "      <td>34.076293</td>\n",
       "      <td>146.512085</td>\n",
       "      <td>20.868984</td>\n",
       "      <td>35.441555</td>\n",
       "      <td>144.336841</td>\n",
       "      <td>22.315278</td>\n",
       "      <td>27.851156</td>\n",
       "      <td>135.904718</td>\n",
       "      <td>27.882379</td>\n",
       "    </tr>\n",
       "    <tr>\n",
       "      <th>1740</th>\n",
       "      <td>43.039208</td>\n",
       "      <td>139.161813</td>\n",
       "      <td>100.000000</td>\n",
       "      <td>35.088997</td>\n",
       "      <td>151.038834</td>\n",
       "      <td>88.474867</td>\n",
       "      <td>30.502360</td>\n",
       "      <td>129.427850</td>\n",
       "      <td>32.799494</td>\n",
       "      <td>15.309057</td>\n",
       "      <td>...</td>\n",
       "      <td>8.509937</td>\n",
       "      <td>33.989292</td>\n",
       "      <td>144.370633</td>\n",
       "      <td>22.903481</td>\n",
       "      <td>35.377942</td>\n",
       "      <td>142.182103</td>\n",
       "      <td>24.358654</td>\n",
       "      <td>28.410683</td>\n",
       "      <td>131.631202</td>\n",
       "      <td>31.332349</td>\n",
       "    </tr>\n",
       "  </tbody>\n",
       "</table>\n",
       "<p>1547 rows × 36 columns</p>\n",
       "</div>"
      ],
      "text/plain": [
       "              right hip-x  right hip-y  right hip-z  right knee-x  \\\n",
       "frame_number                                                        \n",
       "0               41.370643   163.228161    99.959804     36.643326   \n",
       "1               41.489810   164.325712    99.729965     36.727253   \n",
       "2               40.728796   164.768122    99.952857     36.003600   \n",
       "3               40.159973   160.651475   100.195847     35.485498   \n",
       "4               40.395077   162.842572    99.730411     35.712094   \n",
       "...                   ...          ...          ...           ...   \n",
       "1735            41.515564   137.451876   100.000000     35.742624   \n",
       "1736            42.097287   133.329501   100.000000     34.999575   \n",
       "1737            42.099438   133.322825   100.000000     35.005352   \n",
       "1739            42.079886   132.739883   100.000000     35.049207   \n",
       "1740            43.039208   139.161813   100.000000     35.088997   \n",
       "\n",
       "              right knee-y  right knee-z  right ankle-x  right ankle-y  \\\n",
       "frame_number                                                             \n",
       "0               145.290165     86.960413      32.404607     107.722605   \n",
       "1               145.644953     87.163416      32.487928     107.963289   \n",
       "2               147.928942     86.103504      32.623244     109.553953   \n",
       "3               143.326761     86.965627      32.216717     108.267210   \n",
       "4               144.947790     86.760146      33.211226     107.410946   \n",
       "...                    ...           ...            ...            ...   \n",
       "1735            148.646568     84.653613      32.739362     149.780361   \n",
       "1736            147.899273     87.251615      34.634767     142.221940   \n",
       "1737            147.911365     87.961349      34.707677     144.347646   \n",
       "1739            150.234051     88.393255      29.898624     132.660938   \n",
       "1740            151.038834     88.474867      30.502360     129.427850   \n",
       "\n",
       "              right ankle-z  left hip-x  ...  left heel-z  right toe 1-x  \\\n",
       "frame_number                             ...                               \n",
       "0                 24.782969   19.590266  ...    28.296674      33.887073   \n",
       "1                 24.853433   19.637059  ...    28.359521      33.037907   \n",
       "2                 24.038792   19.701044  ...    27.544598      34.961160   \n",
       "3                 23.742999   18.541376  ...    18.509690      33.672419   \n",
       "4                 24.769385   18.602010  ...    20.235141      33.775890   \n",
       "...                     ...         ...  ...          ...            ...   \n",
       "1735              13.903912   11.567446  ...     9.995548      33.273470   \n",
       "1736              21.025555   12.251690  ...     4.321840      35.870013   \n",
       "1737              20.334225   12.244748  ...     4.320795      35.862753   \n",
       "1739              30.039164   12.263315  ...     5.693542      34.076293   \n",
       "1740              32.799494   15.309057  ...     8.509937      33.989292   \n",
       "\n",
       "              right toe 1-y  right toe 1-z  right toe 2-x  right toe 2-y  \\\n",
       "frame_number                                                               \n",
       "0                123.654815      14.224877      38.345958     120.902105   \n",
       "1                122.701965      15.083775      38.420932     121.197506   \n",
       "2                124.268777      14.290404      39.432922     121.495981   \n",
       "3                122.835225      14.089248      39.007619     121.332571   \n",
       "4                122.052749      15.063996      39.086210     119.281363   \n",
       "...                     ...            ...            ...            ...   \n",
       "1735             164.773624       3.965422      41.238126     163.517675   \n",
       "1736             156.119137      11.815865      40.901954     153.848687   \n",
       "1737             156.155656      12.509365      40.936819     154.941229   \n",
       "1739             146.512085      20.868984      35.441555     144.336841   \n",
       "1740             144.370633      22.903481      35.377942     142.182103   \n",
       "\n",
       "              right toe 2-z  right heel-x  right heel-y  right heel-z  \n",
       "frame_number                                                           \n",
       "0                 16.063455     29.913310    114.414536     20.338801  \n",
       "1                 16.097618     29.993543    114.673994     20.396808  \n",
       "2                 16.142338     30.088584    115.009466     20.414202  \n",
       "3                 15.101749     29.756769    114.918405     19.325933  \n",
       "4                 16.917555     30.704375    112.816721     21.177855  \n",
       "...                     ...           ...           ...           ...  \n",
       "1735               4.822387     28.590621    156.315481      9.558647  \n",
       "1736              13.336467     31.870934    146.571769     18.133303  \n",
       "1737              13.329981     31.911538    147.645839     18.139080  \n",
       "1739              22.315278     27.851156    135.904718     27.882379  \n",
       "1740              24.358654     28.410683    131.631202     31.332349  \n",
       "\n",
       "[1547 rows x 36 columns]"
      ]
     },
     "execution_count": 22,
     "metadata": {},
     "output_type": "execute_result"
    }
   ],
   "source": [
    "video_features"
   ]
  },
  {
   "cell_type": "markdown",
   "metadata": {},
   "source": [
    "### Downsample with smoothing to define fixed shape input tensor for models"
   ]
  },
  {
   "cell_type": "code",
   "execution_count": null,
   "metadata": {},
   "outputs": [],
   "source": [
    "#Use mean with disjoint windows to downsample while smoothing \n",
    "#Make sure to preserve count of frames in a frame before smoothing to add as a feature \n",
    "\n"
   ]
  }
 ],
 "metadata": {
  "kernelspec": {
   "display_name": "Python 3",
   "language": "python",
   "name": "python3"
  },
  "language_info": {
   "codemirror_mode": {
    "name": "ipython",
    "version": 3
   },
   "file_extension": ".py",
   "mimetype": "text/x-python",
   "name": "python",
   "nbconvert_exporter": "python",
   "pygments_lexer": "ipython3",
   "version": "3.7.6"
  }
 },
 "nbformat": 4,
 "nbformat_minor": 4
}
