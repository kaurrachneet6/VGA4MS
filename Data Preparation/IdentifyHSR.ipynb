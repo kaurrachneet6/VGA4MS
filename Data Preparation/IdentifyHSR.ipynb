{
 "cells": [
  {
   "cell_type": "markdown",
   "metadata": {},
   "source": [
    "## Gait Video Study \n",
    "### Identifying frames with HSRs in each video for each cohort and trial to establish break points and also evaluate the corresponding HSR labelling via the ground truth available. Further, downsample with smoothing to define fixed shape of the input tensor for models. \n",
    "#### Remember to preserve the original count of frames in a single stride (before down sampling via smoothing) for each stride to add as an additional artificial feature later to add information about speed of the subject to the model"
   ]
  },
  {
   "cell_type": "code",
   "execution_count": 40,
   "metadata": {},
   "outputs": [],
   "source": [
    "import numpy as np\n",
    "import cv2\n",
    "import os\n",
    "import glob\n",
    "%matplotlib widget\n",
    "import matplotlib.pyplot as plt\n",
    "import pandas as pd\n",
    "import time\n",
    "import shutil\n",
    "import scipy\n",
    "from scipy import signal\n",
    "from scipy.signal import lfilter, firwin, filtfilt, find_peaks, argrelextrema\n",
    "import warnings\n",
    "warnings.filterwarnings(\"ignore\")\n",
    "from IPython.display import display, HTML"
   ]
  },
  {
   "cell_type": "code",
   "execution_count": 41,
   "metadata": {},
   "outputs": [],
   "source": [
    "path = 'C:\\\\Users\\\\purpl\\\\Box\\\\Gait Video Project\\\\GaitVideoData\\\\video\\\\frame_data'\n",
    "frame_path_merged = 'C:\\\\Users\\\\purpl\\\\Box\\\\Gait Video Project\\\\GaitVideoData\\\\video\\\\multi_view_merged_data\\\\'\n",
    "\n",
    "#Configuration for which to run the code for \n",
    "cohorts = ['\\\\HOA', '\\\\MS', '\\\\PD', '\\\\ExtraHOA']\n",
    "trials = ['\\\\beam_walking', '\\\\walking']\n",
    "cameras = ['\\\\feet\\\\', '\\\\lower_body\\\\']\n",
    "\n",
    "order = ['right hip', 'right knee', 'right ankle', 'left hip', 'left knee', 'left ankle', 'left toe 1', 'left toe 2', \\\n",
    "         'left heel', 'right toe 1', 'right toe 2', 'right heel']"
   ]
  },
  {
   "cell_type": "markdown",
   "metadata": {},
   "source": [
    "### Utility functions "
   ]
  },
  {
   "cell_type": "code",
   "execution_count": null,
   "metadata": {},
   "outputs": [],
   "source": []
  },
  {
   "cell_type": "code",
   "execution_count": 5,
   "metadata": {
    "scrolled": true
   },
   "outputs": [
    {
     "name": "stdout",
     "output_type": "stream",
     "text": [
      "[]\n",
      "[Errno 2] No such file or directory: 'C:\\\\Users\\\\purpl\\\\Box\\\\Gait Video Project\\\\GaitVideoData\\\\video\\\\frame_data\\\\HOA\\\\beam_walking\\\\feet\\\\InkedGVS_212_T_T1_0_Trim\\\\HSRframes.txt'\n",
      "[]\n",
      "[Errno 2] No such file or directory: 'C:\\\\Users\\\\purpl\\\\Box\\\\Gait Video Project\\\\GaitVideoData\\\\video\\\\frame_data\\\\HOA\\\\beam_walking\\\\feet\\\\InkedGVS_212_T_T2_0_Trim\\\\HSRframes.txt'\n",
      "[]\n",
      "[Errno 2] No such file or directory: 'C:\\\\Users\\\\purpl\\\\Box\\\\Gait Video Project\\\\GaitVideoData\\\\video\\\\frame_data\\\\HOA\\\\beam_walking\\\\feet\\\\InkedGVS_213_T_T1_0_Trim\\\\HSRframes.txt'\n",
      "[]\n",
      "[Errno 2] No such file or directory: 'C:\\\\Users\\\\purpl\\\\Box\\\\Gait Video Project\\\\GaitVideoData\\\\video\\\\frame_data\\\\HOA\\\\beam_walking\\\\feet\\\\InkedGVS_213_T_T2_0_Trim\\\\HSRframes.txt'\n",
      "[]\n",
      "[Errno 2] No such file or directory: 'C:\\\\Users\\\\purpl\\\\Box\\\\Gait Video Project\\\\GaitVideoData\\\\video\\\\frame_data\\\\HOA\\\\beam_walking\\\\feet\\\\InkedGVS_214_T_T1_0_Trim\\\\HSRframes.txt'\n",
      "[]\n",
      "[Errno 2] No such file or directory: 'C:\\\\Users\\\\purpl\\\\Box\\\\Gait Video Project\\\\GaitVideoData\\\\video\\\\frame_data\\\\HOA\\\\beam_walking\\\\feet\\\\InkedGVS_214_T_T2_0_Trim\\\\HSRframes.txt'\n",
      "[]\n",
      "[Errno 2] No such file or directory: 'C:\\\\Users\\\\purpl\\\\Box\\\\Gait Video Project\\\\GaitVideoData\\\\video\\\\frame_data\\\\HOA\\\\beam_walking\\\\feet\\\\InkedGVS_215_T_T1_0_Trim\\\\HSRframes.txt'\n",
      "[]\n",
      "[Errno 2] No such file or directory: 'C:\\\\Users\\\\purpl\\\\Box\\\\Gait Video Project\\\\GaitVideoData\\\\video\\\\frame_data\\\\HOA\\\\beam_walking\\\\feet\\\\InkedGVS_215_T_T2_0_Trim\\\\HSRframes.txt'\n",
      "[]\n",
      "[Errno 2] No such file or directory: 'C:\\\\Users\\\\purpl\\\\Box\\\\Gait Video Project\\\\GaitVideoData\\\\video\\\\frame_data\\\\HOA\\\\beam_walking\\\\feet\\\\InkedGVS_216_T_T1_0_Trim\\\\HSRframes.txt'\n",
      "[]\n",
      "[Errno 2] No such file or directory: 'C:\\\\Users\\\\purpl\\\\Box\\\\Gait Video Project\\\\GaitVideoData\\\\video\\\\frame_data\\\\HOA\\\\beam_walking\\\\feet\\\\InkedGVS_216_T_T2_0_Trim\\\\HSRframes.txt'\n",
      "[]\n",
      "[Errno 2] No such file or directory: 'C:\\\\Users\\\\purpl\\\\Box\\\\Gait Video Project\\\\GaitVideoData\\\\video\\\\frame_data\\\\HOA\\\\beam_walking\\\\feet\\\\InkedGVS_217_T_T1_0_Trim\\\\HSRframes.txt'\n",
      "[]\n",
      "[Errno 2] No such file or directory: 'C:\\\\Users\\\\purpl\\\\Box\\\\Gait Video Project\\\\GaitVideoData\\\\video\\\\frame_data\\\\HOA\\\\beam_walking\\\\feet\\\\InkedGVS_217_T_T2_0_Trim\\\\HSRframes.txt'\n",
      "[]\n",
      "[Errno 2] No such file or directory: 'C:\\\\Users\\\\purpl\\\\Box\\\\Gait Video Project\\\\GaitVideoData\\\\video\\\\frame_data\\\\HOA\\\\beam_walking\\\\feet\\\\InkedGVS_218_T_T1_0_Trim\\\\HSRframes.txt'\n",
      "[]\n",
      "[Errno 2] No such file or directory: 'C:\\\\Users\\\\purpl\\\\Box\\\\Gait Video Project\\\\GaitVideoData\\\\video\\\\frame_data\\\\HOA\\\\beam_walking\\\\feet\\\\InkedGVS_218_T_T2_0_Trim\\\\HSRframes.txt'\n",
      "[]\n",
      "[Errno 2] No such file or directory: 'C:\\\\Users\\\\purpl\\\\Box\\\\Gait Video Project\\\\GaitVideoData\\\\video\\\\frame_data\\\\HOA\\\\beam_walking\\\\feet\\\\InkedGVS_219_T_T1_0_Trim\\\\HSRframes.txt'\n",
      "[]\n",
      "[Errno 2] No such file or directory: 'C:\\\\Users\\\\purpl\\\\Box\\\\Gait Video Project\\\\GaitVideoData\\\\video\\\\frame_data\\\\HOA\\\\beam_walking\\\\feet\\\\InkedGVS_219_T_T2_0_Trim\\\\HSRframes.txt'\n",
      "['C:\\\\Users\\\\purpl\\\\Box\\\\Gait Video Project\\\\GaitVideoData\\\\video\\\\frame_data\\\\HOA\\\\walking\\\\feet\\\\InkedGVS_212_W_T1_0_Trim']\n",
      "[Errno 22] Invalid argument: 'C:\\\\Users\\\\purpl\\\\Box\\\\Gait Video Project\\\\GaitVideoData\\\\video\\\\frame_data\\\\HOA\\\\walking\\\\feet\\\\InkedGVS_212_W_T1_0_Trim\\\\HSRframes.txt'\n",
      "['C:\\\\Users\\\\purpl\\\\Box\\\\Gait Video Project\\\\GaitVideoData\\\\video\\\\frame_data\\\\HOA\\\\walking\\\\feet\\\\InkedGVS_212_W_T2_0_Trim']\n",
      "[Errno 2] No such file or directory: 'C:\\\\Users\\\\purpl\\\\Box\\\\Gait Video Project\\\\GaitVideoData\\\\video\\\\frame_data\\\\HOA\\\\walking\\\\feet\\\\InkedGVS_212_W_T2_0_Trim\\\\HSRframes.txt'\n",
      "['C:\\\\Users\\\\purpl\\\\Box\\\\Gait Video Project\\\\GaitVideoData\\\\video\\\\frame_data\\\\HOA\\\\walking\\\\feet\\\\InkedGVS_213_W_T1_0_Trim']\n",
      "[Errno 2] No such file or directory: 'C:\\\\Users\\\\purpl\\\\Box\\\\Gait Video Project\\\\GaitVideoData\\\\video\\\\frame_data\\\\HOA\\\\walking\\\\feet\\\\InkedGVS_213_W_T1_0_Trim\\\\HSRframes.txt'\n",
      "['C:\\\\Users\\\\purpl\\\\Box\\\\Gait Video Project\\\\GaitVideoData\\\\video\\\\frame_data\\\\HOA\\\\walking\\\\feet\\\\InkedGVS_213_W_T2_0_Trim']\n",
      "[Errno 2] No such file or directory: 'C:\\\\Users\\\\purpl\\\\Box\\\\Gait Video Project\\\\GaitVideoData\\\\video\\\\frame_data\\\\HOA\\\\walking\\\\feet\\\\InkedGVS_213_W_T2_0_Trim\\\\HSRframes.txt'\n",
      "['C:\\\\Users\\\\purpl\\\\Box\\\\Gait Video Project\\\\GaitVideoData\\\\video\\\\frame_data\\\\HOA\\\\walking\\\\feet\\\\InkedGVS_214_W_T1_0_Trim']\n",
      "[Errno 2] No such file or directory: 'C:\\\\Users\\\\purpl\\\\Box\\\\Gait Video Project\\\\GaitVideoData\\\\video\\\\frame_data\\\\HOA\\\\walking\\\\feet\\\\InkedGVS_214_W_T1_0_Trim\\\\HSRframes.txt'\n",
      "['C:\\\\Users\\\\purpl\\\\Box\\\\Gait Video Project\\\\GaitVideoData\\\\video\\\\frame_data\\\\HOA\\\\walking\\\\feet\\\\InkedGVS_214_W_T2_0_Trim']\n",
      "[Errno 2] No such file or directory: 'C:\\\\Users\\\\purpl\\\\Box\\\\Gait Video Project\\\\GaitVideoData\\\\video\\\\frame_data\\\\HOA\\\\walking\\\\feet\\\\InkedGVS_214_W_T2_0_Trim\\\\HSRframes.txt'\n",
      "['C:\\\\Users\\\\purpl\\\\Box\\\\Gait Video Project\\\\GaitVideoData\\\\video\\\\frame_data\\\\HOA\\\\walking\\\\feet\\\\InkedGVS_215_W_T1_0_Trim']\n",
      "[Errno 2] No such file or directory: 'C:\\\\Users\\\\purpl\\\\Box\\\\Gait Video Project\\\\GaitVideoData\\\\video\\\\frame_data\\\\HOA\\\\walking\\\\feet\\\\InkedGVS_215_W_T1_0_Trim\\\\HSRframes.txt'\n",
      "['C:\\\\Users\\\\purpl\\\\Box\\\\Gait Video Project\\\\GaitVideoData\\\\video\\\\frame_data\\\\HOA\\\\walking\\\\feet\\\\InkedGVS_215_W_T2_0_Trim']\n",
      "[Errno 2] No such file or directory: 'C:\\\\Users\\\\purpl\\\\Box\\\\Gait Video Project\\\\GaitVideoData\\\\video\\\\frame_data\\\\HOA\\\\walking\\\\feet\\\\InkedGVS_215_W_T2_0_Trim\\\\HSRframes.txt'\n",
      "['C:\\\\Users\\\\purpl\\\\Box\\\\Gait Video Project\\\\GaitVideoData\\\\video\\\\frame_data\\\\HOA\\\\walking\\\\feet\\\\InkedGVS_216_W_T1_0_Trim']\n",
      "[Errno 2] No such file or directory: 'C:\\\\Users\\\\purpl\\\\Box\\\\Gait Video Project\\\\GaitVideoData\\\\video\\\\frame_data\\\\HOA\\\\walking\\\\feet\\\\InkedGVS_216_W_T1_0_Trim\\\\HSRframes.txt'\n",
      "['C:\\\\Users\\\\purpl\\\\Box\\\\Gait Video Project\\\\GaitVideoData\\\\video\\\\frame_data\\\\HOA\\\\walking\\\\feet\\\\InkedGVS_216_W_T2_0_Trim']\n",
      "[Errno 2] No such file or directory: 'C:\\\\Users\\\\purpl\\\\Box\\\\Gait Video Project\\\\GaitVideoData\\\\video\\\\frame_data\\\\HOA\\\\walking\\\\feet\\\\InkedGVS_216_W_T2_0_Trim\\\\HSRframes.txt'\n",
      "['C:\\\\Users\\\\purpl\\\\Box\\\\Gait Video Project\\\\GaitVideoData\\\\video\\\\frame_data\\\\HOA\\\\walking\\\\feet\\\\InkedGVS_217_W_T1_0_Trim']\n",
      "[Errno 2] No such file or directory: 'C:\\\\Users\\\\purpl\\\\Box\\\\Gait Video Project\\\\GaitVideoData\\\\video\\\\frame_data\\\\HOA\\\\walking\\\\feet\\\\InkedGVS_217_W_T1_0_Trim\\\\HSRframes.txt'\n",
      "['C:\\\\Users\\\\purpl\\\\Box\\\\Gait Video Project\\\\GaitVideoData\\\\video\\\\frame_data\\\\HOA\\\\walking\\\\feet\\\\InkedGVS_217_W_T2_0_Trim']\n",
      "[Errno 2] No such file or directory: 'C:\\\\Users\\\\purpl\\\\Box\\\\Gait Video Project\\\\GaitVideoData\\\\video\\\\frame_data\\\\HOA\\\\walking\\\\feet\\\\InkedGVS_217_W_T2_0_Trim\\\\HSRframes.txt'\n",
      "['C:\\\\Users\\\\purpl\\\\Box\\\\Gait Video Project\\\\GaitVideoData\\\\video\\\\frame_data\\\\HOA\\\\walking\\\\feet\\\\InkedGVS_218_W_T1_0_Trim']\n",
      "[Errno 2] No such file or directory: 'C:\\\\Users\\\\purpl\\\\Box\\\\Gait Video Project\\\\GaitVideoData\\\\video\\\\frame_data\\\\HOA\\\\walking\\\\feet\\\\InkedGVS_218_W_T1_0_Trim\\\\HSRframes.txt'\n",
      "['C:\\\\Users\\\\purpl\\\\Box\\\\Gait Video Project\\\\GaitVideoData\\\\video\\\\frame_data\\\\HOA\\\\walking\\\\feet\\\\InkedGVS_218_W_T2_0_Trim']\n",
      "[Errno 2] No such file or directory: 'C:\\\\Users\\\\purpl\\\\Box\\\\Gait Video Project\\\\GaitVideoData\\\\video\\\\frame_data\\\\HOA\\\\walking\\\\feet\\\\InkedGVS_218_W_T2_0_Trim\\\\HSRframes.txt'\n",
      "['C:\\\\Users\\\\purpl\\\\Box\\\\Gait Video Project\\\\GaitVideoData\\\\video\\\\frame_data\\\\HOA\\\\walking\\\\feet\\\\InkedGVS_219_W_T1_0_Trim']\n",
      "[Errno 2] No such file or directory: 'C:\\\\Users\\\\purpl\\\\Box\\\\Gait Video Project\\\\GaitVideoData\\\\video\\\\frame_data\\\\HOA\\\\walking\\\\feet\\\\InkedGVS_219_W_T1_0_Trim\\\\HSRframes.txt'\n",
      "['C:\\\\Users\\\\purpl\\\\Box\\\\Gait Video Project\\\\GaitVideoData\\\\video\\\\frame_data\\\\HOA\\\\walking\\\\feet\\\\InkedGVS_219_W_T2_0_Trim']\n",
      "[Errno 2] No such file or directory: 'C:\\\\Users\\\\purpl\\\\Box\\\\Gait Video Project\\\\GaitVideoData\\\\video\\\\frame_data\\\\HOA\\\\walking\\\\feet\\\\InkedGVS_219_W_T2_0_Trim\\\\HSRframes.txt'\n",
      "['C:\\\\Users\\\\purpl\\\\Box\\\\Gait Video Project\\\\GaitVideoData\\\\video\\\\frame_data\\\\MS\\\\beam_walking\\\\feet\\\\InkedGVS_310_T_T1_0_Trim']\n",
      "HSR for GVS_310_T_T1 copied\n",
      "['C:\\\\Users\\\\purpl\\\\Box\\\\Gait Video Project\\\\GaitVideoData\\\\video\\\\frame_data\\\\MS\\\\beam_walking\\\\feet\\\\InkedGVS_310_T_T2_0_Trim']\n",
      "HSR for GVS_310_T_T2 copied\n",
      "['C:\\\\Users\\\\purpl\\\\Box\\\\Gait Video Project\\\\GaitVideoData\\\\video\\\\frame_data\\\\MS\\\\beam_walking\\\\feet\\\\InkedGVS_311_T_T1_0_Trim']\n",
      "HSR for GVS_311_T_T1 copied\n",
      "['C:\\\\Users\\\\purpl\\\\Box\\\\Gait Video Project\\\\GaitVideoData\\\\video\\\\frame_data\\\\MS\\\\beam_walking\\\\feet\\\\InkedGVS_311_T_T2_0_Trim']\n",
      "HSR for GVS_311_T_T2 copied\n",
      "[]\n",
      "[Errno 2] No such file or directory: 'C:\\\\Users\\\\purpl\\\\Box\\\\Gait Video Project\\\\GaitVideoData\\\\video\\\\frame_data\\\\MS\\\\beam_walking\\\\feet\\\\InkedGVS_312_T_T1_0_Trim\\\\HSRframes.txt'\n",
      "[]\n",
      "[Errno 2] No such file or directory: 'C:\\\\Users\\\\purpl\\\\Box\\\\Gait Video Project\\\\GaitVideoData\\\\video\\\\frame_data\\\\MS\\\\beam_walking\\\\feet\\\\InkedGVS_312_T_T2_0_Trim\\\\HSRframes.txt'\n",
      "['C:\\\\Users\\\\purpl\\\\Box\\\\Gait Video Project\\\\GaitVideoData\\\\video\\\\frame_data\\\\MS\\\\beam_walking\\\\feet\\\\InkedGVS_314_T_T1_0_Trim']\n",
      "[Errno 22] Invalid argument: 'C:\\\\Users\\\\purpl\\\\Box\\\\Gait Video Project\\\\GaitVideoData\\\\video\\\\frame_data\\\\MS\\\\beam_walking\\\\feet\\\\InkedGVS_314_T_T1_0_Trim\\\\HSRframes.txt'\n",
      "['C:\\\\Users\\\\purpl\\\\Box\\\\Gait Video Project\\\\GaitVideoData\\\\video\\\\frame_data\\\\MS\\\\beam_walking\\\\feet\\\\InkedGVS_314_T_T2_0_Trim']\n",
      "HSR for GVS_314_T_T2 copied\n",
      "[]\n",
      "[Errno 2] No such file or directory: 'C:\\\\Users\\\\purpl\\\\Box\\\\Gait Video Project\\\\GaitVideoData\\\\video\\\\frame_data\\\\MS\\\\beam_walking\\\\feet\\\\InkedGVS_318_T_T1_0_Trim\\\\HSRframes.txt'\n",
      "[]\n",
      "[Errno 2] No such file or directory: 'C:\\\\Users\\\\purpl\\\\Box\\\\Gait Video Project\\\\GaitVideoData\\\\video\\\\frame_data\\\\MS\\\\beam_walking\\\\feet\\\\InkedGVS_318_T_T2_0_Trim\\\\HSRframes.txt'\n",
      "['C:\\\\Users\\\\purpl\\\\Box\\\\Gait Video Project\\\\GaitVideoData\\\\video\\\\frame_data\\\\MS\\\\beam_walking\\\\feet\\\\InkedGVS_320_T_T1_0_Trim']\n",
      "HSR for GVS_320_T_T1 copied\n",
      "['C:\\\\Users\\\\purpl\\\\Box\\\\Gait Video Project\\\\GaitVideoData\\\\video\\\\frame_data\\\\MS\\\\beam_walking\\\\feet\\\\InkedGVS_320_T_T2_0_Trim']\n",
      "HSR for GVS_320_T_T2 copied\n",
      "['C:\\\\Users\\\\purpl\\\\Box\\\\Gait Video Project\\\\GaitVideoData\\\\video\\\\frame_data\\\\MS\\\\beam_walking\\\\feet\\\\InkedGVS_321_T_T1_0_Trim']\n",
      "HSR for GVS_321_T_T1 copied\n",
      "['C:\\\\Users\\\\purpl\\\\Box\\\\Gait Video Project\\\\GaitVideoData\\\\video\\\\frame_data\\\\MS\\\\beam_walking\\\\feet\\\\InkedGVS_321_T_T2_0_Trim']\n",
      "[Errno 22] Invalid argument: 'C:\\\\Users\\\\purpl\\\\Box\\\\Gait Video Project\\\\GaitVideoData\\\\video\\\\frame_data\\\\MS\\\\beam_walking\\\\feet\\\\InkedGVS_321_T_T2_0_Trim\\\\HSRframes.txt'\n",
      "['C:\\\\Users\\\\purpl\\\\Box\\\\Gait Video Project\\\\GaitVideoData\\\\video\\\\frame_data\\\\MS\\\\beam_walking\\\\feet\\\\InkedGVS_323_T_T1_0_Trim']\n",
      "[Errno 22] Invalid argument: 'C:\\\\Users\\\\purpl\\\\Box\\\\Gait Video Project\\\\GaitVideoData\\\\video\\\\frame_data\\\\MS\\\\beam_walking\\\\feet\\\\InkedGVS_323_T_T1_0_Trim\\\\HSRframes.txt'\n",
      "[]\n",
      "[Errno 22] Invalid argument: 'C:\\\\Users\\\\purpl\\\\Box\\\\Gait Video Project\\\\GaitVideoData\\\\video\\\\frame_data\\\\MS\\\\walking\\\\feet\\\\InkedGVS_310_W_T1_0_Trim\\\\HSRframes.txt'\n",
      "['C:\\\\Users\\\\purpl\\\\Box\\\\Gait Video Project\\\\GaitVideoData\\\\video\\\\frame_data\\\\MS\\\\walking\\\\feet\\\\InkedGVS_310_W_T2_0_Trim']\n",
      "[Errno 22] Invalid argument: 'C:\\\\Users\\\\purpl\\\\Box\\\\Gait Video Project\\\\GaitVideoData\\\\video\\\\frame_data\\\\MS\\\\walking\\\\feet\\\\InkedGVS_310_W_T2_0_Trim\\\\HSRframes.txt'\n",
      "['C:\\\\Users\\\\purpl\\\\Box\\\\Gait Video Project\\\\GaitVideoData\\\\video\\\\frame_data\\\\MS\\\\walking\\\\feet\\\\InkedGVS_311_W_T1_0_Trim']\n",
      "[Errno 22] Invalid argument: 'C:\\\\Users\\\\purpl\\\\Box\\\\Gait Video Project\\\\GaitVideoData\\\\video\\\\frame_data\\\\MS\\\\walking\\\\feet\\\\InkedGVS_311_W_T1_0_Trim\\\\HSRframes.txt'\n",
      "[]\n",
      "[Errno 2] No such file or directory: 'C:\\\\Users\\\\purpl\\\\Box\\\\Gait Video Project\\\\GaitVideoData\\\\video\\\\frame_data\\\\MS\\\\walking\\\\feet\\\\InkedGVS_311_W_T2_0_Trim\\\\HSRframes.txt'\n",
      "[]\n",
      "[Errno 2] No such file or directory: 'C:\\\\Users\\\\purpl\\\\Box\\\\Gait Video Project\\\\GaitVideoData\\\\video\\\\frame_data\\\\MS\\\\walking\\\\feet\\\\InkedGVS_312_W_T2_0_Trim\\\\HSRframes.txt'\n",
      "[]\n",
      "[Errno 2] No such file or directory: 'C:\\\\Users\\\\purpl\\\\Box\\\\Gait Video Project\\\\GaitVideoData\\\\video\\\\frame_data\\\\MS\\\\walking\\\\feet\\\\InkedGVS_313_W_T1_0_Trim\\\\HSRframes.txt'\n",
      "[]\n",
      "[Errno 2] No such file or directory: 'C:\\\\Users\\\\purpl\\\\Box\\\\Gait Video Project\\\\GaitVideoData\\\\video\\\\frame_data\\\\MS\\\\walking\\\\feet\\\\InkedGVS_313_W_T2_0_Trim\\\\HSRframes.txt'\n",
      "[]\n",
      "[Errno 2] No such file or directory: 'C:\\\\Users\\\\purpl\\\\Box\\\\Gait Video Project\\\\GaitVideoData\\\\video\\\\frame_data\\\\MS\\\\walking\\\\feet\\\\InkedGVS_314_W_T1_0_Trim\\\\HSRframes.txt'\n",
      "[]\n",
      "[Errno 2] No such file or directory: 'C:\\\\Users\\\\purpl\\\\Box\\\\Gait Video Project\\\\GaitVideoData\\\\video\\\\frame_data\\\\MS\\\\walking\\\\feet\\\\InkedGVS_314_W_T2_0_Trim\\\\HSRframes.txt'\n",
      "[]\n",
      "[Errno 2] No such file or directory: 'C:\\\\Users\\\\purpl\\\\Box\\\\Gait Video Project\\\\GaitVideoData\\\\video\\\\frame_data\\\\MS\\\\walking\\\\feet\\\\InkedGVS_318_W_T1_0_Trim\\\\HSRframes.txt'\n",
      "[]\n",
      "[Errno 2] No such file or directory: 'C:\\\\Users\\\\purpl\\\\Box\\\\Gait Video Project\\\\GaitVideoData\\\\video\\\\frame_data\\\\MS\\\\walking\\\\feet\\\\InkedGVS_318_W_T2_0_Trim\\\\HSRframes.txt'\n",
      "[]\n",
      "[Errno 2] No such file or directory: 'C:\\\\Users\\\\purpl\\\\Box\\\\Gait Video Project\\\\GaitVideoData\\\\video\\\\frame_data\\\\MS\\\\walking\\\\feet\\\\InkedGVS_320_W_T1_0_Trim\\\\HSRframes.txt'\n",
      "[]\n",
      "[Errno 2] No such file or directory: 'C:\\\\Users\\\\purpl\\\\Box\\\\Gait Video Project\\\\GaitVideoData\\\\video\\\\frame_data\\\\MS\\\\walking\\\\feet\\\\InkedGVS_320_W_T2_0_Trim\\\\HSRframes.txt'\n",
      "[]\n",
      "[Errno 2] No such file or directory: 'C:\\\\Users\\\\purpl\\\\Box\\\\Gait Video Project\\\\GaitVideoData\\\\video\\\\frame_data\\\\MS\\\\walking\\\\feet\\\\InkedGVS_321_W_T1_0_Trim\\\\HSRframes.txt'\n",
      "[]\n",
      "[Errno 2] No such file or directory: 'C:\\\\Users\\\\purpl\\\\Box\\\\Gait Video Project\\\\GaitVideoData\\\\video\\\\frame_data\\\\MS\\\\walking\\\\feet\\\\InkedGVS_321_W_T2_0_Trim\\\\HSRframes.txt'\n",
      "[]\n",
      "[Errno 2] No such file or directory: 'C:\\\\Users\\\\purpl\\\\Box\\\\Gait Video Project\\\\GaitVideoData\\\\video\\\\frame_data\\\\MS\\\\walking\\\\feet\\\\InkedGVS_322_W_T1_0_Trim\\\\HSRframes.txt'\n",
      "[]\n",
      "[Errno 2] No such file or directory: 'C:\\\\Users\\\\purpl\\\\Box\\\\Gait Video Project\\\\GaitVideoData\\\\video\\\\frame_data\\\\MS\\\\walking\\\\feet\\\\InkedGVS_322_W_T2_0_Trim\\\\HSRframes.txt'\n",
      "[]\n",
      "[Errno 2] No such file or directory: 'C:\\\\Users\\\\purpl\\\\Box\\\\Gait Video Project\\\\GaitVideoData\\\\video\\\\frame_data\\\\MS\\\\walking\\\\feet\\\\InkedGVS_323_W_T1_0_Trim\\\\HSRframes.txt'\n",
      "[]\n",
      "[Errno 2] No such file or directory: 'C:\\\\Users\\\\purpl\\\\Box\\\\Gait Video Project\\\\GaitVideoData\\\\video\\\\frame_data\\\\MS\\\\walking\\\\feet\\\\InkedGVS_323_W_T2_0_Trim\\\\HSRframes.txt'\n",
      "['C:\\\\Users\\\\purpl\\\\Box\\\\Gait Video Project\\\\GaitVideoData\\\\video\\\\frame_data\\\\PD\\\\beam_walking\\\\feet\\\\InkedGVS_403_T_T1_0_Trim']\n",
      "[Errno 22] Invalid argument: 'C:\\\\Users\\\\purpl\\\\Box\\\\Gait Video Project\\\\GaitVideoData\\\\video\\\\frame_data\\\\PD\\\\beam_walking\\\\feet\\\\InkedGVS_403_T_T1_0_Trim\\\\HSRframes.txt'\n",
      "['C:\\\\Users\\\\purpl\\\\Box\\\\Gait Video Project\\\\GaitVideoData\\\\video\\\\frame_data\\\\PD\\\\beam_walking\\\\feet\\\\InkedGVS_403_T_T2_0_Trim']\n",
      "[Errno 22] Invalid argument: 'C:\\\\Users\\\\purpl\\\\Box\\\\Gait Video Project\\\\GaitVideoData\\\\video\\\\frame_data\\\\PD\\\\beam_walking\\\\feet\\\\InkedGVS_403_T_T2_0_Trim\\\\HSRframes.txt'\n",
      "['C:\\\\Users\\\\purpl\\\\Box\\\\Gait Video Project\\\\GaitVideoData\\\\video\\\\frame_data\\\\PD\\\\beam_walking\\\\feet\\\\InkedGVS_406_T_T1_0_Trim']\n",
      "[Errno 22] Invalid argument: 'C:\\\\Users\\\\purpl\\\\Box\\\\Gait Video Project\\\\GaitVideoData\\\\video\\\\frame_data\\\\PD\\\\beam_walking\\\\feet\\\\InkedGVS_406_T_T1_0_Trim\\\\HSRframes.txt'\n",
      "['C:\\\\Users\\\\purpl\\\\Box\\\\Gait Video Project\\\\GaitVideoData\\\\video\\\\frame_data\\\\PD\\\\beam_walking\\\\feet\\\\InkedGVS_406_T_T2_0_Trim']\n",
      "[Errno 22] Invalid argument: 'C:\\\\Users\\\\purpl\\\\Box\\\\Gait Video Project\\\\GaitVideoData\\\\video\\\\frame_data\\\\PD\\\\beam_walking\\\\feet\\\\InkedGVS_406_T_T2_0_Trim\\\\HSRframes.txt'\n",
      "['C:\\\\Users\\\\purpl\\\\Box\\\\Gait Video Project\\\\GaitVideoData\\\\video\\\\frame_data\\\\PD\\\\beam_walking\\\\feet\\\\InkedGVS_407_T_T1_0_Trim']\n",
      "[Errno 22] Invalid argument: 'C:\\\\Users\\\\purpl\\\\Box\\\\Gait Video Project\\\\GaitVideoData\\\\video\\\\frame_data\\\\PD\\\\beam_walking\\\\feet\\\\InkedGVS_407_T_T1_0_Trim\\\\HSRframes.txt'\n",
      "['C:\\\\Users\\\\purpl\\\\Box\\\\Gait Video Project\\\\GaitVideoData\\\\video\\\\frame_data\\\\PD\\\\beam_walking\\\\feet\\\\InkedGVS_407_T_T2_0_Trim']\n",
      "[Errno 22] Invalid argument: 'C:\\\\Users\\\\purpl\\\\Box\\\\Gait Video Project\\\\GaitVideoData\\\\video\\\\frame_data\\\\PD\\\\beam_walking\\\\feet\\\\InkedGVS_407_T_T2_0_Trim\\\\HSRframes.txt'\n",
      "['C:\\\\Users\\\\purpl\\\\Box\\\\Gait Video Project\\\\GaitVideoData\\\\video\\\\frame_data\\\\PD\\\\beam_walking\\\\feet\\\\InkedGVS_408_T_T1_0_Trim']\n",
      "[Errno 22] Invalid argument: 'C:\\\\Users\\\\purpl\\\\Box\\\\Gait Video Project\\\\GaitVideoData\\\\video\\\\frame_data\\\\PD\\\\beam_walking\\\\feet\\\\InkedGVS_408_T_T1_0_Trim\\\\HSRframes.txt'\n",
      "['C:\\\\Users\\\\purpl\\\\Box\\\\Gait Video Project\\\\GaitVideoData\\\\video\\\\frame_data\\\\PD\\\\beam_walking\\\\feet\\\\InkedGVS_408_T_T2_0_Trim']\n",
      "[Errno 22] Invalid argument: 'C:\\\\Users\\\\purpl\\\\Box\\\\Gait Video Project\\\\GaitVideoData\\\\video\\\\frame_data\\\\PD\\\\beam_walking\\\\feet\\\\InkedGVS_408_T_T2_0_Trim\\\\HSRframes.txt'\n",
      "[]\n",
      "[Errno 2] No such file or directory: 'C:\\\\Users\\\\purpl\\\\Box\\\\Gait Video Project\\\\GaitVideoData\\\\video\\\\frame_data\\\\PD\\\\beam_walking\\\\feet\\\\InkedGVS_409_T_T1_0_Trim\\\\HSRframes.txt'\n",
      "[]\n",
      "[Errno 2] No such file or directory: 'C:\\\\Users\\\\purpl\\\\Box\\\\Gait Video Project\\\\GaitVideoData\\\\video\\\\frame_data\\\\PD\\\\beam_walking\\\\feet\\\\InkedGVS_409_T_T2_0_Trim\\\\HSRframes.txt'\n",
      "['C:\\\\Users\\\\purpl\\\\Box\\\\Gait Video Project\\\\GaitVideoData\\\\video\\\\frame_data\\\\PD\\\\beam_walking\\\\feet\\\\InkedGVS_410_T_T1_0_Trim']\n",
      "[Errno 22] Invalid argument: 'C:\\\\Users\\\\purpl\\\\Box\\\\Gait Video Project\\\\GaitVideoData\\\\video\\\\frame_data\\\\PD\\\\beam_walking\\\\feet\\\\InkedGVS_410_T_T1_0_Trim\\\\HSRframes.txt'\n",
      "['C:\\\\Users\\\\purpl\\\\Box\\\\Gait Video Project\\\\GaitVideoData\\\\video\\\\frame_data\\\\PD\\\\beam_walking\\\\feet\\\\InkedGVS_410_T_T2_0_Trim']\n",
      "[Errno 22] Invalid argument: 'C:\\\\Users\\\\purpl\\\\Box\\\\Gait Video Project\\\\GaitVideoData\\\\video\\\\frame_data\\\\PD\\\\beam_walking\\\\feet\\\\InkedGVS_410_T_T2_0_Trim\\\\HSRframes.txt'\n",
      "[]\n",
      "[Errno 22] Invalid argument: 'C:\\\\Users\\\\purpl\\\\Box\\\\Gait Video Project\\\\GaitVideoData\\\\video\\\\frame_data\\\\PD\\\\walking\\\\feet\\\\InkedGVS_403_W_T2_0_Trim\\\\HSRframes.txt'\n",
      "['C:\\\\Users\\\\purpl\\\\Box\\\\Gait Video Project\\\\GaitVideoData\\\\video\\\\frame_data\\\\PD\\\\walking\\\\feet\\\\InkedGVS_404_W_T1_0_Trim']\n",
      "[Errno 22] Invalid argument: 'C:\\\\Users\\\\purpl\\\\Box\\\\Gait Video Project\\\\GaitVideoData\\\\video\\\\frame_data\\\\PD\\\\walking\\\\feet\\\\InkedGVS_404_W_T1_0_Trim\\\\HSRframes.txt'\n",
      "[]\n",
      "[Errno 2] No such file or directory: 'C:\\\\Users\\\\purpl\\\\Box\\\\Gait Video Project\\\\GaitVideoData\\\\video\\\\frame_data\\\\PD\\\\walking\\\\feet\\\\InkedGVS_404_W_T2_0_Trim\\\\HSRframes.txt'\n",
      "[]\n",
      "[Errno 2] No such file or directory: 'C:\\\\Users\\\\purpl\\\\Box\\\\Gait Video Project\\\\GaitVideoData\\\\video\\\\frame_data\\\\PD\\\\walking\\\\feet\\\\InkedGVS_404_W_T3_0_Trim\\\\HSRframes.txt'\n",
      "[]\n",
      "[Errno 2] No such file or directory: 'C:\\\\Users\\\\purpl\\\\Box\\\\Gait Video Project\\\\GaitVideoData\\\\video\\\\frame_data\\\\PD\\\\walking\\\\feet\\\\InkedGVS_404_W_T4_0_Trim\\\\HSRframes.txt'\n",
      "[]\n",
      "[Errno 2] No such file or directory: 'C:\\\\Users\\\\purpl\\\\Box\\\\Gait Video Project\\\\GaitVideoData\\\\video\\\\frame_data\\\\PD\\\\walking\\\\feet\\\\InkedGVS_405_W_T1_0_Trim\\\\HSRframes.txt'\n",
      "[]\n",
      "[Errno 2] No such file or directory: 'C:\\\\Users\\\\purpl\\\\Box\\\\Gait Video Project\\\\GaitVideoData\\\\video\\\\frame_data\\\\PD\\\\walking\\\\feet\\\\InkedGVS_405_W_T2_0_Trim\\\\HSRframes.txt'\n",
      "[]\n",
      "[Errno 2] No such file or directory: 'C:\\\\Users\\\\purpl\\\\Box\\\\Gait Video Project\\\\GaitVideoData\\\\video\\\\frame_data\\\\PD\\\\walking\\\\feet\\\\InkedGVS_405_W_T3_0_Trim\\\\HSRframes.txt'\n",
      "[]\n",
      "[Errno 2] No such file or directory: 'C:\\\\Users\\\\purpl\\\\Box\\\\Gait Video Project\\\\GaitVideoData\\\\video\\\\frame_data\\\\PD\\\\walking\\\\feet\\\\InkedGVS_405_W_T4_0_Trim\\\\HSRframes.txt'\n",
      "[]\n",
      "[Errno 2] No such file or directory: 'C:\\\\Users\\\\purpl\\\\Box\\\\Gait Video Project\\\\GaitVideoData\\\\video\\\\frame_data\\\\PD\\\\walking\\\\feet\\\\InkedGVS_406_W_T1_0_Trim\\\\HSRframes.txt'\n",
      "[]\n",
      "[Errno 2] No such file or directory: 'C:\\\\Users\\\\purpl\\\\Box\\\\Gait Video Project\\\\GaitVideoData\\\\video\\\\frame_data\\\\PD\\\\walking\\\\feet\\\\InkedGVS_406_W_T2_0_Trim\\\\HSRframes.txt'\n",
      "['C:\\\\Users\\\\purpl\\\\Box\\\\Gait Video Project\\\\GaitVideoData\\\\video\\\\frame_data\\\\PD\\\\walking\\\\feet\\\\InkedGVS_407_W_T1_0_Trim']\n",
      "[Errno 22] Invalid argument: 'C:\\\\Users\\\\purpl\\\\Box\\\\Gait Video Project\\\\GaitVideoData\\\\video\\\\frame_data\\\\PD\\\\walking\\\\feet\\\\InkedGVS_407_W_T1_0_Trim\\\\HSRframes.txt'\n",
      "[]\n",
      "[Errno 2] No such file or directory: 'C:\\\\Users\\\\purpl\\\\Box\\\\Gait Video Project\\\\GaitVideoData\\\\video\\\\frame_data\\\\PD\\\\walking\\\\feet\\\\InkedGVS_407_W_T2_0_Trim\\\\HSRframes.txt'\n",
      "[]\n",
      "[Errno 2] No such file or directory: 'C:\\\\Users\\\\purpl\\\\Box\\\\Gait Video Project\\\\GaitVideoData\\\\video\\\\frame_data\\\\PD\\\\walking\\\\feet\\\\InkedGVS_408_W_T1_0_Trim\\\\HSRframes.txt'\n",
      "[]\n",
      "[Errno 2] No such file or directory: 'C:\\\\Users\\\\purpl\\\\Box\\\\Gait Video Project\\\\GaitVideoData\\\\video\\\\frame_data\\\\PD\\\\walking\\\\feet\\\\InkedGVS_408_W_T2_0_Trim\\\\HSRframes.txt'\n",
      "[]\n",
      "[Errno 2] No such file or directory: 'C:\\\\Users\\\\purpl\\\\Box\\\\Gait Video Project\\\\GaitVideoData\\\\video\\\\frame_data\\\\PD\\\\walking\\\\feet\\\\InkedGVS_409_W_T1_0_Trim\\\\HSRframes.txt'\n",
      "[]\n",
      "[Errno 2] No such file or directory: 'C:\\\\Users\\\\purpl\\\\Box\\\\Gait Video Project\\\\GaitVideoData\\\\video\\\\frame_data\\\\PD\\\\walking\\\\feet\\\\InkedGVS_409_W_T2_0_Trim\\\\HSRframes.txt'\n",
      "[]\n",
      "[Errno 2] No such file or directory: 'C:\\\\Users\\\\purpl\\\\Box\\\\Gait Video Project\\\\GaitVideoData\\\\video\\\\frame_data\\\\PD\\\\walking\\\\feet\\\\InkedGVS_410_W_T1_0_Trim\\\\HSRframes.txt'\n",
      "[]\n",
      "[Errno 2] No such file or directory: 'C:\\\\Users\\\\purpl\\\\Box\\\\Gait Video Project\\\\GaitVideoData\\\\video\\\\frame_data\\\\PD\\\\walking\\\\feet\\\\InkedGVS_410_W_T2_0_Trim\\\\HSRframes.txt'\n",
      "[]\n",
      "[Errno 2] No such file or directory: 'C:\\\\Users\\\\purpl\\\\Box\\\\Gait Video Project\\\\GaitVideoData\\\\video\\\\frame_data\\\\PD\\\\walking\\\\feet\\\\InkedGVS_411_W_T1_0_Trim\\\\HSRframes.txt'\n",
      "[]\n",
      "[Errno 2] No such file or directory: 'C:\\\\Users\\\\purpl\\\\Box\\\\Gait Video Project\\\\GaitVideoData\\\\video\\\\frame_data\\\\PD\\\\walking\\\\feet\\\\InkedGVS_411_W_T2_0_Trim\\\\HSRframes.txt'\n",
      "[]\n",
      "[Errno 2] No such file or directory: 'C:\\\\Users\\\\purpl\\\\Box\\\\Gait Video Project\\\\GaitVideoData\\\\video\\\\frame_data\\\\PD\\\\walking\\\\feet\\\\InkedGVS_411_W_T3_0_Trim\\\\HSRframes.txt'\n",
      "[]\n",
      "[Errno 2] No such file or directory: 'C:\\\\Users\\\\purpl\\\\Box\\\\Gait Video Project\\\\GaitVideoData\\\\video\\\\frame_data\\\\PD\\\\walking\\\\feet\\\\InkedGVS_411_W_T4_0_Trim\\\\HSRframes.txt'\n",
      "[]\n",
      "[Errno 2] No such file or directory: 'C:\\\\Users\\\\purpl\\\\Box\\\\Gait Video Project\\\\GaitVideoData\\\\video\\\\frame_data\\\\ExtraHOA\\\\beam_walking\\\\feet\\\\InkedGVS_403_W_T2_0_Trim\\\\HSRframes.txt'\n",
      "[]\n",
      "[Errno 2] No such file or directory: 'C:\\\\Users\\\\purpl\\\\Box\\\\Gait Video Project\\\\GaitVideoData\\\\video\\\\frame_data\\\\ExtraHOA\\\\beam_walking\\\\feet\\\\InkedGVS_404_W_T1_0_Trim\\\\HSRframes.txt'\n",
      "[]\n",
      "[Errno 2] No such file or directory: 'C:\\\\Users\\\\purpl\\\\Box\\\\Gait Video Project\\\\GaitVideoData\\\\video\\\\frame_data\\\\ExtraHOA\\\\beam_walking\\\\feet\\\\InkedGVS_404_W_T2_0_Trim\\\\HSRframes.txt'\n",
      "[]\n",
      "[Errno 2] No such file or directory: 'C:\\\\Users\\\\purpl\\\\Box\\\\Gait Video Project\\\\GaitVideoData\\\\video\\\\frame_data\\\\ExtraHOA\\\\beam_walking\\\\feet\\\\InkedGVS_404_W_T3_0_Trim\\\\HSRframes.txt'\n",
      "[]\n",
      "[Errno 2] No such file or directory: 'C:\\\\Users\\\\purpl\\\\Box\\\\Gait Video Project\\\\GaitVideoData\\\\video\\\\frame_data\\\\ExtraHOA\\\\beam_walking\\\\feet\\\\InkedGVS_404_W_T4_0_Trim\\\\HSRframes.txt'\n",
      "[]\n",
      "[Errno 2] No such file or directory: 'C:\\\\Users\\\\purpl\\\\Box\\\\Gait Video Project\\\\GaitVideoData\\\\video\\\\frame_data\\\\ExtraHOA\\\\beam_walking\\\\feet\\\\InkedGVS_405_W_T1_0_Trim\\\\HSRframes.txt'\n",
      "[]\n",
      "[Errno 2] No such file or directory: 'C:\\\\Users\\\\purpl\\\\Box\\\\Gait Video Project\\\\GaitVideoData\\\\video\\\\frame_data\\\\ExtraHOA\\\\beam_walking\\\\feet\\\\InkedGVS_405_W_T2_0_Trim\\\\HSRframes.txt'\n",
      "[]\n",
      "[Errno 2] No such file or directory: 'C:\\\\Users\\\\purpl\\\\Box\\\\Gait Video Project\\\\GaitVideoData\\\\video\\\\frame_data\\\\ExtraHOA\\\\beam_walking\\\\feet\\\\InkedGVS_405_W_T3_0_Trim\\\\HSRframes.txt'\n",
      "[]\n",
      "[Errno 2] No such file or directory: 'C:\\\\Users\\\\purpl\\\\Box\\\\Gait Video Project\\\\GaitVideoData\\\\video\\\\frame_data\\\\ExtraHOA\\\\beam_walking\\\\feet\\\\InkedGVS_405_W_T4_0_Trim\\\\HSRframes.txt'\n",
      "[]\n",
      "[Errno 2] No such file or directory: 'C:\\\\Users\\\\purpl\\\\Box\\\\Gait Video Project\\\\GaitVideoData\\\\video\\\\frame_data\\\\ExtraHOA\\\\beam_walking\\\\feet\\\\InkedGVS_406_W_T1_0_Trim\\\\HSRframes.txt'\n",
      "[]\n",
      "[Errno 2] No such file or directory: 'C:\\\\Users\\\\purpl\\\\Box\\\\Gait Video Project\\\\GaitVideoData\\\\video\\\\frame_data\\\\ExtraHOA\\\\beam_walking\\\\feet\\\\InkedGVS_406_W_T2_0_Trim\\\\HSRframes.txt'\n",
      "[]\n",
      "[Errno 2] No such file or directory: 'C:\\\\Users\\\\purpl\\\\Box\\\\Gait Video Project\\\\GaitVideoData\\\\video\\\\frame_data\\\\ExtraHOA\\\\beam_walking\\\\feet\\\\InkedGVS_407_W_T1_0_Trim\\\\HSRframes.txt'\n",
      "[]\n",
      "[Errno 2] No such file or directory: 'C:\\\\Users\\\\purpl\\\\Box\\\\Gait Video Project\\\\GaitVideoData\\\\video\\\\frame_data\\\\ExtraHOA\\\\beam_walking\\\\feet\\\\InkedGVS_407_W_T2_0_Trim\\\\HSRframes.txt'\n",
      "[]\n",
      "[Errno 2] No such file or directory: 'C:\\\\Users\\\\purpl\\\\Box\\\\Gait Video Project\\\\GaitVideoData\\\\video\\\\frame_data\\\\ExtraHOA\\\\beam_walking\\\\feet\\\\InkedGVS_408_W_T1_0_Trim\\\\HSRframes.txt'\n",
      "[]\n",
      "[Errno 2] No such file or directory: 'C:\\\\Users\\\\purpl\\\\Box\\\\Gait Video Project\\\\GaitVideoData\\\\video\\\\frame_data\\\\ExtraHOA\\\\beam_walking\\\\feet\\\\InkedGVS_408_W_T2_0_Trim\\\\HSRframes.txt'\n",
      "[]\n",
      "[Errno 2] No such file or directory: 'C:\\\\Users\\\\purpl\\\\Box\\\\Gait Video Project\\\\GaitVideoData\\\\video\\\\frame_data\\\\ExtraHOA\\\\beam_walking\\\\feet\\\\InkedGVS_409_W_T1_0_Trim\\\\HSRframes.txt'\n",
      "[]\n",
      "[Errno 2] No such file or directory: 'C:\\\\Users\\\\purpl\\\\Box\\\\Gait Video Project\\\\GaitVideoData\\\\video\\\\frame_data\\\\ExtraHOA\\\\beam_walking\\\\feet\\\\InkedGVS_409_W_T2_0_Trim\\\\HSRframes.txt'\n",
      "[]\n",
      "[Errno 2] No such file or directory: 'C:\\\\Users\\\\purpl\\\\Box\\\\Gait Video Project\\\\GaitVideoData\\\\video\\\\frame_data\\\\ExtraHOA\\\\beam_walking\\\\feet\\\\InkedGVS_410_W_T1_0_Trim\\\\HSRframes.txt'\n",
      "[]\n",
      "[Errno 2] No such file or directory: 'C:\\\\Users\\\\purpl\\\\Box\\\\Gait Video Project\\\\GaitVideoData\\\\video\\\\frame_data\\\\ExtraHOA\\\\beam_walking\\\\feet\\\\InkedGVS_410_W_T2_0_Trim\\\\HSRframes.txt'\n",
      "[]\n",
      "[Errno 2] No such file or directory: 'C:\\\\Users\\\\purpl\\\\Box\\\\Gait Video Project\\\\GaitVideoData\\\\video\\\\frame_data\\\\ExtraHOA\\\\beam_walking\\\\feet\\\\InkedGVS_411_W_T1_0_Trim\\\\HSRframes.txt'\n",
      "[]\n",
      "[Errno 2] No such file or directory: 'C:\\\\Users\\\\purpl\\\\Box\\\\Gait Video Project\\\\GaitVideoData\\\\video\\\\frame_data\\\\ExtraHOA\\\\beam_walking\\\\feet\\\\InkedGVS_411_W_T2_0_Trim\\\\HSRframes.txt'\n",
      "[]\n",
      "[Errno 2] No such file or directory: 'C:\\\\Users\\\\purpl\\\\Box\\\\Gait Video Project\\\\GaitVideoData\\\\video\\\\frame_data\\\\ExtraHOA\\\\beam_walking\\\\feet\\\\InkedGVS_411_W_T3_0_Trim\\\\HSRframes.txt'\n",
      "[]\n",
      "[Errno 2] No such file or directory: 'C:\\\\Users\\\\purpl\\\\Box\\\\Gait Video Project\\\\GaitVideoData\\\\video\\\\frame_data\\\\ExtraHOA\\\\beam_walking\\\\feet\\\\InkedGVS_411_W_T4_0_Trim\\\\HSRframes.txt'\n",
      "[]\n",
      "[Errno 2] No such file or directory: 'C:\\\\Users\\\\purpl\\\\Box\\\\Gait Video Project\\\\GaitVideoData\\\\video\\\\frame_data\\\\ExtraHOA\\\\walking\\\\feet\\\\InkedGVS_102_W_T1_0_Trim\\\\HSRframes.txt'\n",
      "[]\n",
      "[Errno 2] No such file or directory: 'C:\\\\Users\\\\purpl\\\\Box\\\\Gait Video Project\\\\GaitVideoData\\\\video\\\\frame_data\\\\ExtraHOA\\\\walking\\\\feet\\\\InkedGVS_112_W_T1_0_Trim\\\\HSRframes.txt'\n",
      "[]\n",
      "[Errno 2] No such file or directory: 'C:\\\\Users\\\\purpl\\\\Box\\\\Gait Video Project\\\\GaitVideoData\\\\video\\\\frame_data\\\\ExtraHOA\\\\walking\\\\feet\\\\InkedGVS_113_W_T1_0_Trim\\\\HSRframes.txt'\n",
      "[]\n",
      "[Errno 2] No such file or directory: 'C:\\\\Users\\\\purpl\\\\Box\\\\Gait Video Project\\\\GaitVideoData\\\\video\\\\frame_data\\\\ExtraHOA\\\\walking\\\\feet\\\\InkedGVS_115_W_T1_0_Trim\\\\HSRframes.txt'\n",
      "[]\n",
      "[Errno 2] No such file or directory: 'C:\\\\Users\\\\purpl\\\\Box\\\\Gait Video Project\\\\GaitVideoData\\\\video\\\\frame_data\\\\ExtraHOA\\\\walking\\\\feet\\\\InkedGVS_123_W_T1_0_Trim\\\\HSRframes.txt'\n",
      "[]\n",
      "[Errno 2] No such file or directory: 'C:\\\\Users\\\\purpl\\\\Box\\\\Gait Video Project\\\\GaitVideoData\\\\video\\\\frame_data\\\\ExtraHOA\\\\walking\\\\feet\\\\InkedGVS_124_W_T1_0_Trim\\\\HSRframes.txt'\n"
     ]
    }
   ],
   "source": [
    "#Saving the HSRframes.txt file to the hip_height_normalized\\\\ containing the final .csvs for analysis\n",
    "for cohort in cohorts:\n",
    "    for trial in trials:\n",
    "        merged_path = frame_path_merged+cohort+trial \n",
    "        if (os.path.exists(merged_path)):\n",
    "            videos = os.listdir(merged_path)\n",
    "#             print (len(videos))\n",
    "        for video in videos:\n",
    "            print (glob.glob(path+cohort+trial+'\\\\feet\\\\'+'Inked'+video+'_0_Trim'))\n",
    "            try:\n",
    "                if (not os.path.exists(merged_path+'\\\\'+video+'\\\\HSRframes.txt')):\n",
    "                    HSR_frames_file = path+cohort+trial+'\\\\feet\\\\'+'Inked'+video+'_0_Trim'+'\\\\HSRframes.txt'\n",
    "                    shutil.copy(HSR_frames_file, merged_path+'\\\\'+video+'\\\\hip_height_normalized\\\\') \n",
    "                    print ('HSR for', video, 'copied')\n",
    "                else:\n",
    "                    print ('HSR for', video, 'exists')\n",
    "            except Exception as e:\n",
    "                print (e)"
   ]
  },
  {
   "cell_type": "code",
   "execution_count": 115,
   "metadata": {
    "scrolled": true
   },
   "outputs": [],
   "source": [
    "#Function to plot the given feature across frames of a video and the corresponding ground truth HSRs\n",
    "def plot_true_HSR(signal, index, HSRindices, video, name, peaks = None):\n",
    "    fig= plt.figure(figsize = (8.5, 3))\n",
    "    ax1 = fig.add_subplot(111)\n",
    "    ax1.plot(index, signal, color = 'b', ls='solid', marker='*', \\\n",
    "            markerfacecolor = 'r', markeredgecolor = 'r', ms = 10, markevery= HSRindices, label = 'true HSR')\n",
    "    if peaks is not None:\n",
    "        ax1.plot(index[peaks], signal[peaks], 'go', ms = 4, alpha = 0.5)\n",
    "    plt.xticks(index[0::40], fontsize = 8)\n",
    "    plt.legend()\n",
    "    plt.title(name)\n",
    "    plt.show()\n",
    "    if not os.path.exists('HSR_detection_figs\\\\'+ video):\n",
    "        os.mkdir('HSR_detection_figs\\\\'+ video)\n",
    "    plt.savefig('HSR_detection_figs\\\\'+ video+ '\\\\' + video+ '_'+ name + '.png', dpi = 250)\n",
    "#     append = np.append(ax.get_xticks(), trueHSR_list)\n",
    "#     # ax.set_xticks(trueHSR_list)\n",
    "#     # ax.set_xticks(temp.index)\n",
    "#     plt.show()"
   ]
  },
  {
   "cell_type": "code",
   "execution_count": 122,
   "metadata": {},
   "outputs": [],
   "source": [
    "def plots(identification_feature, series, series_complete, trueHSR_indices, trueHSR_indices_complete, video):\n",
    "    print (series.isna().sum(), series_complete.isna().sum())\n",
    "    plot_true_HSR(series.values, series.index, trueHSR_indices, video, identification_feature)\n",
    "    \n",
    "    #Filtering the series     \n",
    "    a = signal.firwin(5, cutoff = 0.2, window = \"hamming\") #Low pass filter with window length of 5 and cutoff frequency \n",
    "    fir_series = signal.lfilter(a, [1.0], series.values)\n",
    "    #Identifying local maximum \n",
    "    peaks, _ = find_peaks(-fir_series, distance = 30) #Assuming that HSRs are atleast 30 frames apart (i.e. atleast a second apart)\n",
    "    print ('trueHSR_indices', len(trueHSR_indices), trueHSR_indices)\n",
    "    print ('peaks', len(peaks), peaks)\n",
    "    # this way the x-axis corresponds to the index of x\n",
    "#     plt.plot(x-1, y)\n",
    "#     plt.plot(peaks, y[peaks], \"x\")\n",
    "#     plt.show()\n",
    "\n",
    "    #Plotting the right heel height (not containing placeholders for the missing frames) and ground truth HSR \n",
    "    plot_true_HSR(fir_series, series.index, trueHSR_indices, video, 'filtered '+ identification_feature, peaks)\n",
    "\n",
    "#     #Plotting the filterd signal (not containing placeholders for the missing frames) and ground truth HSR \n",
    "#     filtered_values = signal.savgol_filter(series.values, window_length = 5, polyorder=3, deriv = 1)\n",
    "#     plot_true_HSR(filtered_values, series.index, trueHSR_indices, video, 'filtered '+identification_feature)\n",
    "\n",
    "#     #Plotting the right heel height (containing placeholders for the missing frames) and ground truth HSR \n",
    "#     plot_true_HSR(series_complete.values, series_complete.index, trueHSR_indices_complete, video, \\\n",
    "#                   'complete '+identification_feature)\n",
    "\n",
    "#     #Plotting the filterd signal (containing placeholders for the missing frames) and ground truth HSR \n",
    "#     filtered_values_complete = signal.savgol_filter(series_complete.values, \\\n",
    "#                                                     window_length = 11, polyorder=3)\n",
    "#     plot_true_HSR(filtered_values_complete, series_complete.index, trueHSR_indices_complete, video, \\\n",
    "#                   'filtered complete '+identification_feature)\n",
    "    return peaks "
   ]
  },
  {
   "cell_type": "code",
   "execution_count": 123,
   "metadata": {},
   "outputs": [],
   "source": [
    "def compute_error_HSR(peaks, trueHSR_indices):\n",
    "    abs_error_indices = [np.argmin(abs(i-trueHSR_indices)) for i in peaks]\n",
    "    error = [i-trueHSR_indices[j] for i, j in zip(peaks, abs_error_indices)]\n",
    "    abs_error = list(map(abs, error))\n",
    "    error_stats = [np.mean(error), np.std(error), np.mean(abs_error), np.std(abs_error)]\n",
    "    return error_stats"
   ]
  },
  {
   "cell_type": "code",
   "execution_count": 124,
   "metadata": {},
   "outputs": [],
   "source": [
    "def feature_plots(video_features, video_features_complete):\n",
    "      #Right Heel Height \n",
    "    series = video_features['right heel-z']\n",
    "    series_complete = video_features_complete['right heel-z']\n",
    "    peaks = plots('right heel-z', series, series_complete, trueHSR_indices, trueHSR_indices_complete, video)\n",
    "    heel_error_stats = compute_error_HSR(peaks, trueHSR_indices)\n",
    "\n",
    "    #Right Toe 1 z - Right heel height z\n",
    "    series = video_features['right toe 1-z']-video_features['right heel-z']\n",
    "    series_complete = video_features_complete['right toe 1-z'] - video_features_complete['right heel-z']\n",
    "#     plots('right toe 1-z - right heel-z', series, series_complete, trueHSR_indices, trueHSR_indices_complete, video)\n",
    "\n",
    "    #Right Toe 2 z - Right heel height z\n",
    "    series = video_features['right toe 2-z']-video_features['right heel-z']\n",
    "    series_complete = video_features_complete['right toe 2-z'] - video_features_complete['right heel-z']\n",
    "#     plots('right toe 2-z - right heel-z', series, series_complete, trueHSR_indices, trueHSR_indices_complete, video)\n",
    "\n",
    "    #Right Toe 2 - Right heel y coordinate\n",
    "    series = video_features['right toe 2-y']-video_features['right heel-y']\n",
    "    series_complete = video_features_complete['right toe 2-y'] - video_features_complete['right heel-y']\n",
    "#     plots('right toe 2-y- right heel-y', series, series_complete, trueHSR_indices, trueHSR_indices_complete, video)\n",
    "\n",
    "    #Right Toe 1 height \n",
    "    series = video_features['right toe 1-z']\n",
    "    series_complete = video_features_complete['right toe 1-z']\n",
    "    peaks = plots('right toe 1-z', series, series_complete, trueHSR_indices, trueHSR_indices_complete, video)\n",
    "    toe1_error_stats = compute_error_HSR(peaks, trueHSR_indices)\n",
    "    \n",
    "    #Right Toe 2 height \n",
    "    series = video_features['right toe 2-z']\n",
    "    series_complete = video_features_complete['right toe 2-z']\n",
    "    peaks = plots('right toe 2-z', series, series_complete, trueHSR_indices, trueHSR_indices_complete, video)\n",
    "    toe2_error_stats = compute_error_HSR(peaks, trueHSR_indices)\n",
    "    return heel_error_stats, toe1_error_stats, toe2_error_stats    "
   ]
  },
  {
   "cell_type": "code",
   "execution_count": null,
   "metadata": {
    "scrolled": true
   },
   "outputs": [
    {
     "name": "stdout",
     "output_type": "stream",
     "text": [
      "GVS_212_T_T1\n",
      "[37, 94, 149, 202, 247, 288, 327, 361, 395, 434, 472, 512, 557, 599, 638, 681, 727, 773, 818, 864, 909, 953, 996, 1036, 1074, 1111, 1148, 1184, 1218, 1254, 1289, 1322, 1356, 1391, 1423, 1455, 1491, 1523, 1556, 1591, 1624, 1658, 1692, 1726]\n",
      "0 9\n"
     ]
    },
    {
     "data": {
      "application/vnd.jupyter.widget-view+json": {
       "model_id": "0c652f93f3ac4d109bf29f1d6ee6d211",
       "version_major": 2,
       "version_minor": 0
      },
      "text/plain": [
       "Canvas(toolbar=Toolbar(toolitems=[('Home', 'Reset original view', 'home', 'home'), ('Back', 'Back to previous …"
      ]
     },
     "metadata": {},
     "output_type": "display_data"
    },
    {
     "name": "stdout",
     "output_type": "stream",
     "text": [
      "trueHSR_indices 43 [36, 93, 148, 201, 246, 287, 326, 360, 394, 433, 471, 511, 552, 594, 633, 676, 722, 768, 812, 857, 902, 946, 989, 1029, 1067, 1104, 1141, 1177, 1211, 1247, 1282, 1315, 1349, 1384, 1416, 1448, 1484, 1516, 1549, 1584, 1617, 1651, 1684]\n",
      "peaks 44 [  11   56   95  151  204  248  288  328  375  431  477  522  556  608\n",
      "  645  679  723  785  816  858  905  948  990 1030 1070 1105 1142 1178\n",
      " 1212 1248 1282 1318 1352 1384 1417 1450 1487 1519 1551 1584 1619 1652\n",
      " 1687 1719]\n"
     ]
    },
    {
     "data": {
      "application/vnd.jupyter.widget-view+json": {
       "model_id": "d9e93eaa561f4f6aae2b08de0b679e06",
       "version_major": 2,
       "version_minor": 0
      },
      "text/plain": [
       "Canvas(toolbar=Toolbar(toolitems=[('Home', 'Reset original view', 'home', 'home'), ('Back', 'Back to previous …"
      ]
     },
     "metadata": {},
     "output_type": "display_data"
    },
    {
     "name": "stdout",
     "output_type": "stream",
     "text": [
      "0 9\n"
     ]
    },
    {
     "data": {
      "application/vnd.jupyter.widget-view+json": {
       "model_id": "22a98a71d69448ebaf91c23080b3ad4a",
       "version_major": 2,
       "version_minor": 0
      },
      "text/plain": [
       "Canvas(toolbar=Toolbar(toolitems=[('Home', 'Reset original view', 'home', 'home'), ('Back', 'Back to previous …"
      ]
     },
     "metadata": {},
     "output_type": "display_data"
    },
    {
     "name": "stdout",
     "output_type": "stream",
     "text": [
      "trueHSR_indices 43 [36, 93, 148, 201, 246, 287, 326, 360, 394, 433, 471, 511, 552, 594, 633, 676, 722, 768, 812, 857, 902, 946, 989, 1029, 1067, 1104, 1141, 1177, 1211, 1247, 1282, 1315, 1349, 1384, 1416, 1448, 1484, 1516, 1549, 1584, 1617, 1651, 1684]\n",
      "peaks 44 [  20   52  104  147  204  245  300  334  368  402  444  475  510  557\n",
      "  595  645  692  734  781  828  868  916  958  997 1037 1072 1103 1151\n",
      " 1185 1224 1255 1289 1326 1361 1415 1454 1491 1526 1561 1591 1626 1658\n",
      " 1691 1725]\n"
     ]
    },
    {
     "data": {
      "application/vnd.jupyter.widget-view+json": {
       "model_id": "001bba798d594ca39cb5dd66f74f9a07",
       "version_major": 2,
       "version_minor": 0
      },
      "text/plain": [
       "Canvas(toolbar=Toolbar(toolitems=[('Home', 'Reset original view', 'home', 'home'), ('Back', 'Back to previous …"
      ]
     },
     "metadata": {},
     "output_type": "display_data"
    },
    {
     "name": "stdout",
     "output_type": "stream",
     "text": [
      "0 9\n"
     ]
    },
    {
     "data": {
      "application/vnd.jupyter.widget-view+json": {
       "model_id": "28791ef1183846a7a6c5f11b842f424e",
       "version_major": 2,
       "version_minor": 0
      },
      "text/plain": [
       "Canvas(toolbar=Toolbar(toolitems=[('Home', 'Reset original view', 'home', 'home'), ('Back', 'Back to previous …"
      ]
     },
     "metadata": {},
     "output_type": "display_data"
    },
    {
     "name": "stdout",
     "output_type": "stream",
     "text": [
      "trueHSR_indices 43 [36, 93, 148, 201, 246, 287, 326, 360, 394, 433, 471, 511, 552, 594, 633, 676, 722, 768, 812, 857, 902, 946, 989, 1029, 1067, 1104, 1141, 1177, 1211, 1247, 1282, 1315, 1349, 1384, 1416, 1448, 1484, 1516, 1549, 1584, 1617, 1651, 1684]\n",
      "peaks 44 [  11   49   88  150  205  247  288  327  361  395  430  477  539  604\n",
      "  645  677  723  767  815  859  905  947  989 1030 1069 1106 1142 1178\n",
      " 1213 1249 1283 1318 1351 1384 1417 1450 1487 1518 1552 1585 1619 1652\n",
      " 1687 1719]\n"
     ]
    },
    {
     "data": {
      "application/vnd.jupyter.widget-view+json": {
       "model_id": "5d0e8e85a752442bb02df2faabb8590d",
       "version_major": 2,
       "version_minor": 0
      },
      "text/plain": [
       "Canvas(toolbar=Toolbar(toolitems=[('Home', 'Reset original view', 'home', 'home'), ('Back', 'Back to previous …"
      ]
     },
     "metadata": {},
     "output_type": "display_data"
    },
    {
     "name": "stdout",
     "output_type": "stream",
     "text": [
      "GVS_212_T_T2\n",
      "[15, 69, 123, 173, 225, 275, 320, 364, 412, 455, 500, 543, 588, 631, 668, 710, 750, 789, 826, 864, 902, 940, 978, 1015, 1052, 1090, 1126, 1162, 1198, 1234, 1268, 1304, 1339, 1372, 1405, 1440, 1474, 1506, 1539, 1571, 1604, 1638, 1670, 1703, 1736]\n",
      "0 10\n"
     ]
    },
    {
     "data": {
      "application/vnd.jupyter.widget-view+json": {
       "model_id": "ae8205cb4b864c61b1435ff93865487b",
       "version_major": 2,
       "version_minor": 0
      },
      "text/plain": [
       "Canvas(toolbar=Toolbar(toolitems=[('Home', 'Reset original view', 'home', 'home'), ('Back', 'Back to previous …"
      ]
     },
     "metadata": {},
     "output_type": "display_data"
    },
    {
     "name": "stdout",
     "output_type": "stream",
     "text": [
      "trueHSR_indices 45 [14, 68, 121, 171, 223, 272, 316, 359, 407, 450, 495, 537, 581, 624, 661, 703, 743, 782, 819, 857, 895, 932, 970, 1007, 1043, 1081, 1117, 1153, 1189, 1225, 1259, 1295, 1330, 1363, 1396, 1431, 1465, 1497, 1530, 1562, 1594, 1628, 1660, 1693, 1726]\n",
      "peaks 45 [   6   36   90  125  193  227  282  330  361  405  461  495  540  582\n",
      "  625  665  719  760  821  861  897  935  974 1010 1046 1085 1119 1157\n",
      " 1192 1226 1264 1298 1335 1369 1400 1438 1471 1503 1535 1572 1602 1634\n",
      " 1668 1699 1733]\n"
     ]
    },
    {
     "data": {
      "application/vnd.jupyter.widget-view+json": {
       "model_id": "6fd1895550a34ce2b2ebd1631c27456c",
       "version_major": 2,
       "version_minor": 0
      },
      "text/plain": [
       "Canvas(toolbar=Toolbar(toolitems=[('Home', 'Reset original view', 'home', 'home'), ('Back', 'Back to previous …"
      ]
     },
     "metadata": {},
     "output_type": "display_data"
    },
    {
     "name": "stdout",
     "output_type": "stream",
     "text": [
      "0 10\n"
     ]
    },
    {
     "data": {
      "application/vnd.jupyter.widget-view+json": {
       "model_id": "9d67c4d6c2cc49a7bf3470185e77819e",
       "version_major": 2,
       "version_minor": 0
      },
      "text/plain": [
       "Canvas(toolbar=Toolbar(toolitems=[('Home', 'Reset original view', 'home', 'home'), ('Back', 'Back to previous …"
      ]
     },
     "metadata": {},
     "output_type": "display_data"
    },
    {
     "name": "stdout",
     "output_type": "stream",
     "text": [
      "trueHSR_indices 45 [14, 68, 121, 171, 223, 272, 316, 359, 407, 450, 495, 537, 581, 624, 661, 703, 743, 782, 819, 857, 895, 932, 970, 1007, 1043, 1081, 1117, 1153, 1189, 1225, 1259, 1295, 1330, 1363, 1396, 1431, 1465, 1497, 1530, 1562, 1594, 1628, 1660, 1693, 1726]\n",
      "peaks 45 [  30   66  120  190  243  289  329  371  422  464  507  537  579  635\n",
      "  665  712  755  794  833  872  910  945  977 1018 1052 1087 1122 1157\n",
      " 1198 1230 1271 1305 1335 1371 1405 1445 1475 1508 1540 1575 1610 1641\n",
      " 1674 1707 1738]\n"
     ]
    },
    {
     "data": {
      "application/vnd.jupyter.widget-view+json": {
       "model_id": "ad43de7211294b138ee874709b66f5e8",
       "version_major": 2,
       "version_minor": 0
      },
      "text/plain": [
       "Canvas(toolbar=Toolbar(toolitems=[('Home', 'Reset original view', 'home', 'home'), ('Back', 'Back to previous …"
      ]
     },
     "metadata": {},
     "output_type": "display_data"
    },
    {
     "name": "stdout",
     "output_type": "stream",
     "text": [
      "0 10\n"
     ]
    },
    {
     "data": {
      "application/vnd.jupyter.widget-view+json": {
       "model_id": "d500f1f6e81a47dca21ae85c40043acd",
       "version_major": 2,
       "version_minor": 0
      },
      "text/plain": [
       "Canvas(toolbar=Toolbar(toolitems=[('Home', 'Reset original view', 'home', 'home'), ('Back', 'Back to previous …"
      ]
     },
     "metadata": {},
     "output_type": "display_data"
    },
    {
     "name": "stdout",
     "output_type": "stream",
     "text": [
      "trueHSR_indices 45 [14, 68, 121, 171, 223, 272, 316, 359, 407, 450, 495, 537, 581, 624, 661, 703, 743, 782, 819, 857, 895, 932, 970, 1007, 1043, 1081, 1117, 1153, 1189, 1225, 1259, 1295, 1330, 1363, 1396, 1431, 1465, 1497, 1530, 1562, 1594, 1628, 1660, 1693, 1726]\n",
      "peaks 45 [  24   69  125  172  222  272  316  361  406  449  496  539  582  625\n",
      "  663  707  745  781  825  860  899  935  973 1011 1045 1081 1118 1156\n",
      " 1194 1228 1262 1299 1334 1369 1404 1435 1467 1498 1533 1567 1602 1633\n",
      " 1666 1699 1733]\n"
     ]
    },
    {
     "data": {
      "application/vnd.jupyter.widget-view+json": {
       "model_id": "4f7487d0a5f94d28878209c4eacac799",
       "version_major": 2,
       "version_minor": 0
      },
      "text/plain": [
       "Canvas(toolbar=Toolbar(toolitems=[('Home', 'Reset original view', 'home', 'home'), ('Back', 'Back to previous …"
      ]
     },
     "metadata": {},
     "output_type": "display_data"
    },
    {
     "name": "stdout",
     "output_type": "stream",
     "text": [
      "GVS_213_T_T1\n",
      "[28, 65, 103, 145, 178, 216, 254, 295, 339, 378, 420, 458, 497, 533, 574, 613, 648, 686, 723, 761, 798, 836, 877, 916, 957, 997, 1040, 1080, 1123, 1165, 1206, 1247, 1289, 1330, 1374, 1417, 1461, 1505, 1549, 1593, 1639, 1684, 1729]\n",
      "0 2\n"
     ]
    },
    {
     "data": {
      "application/vnd.jupyter.widget-view+json": {
       "model_id": "c7b7b87595b2430bbfb0e2cdcefc78d5",
       "version_major": 2,
       "version_minor": 0
      },
      "text/plain": [
       "Canvas(toolbar=Toolbar(toolitems=[('Home', 'Reset original view', 'home', 'home'), ('Back', 'Back to previous …"
      ]
     },
     "metadata": {},
     "output_type": "display_data"
    },
    {
     "name": "stdout",
     "output_type": "stream",
     "text": [
      "trueHSR_indices 43 [28, 65, 103, 145, 178, 216, 254, 294, 337, 376, 418, 456, 495, 531, 572, 611, 646, 684, 721, 759, 796, 834, 875, 914, 955, 995, 1038, 1078, 1121, 1163, 1204, 1245, 1287, 1328, 1372, 1415, 1459, 1503, 1547, 1591, 1637, 1682, 1727]\n",
      "peaks 42 [  12   52  104  141  178  233  265  306  343  384  430  462  501  538\n",
      "  578  613  656  694  727  765  808  842  903  957 1003 1049 1085 1131\n",
      " 1177 1216 1257 1290 1338 1386 1424 1456 1492 1561 1607 1642 1696 1730]\n"
     ]
    },
    {
     "data": {
      "application/vnd.jupyter.widget-view+json": {
       "model_id": "61e2bb211c074e0c864bdb870107facd",
       "version_major": 2,
       "version_minor": 0
      },
      "text/plain": [
       "Canvas(toolbar=Toolbar(toolitems=[('Home', 'Reset original view', 'home', 'home'), ('Back', 'Back to previous …"
      ]
     },
     "metadata": {},
     "output_type": "display_data"
    },
    {
     "name": "stdout",
     "output_type": "stream",
     "text": [
      "0 2\n"
     ]
    },
    {
     "data": {
      "application/vnd.jupyter.widget-view+json": {
       "model_id": "1989a70ddc6e47239936cce0a7f5d451",
       "version_major": 2,
       "version_minor": 0
      },
      "text/plain": [
       "Canvas(toolbar=Toolbar(toolitems=[('Home', 'Reset original view', 'home', 'home'), ('Back', 'Back to previous …"
      ]
     },
     "metadata": {},
     "output_type": "display_data"
    },
    {
     "name": "stdout",
     "output_type": "stream",
     "text": [
      "trueHSR_indices 43 [28, 65, 103, 145, 178, 216, 254, 294, 337, 376, 418, 456, 495, 531, 572, 611, 646, 684, 721, 759, 796, 834, 875, 914, 955, 995, 1038, 1078, 1121, 1163, 1204, 1245, 1287, 1328, 1372, 1415, 1459, 1503, 1547, 1591, 1637, 1682, 1727]\n",
      "peaks 43 [  28   72  103  152  183  229  270  306  346  387  420  460  500  539\n",
      "  580  622  661  694  724  771  811  842  883  923  964 1014 1049 1082\n",
      " 1126 1177 1209 1248 1300 1336 1387 1418 1474 1519 1563 1608 1651 1693\n",
      " 1727]\n"
     ]
    },
    {
     "data": {
      "application/vnd.jupyter.widget-view+json": {
       "model_id": "a18409c14c1e45c1925f2f7eb30d308a",
       "version_major": 2,
       "version_minor": 0
      },
      "text/plain": [
       "Canvas(toolbar=Toolbar(toolitems=[('Home', 'Reset original view', 'home', 'home'), ('Back', 'Back to previous …"
      ]
     },
     "metadata": {},
     "output_type": "display_data"
    },
    {
     "name": "stdout",
     "output_type": "stream",
     "text": [
      "0 2\n"
     ]
    },
    {
     "data": {
      "application/vnd.jupyter.widget-view+json": {
       "model_id": "53745b086d034cc987814575c4991bdd",
       "version_major": 2,
       "version_minor": 0
      },
      "text/plain": [
       "Canvas(toolbar=Toolbar(toolitems=[('Home', 'Reset original view', 'home', 'home'), ('Back', 'Back to previous …"
      ]
     },
     "metadata": {},
     "output_type": "display_data"
    },
    {
     "name": "stdout",
     "output_type": "stream",
     "text": [
      "trueHSR_indices 43 [28, 65, 103, 145, 178, 216, 254, 294, 337, 376, 418, 456, 495, 531, 572, 611, 646, 684, 721, 759, 796, 834, 875, 914, 955, 995, 1038, 1078, 1121, 1163, 1204, 1245, 1287, 1328, 1372, 1415, 1459, 1503, 1547, 1591, 1637, 1682, 1727]\n",
      "peaks 43 [  30   65  102  140  178  224  267  301  339  387  427  467  505  546\n",
      "  579  613  656  691  726  765  809  854  889  928  963 1011 1041 1091\n",
      " 1133 1170 1216 1257 1291 1333 1378 1430 1465 1509 1559 1597 1642 1692\n",
      " 1731]\n"
     ]
    },
    {
     "data": {
      "application/vnd.jupyter.widget-view+json": {
       "model_id": "0a1b7cf730e1461a8bdef1ca37b679b1",
       "version_major": 2,
       "version_minor": 0
      },
      "text/plain": [
       "Canvas(toolbar=Toolbar(toolitems=[('Home', 'Reset original view', 'home', 'home'), ('Back', 'Back to previous …"
      ]
     },
     "metadata": {},
     "output_type": "display_data"
    },
    {
     "name": "stdout",
     "output_type": "stream",
     "text": [
      "GVS_213_T_T2\n",
      "[14, 51, 91, 128, 167, 202, 237, 272, 308, 341, 374, 406, 442, 477, 511, 542, 574, 606, 638, 671, 703, 736, 769, 802, 835, 868, 901, 933, 967, 1000, 1034, 1068, 1101, 1133, 1167, 1200, 1234, 1269, 1302, 1338, 1371, 1405, 1439, 1473, 1507, 1541, 1574, 1608, 1642, 1677, 1710, 1747]\n",
      "0 175\n"
     ]
    },
    {
     "data": {
      "application/vnd.jupyter.widget-view+json": {
       "model_id": "31ae37c2b35c47c389076304580b7409",
       "version_major": 2,
       "version_minor": 0
      },
      "text/plain": [
       "Canvas(toolbar=Toolbar(toolitems=[('Home', 'Reset original view', 'home', 'home'), ('Back', 'Back to previous …"
      ]
     },
     "metadata": {},
     "output_type": "display_data"
    },
    {
     "name": "stdout",
     "output_type": "stream",
     "text": [
      "trueHSR_indices 46 [32, 72, 109, 148, 201, 233, 269, 304, 338, 369, 401, 433, 465, 498, 530, 563, 596, 629, 661, 693, 726, 758, 792, 825, 859, 893, 926, 958, 992, 1025, 1059, 1094, 1127, 1163, 1196, 1230, 1264, 1298, 1332, 1366, 1399, 1433, 1467, 1502, 1535, 1572]\n",
      "peaks 40 [  12   46   79  117  175  223  281  335  375  413  473  506  538  598\n",
      "  632  664  695  728  761  794  827  860  899  934  969 1028 1074 1130\n",
      " 1165 1199 1233 1264 1299 1335 1369 1401 1432 1469 1507 1537]\n"
     ]
    },
    {
     "data": {
      "application/vnd.jupyter.widget-view+json": {
       "model_id": "61b0881f74a04440bc48c86df58227a1",
       "version_major": 2,
       "version_minor": 0
      },
      "text/plain": [
       "Canvas(toolbar=Toolbar(toolitems=[('Home', 'Reset original view', 'home', 'home'), ('Back', 'Back to previous …"
      ]
     },
     "metadata": {},
     "output_type": "display_data"
    },
    {
     "name": "stdout",
     "output_type": "stream",
     "text": [
      "0 175\n"
     ]
    },
    {
     "data": {
      "application/vnd.jupyter.widget-view+json": {
       "model_id": "5643b8699b4840c0ab1387410469f947",
       "version_major": 2,
       "version_minor": 0
      },
      "text/plain": [
       "Canvas(toolbar=Toolbar(toolitems=[('Home', 'Reset original view', 'home', 'home'), ('Back', 'Back to previous …"
      ]
     },
     "metadata": {},
     "output_type": "display_data"
    },
    {
     "name": "stdout",
     "output_type": "stream",
     "text": [
      "trueHSR_indices 46 [32, 72, 109, 148, 201, 233, 269, 304, 338, 369, 401, 433, 465, 498, 530, 563, 596, 629, 661, 693, 726, 758, 792, 825, 859, 893, 926, 958, 992, 1025, 1059, 1094, 1127, 1163, 1196, 1230, 1264, 1298, 1332, 1366, 1399, 1433, 1467, 1502, 1535, 1572]\n",
      "peaks 41 [  33   74  114  145  201  231  271  306  367  407  438  476  509  540\n",
      "  572  630  673  706  737  771  804  838  871  905  937  969 1026 1067\n",
      " 1105 1137 1168 1201 1240 1300 1337 1368 1407 1437 1475 1513 1547]\n"
     ]
    },
    {
     "data": {
      "application/vnd.jupyter.widget-view+json": {
       "model_id": "2655482a60d64c17983a87abb8cf1e45",
       "version_major": 2,
       "version_minor": 0
      },
      "text/plain": [
       "Canvas(toolbar=Toolbar(toolitems=[('Home', 'Reset original view', 'home', 'home'), ('Back', 'Back to previous …"
      ]
     },
     "metadata": {},
     "output_type": "display_data"
    },
    {
     "name": "stdout",
     "output_type": "stream",
     "text": [
      "0 175\n"
     ]
    },
    {
     "data": {
      "application/vnd.jupyter.widget-view+json": {
       "model_id": "ddea643445f94a3eabf3ce5329335f83",
       "version_major": 2,
       "version_minor": 0
      },
      "text/plain": [
       "Canvas(toolbar=Toolbar(toolitems=[('Home', 'Reset original view', 'home', 'home'), ('Back', 'Back to previous …"
      ]
     },
     "metadata": {},
     "output_type": "display_data"
    },
    {
     "name": "stdout",
     "output_type": "stream",
     "text": [
      "trueHSR_indices 46 [32, 72, 109, 148, 201, 233, 269, 304, 338, 369, 401, 433, 465, 498, 530, 563, 596, 629, 661, 693, 726, 758, 792, 825, 859, 893, 926, 958, 992, 1025, 1059, 1094, 1127, 1163, 1196, 1230, 1264, 1298, 1332, 1366, 1399, 1433, 1467, 1502, 1535, 1572]\n",
      "peaks 42 [   9   40   82  116  149  198  236  266  306  337  370  400  433  473\n",
      "  507  542  600  632  666  703  736  768  803  860  902  961  994 1031\n",
      " 1073 1130 1166 1200 1233 1273 1306 1341 1376 1408 1439 1469 1503 1538]\n"
     ]
    },
    {
     "data": {
      "application/vnd.jupyter.widget-view+json": {
       "model_id": "c10d3829fad4491da67efb7cbb005848",
       "version_major": 2,
       "version_minor": 0
      },
      "text/plain": [
       "Canvas(toolbar=Toolbar(toolitems=[('Home', 'Reset original view', 'home', 'home'), ('Back', 'Back to previous …"
      ]
     },
     "metadata": {},
     "output_type": "display_data"
    },
    {
     "name": "stdout",
     "output_type": "stream",
     "text": [
      "GVS_214_T_T1\n",
      "[Errno 2] No such file or directory: 'C:\\\\Users\\\\purpl\\\\Box\\\\Gait Video Project\\\\GaitVideoData\\\\video\\\\multi_view_merged_data\\\\\\\\HOA\\\\beam_walking\\\\GVS_214_T_T1\\\\hip_height_normalized\\\\\\\\HSRframes.txt'\n",
      "GVS_214_T_T2\n",
      "[29, 408, 439, 470, 500, 534, 561, 594, 623, 652, 683, 713, 742, 772, 802, 831, 859, 890, 917, 947, 977, 1005, 1034, 1062, 1091, 1122, 1151, 1179, 1206, 1235, 1262, 1292, 1320, 1349, 1378, 1405, 1435, 1463, 1492, 1521, 1551, 1579, 1608, 1637, 1666, 1696, 1724, 1754]\n",
      "0 55\n"
     ]
    },
    {
     "data": {
      "application/vnd.jupyter.widget-view+json": {
       "model_id": "6288395b9fa945c3a3fa537fc0c398ed",
       "version_major": 2,
       "version_minor": 0
      },
      "text/plain": [
       "Canvas(toolbar=Toolbar(toolitems=[('Home', 'Reset original view', 'home', 'home'), ('Back', 'Back to previous …"
      ]
     },
     "metadata": {},
     "output_type": "display_data"
    },
    {
     "name": "stdout",
     "output_type": "stream",
     "text": [
      "trueHSR_indices 47 [27, 396, 423, 454, 484, 518, 545, 578, 606, 633, 662, 692, 718, 748, 777, 806, 832, 863, 889, 919, 949, 976, 1004, 1032, 1061, 1091, 1120, 1148, 1175, 1204, 1231, 1260, 1286, 1314, 1343, 1370, 1400, 1428, 1456, 1479, 1535, 1564, 1586, 1614, 1643, 1669, 1699]\n",
      "peaks 41 [   5   44   90  152  207  239  272  303  334  366  397  457  498  545\n",
      "  588  644  694  749  779  838  892  925  958 1008 1043 1073 1119 1158\n",
      " 1205 1238 1268 1311 1343 1402 1435 1480 1546 1589 1625 1658 1701]\n"
     ]
    },
    {
     "data": {
      "application/vnd.jupyter.widget-view+json": {
       "model_id": "8f1afb1a33334ec98338047eb05e0cfb",
       "version_major": 2,
       "version_minor": 0
      },
      "text/plain": [
       "Canvas(toolbar=Toolbar(toolitems=[('Home', 'Reset original view', 'home', 'home'), ('Back', 'Back to previous …"
      ]
     },
     "metadata": {},
     "output_type": "display_data"
    },
    {
     "name": "stdout",
     "output_type": "stream",
     "text": [
      "0 55\n"
     ]
    },
    {
     "data": {
      "application/vnd.jupyter.widget-view+json": {
       "model_id": "097e1777f2964a72871ec79e0198b7f8",
       "version_major": 2,
       "version_minor": 0
      },
      "text/plain": [
       "Canvas(toolbar=Toolbar(toolitems=[('Home', 'Reset original view', 'home', 'home'), ('Back', 'Back to previous …"
      ]
     },
     "metadata": {},
     "output_type": "display_data"
    },
    {
     "name": "stdout",
     "output_type": "stream",
     "text": [
      "trueHSR_indices 47 [27, 396, 423, 454, 484, 518, 545, 578, 606, 633, 662, 692, 718, 748, 777, 806, 832, 863, 889, 919, 949, 976, 1004, 1032, 1061, 1091, 1120, 1148, 1175, 1204, 1231, 1260, 1286, 1314, 1343, 1370, 1400, 1428, 1456, 1479, 1535, 1564, 1586, 1614, 1643, 1669, 1699]\n",
      "peaks 40 [  29   82  114  151  211  241  273  309  363  395  453  492  526  556\n",
      "  587  634  664  695  748  778  841  890  921  952  983 1032 1064 1119\n",
      " 1155 1207 1258 1322 1374 1408 1455 1511 1544 1586 1623 1671]\n"
     ]
    },
    {
     "data": {
      "application/vnd.jupyter.widget-view+json": {
       "model_id": "ab985491849f4a5aa0ee7207a5ea7639",
       "version_major": 2,
       "version_minor": 0
      },
      "text/plain": [
       "Canvas(toolbar=Toolbar(toolitems=[('Home', 'Reset original view', 'home', 'home'), ('Back', 'Back to previous …"
      ]
     },
     "metadata": {},
     "output_type": "display_data"
    },
    {
     "name": "stdout",
     "output_type": "stream",
     "text": [
      "0 55\n"
     ]
    },
    {
     "data": {
      "application/vnd.jupyter.widget-view+json": {
       "model_id": "e963de658cd84418a325e7d5737829d6",
       "version_major": 2,
       "version_minor": 0
      },
      "text/plain": [
       "Canvas(toolbar=Toolbar(toolitems=[('Home', 'Reset original view', 'home', 'home'), ('Back', 'Back to previous …"
      ]
     },
     "metadata": {},
     "output_type": "display_data"
    },
    {
     "name": "stdout",
     "output_type": "stream",
     "text": [
      "trueHSR_indices 47 [27, 396, 423, 454, 484, 518, 545, 578, 606, 633, 662, 692, 718, 748, 777, 806, 832, 863, 889, 919, 949, 976, 1004, 1032, 1061, 1091, 1120, 1148, 1175, 1204, 1231, 1260, 1286, 1314, 1343, 1370, 1400, 1428, 1456, 1479, 1535, 1564, 1586, 1614, 1643, 1669, 1699]\n",
      "peaks 39 [  26   80  118  152  205  240  273  309  342  376  426  457  506  551\n",
      "  587  640  694  748  779  809  863  921  954  984 1034 1091 1152 1184\n",
      " 1241 1289 1343 1380 1430 1464 1509 1545 1590 1650 1699]\n"
     ]
    },
    {
     "data": {
      "application/vnd.jupyter.widget-view+json": {
       "model_id": "cea7fff1b35e4217a6f229f41c2e1bff",
       "version_major": 2,
       "version_minor": 0
      },
      "text/plain": [
       "Canvas(toolbar=Toolbar(toolitems=[('Home', 'Reset original view', 'home', 'home'), ('Back', 'Back to previous …"
      ]
     },
     "metadata": {},
     "output_type": "display_data"
    },
    {
     "name": "stdout",
     "output_type": "stream",
     "text": [
      "GVS_215_T_T1\n",
      "[90, 138, 180, 221, 258, 291, 325, 366, 399, 437, 486, 517, 566, 617, 730, 787, 836, 888, 918, 951, 984, 1018, 1048, 1078, 1104, 1131, 1163, 1193, 1226, 1258, 1293, 1326, 1359, 1394, 1429, 1464, 1499, 1533, 1568, 1601, 1636, 1670, 1703, 1736]\n",
      "0 7\n"
     ]
    },
    {
     "data": {
      "application/vnd.jupyter.widget-view+json": {
       "model_id": "ddc88faa6e2b4c9a9ce7ca5ee193ece6",
       "version_major": 2,
       "version_minor": 0
      },
      "text/plain": [
       "Canvas(toolbar=Toolbar(toolitems=[('Home', 'Reset original view', 'home', 'home'), ('Back', 'Back to previous …"
      ]
     },
     "metadata": {},
     "output_type": "display_data"
    },
    {
     "name": "stdout",
     "output_type": "stream",
     "text": [
      "trueHSR_indices 43 [89, 136, 178, 255, 288, 322, 362, 394, 432, 481, 511, 560, 611, 724, 781, 830, 881, 911, 944, 977, 1011, 1041, 1071, 1097, 1124, 1156, 1186, 1219, 1251, 1286, 1319, 1352, 1387, 1422, 1457, 1492, 1526, 1561, 1594, 1629, 1663, 1696, 1729]\n",
      "peaks 45 [  13   45   76  112  144  178  217  252  288  324  373  408  450  509\n",
      "  539  581  633  663  693  748  783  832  862  892  944  978 1012 1072\n",
      " 1102 1137 1169 1217 1253 1299 1354 1390 1423 1459 1505 1562 1595 1629\n",
      " 1663 1696 1735]\n"
     ]
    },
    {
     "data": {
      "application/vnd.jupyter.widget-view+json": {
       "model_id": "bc7e4d97973c4084b9b092e6f779ed92",
       "version_major": 2,
       "version_minor": 0
      },
      "text/plain": [
       "Canvas(toolbar=Toolbar(toolitems=[('Home', 'Reset original view', 'home', 'home'), ('Back', 'Back to previous …"
      ]
     },
     "metadata": {},
     "output_type": "display_data"
    },
    {
     "name": "stdout",
     "output_type": "stream",
     "text": [
      "0 7\n"
     ]
    },
    {
     "data": {
      "application/vnd.jupyter.widget-view+json": {
       "model_id": "64ad3ead4ff74249a145588cc063cead",
       "version_major": 2,
       "version_minor": 0
      },
      "text/plain": [
       "Canvas(toolbar=Toolbar(toolitems=[('Home', 'Reset original view', 'home', 'home'), ('Back', 'Back to previous …"
      ]
     },
     "metadata": {},
     "output_type": "display_data"
    },
    {
     "name": "stdout",
     "output_type": "stream",
     "text": [
      "trueHSR_indices 43 [89, 136, 178, 255, 288, 322, 362, 394, 432, 481, 511, 560, 611, 724, 781, 830, 881, 911, 944, 977, 1011, 1041, 1071, 1097, 1124, 1156, 1186, 1219, 1251, 1286, 1319, 1352, 1387, 1422, 1457, 1492, 1526, 1561, 1594, 1629, 1663, 1696, 1729]\n",
      "peaks 45 [  13   52   93  141  188  226  259  292  333  371  403  433  474  521\n",
      "  564  617  647  678  710  745  799  845  879  918  950  983 1020 1074\n",
      " 1130 1187 1221 1252 1286 1325 1355 1386 1424 1461 1497 1535 1571 1607\n",
      " 1639 1699 1731]\n"
     ]
    },
    {
     "data": {
      "application/vnd.jupyter.widget-view+json": {
       "model_id": "b4c292bb1372425cbabc3336991d25e0",
       "version_major": 2,
       "version_minor": 0
      },
      "text/plain": [
       "Canvas(toolbar=Toolbar(toolitems=[('Home', 'Reset original view', 'home', 'home'), ('Back', 'Back to previous …"
      ]
     },
     "metadata": {},
     "output_type": "display_data"
    },
    {
     "name": "stdout",
     "output_type": "stream",
     "text": [
      "0 7\n"
     ]
    },
    {
     "data": {
      "application/vnd.jupyter.widget-view+json": {
       "model_id": "6c359e636e804588a578e98ec70e1094",
       "version_major": 2,
       "version_minor": 0
      },
      "text/plain": [
       "Canvas(toolbar=Toolbar(toolitems=[('Home', 'Reset original view', 'home', 'home'), ('Back', 'Back to previous …"
      ]
     },
     "metadata": {},
     "output_type": "display_data"
    },
    {
     "name": "stdout",
     "output_type": "stream",
     "text": [
      "trueHSR_indices 43 [89, 136, 178, 255, 288, 322, 362, 394, 432, 481, 511, 560, 611, 724, 781, 830, 881, 911, 944, 977, 1011, 1041, 1071, 1097, 1124, 1156, 1186, 1219, 1251, 1286, 1319, 1352, 1387, 1422, 1457, 1492, 1526, 1561, 1594, 1629, 1663, 1696, 1729]\n",
      "peaks 46 [  13   46   78  111  150  185  216  255  299  357  407  444  483  513\n",
      "  556  588  627  663  704  744  780  832  877  911  944  978 1012 1070\n",
      " 1125 1156 1187 1221 1252 1287 1320 1354 1387 1424 1455 1490 1525 1560\n",
      " 1596 1627 1664 1709]\n"
     ]
    },
    {
     "data": {
      "application/vnd.jupyter.widget-view+json": {
       "model_id": "f062e8aa3d8c468fae20f05d67e890ad",
       "version_major": 2,
       "version_minor": 0
      },
      "text/plain": [
       "Canvas(toolbar=Toolbar(toolitems=[('Home', 'Reset original view', 'home', 'home'), ('Back', 'Back to previous …"
      ]
     },
     "metadata": {},
     "output_type": "display_data"
    },
    {
     "name": "stdout",
     "output_type": "stream",
     "text": [
      "GVS_215_T_T2\n",
      "[35, 103, 143, 188, 232, 272, 316, 355, 393, 437, 472, 520, 568, 612, 652, 691, 731, 768, 801, 832, 864, 899, 934, 969, 999, 1034, 1066, 1099, 1132, 1166, 1200, 1236, 1269, 1300, 1333, 1367, 1401, 1431, 1465, 1496, 1529, 1561, 1593, 1624, 1657, 1688, 1717, 1749]\n",
      "0 2\n"
     ]
    },
    {
     "data": {
      "application/vnd.jupyter.widget-view+json": {
       "model_id": "55c30cbe8a2846049e4df260cb105ede",
       "version_major": 2,
       "version_minor": 0
      },
      "text/plain": [
       "Canvas(toolbar=Toolbar(toolitems=[('Home', 'Reset original view', 'home', 'home'), ('Back', 'Back to previous …"
      ]
     },
     "metadata": {},
     "output_type": "display_data"
    },
    {
     "name": "stdout",
     "output_type": "stream",
     "text": [
      "trueHSR_indices 47 [35, 103, 143, 188, 232, 272, 316, 355, 393, 437, 472, 520, 568, 612, 690, 730, 767, 800, 831, 863, 898, 933, 968, 998, 1033, 1065, 1098, 1131, 1165, 1199, 1235, 1268, 1299, 1332, 1366, 1400, 1430, 1464, 1495, 1528, 1560, 1592, 1623, 1656, 1687, 1716, 1747]\n",
      "peaks 45 [   5   38   71  122  152  191  233  275  313  358  392  439  495  542\n",
      "  590  623  654  721  767  801  833  864  900  936  969 1000 1042 1099\n",
      " 1133 1167 1201 1238 1272 1324 1369 1403 1438 1485 1531 1563 1595 1627\n",
      " 1658 1689 1737]\n"
     ]
    },
    {
     "data": {
      "application/vnd.jupyter.widget-view+json": {
       "model_id": "0a1c550a7a864f71a5739b5cda1fde2f",
       "version_major": 2,
       "version_minor": 0
      },
      "text/plain": [
       "Canvas(toolbar=Toolbar(toolitems=[('Home', 'Reset original view', 'home', 'home'), ('Back', 'Back to previous …"
      ]
     },
     "metadata": {},
     "output_type": "display_data"
    },
    {
     "name": "stdout",
     "output_type": "stream",
     "text": [
      "0 2\n"
     ]
    },
    {
     "data": {
      "application/vnd.jupyter.widget-view+json": {
       "model_id": "ecf4063e26914d61aff0fb504eb81ef3",
       "version_major": 2,
       "version_minor": 0
      },
      "text/plain": [
       "Canvas(toolbar=Toolbar(toolitems=[('Home', 'Reset original view', 'home', 'home'), ('Back', 'Back to previous …"
      ]
     },
     "metadata": {},
     "output_type": "display_data"
    },
    {
     "name": "stdout",
     "output_type": "stream",
     "text": [
      "trueHSR_indices 47 [35, 103, 143, 188, 232, 272, 316, 355, 393, 437, 472, 520, 568, 612, 690, 730, 767, 800, 831, 863, 898, 933, 968, 998, 1033, 1065, 1098, 1131, 1165, 1199, 1235, 1268, 1299, 1332, 1366, 1400, 1430, 1464, 1495, 1528, 1560, 1592, 1623, 1656, 1687, 1716, 1747]\n",
      "peaks 45 [   5   42   98  141  196  239  289  329  365  399  436  478  509  540\n",
      "  588  621  654  699  741  774  805  837  871  901  942  977 1009 1044\n",
      " 1097 1145 1176 1213 1247 1278 1312 1344 1377 1409 1472 1505 1563 1598\n",
      " 1629 1687 1726]\n"
     ]
    },
    {
     "data": {
      "application/vnd.jupyter.widget-view+json": {
       "model_id": "5ec795775cdf411cbbad6578d110a223",
       "version_major": 2,
       "version_minor": 0
      },
      "text/plain": [
       "Canvas(toolbar=Toolbar(toolitems=[('Home', 'Reset original view', 'home', 'home'), ('Back', 'Back to previous …"
      ]
     },
     "metadata": {},
     "output_type": "display_data"
    },
    {
     "name": "stdout",
     "output_type": "stream",
     "text": [
      "0 2\n"
     ]
    },
    {
     "data": {
      "application/vnd.jupyter.widget-view+json": {
       "model_id": "a3c0961eafbf425ba3640a951d188dcb",
       "version_major": 2,
       "version_minor": 0
      },
      "text/plain": [
       "Canvas(toolbar=Toolbar(toolitems=[('Home', 'Reset original view', 'home', 'home'), ('Back', 'Back to previous …"
      ]
     },
     "metadata": {},
     "output_type": "display_data"
    },
    {
     "name": "stdout",
     "output_type": "stream",
     "text": [
      "trueHSR_indices 47 [35, 103, 143, 188, 232, 272, 316, 355, 393, 437, 472, 520, 568, 612, 690, 730, 767, 800, 831, 863, 898, 933, 968, 998, 1033, 1065, 1098, 1131, 1165, 1199, 1235, 1268, 1299, 1332, 1366, 1400, 1430, 1464, 1495, 1528, 1560, 1592, 1623, 1656, 1687, 1716, 1747]\n",
      "peaks 46 [  42   96  143  190  232  278  315  356  391  435  484  516  571  612\n",
      "  653  690  731  768  800  832  864  897  934  969  999 1032 1065 1099\n",
      " 1133 1166 1200 1235 1267 1299 1333 1367 1402 1432 1465 1496 1528 1561\n",
      " 1593 1625 1657 1717]\n"
     ]
    },
    {
     "data": {
      "application/vnd.jupyter.widget-view+json": {
       "model_id": "84963b39c0f54351adb16bae0d641529",
       "version_major": 2,
       "version_minor": 0
      },
      "text/plain": [
       "Canvas(toolbar=Toolbar(toolitems=[('Home', 'Reset original view', 'home', 'home'), ('Back', 'Back to previous …"
      ]
     },
     "metadata": {},
     "output_type": "display_data"
    },
    {
     "name": "stdout",
     "output_type": "stream",
     "text": [
      "GVS_216_T_T1\n",
      "[33, 85, 138, 191, 242, 285, 334, 387, 433, 484, 535, 585, 637, 684, 735, 780, 827, 876, 920, 970, 1020, 1071, 1123, 1177, 1243, 1294, 1351, 1406, 1456, 1509, 1556, 1603, 1652, 1698]\n",
      "0 28\n"
     ]
    },
    {
     "data": {
      "application/vnd.jupyter.widget-view+json": {
       "model_id": "8105785757bf4095a79a246cf6f597ff",
       "version_major": 2,
       "version_minor": 0
      },
      "text/plain": [
       "Canvas(toolbar=Toolbar(toolitems=[('Home', 'Reset original view', 'home', 'home'), ('Back', 'Back to previous …"
      ]
     },
     "metadata": {},
     "output_type": "display_data"
    },
    {
     "name": "stdout",
     "output_type": "stream",
     "text": [
      "trueHSR_indices 34 [30, 81, 134, 186, 236, 278, 326, 379, 423, 473, 524, 573, 624, 671, 722, 767, 813, 861, 904, 953, 1002, 1050, 1101, 1154, 1220, 1271, 1327, 1380, 1430, 1483, 1529, 1576, 1625, 1671]\n",
      "peaks 37 [  12   48   79  120  154  189  238  283  336  380  425  472  528  570\n",
      "  623  681  722  771  818  863  910  955  998 1069 1104 1152 1182 1220\n",
      " 1277 1330 1386 1451 1485 1532 1578 1626 1676]\n"
     ]
    },
    {
     "data": {
      "application/vnd.jupyter.widget-view+json": {
       "model_id": "61a1f6e520164ee5b458677b443e7652",
       "version_major": 2,
       "version_minor": 0
      },
      "text/plain": [
       "Canvas(toolbar=Toolbar(toolitems=[('Home', 'Reset original view', 'home', 'home'), ('Back', 'Back to previous …"
      ]
     },
     "metadata": {},
     "output_type": "display_data"
    },
    {
     "name": "stdout",
     "output_type": "stream",
     "text": [
      "0 28\n"
     ]
    },
    {
     "data": {
      "application/vnd.jupyter.widget-view+json": {
       "model_id": "4b0328b43752498c9b53929bc7f8afeb",
       "version_major": 2,
       "version_minor": 0
      },
      "text/plain": [
       "Canvas(toolbar=Toolbar(toolitems=[('Home', 'Reset original view', 'home', 'home'), ('Back', 'Back to previous …"
      ]
     },
     "metadata": {},
     "output_type": "display_data"
    },
    {
     "name": "stdout",
     "output_type": "stream",
     "text": [
      "trueHSR_indices 34 [30, 81, 134, 186, 236, 278, 326, 379, 423, 473, 524, 573, 624, 671, 722, 767, 813, 861, 904, 953, 1002, 1050, 1101, 1154, 1220, 1271, 1327, 1380, 1430, 1483, 1529, 1576, 1625, 1671]\n",
      "peaks 37 [  13   44   92  150  193  240  289  339  374  420  454  487  521  572\n",
      "  636  681  721  766  822  874  921  955 1014 1063 1116 1172 1233 1295\n",
      " 1326 1362 1394 1446 1497 1530 1576 1640 1688]\n"
     ]
    },
    {
     "data": {
      "application/vnd.jupyter.widget-view+json": {
       "model_id": "a0f0d8dff166452cbf573ad78fe05c64",
       "version_major": 2,
       "version_minor": 0
      },
      "text/plain": [
       "Canvas(toolbar=Toolbar(toolitems=[('Home', 'Reset original view', 'home', 'home'), ('Back', 'Back to previous …"
      ]
     },
     "metadata": {},
     "output_type": "display_data"
    },
    {
     "name": "stdout",
     "output_type": "stream",
     "text": [
      "0 28\n"
     ]
    },
    {
     "data": {
      "application/vnd.jupyter.widget-view+json": {
       "model_id": "d0bd8e276b4f4b778dd35ca1a098b652",
       "version_major": 2,
       "version_minor": 0
      },
      "text/plain": [
       "Canvas(toolbar=Toolbar(toolitems=[('Home', 'Reset original view', 'home', 'home'), ('Back', 'Back to previous …"
      ]
     },
     "metadata": {},
     "output_type": "display_data"
    },
    {
     "name": "stdout",
     "output_type": "stream",
     "text": [
      "trueHSR_indices 34 [30, 81, 134, 186, 236, 278, 326, 379, 423, 473, 524, 573, 624, 671, 722, 767, 813, 861, 904, 953, 1002, 1050, 1101, 1154, 1220, 1271, 1327, 1380, 1430, 1483, 1529, 1576, 1625, 1671]\n",
      "peaks 38 [  13   44   79  119  153  189  230  282  344  395  437  483  528  570\n",
      "  623  670  738  771  816  862  910  954  986 1018 1063 1103 1153 1187\n",
      " 1217 1276 1331 1385 1431 1484 1527 1585 1626 1670]\n"
     ]
    },
    {
     "data": {
      "application/vnd.jupyter.widget-view+json": {
       "model_id": "2fc70d82708646888336198e5f2bca84",
       "version_major": 2,
       "version_minor": 0
      },
      "text/plain": [
       "Canvas(toolbar=Toolbar(toolitems=[('Home', 'Reset original view', 'home', 'home'), ('Back', 'Back to previous …"
      ]
     },
     "metadata": {},
     "output_type": "display_data"
    },
    {
     "name": "stdout",
     "output_type": "stream",
     "text": [
      "GVS_216_T_T2\n",
      "[27, 79, 139, 194, 248, 296, 338, 379, 423, 465, 504, 542, 579, 615, 652, 688, 723, 757, 792, 828, 865, 900, 936, 972, 1007, 1043, 1081, 1118, 1155, 1191, 1228, 1264, 1299, 1335, 1371, 1406, 1443, 1480, 1515, 1553, 1590, 1625, 1660, 1696, 1732]\n",
      "0 20\n"
     ]
    },
    {
     "data": {
      "application/vnd.jupyter.widget-view+json": {
       "model_id": "a889b31aa28c4f64a74144755e400fe0",
       "version_major": 2,
       "version_minor": 0
      },
      "text/plain": [
       "Canvas(toolbar=Toolbar(toolitems=[('Home', 'Reset original view', 'home', 'home'), ('Back', 'Back to previous …"
      ]
     },
     "metadata": {},
     "output_type": "display_data"
    },
    {
     "name": "stdout",
     "output_type": "stream",
     "text": [
      "trueHSR_indices 45 [21, 71, 130, 185, 239, 287, 329, 370, 414, 456, 494, 532, 569, 604, 641, 677, 712, 745, 780, 815, 851, 886, 922, 958, 993, 1029, 1066, 1102, 1139, 1175, 1211, 1247, 1282, 1318, 1354, 1388, 1425, 1462, 1497, 1534, 1571, 1606, 1640, 1676, 1712]\n",
      "peaks 41 [  36   70  129  183  239  284  346  376  413  456  509  569  604  646\n",
      "  677  723  759  815  851  887  922  962  994 1046 1082 1135 1176 1226\n",
      " 1283 1319 1355 1389 1426 1462 1499 1533 1574 1609 1639 1679 1712]\n"
     ]
    },
    {
     "data": {
      "application/vnd.jupyter.widget-view+json": {
       "model_id": "83d0b99d27f14ca3a99f592ba94b8b83",
       "version_major": 2,
       "version_minor": 0
      },
      "text/plain": [
       "Canvas(toolbar=Toolbar(toolitems=[('Home', 'Reset original view', 'home', 'home'), ('Back', 'Back to previous …"
      ]
     },
     "metadata": {},
     "output_type": "display_data"
    },
    {
     "name": "stdout",
     "output_type": "stream",
     "text": [
      "0 20\n"
     ]
    },
    {
     "data": {
      "application/vnd.jupyter.widget-view+json": {
       "model_id": "a16d9ecc1f9d424d9bfaa6bf347ee269",
       "version_major": 2,
       "version_minor": 0
      },
      "text/plain": [
       "Canvas(toolbar=Toolbar(toolitems=[('Home', 'Reset original view', 'home', 'home'), ('Back', 'Back to previous …"
      ]
     },
     "metadata": {},
     "output_type": "display_data"
    },
    {
     "name": "stdout",
     "output_type": "stream",
     "text": [
      "trueHSR_indices 45 [21, 71, 130, 185, 239, 287, 329, 370, 414, 456, 494, 532, 569, 604, 641, 677, 712, 745, 780, 815, 851, 886, 922, 958, 993, 1029, 1066, 1102, 1139, 1175, 1211, 1247, 1282, 1318, 1354, 1388, 1425, 1462, 1497, 1534, 1571, 1606, 1640, 1676, 1712]\n",
      "peaks 45 [  25   75  111  144  193  251  282  330  379  413  454  495  534  573\n",
      "  609  643  686  720  756  791  827  861  897  935  970 1008 1044 1079\n",
      " 1115 1150 1188 1223 1258 1296 1330 1365 1400 1438 1472 1511 1546 1581\n",
      " 1638 1673 1711]\n"
     ]
    },
    {
     "data": {
      "application/vnd.jupyter.widget-view+json": {
       "model_id": "9d444d69479d4eeaa9da3bc2950e6fa5",
       "version_major": 2,
       "version_minor": 0
      },
      "text/plain": [
       "Canvas(toolbar=Toolbar(toolitems=[('Home', 'Reset original view', 'home', 'home'), ('Back', 'Back to previous …"
      ]
     },
     "metadata": {},
     "output_type": "display_data"
    },
    {
     "name": "stdout",
     "output_type": "stream",
     "text": [
      "0 20\n"
     ]
    },
    {
     "data": {
      "application/vnd.jupyter.widget-view+json": {
       "model_id": "adeb31d8e2a54ae388ee7a8cf539251d",
       "version_major": 2,
       "version_minor": 0
      },
      "text/plain": [
       "Canvas(toolbar=Toolbar(toolitems=[('Home', 'Reset original view', 'home', 'home'), ('Back', 'Back to previous …"
      ]
     },
     "metadata": {},
     "output_type": "display_data"
    },
    {
     "name": "stdout",
     "output_type": "stream",
     "text": [
      "trueHSR_indices 45 [21, 71, 130, 185, 239, 287, 329, 370, 414, 456, 494, 532, 569, 604, 641, 677, 712, 745, 780, 815, 851, 886, 922, 958, 993, 1029, 1066, 1102, 1139, 1175, 1211, 1247, 1282, 1318, 1354, 1388, 1425, 1462, 1497, 1534, 1571, 1606, 1640, 1676, 1712]\n",
      "peaks 45 [  27   63  101  134  179  239  284  340  374  413  452  498  532  570\n",
      "  604  641  677  709  743  779  814  848  886  921  962  994 1031 1067\n",
      " 1102 1143 1188 1247 1283 1317 1355 1391 1424 1462 1499 1534 1574 1608\n",
      " 1639 1678 1715]\n"
     ]
    },
    {
     "data": {
      "application/vnd.jupyter.widget-view+json": {
       "model_id": "f6ad51789d2c4e03a4380e82cc274a83",
       "version_major": 2,
       "version_minor": 0
      },
      "text/plain": [
       "Canvas(toolbar=Toolbar(toolitems=[('Home', 'Reset original view', 'home', 'home'), ('Back', 'Back to previous …"
      ]
     },
     "metadata": {},
     "output_type": "display_data"
    },
    {
     "name": "stdout",
     "output_type": "stream",
     "text": [
      "GVS_217_T_T1\n",
      "[0, 60, 123, 185, 248, 309, 379, 445, 508, 569, 625, 676, 727, 776, 824, 873, 920, 970, 1019, 1068, 1116, 1165, 1214, 1262, 1309, 1357, 1405, 1452, 1500, 1548, 1597, 1645, 1694, 1742]\n",
      "0 14\n"
     ]
    },
    {
     "data": {
      "application/vnd.jupyter.widget-view+json": {
       "model_id": "078cd18f904d4246bd3efd20361976b5",
       "version_major": 2,
       "version_minor": 0
      },
      "text/plain": [
       "Canvas(toolbar=Toolbar(toolitems=[('Home', 'Reset original view', 'home', 'home'), ('Back', 'Back to previous …"
      ]
     },
     "metadata": {},
     "output_type": "display_data"
    },
    {
     "name": "stdout",
     "output_type": "stream",
     "text": [
      "trueHSR_indices 34 [0, 58, 120, 182, 245, 306, 374, 440, 503, 563, 619, 670, 721, 770, 818, 867, 913, 963, 1012, 1061, 1107, 1155, 1204, 1251, 1298, 1345, 1393, 1440, 1488, 1536, 1585, 1632, 1680, 1728]\n",
      "peaks 38 [  30   61  115  149  185  222  273  309  344  380  443  506  536  567\n",
      "  621  671  724  793  833  867  914  963 1011 1062 1107 1153 1202 1249\n",
      " 1298 1345 1392 1438 1487 1534 1584 1630 1678 1726]\n"
     ]
    },
    {
     "data": {
      "application/vnd.jupyter.widget-view+json": {
       "model_id": "dda930db7357446193789978528efd83",
       "version_major": 2,
       "version_minor": 0
      },
      "text/plain": [
       "Canvas(toolbar=Toolbar(toolitems=[('Home', 'Reset original view', 'home', 'home'), ('Back', 'Back to previous …"
      ]
     },
     "metadata": {},
     "output_type": "display_data"
    },
    {
     "name": "stdout",
     "output_type": "stream",
     "text": [
      "0 14\n"
     ]
    },
    {
     "data": {
      "application/vnd.jupyter.widget-view+json": {
       "model_id": "07817fa74d9d499398d3c696c57fbf35",
       "version_major": 2,
       "version_minor": 0
      },
      "text/plain": [
       "Canvas(toolbar=Toolbar(toolitems=[('Home', 'Reset original view', 'home', 'home'), ('Back', 'Back to previous …"
      ]
     },
     "metadata": {},
     "output_type": "display_data"
    },
    {
     "name": "stdout",
     "output_type": "stream",
     "text": [
      "trueHSR_indices 34 [0, 58, 120, 182, 245, 306, 374, 440, 503, 563, 619, 670, 721, 770, 818, 867, 913, 963, 1012, 1061, 1107, 1155, 1204, 1251, 1298, 1345, 1393, 1440, 1488, 1536, 1585, 1632, 1680, 1728]\n",
      "peaks 39 [  39   73  118  164  202  243  277  307  343  384  416  455  511  550\n",
      "  583  617  669  721  768  814  864  919  957 1006 1056 1105 1151 1198\n",
      " 1260 1306 1341 1396 1437 1485 1533 1592 1640 1672 1719]\n"
     ]
    },
    {
     "data": {
      "application/vnd.jupyter.widget-view+json": {
       "model_id": "b18b833fe3f34f239d6b94fe57625e15",
       "version_major": 2,
       "version_minor": 0
      },
      "text/plain": [
       "Canvas(toolbar=Toolbar(toolitems=[('Home', 'Reset original view', 'home', 'home'), ('Back', 'Back to previous …"
      ]
     },
     "metadata": {},
     "output_type": "display_data"
    },
    {
     "name": "stdout",
     "output_type": "stream",
     "text": [
      "0 14\n"
     ]
    },
    {
     "data": {
      "application/vnd.jupyter.widget-view+json": {
       "model_id": "caf6e0bcfe274aefa5589d0d6d7fa308",
       "version_major": 2,
       "version_minor": 0
      },
      "text/plain": [
       "Canvas(toolbar=Toolbar(toolitems=[('Home', 'Reset original view', 'home', 'home'), ('Back', 'Back to previous …"
      ]
     },
     "metadata": {},
     "output_type": "display_data"
    },
    {
     "name": "stdout",
     "output_type": "stream",
     "text": [
      "trueHSR_indices 34 [0, 58, 120, 182, 245, 306, 374, 440, 503, 563, 619, 670, 721, 770, 818, 867, 913, 963, 1012, 1061, 1107, 1155, 1204, 1251, 1298, 1345, 1393, 1440, 1488, 1536, 1585, 1632, 1680, 1728]\n",
      "peaks 38 [  33   63  123  185  218  249  286  317  373  408  442  474  506  567\n",
      "  621  671  724  771  819  866  914  962 1013 1062 1113 1157 1201 1249\n",
      " 1293 1338 1392 1437 1482 1531 1583 1630 1677 1726]\n"
     ]
    },
    {
     "data": {
      "application/vnd.jupyter.widget-view+json": {
       "model_id": "3bb142d090fd4dc3b177dc6f0f1bb3c6",
       "version_major": 2,
       "version_minor": 0
      },
      "text/plain": [
       "Canvas(toolbar=Toolbar(toolitems=[('Home', 'Reset original view', 'home', 'home'), ('Back', 'Back to previous …"
      ]
     },
     "metadata": {},
     "output_type": "display_data"
    },
    {
     "name": "stdout",
     "output_type": "stream",
     "text": [
      "GVS_217_T_T2\n",
      "[36, 93, 145, 195, 242, 292, 341, 390, 439, 487, 535, 584, 633, 679, 727, 774, 822, 871, 919, 968, 1016, 1064, 1114, 1163, 1213, 1261, 1311, 1361, 1411, 1459, 1507, 1555, 1603, 1649, 1696, 1743]\n",
      "0 31\n"
     ]
    },
    {
     "data": {
      "application/vnd.jupyter.widget-view+json": {
       "model_id": "78128a1d387c43af948986e7d05ebf59",
       "version_major": 2,
       "version_minor": 0
      },
      "text/plain": [
       "Canvas(toolbar=Toolbar(toolitems=[('Home', 'Reset original view', 'home', 'home'), ('Back', 'Back to previous …"
      ]
     },
     "metadata": {},
     "output_type": "display_data"
    },
    {
     "name": "stdout",
     "output_type": "stream",
     "text": [
      "trueHSR_indices 35 [36, 92, 144, 194, 241, 291, 339, 388, 437, 531, 577, 622, 666, 713, 757, 804, 852, 898, 947, 995, 1040, 1089, 1138, 1186, 1233, 1283, 1333, 1383, 1431, 1479, 1526, 1573, 1619, 1665, 1712]\n",
      "peaks 39 [   6   40   85  138  168  203  244  275  316  363  414  462  505  559\n",
      "  605  672  738  783  831  877  923  972 1018 1049 1093 1140 1190 1230\n",
      " 1261 1312 1361 1410 1458 1505 1554 1595 1644 1674 1709]\n"
     ]
    },
    {
     "data": {
      "application/vnd.jupyter.widget-view+json": {
       "model_id": "3f9b855204264a0d962d4db9993a8138",
       "version_major": 2,
       "version_minor": 0
      },
      "text/plain": [
       "Canvas(toolbar=Toolbar(toolitems=[('Home', 'Reset original view', 'home', 'home'), ('Back', 'Back to previous …"
      ]
     },
     "metadata": {},
     "output_type": "display_data"
    },
    {
     "name": "stdout",
     "output_type": "stream",
     "text": [
      "0 31\n"
     ]
    },
    {
     "data": {
      "application/vnd.jupyter.widget-view+json": {
       "model_id": "1830fb37bcce4e038e5309e4fea1bd56",
       "version_major": 2,
       "version_minor": 0
      },
      "text/plain": [
       "Canvas(toolbar=Toolbar(toolitems=[('Home', 'Reset original view', 'home', 'home'), ('Back', 'Back to previous …"
      ]
     },
     "metadata": {},
     "output_type": "display_data"
    },
    {
     "name": "stdout",
     "output_type": "stream",
     "text": [
      "trueHSR_indices 35 [36, 92, 144, 194, 241, 291, 339, 388, 437, 531, 577, 622, 666, 713, 757, 804, 852, 898, 947, 995, 1040, 1089, 1138, 1186, 1233, 1283, 1333, 1383, 1431, 1479, 1526, 1573, 1619, 1665, 1712]\n",
      "peaks 38 [   8   48   99  141  200  240  299  348  397  465  515  558  593  625\n",
      "  673  720  765  804  851  905  956 1004 1039 1089 1139 1169 1200 1240\n",
      " 1291 1335 1385 1432 1479 1527 1573 1634 1669 1709]\n"
     ]
    },
    {
     "data": {
      "application/vnd.jupyter.widget-view+json": {
       "model_id": "eb771c6acaf0411aa030d855beada168",
       "version_major": 2,
       "version_minor": 0
      },
      "text/plain": [
       "Canvas(toolbar=Toolbar(toolitems=[('Home', 'Reset original view', 'home', 'home'), ('Back', 'Back to previous …"
      ]
     },
     "metadata": {},
     "output_type": "display_data"
    },
    {
     "name": "stdout",
     "output_type": "stream",
     "text": [
      "0 31\n"
     ]
    },
    {
     "data": {
      "application/vnd.jupyter.widget-view+json": {
       "model_id": "eaa7ab948896496299b02997419fc6a2",
       "version_major": 2,
       "version_minor": 0
      },
      "text/plain": [
       "Canvas(toolbar=Toolbar(toolitems=[('Home', 'Reset original view', 'home', 'home'), ('Back', 'Back to previous …"
      ]
     },
     "metadata": {},
     "output_type": "display_data"
    },
    {
     "name": "stdout",
     "output_type": "stream",
     "text": [
      "trueHSR_indices 35 [36, 92, 144, 194, 241, 291, 339, 388, 437, 531, 577, 622, 666, 713, 757, 804, 852, 898, 947, 995, 1040, 1089, 1138, 1186, 1233, 1283, 1333, 1383, 1431, 1479, 1526, 1573, 1619, 1665, 1712]\n",
      "peaks 40 [   8   44   99  145  197  244  281  316  349  397  444  491  538  582\n",
      "  626  692  734  765  804  850  905  952  993 1027 1089 1139 1192 1234\n",
      " 1264 1299 1335 1386 1433 1479 1509 1553 1588 1625 1663 1704]\n"
     ]
    },
    {
     "data": {
      "application/vnd.jupyter.widget-view+json": {
       "model_id": "eb1f1c26c30b4535aff5ba838cd2f7b4",
       "version_major": 2,
       "version_minor": 0
      },
      "text/plain": [
       "Canvas(toolbar=Toolbar(toolitems=[('Home', 'Reset original view', 'home', 'home'), ('Back', 'Back to previous …"
      ]
     },
     "metadata": {},
     "output_type": "display_data"
    },
    {
     "name": "stdout",
     "output_type": "stream",
     "text": [
      "GVS_218_T_T1\n",
      "[37, 85, 132, 172, 210, 246, 280, 314, 347, 380, 412, 442, 473, 503, 534, 564, 597, 627, 657, 688, 719, 750, 780, 810, 841, 870, 902, 932, 963, 993, 1023, 1055, 1086, 1115, 1146, 1174, 1204, 1235, 1263, 1294, 1322, 1351, 1382, 1409, 1440, 1468, 1498, 1529, 1557, 1588, 1616, 1645, 1674, 1703, 1733, 1761]\n",
      "0 30\n"
     ]
    },
    {
     "data": {
      "application/vnd.jupyter.widget-view+json": {
       "model_id": "61b5be1581b840c0a2081631fc07f4e9",
       "version_major": 2,
       "version_minor": 0
      },
      "text/plain": [
       "Canvas(toolbar=Toolbar(toolitems=[('Home', 'Reset original view', 'home', 'home'), ('Back', 'Back to previous …"
      ]
     },
     "metadata": {},
     "output_type": "display_data"
    },
    {
     "name": "stdout",
     "output_type": "stream",
     "text": [
      "trueHSR_indices 53 [37, 83, 130, 202, 237, 271, 304, 337, 369, 401, 431, 462, 492, 523, 553, 585, 614, 643, 674, 704, 734, 764, 794, 824, 851, 882, 912, 943, 972, 1001, 1033, 1064, 1093, 1124, 1151, 1181, 1212, 1240, 1271, 1299, 1328, 1359, 1386, 1417, 1445, 1505, 1532, 1562, 1589, 1616, 1645, 1674, 1704]\n",
      "peaks 42 [  18   54   85  132  179  238  272  306  338  369  402  462  494  553\n",
      "  587  644  675  705  741  794  824  881  911  944  975 1034 1064 1095\n",
      " 1125 1182 1214 1252 1300 1330 1385 1418 1477 1534 1564 1618 1674 1717]\n"
     ]
    },
    {
     "data": {
      "application/vnd.jupyter.widget-view+json": {
       "model_id": "2603de50c3ae4b2a86b896f762b487e3",
       "version_major": 2,
       "version_minor": 0
      },
      "text/plain": [
       "Canvas(toolbar=Toolbar(toolitems=[('Home', 'Reset original view', 'home', 'home'), ('Back', 'Back to previous …"
      ]
     },
     "metadata": {},
     "output_type": "display_data"
    },
    {
     "name": "stdout",
     "output_type": "stream",
     "text": [
      "0 30\n"
     ]
    },
    {
     "data": {
      "application/vnd.jupyter.widget-view+json": {
       "model_id": "93b56fd8493f4e76a368f604ff210b99",
       "version_major": 2,
       "version_minor": 0
      },
      "text/plain": [
       "Canvas(toolbar=Toolbar(toolitems=[('Home', 'Reset original view', 'home', 'home'), ('Back', 'Back to previous …"
      ]
     },
     "metadata": {},
     "output_type": "display_data"
    },
    {
     "name": "stdout",
     "output_type": "stream",
     "text": [
      "trueHSR_indices 53 [37, 83, 130, 202, 237, 271, 304, 337, 369, 401, 431, 462, 492, 523, 553, 585, 614, 643, 674, 704, 734, 764, 794, 824, 851, 882, 912, 943, 972, 1001, 1033, 1064, 1093, 1124, 1151, 1181, 1212, 1240, 1271, 1299, 1328, 1359, 1386, 1417, 1445, 1505, 1532, 1562, 1589, 1616, 1645, 1674, 1704]\n",
      "peaks 39 [  11   46   81  137  176  235  272  312  345  403  462  523  564  613\n",
      "  654  715  761  795  825  861  894  973 1005 1038 1098 1134 1190 1247\n",
      " 1304 1358 1416 1451 1485 1533 1565 1597 1643 1682 1712]\n"
     ]
    },
    {
     "data": {
      "application/vnd.jupyter.widget-view+json": {
       "model_id": "8d1e2dcdaad847a79b95c4c2829915f5",
       "version_major": 2,
       "version_minor": 0
      },
      "text/plain": [
       "Canvas(toolbar=Toolbar(toolitems=[('Home', 'Reset original view', 'home', 'home'), ('Back', 'Back to previous …"
      ]
     },
     "metadata": {},
     "output_type": "display_data"
    },
    {
     "name": "stdout",
     "output_type": "stream",
     "text": [
      "0 30\n"
     ]
    },
    {
     "data": {
      "application/vnd.jupyter.widget-view+json": {
       "model_id": "edfa2ecf54da47a9bf3079ac3b4536ea",
       "version_major": 2,
       "version_minor": 0
      },
      "text/plain": [
       "Canvas(toolbar=Toolbar(toolitems=[('Home', 'Reset original view', 'home', 'home'), ('Back', 'Back to previous …"
      ]
     },
     "metadata": {},
     "output_type": "display_data"
    },
    {
     "name": "stdout",
     "output_type": "stream",
     "text": [
      "trueHSR_indices 53 [37, 83, 130, 202, 237, 271, 304, 337, 369, 401, 431, 462, 492, 523, 553, 585, 614, 643, 674, 704, 734, 764, 794, 824, 851, 882, 912, 943, 972, 1001, 1033, 1064, 1093, 1124, 1151, 1181, 1212, 1240, 1271, 1299, 1328, 1359, 1386, 1417, 1445, 1505, 1532, 1562, 1589, 1616, 1645, 1674, 1704]\n",
      "peaks 42 [  18   51   85  133  178  236  272  306  336  368  403  434  496  526\n",
      "  559  590  622  678  710  741  798  857  911  971 1007 1037 1097 1155\n",
      " 1188 1243 1274 1307 1337 1386 1421 1451 1502 1562 1620 1651 1687 1718]\n"
     ]
    },
    {
     "data": {
      "application/vnd.jupyter.widget-view+json": {
       "model_id": "f37501905d844f299e760315dfade891",
       "version_major": 2,
       "version_minor": 0
      },
      "text/plain": [
       "Canvas(toolbar=Toolbar(toolitems=[('Home', 'Reset original view', 'home', 'home'), ('Back', 'Back to previous …"
      ]
     },
     "metadata": {},
     "output_type": "display_data"
    },
    {
     "name": "stdout",
     "output_type": "stream",
     "text": [
      "GVS_218_T_T2\n",
      "[10, 60, 105, 150, 193, 234, 270, 305, 339, 373, 407, 441, 473, 504, 537, 568, 600, 631, 662, 694, 726, 756, 787, 818, 849, 881, 911, 943, 973, 1005, 1037, 1068, 1099, 1130, 1161, 1192, 1223, 1254, 1285, 1316, 1348, 1378, 1410, 1441, 1470, 1502, 1533, 1564, 1595, 1626, 1656, 1687, 1717, 1749]\n",
      "0 20\n"
     ]
    },
    {
     "data": {
      "application/vnd.jupyter.widget-view+json": {
       "model_id": "378093b6811943dda8102c52472dc8b8",
       "version_major": 2,
       "version_minor": 0
      },
      "text/plain": [
       "Canvas(toolbar=Toolbar(toolitems=[('Home', 'Reset original view', 'home', 'home'), ('Back', 'Back to previous …"
      ]
     },
     "metadata": {},
     "output_type": "display_data"
    },
    {
     "name": "stdout",
     "output_type": "stream",
     "text": [
      "trueHSR_indices 54 [10, 59, 103, 147, 190, 231, 267, 302, 336, 370, 404, 438, 469, 500, 532, 563, 594, 625, 656, 688, 720, 749, 780, 809, 838, 870, 900, 930, 960, 992, 1024, 1055, 1085, 1115, 1146, 1177, 1208, 1239, 1270, 1300, 1330, 1360, 1392, 1422, 1451, 1483, 1514, 1545, 1576, 1606, 1636, 1667, 1697, 1729]\n",
      "peaks 50 [  14   61   92  126  160  192  232  269  301  338  371  406  438  470\n",
      "  512  563  593  627  657  688  718  748  809  839  870  901  931  961\n",
      "  991 1024 1055 1086 1145 1177 1207 1240 1270 1300 1330 1362 1392 1422\n",
      " 1453 1511 1545 1605 1637 1669 1699 1729]\n"
     ]
    },
    {
     "data": {
      "application/vnd.jupyter.widget-view+json": {
       "model_id": "93856c7dc426409aa330dbb9c6888270",
       "version_major": 2,
       "version_minor": 0
      },
      "text/plain": [
       "Canvas(toolbar=Toolbar(toolitems=[('Home', 'Reset original view', 'home', 'home'), ('Back', 'Back to previous …"
      ]
     },
     "metadata": {},
     "output_type": "display_data"
    },
    {
     "name": "stdout",
     "output_type": "stream",
     "text": [
      "0 20\n"
     ]
    },
    {
     "data": {
      "application/vnd.jupyter.widget-view+json": {
       "model_id": "04d4bec93a2a4f648330a83ccb5717c1",
       "version_major": 2,
       "version_minor": 0
      },
      "text/plain": [
       "Canvas(toolbar=Toolbar(toolitems=[('Home', 'Reset original view', 'home', 'home'), ('Back', 'Back to previous …"
      ]
     },
     "metadata": {},
     "output_type": "display_data"
    },
    {
     "name": "stdout",
     "output_type": "stream",
     "text": [
      "trueHSR_indices 54 [10, 59, 103, 147, 190, 231, 267, 302, 336, 370, 404, 438, 469, 500, 532, 563, 594, 625, 656, 688, 720, 749, 780, 809, 838, 870, 900, 930, 960, 992, 1024, 1055, 1085, 1115, 1146, 1177, 1208, 1239, 1270, 1300, 1330, 1360, 1392, 1422, 1451, 1483, 1514, 1545, 1576, 1606, 1636, 1667, 1697, 1729]\n",
      "peaks 43 [  20   58  115  147  202  233  274  309  341  379  412  444  505  538\n",
      "  575  622  665  697  729  782  818  848  879  958 1001 1033 1066 1115\n",
      " 1155 1186 1217 1248 1279 1329 1362 1400 1452 1487 1543 1581 1636 1678\n",
      " 1737]\n"
     ]
    },
    {
     "data": {
      "application/vnd.jupyter.widget-view+json": {
       "model_id": "0724640974ea4f87a0581ff7e6c95138",
       "version_major": 2,
       "version_minor": 0
      },
      "text/plain": [
       "Canvas(toolbar=Toolbar(toolitems=[('Home', 'Reset original view', 'home', 'home'), ('Back', 'Back to previous …"
      ]
     },
     "metadata": {},
     "output_type": "display_data"
    },
    {
     "name": "stdout",
     "output_type": "stream",
     "text": [
      "0 20\n"
     ]
    },
    {
     "data": {
      "application/vnd.jupyter.widget-view+json": {
       "model_id": "ea387bd94ea541caaa66637fa866ecc7",
       "version_major": 2,
       "version_minor": 0
      },
      "text/plain": [
       "Canvas(toolbar=Toolbar(toolitems=[('Home', 'Reset original view', 'home', 'home'), ('Back', 'Back to previous …"
      ]
     },
     "metadata": {},
     "output_type": "display_data"
    },
    {
     "name": "stdout",
     "output_type": "stream",
     "text": [
      "trueHSR_indices 54 [10, 59, 103, 147, 190, 231, 267, 302, 336, 370, 404, 438, 469, 500, 532, 563, 594, 625, 656, 688, 720, 749, 780, 809, 838, 870, 900, 930, 960, 992, 1024, 1055, 1085, 1115, 1146, 1177, 1208, 1239, 1270, 1300, 1330, 1360, 1392, 1422, 1451, 1483, 1514, 1545, 1576, 1606, 1636, 1667, 1697, 1729]\n",
      "peaks 43 [  20   64  106  151  202  232  270  304  341  371  402  442  499  534\n",
      "  592  625  659  691  722  754  811  844  874  931  961  997 1054 1094\n",
      " 1144 1206 1244 1305 1358 1389 1423 1455 1486 1518 1550 1608 1639 1697\n",
      " 1730]\n"
     ]
    },
    {
     "data": {
      "application/vnd.jupyter.widget-view+json": {
       "model_id": "ae8a3beeabf340e2a59828b1b5475edf",
       "version_major": 2,
       "version_minor": 0
      },
      "text/plain": [
       "Canvas(toolbar=Toolbar(toolitems=[('Home', 'Reset original view', 'home', 'home'), ('Back', 'Back to previous …"
      ]
     },
     "metadata": {},
     "output_type": "display_data"
    },
    {
     "name": "stdout",
     "output_type": "stream",
     "text": [
      "GVS_219_T_T1\n",
      "[4, 69, 122, 172, 217, 255, 299, 337, 379, 418, 459, 499, 541, 582, 619, 656, 696, 734, 775, 814, 851, 890, 927, 963, 999, 1037, 1074, 1107, 1145, 1179, 1213, 1250, 1286, 1322, 1360, 1397, 1432, 1468, 1504, 1540, 1578, 1614, 1651, 1689, 1726]\n",
      "0 15\n"
     ]
    },
    {
     "data": {
      "application/vnd.jupyter.widget-view+json": {
       "model_id": "fa64b08fd06242cab6899aa85d009294",
       "version_major": 2,
       "version_minor": 0
      },
      "text/plain": [
       "Canvas(toolbar=Toolbar(toolitems=[('Home', 'Reset original view', 'home', 'home'), ('Back', 'Back to previous …"
      ]
     },
     "metadata": {},
     "output_type": "display_data"
    },
    {
     "name": "stdout",
     "output_type": "stream",
     "text": [
      "trueHSR_indices 45 [2, 63, 115, 165, 210, 248, 292, 330, 372, 411, 451, 490, 532, 573, 609, 646, 686, 723, 764, 803, 840, 879, 916, 952, 988, 1026, 1063, 1096, 1134, 1168, 1202, 1239, 1274, 1310, 1348, 1385, 1418, 1454, 1490, 1526, 1564, 1600, 1637, 1675, 1711]\n",
      "peaks 44 [  29   66  116  167  210  252  295  329  374  413  453  493  536  577\n",
      "  612  649  688  726  765  806  844  882  920  957  992 1030 1075 1123\n",
      " 1172 1208 1243 1279 1327 1358 1389 1427 1458 1499 1532 1569 1607 1642\n",
      " 1681 1717]\n"
     ]
    },
    {
     "data": {
      "application/vnd.jupyter.widget-view+json": {
       "model_id": "593dc98fd8a84aeda15d26e5999221e8",
       "version_major": 2,
       "version_minor": 0
      },
      "text/plain": [
       "Canvas(toolbar=Toolbar(toolitems=[('Home', 'Reset original view', 'home', 'home'), ('Back', 'Back to previous …"
      ]
     },
     "metadata": {},
     "output_type": "display_data"
    },
    {
     "name": "stdout",
     "output_type": "stream",
     "text": [
      "0 15\n"
     ]
    },
    {
     "data": {
      "application/vnd.jupyter.widget-view+json": {
       "model_id": "4eda3f1af573448fb5ada289ddac9e50",
       "version_major": 2,
       "version_minor": 0
      },
      "text/plain": [
       "Canvas(toolbar=Toolbar(toolitems=[('Home', 'Reset original view', 'home', 'home'), ('Back', 'Back to previous …"
      ]
     },
     "metadata": {},
     "output_type": "display_data"
    },
    {
     "name": "stdout",
     "output_type": "stream",
     "text": [
      "trueHSR_indices 45 [2, 63, 115, 165, 210, 248, 292, 330, 372, 411, 451, 490, 532, 573, 609, 646, 686, 723, 764, 803, 840, 879, 916, 952, 988, 1026, 1063, 1096, 1134, 1168, 1202, 1239, 1274, 1310, 1348, 1385, 1418, 1454, 1490, 1526, 1564, 1600, 1637, 1675, 1711]\n",
      "peaks 45 [   9   39   72  121  177  210  252  297  328  377  413  452  500  537\n",
      "  576  610  645  690  729  770  805  842  892  924  967 1002 1037 1069\n",
      " 1104 1136 1169 1207 1249 1288 1324 1358 1389 1421 1457 1506 1567 1604\n",
      " 1642 1681 1730]\n"
     ]
    },
    {
     "data": {
      "application/vnd.jupyter.widget-view+json": {
       "model_id": "a9619d35396f4b43b959f106bcaf6e77",
       "version_major": 2,
       "version_minor": 0
      },
      "text/plain": [
       "Canvas(toolbar=Toolbar(toolitems=[('Home', 'Reset original view', 'home', 'home'), ('Back', 'Back to previous …"
      ]
     },
     "metadata": {},
     "output_type": "display_data"
    },
    {
     "name": "stdout",
     "output_type": "stream",
     "text": [
      "0 15\n"
     ]
    },
    {
     "data": {
      "application/vnd.jupyter.widget-view+json": {
       "model_id": "af6a71008e134117961c6e5ebab33164",
       "version_major": 2,
       "version_minor": 0
      },
      "text/plain": [
       "Canvas(toolbar=Toolbar(toolitems=[('Home', 'Reset original view', 'home', 'home'), ('Back', 'Back to previous …"
      ]
     },
     "metadata": {},
     "output_type": "display_data"
    },
    {
     "name": "stdout",
     "output_type": "stream",
     "text": [
      "trueHSR_indices 45 [2, 63, 115, 165, 210, 248, 292, 330, 372, 411, 451, 490, 532, 573, 609, 646, 686, 723, 764, 803, 840, 879, 916, 952, 988, 1026, 1063, 1096, 1134, 1168, 1202, 1239, 1274, 1310, 1348, 1385, 1418, 1454, 1490, 1526, 1564, 1600, 1637, 1675, 1711]\n",
      "peaks 43 [  14   65  114  182  212  250  296  330  374  414  453  493  547  612\n",
      "  645  684  727  770  806  841  887  923  958  992 1035 1075 1135 1182\n",
      " 1212 1248 1283 1314 1356 1388 1424 1456 1506 1539 1575 1616 1648 1681\n",
      " 1715]\n"
     ]
    },
    {
     "data": {
      "application/vnd.jupyter.widget-view+json": {
       "model_id": "8a8938d4de684f8c843eb954489af1ba",
       "version_major": 2,
       "version_minor": 0
      },
      "text/plain": [
       "Canvas(toolbar=Toolbar(toolitems=[('Home', 'Reset original view', 'home', 'home'), ('Back', 'Back to previous …"
      ]
     },
     "metadata": {},
     "output_type": "display_data"
    },
    {
     "name": "stdout",
     "output_type": "stream",
     "text": [
      "GVS_219_T_T2\n",
      "[53, 111, 163, 215, 257, 301, 344, 384, 426, 467, 510, 551, 592, 631, 673, 714, 756, 799, 838, 878, 920, 962, 1003, 1042, 1082, 1123, 1164, 1204, 1244, 1284, 1324, 1361, 1400, 1439, 1479, 1518, 1556, 1593, 1631, 1670, 1708, 1746]\n",
      "0 2\n"
     ]
    },
    {
     "data": {
      "application/vnd.jupyter.widget-view+json": {
       "model_id": "6f1c8e8d24d1461aa0f6fe56bd649da0",
       "version_major": 2,
       "version_minor": 0
      },
      "text/plain": [
       "Canvas(toolbar=Toolbar(toolitems=[('Home', 'Reset original view', 'home', 'home'), ('Back', 'Back to previous …"
      ]
     },
     "metadata": {},
     "output_type": "display_data"
    },
    {
     "name": "stdout",
     "output_type": "stream",
     "text": [
      "trueHSR_indices 41 [53, 111, 163, 215, 257, 301, 344, 384, 426, 467, 510, 551, 592, 631, 673, 714, 756, 798, 876, 918, 960, 1001, 1040, 1080, 1121, 1162, 1202, 1242, 1282, 1322, 1359, 1398, 1437, 1477, 1516, 1554, 1591, 1629, 1668, 1706, 1744]\n",
      "peaks 42 [  24   59  113  168  217  262  306  356  386  433  473  513  556  596\n",
      "  633  675  717  759  802  841  889  922  965 1007 1053 1084 1125 1164\n",
      " 1208 1247 1285 1327 1369 1402 1442 1506 1560 1596 1635 1672 1711 1747]\n"
     ]
    },
    {
     "data": {
      "application/vnd.jupyter.widget-view+json": {
       "model_id": "03c34aaf0fc648b8bb924f12406ef895",
       "version_major": 2,
       "version_minor": 0
      },
      "text/plain": [
       "Canvas(toolbar=Toolbar(toolitems=[('Home', 'Reset original view', 'home', 'home'), ('Back', 'Back to previous …"
      ]
     },
     "metadata": {},
     "output_type": "display_data"
    },
    {
     "name": "stdout",
     "output_type": "stream",
     "text": [
      "0 2\n"
     ]
    },
    {
     "data": {
      "application/vnd.jupyter.widget-view+json": {
       "model_id": "d1e9574763e0471786c3ebe69d3092d3",
       "version_major": 2,
       "version_minor": 0
      },
      "text/plain": [
       "Canvas(toolbar=Toolbar(toolitems=[('Home', 'Reset original view', 'home', 'home'), ('Back', 'Back to previous …"
      ]
     },
     "metadata": {},
     "output_type": "display_data"
    },
    {
     "name": "stdout",
     "output_type": "stream",
     "text": [
      "trueHSR_indices 41 [53, 111, 163, 215, 257, 301, 344, 384, 426, 467, 510, 551, 592, 631, 673, 714, 756, 798, 876, 918, 960, 1001, 1040, 1080, 1121, 1162, 1202, 1242, 1282, 1322, 1359, 1398, 1437, 1477, 1516, 1554, 1591, 1629, 1668, 1706, 1744]\n",
      "peaks 42 [   8   43   74  111  164  216  262  313  355  401  437  471  525  568\n",
      "  607  644  688  721  757  813  851  889  920  962 1011 1042 1088 1128\n",
      " 1169 1214 1251 1298 1331 1367 1409 1443 1488 1531 1569 1607 1669 1720]\n"
     ]
    },
    {
     "data": {
      "application/vnd.jupyter.widget-view+json": {
       "model_id": "a1f786fb2bd5497e930e4f39ef9e22d1",
       "version_major": 2,
       "version_minor": 0
      },
      "text/plain": [
       "Canvas(toolbar=Toolbar(toolitems=[('Home', 'Reset original view', 'home', 'home'), ('Back', 'Back to previous …"
      ]
     },
     "metadata": {},
     "output_type": "display_data"
    },
    {
     "name": "stdout",
     "output_type": "stream",
     "text": [
      "0 2\n"
     ]
    },
    {
     "data": {
      "application/vnd.jupyter.widget-view+json": {
       "model_id": "fa0c1a2b17ed4ec5b5545eefd1ccfe01",
       "version_major": 2,
       "version_minor": 0
      },
      "text/plain": [
       "Canvas(toolbar=Toolbar(toolitems=[('Home', 'Reset original view', 'home', 'home'), ('Back', 'Back to previous …"
      ]
     },
     "metadata": {},
     "output_type": "display_data"
    },
    {
     "name": "stdout",
     "output_type": "stream",
     "text": [
      "trueHSR_indices 41 [53, 111, 163, 215, 257, 301, 344, 384, 426, 467, 510, 551, 592, 631, 673, 714, 756, 798, 876, 918, 960, 1001, 1040, 1080, 1121, 1162, 1202, 1242, 1282, 1322, 1359, 1398, 1437, 1477, 1516, 1554, 1591, 1629, 1668, 1706, 1744]\n",
      "peaks 43 [  10   43   77  113  170  230  264  305  345  385  427  473  518  550\n",
      "  597  634  674  715  761  802  841  881  926  965 1003 1042 1084 1125\n",
      " 1164 1209 1248 1288 1325 1370 1401 1443 1502 1557 1596 1637 1672 1711\n",
      " 1746]\n"
     ]
    },
    {
     "data": {
      "application/vnd.jupyter.widget-view+json": {
       "model_id": "43033dfdb13a47d792a9c45576e02111",
       "version_major": 2,
       "version_minor": 0
      },
      "text/plain": [
       "Canvas(toolbar=Toolbar(toolitems=[('Home', 'Reset original view', 'home', 'home'), ('Back', 'Back to previous …"
      ]
     },
     "metadata": {},
     "output_type": "display_data"
    },
    {
     "name": "stdout",
     "output_type": "stream",
     "text": [
      "GVS_212_W_T1\n",
      "[22, 58, 97, 136, 170, 207, 243, 279, 314, 349, 387, 420, 454, 488, 520, 555, 588, 620, 653, 685, 715, 747, 780, 812, 843, 874, 905, 937, 968, 998, 1029, 1059, 1089, 1118, 1149, 1179, 1208, 1238, 1268, 1298, 1328, 1356, 1385, 1415, 1445, 1474, 1503, 1532, 1562, 1592, 1619, 1651, 1680, 1710, 1740]\n",
      "0 10\n"
     ]
    },
    {
     "data": {
      "application/vnd.jupyter.widget-view+json": {
       "model_id": "f73e77001e7246c88e32d0e09322cfcd",
       "version_major": 2,
       "version_minor": 0
      },
      "text/plain": [
       "Canvas(toolbar=Toolbar(toolitems=[('Home', 'Reset original view', 'home', 'home'), ('Back', 'Back to previous …"
      ]
     },
     "metadata": {},
     "output_type": "display_data"
    },
    {
     "name": "stdout",
     "output_type": "stream",
     "text": [
      "trueHSR_indices 54 [22, 58, 97, 136, 170, 207, 243, 278, 313, 347, 385, 418, 452, 486, 518, 553, 586, 618, 651, 683, 713, 745, 808, 839, 869, 900, 932, 962, 992, 1023, 1053, 1083, 1112, 1143, 1173, 1202, 1232, 1262, 1292, 1322, 1350, 1379, 1409, 1439, 1468, 1497, 1524, 1554, 1584, 1611, 1643, 1672, 1702, 1730]\n",
      "peaks 46 [  36   73  111  148  184  218  254  290  325  360  394  431  465  498\n",
      "  531  590  652  684  721  753  789  819  850  880  911  968 1003 1033\n",
      " 1063 1113 1143 1175 1212 1242 1272 1302 1347 1380 1410 1448 1498 1563\n",
      " 1593 1623 1673 1704]\n"
     ]
    },
    {
     "data": {
      "application/vnd.jupyter.widget-view+json": {
       "model_id": "ca63fbef76664cd98ee4d4b59b5cf2a7",
       "version_major": 2,
       "version_minor": 0
      },
      "text/plain": [
       "Canvas(toolbar=Toolbar(toolitems=[('Home', 'Reset original view', 'home', 'home'), ('Back', 'Back to previous …"
      ]
     },
     "metadata": {},
     "output_type": "display_data"
    },
    {
     "name": "stdout",
     "output_type": "stream",
     "text": [
      "0 10\n"
     ]
    },
    {
     "data": {
      "application/vnd.jupyter.widget-view+json": {
       "model_id": "2642100373cf43b18323413a3f617035",
       "version_major": 2,
       "version_minor": 0
      },
      "text/plain": [
       "Canvas(toolbar=Toolbar(toolitems=[('Home', 'Reset original view', 'home', 'home'), ('Back', 'Back to previous …"
      ]
     },
     "metadata": {},
     "output_type": "display_data"
    },
    {
     "name": "stdout",
     "output_type": "stream",
     "text": [
      "trueHSR_indices 54 [22, 58, 97, 136, 170, 207, 243, 278, 313, 347, 385, 418, 452, 486, 518, 553, 586, 618, 651, 683, 713, 745, 808, 839, 869, 900, 932, 962, 992, 1023, 1053, 1083, 1112, 1143, 1173, 1202, 1232, 1262, 1292, 1322, 1350, 1379, 1409, 1439, 1468, 1497, 1524, 1554, 1584, 1611, 1643, 1672, 1702, 1730]\n",
      "peaks 46 [  17   69  100  132  170  215  256  287  322  355  395  428  461  496\n",
      "  530  562  597  628  658  691  724  754  786  818  849  909  941  971\n",
      " 1001 1062 1093 1140 1170 1200 1259 1289 1329 1378 1417 1476 1534 1581\n",
      " 1621 1651 1681 1728]\n"
     ]
    },
    {
     "data": {
      "application/vnd.jupyter.widget-view+json": {
       "model_id": "ef1fd68b579740f9bcf7949f01913b55",
       "version_major": 2,
       "version_minor": 0
      },
      "text/plain": [
       "Canvas(toolbar=Toolbar(toolitems=[('Home', 'Reset original view', 'home', 'home'), ('Back', 'Back to previous …"
      ]
     },
     "metadata": {},
     "output_type": "display_data"
    },
    {
     "name": "stdout",
     "output_type": "stream",
     "text": [
      "0 10\n"
     ]
    },
    {
     "data": {
      "application/vnd.jupyter.widget-view+json": {
       "model_id": "c6bc8b7f05d144c8b02ad501abf0a552",
       "version_major": 2,
       "version_minor": 0
      },
      "text/plain": [
       "Canvas(toolbar=Toolbar(toolitems=[('Home', 'Reset original view', 'home', 'home'), ('Back', 'Back to previous …"
      ]
     },
     "metadata": {},
     "output_type": "display_data"
    },
    {
     "name": "stdout",
     "output_type": "stream",
     "text": [
      "trueHSR_indices 54 [22, 58, 97, 136, 170, 207, 243, 278, 313, 347, 385, 418, 452, 486, 518, 553, 586, 618, 651, 683, 713, 745, 808, 839, 869, 900, 932, 962, 992, 1023, 1053, 1083, 1112, 1143, 1173, 1202, 1232, 1262, 1292, 1322, 1350, 1379, 1409, 1439, 1468, 1497, 1524, 1554, 1584, 1611, 1643, 1672, 1702, 1730]\n",
      "peaks 41 [  36   71  111  148  178  215  255  291  324  355  397  428  461  497\n",
      "  530  563  598  630  661  721  755  817  850  910  941  972 1020 1062\n",
      " 1092 1152 1212 1270 1329 1389 1448 1495 1534 1581 1622 1681 1728]\n"
     ]
    },
    {
     "data": {
      "application/vnd.jupyter.widget-view+json": {
       "model_id": "7adc0a532231407ba314093506cc5207",
       "version_major": 2,
       "version_minor": 0
      },
      "text/plain": [
       "Canvas(toolbar=Toolbar(toolitems=[('Home', 'Reset original view', 'home', 'home'), ('Back', 'Back to previous …"
      ]
     },
     "metadata": {},
     "output_type": "display_data"
    },
    {
     "name": "stdout",
     "output_type": "stream",
     "text": [
      "GVS_212_W_T2\n",
      "[17, 60, 100, 138, 172, 210, 246, 282, 314, 347, 381, 412, 444, 477, 507, 538, 567, 599, 629, 659, 689, 719, 748, 779, 809, 838, 868, 899, 930, 959, 989, 1017, 1048, 1077, 1106, 1136, 1164, 1194, 1223, 1251, 1282, 1310, 1339, 1366, 1396, 1423, 1451, 1478, 1504, 1532, 1558, 1586, 1613, 1642, 1667, 1696, 1724, 1752]\n",
      "0 18\n"
     ]
    },
    {
     "data": {
      "application/vnd.jupyter.widget-view+json": {
       "model_id": "360902361c664d6b8a9fb3bbde7d437c",
       "version_major": 2,
       "version_minor": 0
      },
      "text/plain": [
       "Canvas(toolbar=Toolbar(toolitems=[('Home', 'Reset original view', 'home', 'home'), ('Back', 'Back to previous …"
      ]
     },
     "metadata": {},
     "output_type": "display_data"
    },
    {
     "name": "stdout",
     "output_type": "stream",
     "text": [
      "trueHSR_indices 57 [17, 59, 99, 137, 171, 209, 244, 280, 311, 343, 377, 408, 439, 472, 501, 532, 561, 592, 622, 652, 681, 711, 740, 770, 800, 829, 858, 889, 920, 948, 978, 1006, 1037, 1066, 1095, 1125, 1153, 1183, 1212, 1240, 1270, 1298, 1327, 1353, 1383, 1410, 1437, 1464, 1490, 1518, 1543, 1571, 1598, 1625, 1650, 1679, 1706]\n",
      "peaks 43 [  33   75  114  151  188  223  257  292  324  356  387  421  452  484\n",
      "  544  575  655  693  723  772  811  841  898  929  980 1019 1068 1098\n",
      " 1156 1186 1224 1280 1327 1360 1411 1445 1495 1526 1574 1608 1653 1689\n",
      " 1722]\n"
     ]
    },
    {
     "data": {
      "application/vnd.jupyter.widget-view+json": {
       "model_id": "c36cc11a14d24ee8862b505679961f06",
       "version_major": 2,
       "version_minor": 0
      },
      "text/plain": [
       "Canvas(toolbar=Toolbar(toolitems=[('Home', 'Reset original view', 'home', 'home'), ('Back', 'Back to previous …"
      ]
     },
     "metadata": {},
     "output_type": "display_data"
    },
    {
     "name": "stdout",
     "output_type": "stream",
     "text": [
      "0 18\n"
     ]
    },
    {
     "data": {
      "application/vnd.jupyter.widget-view+json": {
       "model_id": "7ed1b7ee017a442e972490e92e545504",
       "version_major": 2,
       "version_minor": 0
      },
      "text/plain": [
       "Canvas(toolbar=Toolbar(toolitems=[('Home', 'Reset original view', 'home', 'home'), ('Back', 'Back to previous …"
      ]
     },
     "metadata": {},
     "output_type": "display_data"
    },
    {
     "name": "stdout",
     "output_type": "stream",
     "text": [
      "trueHSR_indices 57 [17, 59, 99, 137, 171, 209, 244, 280, 311, 343, 377, 408, 439, 472, 501, 532, 561, 592, 622, 652, 681, 711, 740, 770, 800, 829, 858, 889, 920, 948, 978, 1006, 1037, 1066, 1095, 1125, 1153, 1183, 1212, 1240, 1270, 1298, 1327, 1353, 1383, 1410, 1437, 1464, 1490, 1518, 1543, 1571, 1598, 1625, 1650, 1679, 1706]\n",
      "peaks 41 [  30   71  113  150  187  218  255  289  321  353  388  420  470  511\n",
      "  541  571  602  663  723  778  810  867  901  931  977 1016 1075 1105\n",
      " 1162 1193 1249 1280 1333 1364 1419 1462 1515 1580 1630 1660 1705]\n"
     ]
    },
    {
     "data": {
      "application/vnd.jupyter.widget-view+json": {
       "model_id": "eba208cbcce242f1b40482bdb65384cf",
       "version_major": 2,
       "version_minor": 0
      },
      "text/plain": [
       "Canvas(toolbar=Toolbar(toolitems=[('Home', 'Reset original view', 'home', 'home'), ('Back', 'Back to previous …"
      ]
     },
     "metadata": {},
     "output_type": "display_data"
    },
    {
     "name": "stdout",
     "output_type": "stream",
     "text": [
      "0 18\n"
     ]
    },
    {
     "data": {
      "application/vnd.jupyter.widget-view+json": {
       "model_id": "dbaea24835bc4d11af588c844a516e64",
       "version_major": 2,
       "version_minor": 0
      },
      "text/plain": [
       "Canvas(toolbar=Toolbar(toolitems=[('Home', 'Reset original view', 'home', 'home'), ('Back', 'Back to previous …"
      ]
     },
     "metadata": {},
     "output_type": "display_data"
    },
    {
     "name": "stdout",
     "output_type": "stream",
     "text": [
      "trueHSR_indices 57 [17, 59, 99, 137, 171, 209, 244, 280, 311, 343, 377, 408, 439, 472, 501, 532, 561, 592, 622, 652, 681, 711, 740, 770, 800, 829, 858, 889, 920, 948, 978, 1006, 1037, 1066, 1095, 1125, 1153, 1183, 1212, 1240, 1270, 1298, 1327, 1353, 1383, 1410, 1437, 1464, 1490, 1518, 1543, 1571, 1598, 1625, 1650, 1679, 1706]\n",
      "peaks 42 [  33   69  114  150  187  222  256  292  323  354  387  420  450  480\n",
      "  512  543  600  633  690  723  773  810  870  929  988 1018 1063 1098\n",
      " 1132 1194 1251 1281 1335 1365 1408 1444 1515 1552 1595 1631 1687 1722]\n"
     ]
    },
    {
     "data": {
      "application/vnd.jupyter.widget-view+json": {
       "model_id": "ba7abdd03465431f8b5e44c329cc295c",
       "version_major": 2,
       "version_minor": 0
      },
      "text/plain": [
       "Canvas(toolbar=Toolbar(toolitems=[('Home', 'Reset original view', 'home', 'home'), ('Back', 'Back to previous …"
      ]
     },
     "metadata": {},
     "output_type": "display_data"
    },
    {
     "name": "stdout",
     "output_type": "stream",
     "text": [
      "GVS_213_W_T1\n",
      "[17, 54, 95, 135, 171, 208, 246, 284, 322, 360, 395, 431, 463, 497, 531, 565, 600, 633, 666, 701, 735, 767, 802, 835, 869, 905, 939, 974, 1010, 1045, 1077, 1111, 1145, 1179, 1211, 1243, 1278, 1313, 1348, 1383, 1416, 1452, 1487, 1522, 1558, 1592, 1626, 1660, 1696, 1733]\n",
      "0 5\n"
     ]
    },
    {
     "data": {
      "application/vnd.jupyter.widget-view+json": {
       "model_id": "2b5483922b174047a993a32e01387248",
       "version_major": 2,
       "version_minor": 0
      },
      "text/plain": [
       "Canvas(toolbar=Toolbar(toolitems=[('Home', 'Reset original view', 'home', 'home'), ('Back', 'Back to previous …"
      ]
     },
     "metadata": {},
     "output_type": "display_data"
    },
    {
     "name": "stdout",
     "output_type": "stream",
     "text": [
      "trueHSR_indices 50 [17, 54, 95, 135, 171, 208, 246, 284, 322, 360, 395, 431, 463, 497, 531, 565, 600, 633, 666, 700, 734, 765, 800, 833, 866, 902, 936, 970, 1006, 1041, 1073, 1107, 1141, 1175, 1207, 1239, 1274, 1309, 1344, 1379, 1411, 1447, 1482, 1517, 1553, 1587, 1621, 1655, 1691, 1728]\n",
      "peaks 44 [  18   56   95  136  186  222  259  289  326  374  409  444  479  535\n",
      "  570  603  637  679  714  748  781  814  869  916  950  987 1020 1054\n",
      " 1088 1120 1154 1211 1250 1309 1359 1393 1423 1462 1520 1556 1595 1659\n",
      " 1697 1733]\n"
     ]
    },
    {
     "data": {
      "application/vnd.jupyter.widget-view+json": {
       "model_id": "d8dc3358a4cc488faa05cb6bd4b941ec",
       "version_major": 2,
       "version_minor": 0
      },
      "text/plain": [
       "Canvas(toolbar=Toolbar(toolitems=[('Home', 'Reset original view', 'home', 'home'), ('Back', 'Back to previous …"
      ]
     },
     "metadata": {},
     "output_type": "display_data"
    },
    {
     "name": "stdout",
     "output_type": "stream",
     "text": [
      "0 5\n"
     ]
    },
    {
     "data": {
      "application/vnd.jupyter.widget-view+json": {
       "model_id": "36f3d11bca6e45ae9a81a07d76eda46d",
       "version_major": 2,
       "version_minor": 0
      },
      "text/plain": [
       "Canvas(toolbar=Toolbar(toolitems=[('Home', 'Reset original view', 'home', 'home'), ('Back', 'Back to previous …"
      ]
     },
     "metadata": {},
     "output_type": "display_data"
    },
    {
     "name": "stdout",
     "output_type": "stream",
     "text": [
      "trueHSR_indices 50 [17, 54, 95, 135, 171, 208, 246, 284, 322, 360, 395, 431, 463, 497, 531, 565, 600, 633, 666, 700, 734, 765, 800, 833, 866, 902, 936, 970, 1006, 1041, 1073, 1107, 1141, 1175, 1207, 1239, 1274, 1309, 1344, 1379, 1411, 1447, 1482, 1517, 1553, 1587, 1621, 1655, 1691, 1728]\n",
      "peaks 48 [  15   53   97  134  184  220  259  298  328  361  397  430  476  509\n",
      "  543  576  612  647  677  712  744  776  813  870  901  940  973 1018\n",
      " 1054 1086 1119 1151 1185 1218 1253 1286 1323 1357 1391 1448 1493 1529\n",
      " 1560 1596 1631 1665 1703 1736]\n"
     ]
    },
    {
     "data": {
      "application/vnd.jupyter.widget-view+json": {
       "model_id": "6901a1a58fcb49a39f3e6ff1938111b1",
       "version_major": 2,
       "version_minor": 0
      },
      "text/plain": [
       "Canvas(toolbar=Toolbar(toolitems=[('Home', 'Reset original view', 'home', 'home'), ('Back', 'Back to previous …"
      ]
     },
     "metadata": {},
     "output_type": "display_data"
    },
    {
     "name": "stdout",
     "output_type": "stream",
     "text": [
      "0 5\n"
     ]
    },
    {
     "data": {
      "application/vnd.jupyter.widget-view+json": {
       "model_id": "a59192ef2cdb4fd6a84d67d23d299dce",
       "version_major": 2,
       "version_minor": 0
      },
      "text/plain": [
       "Canvas(toolbar=Toolbar(toolitems=[('Home', 'Reset original view', 'home', 'home'), ('Back', 'Back to previous …"
      ]
     },
     "metadata": {},
     "output_type": "display_data"
    },
    {
     "name": "stdout",
     "output_type": "stream",
     "text": [
      "trueHSR_indices 50 [17, 54, 95, 135, 171, 208, 246, 284, 322, 360, 395, 431, 463, 497, 531, 565, 600, 633, 666, 700, 734, 765, 800, 833, 866, 902, 936, 970, 1006, 1041, 1073, 1107, 1141, 1175, 1207, 1239, 1274, 1309, 1344, 1379, 1411, 1447, 1482, 1517, 1553, 1587, 1621, 1655, 1691, 1728]\n",
      "peaks 46 [  17   68   99  136  185  221  259  290  327  363  396  432  474  535\n",
      "  566  604  638  672  714  766  800  832  869  915  972 1010 1053 1088\n",
      " 1119 1152 1212 1250 1287 1322 1358 1392 1424 1461 1493 1528 1565 1596\n",
      " 1627 1658 1706 1736]\n"
     ]
    },
    {
     "data": {
      "application/vnd.jupyter.widget-view+json": {
       "model_id": "f5db8ba6d1bf47babec2f82078fb4219",
       "version_major": 2,
       "version_minor": 0
      },
      "text/plain": [
       "Canvas(toolbar=Toolbar(toolitems=[('Home', 'Reset original view', 'home', 'home'), ('Back', 'Back to previous …"
      ]
     },
     "metadata": {},
     "output_type": "display_data"
    },
    {
     "name": "stdout",
     "output_type": "stream",
     "text": [
      "GVS_213_W_T2\n",
      "[17, 53, 92, 130, 165, 201, 239, 276, 310, 347, 383, 415, 448, 483, 517, 550, 584, 616, 648, 682, 715, 749, 782, 815, 850, 883, 916, 950, 983, 1016, 1050, 1086, 1118, 1154, 1190, 1224, 1258, 1293, 1328, 1362, 1397, 1431, 1467, 1501, 1535, 1569, 1603, 1639, 1672, 1708, 1742]\n",
      "0 1\n"
     ]
    },
    {
     "data": {
      "application/vnd.jupyter.widget-view+json": {
       "model_id": "8b4b6e23a7984271838a9c6385b9e1ed",
       "version_major": 2,
       "version_minor": 0
      },
      "text/plain": [
       "Canvas(toolbar=Toolbar(toolitems=[('Home', 'Reset original view', 'home', 'home'), ('Back', 'Back to previous …"
      ]
     },
     "metadata": {},
     "output_type": "display_data"
    },
    {
     "name": "stdout",
     "output_type": "stream",
     "text": [
      "trueHSR_indices 51 [17, 53, 92, 130, 165, 201, 239, 276, 310, 347, 383, 415, 448, 483, 517, 550, 584, 616, 648, 682, 715, 749, 782, 815, 850, 883, 916, 950, 983, 1016, 1050, 1086, 1118, 1154, 1190, 1224, 1258, 1293, 1328, 1362, 1396, 1430, 1466, 1500, 1534, 1568, 1602, 1638, 1671, 1707, 1741]\n",
      "peaks 46 [   7   57   94  146  181  217  256  292  350  388  431  463  519  564\n",
      "  597  631  662  718  762  798  832  864  897  932  964  996 1032 1064\n",
      " 1099 1133 1169 1205 1238 1272 1307 1343 1378 1410 1445 1481 1539 1574\n",
      " 1608 1643 1677 1711]\n"
     ]
    },
    {
     "data": {
      "application/vnd.jupyter.widget-view+json": {
       "model_id": "a9a154c445ab4b7bb645df751978e8ca",
       "version_major": 2,
       "version_minor": 0
      },
      "text/plain": [
       "Canvas(toolbar=Toolbar(toolitems=[('Home', 'Reset original view', 'home', 'home'), ('Back', 'Back to previous …"
      ]
     },
     "metadata": {},
     "output_type": "display_data"
    },
    {
     "name": "stdout",
     "output_type": "stream",
     "text": [
      "0 1\n"
     ]
    },
    {
     "data": {
      "application/vnd.jupyter.widget-view+json": {
       "model_id": "14ebbaf847b14ddba06b106a222b016c",
       "version_major": 2,
       "version_minor": 0
      },
      "text/plain": [
       "Canvas(toolbar=Toolbar(toolitems=[('Home', 'Reset original view', 'home', 'home'), ('Back', 'Back to previous …"
      ]
     },
     "metadata": {},
     "output_type": "display_data"
    },
    {
     "name": "stdout",
     "output_type": "stream",
     "text": [
      "trueHSR_indices 51 [17, 53, 92, 130, 165, 201, 239, 276, 310, 347, 383, 415, 448, 483, 517, 550, 584, 616, 648, 682, 715, 749, 782, 815, 850, 883, 916, 950, 983, 1016, 1050, 1086, 1118, 1154, 1190, 1224, 1258, 1293, 1328, 1362, 1396, 1430, 1466, 1500, 1534, 1568, 1602, 1638, 1671, 1707, 1741]\n",
      "peaks 48 [  31   66  108  142  179  216  253  288  320  357  392  428  462  494\n",
      "  527  559  596  630  685  716  754  795  827  858  896  928  958  991\n",
      " 1024 1060 1097 1131 1165 1203 1237 1269 1305 1342 1373 1403 1445 1481\n",
      " 1543 1580 1616 1651 1685 1716]\n"
     ]
    },
    {
     "data": {
      "application/vnd.jupyter.widget-view+json": {
       "model_id": "cb953a4887f749f58d8967d496f7e887",
       "version_major": 2,
       "version_minor": 0
      },
      "text/plain": [
       "Canvas(toolbar=Toolbar(toolitems=[('Home', 'Reset original view', 'home', 'home'), ('Back', 'Back to previous …"
      ]
     },
     "metadata": {},
     "output_type": "display_data"
    },
    {
     "name": "stdout",
     "output_type": "stream",
     "text": [
      "0 1\n"
     ]
    },
    {
     "data": {
      "application/vnd.jupyter.widget-view+json": {
       "model_id": "3e0a2cb65b45459ab3cfe18cbf8a0aca",
       "version_major": 2,
       "version_minor": 0
      },
      "text/plain": [
       "Canvas(toolbar=Toolbar(toolitems=[('Home', 'Reset original view', 'home', 'home'), ('Back', 'Back to previous …"
      ]
     },
     "metadata": {},
     "output_type": "display_data"
    },
    {
     "name": "stdout",
     "output_type": "stream",
     "text": [
      "trueHSR_indices 51 [17, 53, 92, 130, 165, 201, 239, 276, 310, 347, 383, 415, 448, 483, 517, 550, 584, 616, 648, 682, 715, 749, 782, 815, 850, 883, 916, 950, 983, 1016, 1050, 1086, 1118, 1154, 1190, 1224, 1258, 1293, 1328, 1362, 1396, 1430, 1466, 1500, 1534, 1568, 1602, 1638, 1671, 1707, 1741]\n",
      "peaks 46 [   6   66  108  145  181  216  279  315  351  395  429  485  519  563\n",
      "  597  627  687  717  756  786  831  864  897  931  963  995 1032 1064\n",
      " 1099 1133 1163 1204 1237 1272 1306 1342 1373 1404 1445 1481 1540 1579\n",
      " 1609 1644 1678 1711]\n"
     ]
    },
    {
     "data": {
      "application/vnd.jupyter.widget-view+json": {
       "model_id": "f340b7d0994f4cf99916b64e468cf23e",
       "version_major": 2,
       "version_minor": 0
      },
      "text/plain": [
       "Canvas(toolbar=Toolbar(toolitems=[('Home', 'Reset original view', 'home', 'home'), ('Back', 'Back to previous …"
      ]
     },
     "metadata": {},
     "output_type": "display_data"
    },
    {
     "name": "stdout",
     "output_type": "stream",
     "text": [
      "GVS_214_W_T1\n",
      "[43, 87, 123, 159, 198, 239, 274, 309, 345, 379, 412, 445, 479, 510, 541, 571, 602, 632, 661, 690, 718, 748, 775, 804, 834, 861, 891, 917, 946, 974, 1001, 1030, 1058, 1087, 1114, 1143, 1170, 1199, 1227, 1255, 1284, 1311, 1341, 1368, 1397, 1424, 1453, 1483, 1510, 1538, 1566, 1595, 1623, 1651, 1681, 1708, 1737]\n",
      "0 31\n"
     ]
    },
    {
     "data": {
      "application/vnd.jupyter.widget-view+json": {
       "model_id": "ed792b6c2b8e40fe9df9e08460c92824",
       "version_major": 2,
       "version_minor": 0
      },
      "text/plain": [
       "Canvas(toolbar=Toolbar(toolitems=[('Home', 'Reset original view', 'home', 'home'), ('Back', 'Back to previous …"
      ]
     },
     "metadata": {},
     "output_type": "display_data"
    },
    {
     "name": "stdout",
     "output_type": "stream",
     "text": [
      "trueHSR_indices 56 [43, 85, 121, 157, 195, 235, 269, 304, 336, 370, 403, 436, 470, 500, 531, 561, 592, 621, 647, 676, 704, 734, 760, 789, 818, 843, 873, 899, 928, 956, 983, 1012, 1038, 1066, 1092, 1121, 1148, 1177, 1205, 1232, 1260, 1287, 1316, 1342, 1371, 1398, 1427, 1457, 1484, 1512, 1536, 1565, 1620, 1650, 1677, 1706]\n",
      "peaks 40 [  21   56  101  134  168  207  249  282  314  368  401  434  481  529\n",
      "  563  602  647  678  739  770  801  845  878  930  986 1018 1067 1103\n",
      " 1136 1178 1233 1290 1342 1405 1438 1486 1538 1591 1647 1708]\n"
     ]
    },
    {
     "data": {
      "application/vnd.jupyter.widget-view+json": {
       "model_id": "624cb3f1c021468c9de31fd2526710eb",
       "version_major": 2,
       "version_minor": 0
      },
      "text/plain": [
       "Canvas(toolbar=Toolbar(toolitems=[('Home', 'Reset original view', 'home', 'home'), ('Back', 'Back to previous …"
      ]
     },
     "metadata": {},
     "output_type": "display_data"
    },
    {
     "name": "stdout",
     "output_type": "stream",
     "text": [
      "0 31\n"
     ]
    },
    {
     "data": {
      "application/vnd.jupyter.widget-view+json": {
       "model_id": "4f5f0f4a7038444a9903e95641725442",
       "version_major": 2,
       "version_minor": 0
      },
      "text/plain": [
       "Canvas(toolbar=Toolbar(toolitems=[('Home', 'Reset original view', 'home', 'home'), ('Back', 'Back to previous …"
      ]
     },
     "metadata": {},
     "output_type": "display_data"
    },
    {
     "name": "stdout",
     "output_type": "stream",
     "text": [
      "trueHSR_indices 56 [43, 85, 121, 157, 195, 235, 269, 304, 336, 370, 403, 436, 470, 500, 531, 561, 592, 621, 647, 676, 704, 734, 760, 789, 818, 843, 873, 899, 928, 956, 983, 1012, 1038, 1066, 1092, 1121, 1148, 1177, 1205, 1232, 1260, 1287, 1316, 1342, 1371, 1398, 1427, 1457, 1484, 1512, 1536, 1565, 1620, 1650, 1677, 1706]\n",
      "peaks 39 [  11   42  100  133  169  207  245  281  334  380  413  446  498  542\n",
      "  591  631  676  711  741  799  853  883  928  966 1020 1093 1148 1185\n",
      " 1215 1260 1297 1353 1405 1437 1485 1522 1575 1648 1708]\n"
     ]
    },
    {
     "data": {
      "application/vnd.jupyter.widget-view+json": {
       "model_id": "05c6e3cd1eaa42a8aa891c626f96152b",
       "version_major": 2,
       "version_minor": 0
      },
      "text/plain": [
       "Canvas(toolbar=Toolbar(toolitems=[('Home', 'Reset original view', 'home', 'home'), ('Back', 'Back to previous …"
      ]
     },
     "metadata": {},
     "output_type": "display_data"
    },
    {
     "name": "stdout",
     "output_type": "stream",
     "text": [
      "0 31\n"
     ]
    },
    {
     "data": {
      "application/vnd.jupyter.widget-view+json": {
       "model_id": "7fe66cd5c19f4b73a106e28655ff367b",
       "version_major": 2,
       "version_minor": 0
      },
      "text/plain": [
       "Canvas(toolbar=Toolbar(toolitems=[('Home', 'Reset original view', 'home', 'home'), ('Back', 'Back to previous …"
      ]
     },
     "metadata": {},
     "output_type": "display_data"
    },
    {
     "name": "stdout",
     "output_type": "stream",
     "text": [
      "trueHSR_indices 56 [43, 85, 121, 157, 195, 235, 269, 304, 336, 370, 403, 436, 470, 500, 531, 561, 592, 621, 647, 676, 704, 734, 760, 789, 818, 843, 873, 899, 928, 956, 983, 1012, 1038, 1066, 1092, 1121, 1148, 1177, 1205, 1232, 1260, 1287, 1316, 1342, 1371, 1398, 1427, 1457, 1484, 1512, 1536, 1565, 1620, 1650, 1677, 1706]\n",
      "peaks 42 [   4   40  100  133  168  207  248  281  334  367  401  446  481  530\n",
      "  560  591  647  704  734  769  800  851  883  934  991 1038 1103 1136\n",
      " 1177 1211 1241 1298 1342 1381 1426 1457 1512 1547 1591 1647 1677 1708]\n"
     ]
    },
    {
     "data": {
      "application/vnd.jupyter.widget-view+json": {
       "model_id": "b4551285943746c4aacf946b8bbe61fd",
       "version_major": 2,
       "version_minor": 0
      },
      "text/plain": [
       "Canvas(toolbar=Toolbar(toolitems=[('Home', 'Reset original view', 'home', 'home'), ('Back', 'Back to previous …"
      ]
     },
     "metadata": {},
     "output_type": "display_data"
    },
    {
     "name": "stdout",
     "output_type": "stream",
     "text": [
      "GVS_214_W_T2\n",
      "[9, 43, 71, 103, 133, 163, 194, 224, 255, 288, 317, 348, 379, 407, 437, 467, 496, 525, 555, 584, 612, 641, 668, 698, 727, 754, 782, 811, 838, 867, 895, 923, 951, 979, 1008, 1036, 1065, 1093, 1121, 1151, 1179, 1207, 1235, 1263, 1291, 1319, 1348, 1375, 1405, 1434, 1462, 1490, 1517, 1547, 1574, 1603, 1631, 1660, 1688, 1715]\n",
      "0 33\n"
     ]
    },
    {
     "data": {
      "application/vnd.jupyter.widget-view+json": {
       "model_id": "f1b5996d583e4d9580b956a9c1817978",
       "version_major": 2,
       "version_minor": 0
      },
      "text/plain": [
       "Canvas(toolbar=Toolbar(toolitems=[('Home', 'Reset original view', 'home', 'home'), ('Back', 'Back to previous …"
      ]
     },
     "metadata": {},
     "output_type": "display_data"
    },
    {
     "name": "stdout",
     "output_type": "stream",
     "text": [
      "trueHSR_indices 59 [8, 42, 70, 102, 132, 162, 192, 222, 252, 285, 314, 342, 373, 401, 430, 460, 489, 516, 546, 574, 602, 630, 657, 687, 715, 742, 769, 798, 825, 854, 882, 910, 938, 962, 989, 1017, 1045, 1073, 1101, 1130, 1157, 1185, 1213, 1241, 1264, 1291, 1342, 1372, 1401, 1429, 1457, 1484, 1514, 1541, 1570, 1598, 1627, 1655, 1682]\n",
      "peaks 39 [   6   52  102  163  202  235  285  344  374  432  491  527  575  631\n",
      "  670  716  769  799  833  879  939  988 1020 1054 1084 1127 1186 1222\n",
      " 1267 1302 1342 1376 1411 1459 1494 1543 1602 1657 1693]\n"
     ]
    },
    {
     "data": {
      "application/vnd.jupyter.widget-view+json": {
       "model_id": "48b3daf50c844f36b527e5dfc9e071aa",
       "version_major": 2,
       "version_minor": 0
      },
      "text/plain": [
       "Canvas(toolbar=Toolbar(toolitems=[('Home', 'Reset original view', 'home', 'home'), ('Back', 'Back to previous …"
      ]
     },
     "metadata": {},
     "output_type": "display_data"
    },
    {
     "name": "stdout",
     "output_type": "stream",
     "text": [
      "0 33\n"
     ]
    },
    {
     "data": {
      "application/vnd.jupyter.widget-view+json": {
       "model_id": "52a9937a756c4c608d078096a2ebc603",
       "version_major": 2,
       "version_minor": 0
      },
      "text/plain": [
       "Canvas(toolbar=Toolbar(toolitems=[('Home', 'Reset original view', 'home', 'home'), ('Back', 'Back to previous …"
      ]
     },
     "metadata": {},
     "output_type": "display_data"
    },
    {
     "name": "stdout",
     "output_type": "stream",
     "text": [
      "trueHSR_indices 59 [8, 42, 70, 102, 132, 162, 192, 222, 252, 285, 314, 342, 373, 401, 430, 460, 489, 516, 546, 574, 602, 630, 657, 687, 715, 742, 769, 798, 825, 854, 882, 910, 938, 962, 989, 1017, 1045, 1073, 1101, 1130, 1157, 1185, 1213, 1241, 1264, 1291, 1342, 1372, 1401, 1429, 1457, 1484, 1514, 1541, 1570, 1598, 1627, 1655, 1682]\n",
      "peaks 40 [   8   49   82  138  171  202  232  263  312  348  381  412  458  490\n",
      "  528  574  629  695  741  778  833  881  911  947  997 1052 1082 1137\n",
      " 1184 1221 1273 1325 1370 1400 1457 1493 1551 1608 1655 1692]\n"
     ]
    },
    {
     "data": {
      "application/vnd.jupyter.widget-view+json": {
       "model_id": "e33018071866445ab446c67f50ddf63a",
       "version_major": 2,
       "version_minor": 0
      },
      "text/plain": [
       "Canvas(toolbar=Toolbar(toolitems=[('Home', 'Reset original view', 'home', 'home'), ('Back', 'Back to previous …"
      ]
     },
     "metadata": {},
     "output_type": "display_data"
    },
    {
     "name": "stdout",
     "output_type": "stream",
     "text": [
      "0 33\n"
     ]
    },
    {
     "data": {
      "application/vnd.jupyter.widget-view+json": {
       "model_id": "1bbf7cef5fb64a4986c1bc879e8928b4",
       "version_major": 2,
       "version_minor": 0
      },
      "text/plain": [
       "Canvas(toolbar=Toolbar(toolitems=[('Home', 'Reset original view', 'home', 'home'), ('Back', 'Back to previous …"
      ]
     },
     "metadata": {},
     "output_type": "display_data"
    },
    {
     "name": "stdout",
     "output_type": "stream",
     "text": [
      "trueHSR_indices 59 [8, 42, 70, 102, 132, 162, 192, 222, 252, 285, 314, 342, 373, 401, 430, 460, 489, 516, 546, 574, 602, 630, 657, 687, 715, 742, 769, 798, 825, 854, 882, 910, 938, 962, 989, 1017, 1045, 1073, 1101, 1130, 1157, 1185, 1213, 1241, 1264, 1291, 1342, 1372, 1401, 1429, 1457, 1484, 1514, 1541, 1570, 1598, 1627, 1655, 1682]\n",
      "peaks 39 [  19   82  138  171  202  232  263  313  348  402  458  488  519  575\n",
      "  607  657  696  741  796  832  880  912  948  989 1046 1083 1155 1190\n",
      " 1239 1271 1319 1376 1406 1438 1488 1520 1580 1625 1664]\n"
     ]
    },
    {
     "data": {
      "application/vnd.jupyter.widget-view+json": {
       "model_id": "2766eb2698804b5985ecf3e1b81ce65c",
       "version_major": 2,
       "version_minor": 0
      },
      "text/plain": [
       "Canvas(toolbar=Toolbar(toolitems=[('Home', 'Reset original view', 'home', 'home'), ('Back', 'Back to previous …"
      ]
     },
     "metadata": {},
     "output_type": "display_data"
    },
    {
     "name": "stdout",
     "output_type": "stream",
     "text": [
      "GVS_215_W_T1\n",
      "[23, 59, 91, 125, 164, 199, 235, 271, 304, 337, 368, 399, 433, 464, 496, 530, 561, 595, 628, 661, 692, 727, 757, 790, 823, 857, 891, 923, 955, 991, 1022, 1053, 1086, 1117, 1149, 1181, 1212, 1245, 1277, 1310, 1341, 1373, 1404, 1437, 1468, 1500, 1532, 1562, 1594, 1627, 1658, 1690, 1721]\n",
      "0 4\n"
     ]
    },
    {
     "data": {
      "application/vnd.jupyter.widget-view+json": {
       "model_id": "4bd07d2c0fdc438f9d2932698c1a831f",
       "version_major": 2,
       "version_minor": 0
      },
      "text/plain": [
       "Canvas(toolbar=Toolbar(toolitems=[('Home', 'Reset original view', 'home', 'home'), ('Back', 'Back to previous …"
      ]
     },
     "metadata": {},
     "output_type": "display_data"
    },
    {
     "name": "stdout",
     "output_type": "stream",
     "text": [
      "trueHSR_indices 52 [23, 57, 89, 123, 195, 231, 267, 300, 333, 364, 395, 429, 460, 492, 526, 557, 591, 624, 657, 688, 723, 753, 786, 819, 853, 887, 919, 951, 987, 1018, 1049, 1082, 1113, 1145, 1177, 1208, 1241, 1273, 1306, 1337, 1369, 1400, 1433, 1464, 1496, 1528, 1558, 1590, 1623, 1654, 1686, 1717]\n",
      "peaks 45 [  34   90  124  167  206  244  280  312  344  376  429  471  504  538\n",
      "  591  631  668  703  734  766  827  865  898  931  965  996 1055 1088\n",
      " 1121 1153 1187 1220 1253 1285 1318 1349 1380 1439 1496 1538 1601 1633\n",
      " 1665 1695 1730]\n"
     ]
    },
    {
     "data": {
      "application/vnd.jupyter.widget-view+json": {
       "model_id": "d329f0af953e4d9bb6e24c04dde30809",
       "version_major": 2,
       "version_minor": 0
      },
      "text/plain": [
       "Canvas(toolbar=Toolbar(toolitems=[('Home', 'Reset original view', 'home', 'home'), ('Back', 'Back to previous …"
      ]
     },
     "metadata": {},
     "output_type": "display_data"
    },
    {
     "name": "stdout",
     "output_type": "stream",
     "text": [
      "0 4\n"
     ]
    },
    {
     "data": {
      "application/vnd.jupyter.widget-view+json": {
       "model_id": "95314ef92c324ea0b321577ab6d7123e",
       "version_major": 2,
       "version_minor": 0
      },
      "text/plain": [
       "Canvas(toolbar=Toolbar(toolitems=[('Home', 'Reset original view', 'home', 'home'), ('Back', 'Back to previous …"
      ]
     },
     "metadata": {},
     "output_type": "display_data"
    },
    {
     "name": "stdout",
     "output_type": "stream",
     "text": [
      "trueHSR_indices 52 [23, 57, 89, 123, 195, 231, 267, 300, 333, 364, 395, 429, 460, 492, 526, 557, 591, 624, 657, 688, 723, 753, 786, 819, 853, 887, 919, 951, 987, 1018, 1049, 1082, 1113, 1145, 1177, 1208, 1241, 1273, 1306, 1337, 1369, 1400, 1433, 1464, 1496, 1528, 1558, 1590, 1623, 1654, 1686, 1717]\n",
      "peaks 45 [  23   56   98  158  209  241  279  312  368  406  467  505  536  569\n",
      "  601  635  668  701  732  790  853  886  920  952  985 1018 1049 1084\n",
      " 1114 1145 1181 1240 1281 1337 1367 1400 1431 1465 1506 1557 1589 1619\n",
      " 1653 1686 1716]\n"
     ]
    },
    {
     "data": {
      "application/vnd.jupyter.widget-view+json": {
       "model_id": "8c7606e10caa464892bddc8ee0ecd2fa",
       "version_major": 2,
       "version_minor": 0
      },
      "text/plain": [
       "Canvas(toolbar=Toolbar(toolitems=[('Home', 'Reset original view', 'home', 'home'), ('Back', 'Back to previous …"
      ]
     },
     "metadata": {},
     "output_type": "display_data"
    },
    {
     "name": "stdout",
     "output_type": "stream",
     "text": [
      "0 4\n"
     ]
    },
    {
     "data": {
      "application/vnd.jupyter.widget-view+json": {
       "model_id": "0fbf83fe2c93419dbd6d307c7b98deed",
       "version_major": 2,
       "version_minor": 0
      },
      "text/plain": [
       "Canvas(toolbar=Toolbar(toolitems=[('Home', 'Reset original view', 'home', 'home'), ('Back', 'Back to previous …"
      ]
     },
     "metadata": {},
     "output_type": "display_data"
    },
    {
     "name": "stdout",
     "output_type": "stream",
     "text": [
      "trueHSR_indices 52 [23, 57, 89, 123, 195, 231, 267, 300, 333, 364, 395, 429, 460, 492, 526, 557, 591, 624, 657, 688, 723, 753, 786, 819, 853, 887, 919, 951, 987, 1018, 1049, 1082, 1113, 1145, 1177, 1208, 1241, 1273, 1306, 1337, 1369, 1400, 1433, 1464, 1496, 1528, 1558, 1590, 1623, 1654, 1686, 1717]\n",
      "peaks 46 [  25   57   88  124  174  209  242  280  339  399  433  500  530  565\n",
      "  597  627  660  699  730  766  825  864  895  931  963  996 1029 1060\n",
      " 1093 1125 1181 1218 1252 1285 1340 1376 1406 1440 1473 1534 1565 1600\n",
      " 1633 1664 1695 1728]\n"
     ]
    },
    {
     "data": {
      "application/vnd.jupyter.widget-view+json": {
       "model_id": "f56d0bbc3a3e4895a7531b8a7397b7f3",
       "version_major": 2,
       "version_minor": 0
      },
      "text/plain": [
       "Canvas(toolbar=Toolbar(toolitems=[('Home', 'Reset original view', 'home', 'home'), ('Back', 'Back to previous …"
      ]
     },
     "metadata": {},
     "output_type": "display_data"
    },
    {
     "name": "stdout",
     "output_type": "stream",
     "text": [
      "GVS_215_W_T2\n",
      "[6, 48, 85, 122, 158, 190, 222, 255, 289, 322, 357, 392, 426, 458, 492, 524, 558, 591, 623, 657, 690, 722, 757, 793, 825, 857, 891, 921, 954, 987, 1017, 1050, 1083, 1116, 1149, 1182, 1214, 1247, 1279, 1311, 1343, 1372, 1401, 1430, 1460, 1491, 1521, 1552, 1582, 1613, 1643, 1674, 1704, 1736]\n",
      "0 0\n"
     ]
    },
    {
     "data": {
      "application/vnd.jupyter.widget-view+json": {
       "model_id": "67b268e960884482ace33cf2eca9624d",
       "version_major": 2,
       "version_minor": 0
      },
      "text/plain": [
       "Canvas(toolbar=Toolbar(toolitems=[('Home', 'Reset original view', 'home', 'home'), ('Back', 'Back to previous …"
      ]
     },
     "metadata": {},
     "output_type": "display_data"
    },
    {
     "name": "stdout",
     "output_type": "stream",
     "text": [
      "trueHSR_indices 54 [6, 48, 85, 122, 158, 190, 222, 255, 289, 322, 357, 392, 426, 458, 492, 524, 558, 591, 623, 657, 690, 722, 757, 793, 825, 857, 891, 921, 954, 987, 1017, 1050, 1083, 1116, 1149, 1182, 1214, 1247, 1279, 1311, 1343, 1372, 1401, 1430, 1460, 1491, 1521, 1552, 1582, 1613, 1643, 1674, 1704, 1736]\n",
      "peaks 45 [  13   52   99  138  196  237  269  302  338  371  430  468  503  538\n",
      "  570  604  636  696  732  772  805  867  898  928  964 1001 1032 1063\n",
      " 1094 1130 1186 1224 1254 1291 1323 1353 1403 1462 1493 1523 1555 1585\n",
      " 1616 1675 1707]\n"
     ]
    },
    {
     "data": {
      "application/vnd.jupyter.widget-view+json": {
       "model_id": "e24a87c560af416098adf7e57069c4b5",
       "version_major": 2,
       "version_minor": 0
      },
      "text/plain": [
       "Canvas(toolbar=Toolbar(toolitems=[('Home', 'Reset original view', 'home', 'home'), ('Back', 'Back to previous …"
      ]
     },
     "metadata": {},
     "output_type": "display_data"
    },
    {
     "name": "stdout",
     "output_type": "stream",
     "text": [
      "0 0\n"
     ]
    },
    {
     "data": {
      "application/vnd.jupyter.widget-view+json": {
       "model_id": "c7c4117f50d041978a08328c6a460813",
       "version_major": 2,
       "version_minor": 0
      },
      "text/plain": [
       "Canvas(toolbar=Toolbar(toolitems=[('Home', 'Reset original view', 'home', 'home'), ('Back', 'Back to previous …"
      ]
     },
     "metadata": {},
     "output_type": "display_data"
    },
    {
     "name": "stdout",
     "output_type": "stream",
     "text": [
      "trueHSR_indices 54 [6, 48, 85, 122, 158, 190, 222, 255, 289, 322, 357, 392, 426, 458, 492, 524, 558, 591, 623, 657, 690, 722, 757, 793, 825, 857, 891, 921, 954, 987, 1017, 1050, 1083, 1116, 1149, 1182, 1214, 1247, 1279, 1311, 1343, 1372, 1401, 1430, 1460, 1491, 1521, 1552, 1582, 1613, 1643, 1674, 1704, 1736]\n",
      "peaks 43 [  14   50   99  131  162  222  256  292  323  358  394  426  459  493\n",
      "  526  569  626  657  691  723  770  804  838  899  955  998 1060 1093\n",
      " 1129 1192 1227 1258 1318 1351 1406 1439 1492 1528 1583 1615 1645 1682\n",
      " 1735]\n"
     ]
    },
    {
     "data": {
      "application/vnd.jupyter.widget-view+json": {
       "model_id": "7646da5dd57a4c58abd2dc353cfb5497",
       "version_major": 2,
       "version_minor": 0
      },
      "text/plain": [
       "Canvas(toolbar=Toolbar(toolitems=[('Home', 'Reset original view', 'home', 'home'), ('Back', 'Back to previous …"
      ]
     },
     "metadata": {},
     "output_type": "display_data"
    },
    {
     "name": "stdout",
     "output_type": "stream",
     "text": [
      "0 0\n"
     ]
    },
    {
     "data": {
      "application/vnd.jupyter.widget-view+json": {
       "model_id": "b3ca3aa1e97343beb3bfe4c543636709",
       "version_major": 2,
       "version_minor": 0
      },
      "text/plain": [
       "Canvas(toolbar=Toolbar(toolitems=[('Home', 'Reset original view', 'home', 'home'), ('Back', 'Back to previous …"
      ]
     },
     "metadata": {},
     "output_type": "display_data"
    },
    {
     "name": "stdout",
     "output_type": "stream",
     "text": [
      "trueHSR_indices 54 [6, 48, 85, 122, 158, 190, 222, 255, 289, 322, 357, 392, 426, 458, 492, 524, 558, 591, 623, 657, 690, 722, 757, 793, 825, 857, 891, 921, 954, 987, 1017, 1050, 1083, 1116, 1149, 1182, 1214, 1247, 1279, 1311, 1343, 1372, 1401, 1430, 1460, 1491, 1521, 1552, 1582, 1613, 1643, 1674, 1704, 1736]\n",
      "peaks 44 [  24   60   98  131  163  195  233  268  301  332  364  398  430  471\n",
      "  502  537  599  630  664  699  729  794  833  863  902  936  998 1030\n",
      " 1092 1130 1187 1219 1254 1290 1347 1404 1436 1469 1524 1555 1588 1624\n",
      " 1654 1716]\n"
     ]
    },
    {
     "data": {
      "application/vnd.jupyter.widget-view+json": {
       "model_id": "3ac6b15601674c60b853aad92a7d31eb",
       "version_major": 2,
       "version_minor": 0
      },
      "text/plain": [
       "Canvas(toolbar=Toolbar(toolitems=[('Home', 'Reset original view', 'home', 'home'), ('Back', 'Back to previous …"
      ]
     },
     "metadata": {},
     "output_type": "display_data"
    },
    {
     "name": "stdout",
     "output_type": "stream",
     "text": [
      "GVS_216_W_T1\n",
      "[16, 60, 102, 146, 187, 222, 257, 295, 331, 368, 400, 432, 464, 497, 527, 558, 589, 617, 647, 677, 705, 735, 762, 793, 821, 851, 882, 910, 940, 971, 1002, 1033, 1063, 1094, 1124, 1156, 1187, 1217, 1249, 1279, 1309, 1341, 1372, 1403, 1434, 1464, 1496, 1527, 1559, 1590, 1620, 1651, 1683, 1712, 1744]\n",
      "0 13\n"
     ]
    },
    {
     "data": {
      "application/vnd.jupyter.widget-view+json": {
       "model_id": "f1ec60b0cbc349cebbbb5e403322fd3d",
       "version_major": 2,
       "version_minor": 0
      },
      "text/plain": [
       "Canvas(toolbar=Toolbar(toolitems=[('Home', 'Reset original view', 'home', 'home'), ('Back', 'Back to previous …"
      ]
     },
     "metadata": {},
     "output_type": "display_data"
    },
    {
     "name": "stdout",
     "output_type": "stream",
     "text": [
      "trueHSR_indices 55 [16, 60, 102, 146, 187, 222, 253, 290, 326, 363, 395, 427, 459, 492, 522, 552, 583, 611, 641, 671, 699, 727, 754, 785, 813, 843, 873, 901, 930, 961, 992, 1023, 1053, 1084, 1114, 1146, 1177, 1207, 1239, 1268, 1298, 1330, 1361, 1392, 1423, 1452, 1484, 1515, 1547, 1577, 1607, 1638, 1670, 1699, 1731]\n",
      "peaks 42 [   4   34   68  121  160  199  261  291  330  377  407  440  474  511\n",
      "  560  614  676  710  740  796  826  874  912  943 1003 1034 1087 1128\n",
      " 1160 1193 1247 1301 1363 1395 1429 1460 1490 1553 1585 1615 1671 1702]\n"
     ]
    },
    {
     "data": {
      "application/vnd.jupyter.widget-view+json": {
       "model_id": "b6bfa70b803a41d7a1659860a4285c06",
       "version_major": 2,
       "version_minor": 0
      },
      "text/plain": [
       "Canvas(toolbar=Toolbar(toolitems=[('Home', 'Reset original view', 'home', 'home'), ('Back', 'Back to previous …"
      ]
     },
     "metadata": {},
     "output_type": "display_data"
    },
    {
     "name": "stdout",
     "output_type": "stream",
     "text": [
      "0 13\n"
     ]
    },
    {
     "data": {
      "application/vnd.jupyter.widget-view+json": {
       "model_id": "da732ad088374a40852aecabb0bc39c1",
       "version_major": 2,
       "version_minor": 0
      },
      "text/plain": [
       "Canvas(toolbar=Toolbar(toolitems=[('Home', 'Reset original view', 'home', 'home'), ('Back', 'Back to previous …"
      ]
     },
     "metadata": {},
     "output_type": "display_data"
    },
    {
     "name": "stdout",
     "output_type": "stream",
     "text": [
      "trueHSR_indices 55 [16, 60, 102, 146, 187, 222, 253, 290, 326, 363, 395, 427, 459, 492, 522, 552, 583, 611, 641, 671, 699, 727, 754, 785, 813, 843, 873, 901, 930, 961, 992, 1023, 1053, 1084, 1114, 1146, 1177, 1207, 1239, 1268, 1298, 1330, 1361, 1392, 1423, 1452, 1484, 1515, 1547, 1577, 1607, 1638, 1670, 1699, 1731]\n",
      "peaks 42 [  27   69  120  156  194  229  262  300  339  374  404  460  491  522\n",
      "  557  591  621  652  726  784  820  853  883  939 1001 1052 1085 1123\n",
      " 1153 1216 1247 1307 1362 1394 1433 1463 1493 1553 1583 1613 1647 1677]\n"
     ]
    },
    {
     "data": {
      "application/vnd.jupyter.widget-view+json": {
       "model_id": "291dfe75536e41cca67f575d60096c7d",
       "version_major": 2,
       "version_minor": 0
      },
      "text/plain": [
       "Canvas(toolbar=Toolbar(toolitems=[('Home', 'Reset original view', 'home', 'home'), ('Back', 'Back to previous …"
      ]
     },
     "metadata": {},
     "output_type": "display_data"
    },
    {
     "name": "stdout",
     "output_type": "stream",
     "text": [
      "0 13\n"
     ]
    },
    {
     "data": {
      "application/vnd.jupyter.widget-view+json": {
       "model_id": "b93e36e9aa8b48e8978c80cc86304413",
       "version_major": 2,
       "version_minor": 0
      },
      "text/plain": [
       "Canvas(toolbar=Toolbar(toolitems=[('Home', 'Reset original view', 'home', 'home'), ('Back', 'Back to previous …"
      ]
     },
     "metadata": {},
     "output_type": "display_data"
    },
    {
     "name": "stdout",
     "output_type": "stream",
     "text": [
      "trueHSR_indices 55 [16, 60, 102, 146, 187, 222, 253, 290, 326, 363, 395, 427, 459, 492, 522, 552, 583, 611, 641, 671, 699, 727, 754, 785, 813, 843, 873, 901, 930, 961, 992, 1023, 1053, 1084, 1114, 1146, 1177, 1207, 1239, 1268, 1298, 1330, 1361, 1392, 1423, 1452, 1484, 1515, 1547, 1577, 1607, 1638, 1670, 1699, 1731]\n",
      "peaks 44 [  27   69  120  158  197  232  266  299  331  377  440  470  501  556\n",
      "  590  623  676  709  760  796  826  856  902  939  974 1021 1051 1090\n",
      " 1122 1158 1213 1245 1275 1305 1337 1367 1429 1490 1523 1583 1614 1646\n",
      " 1676 1706]\n"
     ]
    },
    {
     "data": {
      "application/vnd.jupyter.widget-view+json": {
       "model_id": "11a07d13caf54f249f434ec8ac08aca7",
       "version_major": 2,
       "version_minor": 0
      },
      "text/plain": [
       "Canvas(toolbar=Toolbar(toolitems=[('Home', 'Reset original view', 'home', 'home'), ('Back', 'Back to previous …"
      ]
     },
     "metadata": {},
     "output_type": "display_data"
    },
    {
     "name": "stdout",
     "output_type": "stream",
     "text": [
      "GVS_216_W_T2\n",
      "[10, 54, 89, 122, 159, 190, 219, 249, 278, 304, 334, 361, 390, 417, 445, 472, 500, 528, 555, 582, 610, 637, 664, 691, 720, 747, 773, 803, 831, 859, 886, 913, 942, 968, 997, 1024, 1053, 1081, 1107, 1136, 1163, 1191, 1217, 1246, 1273, 1301, 1329, 1357, 1384, 1411, 1440, 1467, 1495, 1522, 1550, 1578, 1605, 1633, 1659, 1687, 1714]\n",
      "0 17\n"
     ]
    },
    {
     "data": {
      "application/vnd.jupyter.widget-view+json": {
       "model_id": "bcf37e19a81d44c590de481a77796012",
       "version_major": 2,
       "version_minor": 0
      },
      "text/plain": [
       "Canvas(toolbar=Toolbar(toolitems=[('Home', 'Reset original view', 'home', 'home'), ('Back', 'Back to previous …"
      ]
     },
     "metadata": {},
     "output_type": "display_data"
    },
    {
     "name": "stdout",
     "output_type": "stream",
     "text": [
      "trueHSR_indices 61 [10, 50, 84, 114, 151, 182, 211, 241, 270, 295, 325, 352, 381, 408, 436, 463, 491, 519, 546, 573, 601, 628, 654, 681, 710, 736, 761, 791, 819, 847, 874, 901, 930, 956, 985, 1012, 1041, 1069, 1094, 1123, 1150, 1178, 1203, 1232, 1259, 1287, 1314, 1341, 1368, 1395, 1424, 1451, 1479, 1506, 1533, 1561, 1588, 1616, 1642, 1670, 1697]\n",
      "peaks 41 [  20   55   96  131  164  194  240  273  304  359  392  446  489  522\n",
      "  571  606  638  684  738  771  821  880  912  960 1014 1050 1095 1157\n",
      " 1205 1240 1288 1322 1369 1425 1461 1509 1561 1594 1625 1671 1705]\n"
     ]
    },
    {
     "data": {
      "application/vnd.jupyter.widget-view+json": {
       "model_id": "c06c3bd8463548a1b07638a3fc73b160",
       "version_major": 2,
       "version_minor": 0
      },
      "text/plain": [
       "Canvas(toolbar=Toolbar(toolitems=[('Home', 'Reset original view', 'home', 'home'), ('Back', 'Back to previous …"
      ]
     },
     "metadata": {},
     "output_type": "display_data"
    },
    {
     "name": "stdout",
     "output_type": "stream",
     "text": [
      "0 17\n"
     ]
    },
    {
     "data": {
      "application/vnd.jupyter.widget-view+json": {
       "model_id": "0108556a75f14e69b6d5cbd4ae75b77d",
       "version_major": 2,
       "version_minor": 0
      },
      "text/plain": [
       "Canvas(toolbar=Toolbar(toolitems=[('Home', 'Reset original view', 'home', 'home'), ('Back', 'Back to previous …"
      ]
     },
     "metadata": {},
     "output_type": "display_data"
    },
    {
     "name": "stdout",
     "output_type": "stream",
     "text": [
      "trueHSR_indices 61 [10, 50, 84, 114, 151, 182, 211, 241, 270, 295, 325, 352, 381, 408, 436, 463, 491, 519, 546, 573, 601, 628, 654, 681, 710, 736, 761, 791, 819, 847, 874, 901, 930, 956, 985, 1012, 1041, 1069, 1094, 1123, 1150, 1178, 1203, 1232, 1259, 1287, 1314, 1341, 1368, 1395, 1424, 1451, 1479, 1506, 1533, 1561, 1588, 1616, 1642, 1670, 1697]\n",
      "peaks 38 [  15   48   94  126  158  191  249  305  359  416  470  500  545  583\n",
      "  626  662  718  772  828  873  909  962  994 1048 1094 1131 1184 1230\n",
      " 1264 1295 1347 1403 1461 1510 1567 1614 1649 1696]\n"
     ]
    },
    {
     "data": {
      "application/vnd.jupyter.widget-view+json": {
       "model_id": "c23e614ad9284213b616b7bcc2bbf5b4",
       "version_major": 2,
       "version_minor": 0
      },
      "text/plain": [
       "Canvas(toolbar=Toolbar(toolitems=[('Home', 'Reset original view', 'home', 'home'), ('Back', 'Back to previous …"
      ]
     },
     "metadata": {},
     "output_type": "display_data"
    },
    {
     "name": "stdout",
     "output_type": "stream",
     "text": [
      "0 17\n"
     ]
    },
    {
     "data": {
      "application/vnd.jupyter.widget-view+json": {
       "model_id": "1f936b0522434516be6800103f5efa46",
       "version_major": 2,
       "version_minor": 0
      },
      "text/plain": [
       "Canvas(toolbar=Toolbar(toolitems=[('Home', 'Reset original view', 'home', 'home'), ('Back', 'Back to previous …"
      ]
     },
     "metadata": {},
     "output_type": "display_data"
    },
    {
     "name": "stdout",
     "output_type": "stream",
     "text": [
      "trueHSR_indices 61 [10, 50, 84, 114, 151, 182, 211, 241, 270, 295, 325, 352, 381, 408, 436, 463, 491, 519, 546, 573, 601, 628, 654, 681, 710, 736, 761, 791, 819, 847, 874, 901, 930, 956, 985, 1012, 1041, 1069, 1094, 1123, 1150, 1178, 1203, 1232, 1259, 1287, 1314, 1341, 1368, 1395, 1424, 1451, 1479, 1506, 1533, 1561, 1588, 1616, 1642, 1670, 1697]\n",
      "peaks 39 [  23   59   94  126  163  193  234  274  304  359  392  435  470  522\n",
      "  572  606  636  684  715  768  828  880  938  984 1014 1077 1131 1184\n",
      " 1237 1288 1341 1374 1433 1477 1517 1560 1623 1671 1705]\n"
     ]
    },
    {
     "data": {
      "application/vnd.jupyter.widget-view+json": {
       "model_id": "8b15c16f7bb74eaea00278415059b7f2",
       "version_major": 2,
       "version_minor": 0
      },
      "text/plain": [
       "Canvas(toolbar=Toolbar(toolitems=[('Home', 'Reset original view', 'home', 'home'), ('Back', 'Back to previous …"
      ]
     },
     "metadata": {},
     "output_type": "display_data"
    },
    {
     "name": "stdout",
     "output_type": "stream",
     "text": [
      "GVS_217_W_T1\n",
      "[22, 92, 141, 191, 240, 285, 325, 366, 402, 438, 474, 512, 549, 585, 621, 658, 695, 733, 770, 805, 841, 876, 911, 948, 984, 1020, 1056, 1092, 1127, 1162, 1197, 1232, 1267, 1303, 1337, 1370, 1405, 1441, 1476, 1510, 1547, 1581, 1615, 1650, 1685, 1718]\n",
      "0 9\n"
     ]
    },
    {
     "data": {
      "application/vnd.jupyter.widget-view+json": {
       "model_id": "18bb998970494f5faa61094bf931bc47",
       "version_major": 2,
       "version_minor": 0
      },
      "text/plain": [
       "Canvas(toolbar=Toolbar(toolitems=[('Home', 'Reset original view', 'home', 'home'), ('Back', 'Back to previous …"
      ]
     },
     "metadata": {},
     "output_type": "display_data"
    },
    {
     "name": "stdout",
     "output_type": "stream",
     "text": [
      "trueHSR_indices 46 [22, 92, 141, 191, 240, 285, 325, 366, 402, 435, 471, 509, 546, 581, 617, 654, 691, 729, 765, 800, 836, 870, 905, 942, 977, 1013, 1049, 1085, 1120, 1155, 1190, 1225, 1260, 1296, 1330, 1363, 1398, 1434, 1468, 1501, 1538, 1572, 1606, 1641, 1676, 1709]\n",
      "peaks 41 [  24   58  108  139  197  238  286  324  373  414  449  485  522  555\n",
      "  592  633  688  741  778  810  845  884  940  987 1024 1062 1095 1129\n",
      " 1163 1225 1257 1319 1362 1406 1445 1478 1535 1570 1616 1674 1726]\n"
     ]
    },
    {
     "data": {
      "application/vnd.jupyter.widget-view+json": {
       "model_id": "5c396febfebb4e59afc393223247944c",
       "version_major": 2,
       "version_minor": 0
      },
      "text/plain": [
       "Canvas(toolbar=Toolbar(toolitems=[('Home', 'Reset original view', 'home', 'home'), ('Back', 'Back to previous …"
      ]
     },
     "metadata": {},
     "output_type": "display_data"
    },
    {
     "name": "stdout",
     "output_type": "stream",
     "text": [
      "0 9\n"
     ]
    },
    {
     "data": {
      "application/vnd.jupyter.widget-view+json": {
       "model_id": "e5a4cbc1125849289d078c407d563c5f",
       "version_major": 2,
       "version_minor": 0
      },
      "text/plain": [
       "Canvas(toolbar=Toolbar(toolitems=[('Home', 'Reset original view', 'home', 'home'), ('Back', 'Back to previous …"
      ]
     },
     "metadata": {},
     "output_type": "display_data"
    },
    {
     "name": "stdout",
     "output_type": "stream",
     "text": [
      "trueHSR_indices 46 [22, 92, 141, 191, 240, 285, 325, 366, 402, 435, 471, 509, 546, 581, 617, 654, 691, 729, 765, 800, 836, 870, 905, 942, 977, 1013, 1049, 1085, 1120, 1155, 1190, 1225, 1260, 1296, 1330, 1363, 1398, 1434, 1468, 1501, 1538, 1572, 1606, 1641, 1676, 1709]\n",
      "peaks 43 [  20   59  107  149  189  242  285  324  374  415  449  508  557  593\n",
      "  631  661  691  727  777  808  867  903  940  975 1010 1047 1084 1117\n",
      " 1152 1188 1224 1259 1295 1328 1362 1406 1446 1499 1535 1577 1612 1647\n",
      " 1708]\n"
     ]
    },
    {
     "data": {
      "application/vnd.jupyter.widget-view+json": {
       "model_id": "500fcf1326b44a29928f7255f86ee9f9",
       "version_major": 2,
       "version_minor": 0
      },
      "text/plain": [
       "Canvas(toolbar=Toolbar(toolitems=[('Home', 'Reset original view', 'home', 'home'), ('Back', 'Back to previous …"
      ]
     },
     "metadata": {},
     "output_type": "display_data"
    },
    {
     "name": "stdout",
     "output_type": "stream",
     "text": [
      "0 9\n"
     ]
    },
    {
     "data": {
      "application/vnd.jupyter.widget-view+json": {
       "model_id": "d3fc1a817292498baf2ff0d51a83a29e",
       "version_major": 2,
       "version_minor": 0
      },
      "text/plain": [
       "Canvas(toolbar=Toolbar(toolitems=[('Home', 'Reset original view', 'home', 'home'), ('Back', 'Back to previous …"
      ]
     },
     "metadata": {},
     "output_type": "display_data"
    },
    {
     "name": "stdout",
     "output_type": "stream",
     "text": [
      "trueHSR_indices 46 [22, 92, 141, 191, 240, 285, 325, 366, 402, 435, 471, 509, 546, 581, 617, 654, 691, 729, 765, 800, 836, 870, 905, 942, 977, 1013, 1049, 1085, 1120, 1155, 1190, 1225, 1260, 1296, 1330, 1363, 1398, 1434, 1468, 1501, 1538, 1572, 1606, 1641, 1676, 1709]\n",
      "peaks 44 [  17   47  107  141  190  242  285  324  369  415  450  509  546  589\n",
      "  619  655  691  728  777  808  867  903  940  975 1011 1047 1084 1117\n",
      " 1161 1193 1225 1259 1295 1329 1362 1406 1446 1499 1535 1577 1612 1646\n",
      " 1676 1712]\n"
     ]
    },
    {
     "data": {
      "application/vnd.jupyter.widget-view+json": {
       "model_id": "5dee7e6f38914e888e2ec675a0fcb836",
       "version_major": 2,
       "version_minor": 0
      },
      "text/plain": [
       "Canvas(toolbar=Toolbar(toolitems=[('Home', 'Reset original view', 'home', 'home'), ('Back', 'Back to previous …"
      ]
     },
     "metadata": {},
     "output_type": "display_data"
    },
    {
     "name": "stdout",
     "output_type": "stream",
     "text": [
      "GVS_217_W_T2\n",
      "[45, 88, 131, 170, 207, 247, 283, 320, 355, 391, 427, 461, 496, 532, 565, 599, 633, 667, 700, 734, 768, 802, 835, 867, 901, 934, 966, 1001, 1034, 1068, 1102, 1135, 1168, 1201, 1234, 1267, 1301, 1335, 1367, 1401, 1435, 1466, 1501, 1535, 1567, 1601, 1636, 1669, 1702, 1736]\n",
      "0 13\n"
     ]
    },
    {
     "data": {
      "application/vnd.jupyter.widget-view+json": {
       "model_id": "d02ab289b2ea43c08a7b5b219f2b2c4a",
       "version_major": 2,
       "version_minor": 0
      },
      "text/plain": [
       "Canvas(toolbar=Toolbar(toolitems=[('Home', 'Reset original view', 'home', 'home'), ('Back', 'Back to previous …"
      ]
     },
     "metadata": {},
     "output_type": "display_data"
    },
    {
     "name": "stdout",
     "output_type": "stream",
     "text": [
      "trueHSR_indices 50 [45, 88, 131, 170, 207, 247, 283, 320, 355, 390, 424, 458, 492, 528, 561, 595, 628, 662, 694, 726, 760, 793, 825, 857, 891, 924, 956, 991, 1024, 1058, 1092, 1125, 1158, 1191, 1224, 1257, 1291, 1325, 1357, 1391, 1425, 1456, 1491, 1524, 1556, 1589, 1624, 1656, 1689, 1723]\n",
      "peaks 47 [  11   43   84  128  174  209  249  280  319  366  423  467  502  534\n",
      "  570  607  638  676  736  768  801  836  867  900  934  968 1000 1033\n",
      " 1067 1101 1136 1167 1200 1234 1266 1300 1334 1367 1403 1434 1467 1505\n",
      " 1566 1600 1631 1667 1699]\n"
     ]
    },
    {
     "data": {
      "application/vnd.jupyter.widget-view+json": {
       "model_id": "156598902ad745eab4dd396bb26e9985",
       "version_major": 2,
       "version_minor": 0
      },
      "text/plain": [
       "Canvas(toolbar=Toolbar(toolitems=[('Home', 'Reset original view', 'home', 'home'), ('Back', 'Back to previous …"
      ]
     },
     "metadata": {},
     "output_type": "display_data"
    },
    {
     "name": "stdout",
     "output_type": "stream",
     "text": [
      "0 13\n"
     ]
    },
    {
     "data": {
      "application/vnd.jupyter.widget-view+json": {
       "model_id": "f0f4090fc73a43d3be10fe0d8c51c8da",
       "version_major": 2,
       "version_minor": 0
      },
      "text/plain": [
       "Canvas(toolbar=Toolbar(toolitems=[('Home', 'Reset original view', 'home', 'home'), ('Back', 'Back to previous …"
      ]
     },
     "metadata": {},
     "output_type": "display_data"
    },
    {
     "name": "stdout",
     "output_type": "stream",
     "text": [
      "trueHSR_indices 50 [45, 88, 131, 170, 207, 247, 283, 320, 355, 390, 424, 458, 492, 528, 561, 595, 628, 662, 694, 726, 760, 793, 825, 857, 891, 924, 956, 991, 1024, 1058, 1092, 1125, 1158, 1191, 1224, 1257, 1291, 1325, 1357, 1391, 1425, 1456, 1491, 1524, 1556, 1589, 1624, 1656, 1689, 1723]\n",
      "peaks 48 [  12   43   85  128  176  208  248  286  333  366  401  436  471  504\n",
      "  540  571  607  638  670  705  739  773  806  836  871  904  936  970\n",
      " 1003 1056 1104 1137 1171 1204 1235 1279 1322 1355 1405 1438 1469 1504\n",
      " 1538 1571 1601 1635 1688 1721]\n"
     ]
    },
    {
     "data": {
      "application/vnd.jupyter.widget-view+json": {
       "model_id": "5bd471893c70460d9929dd08948298c7",
       "version_major": 2,
       "version_minor": 0
      },
      "text/plain": [
       "Canvas(toolbar=Toolbar(toolitems=[('Home', 'Reset original view', 'home', 'home'), ('Back', 'Back to previous …"
      ]
     },
     "metadata": {},
     "output_type": "display_data"
    },
    {
     "name": "stdout",
     "output_type": "stream",
     "text": [
      "0 13\n"
     ]
    },
    {
     "data": {
      "application/vnd.jupyter.widget-view+json": {
       "model_id": "237c2716a55a4900a99b772e50da7d96",
       "version_major": 2,
       "version_minor": 0
      },
      "text/plain": [
       "Canvas(toolbar=Toolbar(toolitems=[('Home', 'Reset original view', 'home', 'home'), ('Back', 'Back to previous …"
      ]
     },
     "metadata": {},
     "output_type": "display_data"
    },
    {
     "name": "stdout",
     "output_type": "stream",
     "text": [
      "trueHSR_indices 50 [45, 88, 131, 170, 207, 247, 283, 320, 355, 390, 424, 458, 492, 528, 561, 595, 628, 662, 694, 726, 760, 793, 825, 857, 891, 924, 956, 991, 1024, 1058, 1092, 1125, 1158, 1191, 1224, 1257, 1291, 1325, 1357, 1391, 1425, 1456, 1491, 1524, 1556, 1589, 1624, 1656, 1689, 1723]\n",
      "peaks 49 [  16   51   85  137  175  208  249  286  319  366  398  431  471  504\n",
      "  540  571  607  638  676  706  739  773  806  836  871  904  936  970\n",
      " 1003 1038 1073 1104 1138 1171 1204 1235 1279 1322 1355 1405 1438 1469\n",
      " 1504 1538 1571 1601 1635 1689 1722]\n"
     ]
    },
    {
     "data": {
      "application/vnd.jupyter.widget-view+json": {
       "model_id": "f1a66ec470d14d19837dd5b7944f8555",
       "version_major": 2,
       "version_minor": 0
      },
      "text/plain": [
       "Canvas(toolbar=Toolbar(toolitems=[('Home', 'Reset original view', 'home', 'home'), ('Back', 'Back to previous …"
      ]
     },
     "metadata": {},
     "output_type": "display_data"
    },
    {
     "name": "stdout",
     "output_type": "stream",
     "text": [
      "GVS_218_W_T1\n",
      "[24, 66, 103, 142, 176, 215, 250, 286, 320, 355, 391, 424, 459, 495, 530, 563, 598, 634, 670, 705, 741, 777, 811, 845, 880, 915, 950, 985, 1019, 1054, 1089, 1123, 1157, 1193, 1229, 1262, 1297, 1332, 1366, 1402, 1437, 1471, 1507, 1541, 1574, 1609, 1644, 1679, 1714]\n",
      "0 27\n"
     ]
    },
    {
     "data": {
      "application/vnd.jupyter.widget-view+json": {
       "model_id": "aecaa0a19aa44224bf30a674f6adfc4a",
       "version_major": 2,
       "version_minor": 0
      },
      "text/plain": [
       "Canvas(toolbar=Toolbar(toolitems=[('Home', 'Reset original view', 'home', 'home'), ('Back', 'Back to previous …"
      ]
     },
     "metadata": {},
     "output_type": "display_data"
    },
    {
     "name": "stdout",
     "output_type": "stream",
     "text": [
      "trueHSR_indices 48 [24, 66, 103, 140, 167, 205, 267, 298, 333, 369, 402, 437, 473, 508, 541, 574, 610, 646, 681, 716, 752, 786, 820, 855, 890, 924, 959, 993, 1028, 1063, 1097, 1131, 1167, 1203, 1236, 1271, 1306, 1340, 1376, 1410, 1444, 1480, 1514, 1547, 1582, 1617, 1652, 1687]\n",
      "peaks 45 [  21   74  112  143  176  208  270  323  373  411  448  480  514  548\n",
      "  579  616  653  689  723  754  794  827  866  905  961  995 1030 1065\n",
      " 1097 1136 1169 1208 1239 1269 1310 1344 1379 1413 1450 1482 1519 1551\n",
      " 1584 1648 1700]\n"
     ]
    },
    {
     "data": {
      "application/vnd.jupyter.widget-view+json": {
       "model_id": "bdd14e857f814916b196a952b7090a9f",
       "version_major": 2,
       "version_minor": 0
      },
      "text/plain": [
       "Canvas(toolbar=Toolbar(toolitems=[('Home', 'Reset original view', 'home', 'home'), ('Back', 'Back to previous …"
      ]
     },
     "metadata": {},
     "output_type": "display_data"
    },
    {
     "name": "stdout",
     "output_type": "stream",
     "text": [
      "0 27\n"
     ]
    },
    {
     "data": {
      "application/vnd.jupyter.widget-view+json": {
       "model_id": "238e9a8e03164d5ea36732fc3ab4d2bf",
       "version_major": 2,
       "version_minor": 0
      },
      "text/plain": [
       "Canvas(toolbar=Toolbar(toolitems=[('Home', 'Reset original view', 'home', 'home'), ('Back', 'Back to previous …"
      ]
     },
     "metadata": {},
     "output_type": "display_data"
    },
    {
     "name": "stdout",
     "output_type": "stream",
     "text": [
      "trueHSR_indices 48 [24, 66, 103, 140, 167, 205, 267, 298, 333, 369, 402, 437, 473, 508, 541, 574, 610, 646, 681, 716, 752, 786, 820, 855, 890, 924, 959, 993, 1028, 1063, 1097, 1131, 1167, 1203, 1236, 1271, 1306, 1340, 1376, 1410, 1444, 1480, 1514, 1547, 1582, 1617, 1652, 1687]\n",
      "peaks 46 [  24   77  117  147  180  212  264  304  345  376  407  440  475  507\n",
      "  545  584  615  649  683  718  753  787  820  856  893  923  957  992\n",
      " 1026 1062 1099 1132 1166 1212 1246 1281 1341 1386 1422 1456 1515 1545\n",
      " 1583 1616 1649 1697]\n"
     ]
    },
    {
     "data": {
      "application/vnd.jupyter.widget-view+json": {
       "model_id": "f7e5a6d34dc042fa80eb246b057f8b93",
       "version_major": 2,
       "version_minor": 0
      },
      "text/plain": [
       "Canvas(toolbar=Toolbar(toolitems=[('Home', 'Reset original view', 'home', 'home'), ('Back', 'Back to previous …"
      ]
     },
     "metadata": {},
     "output_type": "display_data"
    },
    {
     "name": "stdout",
     "output_type": "stream",
     "text": [
      "0 27\n"
     ]
    },
    {
     "data": {
      "application/vnd.jupyter.widget-view+json": {
       "model_id": "be5d0cfdddc64f329ceaae9e38f6c53d",
       "version_major": 2,
       "version_minor": 0
      },
      "text/plain": [
       "Canvas(toolbar=Toolbar(toolitems=[('Home', 'Reset original view', 'home', 'home'), ('Back', 'Back to previous …"
      ]
     },
     "metadata": {},
     "output_type": "display_data"
    },
    {
     "name": "stdout",
     "output_type": "stream",
     "text": [
      "trueHSR_indices 48 [24, 66, 103, 140, 167, 205, 267, 298, 333, 369, 402, 437, 473, 508, 541, 574, 610, 646, 681, 716, 752, 786, 820, 855, 890, 924, 959, 993, 1028, 1063, 1097, 1131, 1167, 1203, 1236, 1271, 1306, 1340, 1376, 1410, 1444, 1480, 1514, 1547, 1582, 1617, 1652, 1687]\n",
      "peaks 42 [  24   75  117  180  216  270  332  376  409  448  485  519  575  615\n",
      "  658  688  723  755  794  827  859  890  931  965  995 1029 1061 1098\n",
      " 1136 1178 1232 1284 1343 1379 1410 1448 1479 1514 1548 1578 1649 1701]\n"
     ]
    },
    {
     "data": {
      "application/vnd.jupyter.widget-view+json": {
       "model_id": "9f6f57c175324a37aabc0ae9bf6fe17c",
       "version_major": 2,
       "version_minor": 0
      },
      "text/plain": [
       "Canvas(toolbar=Toolbar(toolitems=[('Home', 'Reset original view', 'home', 'home'), ('Back', 'Back to previous …"
      ]
     },
     "metadata": {},
     "output_type": "display_data"
    },
    {
     "name": "stdout",
     "output_type": "stream",
     "text": [
      "GVS_218_W_T2\n",
      "[29, 68, 108, 147, 181, 215, 248, 281, 311, 346, 375, 407, 440, 471, 504, 537, 568, 601, 632, 663, 696, 728, 760, 792, 823, 855, 887, 918, 951, 983, 1015, 1048, 1079, 1111, 1143, 1174, 1205, 1237, 1267, 1300, 1330, 1361, 1393, 1425, 1456, 1488, 1519, 1552, 1583, 1615, 1648, 1679, 1711, 1743]\n",
      "0 50\n"
     ]
    },
    {
     "data": {
      "application/vnd.jupyter.widget-view+json": {
       "model_id": "f5038c967d5c4f5eb0c3a1858df4dddd",
       "version_major": 2,
       "version_minor": 0
      },
      "text/plain": [
       "Canvas(toolbar=Toolbar(toolitems=[('Home', 'Reset original view', 'home', 'home'), ('Back', 'Back to previous …"
      ]
     },
     "metadata": {},
     "output_type": "display_data"
    },
    {
     "name": "stdout",
     "output_type": "stream",
     "text": [
      "trueHSR_indices 54 [29, 68, 96, 124, 151, 182, 211, 243, 272, 307, 336, 368, 401, 431, 464, 497, 528, 560, 590, 621, 654, 685, 717, 749, 780, 812, 844, 874, 907, 939, 971, 1004, 1035, 1066, 1097, 1128, 1159, 1191, 1221, 1254, 1284, 1315, 1346, 1378, 1409, 1440, 1471, 1503, 1534, 1566, 1599, 1630, 1662, 1693]\n",
      "peaks 43 [  36   95  125  187  245  278  308  338  399  429  466  499  531  564\n",
      "  619  662  693  729  764  806  852  884  937  973 1006 1044 1077 1116\n",
      " 1162 1194 1255 1289 1319 1349 1380 1423 1474 1505 1564 1602 1634 1664\n",
      " 1695]\n"
     ]
    },
    {
     "data": {
      "application/vnd.jupyter.widget-view+json": {
       "model_id": "782374a1db134701bcf322ac3efd4cd2",
       "version_major": 2,
       "version_minor": 0
      },
      "text/plain": [
       "Canvas(toolbar=Toolbar(toolitems=[('Home', 'Reset original view', 'home', 'home'), ('Back', 'Back to previous …"
      ]
     },
     "metadata": {},
     "output_type": "display_data"
    },
    {
     "name": "stdout",
     "output_type": "stream",
     "text": [
      "0 50\n"
     ]
    },
    {
     "data": {
      "application/vnd.jupyter.widget-view+json": {
       "model_id": "336321c3427f45e4a33851069b5e81f8",
       "version_major": 2,
       "version_minor": 0
      },
      "text/plain": [
       "Canvas(toolbar=Toolbar(toolitems=[('Home', 'Reset original view', 'home', 'home'), ('Back', 'Back to previous …"
      ]
     },
     "metadata": {},
     "output_type": "display_data"
    },
    {
     "name": "stdout",
     "output_type": "stream",
     "text": [
      "trueHSR_indices 54 [29, 68, 96, 124, 151, 182, 211, 243, 272, 307, 336, 368, 401, 431, 464, 497, 528, 560, 590, 621, 654, 685, 717, 749, 780, 812, 844, 874, 907, 939, 971, 1004, 1035, 1066, 1097, 1128, 1159, 1191, 1221, 1254, 1284, 1315, 1346, 1378, 1409, 1440, 1471, 1503, 1534, 1566, 1599, 1630, 1662, 1693]\n",
      "peaks 43 [  32   79  132  192  250  280  314  345  407  441  475  508  560  590\n",
      "  624  655  686  717  752  791  847  908  950 1004 1038 1068 1099 1157\n",
      " 1189 1231 1264 1294 1351 1388 1418 1450 1501 1531 1565 1596 1630 1671\n",
      " 1704]\n"
     ]
    },
    {
     "data": {
      "application/vnd.jupyter.widget-view+json": {
       "model_id": "204a16cf18f64a2ba68998baa4a0d327",
       "version_major": 2,
       "version_minor": 0
      },
      "text/plain": [
       "Canvas(toolbar=Toolbar(toolitems=[('Home', 'Reset original view', 'home', 'home'), ('Back', 'Back to previous …"
      ]
     },
     "metadata": {},
     "output_type": "display_data"
    },
    {
     "name": "stdout",
     "output_type": "stream",
     "text": [
      "0 50\n"
     ]
    },
    {
     "data": {
      "application/vnd.jupyter.widget-view+json": {
       "model_id": "96f823a36b974ba9b744f7338769cfb0",
       "version_major": 2,
       "version_minor": 0
      },
      "text/plain": [
       "Canvas(toolbar=Toolbar(toolitems=[('Home', 'Reset original view', 'home', 'home'), ('Back', 'Back to previous …"
      ]
     },
     "metadata": {},
     "output_type": "display_data"
    },
    {
     "name": "stdout",
     "output_type": "stream",
     "text": [
      "trueHSR_indices 54 [29, 68, 96, 124, 151, 182, 211, 243, 272, 307, 336, 368, 401, 431, 464, 497, 528, 560, 590, 621, 654, 685, 717, 749, 780, 812, 844, 874, 907, 939, 971, 1004, 1035, 1066, 1097, 1128, 1159, 1191, 1221, 1254, 1284, 1315, 1346, 1378, 1409, 1440, 1471, 1503, 1534, 1566, 1599, 1630, 1662, 1693]\n",
      "peaks 47 [  30   77  119  152  182  217  248  279  310  340  372  403  434  465\n",
      "  496  529  564  624  657  692  752  782  843  873  908  940  975 1007\n",
      " 1039 1076 1115 1161 1199 1255 1289 1320 1379 1412 1443 1474 1504 1535\n",
      " 1565 1596 1632 1673 1703]\n"
     ]
    },
    {
     "data": {
      "application/vnd.jupyter.widget-view+json": {
       "model_id": "bc1ba0554e3a46cca2b4081d37b3bff4",
       "version_major": 2,
       "version_minor": 0
      },
      "text/plain": [
       "Canvas(toolbar=Toolbar(toolitems=[('Home', 'Reset original view', 'home', 'home'), ('Back', 'Back to previous …"
      ]
     },
     "metadata": {},
     "output_type": "display_data"
    },
    {
     "name": "stdout",
     "output_type": "stream",
     "text": [
      "GVS_219_W_T1\n",
      "[15, 51, 89, 120, 148, 177, 203, 230, 258, 289, 322, 355, 388, 418, 453, 485, 516, 549, 582, 613, 646, 678, 709, 743, 773, 806, 838, 871, 902, 934, 967, 1000, 1032, 1065, 1098, 1131, 1164, 1197, 1229, 1264, 1299, 1332, 1365, 1399, 1433, 1470, 1505, 1540, 1574, 1609, 1642, 1677, 1709, 1743]\n",
      "0 83\n"
     ]
    },
    {
     "data": {
      "application/vnd.jupyter.widget-view+json": {
       "model_id": "08d0ea19562b4d1bac05d878cc1bce53",
       "version_major": 2,
       "version_minor": 0
      },
      "text/plain": [
       "Canvas(toolbar=Toolbar(toolitems=[('Home', 'Reset original view', 'home', 'home'), ('Back', 'Back to previous …"
      ]
     },
     "metadata": {},
     "output_type": "display_data"
    },
    {
     "name": "stdout",
     "output_type": "stream",
     "text": [
      "trueHSR_indices 52 [15, 51, 88, 109, 126, 153, 181, 212, 244, 277, 310, 340, 375, 406, 437, 470, 503, 534, 567, 599, 628, 662, 692, 725, 757, 790, 821, 853, 886, 918, 949, 982, 1015, 1048, 1081, 1114, 1146, 1181, 1216, 1249, 1282, 1316, 1350, 1387, 1422, 1457, 1491, 1526, 1559, 1594, 1626, 1660]\n",
      "peaks 43 [  25   62  104  157  212  245  278  312  342  375  407  444  476  534\n",
      "  568  599  662  701  759  800  832  865  918  958  990 1023 1057 1091\n",
      " 1123 1157 1193 1226 1259 1290 1352 1400 1434 1491 1528 1559 1594 1633\n",
      " 1668]\n"
     ]
    },
    {
     "data": {
      "application/vnd.jupyter.widget-view+json": {
       "model_id": "d0e5ec9b066d4a36b5a8e2c356c05d2c",
       "version_major": 2,
       "version_minor": 0
      },
      "text/plain": [
       "Canvas(toolbar=Toolbar(toolitems=[('Home', 'Reset original view', 'home', 'home'), ('Back', 'Back to previous …"
      ]
     },
     "metadata": {},
     "output_type": "display_data"
    },
    {
     "name": "stdout",
     "output_type": "stream",
     "text": [
      "0 83\n"
     ]
    },
    {
     "data": {
      "application/vnd.jupyter.widget-view+json": {
       "model_id": "5415817f9bc549c89eaf493344e661d0",
       "version_major": 2,
       "version_minor": 0
      },
      "text/plain": [
       "Canvas(toolbar=Toolbar(toolitems=[('Home', 'Reset original view', 'home', 'home'), ('Back', 'Back to previous …"
      ]
     },
     "metadata": {},
     "output_type": "display_data"
    },
    {
     "name": "stdout",
     "output_type": "stream",
     "text": [
      "trueHSR_indices 52 [15, 51, 88, 109, 126, 153, 181, 212, 244, 277, 310, 340, 375, 406, 437, 470, 503, 534, 567, 599, 628, 662, 692, 725, 757, 790, 821, 853, 886, 918, 949, 982, 1015, 1048, 1081, 1114, 1146, 1181, 1216, 1249, 1282, 1316, 1350, 1387, 1422, 1457, 1491, 1526, 1559, 1594, 1626, 1660]\n",
      "peaks 41 [  50   85  122  152  210  245  287  349  407  444  478  535  567  602\n",
      "  660  695  726  758  821  853  885  918  951  981 1020 1079 1111 1146\n",
      " 1183 1225 1259 1313 1362 1396 1432 1466 1526 1557 1596 1628 1665]\n"
     ]
    },
    {
     "data": {
      "application/vnd.jupyter.widget-view+json": {
       "model_id": "d9e2a7a4f0da4cd68257e10285e5e70d",
       "version_major": 2,
       "version_minor": 0
      },
      "text/plain": [
       "Canvas(toolbar=Toolbar(toolitems=[('Home', 'Reset original view', 'home', 'home'), ('Back', 'Back to previous …"
      ]
     },
     "metadata": {},
     "output_type": "display_data"
    },
    {
     "name": "stdout",
     "output_type": "stream",
     "text": [
      "0 83\n"
     ]
    },
    {
     "data": {
      "application/vnd.jupyter.widget-view+json": {
       "model_id": "73d7841ffb224feb8823a31d79b265b9",
       "version_major": 2,
       "version_minor": 0
      },
      "text/plain": [
       "Canvas(toolbar=Toolbar(toolitems=[('Home', 'Reset original view', 'home', 'home'), ('Back', 'Back to previous …"
      ]
     },
     "metadata": {},
     "output_type": "display_data"
    },
    {
     "name": "stdout",
     "output_type": "stream",
     "text": [
      "trueHSR_indices 52 [15, 51, 88, 109, 126, 153, 181, 212, 244, 277, 310, 340, 375, 406, 437, 470, 503, 534, 567, 599, 628, 662, 692, 725, 757, 790, 821, 853, 886, 918, 949, 982, 1015, 1048, 1081, 1114, 1146, 1181, 1216, 1249, 1282, 1316, 1350, 1387, 1422, 1457, 1491, 1526, 1559, 1594, 1626, 1660]\n",
      "peaks 43 [  21   53   85  122  152  212  247  287  343  378  415  448  480  534\n",
      "  568  599  663  701  758  798  858  891  927  958  992 1024 1058 1113\n",
      " 1153 1191 1226 1259 1289 1320 1358 1425 1457 1495 1532 1568 1604 1635\n",
      " 1669]\n"
     ]
    },
    {
     "data": {
      "application/vnd.jupyter.widget-view+json": {
       "model_id": "9a5d42e6606e4b5cb9d5def7ca2d91f0",
       "version_major": 2,
       "version_minor": 0
      },
      "text/plain": [
       "Canvas(toolbar=Toolbar(toolitems=[('Home', 'Reset original view', 'home', 'home'), ('Back', 'Back to previous …"
      ]
     },
     "metadata": {},
     "output_type": "display_data"
    },
    {
     "name": "stdout",
     "output_type": "stream",
     "text": [
      "GVS_219_W_T2\n",
      "[32, 70, 113, 153, 188, 213, 241, 268, 294, 323, 353, 387, 418, 450, 482, 511, 541, 571, 603, 634, 666, 696, 726, 757, 788, 818, 850, 881, 911, 941, 972, 1003, 1035, 1065, 1096, 1127, 1158, 1189, 1218, 1250, 1282, 1312, 1345, 1374, 1405, 1436, 1468, 1499, 1530, 1561, 1592, 1623, 1654, 1685, 1715]\n",
      "0 150\n"
     ]
    },
    {
     "data": {
      "application/vnd.jupyter.widget-view+json": {
       "model_id": "0f3f11adf6b143bba7c1ef1fe5617638",
       "version_major": 2,
       "version_minor": 0
      },
      "text/plain": [
       "Canvas(toolbar=Toolbar(toolitems=[('Home', 'Reset original view', 'home', 'home'), ('Back', 'Back to previous …"
      ]
     },
     "metadata": {},
     "output_type": "display_data"
    },
    {
     "name": "stdout",
     "output_type": "stream",
     "text": [
      "trueHSR_indices 51 [32, 70, 82, 112, 129, 150, 179, 209, 243, 274, 305, 337, 366, 396, 426, 458, 489, 521, 551, 581, 612, 643, 673, 705, 736, 766, 796, 827, 858, 890, 920, 951, 1012, 1042, 1071, 1103, 1135, 1165, 1198, 1226, 1257, 1288, 1320, 1351, 1382, 1413, 1443, 1474, 1504, 1535, 1565]\n",
      "peaks 40 [  35   87  124  179  211  243  276  306  338  399  459  492  528  558\n",
      "  591  621  683  716  768  802  844  890  920  955  991 1043 1073 1103\n",
      " 1137 1167 1198 1229 1270 1300 1353 1384 1423 1475 1512 1566]\n"
     ]
    },
    {
     "data": {
      "application/vnd.jupyter.widget-view+json": {
       "model_id": "931cb61568eb49d0b6dfe0fd99735f1b",
       "version_major": 2,
       "version_minor": 0
      },
      "text/plain": [
       "Canvas(toolbar=Toolbar(toolitems=[('Home', 'Reset original view', 'home', 'home'), ('Back', 'Back to previous …"
      ]
     },
     "metadata": {},
     "output_type": "display_data"
    },
    {
     "name": "stdout",
     "output_type": "stream",
     "text": [
      "0 150\n"
     ]
    },
    {
     "data": {
      "application/vnd.jupyter.widget-view+json": {
       "model_id": "21f8166cbf0f41028b4a7249898e7e2e",
       "version_major": 2,
       "version_minor": 0
      },
      "text/plain": [
       "Canvas(toolbar=Toolbar(toolitems=[('Home', 'Reset original view', 'home', 'home'), ('Back', 'Back to previous …"
      ]
     },
     "metadata": {},
     "output_type": "display_data"
    },
    {
     "name": "stdout",
     "output_type": "stream",
     "text": [
      "trueHSR_indices 51 [32, 70, 82, 112, 129, 150, 179, 209, 243, 274, 305, 337, 366, 396, 426, 458, 489, 521, 551, 581, 612, 643, 673, 705, 736, 766, 796, 827, 858, 890, 920, 951, 1012, 1042, 1071, 1103, 1135, 1165, 1198, 1226, 1257, 1288, 1320, 1351, 1382, 1413, 1443, 1474, 1504, 1535, 1565]\n",
      "peaks 39 [  34   79  135  177  212  244  280  311  341  376  407  458  492  553\n",
      "  613  653  685  735  766  806  838  889  919  960 1012 1042 1103 1135\n",
      " 1165 1197 1236 1290 1352 1383 1413 1444 1474 1535 1577]\n"
     ]
    },
    {
     "data": {
      "application/vnd.jupyter.widget-view+json": {
       "model_id": "08cd251b675848b29a31940e0789bb53",
       "version_major": 2,
       "version_minor": 0
      },
      "text/plain": [
       "Canvas(toolbar=Toolbar(toolitems=[('Home', 'Reset original view', 'home', 'home'), ('Back', 'Back to previous …"
      ]
     },
     "metadata": {},
     "output_type": "display_data"
    },
    {
     "name": "stdout",
     "output_type": "stream",
     "text": [
      "0 150\n"
     ]
    },
    {
     "data": {
      "application/vnd.jupyter.widget-view+json": {
       "model_id": "c1b74a0651be4e0c9eb45a3e8be2ee9e",
       "version_major": 2,
       "version_minor": 0
      },
      "text/plain": [
       "Canvas(toolbar=Toolbar(toolitems=[('Home', 'Reset original view', 'home', 'home'), ('Back', 'Back to previous …"
      ]
     },
     "metadata": {},
     "output_type": "display_data"
    },
    {
     "name": "stdout",
     "output_type": "stream",
     "text": [
      "trueHSR_indices 51 [32, 70, 82, 112, 129, 150, 179, 209, 243, 274, 305, 337, 366, 396, 426, 458, 489, 521, 551, 581, 612, 643, 673, 705, 736, 766, 796, 827, 858, 890, 920, 951, 1012, 1042, 1071, 1103, 1135, 1165, 1198, 1226, 1257, 1288, 1320, 1351, 1382, 1413, 1443, 1474, 1504, 1535, 1565]\n",
      "peaks 39 [  34   67  104  160  219  276  316  369  402  432  469  522  560  591\n",
      "  650  685  742  799  833  865  898  931  984 1017 1047 1078 1110 1143\n",
      " 1200 1236 1266 1298 1328 1385 1417 1448 1505 1537 1577]\n"
     ]
    },
    {
     "data": {
      "application/vnd.jupyter.widget-view+json": {
       "model_id": "6214526d4a1a42e3aa75b603347217ed",
       "version_major": 2,
       "version_minor": 0
      },
      "text/plain": [
       "Canvas(toolbar=Toolbar(toolitems=[('Home', 'Reset original view', 'home', 'home'), ('Back', 'Back to previous …"
      ]
     },
     "metadata": {},
     "output_type": "display_data"
    },
    {
     "name": "stdout",
     "output_type": "stream",
     "text": [
      "GVS_310_T_T1\n",
      "[11, 55, 101, 149, 200, 247, 295, 348, 393, 441, 488, 538, 588, 636, 687, 737, 787, 839, 897]\n",
      "0 7\n"
     ]
    },
    {
     "data": {
      "application/vnd.jupyter.widget-view+json": {
       "model_id": "75488ddafa5c4726b29785cf229cc845",
       "version_major": 2,
       "version_minor": 0
      },
      "text/plain": [
       "Canvas(toolbar=Toolbar(toolitems=[('Home', 'Reset original view', 'home', 'home'), ('Back', 'Back to previous …"
      ]
     },
     "metadata": {},
     "output_type": "display_data"
    },
    {
     "name": "stdout",
     "output_type": "stream",
     "text": [
      "trueHSR_indices 19 [11, 54, 100, 148, 199, 245, 293, 346, 391, 439, 486, 536, 586, 634, 685, 734, 781, 832, 890]\n",
      "peaks 21 [ 38  70 119 162 221 272 303 336 387 440 491 534 584 615 649 681 726 771\n",
      " 814 859 905]\n"
     ]
    },
    {
     "data": {
      "application/vnd.jupyter.widget-view+json": {
       "model_id": "ece14839fa9248868419000ab79d2cae",
       "version_major": 2,
       "version_minor": 0
      },
      "text/plain": [
       "Canvas(toolbar=Toolbar(toolitems=[('Home', 'Reset original view', 'home', 'home'), ('Back', 'Back to previous …"
      ]
     },
     "metadata": {},
     "output_type": "display_data"
    },
    {
     "name": "stdout",
     "output_type": "stream",
     "text": [
      "0 7\n"
     ]
    },
    {
     "data": {
      "application/vnd.jupyter.widget-view+json": {
       "model_id": "ef91623f6432454e818d1b0995a55bfd",
       "version_major": 2,
       "version_minor": 0
      },
      "text/plain": [
       "Canvas(toolbar=Toolbar(toolitems=[('Home', 'Reset original view', 'home', 'home'), ('Back', 'Back to previous …"
      ]
     },
     "metadata": {},
     "output_type": "display_data"
    },
    {
     "name": "stdout",
     "output_type": "stream",
     "text": [
      "trueHSR_indices 19 [11, 54, 100, 148, 199, 245, 293, 346, 391, 439, 486, 536, 586, 634, 685, 734, 781, 832, 890]\n",
      "peaks 23 [ 43  83 121 184 217 276 315 353 385 420 455 501 552 583 616 647 679 726\n",
      " 783 814 857 889 926]\n"
     ]
    },
    {
     "data": {
      "application/vnd.jupyter.widget-view+json": {
       "model_id": "1a30e5c56eef47ae91b3b9ee2652e245",
       "version_major": 2,
       "version_minor": 0
      },
      "text/plain": [
       "Canvas(toolbar=Toolbar(toolitems=[('Home', 'Reset original view', 'home', 'home'), ('Back', 'Back to previous …"
      ]
     },
     "metadata": {},
     "output_type": "display_data"
    },
    {
     "name": "stdout",
     "output_type": "stream",
     "text": [
      "0 7\n"
     ]
    },
    {
     "data": {
      "application/vnd.jupyter.widget-view+json": {
       "model_id": "055c10ce2e9b4705870ac83eb64b2382",
       "version_major": 2,
       "version_minor": 0
      },
      "text/plain": [
       "Canvas(toolbar=Toolbar(toolitems=[('Home', 'Reset original view', 'home', 'home'), ('Back', 'Back to previous …"
      ]
     },
     "metadata": {},
     "output_type": "display_data"
    },
    {
     "name": "stdout",
     "output_type": "stream",
     "text": [
      "trueHSR_indices 19 [11, 54, 100, 148, 199, 245, 293, 346, 391, 439, 486, 536, 586, 634, 685, 734, 781, 832, 890]\n",
      "peaks 19 [ 38  70 118 179 219 277 336 386 437 497 552 584 645 678 729 771 815 858\n",
      " 904]\n"
     ]
    },
    {
     "data": {
      "application/vnd.jupyter.widget-view+json": {
       "model_id": "55d68aaa3be949ba8247692f3882f04d",
       "version_major": 2,
       "version_minor": 0
      },
      "text/plain": [
       "Canvas(toolbar=Toolbar(toolitems=[('Home', 'Reset original view', 'home', 'home'), ('Back', 'Back to previous …"
      ]
     },
     "metadata": {},
     "output_type": "display_data"
    },
    {
     "name": "stdout",
     "output_type": "stream",
     "text": [
      "GVS_310_T_T2\n",
      "[21, 79, 136, 202, 282, 353, 418, 470, 530, 581, 633, 686, 739, 791, 842, 888, 936, 981, 1025, 1067, 1112, 1159, 1207]\n",
      "0 8\n"
     ]
    },
    {
     "data": {
      "application/vnd.jupyter.widget-view+json": {
       "model_id": "a8262a50b6ea49d5b5ae1672d59f8798",
       "version_major": 2,
       "version_minor": 0
      },
      "text/plain": [
       "Canvas(toolbar=Toolbar(toolitems=[('Home', 'Reset original view', 'home', 'home'), ('Back', 'Back to previous …"
      ]
     },
     "metadata": {},
     "output_type": "display_data"
    },
    {
     "name": "stdout",
     "output_type": "stream",
     "text": [
      "trueHSR_indices 23 [21, 77, 133, 197, 277, 348, 412, 464, 523, 574, 626, 679, 731, 783, 834, 880, 928, 973, 1017, 1059, 1104, 1151, 1199]\n",
      "peaks 31 [   9   41  100  132  164  220  281  336  369  400  452  482  513  567\n",
      "  621  653  685  715  764  794  832  865  895  945  977 1013 1043 1075\n",
      " 1125 1169 1208]\n"
     ]
    },
    {
     "data": {
      "application/vnd.jupyter.widget-view+json": {
       "model_id": "1a08a120d3554713b0e9d5b16e310ef7",
       "version_major": 2,
       "version_minor": 0
      },
      "text/plain": [
       "Canvas(toolbar=Toolbar(toolitems=[('Home', 'Reset original view', 'home', 'home'), ('Back', 'Back to previous …"
      ]
     },
     "metadata": {},
     "output_type": "display_data"
    },
    {
     "name": "stdout",
     "output_type": "stream",
     "text": [
      "0 8\n"
     ]
    },
    {
     "data": {
      "application/vnd.jupyter.widget-view+json": {
       "model_id": "350bafce436243e7a80d3ecac76b6a9e",
       "version_major": 2,
       "version_minor": 0
      },
      "text/plain": [
       "Canvas(toolbar=Toolbar(toolitems=[('Home', 'Reset original view', 'home', 'home'), ('Back', 'Back to previous …"
      ]
     },
     "metadata": {},
     "output_type": "display_data"
    },
    {
     "name": "stdout",
     "output_type": "stream",
     "text": [
      "trueHSR_indices 23 [21, 77, 133, 197, 277, 348, 412, 464, 523, 574, 626, 679, 731, 783, 834, 880, 928, 973, 1017, 1059, 1104, 1151, 1199]\n",
      "peaks 30 [   8   39   81  111  159  218  258  300  334  366  397  432  474  531\n",
      "  563  606  644  680  714  744  777  817  852  913  968 1015 1072 1115\n",
      " 1168 1221]\n"
     ]
    },
    {
     "data": {
      "application/vnd.jupyter.widget-view+json": {
       "model_id": "4dae0a25f5b64f36bf20c4fb01296459",
       "version_major": 2,
       "version_minor": 0
      },
      "text/plain": [
       "Canvas(toolbar=Toolbar(toolitems=[('Home', 'Reset original view', 'home', 'home'), ('Back', 'Back to previous …"
      ]
     },
     "metadata": {},
     "output_type": "display_data"
    },
    {
     "name": "stdout",
     "output_type": "stream",
     "text": [
      "0 8\n"
     ]
    },
    {
     "data": {
      "application/vnd.jupyter.widget-view+json": {
       "model_id": "db4052c6d7114a03b2910f84a49c67b7",
       "version_major": 2,
       "version_minor": 0
      },
      "text/plain": [
       "Canvas(toolbar=Toolbar(toolitems=[('Home', 'Reset original view', 'home', 'home'), ('Back', 'Back to previous …"
      ]
     },
     "metadata": {},
     "output_type": "display_data"
    },
    {
     "name": "stdout",
     "output_type": "stream",
     "text": [
      "trueHSR_indices 23 [21, 77, 133, 197, 277, 348, 412, 464, 523, 574, 626, 679, 731, 783, 834, 880, 928, 973, 1017, 1059, 1104, 1151, 1199]\n",
      "peaks 30 [  39   94  157  190  221  281  335  369  401  451  482  513  566  618\n",
      "  652  695  730  760  794  829  865  898  945  977 1013 1055 1107 1142\n",
      " 1172 1208]\n"
     ]
    },
    {
     "data": {
      "application/vnd.jupyter.widget-view+json": {
       "model_id": "30c9f4f76aa547bbb12a182c004869bb",
       "version_major": 2,
       "version_minor": 0
      },
      "text/plain": [
       "Canvas(toolbar=Toolbar(toolitems=[('Home', 'Reset original view', 'home', 'home'), ('Back', 'Back to previous …"
      ]
     },
     "metadata": {},
     "output_type": "display_data"
    },
    {
     "name": "stdout",
     "output_type": "stream",
     "text": [
      "GVS_311_T_T1\n",
      "[35, 71, 107, 143, 179, 214, 250, 287, 320, 356, 392, 427, 462, 500, 536, 570, 606, 641, 674, 706, 737, 769, 800, 829, 860, 889, 917, 947, 977]\n",
      "0 92\n"
     ]
    },
    {
     "data": {
      "application/vnd.jupyter.widget-view+json": {
       "model_id": "0988bf277b494f6b8a7c1bd6171b64c8",
       "version_major": 2,
       "version_minor": 0
      },
      "text/plain": [
       "Canvas(toolbar=Toolbar(toolitems=[('Home', 'Reset original view', 'home', 'home'), ('Back', 'Back to previous …"
      ]
     },
     "metadata": {},
     "output_type": "display_data"
    },
    {
     "name": "stdout",
     "output_type": "stream",
     "text": [
      "trueHSR_indices 25 [35, 71, 96, 166, 197, 228, 316, 346, 371, 401, 438, 472, 504, 537, 569, 627, 656, 687, 716, 741, 771, 799, 825, 855, 885]\n",
      "peaks 25 [  5  52  96 141 175 206 241 286 318 367 398 430 466 497 529 562 592 625\n",
      " 658 692 723 756 791 830 865]\n"
     ]
    },
    {
     "data": {
      "application/vnd.jupyter.widget-view+json": {
       "model_id": "5b7e429c825649cf94650ab2bc70466c",
       "version_major": 2,
       "version_minor": 0
      },
      "text/plain": [
       "Canvas(toolbar=Toolbar(toolitems=[('Home', 'Reset original view', 'home', 'home'), ('Back', 'Back to previous …"
      ]
     },
     "metadata": {},
     "output_type": "display_data"
    },
    {
     "name": "stdout",
     "output_type": "stream",
     "text": [
      "0 92\n"
     ]
    },
    {
     "data": {
      "application/vnd.jupyter.widget-view+json": {
       "model_id": "9cf3111fcd8041f5ae684af8a2cad720",
       "version_major": 2,
       "version_minor": 0
      },
      "text/plain": [
       "Canvas(toolbar=Toolbar(toolitems=[('Home', 'Reset original view', 'home', 'home'), ('Back', 'Back to previous …"
      ]
     },
     "metadata": {},
     "output_type": "display_data"
    },
    {
     "name": "stdout",
     "output_type": "stream",
     "text": [
      "trueHSR_indices 25 [35, 71, 96, 166, 197, 228, 316, 346, 371, 401, 438, 472, 504, 537, 569, 627, 656, 687, 716, 741, 771, 799, 825, 855, 885]\n",
      "peaks 24 [  8  38  96 139 177 211 243 287 342 388 423 456 491 530 564 617 649 684\n",
      " 720 750 785 821 856 889]\n"
     ]
    },
    {
     "data": {
      "application/vnd.jupyter.widget-view+json": {
       "model_id": "b1224cd9535e499bb41c711ab995523b",
       "version_major": 2,
       "version_minor": 0
      },
      "text/plain": [
       "Canvas(toolbar=Toolbar(toolitems=[('Home', 'Reset original view', 'home', 'home'), ('Back', 'Back to previous …"
      ]
     },
     "metadata": {},
     "output_type": "display_data"
    },
    {
     "name": "stdout",
     "output_type": "stream",
     "text": [
      "0 92\n"
     ]
    },
    {
     "data": {
      "application/vnd.jupyter.widget-view+json": {
       "model_id": "5393dd8ede5f442fb90581b485fd9668",
       "version_major": 2,
       "version_minor": 0
      },
      "text/plain": [
       "Canvas(toolbar=Toolbar(toolitems=[('Home', 'Reset original view', 'home', 'home'), ('Back', 'Back to previous …"
      ]
     },
     "metadata": {},
     "output_type": "display_data"
    },
    {
     "name": "stdout",
     "output_type": "stream",
     "text": [
      "trueHSR_indices 25 [35, 71, 96, 166, 197, 228, 316, 346, 371, 401, 438, 472, 504, 537, 569, 627, 656, 687, 716, 741, 771, 799, 825, 855, 885]\n",
      "peaks 23 [ 12  59  99 140 183 222 286 339 369 400 436 497 529 560 591 622 653 692\n",
      " 722 756 790 823 862]\n"
     ]
    },
    {
     "data": {
      "application/vnd.jupyter.widget-view+json": {
       "model_id": "4d1f2fe10c6f4f4996d4ed6f07368edf",
       "version_major": 2,
       "version_minor": 0
      },
      "text/plain": [
       "Canvas(toolbar=Toolbar(toolitems=[('Home', 'Reset original view', 'home', 'home'), ('Back', 'Back to previous …"
      ]
     },
     "metadata": {},
     "output_type": "display_data"
    },
    {
     "name": "stdout",
     "output_type": "stream",
     "text": [
      "GVS_311_T_T2\n",
      "[53, 100, 139, 180, 217, 258, 301, 346, 387, 428, 468, 507, 547, 584, 620, 656, 690, 726, 757, 791, 822, 857, 890, 924, 956, 991, 1026, 1062, 1094, 1125, 1161, 1196, 1227, 1261, 1295, 1329, 1361, 1395, 1429, 1462, 1494, 1529, 1561, 1595, 1627, 1657, 1690, 1719, 1751]\n",
      "0 194\n"
     ]
    },
    {
     "data": {
      "application/vnd.jupyter.widget-view+json": {
       "model_id": "57953df532e949a8a450f27908d34ed2",
       "version_major": 2,
       "version_minor": 0
      },
      "text/plain": [
       "Canvas(toolbar=Toolbar(toolitems=[('Home', 'Reset original view', 'home', 'home'), ('Back', 'Back to previous …"
      ]
     },
     "metadata": {},
     "output_type": "display_data"
    },
    {
     "name": "stdout",
     "output_type": "stream",
     "text": [
      "trueHSR_indices 42 [45, 88, 121, 155, 187, 263, 303, 340, 379, 446, 503, 584, 643, 674, 702, 731, 760, 789, 818, 849, 882, 913, 942, 973, 1005, 1037, 1068, 1101, 1134, 1165, 1197, 1229, 1261, 1292, 1321, 1349, 1380, 1410, 1441, 1466, 1499, 1527]\n",
      "peaks 38 [  29   59   94  142  193  232  271  309  368  418  456  512  553  583\n",
      "  620  651  681  748  778  826  860  891  922  984 1026 1059 1093 1140\n",
      " 1170 1208 1238 1269 1304 1340 1385 1444 1476 1539]\n"
     ]
    },
    {
     "data": {
      "application/vnd.jupyter.widget-view+json": {
       "model_id": "488980221dde4976beff6dd2cdea4b93",
       "version_major": 2,
       "version_minor": 0
      },
      "text/plain": [
       "Canvas(toolbar=Toolbar(toolitems=[('Home', 'Reset original view', 'home', 'home'), ('Back', 'Back to previous …"
      ]
     },
     "metadata": {},
     "output_type": "display_data"
    },
    {
     "name": "stdout",
     "output_type": "stream",
     "text": [
      "0 194\n"
     ]
    },
    {
     "data": {
      "application/vnd.jupyter.widget-view+json": {
       "model_id": "e8a7469de6584d05b52009f345f249a6",
       "version_major": 2,
       "version_minor": 0
      },
      "text/plain": [
       "Canvas(toolbar=Toolbar(toolitems=[('Home', 'Reset original view', 'home', 'home'), ('Back', 'Back to previous …"
      ]
     },
     "metadata": {},
     "output_type": "display_data"
    },
    {
     "name": "stdout",
     "output_type": "stream",
     "text": [
      "trueHSR_indices 42 [45, 88, 121, 155, 187, 263, 303, 340, 379, 446, 503, 584, 643, 674, 702, 731, 760, 789, 818, 849, 882, 913, 942, 973, 1005, 1037, 1068, 1101, 1134, 1165, 1197, 1229, 1261, 1292, 1321, 1349, 1380, 1410, 1441, 1466, 1499, 1527]\n",
      "peaks 37 [  12   49   86  119  162  197  229  264  304  339  378  408  447  509\n",
      "  563  593  623  672  732  797  850  884  924  956  986 1037 1071 1103\n",
      " 1165 1201 1264 1298 1351 1390 1424 1472 1510]\n"
     ]
    },
    {
     "data": {
      "application/vnd.jupyter.widget-view+json": {
       "model_id": "6a57403ebdf54422a7d24f8b077d1b14",
       "version_major": 2,
       "version_minor": 0
      },
      "text/plain": [
       "Canvas(toolbar=Toolbar(toolitems=[('Home', 'Reset original view', 'home', 'home'), ('Back', 'Back to previous …"
      ]
     },
     "metadata": {},
     "output_type": "display_data"
    },
    {
     "name": "stdout",
     "output_type": "stream",
     "text": [
      "0 194\n"
     ]
    },
    {
     "data": {
      "application/vnd.jupyter.widget-view+json": {
       "model_id": "feb78a6a47c74289ac5869ff278af9f7",
       "version_major": 2,
       "version_minor": 0
      },
      "text/plain": [
       "Canvas(toolbar=Toolbar(toolitems=[('Home', 'Reset original view', 'home', 'home'), ('Back', 'Back to previous …"
      ]
     },
     "metadata": {},
     "output_type": "display_data"
    },
    {
     "name": "stdout",
     "output_type": "stream",
     "text": [
      "trueHSR_indices 42 [45, 88, 121, 155, 187, 263, 303, 340, 379, 446, 503, 584, 643, 674, 702, 731, 760, 789, 818, 849, 882, 913, 942, 973, 1005, 1037, 1068, 1101, 1134, 1165, 1197, 1229, 1261, 1292, 1321, 1349, 1380, 1410, 1441, 1466, 1499, 1527]\n",
      "peaks 39 [  20   56   89  122  155  188  235  270  303  339  381  418  457  512\n",
      "  553  584  644  681  731  769  828  860  904  951  986 1026 1075 1108\n",
      " 1140 1205 1253 1294 1326 1360 1392 1444 1475 1510 1541]\n"
     ]
    },
    {
     "data": {
      "application/vnd.jupyter.widget-view+json": {
       "model_id": "23488325241543b99f0366229c1ffcb5",
       "version_major": 2,
       "version_minor": 0
      },
      "text/plain": [
       "Canvas(toolbar=Toolbar(toolitems=[('Home', 'Reset original view', 'home', 'home'), ('Back', 'Back to previous …"
      ]
     },
     "metadata": {},
     "output_type": "display_data"
    },
    {
     "name": "stdout",
     "output_type": "stream",
     "text": [
      "GVS_312_T_T1\n",
      "[Errno 2] No such file or directory: 'C:\\\\Users\\\\purpl\\\\Box\\\\Gait Video Project\\\\GaitVideoData\\\\video\\\\multi_view_merged_data\\\\\\\\MS\\\\beam_walking\\\\GVS_312_T_T1\\\\hip_height_normalized\\\\\\\\HSRframes.txt'\n",
      "GVS_312_T_T2\n",
      "[Errno 2] No such file or directory: 'C:\\\\Users\\\\purpl\\\\Box\\\\Gait Video Project\\\\GaitVideoData\\\\video\\\\multi_view_merged_data\\\\\\\\MS\\\\beam_walking\\\\GVS_312_T_T2\\\\hip_height_normalized\\\\\\\\HSRframes.txt'\n",
      "GVS_314_T_T1\n",
      "[110, 181, 260, 454, 560, 670, 788, 935, 1054, 1169, 1291, 1420, 1529, 1602, 1672, 1723]\n",
      "0 10\n"
     ]
    },
    {
     "data": {
      "application/vnd.jupyter.widget-view+json": {
       "model_id": "9b01b3d4739e49b790f5378256a6f2f0",
       "version_major": 2,
       "version_minor": 0
      },
      "text/plain": [
       "Canvas(toolbar=Toolbar(toolitems=[('Home', 'Reset original view', 'home', 'home'), ('Back', 'Back to previous …"
      ]
     },
     "metadata": {},
     "output_type": "display_data"
    },
    {
     "name": "stdout",
     "output_type": "stream",
     "text": [
      "trueHSR_indices 16 [108, 179, 258, 451, 556, 665, 783, 928, 1047, 1161, 1282, 1410, 1519, 1592, 1662, 1713]\n",
      "peaks 40 [  25   63  102  146  181  236  276  340  389  419  461  521  571  619\n",
      "  660  690  735  777  825  869  924  959 1010 1046 1097 1132 1165 1222\n",
      " 1280 1331 1371 1411 1454 1490 1522 1564 1595 1625 1661 1713]\n"
     ]
    },
    {
     "data": {
      "application/vnd.jupyter.widget-view+json": {
       "model_id": "e0a8e4cfe4f547d791af85e9cb25041a",
       "version_major": 2,
       "version_minor": 0
      },
      "text/plain": [
       "Canvas(toolbar=Toolbar(toolitems=[('Home', 'Reset original view', 'home', 'home'), ('Back', 'Back to previous …"
      ]
     },
     "metadata": {},
     "output_type": "display_data"
    },
    {
     "name": "stdout",
     "output_type": "stream",
     "text": [
      "0 10\n"
     ]
    },
    {
     "data": {
      "application/vnd.jupyter.widget-view+json": {
       "model_id": "e25f277a7b864680a061ab1556733192",
       "version_major": 2,
       "version_minor": 0
      },
      "text/plain": [
       "Canvas(toolbar=Toolbar(toolitems=[('Home', 'Reset original view', 'home', 'home'), ('Back', 'Back to previous …"
      ]
     },
     "metadata": {},
     "output_type": "display_data"
    },
    {
     "name": "stdout",
     "output_type": "stream",
     "text": [
      "trueHSR_indices 16 [108, 179, 258, 451, 556, 665, 783, 928, 1047, 1161, 1282, 1410, 1519, 1592, 1662, 1713]\n",
      "peaks 42 [   8   63   95  131  186  225  265  305  344  376  418  467  512  574\n",
      "  614  679  723  757  799  832  867  922  962 1001 1046 1090 1125 1159\n",
      " 1204 1234 1277 1320 1358 1388 1427 1468 1518 1564 1607 1637 1670 1729]\n"
     ]
    },
    {
     "data": {
      "application/vnd.jupyter.widget-view+json": {
       "model_id": "64fdbb0ecafc4df99e17e15b03746847",
       "version_major": 2,
       "version_minor": 0
      },
      "text/plain": [
       "Canvas(toolbar=Toolbar(toolitems=[('Home', 'Reset original view', 'home', 'home'), ('Back', 'Back to previous …"
      ]
     },
     "metadata": {},
     "output_type": "display_data"
    },
    {
     "name": "stdout",
     "output_type": "stream",
     "text": [
      "0 10\n"
     ]
    },
    {
     "data": {
      "application/vnd.jupyter.widget-view+json": {
       "model_id": "261fe14c640b4a2cb0ebda15593f3081",
       "version_major": 2,
       "version_minor": 0
      },
      "text/plain": [
       "Canvas(toolbar=Toolbar(toolitems=[('Home', 'Reset original view', 'home', 'home'), ('Back', 'Back to previous …"
      ]
     },
     "metadata": {},
     "output_type": "display_data"
    },
    {
     "name": "stdout",
     "output_type": "stream",
     "text": [
      "trueHSR_indices 16 [108, 179, 258, 451, 556, 665, 783, 928, 1047, 1161, 1282, 1410, 1519, 1592, 1662, 1713]\n",
      "peaks 43 [   8   40   76  125  163  202  261  297  329  367  418  456  486  516\n",
      "  571  603  651  689  723  779  832  869  904  939  971 1005 1047 1085\n",
      " 1127 1161 1199 1231 1283 1323 1388 1437 1488 1522 1564 1595 1643 1675\n",
      " 1713]\n"
     ]
    },
    {
     "data": {
      "application/vnd.jupyter.widget-view+json": {
       "model_id": "07d510d2ae3b485185ad51a50b5af8d9",
       "version_major": 2,
       "version_minor": 0
      },
      "text/plain": [
       "Canvas(toolbar=Toolbar(toolitems=[('Home', 'Reset original view', 'home', 'home'), ('Back', 'Back to previous …"
      ]
     },
     "metadata": {},
     "output_type": "display_data"
    },
    {
     "name": "stdout",
     "output_type": "stream",
     "text": [
      "GVS_314_T_T2\n",
      "[45, 130, 244, 336, 427, 519, 616, 773, 924, 1116, 1450]\n",
      "0 5\n"
     ]
    },
    {
     "data": {
      "application/vnd.jupyter.widget-view+json": {
       "model_id": "d8255bd4749641e5a89e0771b1b5a420",
       "version_major": 2,
       "version_minor": 0
      },
      "text/plain": [
       "Canvas(toolbar=Toolbar(toolitems=[('Home', 'Reset original view', 'home', 'home'), ('Back', 'Back to previous …"
      ]
     },
     "metadata": {},
     "output_type": "display_data"
    },
    {
     "name": "stdout",
     "output_type": "stream",
     "text": [
      "trueHSR_indices 11 [45, 130, 244, 335, 425, 516, 612, 769, 920, 1111, 1445]\n",
      "peaks 39 [   9   45   80  127  163  207  244  280  314  350  388  421  455  512\n",
      "  554  607  653  689  730  763  818  861  914  945  979 1022 1069 1105\n",
      " 1139 1183 1218 1258 1296 1346 1404 1437 1490 1535 1566]\n"
     ]
    },
    {
     "data": {
      "application/vnd.jupyter.widget-view+json": {
       "model_id": "7bfa7324fcf2422c892eecdc3cb3137f",
       "version_major": 2,
       "version_minor": 0
      },
      "text/plain": [
       "Canvas(toolbar=Toolbar(toolitems=[('Home', 'Reset original view', 'home', 'home'), ('Back', 'Back to previous …"
      ]
     },
     "metadata": {},
     "output_type": "display_data"
    },
    {
     "name": "stdout",
     "output_type": "stream",
     "text": [
      "0 5\n"
     ]
    },
    {
     "data": {
      "application/vnd.jupyter.widget-view+json": {
       "model_id": "5398e28a38c64129995dadf99f614efa",
       "version_major": 2,
       "version_minor": 0
      },
      "text/plain": [
       "Canvas(toolbar=Toolbar(toolitems=[('Home', 'Reset original view', 'home', 'home'), ('Back', 'Back to previous …"
      ]
     },
     "metadata": {},
     "output_type": "display_data"
    },
    {
     "name": "stdout",
     "output_type": "stream",
     "text": [
      "trueHSR_indices 11 [45, 130, 244, 335, 425, 516, 612, 769, 920, 1111, 1445]\n",
      "peaks 37 [   9   60  104  144  175  215  251  281  341  410  442  477  534  584\n",
      "  626  673  705  766  800  838  897  928  960 1010 1041 1081 1120 1154\n",
      " 1189 1250 1289 1335 1372 1405 1449 1512 1566]\n"
     ]
    },
    {
     "data": {
      "application/vnd.jupyter.widget-view+json": {
       "model_id": "33679741ae664724a18fd00e66d26d5a",
       "version_major": 2,
       "version_minor": 0
      },
      "text/plain": [
       "Canvas(toolbar=Toolbar(toolitems=[('Home', 'Reset original view', 'home', 'home'), ('Back', 'Back to previous …"
      ]
     },
     "metadata": {},
     "output_type": "display_data"
    },
    {
     "name": "stdout",
     "output_type": "stream",
     "text": [
      "0 5\n"
     ]
    },
    {
     "data": {
      "application/vnd.jupyter.widget-view+json": {
       "model_id": "d98db757bc3344a6ac382d1463c86de1",
       "version_major": 2,
       "version_minor": 0
      },
      "text/plain": [
       "Canvas(toolbar=Toolbar(toolitems=[('Home', 'Reset original view', 'home', 'home'), ('Back', 'Back to previous …"
      ]
     },
     "metadata": {},
     "output_type": "display_data"
    },
    {
     "name": "stdout",
     "output_type": "stream",
     "text": [
      "trueHSR_indices 11 [45, 130, 244, 335, 425, 516, 612, 769, 920, 1111, 1445]\n",
      "peaks 41 [   9   50   98  132  163  210  244  281  314  347  397  431  477  516\n",
      "  549  596  634  672  705  740  775  806  844  879  916  957 1010 1041\n",
      " 1079 1109 1146 1184 1219 1250 1289 1348 1390 1442 1489 1523 1560]\n"
     ]
    },
    {
     "data": {
      "application/vnd.jupyter.widget-view+json": {
       "model_id": "75f6d8c94e344896bc0d81c77a8826b8",
       "version_major": 2,
       "version_minor": 0
      },
      "text/plain": [
       "Canvas(toolbar=Toolbar(toolitems=[('Home', 'Reset original view', 'home', 'home'), ('Back', 'Back to previous …"
      ]
     },
     "metadata": {},
     "output_type": "display_data"
    },
    {
     "name": "stdout",
     "output_type": "stream",
     "text": [
      "GVS_318_T_T1\n",
      "[Errno 2] No such file or directory: 'C:\\\\Users\\\\purpl\\\\Box\\\\Gait Video Project\\\\GaitVideoData\\\\video\\\\multi_view_merged_data\\\\\\\\MS\\\\beam_walking\\\\GVS_318_T_T1\\\\hip_height_normalized\\\\\\\\HSRframes.txt'\n",
      "GVS_318_T_T2\n",
      "[Errno 2] No such file or directory: 'C:\\\\Users\\\\purpl\\\\Box\\\\Gait Video Project\\\\GaitVideoData\\\\video\\\\multi_view_merged_data\\\\\\\\MS\\\\beam_walking\\\\GVS_318_T_T2\\\\hip_height_normalized\\\\\\\\HSRframes.txt'\n",
      "GVS_320_T_T1\n",
      "[37, 78, 120, 164, 205, 248, 288, 333, 375, 418, 459, 503, 544, 586, 629, 670, 713, 754, 795, 837, 880, 921, 964, 1007, 1048, 1091]\n"
     ]
    }
   ],
   "source": [
    "labels = ['frame_number'] + [o + '-'+ y for o in order for y in ['x', 'y', 'z']]\n",
    "cols = ['video', 'heel_mean_error', 'heel_std_error', 'heel_abs_mean_error', 'heel_abs_std_error', \\\n",
    "       'toe1_mean_error', 'toe1_std_error', 'toe1_abs_mean_error', 'toe1_abs_std_error', \\\n",
    "       'toe2_mean_error', 'toe2_std_error', 'toe2_abs_mean_error', 'toe2_abs_std_error']\n",
    "dataframe_error_stats = pd.DataFrame(columns = cols)\n",
    "\n",
    "for cohort in cohorts:\n",
    "    for trial in trials:\n",
    "        merged_path = frame_path_merged+cohort+trial \n",
    "        if (os.path.exists(merged_path)):\n",
    "            videos = os.listdir(merged_path)\n",
    "#             print (len(videos))\n",
    "        for video in videos:\n",
    "            try:\n",
    "                print (video)\n",
    "                #Reading the ground truth HSR frames numbers\n",
    "                trueHSR = open(merged_path+'\\\\'+video+'\\\\hip_height_normalized\\\\'+'\\\\HSRframes.txt').read()\n",
    "                #Making a list containing ground truth HSRs out of the read file\n",
    "                trueHSR_list = [int(a) for a in trueHSR.split(',')]\n",
    "                print (trueHSR_list)\n",
    "\n",
    "                frames = glob.glob(merged_path+'\\\\'+video+'\\\\hip_height_normalized\\\\*.csv')\n",
    "                #First, we need to sort the frames since we need frames to appear in order to detect HSRs\n",
    "                sorted_frames = sorted(frames,  key=lambda name: int(name.split('\\\\')[-1][:-4]))\n",
    "                #Dataframe to hold all 12*3 features (right hip-x, right hip-y, ...) as columns and all frames as rows \n",
    "                #for each video \n",
    "                video_features = pd.DataFrame(columns = labels)\n",
    "                for frame in sorted_frames:\n",
    "                    #Append the frame number also in the temp dataframe, since it the true HSR is given in frame number\n",
    "                    frame_no = int(frame.split('\\\\')[-1][:-4])\n",
    "                    frame_csv = pd.read_csv(frame, index_col = 0)\n",
    "                    #Appending the 36 features and frame number of each frame as a row for each video's dataframe \n",
    "                    video_features.loc[len(video_features)] = np.append(frame_no, frame_csv[['x', 'y', 'z']].values.flatten())\n",
    "                video_features = video_features.astype({'frame_number': 'int'})\n",
    "                #Setting the frame number as the index \n",
    "                video_features.set_index('frame_number', inplace = True)\n",
    "#                 display(video_features)\n",
    "\n",
    "                #If some frames are missing, appending those rows with NaN values \n",
    "                video_features_complete = video_features.reindex(range(video_features.index[-1]))\n",
    "                #Indices for the ground truth HSR in the video_features dataframe (not containing placeholders for \n",
    "                #the missing frames)\n",
    "                trueHSR_indices = [i for i, val in enumerate(video_features.index) if val in trueHSR_list] \n",
    "                #Indices for the ground truth HSR in the video_features_complete dataframe (containing NaN valued placeholders for \n",
    "                #the missing frames)\n",
    "                trueHSR_indices_complete = [i for i, val in enumerate(video_features_complete.index) if val in trueHSR_list] \n",
    "                heel_error_stats, toe1_error_stats, toe2_error_stats = feature_plots(video_features, video_features_complete)\n",
    "                dataframe_error_stats.loc[len(dataframe_error_stats)] = [video]+ heel_error_stats + toe1_error_stats + toe2_error_stats\n",
    "            except Exception as e:\n",
    "                print (e)\n",
    "dataframe_error_stats.to_csv('dataframe_error_stats_HSR_identification_cutoff0.2.csv')"
   ]
  },
  {
   "cell_type": "code",
   "execution_count": 121,
   "metadata": {},
   "outputs": [
    {
     "data": {
      "text/plain": [
       "heel_mean_error         3.601103\n",
       "heel_std_error         11.461905\n",
       "heel_abs_mean_error     9.903092\n",
       "heel_abs_std_error      7.919262\n",
       "toe1_mean_error         4.171872\n",
       "toe1_std_error         10.983309\n",
       "toe1_abs_mean_error     9.692363\n",
       "toe1_abs_std_error      7.812334\n",
       "toe2_mean_error         3.988749\n",
       "toe2_std_error         10.703722\n",
       "toe2_abs_mean_error     9.389973\n",
       "toe2_abs_std_error      7.681196\n",
       "dtype: float64"
      ]
     },
     "execution_count": 121,
     "metadata": {},
     "output_type": "execute_result"
    }
   ],
   "source": [
    "dataframe_error_stats.mean() #cutoff 0.3"
   ]
  },
  {
   "cell_type": "code",
   "execution_count": null,
   "metadata": {},
   "outputs": [],
   "source": [
    "dataframe_error_stats.mean() #cutoff 0.2"
   ]
  },
  {
   "cell_type": "code",
   "execution_count": 22,
   "metadata": {},
   "outputs": [],
   "source": [
    "#Do we need the missing frame information \n",
    "#We might need to annotate the ground truth HSR frames in the plot \n",
    "#https://stackoverflow.com/questions/14432557/matplotlib-scatter-plot-with-different-text-at-each-data-point\n",
    "#For any algorithm to find the HSR's, we might need to fill missing values in the series we are using to detect HSR\n",
    "#The ground truth HSR markers are not shown when the values are NAN- solve?\n",
    "\n"
   ]
  },
  {
   "cell_type": "code",
   "execution_count": 21,
   "metadata": {
    "scrolled": true
   },
   "outputs": [
    {
     "data": {
      "text/html": [
       "<div>\n",
       "<style scoped>\n",
       "    .dataframe tbody tr th:only-of-type {\n",
       "        vertical-align: middle;\n",
       "    }\n",
       "\n",
       "    .dataframe tbody tr th {\n",
       "        vertical-align: top;\n",
       "    }\n",
       "\n",
       "    .dataframe thead th {\n",
       "        text-align: right;\n",
       "    }\n",
       "</style>\n",
       "<table border=\"1\" class=\"dataframe\">\n",
       "  <thead>\n",
       "    <tr style=\"text-align: right;\">\n",
       "      <th></th>\n",
       "      <th>right hip-x</th>\n",
       "      <th>right hip-y</th>\n",
       "      <th>right hip-z</th>\n",
       "      <th>right knee-x</th>\n",
       "      <th>right knee-y</th>\n",
       "      <th>right knee-z</th>\n",
       "      <th>right ankle-x</th>\n",
       "      <th>right ankle-y</th>\n",
       "      <th>right ankle-z</th>\n",
       "      <th>left hip-x</th>\n",
       "      <th>...</th>\n",
       "      <th>left heel-z</th>\n",
       "      <th>right toe 1-x</th>\n",
       "      <th>right toe 1-y</th>\n",
       "      <th>right toe 1-z</th>\n",
       "      <th>right toe 2-x</th>\n",
       "      <th>right toe 2-y</th>\n",
       "      <th>right toe 2-z</th>\n",
       "      <th>right heel-x</th>\n",
       "      <th>right heel-y</th>\n",
       "      <th>right heel-z</th>\n",
       "    </tr>\n",
       "    <tr>\n",
       "      <th>frame_number</th>\n",
       "      <th></th>\n",
       "      <th></th>\n",
       "      <th></th>\n",
       "      <th></th>\n",
       "      <th></th>\n",
       "      <th></th>\n",
       "      <th></th>\n",
       "      <th></th>\n",
       "      <th></th>\n",
       "      <th></th>\n",
       "      <th></th>\n",
       "      <th></th>\n",
       "      <th></th>\n",
       "      <th></th>\n",
       "      <th></th>\n",
       "      <th></th>\n",
       "      <th></th>\n",
       "      <th></th>\n",
       "      <th></th>\n",
       "      <th></th>\n",
       "      <th></th>\n",
       "    </tr>\n",
       "  </thead>\n",
       "  <tbody>\n",
       "    <tr>\n",
       "      <th>53</th>\n",
       "      <td>37.048133</td>\n",
       "      <td>146.451724</td>\n",
       "      <td>100.24585</td>\n",
       "      <td>36.356229</td>\n",
       "      <td>138.623370</td>\n",
       "      <td>82.602680</td>\n",
       "      <td>34.803705</td>\n",
       "      <td>123.244309</td>\n",
       "      <td>12.885191</td>\n",
       "      <td>11.237682</td>\n",
       "      <td>...</td>\n",
       "      <td>13.492850</td>\n",
       "      <td>39.657276</td>\n",
       "      <td>142.701991</td>\n",
       "      <td>0.000095</td>\n",
       "      <td>42.057920</td>\n",
       "      <td>139.010111</td>\n",
       "      <td>2.455036</td>\n",
       "      <td>32.509905</td>\n",
       "      <td>129.407018</td>\n",
       "      <td>8.792484</td>\n",
       "    </tr>\n",
       "    <tr>\n",
       "      <th>100</th>\n",
       "      <td>39.074558</td>\n",
       "      <td>129.882936</td>\n",
       "      <td>100.00000</td>\n",
       "      <td>33.794004</td>\n",
       "      <td>135.428224</td>\n",
       "      <td>90.817186</td>\n",
       "      <td>32.443192</td>\n",
       "      <td>142.257810</td>\n",
       "      <td>16.296373</td>\n",
       "      <td>13.566014</td>\n",
       "      <td>...</td>\n",
       "      <td>6.369884</td>\n",
       "      <td>36.258862</td>\n",
       "      <td>166.856018</td>\n",
       "      <td>0.000083</td>\n",
       "      <td>37.589039</td>\n",
       "      <td>163.603924</td>\n",
       "      <td>2.160192</td>\n",
       "      <td>30.502734</td>\n",
       "      <td>148.731697</td>\n",
       "      <td>11.998443</td>\n",
       "    </tr>\n",
       "    <tr>\n",
       "      <th>139</th>\n",
       "      <td>36.820152</td>\n",
       "      <td>128.769127</td>\n",
       "      <td>100.00000</td>\n",
       "      <td>32.092320</td>\n",
       "      <td>148.742838</td>\n",
       "      <td>94.864718</td>\n",
       "      <td>32.647042</td>\n",
       "      <td>168.016627</td>\n",
       "      <td>12.099557</td>\n",
       "      <td>6.272163</td>\n",
       "      <td>...</td>\n",
       "      <td>6.406413</td>\n",
       "      <td>32.593489</td>\n",
       "      <td>186.266721</td>\n",
       "      <td>0.000083</td>\n",
       "      <td>36.882348</td>\n",
       "      <td>184.024354</td>\n",
       "      <td>1.499800</td>\n",
       "      <td>31.394341</td>\n",
       "      <td>173.434898</td>\n",
       "      <td>8.503569</td>\n",
       "    </tr>\n",
       "    <tr>\n",
       "      <th>180</th>\n",
       "      <td>37.551827</td>\n",
       "      <td>128.745619</td>\n",
       "      <td>100.00000</td>\n",
       "      <td>34.658947</td>\n",
       "      <td>138.520406</td>\n",
       "      <td>90.134863</td>\n",
       "      <td>33.357162</td>\n",
       "      <td>147.590420</td>\n",
       "      <td>14.128858</td>\n",
       "      <td>8.518414</td>\n",
       "      <td>...</td>\n",
       "      <td>18.099223</td>\n",
       "      <td>38.514812</td>\n",
       "      <td>168.925415</td>\n",
       "      <td>0.000083</td>\n",
       "      <td>41.301464</td>\n",
       "      <td>164.610357</td>\n",
       "      <td>2.869353</td>\n",
       "      <td>30.567825</td>\n",
       "      <td>150.906839</td>\n",
       "      <td>11.921651</td>\n",
       "    </tr>\n",
       "    <tr>\n",
       "      <th>217</th>\n",
       "      <td>38.339703</td>\n",
       "      <td>130.495360</td>\n",
       "      <td>100.00000</td>\n",
       "      <td>32.186540</td>\n",
       "      <td>130.781715</td>\n",
       "      <td>89.025650</td>\n",
       "      <td>31.009072</td>\n",
       "      <td>142.292728</td>\n",
       "      <td>11.401710</td>\n",
       "      <td>12.136953</td>\n",
       "      <td>...</td>\n",
       "      <td>37.677862</td>\n",
       "      <td>29.434787</td>\n",
       "      <td>159.483218</td>\n",
       "      <td>0.000083</td>\n",
       "      <td>35.165033</td>\n",
       "      <td>157.227221</td>\n",
       "      <td>1.513235</td>\n",
       "      <td>31.142704</td>\n",
       "      <td>146.571348</td>\n",
       "      <td>8.565510</td>\n",
       "    </tr>\n",
       "    <tr>\n",
       "      <th>301</th>\n",
       "      <td>38.312743</td>\n",
       "      <td>129.309013</td>\n",
       "      <td>100.00000</td>\n",
       "      <td>34.221073</td>\n",
       "      <td>126.831025</td>\n",
       "      <td>87.932107</td>\n",
       "      <td>32.599775</td>\n",
       "      <td>126.146770</td>\n",
       "      <td>18.391939</td>\n",
       "      <td>13.747978</td>\n",
       "      <td>...</td>\n",
       "      <td>13.390751</td>\n",
       "      <td>39.442292</td>\n",
       "      <td>153.919775</td>\n",
       "      <td>0.000083</td>\n",
       "      <td>40.107495</td>\n",
       "      <td>151.719196</td>\n",
       "      <td>1.461037</td>\n",
       "      <td>28.414938</td>\n",
       "      <td>131.601595</td>\n",
       "      <td>14.762770</td>\n",
       "    </tr>\n",
       "    <tr>\n",
       "      <th>346</th>\n",
       "      <td>35.264289</td>\n",
       "      <td>125.281756</td>\n",
       "      <td>100.00000</td>\n",
       "      <td>32.912077</td>\n",
       "      <td>130.762056</td>\n",
       "      <td>88.247174</td>\n",
       "      <td>32.377453</td>\n",
       "      <td>140.096116</td>\n",
       "      <td>12.068455</td>\n",
       "      <td>8.422134</td>\n",
       "      <td>...</td>\n",
       "      <td>24.712305</td>\n",
       "      <td>35.219363</td>\n",
       "      <td>158.312626</td>\n",
       "      <td>0.000083</td>\n",
       "      <td>38.807329</td>\n",
       "      <td>156.038923</td>\n",
       "      <td>1.518436</td>\n",
       "      <td>31.121635</td>\n",
       "      <td>145.496496</td>\n",
       "      <td>8.484320</td>\n",
       "    </tr>\n",
       "    <tr>\n",
       "      <th>387</th>\n",
       "      <td>38.993032</td>\n",
       "      <td>128.124045</td>\n",
       "      <td>100.00000</td>\n",
       "      <td>34.632111</td>\n",
       "      <td>138.523948</td>\n",
       "      <td>87.974323</td>\n",
       "      <td>34.814677</td>\n",
       "      <td>147.554275</td>\n",
       "      <td>11.999158</td>\n",
       "      <td>10.640862</td>\n",
       "      <td>...</td>\n",
       "      <td>15.536359</td>\n",
       "      <td>38.355923</td>\n",
       "      <td>172.570379</td>\n",
       "      <td>6.916573</td>\n",
       "      <td>40.514652</td>\n",
       "      <td>163.545678</td>\n",
       "      <td>1.414694</td>\n",
       "      <td>32.159665</td>\n",
       "      <td>154.084736</td>\n",
       "      <td>7.661540</td>\n",
       "    </tr>\n",
       "    <tr>\n",
       "      <th>428</th>\n",
       "      <td>38.342386</td>\n",
       "      <td>130.492127</td>\n",
       "      <td>100.00000</td>\n",
       "      <td>35.619649</td>\n",
       "      <td>145.525640</td>\n",
       "      <td>85.552791</td>\n",
       "      <td>35.792570</td>\n",
       "      <td>153.980679</td>\n",
       "      <td>9.958998</td>\n",
       "      <td>10.749334</td>\n",
       "      <td>...</td>\n",
       "      <td>18.214282</td>\n",
       "      <td>36.326403</td>\n",
       "      <td>169.004747</td>\n",
       "      <td>0.000083</td>\n",
       "      <td>40.685229</td>\n",
       "      <td>167.812071</td>\n",
       "      <td>0.804097</td>\n",
       "      <td>33.778980</td>\n",
       "      <td>158.348917</td>\n",
       "      <td>7.056832</td>\n",
       "    </tr>\n",
       "    <tr>\n",
       "      <th>507</th>\n",
       "      <td>35.102707</td>\n",
       "      <td>121.173252</td>\n",
       "      <td>100.00000</td>\n",
       "      <td>34.631069</td>\n",
       "      <td>137.745986</td>\n",
       "      <td>99.849957</td>\n",
       "      <td>37.507659</td>\n",
       "      <td>161.476369</td>\n",
       "      <td>14.137283</td>\n",
       "      <td>7.369816</td>\n",
       "      <td>...</td>\n",
       "      <td>5.242587</td>\n",
       "      <td>41.940595</td>\n",
       "      <td>182.820736</td>\n",
       "      <td>0.000083</td>\n",
       "      <td>43.285467</td>\n",
       "      <td>179.563141</td>\n",
       "      <td>2.163883</td>\n",
       "      <td>37.019529</td>\n",
       "      <td>167.909666</td>\n",
       "      <td>9.870694</td>\n",
       "    </tr>\n",
       "    <tr>\n",
       "      <th>584</th>\n",
       "      <td>36.083871</td>\n",
       "      <td>128.190212</td>\n",
       "      <td>100.00000</td>\n",
       "      <td>35.678043</td>\n",
       "      <td>146.327112</td>\n",
       "      <td>100.000000</td>\n",
       "      <td>37.936398</td>\n",
       "      <td>172.199227</td>\n",
       "      <td>19.456978</td>\n",
       "      <td>7.681296</td>\n",
       "      <td>...</td>\n",
       "      <td>5.337048</td>\n",
       "      <td>39.238776</td>\n",
       "      <td>188.288542</td>\n",
       "      <td>8.794179</td>\n",
       "      <td>44.278382</td>\n",
       "      <td>187.048670</td>\n",
       "      <td>9.631559</td>\n",
       "      <td>35.921387</td>\n",
       "      <td>177.612168</td>\n",
       "      <td>15.862197</td>\n",
       "    </tr>\n",
       "    <tr>\n",
       "      <th>690</th>\n",
       "      <td>38.298332</td>\n",
       "      <td>128.736803</td>\n",
       "      <td>100.00000</td>\n",
       "      <td>36.057153</td>\n",
       "      <td>137.707653</td>\n",
       "      <td>98.505419</td>\n",
       "      <td>38.276688</td>\n",
       "      <td>161.450210</td>\n",
       "      <td>12.782668</td>\n",
       "      <td>14.263743</td>\n",
       "      <td>...</td>\n",
       "      <td>18.524423</td>\n",
       "      <td>40.422034</td>\n",
       "      <td>180.740802</td>\n",
       "      <td>0.000083</td>\n",
       "      <td>44.707555</td>\n",
       "      <td>178.463745</td>\n",
       "      <td>1.522788</td>\n",
       "      <td>37.671202</td>\n",
       "      <td>165.766036</td>\n",
       "      <td>9.919546</td>\n",
       "    </tr>\n",
       "    <tr>\n",
       "      <th>757</th>\n",
       "      <td>34.707165</td>\n",
       "      <td>129.987780</td>\n",
       "      <td>100.00000</td>\n",
       "      <td>33.689268</td>\n",
       "      <td>133.064619</td>\n",
       "      <td>93.086386</td>\n",
       "      <td>36.252643</td>\n",
       "      <td>146.474535</td>\n",
       "      <td>14.214941</td>\n",
       "      <td>7.106701</td>\n",
       "      <td>...</td>\n",
       "      <td>11.262511</td>\n",
       "      <td>37.766975</td>\n",
       "      <td>167.922604</td>\n",
       "      <td>0.000083</td>\n",
       "      <td>41.345040</td>\n",
       "      <td>165.670386</td>\n",
       "      <td>1.504161</td>\n",
       "      <td>36.523480</td>\n",
       "      <td>153.954884</td>\n",
       "      <td>9.256502</td>\n",
       "    </tr>\n",
       "    <tr>\n",
       "      <th>791</th>\n",
       "      <td>33.110127</td>\n",
       "      <td>127.100836</td>\n",
       "      <td>100.00000</td>\n",
       "      <td>32.495357</td>\n",
       "      <td>140.134291</td>\n",
       "      <td>90.483049</td>\n",
       "      <td>32.651087</td>\n",
       "      <td>147.631519</td>\n",
       "      <td>15.524206</td>\n",
       "      <td>5.515231</td>\n",
       "      <td>...</td>\n",
       "      <td>7.720447</td>\n",
       "      <td>39.328872</td>\n",
       "      <td>171.078196</td>\n",
       "      <td>0.000083</td>\n",
       "      <td>40.689564</td>\n",
       "      <td>167.824960</td>\n",
       "      <td>2.161042</td>\n",
       "      <td>31.498262</td>\n",
       "      <td>156.245992</td>\n",
       "      <td>9.809529</td>\n",
       "    </tr>\n",
       "    <tr>\n",
       "      <th>822</th>\n",
       "      <td>33.811689</td>\n",
       "      <td>125.911887</td>\n",
       "      <td>100.00000</td>\n",
       "      <td>33.675135</td>\n",
       "      <td>131.522302</td>\n",
       "      <td>92.655879</td>\n",
       "      <td>36.294120</td>\n",
       "      <td>147.517335</td>\n",
       "      <td>12.070741</td>\n",
       "      <td>5.446419</td>\n",
       "      <td>...</td>\n",
       "      <td>16.784836</td>\n",
       "      <td>38.419005</td>\n",
       "      <td>165.733993</td>\n",
       "      <td>0.000083</td>\n",
       "      <td>42.664736</td>\n",
       "      <td>162.435011</td>\n",
       "      <td>2.200175</td>\n",
       "      <td>34.303782</td>\n",
       "      <td>152.939001</td>\n",
       "      <td>8.470252</td>\n",
       "    </tr>\n",
       "    <tr>\n",
       "      <th>857</th>\n",
       "      <td>36.241235</td>\n",
       "      <td>132.878005</td>\n",
       "      <td>100.00000</td>\n",
       "      <td>34.713420</td>\n",
       "      <td>140.880359</td>\n",
       "      <td>88.574721</td>\n",
       "      <td>35.590991</td>\n",
       "      <td>148.621027</td>\n",
       "      <td>13.456687</td>\n",
       "      <td>9.245025</td>\n",
       "      <td>...</td>\n",
       "      <td>29.557486</td>\n",
       "      <td>39.245323</td>\n",
       "      <td>168.935227</td>\n",
       "      <td>0.000083</td>\n",
       "      <td>42.088193</td>\n",
       "      <td>166.700570</td>\n",
       "      <td>1.490275</td>\n",
       "      <td>33.658044</td>\n",
       "      <td>155.109742</td>\n",
       "      <td>9.148948</td>\n",
       "    </tr>\n",
       "    <tr>\n",
       "      <th>890</th>\n",
       "      <td>33.986517</td>\n",
       "      <td>130.594608</td>\n",
       "      <td>100.00000</td>\n",
       "      <td>32.491167</td>\n",
       "      <td>139.355011</td>\n",
       "      <td>92.501107</td>\n",
       "      <td>37.019428</td>\n",
       "      <td>147.493989</td>\n",
       "      <td>17.130145</td>\n",
       "      <td>7.072309</td>\n",
       "      <td>...</td>\n",
       "      <td>17.440363</td>\n",
       "      <td>36.986718</td>\n",
       "      <td>166.828377</td>\n",
       "      <td>4.311878</td>\n",
       "      <td>41.280554</td>\n",
       "      <td>164.578718</td>\n",
       "      <td>5.816444</td>\n",
       "      <td>38.667871</td>\n",
       "      <td>152.851271</td>\n",
       "      <td>13.583445</td>\n",
       "    </tr>\n",
       "    <tr>\n",
       "      <th>924</th>\n",
       "      <td>36.153322</td>\n",
       "      <td>129.948181</td>\n",
       "      <td>100.00000</td>\n",
       "      <td>35.869435</td>\n",
       "      <td>132.238264</td>\n",
       "      <td>97.125682</td>\n",
       "      <td>39.293008</td>\n",
       "      <td>149.621652</td>\n",
       "      <td>15.622559</td>\n",
       "      <td>8.585993</td>\n",
       "      <td>...</td>\n",
       "      <td>32.334593</td>\n",
       "      <td>40.879123</td>\n",
       "      <td>173.193244</td>\n",
       "      <td>0.000083</td>\n",
       "      <td>45.149528</td>\n",
       "      <td>169.886411</td>\n",
       "      <td>2.205455</td>\n",
       "      <td>38.034324</td>\n",
       "      <td>155.013482</td>\n",
       "      <td>12.044083</td>\n",
       "    </tr>\n",
       "    <tr>\n",
       "      <th>956</th>\n",
       "      <td>33.985079</td>\n",
       "      <td>130.595399</td>\n",
       "      <td>100.00000</td>\n",
       "      <td>34.364015</td>\n",
       "      <td>131.509286</td>\n",
       "      <td>96.898262</td>\n",
       "      <td>40.818021</td>\n",
       "      <td>151.699627</td>\n",
       "      <td>13.543455</td>\n",
       "      <td>7.120293</td>\n",
       "      <td>...</td>\n",
       "      <td>28.214503</td>\n",
       "      <td>41.554955</td>\n",
       "      <td>172.131276</td>\n",
       "      <td>0.000083</td>\n",
       "      <td>46.585067</td>\n",
       "      <td>169.855967</td>\n",
       "      <td>1.523902</td>\n",
       "      <td>38.800792</td>\n",
       "      <td>156.055496</td>\n",
       "      <td>10.649478</td>\n",
       "    </tr>\n",
       "    <tr>\n",
       "      <th>991</th>\n",
       "      <td>34.650052</td>\n",
       "      <td>128.811857</td>\n",
       "      <td>100.00000</td>\n",
       "      <td>35.138809</td>\n",
       "      <td>132.266084</td>\n",
       "      <td>92.857957</td>\n",
       "      <td>40.701920</td>\n",
       "      <td>148.483470</td>\n",
       "      <td>12.134391</td>\n",
       "      <td>7.052232</td>\n",
       "      <td>...</td>\n",
       "      <td>23.976810</td>\n",
       "      <td>39.918565</td>\n",
       "      <td>166.782747</td>\n",
       "      <td>0.000083</td>\n",
       "      <td>45.669366</td>\n",
       "      <td>164.485619</td>\n",
       "      <td>1.540566</td>\n",
       "      <td>40.123766</td>\n",
       "      <td>152.813661</td>\n",
       "      <td>9.261829</td>\n",
       "    </tr>\n",
       "    <tr>\n",
       "      <th>1026</th>\n",
       "      <td>36.857488</td>\n",
       "      <td>129.932270</td>\n",
       "      <td>100.00000</td>\n",
       "      <td>35.178230</td>\n",
       "      <td>133.040657</td>\n",
       "      <td>99.410480</td>\n",
       "      <td>40.240774</td>\n",
       "      <td>156.047357</td>\n",
       "      <td>14.184259</td>\n",
       "      <td>7.092506</td>\n",
       "      <td>...</td>\n",
       "      <td>24.509785</td>\n",
       "      <td>42.474542</td>\n",
       "      <td>177.452458</td>\n",
       "      <td>0.000083</td>\n",
       "      <td>46.762403</td>\n",
       "      <td>174.136890</td>\n",
       "      <td>2.211299</td>\n",
       "      <td>37.577997</td>\n",
       "      <td>162.519941</td>\n",
       "      <td>9.884987</td>\n",
       "    </tr>\n",
       "    <tr>\n",
       "      <th>1062</th>\n",
       "      <td>35.424467</td>\n",
       "      <td>129.976991</td>\n",
       "      <td>100.00000</td>\n",
       "      <td>34.566626</td>\n",
       "      <td>136.971548</td>\n",
       "      <td>100.000000</td>\n",
       "      <td>36.680578</td>\n",
       "      <td>158.261219</td>\n",
       "      <td>21.404639</td>\n",
       "      <td>7.079846</td>\n",
       "      <td>...</td>\n",
       "      <td>26.428164</td>\n",
       "      <td>38.814329</td>\n",
       "      <td>176.474505</td>\n",
       "      <td>9.336243</td>\n",
       "      <td>43.092226</td>\n",
       "      <td>174.199417</td>\n",
       "      <td>10.857620</td>\n",
       "      <td>34.738671</td>\n",
       "      <td>164.771291</td>\n",
       "      <td>17.082714</td>\n",
       "    </tr>\n",
       "    <tr>\n",
       "      <th>1094</th>\n",
       "      <td>36.093410</td>\n",
       "      <td>128.185441</td>\n",
       "      <td>100.00000</td>\n",
       "      <td>35.841906</td>\n",
       "      <td>131.486607</td>\n",
       "      <td>96.141257</td>\n",
       "      <td>42.872417</td>\n",
       "      <td>148.450532</td>\n",
       "      <td>14.927235</td>\n",
       "      <td>7.023052</td>\n",
       "      <td>...</td>\n",
       "      <td>26.013272</td>\n",
       "      <td>42.969254</td>\n",
       "      <td>170.966470</td>\n",
       "      <td>0.000083</td>\n",
       "      <td>47.966804</td>\n",
       "      <td>167.659644</td>\n",
       "      <td>2.207669</td>\n",
       "      <td>42.327478</td>\n",
       "      <td>152.768610</td>\n",
       "      <td>12.062805</td>\n",
       "    </tr>\n",
       "    <tr>\n",
       "      <th>1125</th>\n",
       "      <td>35.252237</td>\n",
       "      <td>125.871059</td>\n",
       "      <td>100.00000</td>\n",
       "      <td>35.863508</td>\n",
       "      <td>131.460884</td>\n",
       "      <td>91.849720</td>\n",
       "      <td>43.196319</td>\n",
       "      <td>136.642669</td>\n",
       "      <td>18.447855</td>\n",
       "      <td>6.932307</td>\n",
       "      <td>...</td>\n",
       "      <td>23.068967</td>\n",
       "      <td>45.686259</td>\n",
       "      <td>164.479978</td>\n",
       "      <td>0.000083</td>\n",
       "      <td>49.243361</td>\n",
       "      <td>162.238815</td>\n",
       "      <td>1.496769</td>\n",
       "      <td>41.484723</td>\n",
       "      <td>145.690256</td>\n",
       "      <td>12.444330</td>\n",
       "    </tr>\n",
       "    <tr>\n",
       "      <th>1161</th>\n",
       "      <td>34.648657</td>\n",
       "      <td>128.813794</td>\n",
       "      <td>100.00000</td>\n",
       "      <td>34.435006</td>\n",
       "      <td>133.080299</td>\n",
       "      <td>95.915539</td>\n",
       "      <td>38.706903</td>\n",
       "      <td>153.933961</td>\n",
       "      <td>12.114309</td>\n",
       "      <td>5.595987</td>\n",
       "      <td>...</td>\n",
       "      <td>6.759681</td>\n",
       "      <td>37.928826</td>\n",
       "      <td>172.202972</td>\n",
       "      <td>0.000083</td>\n",
       "      <td>43.682162</td>\n",
       "      <td>169.933388</td>\n",
       "      <td>1.522313</td>\n",
       "      <td>37.451824</td>\n",
       "      <td>159.299527</td>\n",
       "      <td>8.553257</td>\n",
       "    </tr>\n",
       "    <tr>\n",
       "      <th>1196</th>\n",
       "      <td>37.632055</td>\n",
       "      <td>130.498790</td>\n",
       "      <td>100.00000</td>\n",
       "      <td>37.478813</td>\n",
       "      <td>136.116833</td>\n",
       "      <td>93.824470</td>\n",
       "      <td>43.002496</td>\n",
       "      <td>151.679638</td>\n",
       "      <td>13.534753</td>\n",
       "      <td>10.065759</td>\n",
       "      <td>...</td>\n",
       "      <td>30.358363</td>\n",
       "      <td>41.560017</td>\n",
       "      <td>172.088129</td>\n",
       "      <td>0.000083</td>\n",
       "      <td>47.302409</td>\n",
       "      <td>169.819598</td>\n",
       "      <td>1.521581</td>\n",
       "      <td>43.170527</td>\n",
       "      <td>155.959269</td>\n",
       "      <td>10.697988</td>\n",
       "    </tr>\n",
       "    <tr>\n",
       "      <th>1227</th>\n",
       "      <td>37.607227</td>\n",
       "      <td>129.915928</td>\n",
       "      <td>100.00000</td>\n",
       "      <td>36.036427</td>\n",
       "      <td>136.934750</td>\n",
       "      <td>91.868047</td>\n",
       "      <td>43.745547</td>\n",
       "      <td>151.639672</td>\n",
       "      <td>12.153753</td>\n",
       "      <td>7.882364</td>\n",
       "      <td>...</td>\n",
       "      <td>9.599684</td>\n",
       "      <td>42.217608</td>\n",
       "      <td>169.964727</td>\n",
       "      <td>0.000083</td>\n",
       "      <td>47.996640</td>\n",
       "      <td>168.715732</td>\n",
       "      <td>0.845769</td>\n",
       "      <td>44.618623</td>\n",
       "      <td>155.943859</td>\n",
       "      <td>9.302860</td>\n",
       "    </tr>\n",
       "    <tr>\n",
       "      <th>1261</th>\n",
       "      <td>38.324166</td>\n",
       "      <td>129.907489</td>\n",
       "      <td>100.00000</td>\n",
       "      <td>38.217199</td>\n",
       "      <td>136.084355</td>\n",
       "      <td>100.000000</td>\n",
       "      <td>41.836265</td>\n",
       "      <td>159.191524</td>\n",
       "      <td>15.607319</td>\n",
       "      <td>12.185542</td>\n",
       "      <td>...</td>\n",
       "      <td>39.688080</td>\n",
       "      <td>45.613133</td>\n",
       "      <td>182.750213</td>\n",
       "      <td>0.000083</td>\n",
       "      <td>47.681101</td>\n",
       "      <td>179.487625</td>\n",
       "      <td>2.169400</td>\n",
       "      <td>39.797947</td>\n",
       "      <td>163.568625</td>\n",
       "      <td>12.699201</td>\n",
       "    </tr>\n",
       "    <tr>\n",
       "      <th>1295</th>\n",
       "      <td>34.623833</td>\n",
       "      <td>128.224956</td>\n",
       "      <td>100.00000</td>\n",
       "      <td>33.714592</td>\n",
       "      <td>133.093227</td>\n",
       "      <td>99.438367</td>\n",
       "      <td>31.940533</td>\n",
       "      <td>128.305756</td>\n",
       "      <td>32.618052</td>\n",
       "      <td>6.234707</td>\n",
       "      <td>...</td>\n",
       "      <td>31.786456</td>\n",
       "      <td>35.739603</td>\n",
       "      <td>177.522826</td>\n",
       "      <td>0.000083</td>\n",
       "      <td>40.932175</td>\n",
       "      <td>176.007385</td>\n",
       "      <td>1.020626</td>\n",
       "      <td>36.678669</td>\n",
       "      <td>165.093733</td>\n",
       "      <td>8.243096</td>\n",
       "    </tr>\n",
       "    <tr>\n",
       "      <th>1329</th>\n",
       "      <td>36.095238</td>\n",
       "      <td>128.199030</td>\n",
       "      <td>100.00000</td>\n",
       "      <td>35.273445</td>\n",
       "      <td>135.402939</td>\n",
       "      <td>98.581558</td>\n",
       "      <td>42.560233</td>\n",
       "      <td>159.212151</td>\n",
       "      <td>12.830081</td>\n",
       "      <td>7.742892</td>\n",
       "      <td>...</td>\n",
       "      <td>30.324957</td>\n",
       "      <td>41.806977</td>\n",
       "      <td>178.560917</td>\n",
       "      <td>0.000083</td>\n",
       "      <td>46.878781</td>\n",
       "      <td>177.323297</td>\n",
       "      <td>0.836069</td>\n",
       "      <td>40.615297</td>\n",
       "      <td>165.694208</td>\n",
       "      <td>8.526721</td>\n",
       "    </tr>\n",
       "    <tr>\n",
       "      <th>1361</th>\n",
       "      <td>33.927842</td>\n",
       "      <td>129.414386</td>\n",
       "      <td>100.00000</td>\n",
       "      <td>35.152352</td>\n",
       "      <td>132.255722</td>\n",
       "      <td>99.201127</td>\n",
       "      <td>43.900921</td>\n",
       "      <td>155.935749</td>\n",
       "      <td>13.539757</td>\n",
       "      <td>5.598468</td>\n",
       "      <td>...</td>\n",
       "      <td>25.308261</td>\n",
       "      <td>43.913235</td>\n",
       "      <td>176.358484</td>\n",
       "      <td>0.000083</td>\n",
       "      <td>48.936061</td>\n",
       "      <td>174.074696</td>\n",
       "      <td>1.529501</td>\n",
       "      <td>44.097165</td>\n",
       "      <td>161.285626</td>\n",
       "      <td>9.993535</td>\n",
       "    </tr>\n",
       "    <tr>\n",
       "      <th>1395</th>\n",
       "      <td>35.420889</td>\n",
       "      <td>130.557915</td>\n",
       "      <td>100.00000</td>\n",
       "      <td>36.784516</td>\n",
       "      <td>136.928651</td>\n",
       "      <td>93.962984</td>\n",
       "      <td>43.921944</td>\n",
       "      <td>157.017917</td>\n",
       "      <td>10.677272</td>\n",
       "      <td>7.130405</td>\n",
       "      <td>...</td>\n",
       "      <td>9.521967</td>\n",
       "      <td>43.059105</td>\n",
       "      <td>173.118972</td>\n",
       "      <td>0.000083</td>\n",
       "      <td>48.104188</td>\n",
       "      <td>170.870769</td>\n",
       "      <td>1.505976</td>\n",
       "      <td>42.665582</td>\n",
       "      <td>162.404472</td>\n",
       "      <td>7.102300</td>\n",
       "    </tr>\n",
       "    <tr>\n",
       "      <th>1429</th>\n",
       "      <td>34.599694</td>\n",
       "      <td>128.219557</td>\n",
       "      <td>100.00000</td>\n",
       "      <td>35.203734</td>\n",
       "      <td>133.820368</td>\n",
       "      <td>99.658229</td>\n",
       "      <td>39.617670</td>\n",
       "      <td>158.198228</td>\n",
       "      <td>13.520987</td>\n",
       "      <td>5.548203</td>\n",
       "      <td>...</td>\n",
       "      <td>31.104921</td>\n",
       "      <td>39.612172</td>\n",
       "      <td>178.592569</td>\n",
       "      <td>0.000083</td>\n",
       "      <td>45.377347</td>\n",
       "      <td>176.326831</td>\n",
       "      <td>1.519799</td>\n",
       "      <td>38.301657</td>\n",
       "      <td>162.511696</td>\n",
       "      <td>10.657260</td>\n",
       "    </tr>\n",
       "    <tr>\n",
       "      <th>1462</th>\n",
       "      <td>33.992176</td>\n",
       "      <td>130.579077</td>\n",
       "      <td>100.00000</td>\n",
       "      <td>35.976676</td>\n",
       "      <td>135.388629</td>\n",
       "      <td>96.173998</td>\n",
       "      <td>43.191154</td>\n",
       "      <td>155.964675</td>\n",
       "      <td>12.565800</td>\n",
       "      <td>6.405860</td>\n",
       "      <td>...</td>\n",
       "      <td>9.277570</td>\n",
       "      <td>43.101757</td>\n",
       "      <td>174.236582</td>\n",
       "      <td>0.451756</td>\n",
       "      <td>48.160791</td>\n",
       "      <td>172.997295</td>\n",
       "      <td>1.288808</td>\n",
       "      <td>42.678367</td>\n",
       "      <td>162.396483</td>\n",
       "      <td>8.300123</td>\n",
       "    </tr>\n",
       "    <tr>\n",
       "      <th>1494</th>\n",
       "      <td>35.401831</td>\n",
       "      <td>129.959450</td>\n",
       "      <td>100.00000</td>\n",
       "      <td>35.216198</td>\n",
       "      <td>134.610799</td>\n",
       "      <td>94.769463</td>\n",
       "      <td>43.021919</td>\n",
       "      <td>151.673163</td>\n",
       "      <td>13.492544</td>\n",
       "      <td>6.400058</td>\n",
       "      <td>...</td>\n",
       "      <td>18.228848</td>\n",
       "      <td>44.465747</td>\n",
       "      <td>172.031273</td>\n",
       "      <td>0.000083</td>\n",
       "      <td>48.796817</td>\n",
       "      <td>169.760216</td>\n",
       "      <td>1.518949</td>\n",
       "      <td>42.392293</td>\n",
       "      <td>154.932712</td>\n",
       "      <td>11.329631</td>\n",
       "    </tr>\n",
       "    <tr>\n",
       "      <th>1529</th>\n",
       "      <td>36.834836</td>\n",
       "      <td>128.758074</td>\n",
       "      <td>100.00000</td>\n",
       "      <td>38.223755</td>\n",
       "      <td>136.881147</td>\n",
       "      <td>91.854664</td>\n",
       "      <td>44.526013</td>\n",
       "      <td>152.685172</td>\n",
       "      <td>11.407401</td>\n",
       "      <td>7.063257</td>\n",
       "      <td>...</td>\n",
       "      <td>19.659117</td>\n",
       "      <td>43.687296</td>\n",
       "      <td>169.887634</td>\n",
       "      <td>0.000083</td>\n",
       "      <td>49.427259</td>\n",
       "      <td>167.631783</td>\n",
       "      <td>1.513167</td>\n",
       "      <td>45.381513</td>\n",
       "      <td>156.959885</td>\n",
       "      <td>8.575995</td>\n",
       "    </tr>\n",
       "    <tr>\n",
       "      <th>1561</th>\n",
       "      <td>35.447517</td>\n",
       "      <td>130.556719</td>\n",
       "      <td>100.00000</td>\n",
       "      <td>35.365327</td>\n",
       "      <td>137.723749</td>\n",
       "      <td>96.281722</td>\n",
       "      <td>43.844174</td>\n",
       "      <td>154.849072</td>\n",
       "      <td>14.965117</td>\n",
       "      <td>6.425692</td>\n",
       "      <td>...</td>\n",
       "      <td>23.204277</td>\n",
       "      <td>42.487535</td>\n",
       "      <td>177.415459</td>\n",
       "      <td>0.000083</td>\n",
       "      <td>47.504411</td>\n",
       "      <td>175.155975</td>\n",
       "      <td>1.513369</td>\n",
       "      <td>44.753712</td>\n",
       "      <td>159.131853</td>\n",
       "      <td>12.128527</td>\n",
       "    </tr>\n",
       "    <tr>\n",
       "      <th>1595</th>\n",
       "      <td>35.343735</td>\n",
       "      <td>128.211103</td>\n",
       "      <td>100.00000</td>\n",
       "      <td>36.776396</td>\n",
       "      <td>136.918300</td>\n",
       "      <td>100.000000</td>\n",
       "      <td>42.768036</td>\n",
       "      <td>164.535433</td>\n",
       "      <td>12.105722</td>\n",
       "      <td>5.558932</td>\n",
       "      <td>...</td>\n",
       "      <td>25.955920</td>\n",
       "      <td>43.413501</td>\n",
       "      <td>182.798044</td>\n",
       "      <td>0.000083</td>\n",
       "      <td>48.428016</td>\n",
       "      <td>180.519867</td>\n",
       "      <td>1.525755</td>\n",
       "      <td>42.126444</td>\n",
       "      <td>167.796183</td>\n",
       "      <td>9.941977</td>\n",
       "    </tr>\n",
       "    <tr>\n",
       "      <th>1627</th>\n",
       "      <td>36.055736</td>\n",
       "      <td>127.615816</td>\n",
       "      <td>100.00000</td>\n",
       "      <td>35.275604</td>\n",
       "      <td>136.167994</td>\n",
       "      <td>100.000000</td>\n",
       "      <td>40.601549</td>\n",
       "      <td>165.700416</td>\n",
       "      <td>12.795388</td>\n",
       "      <td>6.323963</td>\n",
       "      <td>...</td>\n",
       "      <td>36.759993</td>\n",
       "      <td>40.568760</td>\n",
       "      <td>185.000168</td>\n",
       "      <td>0.000083</td>\n",
       "      <td>45.593422</td>\n",
       "      <td>182.737400</td>\n",
       "      <td>1.515570</td>\n",
       "      <td>39.330979</td>\n",
       "      <td>171.052672</td>\n",
       "      <td>9.243112</td>\n",
       "    </tr>\n",
       "    <tr>\n",
       "      <th>1657</th>\n",
       "      <td>35.507620</td>\n",
       "      <td>132.893079</td>\n",
       "      <td>100.00000</td>\n",
       "      <td>36.226835</td>\n",
       "      <td>141.632215</td>\n",
       "      <td>87.275888</td>\n",
       "      <td>42.772648</td>\n",
       "      <td>145.233747</td>\n",
       "      <td>14.919285</td>\n",
       "      <td>6.463104</td>\n",
       "      <td>...</td>\n",
       "      <td>14.564883</td>\n",
       "      <td>44.326674</td>\n",
       "      <td>167.744402</td>\n",
       "      <td>0.000083</td>\n",
       "      <td>49.351726</td>\n",
       "      <td>165.452691</td>\n",
       "      <td>1.534760</td>\n",
       "      <td>40.715862</td>\n",
       "      <td>148.520794</td>\n",
       "      <td>12.733787</td>\n",
       "    </tr>\n",
       "    <tr>\n",
       "      <th>1690</th>\n",
       "      <td>36.136515</td>\n",
       "      <td>129.370634</td>\n",
       "      <td>100.00000</td>\n",
       "      <td>39.005938</td>\n",
       "      <td>138.424570</td>\n",
       "      <td>95.838506</td>\n",
       "      <td>45.457357</td>\n",
       "      <td>159.129595</td>\n",
       "      <td>12.142470</td>\n",
       "      <td>7.062495</td>\n",
       "      <td>...</td>\n",
       "      <td>26.027948</td>\n",
       "      <td>43.933551</td>\n",
       "      <td>177.437650</td>\n",
       "      <td>0.000083</td>\n",
       "      <td>49.728000</td>\n",
       "      <td>176.191994</td>\n",
       "      <td>0.843603</td>\n",
       "      <td>44.914180</td>\n",
       "      <td>163.432280</td>\n",
       "      <td>9.288251</td>\n",
       "    </tr>\n",
       "    <tr>\n",
       "      <th>1719</th>\n",
       "      <td>36.847378</td>\n",
       "      <td>129.345208</td>\n",
       "      <td>100.00000</td>\n",
       "      <td>36.760758</td>\n",
       "      <td>136.923714</td>\n",
       "      <td>90.415231</td>\n",
       "      <td>42.835309</td>\n",
       "      <td>147.359020</td>\n",
       "      <td>13.526586</td>\n",
       "      <td>7.107872</td>\n",
       "      <td>...</td>\n",
       "      <td>14.586133</td>\n",
       "      <td>43.610814</td>\n",
       "      <td>167.765402</td>\n",
       "      <td>0.000083</td>\n",
       "      <td>48.643630</td>\n",
       "      <td>165.474254</td>\n",
       "      <td>1.534410</td>\n",
       "      <td>40.781340</td>\n",
       "      <td>150.663482</td>\n",
       "      <td>11.329551</td>\n",
       "    </tr>\n",
       "  </tbody>\n",
       "</table>\n",
       "<p>42 rows × 36 columns</p>\n",
       "</div>"
      ],
      "text/plain": [
       "              right hip-x  right hip-y  right hip-z  right knee-x  \\\n",
       "frame_number                                                        \n",
       "53              37.048133   146.451724    100.24585     36.356229   \n",
       "100             39.074558   129.882936    100.00000     33.794004   \n",
       "139             36.820152   128.769127    100.00000     32.092320   \n",
       "180             37.551827   128.745619    100.00000     34.658947   \n",
       "217             38.339703   130.495360    100.00000     32.186540   \n",
       "301             38.312743   129.309013    100.00000     34.221073   \n",
       "346             35.264289   125.281756    100.00000     32.912077   \n",
       "387             38.993032   128.124045    100.00000     34.632111   \n",
       "428             38.342386   130.492127    100.00000     35.619649   \n",
       "507             35.102707   121.173252    100.00000     34.631069   \n",
       "584             36.083871   128.190212    100.00000     35.678043   \n",
       "690             38.298332   128.736803    100.00000     36.057153   \n",
       "757             34.707165   129.987780    100.00000     33.689268   \n",
       "791             33.110127   127.100836    100.00000     32.495357   \n",
       "822             33.811689   125.911887    100.00000     33.675135   \n",
       "857             36.241235   132.878005    100.00000     34.713420   \n",
       "890             33.986517   130.594608    100.00000     32.491167   \n",
       "924             36.153322   129.948181    100.00000     35.869435   \n",
       "956             33.985079   130.595399    100.00000     34.364015   \n",
       "991             34.650052   128.811857    100.00000     35.138809   \n",
       "1026            36.857488   129.932270    100.00000     35.178230   \n",
       "1062            35.424467   129.976991    100.00000     34.566626   \n",
       "1094            36.093410   128.185441    100.00000     35.841906   \n",
       "1125            35.252237   125.871059    100.00000     35.863508   \n",
       "1161            34.648657   128.813794    100.00000     34.435006   \n",
       "1196            37.632055   130.498790    100.00000     37.478813   \n",
       "1227            37.607227   129.915928    100.00000     36.036427   \n",
       "1261            38.324166   129.907489    100.00000     38.217199   \n",
       "1295            34.623833   128.224956    100.00000     33.714592   \n",
       "1329            36.095238   128.199030    100.00000     35.273445   \n",
       "1361            33.927842   129.414386    100.00000     35.152352   \n",
       "1395            35.420889   130.557915    100.00000     36.784516   \n",
       "1429            34.599694   128.219557    100.00000     35.203734   \n",
       "1462            33.992176   130.579077    100.00000     35.976676   \n",
       "1494            35.401831   129.959450    100.00000     35.216198   \n",
       "1529            36.834836   128.758074    100.00000     38.223755   \n",
       "1561            35.447517   130.556719    100.00000     35.365327   \n",
       "1595            35.343735   128.211103    100.00000     36.776396   \n",
       "1627            36.055736   127.615816    100.00000     35.275604   \n",
       "1657            35.507620   132.893079    100.00000     36.226835   \n",
       "1690            36.136515   129.370634    100.00000     39.005938   \n",
       "1719            36.847378   129.345208    100.00000     36.760758   \n",
       "\n",
       "              right knee-y  right knee-z  right ankle-x  right ankle-y  \\\n",
       "frame_number                                                             \n",
       "53              138.623370     82.602680      34.803705     123.244309   \n",
       "100             135.428224     90.817186      32.443192     142.257810   \n",
       "139             148.742838     94.864718      32.647042     168.016627   \n",
       "180             138.520406     90.134863      33.357162     147.590420   \n",
       "217             130.781715     89.025650      31.009072     142.292728   \n",
       "301             126.831025     87.932107      32.599775     126.146770   \n",
       "346             130.762056     88.247174      32.377453     140.096116   \n",
       "387             138.523948     87.974323      34.814677     147.554275   \n",
       "428             145.525640     85.552791      35.792570     153.980679   \n",
       "507             137.745986     99.849957      37.507659     161.476369   \n",
       "584             146.327112    100.000000      37.936398     172.199227   \n",
       "690             137.707653     98.505419      38.276688     161.450210   \n",
       "757             133.064619     93.086386      36.252643     146.474535   \n",
       "791             140.134291     90.483049      32.651087     147.631519   \n",
       "822             131.522302     92.655879      36.294120     147.517335   \n",
       "857             140.880359     88.574721      35.590991     148.621027   \n",
       "890             139.355011     92.501107      37.019428     147.493989   \n",
       "924             132.238264     97.125682      39.293008     149.621652   \n",
       "956             131.509286     96.898262      40.818021     151.699627   \n",
       "991             132.266084     92.857957      40.701920     148.483470   \n",
       "1026            133.040657     99.410480      40.240774     156.047357   \n",
       "1062            136.971548    100.000000      36.680578     158.261219   \n",
       "1094            131.486607     96.141257      42.872417     148.450532   \n",
       "1125            131.460884     91.849720      43.196319     136.642669   \n",
       "1161            133.080299     95.915539      38.706903     153.933961   \n",
       "1196            136.116833     93.824470      43.002496     151.679638   \n",
       "1227            136.934750     91.868047      43.745547     151.639672   \n",
       "1261            136.084355    100.000000      41.836265     159.191524   \n",
       "1295            133.093227     99.438367      31.940533     128.305756   \n",
       "1329            135.402939     98.581558      42.560233     159.212151   \n",
       "1361            132.255722     99.201127      43.900921     155.935749   \n",
       "1395            136.928651     93.962984      43.921944     157.017917   \n",
       "1429            133.820368     99.658229      39.617670     158.198228   \n",
       "1462            135.388629     96.173998      43.191154     155.964675   \n",
       "1494            134.610799     94.769463      43.021919     151.673163   \n",
       "1529            136.881147     91.854664      44.526013     152.685172   \n",
       "1561            137.723749     96.281722      43.844174     154.849072   \n",
       "1595            136.918300    100.000000      42.768036     164.535433   \n",
       "1627            136.167994    100.000000      40.601549     165.700416   \n",
       "1657            141.632215     87.275888      42.772648     145.233747   \n",
       "1690            138.424570     95.838506      45.457357     159.129595   \n",
       "1719            136.923714     90.415231      42.835309     147.359020   \n",
       "\n",
       "              right ankle-z  left hip-x  ...  left heel-z  right toe 1-x  \\\n",
       "frame_number                             ...                               \n",
       "53                12.885191   11.237682  ...    13.492850      39.657276   \n",
       "100               16.296373   13.566014  ...     6.369884      36.258862   \n",
       "139               12.099557    6.272163  ...     6.406413      32.593489   \n",
       "180               14.128858    8.518414  ...    18.099223      38.514812   \n",
       "217               11.401710   12.136953  ...    37.677862      29.434787   \n",
       "301               18.391939   13.747978  ...    13.390751      39.442292   \n",
       "346               12.068455    8.422134  ...    24.712305      35.219363   \n",
       "387               11.999158   10.640862  ...    15.536359      38.355923   \n",
       "428                9.958998   10.749334  ...    18.214282      36.326403   \n",
       "507               14.137283    7.369816  ...     5.242587      41.940595   \n",
       "584               19.456978    7.681296  ...     5.337048      39.238776   \n",
       "690               12.782668   14.263743  ...    18.524423      40.422034   \n",
       "757               14.214941    7.106701  ...    11.262511      37.766975   \n",
       "791               15.524206    5.515231  ...     7.720447      39.328872   \n",
       "822               12.070741    5.446419  ...    16.784836      38.419005   \n",
       "857               13.456687    9.245025  ...    29.557486      39.245323   \n",
       "890               17.130145    7.072309  ...    17.440363      36.986718   \n",
       "924               15.622559    8.585993  ...    32.334593      40.879123   \n",
       "956               13.543455    7.120293  ...    28.214503      41.554955   \n",
       "991               12.134391    7.052232  ...    23.976810      39.918565   \n",
       "1026              14.184259    7.092506  ...    24.509785      42.474542   \n",
       "1062              21.404639    7.079846  ...    26.428164      38.814329   \n",
       "1094              14.927235    7.023052  ...    26.013272      42.969254   \n",
       "1125              18.447855    6.932307  ...    23.068967      45.686259   \n",
       "1161              12.114309    5.595987  ...     6.759681      37.928826   \n",
       "1196              13.534753   10.065759  ...    30.358363      41.560017   \n",
       "1227              12.153753    7.882364  ...     9.599684      42.217608   \n",
       "1261              15.607319   12.185542  ...    39.688080      45.613133   \n",
       "1295              32.618052    6.234707  ...    31.786456      35.739603   \n",
       "1329              12.830081    7.742892  ...    30.324957      41.806977   \n",
       "1361              13.539757    5.598468  ...    25.308261      43.913235   \n",
       "1395              10.677272    7.130405  ...     9.521967      43.059105   \n",
       "1429              13.520987    5.548203  ...    31.104921      39.612172   \n",
       "1462              12.565800    6.405860  ...     9.277570      43.101757   \n",
       "1494              13.492544    6.400058  ...    18.228848      44.465747   \n",
       "1529              11.407401    7.063257  ...    19.659117      43.687296   \n",
       "1561              14.965117    6.425692  ...    23.204277      42.487535   \n",
       "1595              12.105722    5.558932  ...    25.955920      43.413501   \n",
       "1627              12.795388    6.323963  ...    36.759993      40.568760   \n",
       "1657              14.919285    6.463104  ...    14.564883      44.326674   \n",
       "1690              12.142470    7.062495  ...    26.027948      43.933551   \n",
       "1719              13.526586    7.107872  ...    14.586133      43.610814   \n",
       "\n",
       "              right toe 1-y  right toe 1-z  right toe 2-x  right toe 2-y  \\\n",
       "frame_number                                                               \n",
       "53               142.701991       0.000095      42.057920     139.010111   \n",
       "100              166.856018       0.000083      37.589039     163.603924   \n",
       "139              186.266721       0.000083      36.882348     184.024354   \n",
       "180              168.925415       0.000083      41.301464     164.610357   \n",
       "217              159.483218       0.000083      35.165033     157.227221   \n",
       "301              153.919775       0.000083      40.107495     151.719196   \n",
       "346              158.312626       0.000083      38.807329     156.038923   \n",
       "387              172.570379       6.916573      40.514652     163.545678   \n",
       "428              169.004747       0.000083      40.685229     167.812071   \n",
       "507              182.820736       0.000083      43.285467     179.563141   \n",
       "584              188.288542       8.794179      44.278382     187.048670   \n",
       "690              180.740802       0.000083      44.707555     178.463745   \n",
       "757              167.922604       0.000083      41.345040     165.670386   \n",
       "791              171.078196       0.000083      40.689564     167.824960   \n",
       "822              165.733993       0.000083      42.664736     162.435011   \n",
       "857              168.935227       0.000083      42.088193     166.700570   \n",
       "890              166.828377       4.311878      41.280554     164.578718   \n",
       "924              173.193244       0.000083      45.149528     169.886411   \n",
       "956              172.131276       0.000083      46.585067     169.855967   \n",
       "991              166.782747       0.000083      45.669366     164.485619   \n",
       "1026             177.452458       0.000083      46.762403     174.136890   \n",
       "1062             176.474505       9.336243      43.092226     174.199417   \n",
       "1094             170.966470       0.000083      47.966804     167.659644   \n",
       "1125             164.479978       0.000083      49.243361     162.238815   \n",
       "1161             172.202972       0.000083      43.682162     169.933388   \n",
       "1196             172.088129       0.000083      47.302409     169.819598   \n",
       "1227             169.964727       0.000083      47.996640     168.715732   \n",
       "1261             182.750213       0.000083      47.681101     179.487625   \n",
       "1295             177.522826       0.000083      40.932175     176.007385   \n",
       "1329             178.560917       0.000083      46.878781     177.323297   \n",
       "1361             176.358484       0.000083      48.936061     174.074696   \n",
       "1395             173.118972       0.000083      48.104188     170.870769   \n",
       "1429             178.592569       0.000083      45.377347     176.326831   \n",
       "1462             174.236582       0.451756      48.160791     172.997295   \n",
       "1494             172.031273       0.000083      48.796817     169.760216   \n",
       "1529             169.887634       0.000083      49.427259     167.631783   \n",
       "1561             177.415459       0.000083      47.504411     175.155975   \n",
       "1595             182.798044       0.000083      48.428016     180.519867   \n",
       "1627             185.000168       0.000083      45.593422     182.737400   \n",
       "1657             167.744402       0.000083      49.351726     165.452691   \n",
       "1690             177.437650       0.000083      49.728000     176.191994   \n",
       "1719             167.765402       0.000083      48.643630     165.474254   \n",
       "\n",
       "              right toe 2-z  right heel-x  right heel-y  right heel-z  \n",
       "frame_number                                                           \n",
       "53                 2.455036     32.509905    129.407018      8.792484  \n",
       "100                2.160192     30.502734    148.731697     11.998443  \n",
       "139                1.499800     31.394341    173.434898      8.503569  \n",
       "180                2.869353     30.567825    150.906839     11.921651  \n",
       "217                1.513235     31.142704    146.571348      8.565510  \n",
       "301                1.461037     28.414938    131.601595     14.762770  \n",
       "346                1.518436     31.121635    145.496496      8.484320  \n",
       "387                1.414694     32.159665    154.084736      7.661540  \n",
       "428                0.804097     33.778980    158.348917      7.056832  \n",
       "507                2.163883     37.019529    167.909666      9.870694  \n",
       "584                9.631559     35.921387    177.612168     15.862197  \n",
       "690                1.522788     37.671202    165.766036      9.919546  \n",
       "757                1.504161     36.523480    153.954884      9.256502  \n",
       "791                2.161042     31.498262    156.245992      9.809529  \n",
       "822                2.200175     34.303782    152.939001      8.470252  \n",
       "857                1.490275     33.658044    155.109742      9.148948  \n",
       "890                5.816444     38.667871    152.851271     13.583445  \n",
       "924                2.205455     38.034324    155.013482     12.044083  \n",
       "956                1.523902     38.800792    156.055496     10.649478  \n",
       "991                1.540566     40.123766    152.813661      9.261829  \n",
       "1026               2.211299     37.577997    162.519941      9.884987  \n",
       "1062              10.857620     34.738671    164.771291     17.082714  \n",
       "1094               2.207669     42.327478    152.768610     12.062805  \n",
       "1125               1.496769     41.484723    145.690256     12.444330  \n",
       "1161               1.522313     37.451824    159.299527      8.553257  \n",
       "1196               1.521581     43.170527    155.959269     10.697988  \n",
       "1227               0.845769     44.618623    155.943859      9.302860  \n",
       "1261               2.169400     39.797947    163.568625     12.699201  \n",
       "1295               1.020626     36.678669    165.093733      8.243096  \n",
       "1329               0.836069     40.615297    165.694208      8.526721  \n",
       "1361               1.529501     44.097165    161.285626      9.993535  \n",
       "1395               1.505976     42.665582    162.404472      7.102300  \n",
       "1429               1.519799     38.301657    162.511696     10.657260  \n",
       "1462               1.288808     42.678367    162.396483      8.300123  \n",
       "1494               1.518949     42.392293    154.932712     11.329631  \n",
       "1529               1.513167     45.381513    156.959885      8.575995  \n",
       "1561               1.513369     44.753712    159.131853     12.128527  \n",
       "1595               1.525755     42.126444    167.796183      9.941977  \n",
       "1627               1.515570     39.330979    171.052672      9.243112  \n",
       "1657               1.534760     40.715862    148.520794     12.733787  \n",
       "1690               0.843603     44.914180    163.432280      9.288251  \n",
       "1719               1.534410     40.781340    150.663482     11.329551  \n",
       "\n",
       "[42 rows x 36 columns]"
      ]
     },
     "execution_count": 21,
     "metadata": {},
     "output_type": "execute_result"
    }
   ],
   "source": [
    "video_features.iloc[trueHSR_indices]"
   ]
  },
  {
   "cell_type": "code",
   "execution_count": 22,
   "metadata": {
    "scrolled": true
   },
   "outputs": [
    {
     "data": {
      "text/html": [
       "<div>\n",
       "<style scoped>\n",
       "    .dataframe tbody tr th:only-of-type {\n",
       "        vertical-align: middle;\n",
       "    }\n",
       "\n",
       "    .dataframe tbody tr th {\n",
       "        vertical-align: top;\n",
       "    }\n",
       "\n",
       "    .dataframe thead th {\n",
       "        text-align: right;\n",
       "    }\n",
       "</style>\n",
       "<table border=\"1\" class=\"dataframe\">\n",
       "  <thead>\n",
       "    <tr style=\"text-align: right;\">\n",
       "      <th></th>\n",
       "      <th>right hip-x</th>\n",
       "      <th>right hip-y</th>\n",
       "      <th>right hip-z</th>\n",
       "      <th>right knee-x</th>\n",
       "      <th>right knee-y</th>\n",
       "      <th>right knee-z</th>\n",
       "      <th>right ankle-x</th>\n",
       "      <th>right ankle-y</th>\n",
       "      <th>right ankle-z</th>\n",
       "      <th>left hip-x</th>\n",
       "      <th>...</th>\n",
       "      <th>left heel-z</th>\n",
       "      <th>right toe 1-x</th>\n",
       "      <th>right toe 1-y</th>\n",
       "      <th>right toe 1-z</th>\n",
       "      <th>right toe 2-x</th>\n",
       "      <th>right toe 2-y</th>\n",
       "      <th>right toe 2-z</th>\n",
       "      <th>right heel-x</th>\n",
       "      <th>right heel-y</th>\n",
       "      <th>right heel-z</th>\n",
       "    </tr>\n",
       "    <tr>\n",
       "      <th>frame_number</th>\n",
       "      <th></th>\n",
       "      <th></th>\n",
       "      <th></th>\n",
       "      <th></th>\n",
       "      <th></th>\n",
       "      <th></th>\n",
       "      <th></th>\n",
       "      <th></th>\n",
       "      <th></th>\n",
       "      <th></th>\n",
       "      <th></th>\n",
       "      <th></th>\n",
       "      <th></th>\n",
       "      <th></th>\n",
       "      <th></th>\n",
       "      <th></th>\n",
       "      <th></th>\n",
       "      <th></th>\n",
       "      <th></th>\n",
       "      <th></th>\n",
       "      <th></th>\n",
       "    </tr>\n",
       "  </thead>\n",
       "  <tbody>\n",
       "    <tr>\n",
       "      <th>0</th>\n",
       "      <td>41.370643</td>\n",
       "      <td>163.228161</td>\n",
       "      <td>99.959804</td>\n",
       "      <td>36.643326</td>\n",
       "      <td>145.290165</td>\n",
       "      <td>86.960413</td>\n",
       "      <td>32.404607</td>\n",
       "      <td>107.722605</td>\n",
       "      <td>24.782969</td>\n",
       "      <td>19.590266</td>\n",
       "      <td>...</td>\n",
       "      <td>28.296674</td>\n",
       "      <td>33.887073</td>\n",
       "      <td>123.654815</td>\n",
       "      <td>14.224877</td>\n",
       "      <td>38.345958</td>\n",
       "      <td>120.902105</td>\n",
       "      <td>16.063455</td>\n",
       "      <td>29.913310</td>\n",
       "      <td>114.414536</td>\n",
       "      <td>20.338801</td>\n",
       "    </tr>\n",
       "    <tr>\n",
       "      <th>1</th>\n",
       "      <td>41.489810</td>\n",
       "      <td>164.325712</td>\n",
       "      <td>99.729965</td>\n",
       "      <td>36.727253</td>\n",
       "      <td>145.644953</td>\n",
       "      <td>87.163416</td>\n",
       "      <td>32.487928</td>\n",
       "      <td>107.963289</td>\n",
       "      <td>24.853433</td>\n",
       "      <td>19.637059</td>\n",
       "      <td>...</td>\n",
       "      <td>28.359521</td>\n",
       "      <td>33.037907</td>\n",
       "      <td>122.701965</td>\n",
       "      <td>15.083775</td>\n",
       "      <td>38.420932</td>\n",
       "      <td>121.197506</td>\n",
       "      <td>16.097618</td>\n",
       "      <td>29.993543</td>\n",
       "      <td>114.673994</td>\n",
       "      <td>20.396808</td>\n",
       "    </tr>\n",
       "    <tr>\n",
       "      <th>2</th>\n",
       "      <td>40.728796</td>\n",
       "      <td>164.768122</td>\n",
       "      <td>99.952857</td>\n",
       "      <td>36.003600</td>\n",
       "      <td>147.928942</td>\n",
       "      <td>86.103504</td>\n",
       "      <td>32.623244</td>\n",
       "      <td>109.553953</td>\n",
       "      <td>24.038792</td>\n",
       "      <td>19.701044</td>\n",
       "      <td>...</td>\n",
       "      <td>27.544598</td>\n",
       "      <td>34.961160</td>\n",
       "      <td>124.268777</td>\n",
       "      <td>14.290404</td>\n",
       "      <td>39.432922</td>\n",
       "      <td>121.495981</td>\n",
       "      <td>16.142338</td>\n",
       "      <td>30.088584</td>\n",
       "      <td>115.009466</td>\n",
       "      <td>20.414202</td>\n",
       "    </tr>\n",
       "    <tr>\n",
       "      <th>3</th>\n",
       "      <td>40.159973</td>\n",
       "      <td>160.651475</td>\n",
       "      <td>100.195847</td>\n",
       "      <td>35.485498</td>\n",
       "      <td>143.326761</td>\n",
       "      <td>86.965627</td>\n",
       "      <td>32.216717</td>\n",
       "      <td>108.267210</td>\n",
       "      <td>23.742999</td>\n",
       "      <td>18.541376</td>\n",
       "      <td>...</td>\n",
       "      <td>18.509690</td>\n",
       "      <td>33.672419</td>\n",
       "      <td>122.835225</td>\n",
       "      <td>14.089248</td>\n",
       "      <td>39.007619</td>\n",
       "      <td>121.332571</td>\n",
       "      <td>15.101749</td>\n",
       "      <td>29.756769</td>\n",
       "      <td>114.918405</td>\n",
       "      <td>19.325933</td>\n",
       "    </tr>\n",
       "    <tr>\n",
       "      <th>4</th>\n",
       "      <td>40.395077</td>\n",
       "      <td>162.842572</td>\n",
       "      <td>99.730411</td>\n",
       "      <td>35.712094</td>\n",
       "      <td>144.947790</td>\n",
       "      <td>86.760146</td>\n",
       "      <td>33.211226</td>\n",
       "      <td>107.410946</td>\n",
       "      <td>24.769385</td>\n",
       "      <td>18.602010</td>\n",
       "      <td>...</td>\n",
       "      <td>20.235141</td>\n",
       "      <td>33.775890</td>\n",
       "      <td>122.052749</td>\n",
       "      <td>15.063996</td>\n",
       "      <td>39.086210</td>\n",
       "      <td>119.281363</td>\n",
       "      <td>16.917555</td>\n",
       "      <td>30.704375</td>\n",
       "      <td>112.816721</td>\n",
       "      <td>21.177855</td>\n",
       "    </tr>\n",
       "    <tr>\n",
       "      <th>...</th>\n",
       "      <td>...</td>\n",
       "      <td>...</td>\n",
       "      <td>...</td>\n",
       "      <td>...</td>\n",
       "      <td>...</td>\n",
       "      <td>...</td>\n",
       "      <td>...</td>\n",
       "      <td>...</td>\n",
       "      <td>...</td>\n",
       "      <td>...</td>\n",
       "      <td>...</td>\n",
       "      <td>...</td>\n",
       "      <td>...</td>\n",
       "      <td>...</td>\n",
       "      <td>...</td>\n",
       "      <td>...</td>\n",
       "      <td>...</td>\n",
       "      <td>...</td>\n",
       "      <td>...</td>\n",
       "      <td>...</td>\n",
       "      <td>...</td>\n",
       "    </tr>\n",
       "    <tr>\n",
       "      <th>1735</th>\n",
       "      <td>41.515564</td>\n",
       "      <td>137.451876</td>\n",
       "      <td>100.000000</td>\n",
       "      <td>35.742624</td>\n",
       "      <td>148.646568</td>\n",
       "      <td>84.653613</td>\n",
       "      <td>32.739362</td>\n",
       "      <td>149.780361</td>\n",
       "      <td>13.903912</td>\n",
       "      <td>11.567446</td>\n",
       "      <td>...</td>\n",
       "      <td>9.995548</td>\n",
       "      <td>33.273470</td>\n",
       "      <td>164.773624</td>\n",
       "      <td>3.965422</td>\n",
       "      <td>41.238126</td>\n",
       "      <td>163.517675</td>\n",
       "      <td>4.822387</td>\n",
       "      <td>28.590621</td>\n",
       "      <td>156.315481</td>\n",
       "      <td>9.558647</td>\n",
       "    </tr>\n",
       "    <tr>\n",
       "      <th>1736</th>\n",
       "      <td>42.097287</td>\n",
       "      <td>133.329501</td>\n",
       "      <td>100.000000</td>\n",
       "      <td>34.999575</td>\n",
       "      <td>147.899273</td>\n",
       "      <td>87.251615</td>\n",
       "      <td>34.634767</td>\n",
       "      <td>142.221940</td>\n",
       "      <td>21.025555</td>\n",
       "      <td>12.251690</td>\n",
       "      <td>...</td>\n",
       "      <td>4.321840</td>\n",
       "      <td>35.870013</td>\n",
       "      <td>156.119137</td>\n",
       "      <td>11.815865</td>\n",
       "      <td>40.901954</td>\n",
       "      <td>153.848687</td>\n",
       "      <td>13.336467</td>\n",
       "      <td>31.870934</td>\n",
       "      <td>146.571769</td>\n",
       "      <td>18.133303</td>\n",
       "    </tr>\n",
       "    <tr>\n",
       "      <th>1737</th>\n",
       "      <td>42.099438</td>\n",
       "      <td>133.322825</td>\n",
       "      <td>100.000000</td>\n",
       "      <td>35.005352</td>\n",
       "      <td>147.911365</td>\n",
       "      <td>87.961349</td>\n",
       "      <td>34.707677</td>\n",
       "      <td>144.347646</td>\n",
       "      <td>20.334225</td>\n",
       "      <td>12.244748</td>\n",
       "      <td>...</td>\n",
       "      <td>4.320795</td>\n",
       "      <td>35.862753</td>\n",
       "      <td>156.155656</td>\n",
       "      <td>12.509365</td>\n",
       "      <td>40.936819</td>\n",
       "      <td>154.941229</td>\n",
       "      <td>13.329981</td>\n",
       "      <td>31.911538</td>\n",
       "      <td>147.645839</td>\n",
       "      <td>18.139080</td>\n",
       "    </tr>\n",
       "    <tr>\n",
       "      <th>1739</th>\n",
       "      <td>42.079886</td>\n",
       "      <td>132.739883</td>\n",
       "      <td>100.000000</td>\n",
       "      <td>35.049207</td>\n",
       "      <td>150.234051</td>\n",
       "      <td>88.393255</td>\n",
       "      <td>29.898624</td>\n",
       "      <td>132.660938</td>\n",
       "      <td>30.039164</td>\n",
       "      <td>12.263315</td>\n",
       "      <td>...</td>\n",
       "      <td>5.693542</td>\n",
       "      <td>34.076293</td>\n",
       "      <td>146.512085</td>\n",
       "      <td>20.868984</td>\n",
       "      <td>35.441555</td>\n",
       "      <td>144.336841</td>\n",
       "      <td>22.315278</td>\n",
       "      <td>27.851156</td>\n",
       "      <td>135.904718</td>\n",
       "      <td>27.882379</td>\n",
       "    </tr>\n",
       "    <tr>\n",
       "      <th>1740</th>\n",
       "      <td>43.039208</td>\n",
       "      <td>139.161813</td>\n",
       "      <td>100.000000</td>\n",
       "      <td>35.088997</td>\n",
       "      <td>151.038834</td>\n",
       "      <td>88.474867</td>\n",
       "      <td>30.502360</td>\n",
       "      <td>129.427850</td>\n",
       "      <td>32.799494</td>\n",
       "      <td>15.309057</td>\n",
       "      <td>...</td>\n",
       "      <td>8.509937</td>\n",
       "      <td>33.989292</td>\n",
       "      <td>144.370633</td>\n",
       "      <td>22.903481</td>\n",
       "      <td>35.377942</td>\n",
       "      <td>142.182103</td>\n",
       "      <td>24.358654</td>\n",
       "      <td>28.410683</td>\n",
       "      <td>131.631202</td>\n",
       "      <td>31.332349</td>\n",
       "    </tr>\n",
       "  </tbody>\n",
       "</table>\n",
       "<p>1547 rows × 36 columns</p>\n",
       "</div>"
      ],
      "text/plain": [
       "              right hip-x  right hip-y  right hip-z  right knee-x  \\\n",
       "frame_number                                                        \n",
       "0               41.370643   163.228161    99.959804     36.643326   \n",
       "1               41.489810   164.325712    99.729965     36.727253   \n",
       "2               40.728796   164.768122    99.952857     36.003600   \n",
       "3               40.159973   160.651475   100.195847     35.485498   \n",
       "4               40.395077   162.842572    99.730411     35.712094   \n",
       "...                   ...          ...          ...           ...   \n",
       "1735            41.515564   137.451876   100.000000     35.742624   \n",
       "1736            42.097287   133.329501   100.000000     34.999575   \n",
       "1737            42.099438   133.322825   100.000000     35.005352   \n",
       "1739            42.079886   132.739883   100.000000     35.049207   \n",
       "1740            43.039208   139.161813   100.000000     35.088997   \n",
       "\n",
       "              right knee-y  right knee-z  right ankle-x  right ankle-y  \\\n",
       "frame_number                                                             \n",
       "0               145.290165     86.960413      32.404607     107.722605   \n",
       "1               145.644953     87.163416      32.487928     107.963289   \n",
       "2               147.928942     86.103504      32.623244     109.553953   \n",
       "3               143.326761     86.965627      32.216717     108.267210   \n",
       "4               144.947790     86.760146      33.211226     107.410946   \n",
       "...                    ...           ...            ...            ...   \n",
       "1735            148.646568     84.653613      32.739362     149.780361   \n",
       "1736            147.899273     87.251615      34.634767     142.221940   \n",
       "1737            147.911365     87.961349      34.707677     144.347646   \n",
       "1739            150.234051     88.393255      29.898624     132.660938   \n",
       "1740            151.038834     88.474867      30.502360     129.427850   \n",
       "\n",
       "              right ankle-z  left hip-x  ...  left heel-z  right toe 1-x  \\\n",
       "frame_number                             ...                               \n",
       "0                 24.782969   19.590266  ...    28.296674      33.887073   \n",
       "1                 24.853433   19.637059  ...    28.359521      33.037907   \n",
       "2                 24.038792   19.701044  ...    27.544598      34.961160   \n",
       "3                 23.742999   18.541376  ...    18.509690      33.672419   \n",
       "4                 24.769385   18.602010  ...    20.235141      33.775890   \n",
       "...                     ...         ...  ...          ...            ...   \n",
       "1735              13.903912   11.567446  ...     9.995548      33.273470   \n",
       "1736              21.025555   12.251690  ...     4.321840      35.870013   \n",
       "1737              20.334225   12.244748  ...     4.320795      35.862753   \n",
       "1739              30.039164   12.263315  ...     5.693542      34.076293   \n",
       "1740              32.799494   15.309057  ...     8.509937      33.989292   \n",
       "\n",
       "              right toe 1-y  right toe 1-z  right toe 2-x  right toe 2-y  \\\n",
       "frame_number                                                               \n",
       "0                123.654815      14.224877      38.345958     120.902105   \n",
       "1                122.701965      15.083775      38.420932     121.197506   \n",
       "2                124.268777      14.290404      39.432922     121.495981   \n",
       "3                122.835225      14.089248      39.007619     121.332571   \n",
       "4                122.052749      15.063996      39.086210     119.281363   \n",
       "...                     ...            ...            ...            ...   \n",
       "1735             164.773624       3.965422      41.238126     163.517675   \n",
       "1736             156.119137      11.815865      40.901954     153.848687   \n",
       "1737             156.155656      12.509365      40.936819     154.941229   \n",
       "1739             146.512085      20.868984      35.441555     144.336841   \n",
       "1740             144.370633      22.903481      35.377942     142.182103   \n",
       "\n",
       "              right toe 2-z  right heel-x  right heel-y  right heel-z  \n",
       "frame_number                                                           \n",
       "0                 16.063455     29.913310    114.414536     20.338801  \n",
       "1                 16.097618     29.993543    114.673994     20.396808  \n",
       "2                 16.142338     30.088584    115.009466     20.414202  \n",
       "3                 15.101749     29.756769    114.918405     19.325933  \n",
       "4                 16.917555     30.704375    112.816721     21.177855  \n",
       "...                     ...           ...           ...           ...  \n",
       "1735               4.822387     28.590621    156.315481      9.558647  \n",
       "1736              13.336467     31.870934    146.571769     18.133303  \n",
       "1737              13.329981     31.911538    147.645839     18.139080  \n",
       "1739              22.315278     27.851156    135.904718     27.882379  \n",
       "1740              24.358654     28.410683    131.631202     31.332349  \n",
       "\n",
       "[1547 rows x 36 columns]"
      ]
     },
     "execution_count": 22,
     "metadata": {},
     "output_type": "execute_result"
    }
   ],
   "source": [
    "video_features"
   ]
  },
  {
   "cell_type": "markdown",
   "metadata": {},
   "source": [
    "### Downsample with smoothing to define fixed shape input tensor for models"
   ]
  },
  {
   "cell_type": "code",
   "execution_count": null,
   "metadata": {},
   "outputs": [],
   "source": [
    "#Use mean with disjoint windows to downsample while smoothing \n",
    "#Make sure to preserve count of frames in a frame before smoothing to add as a feature \n",
    "\n"
   ]
  }
 ],
 "metadata": {
  "kernelspec": {
   "display_name": "Python 3",
   "language": "python",
   "name": "python3"
  },
  "language_info": {
   "codemirror_mode": {
    "name": "ipython",
    "version": 3
   },
   "file_extension": ".py",
   "mimetype": "text/x-python",
   "name": "python",
   "nbconvert_exporter": "python",
   "pygments_lexer": "ipython3",
   "version": "3.7.6"
  }
 },
 "nbformat": 4,
 "nbformat_minor": 4
}
