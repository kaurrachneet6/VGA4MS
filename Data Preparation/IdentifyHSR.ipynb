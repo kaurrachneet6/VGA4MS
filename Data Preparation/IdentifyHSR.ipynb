{
 "cells": [
  {
   "cell_type": "markdown",
   "metadata": {},
   "source": [
    "## Gait Video Study \n",
    "### Identifying frames with HSRs in each video for each cohort and trial to establish break points and also evaluate the corresponding HSR labelling via the ground truth available. Further, downsample with smoothing to define fixed shape of the input tensor for models. \n",
    "#### Remember to preserve the original count of frames in a single stride (before down sampling via smoothing) for each stride to add as an additional artificial feature later to add information about speed of the subject to the model"
   ]
  },
  {
   "cell_type": "code",
   "execution_count": 108,
   "metadata": {},
   "outputs": [],
   "source": [
    "import numpy as np\n",
    "import cv2\n",
    "import os\n",
    "import glob\n",
    "%matplotlib widget\n",
    "import matplotlib.pyplot as plt\n",
    "import pandas as pd\n",
    "import time\n",
    "import shutil\n",
    "import scipy\n",
    "from scipy import signal\n",
    "from scipy.signal import lfilter, firwin, filtfilt, find_peaks, argrelextrema\n",
    "import warnings\n",
    "warnings.filterwarnings(\"ignore\")\n",
    "from IPython.display import display, HTML"
   ]
  },
  {
   "cell_type": "code",
   "execution_count": 109,
   "metadata": {},
   "outputs": [],
   "source": [
    "path = 'C:\\\\Users\\\\purpl\\\\Box\\\\Gait Video Project\\\\GaitVideoData\\\\video\\\\frame_data'\n",
    "frame_path_merged = 'C:\\\\Users\\\\purpl\\\\Box\\\\Gait Video Project\\\\GaitVideoData\\\\video\\\\multi_view_merged_data\\\\'\n",
    "#Folder to store the downsampled hip height normalized multi view merged files for models \n",
    "downsample_path = 'C:\\\\Users\\\\purpl\\\\Box\\\\Gait Video Project\\\\GaitVideoData\\\\video\\\\downsampled_data\\\\'\n",
    "\n",
    "#Configuration for which to run the code for \n",
    "cohorts = ['\\\\HOA', '\\\\MS', '\\\\PD', '\\\\ExtraHOA']\n",
    "trials = ['\\\\beam_walking', '\\\\walking']\n",
    "cameras = ['\\\\feet\\\\', '\\\\lower_body\\\\']\n",
    "\n",
    "order = ['right hip', 'right knee', 'right ankle', 'left hip', 'left knee', 'left ankle', 'left toe 1', 'left toe 2', \\\n",
    "         'left heel', 'right toe 1', 'right toe 2', 'right heel']"
   ]
  },
  {
   "cell_type": "code",
   "execution_count": 110,
   "metadata": {
    "scrolled": true
   },
   "outputs": [],
   "source": [
    "#Saving the HSRframes.txt file to the hip_height_normalized\\\\ containing the final .csvs for analysis\n",
    "# for cohort in cohorts:\n",
    "#     for trial in trials:\n",
    "#         merged_path = frame_path_merged+cohort+trial \n",
    "#         if (os.path.exists(merged_path)):\n",
    "#             videos = os.listdir(merged_path)\n",
    "# #             print (len(videos))\n",
    "#         for video in videos:\n",
    "#             print (glob.glob(path+cohort+trial+'\\\\feet\\\\'+'Inked'+video+'_0_Trim'))\n",
    "#             try:\n",
    "#                 if (not os.path.exists(merged_path+'\\\\'+video+'\\\\HSRframes.txt')):\n",
    "#                     HSR_frames_file = path+cohort+trial+'\\\\feet\\\\'+'Inked'+video+'_0_Trim'+'\\\\HSRframes.txt'\n",
    "#                     shutil.copy(HSR_frames_file, merged_path+'\\\\'+video+'\\\\hip_height_normalized\\\\') \n",
    "#                     print ('HSR for', video, 'copied')\n",
    "#                 else:\n",
    "#                     print ('HSR for', video, 'exists')\n",
    "#             except Exception as e:\n",
    "#                 print (e)"
   ]
  },
  {
   "cell_type": "markdown",
   "metadata": {},
   "source": [
    "### Utility functions "
   ]
  },
  {
   "cell_type": "code",
   "execution_count": 111,
   "metadata": {},
   "outputs": [],
   "source": [
    "# Function to create a dataframe to hold all 12*3 features (right hip-x, right hip-y, ...) \n",
    "#as columns and all frames as rows for each video \n",
    "def compute_video_features(sorted_frames, labels):\n",
    "    '''\n",
    "    Input: sorted frames for the video and labels for the dataframe\n",
    "    Returns: dataframe to hold all 12*3 features as columns and all frames as rows\n",
    "    '''\n",
    "    video_features = pd.DataFrame(columns = labels)\n",
    "    for frame in sorted_frames:\n",
    "        #Append the frame number also in the temp dataframe, since it the \n",
    "        #true HSR is given in frame number\n",
    "        frame_no = int(frame.split('\\\\')[-1][:-4])\n",
    "        frame_csv = pd.read_csv(frame, index_col = 0)\n",
    "        #Appending the 36 features and frame number of each frame as \n",
    "        #a row for each video's dataframe \n",
    "        video_features.loc[len(video_features)] = np.append(frame_no, frame_csv[['x', 'y', 'z']].values.flatten())\n",
    "    video_features = video_features.astype({'frame_number': 'int'})\n",
    "    #Setting the frame number as the index \n",
    "    video_features.set_index('frame_number', inplace = True)\n",
    "    #                 display(video_features)\n",
    "    return video_features"
   ]
  },
  {
   "cell_type": "code",
   "execution_count": 112,
   "metadata": {
    "scrolled": true
   },
   "outputs": [],
   "source": [
    "#Function to plot the given feature across frames of a video and the corresponding ground truth and detected HSRs\n",
    "def plot_true_HSR(signal, index, HSRindices, video, detectedHSR):\n",
    "    fig= plt.figure(figsize = (8.5, 3))\n",
    "    ax1 = fig.add_subplot(111)\n",
    "    #Right heel height series \n",
    "    ax1.plot(index, signal, color = 'b', ls='solid', label = 'right heel height')\n",
    "    #True HSRs\n",
    "    ax1.plot(index[HSRindices], signal[HSRindices], 'r*', ms = 8, alpha = 1, label = 'true HSR')\n",
    "    #Detected HSRs\n",
    "    ax1.plot(index[detectedHSR], signal[detectedHSR], 'gd', ms = 6, alpha = 0.5, label = 'detected HSR')\n",
    "    plt.xticks(index[0::40], fontsize = 8)\n",
    "    plt.legend()\n",
    "    plt.title('Detected and true HSRs using filtered right heel height')\n",
    "    plt.show()\n",
    "    plt.savefig('HSR_detection_figs_values\\\\'+ video+ '_filtered_right_heel_z.png', dpi = 300)\n",
    "#     plt.close()"
   ]
  },
  {
   "cell_type": "code",
   "execution_count": 113,
   "metadata": {},
   "outputs": [],
   "source": [
    "#Function to compute the detected HSRs from the right heel height series \n",
    "#Briefly, it fills missing values, filters, detects local minimas at a pre-assumed distance of 30 frames (1 second)\n",
    "def compute_HSR(series_complete, trueHSR_indices_complete, video):\n",
    "    '''\n",
    "    Input: right heel height series, true HSR indices, video name\n",
    "    Returns: Detected HSRs\n",
    "    '''\n",
    "    #First we use index aware linear interpolation to fill up the right heel height for the missing frames\n",
    "    series_complete.interpolate(method='values', inplace = True)\n",
    "    \n",
    "    #Filtering the series using low pass FIR filter with cutoff of 0.3 i.e.   \n",
    "    #0.3 = cutoff_in_Hz/Nyquist rate of the signal  where Nyquist rate of the signal = sample rate/2 = 30 frames/2 \n",
    "    #hence, cutoff_in_Hz = 0.3*15 = 4.5 frames \n",
    "    #Further, length of the filter (number of coefficients, i.e. the filter order + 1) is 5\n",
    "    a = signal.firwin(5, cutoff = 0.3, window = \"hamming\") \n",
    "    #Low pass filter with window length of 5 and cutoff frequency of 0.3/4.5 frames\n",
    "    fir_series = signal.lfilter(a, [1.0], series_complete.values)\n",
    "    \n",
    "    #Identifying local minimum in right heel's height to define HSRs\n",
    "    #Assuming that HSRs are atleast 30 frames apart (i.e. atleast a second apart)\n",
    "    detectedHSR, _ = find_peaks(-fir_series, distance = 30) \n",
    "    \n",
    "    #Plotting the right heel height (with the missing frames filled) and ground truth HSR \n",
    "    plot_true_HSR(fir_series, series_complete.index, trueHSR_indices_complete, video, detectedHSR)\n",
    "    return detectedHSR"
   ]
  },
  {
   "cell_type": "code",
   "execution_count": 114,
   "metadata": {},
   "outputs": [],
   "source": [
    "#Function to compute the error between the true and detected HSRs for a video\n",
    "def compute_error_HSR(detectedHSR, trueHSR_indices):\n",
    "    '''\n",
    "    Input: A list of true and detected HSR indices for a video\n",
    "    Returns: error list, absolute error list, mean, standard deviation error over a video (in frames) and \n",
    "    mean, standard deviation of absolute error over a video (in frames)\n",
    "    To convert to seconds, divide by 30, since we have 30 frames per second.\n",
    "    '''\n",
    "    abs_error_indices = [np.argmin(abs(i-trueHSR_indices)) for i in detectedHSR]\n",
    "    error = [i-trueHSR_indices[j] for i, j in zip(detectedHSR, abs_error_indices)]\n",
    "    abs_error = list(map(abs, error))\n",
    "    error_stats = [np.mean(error), np.std(error), np.mean(abs_error), np.std(abs_error)]\n",
    "    return error, abs_error, error_stats"
   ]
  },
  {
   "cell_type": "code",
   "execution_count": 115,
   "metadata": {},
   "outputs": [],
   "source": [
    "def rename(dataframe):\n",
    "    dataframe['cohort'][dataframe.cohort=='\\\\ExtraHOA'] = 'HOA'\n",
    "    dataframe['cohort'][dataframe.cohort=='\\\\HOA'] = 'HOA'\n",
    "    dataframe['cohort'][dataframe.cohort=='\\\\MS'] = 'MS'\n",
    "    dataframe['cohort'][dataframe.cohort=='\\\\PD'] = 'PD'\n",
    "    dataframe['trial'][dataframe.trial=='\\\\beam_walking'] = 'BW'\n",
    "    dataframe['trial'][dataframe.trial=='\\\\walking'] = 'W'"
   ]
  },
  {
   "cell_type": "markdown",
   "metadata": {},
   "source": [
    "### main() function "
   ]
  },
  {
   "cell_type": "code",
   "execution_count": 116,
   "metadata": {},
   "outputs": [],
   "source": [
    "labels = ['frame_number'] + [o + '-'+ y for o in order for y in ['x', 'y', 'z']]\n",
    "#Saves cohort, trial, video name, mean, std, abs mean, abs std for the error series, count of true HSRs\n",
    "#, count of detected HSRs, the actual error series for each video and the absolute error series for each video\n",
    "cols = ['cohort', 'trial', 'video', 'heel_mean_error', 'heel_std_error', 'heel_abs_mean_error',\\\n",
    "        'heel_abs_std_error', 'count_trueHSR', 'count_detectedHSR', 'error_list', 'abs_error_list']\n",
    "dataframe_error_stats = pd.DataFrame(columns = cols)"
   ]
  },
  {
   "cell_type": "code",
   "execution_count": null,
   "metadata": {
    "scrolled": true
   },
   "outputs": [
    {
     "name": "stdout",
     "output_type": "stream",
     "text": [
      "GVS_212_T_T1\n"
     ]
    },
    {
     "data": {
      "application/vnd.jupyter.widget-view+json": {
       "model_id": "050482502d394f6eb43a8126337003c7",
       "version_major": 2,
       "version_minor": 0
      },
      "text/plain": [
       "Canvas(toolbar=Toolbar(toolitems=[('Home', 'Reset original view', 'home', 'home'), ('Back', 'Back to previous …"
      ]
     },
     "metadata": {},
     "output_type": "display_data"
    },
    {
     "name": "stdout",
     "output_type": "stream",
     "text": [
      "GVS_212_T_T2\n"
     ]
    },
    {
     "data": {
      "application/vnd.jupyter.widget-view+json": {
       "model_id": "17e87caee5e44c6380a1b372dfa36436",
       "version_major": 2,
       "version_minor": 0
      },
      "text/plain": [
       "Canvas(toolbar=Toolbar(toolitems=[('Home', 'Reset original view', 'home', 'home'), ('Back', 'Back to previous …"
      ]
     },
     "metadata": {},
     "output_type": "display_data"
    },
    {
     "name": "stdout",
     "output_type": "stream",
     "text": [
      "GVS_213_T_T1\n"
     ]
    },
    {
     "data": {
      "application/vnd.jupyter.widget-view+json": {
       "model_id": "e0f6e49bc68e4f618c0b2450c10335fc",
       "version_major": 2,
       "version_minor": 0
      },
      "text/plain": [
       "Canvas(toolbar=Toolbar(toolitems=[('Home', 'Reset original view', 'home', 'home'), ('Back', 'Back to previous …"
      ]
     },
     "metadata": {},
     "output_type": "display_data"
    },
    {
     "name": "stdout",
     "output_type": "stream",
     "text": [
      "GVS_213_T_T2\n"
     ]
    },
    {
     "data": {
      "application/vnd.jupyter.widget-view+json": {
       "model_id": "3e9b884cd077486da4c9aacd6e842f20",
       "version_major": 2,
       "version_minor": 0
      },
      "text/plain": [
       "Canvas(toolbar=Toolbar(toolitems=[('Home', 'Reset original view', 'home', 'home'), ('Back', 'Back to previous …"
      ]
     },
     "metadata": {},
     "output_type": "display_data"
    },
    {
     "name": "stdout",
     "output_type": "stream",
     "text": [
      "GVS_214_T_T1\n"
     ]
    },
    {
     "data": {
      "application/vnd.jupyter.widget-view+json": {
       "model_id": "6de2bcbf4b0b477fb2500b83eeddfa17",
       "version_major": 2,
       "version_minor": 0
      },
      "text/plain": [
       "Canvas(toolbar=Toolbar(toolitems=[('Home', 'Reset original view', 'home', 'home'), ('Back', 'Back to previous …"
      ]
     },
     "metadata": {},
     "output_type": "display_data"
    },
    {
     "name": "stdout",
     "output_type": "stream",
     "text": [
      "GVS_214_T_T2\n"
     ]
    },
    {
     "data": {
      "application/vnd.jupyter.widget-view+json": {
       "model_id": "6be4f2d63c254eeb892554a8c0a4d4c8",
       "version_major": 2,
       "version_minor": 0
      },
      "text/plain": [
       "Canvas(toolbar=Toolbar(toolitems=[('Home', 'Reset original view', 'home', 'home'), ('Back', 'Back to previous …"
      ]
     },
     "metadata": {},
     "output_type": "display_data"
    },
    {
     "name": "stdout",
     "output_type": "stream",
     "text": [
      "GVS_215_T_T1\n"
     ]
    },
    {
     "data": {
      "application/vnd.jupyter.widget-view+json": {
       "model_id": "7e6989f81fb54cf2acf4484628cc1fa5",
       "version_major": 2,
       "version_minor": 0
      },
      "text/plain": [
       "Canvas(toolbar=Toolbar(toolitems=[('Home', 'Reset original view', 'home', 'home'), ('Back', 'Back to previous …"
      ]
     },
     "metadata": {},
     "output_type": "display_data"
    },
    {
     "name": "stdout",
     "output_type": "stream",
     "text": [
      "GVS_215_T_T2\n"
     ]
    },
    {
     "data": {
      "application/vnd.jupyter.widget-view+json": {
       "model_id": "b826358b2ace4bcab549dda1650e0dd0",
       "version_major": 2,
       "version_minor": 0
      },
      "text/plain": [
       "Canvas(toolbar=Toolbar(toolitems=[('Home', 'Reset original view', 'home', 'home'), ('Back', 'Back to previous …"
      ]
     },
     "metadata": {},
     "output_type": "display_data"
    },
    {
     "name": "stdout",
     "output_type": "stream",
     "text": [
      "GVS_216_T_T1\n"
     ]
    },
    {
     "data": {
      "application/vnd.jupyter.widget-view+json": {
       "model_id": "21a852da7a7a44eea5cb71747c0c41a0",
       "version_major": 2,
       "version_minor": 0
      },
      "text/plain": [
       "Canvas(toolbar=Toolbar(toolitems=[('Home', 'Reset original view', 'home', 'home'), ('Back', 'Back to previous …"
      ]
     },
     "metadata": {},
     "output_type": "display_data"
    },
    {
     "name": "stdout",
     "output_type": "stream",
     "text": [
      "GVS_216_T_T2\n"
     ]
    },
    {
     "data": {
      "application/vnd.jupyter.widget-view+json": {
       "model_id": "d4a66e1fb607417e83503597b00acabd",
       "version_major": 2,
       "version_minor": 0
      },
      "text/plain": [
       "Canvas(toolbar=Toolbar(toolitems=[('Home', 'Reset original view', 'home', 'home'), ('Back', 'Back to previous …"
      ]
     },
     "metadata": {},
     "output_type": "display_data"
    },
    {
     "name": "stdout",
     "output_type": "stream",
     "text": [
      "GVS_217_T_T1\n"
     ]
    },
    {
     "data": {
      "application/vnd.jupyter.widget-view+json": {
       "model_id": "c5c47c6d4ba5404f940b34bf1de59b78",
       "version_major": 2,
       "version_minor": 0
      },
      "text/plain": [
       "Canvas(toolbar=Toolbar(toolitems=[('Home', 'Reset original view', 'home', 'home'), ('Back', 'Back to previous …"
      ]
     },
     "metadata": {},
     "output_type": "display_data"
    },
    {
     "name": "stdout",
     "output_type": "stream",
     "text": [
      "GVS_217_T_T2\n"
     ]
    },
    {
     "data": {
      "application/vnd.jupyter.widget-view+json": {
       "model_id": "432f3524a659416d8d7477ac7b4fd846",
       "version_major": 2,
       "version_minor": 0
      },
      "text/plain": [
       "Canvas(toolbar=Toolbar(toolitems=[('Home', 'Reset original view', 'home', 'home'), ('Back', 'Back to previous …"
      ]
     },
     "metadata": {},
     "output_type": "display_data"
    },
    {
     "name": "stdout",
     "output_type": "stream",
     "text": [
      "GVS_218_T_T1\n"
     ]
    },
    {
     "data": {
      "application/vnd.jupyter.widget-view+json": {
       "model_id": "de2baf995fc14e45ac22ce15cc3365c0",
       "version_major": 2,
       "version_minor": 0
      },
      "text/plain": [
       "Canvas(toolbar=Toolbar(toolitems=[('Home', 'Reset original view', 'home', 'home'), ('Back', 'Back to previous …"
      ]
     },
     "metadata": {},
     "output_type": "display_data"
    },
    {
     "name": "stdout",
     "output_type": "stream",
     "text": [
      "GVS_218_T_T2\n"
     ]
    },
    {
     "data": {
      "application/vnd.jupyter.widget-view+json": {
       "model_id": "8fc263c53bf047a4bd24fecd25f7ee6b",
       "version_major": 2,
       "version_minor": 0
      },
      "text/plain": [
       "Canvas(toolbar=Toolbar(toolitems=[('Home', 'Reset original view', 'home', 'home'), ('Back', 'Back to previous …"
      ]
     },
     "metadata": {},
     "output_type": "display_data"
    },
    {
     "name": "stdout",
     "output_type": "stream",
     "text": [
      "GVS_219_T_T1\n"
     ]
    },
    {
     "data": {
      "application/vnd.jupyter.widget-view+json": {
       "model_id": "c8f59dfb719243afa35c765d3a72deb4",
       "version_major": 2,
       "version_minor": 0
      },
      "text/plain": [
       "Canvas(toolbar=Toolbar(toolitems=[('Home', 'Reset original view', 'home', 'home'), ('Back', 'Back to previous …"
      ]
     },
     "metadata": {},
     "output_type": "display_data"
    },
    {
     "name": "stdout",
     "output_type": "stream",
     "text": [
      "GVS_219_T_T2\n"
     ]
    },
    {
     "data": {
      "application/vnd.jupyter.widget-view+json": {
       "model_id": "fede7bcbb1de419386e91ef959e67990",
       "version_major": 2,
       "version_minor": 0
      },
      "text/plain": [
       "Canvas(toolbar=Toolbar(toolitems=[('Home', 'Reset original view', 'home', 'home'), ('Back', 'Back to previous …"
      ]
     },
     "metadata": {},
     "output_type": "display_data"
    },
    {
     "name": "stdout",
     "output_type": "stream",
     "text": [
      "GVS_212_W_T1\n"
     ]
    },
    {
     "data": {
      "application/vnd.jupyter.widget-view+json": {
       "model_id": "673a6295d1d24fedb4df639dba592f1a",
       "version_major": 2,
       "version_minor": 0
      },
      "text/plain": [
       "Canvas(toolbar=Toolbar(toolitems=[('Home', 'Reset original view', 'home', 'home'), ('Back', 'Back to previous …"
      ]
     },
     "metadata": {},
     "output_type": "display_data"
    },
    {
     "name": "stdout",
     "output_type": "stream",
     "text": [
      "GVS_212_W_T2\n"
     ]
    },
    {
     "data": {
      "application/vnd.jupyter.widget-view+json": {
       "model_id": "0d24c4c5b0504719ad5859eebe9381ba",
       "version_major": 2,
       "version_minor": 0
      },
      "text/plain": [
       "Canvas(toolbar=Toolbar(toolitems=[('Home', 'Reset original view', 'home', 'home'), ('Back', 'Back to previous …"
      ]
     },
     "metadata": {},
     "output_type": "display_data"
    },
    {
     "name": "stdout",
     "output_type": "stream",
     "text": [
      "GVS_213_W_T1\n"
     ]
    },
    {
     "data": {
      "application/vnd.jupyter.widget-view+json": {
       "model_id": "e1b6f580f5a04aaa92662ca56030daa4",
       "version_major": 2,
       "version_minor": 0
      },
      "text/plain": [
       "Canvas(toolbar=Toolbar(toolitems=[('Home', 'Reset original view', 'home', 'home'), ('Back', 'Back to previous …"
      ]
     },
     "metadata": {},
     "output_type": "display_data"
    },
    {
     "name": "stdout",
     "output_type": "stream",
     "text": [
      "GVS_213_W_T2\n"
     ]
    },
    {
     "data": {
      "application/vnd.jupyter.widget-view+json": {
       "model_id": "91b89e3234784cf4a5528688db5fc83a",
       "version_major": 2,
       "version_minor": 0
      },
      "text/plain": [
       "Canvas(toolbar=Toolbar(toolitems=[('Home', 'Reset original view', 'home', 'home'), ('Back', 'Back to previous …"
      ]
     },
     "metadata": {},
     "output_type": "display_data"
    },
    {
     "name": "stdout",
     "output_type": "stream",
     "text": [
      "GVS_214_W_T1\n"
     ]
    },
    {
     "data": {
      "application/vnd.jupyter.widget-view+json": {
       "model_id": "cbab656ad9ce4c9fb610d3491b12dbac",
       "version_major": 2,
       "version_minor": 0
      },
      "text/plain": [
       "Canvas(toolbar=Toolbar(toolitems=[('Home', 'Reset original view', 'home', 'home'), ('Back', 'Back to previous …"
      ]
     },
     "metadata": {},
     "output_type": "display_data"
    },
    {
     "name": "stdout",
     "output_type": "stream",
     "text": [
      "GVS_214_W_T2\n"
     ]
    },
    {
     "data": {
      "application/vnd.jupyter.widget-view+json": {
       "model_id": "989b272e76b34890b545dfa73989aa8a",
       "version_major": 2,
       "version_minor": 0
      },
      "text/plain": [
       "Canvas(toolbar=Toolbar(toolitems=[('Home', 'Reset original view', 'home', 'home'), ('Back', 'Back to previous …"
      ]
     },
     "metadata": {},
     "output_type": "display_data"
    },
    {
     "name": "stdout",
     "output_type": "stream",
     "text": [
      "GVS_215_W_T1\n"
     ]
    },
    {
     "data": {
      "application/vnd.jupyter.widget-view+json": {
       "model_id": "be9722504b7444c98856339b52782875",
       "version_major": 2,
       "version_minor": 0
      },
      "text/plain": [
       "Canvas(toolbar=Toolbar(toolitems=[('Home', 'Reset original view', 'home', 'home'), ('Back', 'Back to previous …"
      ]
     },
     "metadata": {},
     "output_type": "display_data"
    },
    {
     "name": "stdout",
     "output_type": "stream",
     "text": [
      "GVS_215_W_T2\n"
     ]
    },
    {
     "data": {
      "application/vnd.jupyter.widget-view+json": {
       "model_id": "3e019104ab08474fa0ab83fcd0d62053",
       "version_major": 2,
       "version_minor": 0
      },
      "text/plain": [
       "Canvas(toolbar=Toolbar(toolitems=[('Home', 'Reset original view', 'home', 'home'), ('Back', 'Back to previous …"
      ]
     },
     "metadata": {},
     "output_type": "display_data"
    },
    {
     "name": "stdout",
     "output_type": "stream",
     "text": [
      "GVS_216_W_T1\n"
     ]
    },
    {
     "data": {
      "application/vnd.jupyter.widget-view+json": {
       "model_id": "ea3857d1c29d4f5aa2ffa7173b8b91e0",
       "version_major": 2,
       "version_minor": 0
      },
      "text/plain": [
       "Canvas(toolbar=Toolbar(toolitems=[('Home', 'Reset original view', 'home', 'home'), ('Back', 'Back to previous …"
      ]
     },
     "metadata": {},
     "output_type": "display_data"
    },
    {
     "name": "stdout",
     "output_type": "stream",
     "text": [
      "GVS_216_W_T2\n"
     ]
    },
    {
     "data": {
      "application/vnd.jupyter.widget-view+json": {
       "model_id": "29bebaad5cd840eda2fd5fb8d34c4715",
       "version_major": 2,
       "version_minor": 0
      },
      "text/plain": [
       "Canvas(toolbar=Toolbar(toolitems=[('Home', 'Reset original view', 'home', 'home'), ('Back', 'Back to previous …"
      ]
     },
     "metadata": {},
     "output_type": "display_data"
    },
    {
     "name": "stdout",
     "output_type": "stream",
     "text": [
      "GVS_217_W_T1\n"
     ]
    },
    {
     "data": {
      "application/vnd.jupyter.widget-view+json": {
       "model_id": "e93c65272eab4b9db80ce10dfd588eeb",
       "version_major": 2,
       "version_minor": 0
      },
      "text/plain": [
       "Canvas(toolbar=Toolbar(toolitems=[('Home', 'Reset original view', 'home', 'home'), ('Back', 'Back to previous …"
      ]
     },
     "metadata": {},
     "output_type": "display_data"
    },
    {
     "name": "stdout",
     "output_type": "stream",
     "text": [
      "GVS_217_W_T2\n"
     ]
    },
    {
     "data": {
      "application/vnd.jupyter.widget-view+json": {
       "model_id": "d2ccde93ec4b4ae684103ca06d3e29da",
       "version_major": 2,
       "version_minor": 0
      },
      "text/plain": [
       "Canvas(toolbar=Toolbar(toolitems=[('Home', 'Reset original view', 'home', 'home'), ('Back', 'Back to previous …"
      ]
     },
     "metadata": {},
     "output_type": "display_data"
    },
    {
     "name": "stdout",
     "output_type": "stream",
     "text": [
      "GVS_218_W_T1\n"
     ]
    },
    {
     "data": {
      "application/vnd.jupyter.widget-view+json": {
       "model_id": "b04f85bcfd044df1bb2ff5ba00422937",
       "version_major": 2,
       "version_minor": 0
      },
      "text/plain": [
       "Canvas(toolbar=Toolbar(toolitems=[('Home', 'Reset original view', 'home', 'home'), ('Back', 'Back to previous …"
      ]
     },
     "metadata": {},
     "output_type": "display_data"
    },
    {
     "name": "stdout",
     "output_type": "stream",
     "text": [
      "GVS_218_W_T2\n"
     ]
    },
    {
     "data": {
      "application/vnd.jupyter.widget-view+json": {
       "model_id": "f8a5f0fd5dd84ed8ab5b95e89e64cf49",
       "version_major": 2,
       "version_minor": 0
      },
      "text/plain": [
       "Canvas(toolbar=Toolbar(toolitems=[('Home', 'Reset original view', 'home', 'home'), ('Back', 'Back to previous …"
      ]
     },
     "metadata": {},
     "output_type": "display_data"
    },
    {
     "name": "stdout",
     "output_type": "stream",
     "text": [
      "GVS_219_W_T1\n"
     ]
    },
    {
     "data": {
      "application/vnd.jupyter.widget-view+json": {
       "model_id": "344cb91065504f96b7796fb14ac205a4",
       "version_major": 2,
       "version_minor": 0
      },
      "text/plain": [
       "Canvas(toolbar=Toolbar(toolitems=[('Home', 'Reset original view', 'home', 'home'), ('Back', 'Back to previous …"
      ]
     },
     "metadata": {},
     "output_type": "display_data"
    },
    {
     "name": "stdout",
     "output_type": "stream",
     "text": [
      "GVS_219_W_T2\n"
     ]
    },
    {
     "data": {
      "application/vnd.jupyter.widget-view+json": {
       "model_id": "2829cba956ff47fea8c46a974c3ad388",
       "version_major": 2,
       "version_minor": 0
      },
      "text/plain": [
       "Canvas(toolbar=Toolbar(toolitems=[('Home', 'Reset original view', 'home', 'home'), ('Back', 'Back to previous …"
      ]
     },
     "metadata": {},
     "output_type": "display_data"
    },
    {
     "name": "stdout",
     "output_type": "stream",
     "text": [
      "GVS_310_T_T1\n"
     ]
    },
    {
     "data": {
      "application/vnd.jupyter.widget-view+json": {
       "model_id": "52f6b2ae4a60495596a457e4184f7f9c",
       "version_major": 2,
       "version_minor": 0
      },
      "text/plain": [
       "Canvas(toolbar=Toolbar(toolitems=[('Home', 'Reset original view', 'home', 'home'), ('Back', 'Back to previous …"
      ]
     },
     "metadata": {},
     "output_type": "display_data"
    },
    {
     "name": "stdout",
     "output_type": "stream",
     "text": [
      "GVS_310_T_T2\n"
     ]
    },
    {
     "data": {
      "application/vnd.jupyter.widget-view+json": {
       "model_id": "59b1092144a24f10a2aab3d8357b0a8c",
       "version_major": 2,
       "version_minor": 0
      },
      "text/plain": [
       "Canvas(toolbar=Toolbar(toolitems=[('Home', 'Reset original view', 'home', 'home'), ('Back', 'Back to previous …"
      ]
     },
     "metadata": {},
     "output_type": "display_data"
    },
    {
     "name": "stdout",
     "output_type": "stream",
     "text": [
      "GVS_311_T_T1\n"
     ]
    },
    {
     "data": {
      "application/vnd.jupyter.widget-view+json": {
       "model_id": "9c9e4e91e62949b89223909d69cbb21a",
       "version_major": 2,
       "version_minor": 0
      },
      "text/plain": [
       "Canvas(toolbar=Toolbar(toolitems=[('Home', 'Reset original view', 'home', 'home'), ('Back', 'Back to previous …"
      ]
     },
     "metadata": {},
     "output_type": "display_data"
    },
    {
     "name": "stdout",
     "output_type": "stream",
     "text": [
      "GVS_311_T_T2\n"
     ]
    },
    {
     "data": {
      "application/vnd.jupyter.widget-view+json": {
       "model_id": "0ccb145ec5bb4298ad70f64ff5b636a9",
       "version_major": 2,
       "version_minor": 0
      },
      "text/plain": [
       "Canvas(toolbar=Toolbar(toolitems=[('Home', 'Reset original view', 'home', 'home'), ('Back', 'Back to previous …"
      ]
     },
     "metadata": {},
     "output_type": "display_data"
    },
    {
     "name": "stdout",
     "output_type": "stream",
     "text": [
      "GVS_312_T_T2\n"
     ]
    },
    {
     "data": {
      "application/vnd.jupyter.widget-view+json": {
       "model_id": "e237fcf277c7400f8d5db5a3f343a0b9",
       "version_major": 2,
       "version_minor": 0
      },
      "text/plain": [
       "Canvas(toolbar=Toolbar(toolitems=[('Home', 'Reset original view', 'home', 'home'), ('Back', 'Back to previous …"
      ]
     },
     "metadata": {},
     "output_type": "display_data"
    },
    {
     "name": "stdout",
     "output_type": "stream",
     "text": [
      "GVS_314_T_T1\n"
     ]
    },
    {
     "data": {
      "application/vnd.jupyter.widget-view+json": {
       "model_id": "76c473c218b44c09bb0bd46b3c727e34",
       "version_major": 2,
       "version_minor": 0
      },
      "text/plain": [
       "Canvas(toolbar=Toolbar(toolitems=[('Home', 'Reset original view', 'home', 'home'), ('Back', 'Back to previous …"
      ]
     },
     "metadata": {},
     "output_type": "display_data"
    },
    {
     "name": "stdout",
     "output_type": "stream",
     "text": [
      "GVS_314_T_T2\n"
     ]
    },
    {
     "data": {
      "application/vnd.jupyter.widget-view+json": {
       "model_id": "4fab9b2be3574f07a15b2966013ca5d0",
       "version_major": 2,
       "version_minor": 0
      },
      "text/plain": [
       "Canvas(toolbar=Toolbar(toolitems=[('Home', 'Reset original view', 'home', 'home'), ('Back', 'Back to previous …"
      ]
     },
     "metadata": {},
     "output_type": "display_data"
    },
    {
     "name": "stdout",
     "output_type": "stream",
     "text": [
      "GVS_318_T_T1\n"
     ]
    }
   ],
   "source": [
    "for cohort in cohorts:\n",
    "    for trial in trials:\n",
    "        merged_path = frame_path_merged+cohort+trial \n",
    "        if (os.path.exists(merged_path)):\n",
    "            videos = os.listdir(merged_path)\n",
    "#             print (len(videos))\n",
    "        for video in videos:\n",
    "            print (video)\n",
    "            #Reading the ground truth HSR frames numbers\n",
    "            trueHSR = open(merged_path+'\\\\'+video+'\\\\hip_height_normalized\\\\'+'\\\\HSRframes.txt').read()\n",
    "            #Making a list containing ground truth HSRs out of the read file\n",
    "            trueHSR_list = [int(a) for a in trueHSR.split(',')]\n",
    "            count_trueHSR = len(trueHSR_list) #Count of true HSRs\n",
    "            \n",
    "            frames = glob.glob(merged_path+'\\\\'+video+'\\\\hip_height_normalized\\\\*.csv')\n",
    "            #First, we need to sort the frames since we need frames to appear \n",
    "            #in order to detect HSRs\n",
    "            sorted_frames = sorted(frames,  key=lambda name: int(name.split('\\\\')[-1][:-4]))\n",
    "            #Dataframe to hold all 12*3 features (right hip-x, right hip-y, ...) \n",
    "            #as columns and all frames as rows for each video \n",
    "            video_features = compute_video_features(sorted_frames, labels)\n",
    "            #If some frames are missing, appending those rows with NaN values \n",
    "            video_features_complete = video_features.reindex(range(video_features.index[-1]))\n",
    "            \n",
    "            #Indices for the ground truth HSR in the video_features_complete dataframe \n",
    "            #(containing NaN valued placeholders for the missing frames)\n",
    "            trueHSR_indices_complete = [i for i, val in enumerate(video_features_complete.index) if val in trueHSR_list] \n",
    "\n",
    "            #Right heel height with missing frames encoded as NaNs\n",
    "            series_complete = video_features_complete['right heel-z']\n",
    "            #Computing the detected HSRs\n",
    "            detectedHSR = compute_HSR(series_complete, trueHSR_indices_complete, video)\n",
    "            #Saving the detected HSRs to a new .txt file\n",
    "            detectedHSR_file = open('HSR_detection_figs_values\\\\'+ video+ '_detectedHSRs.txt', 'w') \n",
    "            detectedHSR_file.writelines(', '.join([str(x) for x in detectedHSR])) \n",
    "            detectedHSR_file.close()\n",
    "            #Computing the error, absolute error and error stats for the detected and true HSR of the video\n",
    "            HSR_error, HSR_abs_error, heel_error_stats = compute_error_HSR(detectedHSR, trueHSR_indices)\n",
    "            #Saving the errors and corresponding stats to a dataframe for error analysis \n",
    "            dataframe_error_stats.loc[len(dataframe_error_stats)] = [cohort]+[trial]+[video]+ heel_error_stats + \\\n",
    "            [count_trueHSR] + [len(detectedHSR)] + [HSR_error] + [HSR_abs_error]\n",
    "#Saving the csv with errors for error analysis later \n",
    "dataframe_error_stats.to_csv('HSR_detection_figs_values\\\\dataframe_error_stats_HSR_identification.csv')"
   ]
  },
  {
   "cell_type": "code",
   "execution_count": 10,
   "metadata": {},
   "outputs": [
    {
     "data": {
      "text/plain": [
       "heel_mean_error         3.435317\n",
       "heel_std_error         11.695836\n",
       "heel_abs_mean_error    10.051407\n",
       "heel_abs_std_error      7.956026\n",
       "toe1_mean_error         3.950464\n",
       "toe1_std_error         11.176331\n",
       "toe1_abs_mean_error     9.686243\n",
       "toe1_abs_std_error      7.903263\n",
       "toe2_mean_error         3.845834\n",
       "toe2_std_error         10.966280\n",
       "toe2_abs_mean_error     9.540808\n",
       "toe2_abs_std_error      7.739137\n",
       "dtype: float64"
      ]
     },
     "execution_count": 10,
     "metadata": {},
     "output_type": "execute_result"
    }
   ],
   "source": [
    "dataframe_error_stats.mean() #cutoff 0.3"
   ]
  },
  {
   "cell_type": "markdown",
   "metadata": {},
   "source": [
    "### HSR identification error analysis \n",
    "Refer https://pubmed.ncbi.nlm.nih.gov/18657816/ for evaluation strategies \n",
    "1. Qualitative plot \n",
    "2. Distribution/histogram of error (use mean, not absolute mean) estimates \n",
    "3. Mean, SD for overall errors and analysis on HOA/MS/PD subgroups \n",
    "4. t-test for significant difference wrt to a reference error (collapse across each subject, so that we do not have repeated measures across same subject)\n",
    "5. Linear mixed model trial/cohort to check differences between cohorts and trials "
   ]
  },
  {
   "cell_type": "code",
   "execution_count": 22,
   "metadata": {},
   "outputs": [],
   "source": [
    "#Do we need the missing frame information \n",
    "#We might need to annotate the ground truth HSR frames in the plot \n",
    "#https://stackoverflow.com/questions/14432557/matplotlib-scatter-plot-with-different-text-at-each-data-point\n",
    "#For any algorithm to find the HSR's, we might need to fill missing values in the series we are using to detect HSR\n",
    "#The ground truth HSR markers are not shown when the values are NAN- solve?\n",
    "\n"
   ]
  },
  {
   "cell_type": "code",
   "execution_count": null,
   "metadata": {},
   "outputs": [],
   "source": [
    "[int(i) for i in str(HSR_error)[1:-1].split(',')]"
   ]
  },
  {
   "cell_type": "code",
   "execution_count": 16,
   "metadata": {},
   "outputs": [
    {
     "data": {
      "application/vnd.jupyter.widget-view+json": {
       "model_id": "232499973b8f4eb7b813ff34dd278ef4",
       "version_major": 2,
       "version_minor": 0
      },
      "text/plain": [
       "Canvas(toolbar=Toolbar(toolitems=[('Home', 'Reset original view', 'home', 'home'), ('Back', 'Back to previous …"
      ]
     },
     "metadata": {},
     "output_type": "display_data"
    }
   ],
   "source": [
    "plt.figure()\n",
    "dataframe_error_stats['heel_mean_error'].hist()\n",
    "plt.show()"
   ]
  },
  {
   "cell_type": "code",
   "execution_count": null,
   "metadata": {},
   "outputs": [],
   "source": [
    "#Add the SD also in cohort wise analysis \n",
    "HOA-7.27161818\n",
    "MS-11.73048726\n",
    "PD-12.39653977"
   ]
  },
  {
   "cell_type": "markdown",
   "metadata": {},
   "source": [
    "### Downsample with smoothing to define fixed shape input tensor for models\n",
    "The downsampled final .csvs are stored in C:\\Users\\purpl\\Box\\Gait Video Project\\GaitVideoData\\video\\downsampled_data"
   ]
  },
  {
   "cell_type": "code",
   "execution_count": 11,
   "metadata": {},
   "outputs": [],
   "source": [
    "## Run only once to create directories \n",
    "#To create all directories for saving the downsampled hip height normalized multi view merged data files \n",
    "# for cohort in cohorts:\n",
    "#     for trial in trials:   \n",
    "#         merged_path = frame_path_merged+cohort+trial \n",
    "#         if (os.path.exists(merged_path)):\n",
    "#             videos = os.listdir(merged_path)\n",
    "# #             print (len(videos))\n",
    "#             for video in videos:         \n",
    "#                 if not os.path.exists(downsample_path+cohort+trial+'\\\\'+video):\n",
    "#                     os.makedirs(downsample_path+cohort+trial+'\\\\'+video)"
   ]
  },
  {
   "cell_type": "code",
   "execution_count": null,
   "metadata": {},
   "outputs": [],
   "source": [
    "#Use mean with disjoint windows to downsample while smoothing \n",
    "#Make sure to preserve count of frames in a stride before smoothing to add as a feature \n",
    "\n"
   ]
  }
 ],
 "metadata": {
  "kernelspec": {
   "display_name": "Python 3",
   "language": "python",
   "name": "python3"
  },
  "language_info": {
   "codemirror_mode": {
    "name": "ipython",
    "version": 3
   },
   "file_extension": ".py",
   "mimetype": "text/x-python",
   "name": "python",
   "nbconvert_exporter": "python",
   "pygments_lexer": "ipython3",
   "version": "3.7.6"
  }
 },
 "nbformat": 4,
 "nbformat_minor": 4
}
