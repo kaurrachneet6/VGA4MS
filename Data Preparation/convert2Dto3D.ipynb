{
 "cells": [
  {
   "cell_type": "markdown",
   "metadata": {},
   "source": [
    "## Gait Video Study \n",
    "### From the camera calibration intrinsic and extrinsic matrix, computing the 3D from 2D coordinates for both front camera and side camera looks "
   ]
  },
  {
   "cell_type": "code",
   "execution_count": 1,
   "metadata": {},
   "outputs": [],
   "source": [
    "import numpy as np\n",
    "import cv2\n",
    "import os\n",
    "import glob\n",
    "import matplotlib.pyplot as plt\n",
    "import pandas as pd\n",
    "import time"
   ]
  },
  {
   "cell_type": "code",
   "execution_count": 2,
   "metadata": {},
   "outputs": [],
   "source": [
    "path = 'C:\\\\Users\\\\purpl\\\\Box\\\\Gait Video Project\\\\CameraCalibration\\\\'\n",
    "raw_path = 'C:\\\\Users\\\\purpl\\\\Box\\\\Gait Video Project\\\\GaitVideoData\\\\video\\\\openpose_data' \n",
    "frame_path3d = 'C:\\\\Users\\\\purpl\\\\Box\\\\Gait Video Project\\\\GaitVideoData\\\\video\\\\3D_data'"
   ]
  },
  {
   "cell_type": "code",
   "execution_count": 3,
   "metadata": {},
   "outputs": [],
   "source": [
    "#Configuration for which to run the code for \n",
    "cohorts = ['\\\\HOA', '\\\\MS', '\\\\PD', '\\\\ExtraHOA']\n",
    "trials = ['\\\\beam_walking', '\\\\walking']\n",
    "cameras = ['\\\\feet\\\\', '\\\\lower_body\\\\']"
   ]
  },
  {
   "cell_type": "code",
   "execution_count": 4,
   "metadata": {},
   "outputs": [],
   "source": [
    "## Run only once to create directories \n",
    "#To create all directories for saving the 3D\n",
    "# for cohort in cohorts:\n",
    "#     for trial in trials[1:]:\n",
    "#         for camera in cameras[1:]:    \n",
    "#             frame_path2d = frame_path+cohort+trial+camera #Path to save the frames to \n",
    "#             videos = os.listdir(frame_path2d)\n",
    "#             for video in videos:\n",
    "#                 if not os.path.exists(frame_path3d+cohort+trial+camera+video):\n",
    "#                     os.makedirs(frame_path3d+cohort+trial+camera+video)"
   ]
  },
  {
   "cell_type": "markdown",
   "metadata": {},
   "source": [
    "### Front look camera (_1)"
   ]
  },
  {
   "cell_type": "code",
   "execution_count": 5,
   "metadata": {},
   "outputs": [
    {
     "name": "stdout",
     "output_type": "stream",
     "text": [
      "Computed camera matrix\n",
      " [[560.02665252   0.         402.60078829]\n",
      " [  0.         869.92913382 252.54590069]\n",
      " [  0.           0.           1.        ]]\n",
      "Computed distortion matrix\n",
      " [[-4.70342049e-01  9.05259576e+00  4.59566683e-03  2.16735826e-02\n",
      "  -5.32980337e+01]]\n",
      "Computed rotation vector\n",
      " [[ 0.04456356]\n",
      " [ 3.01837349]\n",
      " [-0.90960737]]\n",
      "Computed translation vector\n",
      " [[  31.90938981]\n",
      " [-232.49838609]\n",
      " [ 249.25996024]]\n"
     ]
    }
   ],
   "source": [
    "#Use the post processed 2D files from hereon\n",
    "# Save the new file in 3D_data folder. Make sure to preserve the confidence score of the estimated coordinate\n",
    "#since we will do weighted combining based on the confidence score later on estimated 3D coordinates\n",
    "# Load previously saved intrinsic and extrinsic matrices \n",
    "\n",
    "#Retrieving the lower body intrinsic and extrinsic coordinates \n",
    "frontlook_mtx = np.load(path+'June\\\\frontlook\\\\calibrate\\\\frontlook_camera_matrix.npy')\n",
    "frontlook_dist = np.load(path+'June\\\\frontlook\\\\calibrate\\\\frontlook_distortion_matrix.npy')\n",
    "frontlook_rvecs = np.load(path+'June\\\\frontlook\\\\calibrate\\\\frontlook_rotation_matrix.npy')\n",
    "frontlook_tvecs = np.load(path+'June\\\\frontlook\\\\calibrate\\\\frontlook_translation_matrix.npy')\n",
    "\n",
    "print ('Computed camera matrix\\n', frontlook_mtx)\n",
    "print ('Computed distortion matrix\\n', frontlook_dist)\n",
    "print ('Computed rotation vector\\n', frontlook_rvecs)\n",
    "print ('Computed translation vector\\n', frontlook_tvecs)\n",
    "\n",
    "rotM = cv2.Rodrigues(frontlook_rvecs)[0]"
   ]
  },
  {
   "cell_type": "code",
   "execution_count": 6,
   "metadata": {},
   "outputs": [],
   "source": [
    "#Dimensions of the image \n",
    "w = 800\n",
    "h = 448\n",
    "\n",
    "#Order of saved coordinates \n",
    "order = ['right hip', 'right knee', 'right ankle', 'left hip', 'left knee', 'left ankle', 'left toe 1', 'left toe 2', \\\n",
    "         'left heel', 'right toe 1', 'right toe 2', 'right heel']"
   ]
  },
  {
   "cell_type": "code",
   "execution_count": 7,
   "metadata": {},
   "outputs": [],
   "source": [
    "def convert2d_to_3d(coord, scale, shift_array):\n",
    "    frontlook_tvecs1 = frontlook_tvecs-np.array(shift_array)\n",
    "    col = coord[0]\n",
    "    row = coord[1]\n",
    "    u=col-w/2\n",
    "    v=h/2-row\n",
    "    p = np.matmul(np.linalg.pinv(frontlook_mtx), np.array([col, row, 1]))\n",
    "    return (np.matmul(np.matrix(rotM).T, (scale*p.reshape(-1,1) - np.matrix(frontlook_tvecs1))).T)"
   ]
  },
  {
   "cell_type": "code",
   "execution_count": 37,
   "metadata": {},
   "outputs": [
    {
     "data": {
      "text/plain": [
       "['InkedGVS_102_W_T1_1_Trim',\n",
       " 'InkedGVS_112_W_T1_1_Trim',\n",
       " 'InkedGVS_113_W_T1_1_Trim',\n",
       " 'InkedGVS_115_W_T1_1_Trim',\n",
       " 'InkedGVS_123_W_T1_1_Trim',\n",
       " 'InkedGVS_124_W_T1_1_Trim']"
      ]
     },
     "execution_count": 37,
     "metadata": {},
     "output_type": "execute_result"
    }
   ],
   "source": [
    "frame_path = raw_path+'\\\\ExtraHOA'+'\\\\walking\\\\'+'lower_body\\\\' #Path to save the frames to \n",
    "os.listdir(frame_path)"
   ]
  },
  {
   "cell_type": "code",
   "execution_count": 48,
   "metadata": {},
   "outputs": [],
   "source": [
    "#Make a dictionary of arrays for all videos, where the key is the video name and value is the correponding array\n",
    "array1 = np.array([[5], [5], [-520]])\n",
    "array2 = np.array([[5], [-60], [-530]])\n",
    "array3 = np.array([[5], [-80], [-530]])\n",
    "array4 = np.array([[5], [-120], [-530]])\n",
    "\n",
    "arrays = {\n",
    "  **dict.fromkeys(['InkedGVS_212_T_T1_1_Trim',  'InkedGVS_212_T_T2_1_Trim', 'InkedGVS_213_T_T1_1_Trim',\\\n",
    " 'InkedGVS_213_T_T2_1_Trim', 'InkedGVS_214_T_T1_1_Trim', 'InkedGVS_214_T_T2_1_Trim',\\\n",
    "    'InkedGVS_215_T_T1_1_Trim', 'InkedGVS_215_T_T2_1_Trim', 'InkedGVS_216_T_T1_1_Trim', 'InkedGVS_216_T_T2_1_Trim', \\\n",
    "  'InkedGVS_218_T_T1_1_Trim', 'InkedGVS_218_T_T2_1_Trim', 'InkedGVS_219_T_T1_1_Trim', 'InkedGVS_219_T_T2_1_Trim', \\\n",
    "  'InkedGVS_212_W_T1_1_Trim', 'InkedGVS_212_W_T2_1_Trim', 'InkedGVS_213_W_T1_1_Trim', 'InkedGVS_213_W_T2_1_Trim', \\\n",
    "  'InkedGVS_214_W_T1_1_Trim', 'InkedGVS_214_W_T2_1_Trim', 'InkedGVS_215_W_T1_1_Trim', 'InkedGVS_215_W_T2_1_Trim', \\\n",
    "  'InkedGVS_216_W_T1_1_Trim', 'InkedGVS_216_W_T2_1_Trim', 'InkedGVS_218_W_T1_1_Trim', 'InkedGVS_218_W_T2_1_Trim', \\\n",
    "  'InkedGVS_219_W_T1_1_Trim', 'InkedGVS_219_W_T2_1_Trim', \\\n",
    "  'InkedGVS_310_T_T1_1_Trim', 'InkedGVS_310_T_T2_1_Trim', 'InkedGVS_311_T_T1_1_Trim', 'InkedGVS_311_T_T2_1_Trim', \\\n",
    "  'InkedGVS_312_T_T1_Trim', 'InkedGVS_312_T_T2_Trim', 'InkedGVS_314_T_T1_1_Trim', 'InkedGVS_314_T_T2_1_Trim', \\\n",
    "  'InkedGVS_318_T_T1_Trim', 'InkedGVS_318_T_T2_Trim', 'InkedGVS_320_T_T1_1_Trim', 'InkedGVS_320_T_T2_1_Trim', \\\n",
    "  'InkedGVS_321_T_T1_1_Trim', 'InkedGVS_321_T_T2_1_Trim', 'InkedGVS_323_T_T1_1_Trim', \\\n",
    "  'InkedGVS_310_W_T1_1_Trim', 'InkedGVS_310_W_T2_1_Trim', 'InkedGVS_311_W_T1_1_Trim',\\\n",
    "   'InkedGVS_311_W_T2_1', 'InkedGVS_312_W_T2_Trim', 'InkedGVS_313_W_T1_1_Trim', 'InkedGVS_313_W_T2_1_Trim', \\\n",
    "  'InkedGVS_314_W_T1_1_Trim', 'InkedGVS_314_W_T2_1_Trim', 'InkedGVS_318_W_T1_Trim', 'InkedGVS_318_W_T2_Trim', \\\n",
    "  'InkedGVS_320_W_T1_1_Trim', 'InkedGVS_320_W_T2_1_Trim', 'InkedGVS_321_W_T1_1_Trim', 'InkedGVS_321_W_T2_1_Trim', \\\n",
    "  'InkedGVS_322_W_T1_1_Trim', 'InkedGVS_322_W_T2_1_Trim', 'InkedGVS_323_W_T1_1_Trim',\\\n",
    "   'InkedGVS_323_W_T2_1_Trim', 'InkedGVS_403_T_T1_1_Trim', 'InkedGVS_403_T_T2_1_Trim', 'InkedGVS_406_T_T1_1_Trim', \\\n",
    "  'InkedGVS_406_T_T2_1_Trim', 'InkedGVS_407_T_T1_1_Trim', 'InkedGVS_407_T_T2_1_Trim', 'InkedGVS_408_T_T1_1_Trim', \\\n",
    "  'InkedGVS_408_T_T2_1_Trim', 'InkedGVS_403_W_T2_1_Trim', 'InkedGVS_405_W_T1_Trim', 'InkedGVS_405_W_T2_Trim', \\\n",
    "  'InkedGVS_405_W_T3_Trim', 'InkedGVS_405_W_T4_Trim', 'InkedGVS_406_W_T1_1_Trim', 'InkedGVS_406_W_T2_1_Trim', \\\n",
    "  'InkedGVS_407_W_T1_1_Trim', 'InkedGVS_407_W_T2_1_Trim', 'InkedGVS_408_W_T1_1_Trim', 'InkedGVS_408_W_T2_1_Trim'],\\\n",
    "                  array1), \n",
    "  **dict.fromkeys(['InkedGVS_217_T_T1_1_Trim', 'InkedGVS_217_T_T2_1_Trim', 'InkedGVS_409_T_T1_Trim', \\\n",
    "                  'InkedGVS_409_T_T2_Trim'], array2),\n",
    "  **dict.fromkeys(['InkedGVS_217_W_T1_1_Trim', 'InkedGVS_217_W_T2_1_Trim', 'InkedGVS_410_T_T1_1_Trim', \\\n",
    "                  'InkedGVS_410_T_T2_1_Trim', 'InkedGVS_404_W_T1_1_Trim', 'InkedGVS_404_W_T2_1_Trim', \\\n",
    "                  'InkedGVS_404_W_T3_1_Trim', 'InkedGVS_404_W_T4_1_Trim', 'InkedGVS_409_W_T1_Trim', \\\n",
    "                  'InkedGVS_409_W_T2_Trim', 'InkedGVS_410_W_T1_1_Trim', 'InkedGVS_410_W_T2_1_Trim', \\\n",
    "                  'InkedGVS_411_W_T1_1_Trim', 'InkedGVS_411_W_T2_1_Trim', 'InkedGVS_411_W_T3_1_Trim', \\\n",
    "                  'InkedGVS_411_W_T4_1_Trim', 'InkedGVS_102_W_T1_1_Trim'], array3),\n",
    "    **dict.fromkeys(['InkedGVS_112_W_T1_1_Trim', 'InkedGVS_113_W_T1_1_Trim', 'InkedGVS_115_W_T1_1_Trim', \\\n",
    "                    'InkedGVS_123_W_T1_1_Trim', 'InkedGVS_124_W_T1_1_Trim'], array4), \n",
    "}\n",
    "\n",
    "#Make a dictionary for all videos, where the key is the video name and value is corresponding scales for \n",
    "#hip, knee, ankles, toes and heels \n",
    "scale_hip1 = [[(37+65+300)], [(37+65+500)], [(37+65+500)]]\n",
    "scale_knee1 =  [[(37+65+300)], [(37+65+700)], [(37+65+520)]]\n",
    "scale_feet1 = [[(37+65+300)], [(37+65+1000)], [(37+65+590)]]\n",
    "scale_feet2 = [[(37+65+300)], [(37+65+300)], [(37+65+550)]]\n",
    "\n",
    "scales_hip = {\n",
    "  **dict.fromkeys(['InkedGVS_212_T_T1_1_Trim',  'InkedGVS_212_T_T2_1_Trim', 'InkedGVS_213_T_T1_1_Trim',\\\n",
    " 'InkedGVS_213_T_T2_1_Trim', 'InkedGVS_214_T_T1_1_Trim', 'InkedGVS_214_T_T2_1_Trim',\\\n",
    "    'InkedGVS_215_T_T1_1_Trim', 'InkedGVS_215_T_T2_1_Trim', 'InkedGVS_216_T_T1_1_Trim', 'InkedGVS_216_T_T2_1_Trim', \\\n",
    "      'InkedGVS_217_T_T1_1_Trim', 'InkedGVS_217_T_T2_1_Trim', 'InkedGVS_218_T_T1_1_Trim', \\\n",
    "      'InkedGVS_218_T_T2_1_Trim', 'InkedGVS_219_T_T1_1_Trim', 'InkedGVS_219_T_T2_1_Trim', 'InkedGVS_212_W_T1_1_Trim',\\\n",
    "      'InkedGVS_212_W_T2_1_Trim', 'InkedGVS_213_W_T1_1_Trim', 'InkedGVS_213_W_T2_1_Trim', \\\n",
    "      'InkedGVS_214_W_T1_1_Trim', 'InkedGVS_214_W_T2_1_Trim', 'InkedGVS_215_W_T1_1_Trim', \\\n",
    "      'InkedGVS_215_W_T2_1_Trim', 'InkedGVS_216_W_T1_1_Trim', 'InkedGVS_216_W_T2_1_Trim', \\\n",
    "       'InkedGVS_217_W_T1_1_Trim', 'InkedGVS_217_W_T2_1_Trim', 'InkedGVS_218_W_T1_1_Trim', \\\n",
    "       'InkedGVS_218_W_T2_1_Trim', 'InkedGVS_219_W_T1_1_Trim', 'InkedGVS_219_W_T2_1_Trim', \\\n",
    "      'InkedGVS_310_T_T1_1_Trim', 'InkedGVS_310_T_T2_1_Trim', 'InkedGVS_311_T_T1_1_Trim', \\\n",
    "      'InkedGVS_311_T_T2_1_Trim', 'InkedGVS_312_T_T1_Trim', 'InkedGVS_312_T_T2_Trim', \\\n",
    "      'InkedGVS_314_T_T1_1_Trim', 'InkedGVS_314_T_T2_1_Trim', 'InkedGVS_318_T_T1_Trim', \\\n",
    "      'InkedGVS_318_T_T2_Trim', 'InkedGVS_320_T_T1_1_Trim', 'InkedGVS_320_T_T2_1_Trim', \\\n",
    "      'InkedGVS_321_T_T1_1_Trim', 'InkedGVS_321_T_T2_1_Trim', 'InkedGVS_323_T_T1_1_Trim', \\\n",
    "      'InkedGVS_310_W_T1_1_Trim', 'InkedGVS_310_W_T2_1_Trim', 'InkedGVS_311_W_T1_1_Trim', \\\n",
    "      'InkedGVS_311_W_T2_1', 'InkedGVS_312_W_T2_Trim', 'InkedGVS_313_W_T1_1_Trim', \\\n",
    "      'InkedGVS_313_W_T2_1_Trim', 'InkedGVS_314_W_T1_1_Trim', 'InkedGVS_314_W_T2_1_Trim', \\\n",
    "      'InkedGVS_318_W_T1_Trim', 'InkedGVS_318_W_T2_Trim', 'InkedGVS_320_W_T1_1_Trim', \\\n",
    "      'InkedGVS_320_W_T2_1_Trim', 'InkedGVS_321_W_T1_1_Trim', 'InkedGVS_321_W_T2_1_Trim', \\\n",
    "      'InkedGVS_322_W_T1_1_Trim', 'InkedGVS_322_W_T2_1_Trim', 'InkedGVS_323_W_T1_1_Trim', \\\n",
    "      'InkedGVS_323_W_T2_1_Trim', 'InkedGVS_403_T_T1_1_Trim', 'InkedGVS_403_T_T2_1_Trim', \\\n",
    "       'InkedGVS_406_T_T1_1_Trim', 'InkedGVS_406_T_T2_1_Trim', 'InkedGVS_407_T_T1_1_Trim', \\\n",
    "      'InkedGVS_407_T_T2_1_Trim', 'InkedGVS_408_T_T1_1_Trim', 'InkedGVS_408_T_T2_1_Trim', \\\n",
    "      'InkedGVS_409_T_T1_Trim', 'InkedGVS_409_T_T2_Trim', 'InkedGVS_410_T_T1_1_Trim', \\\n",
    "      'InkedGVS_410_T_T2_1_Trim', 'InkedGVS_403_W_T2_1_Trim', 'InkedGVS_404_W_T1_1_Trim', \\\n",
    "      'InkedGVS_404_W_T2_1_Trim', 'InkedGVS_404_W_T3_1_Trim', 'InkedGVS_404_W_T4_1_Trim', \\\n",
    "      'InkedGVS_405_W_T1_Trim', 'InkedGVS_405_W_T2_Trim', 'InkedGVS_405_W_T3_Trim', \\\n",
    "      'InkedGVS_405_W_T4_Trim', 'InkedGVS_406_W_T1_1_Trim', 'InkedGVS_406_W_T2_1_Trim', \n",
    "      'InkedGVS_407_W_T1_1_Trim', 'InkedGVS_407_W_T2_1_Trim', 'InkedGVS_408_W_T1_1_Trim', \\\n",
    "      'InkedGVS_408_W_T2_1_Trim', 'InkedGVS_409_W_T1_Trim', 'InkedGVS_409_W_T2_Trim', \\\n",
    "      'InkedGVS_410_W_T1_1_Trim', 'InkedGVS_410_W_T2_1_Trim', 'InkedGVS_411_W_T1_1_Trim', \\\n",
    "      'InkedGVS_411_W_T2_1_Trim', 'InkedGVS_411_W_T3_1_Trim', 'InkedGVS_411_W_T4_1_Trim', \\\n",
    "      'InkedGVS_102_W_T1_1_Trim', 'InkedGVS_112_W_T1_1_Trim',  'InkedGVS_113_W_T1_1_Trim', \\\n",
    "      'InkedGVS_115_W_T1_1_Trim', 'InkedGVS_123_W_T1_1_Trim', 'InkedGVS_124_W_T1_1_Trim'], scale_hip1), \n",
    "  **dict.fromkeys([], )\n",
    "}\n",
    "\n",
    "scales_knee = {\n",
    "  **dict.fromkeys(['InkedGVS_212_T_T1_1_Trim',  'InkedGVS_212_T_T2_1_Trim', 'InkedGVS_213_T_T1_1_Trim',\\\n",
    " 'InkedGVS_213_T_T2_1_Trim', 'InkedGVS_214_T_T1_1_Trim', 'InkedGVS_214_T_T2_1_Trim',\\\n",
    "    'InkedGVS_215_T_T1_1_Trim', 'InkedGVS_215_T_T2_1_Trim', 'InkedGVS_216_T_T1_1_Trim', 'InkedGVS_216_T_T2_1_Trim', \\\n",
    "      'InkedGVS_217_T_T1_1_Trim', 'InkedGVS_217_T_T2_1_Trim', 'InkedGVS_218_T_T1_1_Trim', \\\n",
    "      'InkedGVS_218_T_T2_1_Trim', 'InkedGVS_219_T_T1_1_Trim', 'InkedGVS_219_T_T2_1_Trim', \\\n",
    "      'InkedGVS_212_W_T1_1_Trim', 'InkedGVS_212_W_T2_1_Trim', 'InkedGVS_213_W_T1_1_Trim', 'InkedGVS_213_W_T2_1_Trim', \\\n",
    "      'InkedGVS_214_W_T1_1_Trim', 'InkedGVS_214_W_T2_1_Trim', 'InkedGVS_215_W_T1_1_Trim', \\\n",
    "      'InkedGVS_215_W_T2_1_Trim', 'InkedGVS_216_W_T1_1_Trim', 'InkedGVS_216_W_T2_1_Trim', \\\n",
    "      'InkedGVS_217_W_T1_1_Trim', 'InkedGVS_217_W_T2_1_Trim', 'InkedGVS_218_W_T1_1_Trim', \\\n",
    "      'InkedGVS_218_W_T2_1_Trim', 'InkedGVS_219_W_T1_1_Trim', 'InkedGVS_219_W_T2_1_Trim', \\\n",
    "      'InkedGVS_310_T_T1_1_Trim', 'InkedGVS_310_T_T2_1_Trim', 'InkedGVS_311_T_T1_1_Trim', \\\n",
    "      'InkedGVS_311_T_T2_1_Trim', 'InkedGVS_312_T_T1_Trim', 'InkedGVS_312_T_T2_Trim', \\\n",
    "      'InkedGVS_314_T_T1_1_Trim', 'InkedGVS_314_T_T2_1_Trim', 'InkedGVS_318_T_T1_Trim', \\\n",
    "       'InkedGVS_318_T_T2_Trim', 'InkedGVS_320_T_T1_1_Trim', 'InkedGVS_320_T_T2_1_Trim', \\\n",
    "      'InkedGVS_321_T_T1_1_Trim', 'InkedGVS_321_T_T2_1_Trim', 'InkedGVS_323_T_T1_1_Trim', \\\n",
    "      'InkedGVS_310_W_T1_1_Trim', 'InkedGVS_310_W_T2_1_Trim', 'InkedGVS_311_W_T1_1_Trim', \\\n",
    "      'InkedGVS_311_W_T2_1', 'InkedGVS_312_W_T2_Trim', 'InkedGVS_313_W_T1_1_Trim', \\\n",
    "      'InkedGVS_313_W_T2_1_Trim', 'InkedGVS_314_W_T1_1_Trim', 'InkedGVS_314_W_T2_1_Trim', \\\n",
    "      'InkedGVS_318_W_T1_Trim', 'InkedGVS_318_W_T2_Trim', 'InkedGVS_320_W_T1_1_Trim', \\\n",
    "      'InkedGVS_320_W_T2_1_Trim', 'InkedGVS_321_W_T1_1_Trim', 'InkedGVS_321_W_T2_1_Trim', \\\n",
    "      'InkedGVS_322_W_T1_1_Trim', 'InkedGVS_322_W_T2_1_Trim', 'InkedGVS_323_W_T1_1_Trim', \\\n",
    "      'InkedGVS_323_W_T2_1_Trim', 'InkedGVS_403_T_T1_1_Trim', 'InkedGVS_403_T_T2_1_Trim', \\\n",
    "      'InkedGVS_406_T_T1_1_Trim', 'InkedGVS_406_T_T2_1_Trim', 'InkedGVS_407_T_T1_1_Trim', \n",
    "      'InkedGVS_407_T_T2_1_Trim', 'InkedGVS_408_T_T1_1_Trim', 'InkedGVS_408_T_T2_1_Trim', \\\n",
    "      'InkedGVS_409_T_T1_Trim', 'InkedGVS_409_T_T2_Trim', 'InkedGVS_410_T_T1_1_Trim', \\\n",
    "      'InkedGVS_410_T_T2_1_Trim', 'InkedGVS_403_W_T2_1_Trim', 'InkedGVS_404_W_T1_1_Trim', \\\n",
    "      'InkedGVS_404_W_T2_1_Trim', 'InkedGVS_404_W_T3_1_Trim', 'InkedGVS_404_W_T4_1_Trim', \n",
    "      'InkedGVS_405_W_T1_Trim', 'InkedGVS_405_W_T2_Trim', 'InkedGVS_405_W_T3_Trim', \\\n",
    "      'InkedGVS_405_W_T4_Trim', 'InkedGVS_406_W_T1_1_Trim', 'InkedGVS_406_W_T2_1_Trim', \n",
    "      'InkedGVS_407_W_T1_1_Trim', 'InkedGVS_407_W_T2_1_Trim', 'InkedGVS_408_W_T1_1_Trim', \\\n",
    "      'InkedGVS_408_W_T2_1_Trim', 'InkedGVS_409_W_T1_Trim', 'InkedGVS_409_W_T2_Trim', \\\n",
    "      'InkedGVS_410_W_T1_1_Trim', 'InkedGVS_410_W_T2_1_Trim', 'InkedGVS_411_W_T1_1_Trim', \\\n",
    "      'InkedGVS_411_W_T2_1_Trim', 'InkedGVS_411_W_T3_1_Trim', 'InkedGVS_411_W_T4_1_Trim', \\\n",
    "      'InkedGVS_102_W_T1_1_Trim', 'InkedGVS_112_W_T1_1_Trim',  'InkedGVS_113_W_T1_1_Trim', \\\n",
    "      'InkedGVS_115_W_T1_1_Trim', 'InkedGVS_123_W_T1_1_Trim', 'InkedGVS_124_W_T1_1_Trim'], scale_knee1), \n",
    "  **dict.fromkeys([], )\n",
    "}\n",
    "\n",
    "scales_feet = {\n",
    "  **dict.fromkeys(['InkedGVS_212_T_T1_1_Trim',  'InkedGVS_212_T_T2_1_Trim', 'InkedGVS_213_T_T1_1_Trim',\\\n",
    " 'InkedGVS_213_T_T2_1_Trim', 'InkedGVS_214_T_T1_1_Trim', 'InkedGVS_214_T_T2_1_Trim',\\\n",
    "    'InkedGVS_215_T_T1_1_Trim', 'InkedGVS_215_T_T2_1_Trim', 'InkedGVS_216_T_T1_1_Trim', 'InkedGVS_216_T_T2_1_Trim', \\\n",
    "  'InkedGVS_218_T_T1_1_Trim', 'InkedGVS_218_T_T2_1_Trim', 'InkedGVS_219_T_T1_1_Trim', 'InkedGVS_219_T_T2_1_Trim', \\\n",
    "  'InkedGVS_212_W_T1_1_Trim', 'InkedGVS_212_W_T2_1_Trim', 'InkedGVS_213_W_T1_1_Trim', 'InkedGVS_213_W_T2_1_Trim', \\\n",
    "  'InkedGVS_214_W_T1_1_Trim', 'InkedGVS_214_W_T2_1_Trim', 'InkedGVS_215_W_T1_1_Trim', \\\n",
    "  'InkedGVS_215_W_T2_1_Trim', 'InkedGVS_216_W_T1_1_Trim', 'InkedGVS_216_W_T2_1_Trim', \\\n",
    "  'InkedGVS_218_W_T1_1_Trim', 'InkedGVS_218_W_T2_1_Trim', 'InkedGVS_219_W_T1_1_Trim', 'InkedGVS_219_W_T2_1_Trim', \\\n",
    "  'InkedGVS_310_T_T1_1_Trim', 'InkedGVS_310_T_T2_1_Trim', 'InkedGVS_311_T_T1_1_Trim', \\\n",
    "  'InkedGVS_311_T_T2_1_Trim', 'InkedGVS_312_T_T1_Trim', 'InkedGVS_312_T_T2_Trim', \\\n",
    "  'InkedGVS_314_T_T1_1_Trim', 'InkedGVS_314_T_T2_1_Trim', 'InkedGVS_318_T_T1_Trim', \\\n",
    "  'InkedGVS_318_T_T2_Trim', 'InkedGVS_320_T_T1_1_Trim', 'InkedGVS_320_T_T2_1_Trim', \\\n",
    "  'InkedGVS_321_T_T1_1_Trim', 'InkedGVS_321_T_T2_1_Trim', 'InkedGVS_323_T_T1_1_Trim', \\\n",
    "  'InkedGVS_310_W_T1_1_Trim', 'InkedGVS_310_W_T2_1_Trim', 'InkedGVS_311_W_T1_1_Trim', \\\n",
    "  'InkedGVS_311_W_T2_1', 'InkedGVS_312_W_T2_Trim', 'InkedGVS_313_W_T1_1_Trim', \\\n",
    "  'InkedGVS_313_W_T2_1_Trim', 'InkedGVS_314_W_T1_1_Trim', 'InkedGVS_314_W_T2_1_Trim', \\\n",
    "  'InkedGVS_318_W_T1_Trim', 'InkedGVS_318_W_T2_Trim', 'InkedGVS_320_W_T1_1_Trim', \\\n",
    "  'InkedGVS_320_W_T2_1_Trim', 'InkedGVS_321_W_T1_1_Trim', 'InkedGVS_321_W_T2_1_Trim', \\\n",
    "  'InkedGVS_322_W_T1_1_Trim', 'InkedGVS_322_W_T2_1_Trim', 'InkedGVS_323_W_T1_1_Trim', \\\n",
    "  'InkedGVS_323_W_T2_1_Trim', 'InkedGVS_403_T_T1_1_Trim', 'InkedGVS_403_T_T2_1_Trim', \\\n",
    "  'InkedGVS_406_T_T1_1_Trim', 'InkedGVS_406_T_T2_1_Trim', 'InkedGVS_407_T_T1_1_Trim', \n",
    "  'InkedGVS_407_T_T2_1_Trim', 'InkedGVS_408_T_T1_1_Trim', 'InkedGVS_408_T_T2_1_Trim', \\\n",
    "  'InkedGVS_403_W_T2_1_Trim', 'InkedGVS_405_W_T1_Trim', 'InkedGVS_405_W_T2_Trim', \\\n",
    "  'InkedGVS_405_W_T3_Trim', 'InkedGVS_405_W_T4_Trim', 'InkedGVS_406_W_T1_1_Trim', \\\n",
    "  'InkedGVS_406_W_T2_1_Trim', 'InkedGVS_407_W_T1_1_Trim', 'InkedGVS_407_W_T2_1_Trim', \\\n",
    "  'InkedGVS_408_W_T1_1_Trim', 'InkedGVS_408_W_T2_1_Trim'],\\\n",
    "                  scale_feet1), \n",
    "  **dict.fromkeys(['InkedGVS_217_T_T1_1_Trim', 'InkedGVS_217_T_T2_1_Trim', 'InkedGVS_217_W_T1_1_Trim', \\\n",
    "                   'InkedGVS_217_W_T2_1_Trim', 'InkedGVS_409_T_T1_Trim', 'InkedGVS_409_T_T2_Trim', \\\n",
    "                  'InkedGVS_410_T_T1_1_Trim', 'InkedGVS_410_T_T2_1_Trim', 'InkedGVS_404_W_T1_1_Trim', \\\n",
    "                  'InkedGVS_404_W_T2_1_Trim', 'InkedGVS_404_W_T3_1_Trim', 'InkedGVS_404_W_T4_1_Trim', \\\n",
    "                  'InkedGVS_409_W_T1_Trim', 'InkedGVS_409_W_T2_Trim', 'InkedGVS_410_W_T1_1_Trim', \\\n",
    "                  'InkedGVS_410_W_T2_1_Trim', 'InkedGVS_411_W_T1_1_Trim', 'InkedGVS_411_W_T2_1_Trim', \\\n",
    "                  'InkedGVS_411_W_T3_1_Trim', 'InkedGVS_411_W_T4_1_Trim', 'InkedGVS_102_W_T1_1_Trim', \\\n",
    "                  'InkedGVS_112_W_T1_1_Trim',  'InkedGVS_113_W_T1_1_Trim', 'InkedGVS_115_W_T1_1_Trim', \\\n",
    "                  'InkedGVS_123_W_T1_1_Trim', 'InkedGVS_124_W_T1_1_Trim'], scale_feet2)\n",
    "}"
   ]
  },
  {
   "cell_type": "code",
   "execution_count": 49,
   "metadata": {},
   "outputs": [
    {
     "name": "stdout",
     "output_type": "stream",
     "text": [
      "InkedGVS_124_W_T1_1_Trim\n",
      "Time taken to process 1 video =  208.65262842178345\n"
     ]
    }
   ],
   "source": [
    "for cohort in cohorts:\n",
    "    for trial in trials:\n",
    "        for camera in cameras[1:]: #Front look camera only\n",
    "            frame_path = raw_path+cohort+trial+camera #Path to save the frames to \n",
    "            videos = os.listdir(frame_path)\n",
    "#             print (len(videos))\n",
    "            for video in videos:\n",
    "                print (video)\n",
    "                frames = glob.glob(frame_path+video+'\\\\processed2d\\\\*.csv')\n",
    "                start_time = time.time()\n",
    "                for frame in frames:\n",
    "#                     print (frame)\n",
    "                    data_frame = pd.DataFrame()\n",
    "#                     im_path = frame_path+video+'\\\\'+frame\n",
    "                    try:\n",
    "                        frame_csv = pd.read_csv(frame, index_col = 0)\n",
    "#                         print (frame_csv)\n",
    "                        coords = frame_csv[['x', 'y']].values\n",
    "                        #Only reading the x, y coordinates for 12 locations \n",
    "                        array = arrays[video]\n",
    "                        data_frame=pd.DataFrame(columns = ['x', 'y', 'z'])\n",
    "                        for idx, coord in enumerate(coords):\n",
    "                            if idx in [0, 3]: #Hip \n",
    "                                scale = scales_hip[video]\n",
    "                            elif idx in [1, 4]: #Knee\n",
    "                                scale = scales_knee[video]\n",
    "                            else: #Ankle, Toes and Heel\n",
    "                                scale = scales_feet[video]\n",
    "                            data_frame.loc[len(data_frame)] = np.array(convert2d_to_3d(coord, scale, array))[0].T\n",
    "                        data_frame.index = order\n",
    "                        data_frame['confidence'] = frame_csv['confidence']\n",
    "#                         print (data_frame)\n",
    "                        data_frame.to_csv(frame_path3d+cohort+trial+camera+video+'\\\\'+frame.split('\\\\')[-1][:-3]+'csv')\n",
    "                    except Exception as e:\n",
    "                        print (e)\n",
    "                print ('Time taken to process 1 video = ', time.time()- start_time)"
   ]
  },
  {
   "cell_type": "markdown",
   "metadata": {},
   "source": [
    "### Side look camera (_0)"
   ]
  },
  {
   "cell_type": "code",
   "execution_count": null,
   "metadata": {},
   "outputs": [],
   "source": [
    "#Take care while 3D converting 0's in 2D i.e. non-existing points \n"
   ]
  },
  {
   "cell_type": "code",
   "execution_count": null,
   "metadata": {},
   "outputs": [],
   "source": []
  }
 ],
 "metadata": {
  "kernelspec": {
   "display_name": "Python 3",
   "language": "python",
   "name": "python3"
  },
  "language_info": {
   "codemirror_mode": {
    "name": "ipython",
    "version": 3
   },
   "file_extension": ".py",
   "mimetype": "text/x-python",
   "name": "python",
   "nbconvert_exporter": "python",
   "pygments_lexer": "ipython3",
   "version": "3.7.6"
  }
 },
 "nbformat": 4,
 "nbformat_minor": 4
}
