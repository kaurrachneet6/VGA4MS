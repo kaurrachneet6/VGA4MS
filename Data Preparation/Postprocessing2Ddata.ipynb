{
 "cells": [
  {
   "cell_type": "markdown",
   "metadata": {},
   "source": [
    "# Gait Video Study \n",
    "### Postprocessing the created 2D keypoints (via OpenPose) for lower body and feet "
   ]
  },
  {
   "cell_type": "code",
   "execution_count": 1,
   "metadata": {},
   "outputs": [],
   "source": [
    "import numpy as np\n",
    "import cv2\n",
    "import os\n",
    "import glob\n",
    "import matplotlib.pyplot as plt\n",
    "import pandas as pd\n",
    "import warnings\n",
    "warnings.filterwarnings(\"ignore\")\n",
    "from IPython.display import display, HTML"
   ]
  },
  {
   "cell_type": "code",
   "execution_count": 2,
   "metadata": {},
   "outputs": [],
   "source": [
    "path = 'C:\\\\Users\\\\purpl\\\\Box\\\\Gait Video Project\\\\GaitVideoData\\\\video\\\\openpose_data\\\\'\n",
    "\n",
    "#Configuration for which to run the code for \n",
    "cohorts = ['\\\\HOA', '\\\\MS', '\\\\PD', '\\\\ExtraHOA']\n",
    "trials = ['\\\\beam_walking', '\\\\walking']\n",
    "cameras = ['\\\\feet\\\\', '\\\\lower_body\\\\']\n",
    "\n",
    "#Dimensions of the image \n",
    "w = 800\n",
    "h = 448"
   ]
  },
  {
   "cell_type": "markdown",
   "metadata": {},
   "source": [
    "### Utility functions"
   ]
  },
  {
   "cell_type": "code",
   "execution_count": 3,
   "metadata": {},
   "outputs": [],
   "source": [
    "#The left hip marker must have x-coordinate values greater than right hip marker\n",
    "def check_left_right_swap_needed(coords):\n",
    "    global count #Telling the function that we are going to use global variable count and not the default local variable\n",
    "    mid_hip_x = coords.loc[8, 'x']\n",
    "    left_hip_x = coords.loc[12, 'x']\n",
    "    right_hip_x = coords.loc[9, 'x']\n",
    "    #If the left hip marker do not have x-coordinate values greater than right hip marker, a swap is needed\n",
    "    if ((left_hip_x<mid_hip_x) & (right_hip_x>mid_hip_x)): \n",
    "        swap_needed = True\n",
    "        count+=1\n",
    "    else:\n",
    "        swap_needed = False\n",
    "    return swap_needed"
   ]
  },
  {
   "cell_type": "code",
   "execution_count": 4,
   "metadata": {},
   "outputs": [],
   "source": [
    "def left_right_swap(coords):\n",
    "    data_frame = pd.DataFrame()\n",
    "#     print ('coords', coords[1:])\n",
    "    if (check_left_right_swap_needed(coords)):\n",
    "#         print (coords[1:])\n",
    "#         print ('Left-right swap required!')\n",
    "        data_frame=pd.DataFrame(coords[1:].values, index = order_swapped, columns = ['x', 'y', 'confidence'])\n",
    "    else:\n",
    "        data_frame=pd.DataFrame(coords[1:].values, index = order, columns = ['x', 'y', 'confidence'])\n",
    "    data_frame = data_frame.reindex(order)\n",
    "#     print (data_frame)\n",
    "# print ('swapped df', data_frame, frame_path+video+'\\\\processed2d\\\\'+frame.split('\\\\')[-1][:-3]+'csv')\n",
    "    return data_frame"
   ]
  },
  {
   "cell_type": "code",
   "execution_count": 5,
   "metadata": {},
   "outputs": [],
   "source": [
    "def rename(dataframe):\n",
    "    dataframe['cohort'][dataframe.cohort=='\\\\ExtraHOA'] = 'HOA'\n",
    "    dataframe['cohort'][dataframe.cohort=='\\\\HOA'] = 'HOA'\n",
    "    dataframe['cohort'][dataframe.cohort=='\\\\MS'] = 'MS'\n",
    "    dataframe['cohort'][dataframe.cohort=='\\\\PD'] = 'PD'\n",
    "    dataframe['trial'][dataframe.trial=='\\\\beam_walking'] = 'BW'\n",
    "    dataframe['trial'][dataframe.trial=='\\\\walking'] = 'W'"
   ]
  },
  {
   "cell_type": "code",
   "execution_count": 6,
   "metadata": {},
   "outputs": [],
   "source": [
    "#To check if the particular marker is not missing/is available in the frame \n",
    "def marker_available(coordinate_name, frame_path):\n",
    "    frame_csv = pd.read_csv(frame_path, index_col = 0)\n",
    "#     print (frame_csv)\n",
    "    missing = (frame_csv.loc[coordinate_name].x==0) & (frame_csv.loc[coordinate_name].y==0) #Marker is missing in the frame\n",
    "#     print ('Bool missing', not(missing))\n",
    "    fill_list = list(frame_csv.loc[coordinate_name].values)\n",
    "#     print ('Fill up values', fill_list)\n",
    "    return not(missing), fill_list  "
   ]
  },
  {
   "cell_type": "code",
   "execution_count": 7,
   "metadata": {},
   "outputs": [],
   "source": [
    "#Create the temporary interpolation dataframe for interpolation for a particular marker in current frame\n",
    "def create_missing_value_fillup_df(sorted_frames, idx, marker_name):\n",
    "    seq_travelled = []  \n",
    "    forward_idx, backward_idx, forward_count, backward_count = 1, 1, 0, 0\n",
    "    #3 forward and 3 backward coordinates and 1 current coordinate as rows \n",
    "    #4 time, x, y, and confidence score as columns \n",
    "    interpolation_df = pd.DataFrame(np.zeros([2*num_coords_each_side+1, 4])*np.nan)\n",
    "#     print ('Initial Interpolate DF:', interpolation_df)\n",
    "    while (forward_count<3):\n",
    "        forward_frame = sorted_frames[idx+forward_idx]\n",
    "#         print ('forward frame', forward_frame)\n",
    "        available, fill_list = marker_available(marker_name, forward_frame)\n",
    "#         print ('Availability', available)\n",
    "        if available:\n",
    "#             print ('forward frame', forward_frame)\n",
    "            forward_count+=1\n",
    "            seq_travelled.append(forward_idx)\n",
    "            interpolation_df.iloc[num_coords_each_side+forward_count] = [forward_idx]+fill_list \n",
    "            #Fill in indices 4, 5, 6\n",
    "        forward_idx+=1\n",
    "        \n",
    "    while (backward_count<3):\n",
    "        backward_frame = sorted_frames[idx-backward_idx]\n",
    "#         print ('backward frame', backward_frame)\n",
    "        available, fill_list = marker_available(marker_name, backward_frame)\n",
    "        if available:\n",
    "#             print ('backward frame', backward_frame)\n",
    "            seq_travelled.append(backward_idx)\n",
    "            interpolation_df.iloc[2-backward_count] = [-1*backward_idx]+fill_list #Fill in indices 0, 1, 2\n",
    "            backward_count+=1\n",
    "        backward_idx+=1\n",
    "    interpolation_df.columns = ['time', 'x', 'y', 'conf']\n",
    "    #Setting time 0 for current frame w.r.t. forward having positive time and backward frames having negative time\n",
    "    interpolation_df.iloc[3].time = 0 #Row 3 is for current frame and column 0 is for time index \n",
    "#     print ('Interpolate DF: ', interpolation_df)\n",
    "    return interpolation_df, seq_travelled"
   ]
  },
  {
   "cell_type": "code",
   "execution_count": 8,
   "metadata": {},
   "outputs": [],
   "source": [
    "#For missing value treatment:\n",
    "#1. Keep a threshold i.e. if more than 8 out of 12 coordinates are missing \n",
    "#(i.e. more than or equal to 75% of coordinates are missing), then ignore that frame \n",
    "#2. For a marker missing from the current frame, we are using interpolation with 5 nearest frames with the \n",
    "#marker non-missing in the forward and backward direction from the frames and keep time for these frames as part of \n",
    "#the interpolation process\n",
    "def missing_value_treatment(sorted_frames, idx, marker_name):\n",
    "    #Consecutive no. of frames travelled in the sequence to fill up the current frame\n",
    "    interpolate_df, seq_travelled = create_missing_value_fillup_df(sorted_frames, idx, marker_name)\n",
    "    #Fill the particular marker in current frame using interpolation wrt time \n",
    "    #Set the time column as index of this dataframe \n",
    "    interpolate_df['time']-=interpolate_df['time'][0]\n",
    "    interpolate_df.set_index('time')\n",
    "    #Quadratic will automatically use the index values as the corresponding time \n",
    "    #Hence this a index aware interpolation \n",
    "    interpolate_df.interpolate(method = 'quadratic', inplace = True)\n",
    "    #Extract the row at the 3rd index filled in using interpolation \n",
    "    #and set up the missing value and save as new csv when all missing markers \n",
    "    #are done filling for the current frame \n",
    "    interpolate_df.reset_index()\n",
    "    #                             print ('Filled interpolate DF:', interpolate_df)\n",
    "    #Not retaining the time we had used in interpolation step\n",
    "    return interpolate_df.iloc[3].values[1:], seq_travelled"
   ]
  },
  {
   "cell_type": "markdown",
   "metadata": {},
   "source": [
    "## Front camera (lower body view): Left-right swap and missing value treatment\n",
    "### Left-right swap if needed"
   ]
  },
  {
   "cell_type": "code",
   "execution_count": 4,
   "metadata": {},
   "outputs": [
    {
     "name": "stdout",
     "output_type": "stream",
     "text": [
      "13\n"
     ]
    }
   ],
   "source": [
    "#12 required coordinates for lower body indices + middle hip for swapping left/right if needed \n",
    "lower_body_indices = list(range(8, 15)) + list(range(19, 25))\n",
    "print (len(lower_body_indices))\n",
    "order = ['right hip', 'right knee', 'right ankle', 'left hip', 'left knee', 'left ankle', 'left toe 1', 'left toe 2', \\\n",
    "         'left heel', 'right toe 1', 'right toe 2', 'right heel']\n",
    "order_swapped = ['left hip', 'left knee', 'left ankle', 'right hip', 'right knee', 'right ankle', 'right toe 1', 'right toe 2', \\\n",
    "         'right heel', 'left toe 1', 'left toe 2', 'left heel']"
   ]
  },
  {
   "cell_type": "code",
   "execution_count": null,
   "metadata": {},
   "outputs": [],
   "source": [
    "#Left-right swap over all subjects and trials for lower-body extracted coordinates \n",
    "left_right_count_df = pd.DataFrame(columns = ['cohort', 'trial', 'video', 'count_left_right_swaps', 'count_total_frames'])\n",
    "global count \n",
    "for cohort in cohorts:\n",
    "    for trial in trials:\n",
    "        for camera in cameras[1:]: #Front look camera only\n",
    "            frame_path = path+cohort+trial+camera #Path to save the frames to \n",
    "            if (os.path.exists(frame_path)):\n",
    "                videos = os.listdir(frame_path)\n",
    "#             print (len(videos))\n",
    "                for video in videos:\n",
    "                    if not os.path.exists(frame_path+video+'\\\\processed2d'):\n",
    "                        os.makedirs(frame_path+video+'\\\\processed2d')\n",
    "                    frames = glob.glob(frame_path+video+'\\\\*.jpg')\n",
    "                    count = 0 #Count of left-right swapped frames \n",
    "                    total_frames = 0 #Count of total frames \n",
    "                    for frame in frames:\n",
    "    #                     print (frame)\n",
    "                        csv_path = frame_path+video+'\\\\processed2d\\\\'+frame.split('\\\\')[-1][:-3]+'csv'\n",
    "                        if not os.path.exists(csv_path):\n",
    "                            try:\n",
    "                                total_frames+=1\n",
    "                                frame_csv = pd.read_csv(frame[:-3]+'csv', index_col = None)\n",
    "                                coords = frame_csv.iloc[lower_body_indices][['x', 'y', 'confidence']]\n",
    "                                data_frame = left_right_swap(coords)\n",
    "                                data_frame.to_csv(csv_path)\n",
    "                            except Exception as e:\n",
    "                                print (e)\n",
    "                    left_right_count_df.loc[len(left_right_count_df)] = [cohort, trial, video, count, total_frames]\n",
    "left_right_count_df.to_csv(path+'left_right_count_lower_body_df.csv')"
   ]
  },
  {
   "cell_type": "markdown",
   "metadata": {},
   "source": [
    "### Missing value imputation "
   ]
  },
  {
   "cell_type": "code",
   "execution_count": 9,
   "metadata": {},
   "outputs": [],
   "source": [
    "#Missing value treatment over all subjects and trials for lower-body extracted coordinates \n",
    "stats_cols = ['cohort', 'trial', 'video', 'count_missing0', 'count_missing1', \\\n",
    "                         'count_missing2', 'count_missing3', 'count_missing4', 'count_missing5', \\\n",
    "                         'count_missing6', 'count_missing7', 'count_missing8', \\\n",
    "                         'count_missing_greater8', 'count_total_frames']\n",
    "\n",
    "cols_seq_travelled_df = ['cohort', 'trial', 'video', 'frame', 'missed marker', 'forward1', 'forward2', 'forward3', \\\n",
    "                        'backward1', 'backward2', 'backward3']\n",
    "missing_value_lower_body_stats = pd.DataFrame(columns = stats_cols)\n",
    "#Use 3 forward and backward coordinates to fill up the current coordinate \n",
    "num_coords_each_side = 3 \n",
    "#Dataframe for store stats of consecutive frames explored to get non-missing values for the marker of frame of video\n",
    "seq_travelled_dataframe = pd.DataFrame(columns = cols_seq_travelled_df) "
   ]
  },
  {
   "cell_type": "code",
   "execution_count": null,
   "metadata": {
    "scrolled": true
   },
   "outputs": [
    {
     "name": "stdout",
     "output_type": "stream",
     "text": [
      "C:\\Users\\purpl\\Box\\Gait Video Project\\GaitVideoData\\video\\openpose_data\\\\PD\\walking\\lower_body\\InkedGVS_406_W_T1_1_Trim\\processed2d\\228.csv  removed (>8 missing coordinates)!\n",
      "Exception! [Errno 2] File C:\\Users\\purpl\\Box\\Gait Video Project\\GaitVideoData\\video\\openpose_data\\\\PD\\walking\\lower_body\\InkedGVS_406_W_T1_1_Trim\\processed2d\\228.csv does not exist: 'C:\\\\Users\\\\purpl\\\\Box\\\\Gait Video Project\\\\GaitVideoData\\\\video\\\\openpose_data\\\\\\\\PD\\\\walking\\\\lower_body\\\\InkedGVS_406_W_T1_1_Trim\\\\processed2d\\\\228.csv'\n",
      "C:\\Users\\purpl\\Box\\Gait Video Project\\GaitVideoData\\video\\openpose_data\\\\PD\\walking\\lower_body\\InkedGVS_406_W_T1_1_Trim\\processed2d\\418.csv  removed (>8 missing coordinates)!\n",
      "C:\\Users\\purpl\\Box\\Gait Video Project\\GaitVideoData\\video\\openpose_data\\\\PD\\walking\\lower_body\\InkedGVS_406_W_T1_1_Trim\\processed2d\\490.csv  removed (>8 missing coordinates)!\n",
      "C:\\Users\\purpl\\Box\\Gait Video Project\\GaitVideoData\\video\\openpose_data\\\\PD\\walking\\lower_body\\InkedGVS_406_W_T1_1_Trim\\processed2d\\491.csv  removed (>8 missing coordinates)!\n",
      "C:\\Users\\purpl\\Box\\Gait Video Project\\GaitVideoData\\video\\openpose_data\\\\PD\\walking\\lower_body\\InkedGVS_406_W_T1_1_Trim\\processed2d\\528.csv  removed (>8 missing coordinates)!\n",
      "C:\\Users\\purpl\\Box\\Gait Video Project\\GaitVideoData\\video\\openpose_data\\\\PD\\walking\\lower_body\\InkedGVS_406_W_T1_1_Trim\\processed2d\\565.csv  removed (>8 missing coordinates)!\n",
      "C:\\Users\\purpl\\Box\\Gait Video Project\\GaitVideoData\\video\\openpose_data\\\\PD\\walking\\lower_body\\InkedGVS_406_W_T1_1_Trim\\processed2d\\617.csv  removed (>8 missing coordinates)!\n",
      "Exception! [Errno 2] File C:\\Users\\purpl\\Box\\Gait Video Project\\GaitVideoData\\video\\openpose_data\\\\PD\\walking\\lower_body\\InkedGVS_406_W_T1_1_Trim\\processed2d\\617.csv does not exist: 'C:\\\\Users\\\\purpl\\\\Box\\\\Gait Video Project\\\\GaitVideoData\\\\video\\\\openpose_data\\\\\\\\PD\\\\walking\\\\lower_body\\\\InkedGVS_406_W_T1_1_Trim\\\\processed2d\\\\617.csv'\n",
      "Exception! [Errno 2] File C:\\Users\\purpl\\Box\\Gait Video Project\\GaitVideoData\\video\\openpose_data\\\\PD\\walking\\lower_body\\InkedGVS_406_W_T1_1_Trim\\processed2d\\617.csv does not exist: 'C:\\\\Users\\\\purpl\\\\Box\\\\Gait Video Project\\\\GaitVideoData\\\\video\\\\openpose_data\\\\\\\\PD\\\\walking\\\\lower_body\\\\InkedGVS_406_W_T1_1_Trim\\\\processed2d\\\\617.csv'\n",
      "Exception! [Errno 2] File C:\\Users\\purpl\\Box\\Gait Video Project\\GaitVideoData\\video\\openpose_data\\\\PD\\walking\\lower_body\\InkedGVS_406_W_T1_1_Trim\\processed2d\\617.csv does not exist: 'C:\\\\Users\\\\purpl\\\\Box\\\\Gait Video Project\\\\GaitVideoData\\\\video\\\\openpose_data\\\\\\\\PD\\\\walking\\\\lower_body\\\\InkedGVS_406_W_T1_1_Trim\\\\processed2d\\\\617.csv'\n",
      "C:\\Users\\purpl\\Box\\Gait Video Project\\GaitVideoData\\video\\openpose_data\\\\PD\\walking\\lower_body\\InkedGVS_406_W_T1_1_Trim\\processed2d\\632.csv  removed (>8 missing coordinates)!\n",
      "Exception! [Errno 2] File C:\\Users\\purpl\\Box\\Gait Video Project\\GaitVideoData\\video\\openpose_data\\\\PD\\walking\\lower_body\\InkedGVS_406_W_T1_1_Trim\\processed2d\\632.csv does not exist: 'C:\\\\Users\\\\purpl\\\\Box\\\\Gait Video Project\\\\GaitVideoData\\\\video\\\\openpose_data\\\\\\\\PD\\\\walking\\\\lower_body\\\\InkedGVS_406_W_T1_1_Trim\\\\processed2d\\\\632.csv'\n",
      "Exception! [Errno 2] File C:\\Users\\purpl\\Box\\Gait Video Project\\GaitVideoData\\video\\openpose_data\\\\PD\\walking\\lower_body\\InkedGVS_406_W_T1_1_Trim\\processed2d\\632.csv does not exist: 'C:\\\\Users\\\\purpl\\\\Box\\\\Gait Video Project\\\\GaitVideoData\\\\video\\\\openpose_data\\\\\\\\PD\\\\walking\\\\lower_body\\\\InkedGVS_406_W_T1_1_Trim\\\\processed2d\\\\632.csv'\n",
      "Exception! [Errno 2] File C:\\Users\\purpl\\Box\\Gait Video Project\\GaitVideoData\\video\\openpose_data\\\\PD\\walking\\lower_body\\InkedGVS_406_W_T1_1_Trim\\processed2d\\632.csv does not exist: 'C:\\\\Users\\\\purpl\\\\Box\\\\Gait Video Project\\\\GaitVideoData\\\\video\\\\openpose_data\\\\\\\\PD\\\\walking\\\\lower_body\\\\InkedGVS_406_W_T1_1_Trim\\\\processed2d\\\\632.csv'\n",
      "Exception! [Errno 2] File C:\\Users\\purpl\\Box\\Gait Video Project\\GaitVideoData\\video\\openpose_data\\\\PD\\walking\\lower_body\\InkedGVS_406_W_T1_1_Trim\\processed2d\\632.csv does not exist: 'C:\\\\Users\\\\purpl\\\\Box\\\\Gait Video Project\\\\GaitVideoData\\\\video\\\\openpose_data\\\\\\\\PD\\\\walking\\\\lower_body\\\\InkedGVS_406_W_T1_1_Trim\\\\processed2d\\\\632.csv'\n",
      "Exception! [Errno 2] File C:\\Users\\purpl\\Box\\Gait Video Project\\GaitVideoData\\video\\openpose_data\\\\PD\\walking\\lower_body\\InkedGVS_406_W_T1_1_Trim\\processed2d\\632.csv does not exist: 'C:\\\\Users\\\\purpl\\\\Box\\\\Gait Video Project\\\\GaitVideoData\\\\video\\\\openpose_data\\\\\\\\PD\\\\walking\\\\lower_body\\\\InkedGVS_406_W_T1_1_Trim\\\\processed2d\\\\632.csv'\n",
      "Exception! [Errno 2] File C:\\Users\\purpl\\Box\\Gait Video Project\\GaitVideoData\\video\\openpose_data\\\\PD\\walking\\lower_body\\InkedGVS_406_W_T1_1_Trim\\processed2d\\632.csv does not exist: 'C:\\\\Users\\\\purpl\\\\Box\\\\Gait Video Project\\\\GaitVideoData\\\\video\\\\openpose_data\\\\\\\\PD\\\\walking\\\\lower_body\\\\InkedGVS_406_W_T1_1_Trim\\\\processed2d\\\\632.csv'\n",
      "C:\\Users\\purpl\\Box\\Gait Video Project\\GaitVideoData\\video\\openpose_data\\\\PD\\walking\\lower_body\\InkedGVS_406_W_T1_1_Trim\\processed2d\\1461.csv  removed (>8 missing coordinates)!\n",
      "Exception! [Errno 2] File C:\\Users\\purpl\\Box\\Gait Video Project\\GaitVideoData\\video\\openpose_data\\\\PD\\walking\\lower_body\\InkedGVS_406_W_T1_1_Trim\\processed2d\\1461.csv does not exist: 'C:\\\\Users\\\\purpl\\\\Box\\\\Gait Video Project\\\\GaitVideoData\\\\video\\\\openpose_data\\\\\\\\PD\\\\walking\\\\lower_body\\\\InkedGVS_406_W_T1_1_Trim\\\\processed2d\\\\1461.csv'\n",
      "C:\\Users\\purpl\\Box\\Gait Video Project\\GaitVideoData\\video\\openpose_data\\\\PD\\walking\\lower_body\\InkedGVS_406_W_T1_1_Trim\\processed2d\\1497.csv  removed (>8 missing coordinates)!\n",
      "C:\\Users\\purpl\\Box\\Gait Video Project\\GaitVideoData\\video\\openpose_data\\\\PD\\walking\\lower_body\\InkedGVS_406_W_T1_1_Trim\\processed2d\\1670.csv  removed (>8 missing coordinates)!\n",
      "C:\\Users\\purpl\\Box\\Gait Video Project\\GaitVideoData\\video\\openpose_data\\\\PD\\walking\\lower_body\\InkedGVS_406_W_T1_1_Trim\\processed2d\\1671.csv  removed (>8 missing coordinates)!\n",
      "Exception! [Errno 2] File C:\\Users\\purpl\\Box\\Gait Video Project\\GaitVideoData\\video\\openpose_data\\\\PD\\walking\\lower_body\\InkedGVS_406_W_T1_1_Trim\\processed2d\\1671.csv does not exist: 'C:\\\\Users\\\\purpl\\\\Box\\\\Gait Video Project\\\\GaitVideoData\\\\video\\\\openpose_data\\\\\\\\PD\\\\walking\\\\lower_body\\\\InkedGVS_406_W_T1_1_Trim\\\\processed2d\\\\1671.csv'\n",
      "C:\\Users\\purpl\\Box\\Gait Video Project\\GaitVideoData\\video\\openpose_data\\\\PD\\walking\\lower_body\\InkedGVS_406_W_T2_1_Trim\\processed2d\\0.csv  removed (>8 missing coordinates)!\n",
      "C:\\Users\\purpl\\Box\\Gait Video Project\\GaitVideoData\\video\\openpose_data\\\\PD\\walking\\lower_body\\InkedGVS_406_W_T2_1_Trim\\processed2d\\1.csv  removed (>8 missing coordinates)!\n",
      "C:\\Users\\purpl\\Box\\Gait Video Project\\GaitVideoData\\video\\openpose_data\\\\PD\\walking\\lower_body\\InkedGVS_406_W_T2_1_Trim\\processed2d\\2.csv  removed (>8 missing coordinates)!\n",
      "C:\\Users\\purpl\\Box\\Gait Video Project\\GaitVideoData\\video\\openpose_data\\\\PD\\walking\\lower_body\\InkedGVS_406_W_T2_1_Trim\\processed2d\\3.csv  removed (>8 missing coordinates)!\n",
      "Exception! [Errno 2] File C:\\Users\\purpl\\Box\\Gait Video Project\\GaitVideoData\\video\\openpose_data\\\\PD\\walking\\lower_body\\InkedGVS_406_W_T2_1_Trim\\processed2d\\3.csv does not exist: 'C:\\\\Users\\\\purpl\\\\Box\\\\Gait Video Project\\\\GaitVideoData\\\\video\\\\openpose_data\\\\\\\\PD\\\\walking\\\\lower_body\\\\InkedGVS_406_W_T2_1_Trim\\\\processed2d\\\\3.csv'\n",
      "Exception! [Errno 2] File C:\\Users\\purpl\\Box\\Gait Video Project\\GaitVideoData\\video\\openpose_data\\\\PD\\walking\\lower_body\\InkedGVS_406_W_T2_1_Trim\\processed2d\\3.csv does not exist: 'C:\\\\Users\\\\purpl\\\\Box\\\\Gait Video Project\\\\GaitVideoData\\\\video\\\\openpose_data\\\\\\\\PD\\\\walking\\\\lower_body\\\\InkedGVS_406_W_T2_1_Trim\\\\processed2d\\\\3.csv'\n",
      "C:\\Users\\purpl\\Box\\Gait Video Project\\GaitVideoData\\video\\openpose_data\\\\PD\\walking\\lower_body\\InkedGVS_406_W_T2_1_Trim\\processed2d\\6.csv  removed (>8 missing coordinates)!\n",
      "C:\\Users\\purpl\\Box\\Gait Video Project\\GaitVideoData\\video\\openpose_data\\\\PD\\walking\\lower_body\\InkedGVS_406_W_T2_1_Trim\\processed2d\\9.csv  removed (>8 missing coordinates)!\n",
      "C:\\Users\\purpl\\Box\\Gait Video Project\\GaitVideoData\\video\\openpose_data\\\\PD\\walking\\lower_body\\InkedGVS_406_W_T2_1_Trim\\processed2d\\10.csv  removed (>8 missing coordinates)!\n",
      "Exception! [Errno 2] File C:\\Users\\purpl\\Box\\Gait Video Project\\GaitVideoData\\video\\openpose_data\\\\PD\\walking\\lower_body\\InkedGVS_406_W_T2_1_Trim\\processed2d\\10.csv does not exist: 'C:\\\\Users\\\\purpl\\\\Box\\\\Gait Video Project\\\\GaitVideoData\\\\video\\\\openpose_data\\\\\\\\PD\\\\walking\\\\lower_body\\\\InkedGVS_406_W_T2_1_Trim\\\\processed2d\\\\10.csv'\n",
      "Exception! [Errno 2] File C:\\Users\\purpl\\Box\\Gait Video Project\\GaitVideoData\\video\\openpose_data\\\\PD\\walking\\lower_body\\InkedGVS_406_W_T2_1_Trim\\processed2d\\10.csv does not exist: 'C:\\\\Users\\\\purpl\\\\Box\\\\Gait Video Project\\\\GaitVideoData\\\\video\\\\openpose_data\\\\\\\\PD\\\\walking\\\\lower_body\\\\InkedGVS_406_W_T2_1_Trim\\\\processed2d\\\\10.csv'\n",
      "Exception! [Errno 2] File C:\\Users\\purpl\\Box\\Gait Video Project\\GaitVideoData\\video\\openpose_data\\\\PD\\walking\\lower_body\\InkedGVS_406_W_T2_1_Trim\\processed2d\\10.csv does not exist: 'C:\\\\Users\\\\purpl\\\\Box\\\\Gait Video Project\\\\GaitVideoData\\\\video\\\\openpose_data\\\\\\\\PD\\\\walking\\\\lower_body\\\\InkedGVS_406_W_T2_1_Trim\\\\processed2d\\\\10.csv'\n",
      "Exception! [Errno 2] File C:\\Users\\purpl\\Box\\Gait Video Project\\GaitVideoData\\video\\openpose_data\\\\PD\\walking\\lower_body\\InkedGVS_406_W_T2_1_Trim\\processed2d\\10.csv does not exist: 'C:\\\\Users\\\\purpl\\\\Box\\\\Gait Video Project\\\\GaitVideoData\\\\video\\\\openpose_data\\\\\\\\PD\\\\walking\\\\lower_body\\\\InkedGVS_406_W_T2_1_Trim\\\\processed2d\\\\10.csv'\n",
      "Exception! [Errno 2] File C:\\Users\\purpl\\Box\\Gait Video Project\\GaitVideoData\\video\\openpose_data\\\\PD\\walking\\lower_body\\InkedGVS_406_W_T2_1_Trim\\processed2d\\10.csv does not exist: 'C:\\\\Users\\\\purpl\\\\Box\\\\Gait Video Project\\\\GaitVideoData\\\\video\\\\openpose_data\\\\\\\\PD\\\\walking\\\\lower_body\\\\InkedGVS_406_W_T2_1_Trim\\\\processed2d\\\\10.csv'\n",
      "Exception! [Errno 2] File C:\\Users\\purpl\\Box\\Gait Video Project\\GaitVideoData\\video\\openpose_data\\\\PD\\walking\\lower_body\\InkedGVS_406_W_T2_1_Trim\\processed2d\\10.csv does not exist: 'C:\\\\Users\\\\purpl\\\\Box\\\\Gait Video Project\\\\GaitVideoData\\\\video\\\\openpose_data\\\\\\\\PD\\\\walking\\\\lower_body\\\\InkedGVS_406_W_T2_1_Trim\\\\processed2d\\\\10.csv'\n",
      "Exception! [Errno 2] File C:\\Users\\purpl\\Box\\Gait Video Project\\GaitVideoData\\video\\openpose_data\\\\PD\\walking\\lower_body\\InkedGVS_406_W_T2_1_Trim\\processed2d\\10.csv does not exist: 'C:\\\\Users\\\\purpl\\\\Box\\\\Gait Video Project\\\\GaitVideoData\\\\video\\\\openpose_data\\\\\\\\PD\\\\walking\\\\lower_body\\\\InkedGVS_406_W_T2_1_Trim\\\\processed2d\\\\10.csv'\n",
      "Exception! [Errno 2] File C:\\Users\\purpl\\Box\\Gait Video Project\\GaitVideoData\\video\\openpose_data\\\\PD\\walking\\lower_body\\InkedGVS_406_W_T2_1_Trim\\processed2d\\10.csv does not exist: 'C:\\\\Users\\\\purpl\\\\Box\\\\Gait Video Project\\\\GaitVideoData\\\\video\\\\openpose_data\\\\\\\\PD\\\\walking\\\\lower_body\\\\InkedGVS_406_W_T2_1_Trim\\\\processed2d\\\\10.csv'\n",
      "Exception! [Errno 2] File C:\\Users\\purpl\\Box\\Gait Video Project\\GaitVideoData\\video\\openpose_data\\\\PD\\walking\\lower_body\\InkedGVS_406_W_T2_1_Trim\\processed2d\\10.csv does not exist: 'C:\\\\Users\\\\purpl\\\\Box\\\\Gait Video Project\\\\GaitVideoData\\\\video\\\\openpose_data\\\\\\\\PD\\\\walking\\\\lower_body\\\\InkedGVS_406_W_T2_1_Trim\\\\processed2d\\\\10.csv'\n",
      "Exception! [Errno 2] File C:\\Users\\purpl\\Box\\Gait Video Project\\GaitVideoData\\video\\openpose_data\\\\PD\\walking\\lower_body\\InkedGVS_406_W_T2_1_Trim\\processed2d\\10.csv does not exist: 'C:\\\\Users\\\\purpl\\\\Box\\\\Gait Video Project\\\\GaitVideoData\\\\video\\\\openpose_data\\\\\\\\PD\\\\walking\\\\lower_body\\\\InkedGVS_406_W_T2_1_Trim\\\\processed2d\\\\10.csv'\n",
      "Exception! [Errno 2] File C:\\Users\\purpl\\Box\\Gait Video Project\\GaitVideoData\\video\\openpose_data\\\\PD\\walking\\lower_body\\InkedGVS_406_W_T2_1_Trim\\processed2d\\10.csv does not exist: 'C:\\\\Users\\\\purpl\\\\Box\\\\Gait Video Project\\\\GaitVideoData\\\\video\\\\openpose_data\\\\\\\\PD\\\\walking\\\\lower_body\\\\InkedGVS_406_W_T2_1_Trim\\\\processed2d\\\\10.csv'\n",
      "Exception! [Errno 2] File C:\\Users\\purpl\\Box\\Gait Video Project\\GaitVideoData\\video\\openpose_data\\\\PD\\walking\\lower_body\\InkedGVS_406_W_T2_1_Trim\\processed2d\\10.csv does not exist: 'C:\\\\Users\\\\purpl\\\\Box\\\\Gait Video Project\\\\GaitVideoData\\\\video\\\\openpose_data\\\\\\\\PD\\\\walking\\\\lower_body\\\\InkedGVS_406_W_T2_1_Trim\\\\processed2d\\\\10.csv'\n",
      "Exception! [Errno 2] File C:\\Users\\purpl\\Box\\Gait Video Project\\GaitVideoData\\video\\openpose_data\\\\PD\\walking\\lower_body\\InkedGVS_406_W_T2_1_Trim\\processed2d\\10.csv does not exist: 'C:\\\\Users\\\\purpl\\\\Box\\\\Gait Video Project\\\\GaitVideoData\\\\video\\\\openpose_data\\\\\\\\PD\\\\walking\\\\lower_body\\\\InkedGVS_406_W_T2_1_Trim\\\\processed2d\\\\10.csv'\n",
      "C:\\Users\\purpl\\Box\\Gait Video Project\\GaitVideoData\\video\\openpose_data\\\\PD\\walking\\lower_body\\InkedGVS_406_W_T2_1_Trim\\processed2d\\30.csv  removed (>8 missing coordinates)!\n",
      "C:\\Users\\purpl\\Box\\Gait Video Project\\GaitVideoData\\video\\openpose_data\\\\PD\\walking\\lower_body\\InkedGVS_406_W_T2_1_Trim\\processed2d\\340.csv  removed (>8 missing coordinates)!\n",
      "Exception! [Errno 2] File C:\\Users\\purpl\\Box\\Gait Video Project\\GaitVideoData\\video\\openpose_data\\\\PD\\walking\\lower_body\\InkedGVS_406_W_T2_1_Trim\\processed2d\\340.csv does not exist: 'C:\\\\Users\\\\purpl\\\\Box\\\\Gait Video Project\\\\GaitVideoData\\\\video\\\\openpose_data\\\\\\\\PD\\\\walking\\\\lower_body\\\\InkedGVS_406_W_T2_1_Trim\\\\processed2d\\\\340.csv'\n",
      "Exception! [Errno 2] File C:\\Users\\purpl\\Box\\Gait Video Project\\GaitVideoData\\video\\openpose_data\\\\PD\\walking\\lower_body\\InkedGVS_406_W_T2_1_Trim\\processed2d\\340.csv does not exist: 'C:\\\\Users\\\\purpl\\\\Box\\\\Gait Video Project\\\\GaitVideoData\\\\video\\\\openpose_data\\\\\\\\PD\\\\walking\\\\lower_body\\\\InkedGVS_406_W_T2_1_Trim\\\\processed2d\\\\340.csv'\n",
      "C:\\Users\\purpl\\Box\\Gait Video Project\\GaitVideoData\\video\\openpose_data\\\\PD\\walking\\lower_body\\InkedGVS_406_W_T2_1_Trim\\processed2d\\794.csv  removed (>8 missing coordinates)!\n",
      "Exception! [Errno 2] File C:\\Users\\purpl\\Box\\Gait Video Project\\GaitVideoData\\video\\openpose_data\\\\PD\\walking\\lower_body\\InkedGVS_406_W_T2_1_Trim\\processed2d\\794.csv does not exist: 'C:\\\\Users\\\\purpl\\\\Box\\\\Gait Video Project\\\\GaitVideoData\\\\video\\\\openpose_data\\\\\\\\PD\\\\walking\\\\lower_body\\\\InkedGVS_406_W_T2_1_Trim\\\\processed2d\\\\794.csv'\n",
      "Exception! [Errno 2] File C:\\Users\\purpl\\Box\\Gait Video Project\\GaitVideoData\\video\\openpose_data\\\\PD\\walking\\lower_body\\InkedGVS_406_W_T2_1_Trim\\processed2d\\794.csv does not exist: 'C:\\\\Users\\\\purpl\\\\Box\\\\Gait Video Project\\\\GaitVideoData\\\\video\\\\openpose_data\\\\\\\\PD\\\\walking\\\\lower_body\\\\InkedGVS_406_W_T2_1_Trim\\\\processed2d\\\\794.csv'\n",
      "Exception! [Errno 2] File C:\\Users\\purpl\\Box\\Gait Video Project\\GaitVideoData\\video\\openpose_data\\\\PD\\walking\\lower_body\\InkedGVS_406_W_T2_1_Trim\\processed2d\\794.csv does not exist: 'C:\\\\Users\\\\purpl\\\\Box\\\\Gait Video Project\\\\GaitVideoData\\\\video\\\\openpose_data\\\\\\\\PD\\\\walking\\\\lower_body\\\\InkedGVS_406_W_T2_1_Trim\\\\processed2d\\\\794.csv'\n",
      "Exception! [Errno 2] File C:\\Users\\purpl\\Box\\Gait Video Project\\GaitVideoData\\video\\openpose_data\\\\PD\\walking\\lower_body\\InkedGVS_406_W_T2_1_Trim\\processed2d\\794.csv does not exist: 'C:\\\\Users\\\\purpl\\\\Box\\\\Gait Video Project\\\\GaitVideoData\\\\video\\\\openpose_data\\\\\\\\PD\\\\walking\\\\lower_body\\\\InkedGVS_406_W_T2_1_Trim\\\\processed2d\\\\794.csv'\n",
      "Exception! [Errno 2] File C:\\Users\\purpl\\Box\\Gait Video Project\\GaitVideoData\\video\\openpose_data\\\\PD\\walking\\lower_body\\InkedGVS_406_W_T2_1_Trim\\processed2d\\794.csv does not exist: 'C:\\\\Users\\\\purpl\\\\Box\\\\Gait Video Project\\\\GaitVideoData\\\\video\\\\openpose_data\\\\\\\\PD\\\\walking\\\\lower_body\\\\InkedGVS_406_W_T2_1_Trim\\\\processed2d\\\\794.csv'\n",
      "C:\\Users\\purpl\\Box\\Gait Video Project\\GaitVideoData\\video\\openpose_data\\\\PD\\walking\\lower_body\\InkedGVS_406_W_T2_1_Trim\\processed2d\\803.csv  removed (>8 missing coordinates)!\n",
      "C:\\Users\\purpl\\Box\\Gait Video Project\\GaitVideoData\\video\\openpose_data\\\\PD\\walking\\lower_body\\InkedGVS_406_W_T2_1_Trim\\processed2d\\810.csv  removed (>8 missing coordinates)!\n",
      "Exception! [Errno 2] File C:\\Users\\purpl\\Box\\Gait Video Project\\GaitVideoData\\video\\openpose_data\\\\PD\\walking\\lower_body\\InkedGVS_406_W_T2_1_Trim\\processed2d\\810.csv does not exist: 'C:\\\\Users\\\\purpl\\\\Box\\\\Gait Video Project\\\\GaitVideoData\\\\video\\\\openpose_data\\\\\\\\PD\\\\walking\\\\lower_body\\\\InkedGVS_406_W_T2_1_Trim\\\\processed2d\\\\810.csv'\n",
      "C:\\Users\\purpl\\Box\\Gait Video Project\\GaitVideoData\\video\\openpose_data\\\\PD\\walking\\lower_body\\InkedGVS_406_W_T2_1_Trim\\processed2d\\982.csv  removed (>8 missing coordinates)!\n",
      "Exception! [Errno 2] File C:\\Users\\purpl\\Box\\Gait Video Project\\GaitVideoData\\video\\openpose_data\\\\PD\\walking\\lower_body\\InkedGVS_406_W_T2_1_Trim\\processed2d\\982.csv does not exist: 'C:\\\\Users\\\\purpl\\\\Box\\\\Gait Video Project\\\\GaitVideoData\\\\video\\\\openpose_data\\\\\\\\PD\\\\walking\\\\lower_body\\\\InkedGVS_406_W_T2_1_Trim\\\\processed2d\\\\982.csv'\n",
      "Exception! [Errno 2] File C:\\Users\\purpl\\Box\\Gait Video Project\\GaitVideoData\\video\\openpose_data\\\\PD\\walking\\lower_body\\InkedGVS_406_W_T2_1_Trim\\processed2d\\982.csv does not exist: 'C:\\\\Users\\\\purpl\\\\Box\\\\Gait Video Project\\\\GaitVideoData\\\\video\\\\openpose_data\\\\\\\\PD\\\\walking\\\\lower_body\\\\InkedGVS_406_W_T2_1_Trim\\\\processed2d\\\\982.csv'\n",
      "Exception! [Errno 2] File C:\\Users\\purpl\\Box\\Gait Video Project\\GaitVideoData\\video\\openpose_data\\\\PD\\walking\\lower_body\\InkedGVS_406_W_T2_1_Trim\\processed2d\\982.csv does not exist: 'C:\\\\Users\\\\purpl\\\\Box\\\\Gait Video Project\\\\GaitVideoData\\\\video\\\\openpose_data\\\\\\\\PD\\\\walking\\\\lower_body\\\\InkedGVS_406_W_T2_1_Trim\\\\processed2d\\\\982.csv'\n",
      "Exception! [Errno 2] File C:\\Users\\purpl\\Box\\Gait Video Project\\GaitVideoData\\video\\openpose_data\\\\PD\\walking\\lower_body\\InkedGVS_406_W_T2_1_Trim\\processed2d\\982.csv does not exist: 'C:\\\\Users\\\\purpl\\\\Box\\\\Gait Video Project\\\\GaitVideoData\\\\video\\\\openpose_data\\\\\\\\PD\\\\walking\\\\lower_body\\\\InkedGVS_406_W_T2_1_Trim\\\\processed2d\\\\982.csv'\n",
      "Exception! [Errno 2] File C:\\Users\\purpl\\Box\\Gait Video Project\\GaitVideoData\\video\\openpose_data\\\\PD\\walking\\lower_body\\InkedGVS_406_W_T2_1_Trim\\processed2d\\982.csv does not exist: 'C:\\\\Users\\\\purpl\\\\Box\\\\Gait Video Project\\\\GaitVideoData\\\\video\\\\openpose_data\\\\\\\\PD\\\\walking\\\\lower_body\\\\InkedGVS_406_W_T2_1_Trim\\\\processed2d\\\\982.csv'\n",
      "Exception! [Errno 2] File C:\\Users\\purpl\\Box\\Gait Video Project\\GaitVideoData\\video\\openpose_data\\\\PD\\walking\\lower_body\\InkedGVS_406_W_T2_1_Trim\\processed2d\\982.csv does not exist: 'C:\\\\Users\\\\purpl\\\\Box\\\\Gait Video Project\\\\GaitVideoData\\\\video\\\\openpose_data\\\\\\\\PD\\\\walking\\\\lower_body\\\\InkedGVS_406_W_T2_1_Trim\\\\processed2d\\\\982.csv'\n",
      "Exception! [Errno 2] File C:\\Users\\purpl\\Box\\Gait Video Project\\GaitVideoData\\video\\openpose_data\\\\PD\\walking\\lower_body\\InkedGVS_406_W_T2_1_Trim\\processed2d\\982.csv does not exist: 'C:\\\\Users\\\\purpl\\\\Box\\\\Gait Video Project\\\\GaitVideoData\\\\video\\\\openpose_data\\\\\\\\PD\\\\walking\\\\lower_body\\\\InkedGVS_406_W_T2_1_Trim\\\\processed2d\\\\982.csv'\n",
      "Exception! [Errno 2] File C:\\Users\\purpl\\Box\\Gait Video Project\\GaitVideoData\\video\\openpose_data\\\\PD\\walking\\lower_body\\InkedGVS_406_W_T2_1_Trim\\processed2d\\982.csv does not exist: 'C:\\\\Users\\\\purpl\\\\Box\\\\Gait Video Project\\\\GaitVideoData\\\\video\\\\openpose_data\\\\\\\\PD\\\\walking\\\\lower_body\\\\InkedGVS_406_W_T2_1_Trim\\\\processed2d\\\\982.csv'\n",
      "Exception! [Errno 2] File C:\\Users\\purpl\\Box\\Gait Video Project\\GaitVideoData\\video\\openpose_data\\\\PD\\walking\\lower_body\\InkedGVS_406_W_T2_1_Trim\\processed2d\\982.csv does not exist: 'C:\\\\Users\\\\purpl\\\\Box\\\\Gait Video Project\\\\GaitVideoData\\\\video\\\\openpose_data\\\\\\\\PD\\\\walking\\\\lower_body\\\\InkedGVS_406_W_T2_1_Trim\\\\processed2d\\\\982.csv'\n",
      "Exception! [Errno 2] File C:\\Users\\purpl\\Box\\Gait Video Project\\GaitVideoData\\video\\openpose_data\\\\PD\\walking\\lower_body\\InkedGVS_406_W_T2_1_Trim\\processed2d\\982.csv does not exist: 'C:\\\\Users\\\\purpl\\\\Box\\\\Gait Video Project\\\\GaitVideoData\\\\video\\\\openpose_data\\\\\\\\PD\\\\walking\\\\lower_body\\\\InkedGVS_406_W_T2_1_Trim\\\\processed2d\\\\982.csv'\n",
      "Exception! [Errno 2] File C:\\Users\\purpl\\Box\\Gait Video Project\\GaitVideoData\\video\\openpose_data\\\\PD\\walking\\lower_body\\InkedGVS_406_W_T2_1_Trim\\processed2d\\982.csv does not exist: 'C:\\\\Users\\\\purpl\\\\Box\\\\Gait Video Project\\\\GaitVideoData\\\\video\\\\openpose_data\\\\\\\\PD\\\\walking\\\\lower_body\\\\InkedGVS_406_W_T2_1_Trim\\\\processed2d\\\\982.csv'\n",
      "Exception! [Errno 2] File C:\\Users\\purpl\\Box\\Gait Video Project\\GaitVideoData\\video\\openpose_data\\\\PD\\walking\\lower_body\\InkedGVS_406_W_T2_1_Trim\\processed2d\\982.csv does not exist: 'C:\\\\Users\\\\purpl\\\\Box\\\\Gait Video Project\\\\GaitVideoData\\\\video\\\\openpose_data\\\\\\\\PD\\\\walking\\\\lower_body\\\\InkedGVS_406_W_T2_1_Trim\\\\processed2d\\\\982.csv'\n",
      "Exception! [Errno 2] File C:\\Users\\purpl\\Box\\Gait Video Project\\GaitVideoData\\video\\openpose_data\\\\PD\\walking\\lower_body\\InkedGVS_406_W_T2_1_Trim\\processed2d\\982.csv does not exist: 'C:\\\\Users\\\\purpl\\\\Box\\\\Gait Video Project\\\\GaitVideoData\\\\video\\\\openpose_data\\\\\\\\PD\\\\walking\\\\lower_body\\\\InkedGVS_406_W_T2_1_Trim\\\\processed2d\\\\982.csv'\n",
      "Exception! [Errno 2] File C:\\Users\\purpl\\Box\\Gait Video Project\\GaitVideoData\\video\\openpose_data\\\\PD\\walking\\lower_body\\InkedGVS_406_W_T2_1_Trim\\processed2d\\982.csv does not exist: 'C:\\\\Users\\\\purpl\\\\Box\\\\Gait Video Project\\\\GaitVideoData\\\\video\\\\openpose_data\\\\\\\\PD\\\\walking\\\\lower_body\\\\InkedGVS_406_W_T2_1_Trim\\\\processed2d\\\\982.csv'\n",
      "Exception! [Errno 2] File C:\\Users\\purpl\\Box\\Gait Video Project\\GaitVideoData\\video\\openpose_data\\\\PD\\walking\\lower_body\\InkedGVS_406_W_T2_1_Trim\\processed2d\\982.csv does not exist: 'C:\\\\Users\\\\purpl\\\\Box\\\\Gait Video Project\\\\GaitVideoData\\\\video\\\\openpose_data\\\\\\\\PD\\\\walking\\\\lower_body\\\\InkedGVS_406_W_T2_1_Trim\\\\processed2d\\\\982.csv'\n",
      "C:\\Users\\purpl\\Box\\Gait Video Project\\GaitVideoData\\video\\openpose_data\\\\PD\\walking\\lower_body\\InkedGVS_406_W_T2_1_Trim\\processed2d\\1002.csv  removed (>8 missing coordinates)!\n",
      "Exception! [Errno 2] File C:\\Users\\purpl\\Box\\Gait Video Project\\GaitVideoData\\video\\openpose_data\\\\PD\\walking\\lower_body\\InkedGVS_406_W_T2_1_Trim\\processed2d\\1002.csv does not exist: 'C:\\\\Users\\\\purpl\\\\Box\\\\Gait Video Project\\\\GaitVideoData\\\\video\\\\openpose_data\\\\\\\\PD\\\\walking\\\\lower_body\\\\InkedGVS_406_W_T2_1_Trim\\\\processed2d\\\\1002.csv'\n",
      "C:\\Users\\purpl\\Box\\Gait Video Project\\GaitVideoData\\video\\openpose_data\\\\PD\\walking\\lower_body\\InkedGVS_406_W_T2_1_Trim\\processed2d\\1113.csv  removed (>8 missing coordinates)!\n",
      "C:\\Users\\purpl\\Box\\Gait Video Project\\GaitVideoData\\video\\openpose_data\\\\PD\\walking\\lower_body\\InkedGVS_406_W_T2_1_Trim\\processed2d\\1169.csv  removed (>8 missing coordinates)!\n"
     ]
    }
   ],
   "source": [
    "for cohort in cohorts:\n",
    "    for trial in trials:\n",
    "        frame_path = path+cohort+trial+'\\\\lower_body\\\\'\n",
    "        if (os.path.exists(frame_path)):\n",
    "            videos = os.listdir(frame_path)\n",
    "            for video in videos:\n",
    "                csv_path = frame_path+video+'\\\\processed2d'\n",
    "                frames = glob.glob(csv_path+'\\\\*.csv')\n",
    "                sorted_frames = sorted(frames,  key=lambda name: int(name.split('\\\\')[-1][:-4]))\n",
    "                counts_missing_frames = [0]*10 #Count of missing 0 markers to missing > 8 markers \n",
    "                for idx, frame in enumerate(sorted_frames):\n",
    "    #                 print ('Current frame: ', frame)\n",
    "                    try:\n",
    "                        frame_csv = pd.read_csv(frame, index_col = 0)\n",
    "    #                     print (frame_csv)\n",
    "                        missing = frame_csv[(frame_csv.x==0) & (frame_csv.y==0)] #Missing rows/keypoints in the frame\n",
    "    #                     print (missing) \n",
    "                        len_missing = len(missing)\n",
    "                        if (len_missing ==0): #No missing values, just update the stats \n",
    "                            counts_missing_frames[len_missing]+=1\n",
    "                        #If more than or equal to 75% of coordinates are missing, remove the frame\n",
    "                        elif (len_missing>8): \n",
    "                            print(frame, \" removed (>8 missing coordinates)!\")\n",
    "                            os.remove(frame)\n",
    "                            counts_missing_frames[9]+=1\n",
    "                        else:\n",
    "                            counts_missing_frames[len_missing]+=1\n",
    "                            for i in range(len_missing):\n",
    "                                marker = missing.iloc[i]\n",
    "    #                             print ('Missing marker name', marker.name)\n",
    "                                frame_csv.loc[marker.name], seq_travelled = missing_value_treatment(sorted_frames, idx, marker.name)\n",
    "                                #Fill in the seq_travelled_dataframe with video, frame, missing marker, travelled \n",
    "                                seq_travelled_dataframe.loc[len(seq_travelled_dataframe)]= [cohort, trial, video, frame.split('\\\\')[-1], \\\n",
    "                                                                                            marker.name] + seq_travelled   \n",
    "                            frame_csv.to_csv(frame)\n",
    "                    except Exception as e:\n",
    "                        print ('Exception!', e)\n",
    "                #In each video for each cohort, trial, how many out of total frames with missing \n",
    "                #no marker, missing 1 marker, missing 2 markers, ..., missing more than 8 markers hence deleted\n",
    "                missing_value_lower_body_stats.loc[len(missing_value_lower_body_stats)] = [cohort, trial, video] + \\\n",
    "                counts_missing_frames + [len(frames)]\n",
    "            print (video, 'DONE!')\n",
    "missing_value_lower_body_stats.to_csv(path+'missing_value_lower_body_stats.csv')  \n",
    "seq_travelled_dataframe.to_csv(path+'missing_values_seq_travelled_dataframe_lower_body_stats.csv')  "
   ]
  },
  {
   "cell_type": "markdown",
   "metadata": {},
   "source": [
    "#### Check "
   ]
  },
  {
   "cell_type": "code",
   "execution_count": null,
   "metadata": {},
   "outputs": [],
   "source": [
    "#Check that there are no left-right swaps or missing values left now for lower body frames \n",
    "count_missing, count_swap = 0, 0\n",
    "for cohort in cohorts:\n",
    "    for trial in trials:\n",
    "        frame_path = path+cohort+trial+'\\\\lower_body\\\\'\n",
    "        videos = os.listdir(frame_path)\n",
    "        for video in videos:\n",
    "            csv_path = frame_path+video+'\\\\processed2d'\n",
    "            frames = glob.glob(csv_path+'\\\\*.csv')\n",
    "            for frame in enumerate(sorted_frames):\n",
    "                try:\n",
    "                    frame_csv = pd.read_csv(frame, index_col = 0)\n",
    "                    missing = frame_csv[(frame_csv.x==0) & (frame_csv.y==0)] #Missing rows/keypoints in the frame\n",
    "                    len_missing = len(missing)\n",
    "                    if (len_missing !=0): #No missing values, just update the stats \n",
    "                        print ('Missing left', frame)\n",
    "                        count_missing+=1\n",
    "                    #If the left hip marker do not have x-coordinate values greater than right hip marker, a swap is needed\n",
    "                    if (frame_csv.loc['left_hip'].x<frame_csv.loc['right_hip'].x)\n",
    "                        print ('Swap left', frame)\n",
    "                        count_swap+=1\n",
    "print ('Missing values left in lower body are:', count_missing)\n",
    "print ('Swaps needed left in lower body are:', count_swap)"
   ]
  },
  {
   "cell_type": "markdown",
   "metadata": {},
   "source": [
    "### Statistics of left-right swaps "
   ]
  },
  {
   "cell_type": "code",
   "execution_count": null,
   "metadata": {},
   "outputs": [],
   "source": [
    "left_right_swaps_stats_df = pd.read_csv(path+'left_right_count_lower_body_df.csv', index_col = 0)\n",
    "left_right_swaps_stats_df['proportion_swaps (in %)'] = 100*left_right_swaps_stats_df['count_left_right_swaps']/left_right_swaps_stats_df['count_total_frames']\n",
    "rename(left_right_swaps_stats_df) #Renaming the cohort and trial \n",
    "left_right_swaps_stats_df"
   ]
  },
  {
   "cell_type": "code",
   "execution_count": null,
   "metadata": {},
   "outputs": [],
   "source": [
    "#Boxplot\n",
    "plt.figure(figsize = (25, 6))\n",
    "ax = sns.boxplot(y = 'value', x = 'feature_name' , hue = 'Label', data=new_regressN_df[new_regressN_df['TrialID']==2], orient = 'v', \n",
    "            linewidth=2.5, palette=\"Set3\", showfliers=False, width=0.8)\n",
    "\n",
    "# ax = sns.swarmplot(y = 'value', x = 'feature_name' , hue = 'Label', data=new_regressN_df[new_regressN_df['TrialID']==2],\n",
    "#                    dodge = True, palette=\"Set2\")\n",
    "handles, _ = ax.get_legend_handles_labels()\n",
    "sns.despine(offset=0)\n",
    "handles, _ = ax.get_legend_handles_labels()\n",
    "ax.legend(handles, ['HOA', 'PwMS'], loc = 'best')\n",
    "plt.ylabel(r\"Normalized values\")\n",
    "plt.xlabel('')\n",
    "plt.xticks(list(range(0, 18)), feature_display_names)\n",
    "plt.title('Multiple regression-based normalized gait data')\n",
    "plt.ylim([0,1])\n",
    "# plt.savefig(path + '..//viz//viz_regressN_swarm_trialWT.png', dpi = 250) #Use Box plot here \n",
    "plt.savefig(path + '..//viz//viz_regressN_trialWT.png', dpi = 250) #Use Swarmplot here \n",
    "plt.show()"
   ]
  },
  {
   "cell_type": "code",
   "execution_count": null,
   "metadata": {},
   "outputs": [],
   "source": [
    "#Statistics of left right swaps for the paper\n",
    "print ('Mean swaps')\n",
    "display(left_right_swaps_stats_df.groupby(['cohort', 'trial']).mean())\n",
    "print ('Standard deviation of swaps')\n",
    "display(left_right_swaps_stats_df.groupby(['cohort', 'trial']).std())"
   ]
  },
  {
   "cell_type": "markdown",
   "metadata": {},
   "source": [
    "### Statistics for missing value imputation for lower body OpenPose markers "
   ]
  },
  {
   "cell_type": "code",
   "execution_count": null,
   "metadata": {},
   "outputs": [],
   "source": []
  },
  {
   "cell_type": "code",
   "execution_count": null,
   "metadata": {},
   "outputs": [],
   "source": []
  },
  {
   "cell_type": "markdown",
   "metadata": {},
   "source": [
    "## Side camera (feet view)\n",
    "### Retaining only coordinates with confidence score above a threshold (max. 8: 2 ankles, 4 toes and 2 heels)"
   ]
  },
  {
   "cell_type": "code",
   "execution_count": 22,
   "metadata": {},
   "outputs": [
    {
     "name": "stdout",
     "output_type": "stream",
     "text": [
      "8\n"
     ]
    }
   ],
   "source": [
    "#8 required coordinates for feet - ankle, toes and heel\n",
    "#Coordinates 11, 14 for ankles and 19-24 for toes and heels \n",
    "feet_indices = [11, 14] + list(range(19, 25))\n",
    "print (len(feet_indices))\n",
    "order_feet = ['right ankle', 'left ankle', 'left toe 1', 'left toe 2', 'left heel', 'right toe 1', 'right toe 2', \\\n",
    "         'right heel']\n",
    "\n",
    "#All the coordinates detected with probability <0.2 are set to 0 hence nullified \n",
    "threshold = 0.2"
   ]
  },
  {
   "cell_type": "code",
   "execution_count": 23,
   "metadata": {},
   "outputs": [],
   "source": [
    "def retain_feet_markers(coords, threshold):\n",
    "    data_frame=pd.DataFrame(coords.values, index = order_feet, columns = ['x', 'y', 'confidence'])\n",
    "    data_frame[data_frame['confidence']<threshold] = 0\n",
    "    return data_frame"
   ]
  },
  {
   "cell_type": "code",
   "execution_count": null,
   "metadata": {},
   "outputs": [
    {
     "name": "stdout",
     "output_type": "stream",
     "text": [
      "InkedGVS_212_T_T1_0_Trim for feet done!\n"
     ]
    }
   ],
   "source": [
    "#Extract only ankles, toes and heels \n",
    "#Retain only the markers with confidence score higher than a set threshold (0.2)\n",
    "#Do not fill any missing values \n",
    "for cohort in cohorts:\n",
    "    for trial in trials:\n",
    "        frame_path = path+cohort+trial+'\\\\feet\\\\' #Path to save the frames to \n",
    "        if (os.path.exists(frame_path)):\n",
    "            videos = os.listdir(frame_path)\n",
    "#             print (len(videos))\n",
    "            for video in videos:\n",
    "                if not os.path.exists(frame_path+video+'\\\\processed2d'):\n",
    "                    os.makedirs(frame_path+video+'\\\\processed2d')\n",
    "                frames = glob.glob(frame_path+video+'\\\\*.jpg')\n",
    "                for frame in frames:\n",
    "#                     print (frame)\n",
    "                    csv_path = frame_path+video+'\\\\processed2d\\\\'+frame.split('\\\\')[-1][:-3]+'csv'\n",
    "                    if not os.path.exists(csv_path):\n",
    "                        try:\n",
    "                            frame_csv = pd.read_csv(frame[:-3]+'csv', index_col = None)\n",
    "                            coords = frame_csv.iloc[feet_indices][['x', 'y', 'confidence']]\n",
    "                            data_frame = retain_feet_markers(coords, threshold)\n",
    "                            data_frame.to_csv(csv_path)\n",
    "                        except Exception as e:\n",
    "                            print (e)\n",
    "                print (video, 'for feet done!')"
   ]
  },
  {
   "cell_type": "markdown",
   "metadata": {},
   "source": [
    "#### Check"
   ]
  },
  {
   "cell_type": "code",
   "execution_count": null,
   "metadata": {},
   "outputs": [],
   "source": [
    "#Check that all feet videos have been retained correctly \n",
    "count_not_retained = 0\n",
    "for cohort in cohorts:\n",
    "    for trial in trials:\n",
    "        frame_path = path+cohort+trial+'\\\\feet\\\\' #Path to save the frames to \n",
    "        if (os.path.exists(frame_path)):\n",
    "            videos = os.listdir(frame_path)\n",
    "#             print (len(videos))\n",
    "            for video in videos:\n",
    "                frames = glob.glob(frame_path+video+'\\\\processed2d\\\\*.csv')\n",
    "                for frame in frames:\n",
    "#                     print (frame)\n",
    "                    try:\n",
    "                        frame_csv = pd.read_csv(frame, index_col = None)\n",
    "                        if (np.sum(frame_csv['confidence']<0.2.values)):\n",
    "                            print ('feet not done frame', frame)\n",
    "                            count_not_retained+=1\n",
    "                    except Exception as e:\n",
    "                        print (e)\n",
    "print ('Not done count:', count_not_retained)"
   ]
  },
  {
   "cell_type": "markdown",
   "metadata": {},
   "source": [
    "### Statistics for retained feet coordinates "
   ]
  },
  {
   "cell_type": "code",
   "execution_count": null,
   "metadata": {},
   "outputs": [],
   "source": [
    "#For each feet view video of each cohort and trial, how many frames retained and how many frames had each coordinate\n",
    "#(left ankle, right ankle etc.) retained after cleaning out of total frames available for that video \n"
   ]
  },
  {
   "cell_type": "code",
   "execution_count": null,
   "metadata": {},
   "outputs": [],
   "source": []
  },
  {
   "cell_type": "markdown",
   "metadata": {},
   "source": [
    "#### Analysis on confidence scores of retained frames after processing to quantify the quality of application of OpenPose on our dataset for both lower_body and feet frames. The confidence score quantifies the probability of predicting each marker correctly using the algorithm "
   ]
  },
  {
   "cell_type": "code",
   "execution_count": null,
   "metadata": {},
   "outputs": [],
   "source": []
  },
  {
   "cell_type": "code",
   "execution_count": null,
   "metadata": {},
   "outputs": [],
   "source": []
  }
 ],
 "metadata": {
  "kernelspec": {
   "display_name": "Python 3",
   "language": "python",
   "name": "python3"
  },
  "language_info": {
   "codemirror_mode": {
    "name": "ipython",
    "version": 3
   },
   "file_extension": ".py",
   "mimetype": "text/x-python",
   "name": "python",
   "nbconvert_exporter": "python",
   "pygments_lexer": "ipython3",
   "version": "3.7.6"
  }
 },
 "nbformat": 4,
 "nbformat_minor": 4
}
