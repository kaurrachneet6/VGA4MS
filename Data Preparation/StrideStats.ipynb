{
 "cells": [
  {
   "cell_type": "markdown",
   "metadata": {},
   "source": [
    "## Gait Video Study\n",
    "Calculating the stats for strides in each framework (HOA-BW/W, MS-BW/W, PD-BW/W). This will help write stats for count of strides used in training and testing set of each framework, 1. task generalization a) W to WT, and b) T to TT and 2. subject generalization a) W, b) WT, c) T, and d) TT.\n",
    "\n",
    "Use the labels.csv file created containing the stats for each subject/trial's strides. "
   ]
  },
  {
   "cell_type": "code",
   "execution_count": 1,
   "metadata": {},
   "outputs": [],
   "source": [
    "import numpy as np\n",
    "import cv2\n",
    "import os\n",
    "import glob\n",
    "import matplotlib.pyplot as plt\n",
    "import pandas as pd\n",
    "import warnings\n",
    "warnings.filterwarnings(\"ignore\")\n",
    "from IPython.display import display, HTML"
   ]
  },
  {
   "cell_type": "code",
   "execution_count": 2,
   "metadata": {},
   "outputs": [],
   "source": [
    "#Reading the file with log of each stride \n",
    "labels_path = 'C:\\\\Users\\\\Rachneet Kaur\\\\Box\\\\Gait Video Project\\\\GaitVideoData\\\\video\\\\'\n",
    "labels_file = pd.read_csv(labels_path+'labels.csv', index_col=0)"
   ]
  },
  {
   "cell_type": "code",
   "execution_count": 3,
   "metadata": {},
   "outputs": [],
   "source": [
    "#Since we only used W/WT for our analysis\n",
    "labels_file_reduced = labels_file[labels_file.trial=='W']\n",
    "labels_file_reduced.reset_index(drop = True, inplace = True)"
   ]
  },
  {
   "cell_type": "code",
   "execution_count": 65,
   "metadata": {},
   "outputs": [
    {
     "name": "stdout",
     "output_type": "stream",
     "text": [
      "Total strides:  2430\n",
      "Total strides in W:  1380\n",
      "Total strides in WT:  1050\n"
     ]
    }
   ],
   "source": [
    "print ('Total strides: ', labels_file_reduced.shape[0])\n",
    "\n",
    "labels_W = labels_file_reduced[labels_file_reduced['scenario'] == 'W']\n",
    "labels_WT = labels_file_reduced[labels_file_reduced['scenario'] == 'WT']\n",
    "\n",
    "print ('Total strides in W: ', labels_W.shape[0])\n",
    "print ('Total strides in WT: ', labels_WT.shape[0])"
   ]
  },
  {
   "cell_type": "code",
   "execution_count": 66,
   "metadata": {},
   "outputs": [
    {
     "name": "stdout",
     "output_type": "stream",
     "text": [
      "Total HOA strides in W:  658\n",
      "Total MS strides in W:  389\n",
      "Total PD strides in W:  333\n",
      "\n",
      "\n",
      "Total HOA strides in WT:  351\n",
      "Total MS strides in WT:  332\n",
      "Total PD strides in WT:  367\n"
     ]
    }
   ],
   "source": [
    "print ('Total HOA strides in W: ', labels_W[labels_W['cohort'] == 'HOA'].shape[0])\n",
    "print ('Total MS strides in W: ', labels_W[labels_W['cohort'] == 'MS'].shape[0])\n",
    "print ('Total PD strides in W: ', labels_W[labels_W['cohort'] == 'PD'].shape[0])\n",
    "print ('\\n')\n",
    "print ('Total HOA strides in WT: ', labels_WT[labels_WT['cohort'] == 'HOA'].shape[0])\n",
    "print ('Total MS strides in WT: ', labels_WT[labels_WT['cohort'] == 'MS'].shape[0])\n",
    "print ('Total PD strides in WT: ', labels_WT[labels_WT['cohort'] == 'PD'].shape[0])"
   ]
  },
  {
   "cell_type": "code",
   "execution_count": 67,
   "metadata": {},
   "outputs": [
    {
     "name": "stdout",
     "output_type": "stream",
     "text": [
      "Total HOA, MS, PD subjects in W: \n"
     ]
    },
    {
     "data": {
      "text/html": [
       "<div>\n",
       "<style scoped>\n",
       "    .dataframe tbody tr th:only-of-type {\n",
       "        vertical-align: middle;\n",
       "    }\n",
       "\n",
       "    .dataframe tbody tr th {\n",
       "        vertical-align: top;\n",
       "    }\n",
       "\n",
       "    .dataframe thead th {\n",
       "        text-align: right;\n",
       "    }\n",
       "</style>\n",
       "<table border=\"1\" class=\"dataframe\">\n",
       "  <thead>\n",
       "    <tr style=\"text-align: right;\">\n",
       "      <th></th>\n",
       "      <th>PID</th>\n",
       "    </tr>\n",
       "    <tr>\n",
       "      <th>cohort</th>\n",
       "      <th></th>\n",
       "    </tr>\n",
       "  </thead>\n",
       "  <tbody>\n",
       "    <tr>\n",
       "      <th>HOA</th>\n",
       "      <td>14</td>\n",
       "    </tr>\n",
       "    <tr>\n",
       "      <th>MS</th>\n",
       "      <td>10</td>\n",
       "    </tr>\n",
       "    <tr>\n",
       "      <th>PD</th>\n",
       "      <td>8</td>\n",
       "    </tr>\n",
       "  </tbody>\n",
       "</table>\n",
       "</div>"
      ],
      "text/plain": [
       "        PID\n",
       "cohort     \n",
       "HOA      14\n",
       "MS       10\n",
       "PD        8"
      ]
     },
     "metadata": {},
     "output_type": "display_data"
    },
    {
     "name": "stdout",
     "output_type": "stream",
     "text": [
      "Total HOA, MS, PD subjects in WT: \n"
     ]
    },
    {
     "data": {
      "text/html": [
       "<div>\n",
       "<style scoped>\n",
       "    .dataframe tbody tr th:only-of-type {\n",
       "        vertical-align: middle;\n",
       "    }\n",
       "\n",
       "    .dataframe tbody tr th {\n",
       "        vertical-align: top;\n",
       "    }\n",
       "\n",
       "    .dataframe thead th {\n",
       "        text-align: right;\n",
       "    }\n",
       "</style>\n",
       "<table border=\"1\" class=\"dataframe\">\n",
       "  <thead>\n",
       "    <tr style=\"text-align: right;\">\n",
       "      <th></th>\n",
       "      <th>PID</th>\n",
       "    </tr>\n",
       "    <tr>\n",
       "      <th>cohort</th>\n",
       "      <th></th>\n",
       "    </tr>\n",
       "  </thead>\n",
       "  <tbody>\n",
       "    <tr>\n",
       "      <th>HOA</th>\n",
       "      <td>8</td>\n",
       "    </tr>\n",
       "    <tr>\n",
       "      <th>MS</th>\n",
       "      <td>9</td>\n",
       "    </tr>\n",
       "    <tr>\n",
       "      <th>PD</th>\n",
       "      <td>9</td>\n",
       "    </tr>\n",
       "  </tbody>\n",
       "</table>\n",
       "</div>"
      ],
      "text/plain": [
       "        PID\n",
       "cohort     \n",
       "HOA       8\n",
       "MS        9\n",
       "PD        9"
      ]
     },
     "metadata": {},
     "output_type": "display_data"
    }
   ],
   "source": [
    "print ('Total HOA, MS, PD subjects in W: ')\n",
    "display(labels_W[['PID', 'cohort']].groupby('PID').first().reset_index().groupby('cohort').count())\n",
    "\n",
    "print ('Total HOA, MS, PD subjects in WT: ')\n",
    "display(labels_WT[['PID', 'cohort']].groupby('PID').first().reset_index().groupby('cohort').count())"
   ]
  },
  {
   "cell_type": "code",
   "execution_count": 68,
   "metadata": {},
   "outputs": [
    {
     "name": "stdout",
     "output_type": "stream",
     "text": [
      "(32,) (26,)\n"
     ]
    }
   ],
   "source": [
    "print (labels_W.video.unique().shape, labels_WT.video.unique().shape)"
   ]
  },
  {
   "cell_type": "code",
   "execution_count": 69,
   "metadata": {},
   "outputs": [
    {
     "name": "stdout",
     "output_type": "stream",
     "text": [
      "Total frames in strides for trial W:  56226\n",
      "\n",
      "Total HOA, MS, PD frames in strides for trial W: \n"
     ]
    },
    {
     "data": {
      "text/plain": [
       "cohort\n",
       "HOA    26541\n",
       "MS     16187\n",
       "PD     13498\n",
       "Name: frame_count, dtype: int64"
      ]
     },
     "metadata": {},
     "output_type": "display_data"
    },
    {
     "name": "stdout",
     "output_type": "stream",
     "text": [
      "Total frames in strides for trial WT:  41747\n",
      "\n",
      "Total HOA, MS, PD frames in strides for trial WT: \n"
     ]
    },
    {
     "data": {
      "text/plain": [
       "cohort\n",
       "HOA    13638\n",
       "MS     13448\n",
       "PD     14661\n",
       "Name: frame_count, dtype: int64"
      ]
     },
     "metadata": {},
     "output_type": "display_data"
    }
   ],
   "source": [
    "#Number of frames after we delete extra frames before the first stride and after the last stride, but, \n",
    "#before we downsample to 20 frames per stride\n",
    "print ('Total frames in strides for trial W: ', labels_W['frame_count'].sum())\n",
    "\n",
    "print ('\\nTotal HOA, MS, PD frames in strides for trial W: ')\n",
    "display(labels_W.groupby('cohort')['frame_count'].sum())\n",
    "\n",
    "print ('Total frames in strides for trial WT: ', labels_WT['frame_count'].sum())\n",
    "\n",
    "print ('\\nTotal HOA, MS, PD frames in strides for trial WT: ')\n",
    "display(labels_WT.groupby('cohort')['frame_count'].sum())"
   ]
  },
  {
   "cell_type": "code",
   "execution_count": 70,
   "metadata": {},
   "outputs": [
    {
     "name": "stdout",
     "output_type": "stream",
     "text": [
      "Average number of strides per subject in trial W\n"
     ]
    },
    {
     "data": {
      "text/html": [
       "<div>\n",
       "<style scoped>\n",
       "    .dataframe tbody tr th:only-of-type {\n",
       "        vertical-align: middle;\n",
       "    }\n",
       "\n",
       "    .dataframe tbody tr th {\n",
       "        vertical-align: top;\n",
       "    }\n",
       "\n",
       "    .dataframe thead th {\n",
       "        text-align: right;\n",
       "    }\n",
       "</style>\n",
       "<table border=\"1\" class=\"dataframe\">\n",
       "  <thead>\n",
       "    <tr style=\"text-align: right;\">\n",
       "      <th></th>\n",
       "      <th>trial</th>\n",
       "      <th>scenario</th>\n",
       "      <th>video</th>\n",
       "      <th>stride_number</th>\n",
       "      <th>key</th>\n",
       "      <th>frame_count</th>\n",
       "      <th>label</th>\n",
       "    </tr>\n",
       "    <tr>\n",
       "      <th>cohort</th>\n",
       "      <th></th>\n",
       "      <th></th>\n",
       "      <th></th>\n",
       "      <th></th>\n",
       "      <th></th>\n",
       "      <th></th>\n",
       "      <th></th>\n",
       "    </tr>\n",
       "  </thead>\n",
       "  <tbody>\n",
       "    <tr>\n",
       "      <th>HOA</th>\n",
       "      <td>47.000</td>\n",
       "      <td>47.000</td>\n",
       "      <td>47.000</td>\n",
       "      <td>47.000</td>\n",
       "      <td>47.000</td>\n",
       "      <td>47.000</td>\n",
       "      <td>47.000</td>\n",
       "    </tr>\n",
       "    <tr>\n",
       "      <th>MS</th>\n",
       "      <td>38.900</td>\n",
       "      <td>38.900</td>\n",
       "      <td>38.900</td>\n",
       "      <td>38.900</td>\n",
       "      <td>38.900</td>\n",
       "      <td>38.900</td>\n",
       "      <td>38.900</td>\n",
       "    </tr>\n",
       "    <tr>\n",
       "      <th>PD</th>\n",
       "      <td>41.625</td>\n",
       "      <td>41.625</td>\n",
       "      <td>41.625</td>\n",
       "      <td>41.625</td>\n",
       "      <td>41.625</td>\n",
       "      <td>41.625</td>\n",
       "      <td>41.625</td>\n",
       "    </tr>\n",
       "  </tbody>\n",
       "</table>\n",
       "</div>"
      ],
      "text/plain": [
       "         trial  scenario   video  stride_number     key  frame_count   label\n",
       "cohort                                                                      \n",
       "HOA     47.000    47.000  47.000         47.000  47.000       47.000  47.000\n",
       "MS      38.900    38.900  38.900         38.900  38.900       38.900  38.900\n",
       "PD      41.625    41.625  41.625         41.625  41.625       41.625  41.625"
      ]
     },
     "metadata": {},
     "output_type": "display_data"
    },
    {
     "name": "stdout",
     "output_type": "stream",
     "text": [
      "Standard deviation number of strides per subject in trial W\n"
     ]
    },
    {
     "data": {
      "text/html": [
       "<div>\n",
       "<style scoped>\n",
       "    .dataframe tbody tr th:only-of-type {\n",
       "        vertical-align: middle;\n",
       "    }\n",
       "\n",
       "    .dataframe tbody tr th {\n",
       "        vertical-align: top;\n",
       "    }\n",
       "\n",
       "    .dataframe thead th {\n",
       "        text-align: right;\n",
       "    }\n",
       "</style>\n",
       "<table border=\"1\" class=\"dataframe\">\n",
       "  <thead>\n",
       "    <tr style=\"text-align: right;\">\n",
       "      <th></th>\n",
       "      <th>trial</th>\n",
       "      <th>scenario</th>\n",
       "      <th>video</th>\n",
       "      <th>stride_number</th>\n",
       "      <th>key</th>\n",
       "      <th>frame_count</th>\n",
       "      <th>label</th>\n",
       "    </tr>\n",
       "    <tr>\n",
       "      <th>cohort</th>\n",
       "      <th></th>\n",
       "      <th></th>\n",
       "      <th></th>\n",
       "      <th></th>\n",
       "      <th></th>\n",
       "      <th></th>\n",
       "      <th></th>\n",
       "    </tr>\n",
       "  </thead>\n",
       "  <tbody>\n",
       "    <tr>\n",
       "      <th>HOA</th>\n",
       "      <td>7.874008</td>\n",
       "      <td>7.874008</td>\n",
       "      <td>7.874008</td>\n",
       "      <td>7.874008</td>\n",
       "      <td>7.874008</td>\n",
       "      <td>7.874008</td>\n",
       "      <td>7.874008</td>\n",
       "    </tr>\n",
       "    <tr>\n",
       "      <th>MS</th>\n",
       "      <td>8.332667</td>\n",
       "      <td>8.332667</td>\n",
       "      <td>8.332667</td>\n",
       "      <td>8.332667</td>\n",
       "      <td>8.332667</td>\n",
       "      <td>8.332667</td>\n",
       "      <td>8.332667</td>\n",
       "    </tr>\n",
       "    <tr>\n",
       "      <th>PD</th>\n",
       "      <td>2.133910</td>\n",
       "      <td>2.133910</td>\n",
       "      <td>2.133910</td>\n",
       "      <td>2.133910</td>\n",
       "      <td>2.133910</td>\n",
       "      <td>2.133910</td>\n",
       "      <td>2.133910</td>\n",
       "    </tr>\n",
       "  </tbody>\n",
       "</table>\n",
       "</div>"
      ],
      "text/plain": [
       "           trial  scenario     video  stride_number       key  frame_count  \\\n",
       "cohort                                                                       \n",
       "HOA     7.874008  7.874008  7.874008       7.874008  7.874008     7.874008   \n",
       "MS      8.332667  8.332667  8.332667       8.332667  8.332667     8.332667   \n",
       "PD      2.133910  2.133910  2.133910       2.133910  2.133910     2.133910   \n",
       "\n",
       "           label  \n",
       "cohort            \n",
       "HOA     7.874008  \n",
       "MS      8.332667  \n",
       "PD      2.133910  "
      ]
     },
     "metadata": {},
     "output_type": "display_data"
    },
    {
     "name": "stdout",
     "output_type": "stream",
     "text": [
      "Average number of strides per subject in trial WT\n"
     ]
    },
    {
     "data": {
      "text/html": [
       "<div>\n",
       "<style scoped>\n",
       "    .dataframe tbody tr th:only-of-type {\n",
       "        vertical-align: middle;\n",
       "    }\n",
       "\n",
       "    .dataframe tbody tr th {\n",
       "        vertical-align: top;\n",
       "    }\n",
       "\n",
       "    .dataframe thead th {\n",
       "        text-align: right;\n",
       "    }\n",
       "</style>\n",
       "<table border=\"1\" class=\"dataframe\">\n",
       "  <thead>\n",
       "    <tr style=\"text-align: right;\">\n",
       "      <th></th>\n",
       "      <th>trial</th>\n",
       "      <th>scenario</th>\n",
       "      <th>video</th>\n",
       "      <th>stride_number</th>\n",
       "      <th>key</th>\n",
       "      <th>frame_count</th>\n",
       "      <th>label</th>\n",
       "    </tr>\n",
       "    <tr>\n",
       "      <th>cohort</th>\n",
       "      <th></th>\n",
       "      <th></th>\n",
       "      <th></th>\n",
       "      <th></th>\n",
       "      <th></th>\n",
       "      <th></th>\n",
       "      <th></th>\n",
       "    </tr>\n",
       "  </thead>\n",
       "  <tbody>\n",
       "    <tr>\n",
       "      <th>HOA</th>\n",
       "      <td>43.875000</td>\n",
       "      <td>43.875000</td>\n",
       "      <td>43.875000</td>\n",
       "      <td>43.875000</td>\n",
       "      <td>43.875000</td>\n",
       "      <td>43.875000</td>\n",
       "      <td>43.875000</td>\n",
       "    </tr>\n",
       "    <tr>\n",
       "      <th>MS</th>\n",
       "      <td>36.888889</td>\n",
       "      <td>36.888889</td>\n",
       "      <td>36.888889</td>\n",
       "      <td>36.888889</td>\n",
       "      <td>36.888889</td>\n",
       "      <td>36.888889</td>\n",
       "      <td>36.888889</td>\n",
       "    </tr>\n",
       "    <tr>\n",
       "      <th>PD</th>\n",
       "      <td>40.777778</td>\n",
       "      <td>40.777778</td>\n",
       "      <td>40.777778</td>\n",
       "      <td>40.777778</td>\n",
       "      <td>40.777778</td>\n",
       "      <td>40.777778</td>\n",
       "      <td>40.777778</td>\n",
       "    </tr>\n",
       "  </tbody>\n",
       "</table>\n",
       "</div>"
      ],
      "text/plain": [
       "            trial   scenario      video  stride_number        key  \\\n",
       "cohort                                                              \n",
       "HOA     43.875000  43.875000  43.875000      43.875000  43.875000   \n",
       "MS      36.888889  36.888889  36.888889      36.888889  36.888889   \n",
       "PD      40.777778  40.777778  40.777778      40.777778  40.777778   \n",
       "\n",
       "        frame_count      label  \n",
       "cohort                          \n",
       "HOA       43.875000  43.875000  \n",
       "MS        36.888889  36.888889  \n",
       "PD        40.777778  40.777778  "
      ]
     },
     "metadata": {},
     "output_type": "display_data"
    },
    {
     "name": "stdout",
     "output_type": "stream",
     "text": [
      "Standard deviation number of strides per subject in trial WT\n"
     ]
    },
    {
     "data": {
      "text/html": [
       "<div>\n",
       "<style scoped>\n",
       "    .dataframe tbody tr th:only-of-type {\n",
       "        vertical-align: middle;\n",
       "    }\n",
       "\n",
       "    .dataframe tbody tr th {\n",
       "        vertical-align: top;\n",
       "    }\n",
       "\n",
       "    .dataframe thead th {\n",
       "        text-align: right;\n",
       "    }\n",
       "</style>\n",
       "<table border=\"1\" class=\"dataframe\">\n",
       "  <thead>\n",
       "    <tr style=\"text-align: right;\">\n",
       "      <th></th>\n",
       "      <th>trial</th>\n",
       "      <th>scenario</th>\n",
       "      <th>video</th>\n",
       "      <th>stride_number</th>\n",
       "      <th>key</th>\n",
       "      <th>frame_count</th>\n",
       "      <th>label</th>\n",
       "    </tr>\n",
       "    <tr>\n",
       "      <th>cohort</th>\n",
       "      <th></th>\n",
       "      <th></th>\n",
       "      <th></th>\n",
       "      <th></th>\n",
       "      <th></th>\n",
       "      <th></th>\n",
       "      <th></th>\n",
       "    </tr>\n",
       "  </thead>\n",
       "  <tbody>\n",
       "    <tr>\n",
       "      <th>HOA</th>\n",
       "      <td>2.799872</td>\n",
       "      <td>2.799872</td>\n",
       "      <td>2.799872</td>\n",
       "      <td>2.799872</td>\n",
       "      <td>2.799872</td>\n",
       "      <td>2.799872</td>\n",
       "      <td>2.799872</td>\n",
       "    </tr>\n",
       "    <tr>\n",
       "      <th>MS</th>\n",
       "      <td>9.649410</td>\n",
       "      <td>9.649410</td>\n",
       "      <td>9.649410</td>\n",
       "      <td>9.649410</td>\n",
       "      <td>9.649410</td>\n",
       "      <td>9.649410</td>\n",
       "      <td>9.649410</td>\n",
       "    </tr>\n",
       "    <tr>\n",
       "      <th>PD</th>\n",
       "      <td>3.898005</td>\n",
       "      <td>3.898005</td>\n",
       "      <td>3.898005</td>\n",
       "      <td>3.898005</td>\n",
       "      <td>3.898005</td>\n",
       "      <td>3.898005</td>\n",
       "      <td>3.898005</td>\n",
       "    </tr>\n",
       "  </tbody>\n",
       "</table>\n",
       "</div>"
      ],
      "text/plain": [
       "           trial  scenario     video  stride_number       key  frame_count  \\\n",
       "cohort                                                                       \n",
       "HOA     2.799872  2.799872  2.799872       2.799872  2.799872     2.799872   \n",
       "MS      9.649410  9.649410  9.649410       9.649410  9.649410     9.649410   \n",
       "PD      3.898005  3.898005  3.898005       3.898005  3.898005     3.898005   \n",
       "\n",
       "           label  \n",
       "cohort            \n",
       "HOA     2.799872  \n",
       "MS      9.649410  \n",
       "PD      3.898005  "
      ]
     },
     "metadata": {},
     "output_type": "display_data"
    }
   ],
   "source": [
    "#Average +- standard deviation number of strides per subject (in W/WT - across HOA/MS/PD)\n",
    "print ('Average number of strides per subject in trial W')\n",
    "display(labels_W.groupby(['PID', 'cohort']).count().groupby('cohort').mean())\n",
    "\n",
    "print ('Standard deviation number of strides per subject in trial W')\n",
    "display(labels_W.groupby(['PID', 'cohort']).count().groupby('cohort').std())\n",
    "\n",
    "print ('Average number of strides per subject in trial WT')\n",
    "display(labels_WT.groupby(['PID', 'cohort']).count().groupby('cohort').mean())\n",
    "\n",
    "print ('Standard deviation number of strides per subject in trial WT')\n",
    "display(labels_WT.groupby(['PID', 'cohort']).count().groupby('cohort').std())"
   ]
  },
  {
   "cell_type": "code",
   "execution_count": 71,
   "metadata": {},
   "outputs": [
    {
     "name": "stdout",
     "output_type": "stream",
     "text": [
      "Average frames per stride in trial W cohort\n",
      "HOA    40.335866\n",
      "MS     41.611825\n",
      "PD     40.534535\n",
      "Name: frame_count, dtype: float64\n",
      "Standard deviation frames per stride in trial W cohort\n",
      "HOA    10.047132\n",
      "MS      9.356951\n",
      "PD      8.772708\n",
      "Name: frame_count, dtype: float64\n",
      "Average frames per stride in trial WT cohort\n",
      "HOA    38.854701\n",
      "MS     40.506024\n",
      "PD     39.948229\n",
      "Name: frame_count, dtype: float64\n",
      "Standard deviation frames per stride in trial WT cohort\n",
      "HOA    9.247948\n",
      "MS     8.495065\n",
      "PD     8.837949\n",
      "Name: frame_count, dtype: float64\n"
     ]
    }
   ],
   "source": [
    "#Average +- standard deviation number of frames per stride (represnting speed of walking) (in W/WT across HOA/MS/PD)\n",
    "#Higher the number of frames per stride = more the time person took to complete single stride = slower the person \n",
    "#is walking \n",
    "print ('Average frames per stride in trial W', labels_W.groupby('cohort').mean()['frame_count'])\n",
    "print ('Standard deviation frames per stride in trial W', labels_W.groupby('cohort').std()['frame_count'])\n",
    "\n",
    "print ('Average frames per stride in trial WT', labels_WT.groupby('cohort').mean()['frame_count'])\n",
    "print ('Standard deviation frames per stride in trial WT', labels_WT.groupby('cohort').std()['frame_count'])"
   ]
  },
  {
   "cell_type": "markdown",
   "metadata": {},
   "source": [
    "### Stats for the Multi view merged frames (before we did HSR identification and divided data in strides)"
   ]
  },
  {
   "cell_type": "code",
   "execution_count": 114,
   "metadata": {
    "scrolled": true
   },
   "outputs": [
    {
     "name": "stdout",
     "output_type": "stream",
     "text": [
      "GVS_212_W_T1 1733\n",
      "GVS_212_W_T2 1729\n",
      "GVS_213_W_T1 1741\n",
      "GVS_213_W_T2 1742\n",
      "GVS_214_W_T1 1710\n",
      "GVS_214_W_T2 1704\n",
      "GVS_215_W_T1 1736\n",
      "GVS_215_W_T2 1739\n",
      "GVS_216_W_T1 1732\n",
      "GVS_216_W_T2 1725\n",
      "GVS_217_W_T1 1728\n",
      "GVS_217_W_T2 1724\n",
      "GVS_218_W_T1 1710\n",
      "GVS_218_W_T2 1707\n",
      "GVS_219_W_T1 1679\n",
      "GVS_219_W_T2 1589\n",
      "GVS_310_W_T1 1802\n",
      "GVS_310_W_T2 1728\n",
      "GVS_311_W_T1 1548\n",
      "GVS_311_W_T2 1020\n",
      "GVS_312_W_T2 1726\n",
      "GVS_313_W_T1 1771\n",
      "GVS_313_W_T2 1272\n",
      "GVS_314_W_T1 1744\n",
      "GVS_314_W_T2 1730\n",
      "GVS_318_W_T1 727\n",
      "GVS_318_W_T2 812\n",
      "GVS_320_W_T1 1760\n",
      "GVS_320_W_T2 1745\n",
      "GVS_321_W_T1 1697\n",
      "GVS_321_W_T2 1757\n",
      "GVS_322_W_T1 1728\n",
      "GVS_322_W_T2 1762\n",
      "GVS_323_W_T1 1673\n",
      "GVS_323_W_T2 1780\n",
      "GVS_403_W_T2 1453\n",
      "GVS_404_W_T1 1518\n",
      "GVS_404_W_T2 1686\n",
      "GVS_404_W_T3 1787\n",
      "GVS_404_W_T4 1748\n",
      "GVS_405_W_T1 1444\n",
      "GVS_405_W_T2 1646\n",
      "GVS_405_W_T3 1648\n",
      "GVS_405_W_T4 1679\n",
      "GVS_406_W_T1 1739\n",
      "GVS_406_W_T2 1684\n",
      "GVS_407_W_T1 1702\n",
      "GVS_407_W_T2 1732\n",
      "GVS_408_W_T1 1741\n",
      "GVS_408_W_T2 1745\n",
      "GVS_409_W_T1 1625\n",
      "GVS_409_W_T2 1564\n",
      "GVS_410_W_T1 1747\n",
      "GVS_410_W_T2 1747\n",
      "GVS_411_W_T1 1722\n",
      "GVS_411_W_T2 1728\n",
      "GVS_411_W_T3 1739\n",
      "GVS_411_W_T4 1751\n",
      "GVS_102_W_T1 3566\n",
      "GVS_112_W_T1 3607\n",
      "GVS_113_W_T1 2101\n",
      "GVS_115_W_T1 2408\n",
      "GVS_123_W_T1 4001\n",
      "GVS_124_W_T1 2977\n"
     ]
    }
   ],
   "source": [
    "#Stats for Multi view merged frames (before we did HSR identification and \n",
    "#divided data in strides)\n",
    "#Add cohort, trial, video and count of frames per that video \n",
    "\n",
    "frame_path_merged = 'C:\\\\Users\\\\Rachneet Kaur\\\\Box\\\\Gait Video Project\\\\GaitVideoData\\\\video\\\\multi_view_merged_data\\\\'\n",
    "cohorts = ['HOA\\\\', 'MS\\\\', 'PD\\\\', 'ExtraHOA\\\\']\n",
    "trials = ['walking\\\\']\n",
    "video_wise_df = pd.DataFrame(columns = ['cohort', 'video', 'frame count'])\n",
    "\n",
    "for cohort in cohorts:\n",
    "    for trial in trials:\n",
    "        merged_path = frame_path_merged+cohort+trial \n",
    "        if (os.path.exists(merged_path)):\n",
    "            videos = os.listdir(merged_path)\n",
    "#             print (len(videos))\n",
    "        for video in videos:\n",
    "            frames = glob.glob(merged_path+'\\\\'+video+'\\\\hip_height_normalized\\\\*.csv')\n",
    "            count_frames = len(frames)\n",
    "            print (video, count_frames)\n",
    "            if ((cohort == 'HOA\\\\') or (cohort == 'ExtraHOA\\\\')):\n",
    "                cohort_ = 'HOA'\n",
    "            elif cohort == 'MS\\\\':\n",
    "                cohort_ = 'MS'\n",
    "            else:\n",
    "                cohort_ = 'PD'\n",
    "            \n",
    "            if count_frames>2500:\n",
    "                count_frames = 2500\n",
    "            video_wise_df.loc[len(video_wise_df)] = [cohort_, video, count_frames]"
   ]
  },
  {
   "cell_type": "code",
   "execution_count": 115,
   "metadata": {
    "scrolled": true
   },
   "outputs": [],
   "source": [
    "#Use labels.csv to label each video as W or WT so that we can have stats for W-WT-each cohort\n",
    "#separately \n",
    "labels_file_reduced[['video', 'scenario']].groupby('video').first()\n",
    "video_wise_df.set_index('video', inplace = True)\n",
    "video_wise_df['trial'] = labels_file_reduced[['video', 'scenario']].groupby('video').first()['scenario']\n",
    "video_wise_df.dropna(inplace = True)\n",
    "video_wise_df.to_csv('C:\\\\Users\\\\Rachneet Kaur\\\\Box\\\\Gait Video Project\\\\GaitVideoData\\\\multi_view_stats.csv')"
   ]
  },
  {
   "cell_type": "code",
   "execution_count": 116,
   "metadata": {},
   "outputs": [
    {
     "name": "stdout",
     "output_type": "stream",
     "text": [
      "Total multi-view merged frames before detecting HSR:  99942\n",
      "Total multi-view merged frames in trial W and WT: \n"
     ]
    },
    {
     "data": {
      "text/html": [
       "<div>\n",
       "<style scoped>\n",
       "    .dataframe tbody tr th:only-of-type {\n",
       "        vertical-align: middle;\n",
       "    }\n",
       "\n",
       "    .dataframe tbody tr th {\n",
       "        vertical-align: top;\n",
       "    }\n",
       "\n",
       "    .dataframe thead th {\n",
       "        text-align: right;\n",
       "    }\n",
       "</style>\n",
       "<table border=\"1\" class=\"dataframe\">\n",
       "  <thead>\n",
       "    <tr style=\"text-align: right;\">\n",
       "      <th></th>\n",
       "      <th>frame count</th>\n",
       "    </tr>\n",
       "    <tr>\n",
       "      <th>trial</th>\n",
       "      <th></th>\n",
       "    </tr>\n",
       "  </thead>\n",
       "  <tbody>\n",
       "    <tr>\n",
       "      <th>W</th>\n",
       "      <td>57708</td>\n",
       "    </tr>\n",
       "    <tr>\n",
       "      <th>WT</th>\n",
       "      <td>42234</td>\n",
       "    </tr>\n",
       "  </tbody>\n",
       "</table>\n",
       "</div>"
      ],
      "text/plain": [
       "       frame count\n",
       "trial             \n",
       "W            57708\n",
       "WT           42234"
      ]
     },
     "metadata": {},
     "output_type": "display_data"
    },
    {
     "data": {
      "text/html": [
       "<div>\n",
       "<style scoped>\n",
       "    .dataframe tbody tr th:only-of-type {\n",
       "        vertical-align: middle;\n",
       "    }\n",
       "\n",
       "    .dataframe tbody tr th {\n",
       "        vertical-align: top;\n",
       "    }\n",
       "\n",
       "    .dataframe thead th {\n",
       "        text-align: right;\n",
       "    }\n",
       "</style>\n",
       "<table border=\"1\" class=\"dataframe\">\n",
       "  <thead>\n",
       "    <tr style=\"text-align: right;\">\n",
       "      <th></th>\n",
       "      <th></th>\n",
       "      <th>frame count</th>\n",
       "    </tr>\n",
       "    <tr>\n",
       "      <th>cohort</th>\n",
       "      <th>trial</th>\n",
       "      <th></th>\n",
       "    </tr>\n",
       "  </thead>\n",
       "  <tbody>\n",
       "    <tr>\n",
       "      <th rowspan=\"2\" valign=\"top\">HOA</th>\n",
       "      <th>W</th>\n",
       "      <td>28174</td>\n",
       "    </tr>\n",
       "    <tr>\n",
       "      <th>WT</th>\n",
       "      <td>13763</td>\n",
       "    </tr>\n",
       "    <tr>\n",
       "      <th rowspan=\"2\" valign=\"top\">MS</th>\n",
       "      <th>W</th>\n",
       "      <td>16210</td>\n",
       "    </tr>\n",
       "    <tr>\n",
       "      <th>WT</th>\n",
       "      <td>13572</td>\n",
       "    </tr>\n",
       "    <tr>\n",
       "      <th rowspan=\"2\" valign=\"top\">PD</th>\n",
       "      <th>W</th>\n",
       "      <td>13324</td>\n",
       "    </tr>\n",
       "    <tr>\n",
       "      <th>WT</th>\n",
       "      <td>14899</td>\n",
       "    </tr>\n",
       "  </tbody>\n",
       "</table>\n",
       "</div>"
      ],
      "text/plain": [
       "              frame count\n",
       "cohort trial             \n",
       "HOA    W            28174\n",
       "       WT           13763\n",
       "MS     W            16210\n",
       "       WT           13572\n",
       "PD     W            13324\n",
       "       WT           14899"
      ]
     },
     "metadata": {},
     "output_type": "display_data"
    }
   ],
   "source": [
    "#Computing stats from the saved csv\n",
    "multi_view_merged_stats = pd.read_csv('C:\\\\Users\\\\Rachneet Kaur\\\\Box\\\\Gait Video Project\\\\GaitVideoData\\\\multi_view_stats.csv')\n",
    "\n",
    "print ('Total multi-view merged frames before detecting HSR: ', multi_view_merged_stats['frame count'].sum())\n",
    "\n",
    "print ('Total multi-view merged frames in trial W and WT: ')\n",
    "display(multi_view_merged_stats.groupby('trial').sum())\n",
    "\n",
    "display(multi_view_merged_stats.groupby(['cohort', 'trial']).sum())"
   ]
  },
  {
   "cell_type": "code",
   "execution_count": null,
   "metadata": {},
   "outputs": [],
   "source": []
  }
 ],
 "metadata": {
  "kernelspec": {
   "display_name": "Python 3",
   "language": "python",
   "name": "python3"
  },
  "language_info": {
   "codemirror_mode": {
    "name": "ipython",
    "version": 3
   },
   "file_extension": ".py",
   "mimetype": "text/x-python",
   "name": "python",
   "nbconvert_exporter": "python",
   "pygments_lexer": "ipython3",
   "version": "3.7.3"
  }
 },
 "nbformat": 4,
 "nbformat_minor": 4
}
