{
 "cells": [
  {
   "cell_type": "markdown",
   "metadata": {},
   "source": [
    "## Gait Video Study\n",
    "Calculating the stats for strides in each framework (HOA-BW/W, MS-BW/W, PD-BW/W). This will help write stats for count of strides used in training and testing set of each framework, 1. task generalization a) W to WT, and b) T to TT and 2. subject generalization a) W, b) WT, c) T, and d) TT.\n",
    "\n",
    "Use the labels.csv file created containing the stats for each subject/trial's strides. "
   ]
  },
  {
   "cell_type": "code",
   "execution_count": 1,
   "metadata": {},
   "outputs": [],
   "source": [
    "import numpy as np\n",
    "import cv2\n",
    "import os\n",
    "import glob\n",
    "import matplotlib.pyplot as plt\n",
    "import pandas as pd\n",
    "import warnings\n",
    "warnings.filterwarnings(\"ignore\")\n",
    "from IPython.display import display, HTML"
   ]
  },
  {
   "cell_type": "code",
   "execution_count": 2,
   "metadata": {},
   "outputs": [],
   "source": [
    "#Reading the file with log of each stride \n",
    "labels_path = 'C:\\\\Users\\\\Rachneet Kaur\\\\Box\\\\Gait Video Project\\\\GaitVideoData\\\\video\\\\'\n",
    "labels_file = pd.read_csv(labels_path+'labels.csv', index_col=0)"
   ]
  },
  {
   "cell_type": "code",
   "execution_count": 3,
   "metadata": {},
   "outputs": [],
   "source": [
    "#Since we only used W/WT for our analysis\n",
    "labels_file_reduced = labels_file[labels_file.trial=='W']\n",
    "labels_file_reduced.reset_index(drop = True, inplace = True)"
   ]
  },
  {
   "cell_type": "code",
   "execution_count": 4,
   "metadata": {},
   "outputs": [
    {
     "name": "stdout",
     "output_type": "stream",
     "text": [
      "Total strides:  2430\n",
      "Total strides in W:  1380\n",
      "Total strides in WT:  1050\n"
     ]
    }
   ],
   "source": [
    "print ('Total strides: ', labels_file_reduced.shape[0])\n",
    "\n",
    "labels_W = labels_file_reduced[labels_file_reduced['scenario'] == 'W']\n",
    "labels_WT = labels_file_reduced[labels_file_reduced['scenario'] == 'WT']\n",
    "\n",
    "print ('Total strides in W: ', labels_W.shape[0])\n",
    "print ('Total strides in WT: ', labels_WT.shape[0])"
   ]
  },
  {
   "cell_type": "code",
   "execution_count": 5,
   "metadata": {},
   "outputs": [
    {
     "name": "stdout",
     "output_type": "stream",
     "text": [
      "Total HOA strides in W:  658\n",
      "Total MS strides in W:  389\n",
      "Total PD strides in W:  333\n",
      "\n",
      "\n",
      "Total HOA strides in WT:  351\n",
      "Total MS strides in WT:  332\n",
      "Total PD strides in WT:  367\n"
     ]
    }
   ],
   "source": [
    "print ('Total HOA strides in W: ', labels_W[labels_W['cohort'] == 'HOA'].shape[0])\n",
    "print ('Total MS strides in W: ', labels_W[labels_W['cohort'] == 'MS'].shape[0])\n",
    "print ('Total PD strides in W: ', labels_W[labels_W['cohort'] == 'PD'].shape[0])\n",
    "print ('\\n')\n",
    "print ('Total HOA strides in WT: ', labels_WT[labels_WT['cohort'] == 'HOA'].shape[0])\n",
    "print ('Total MS strides in WT: ', labels_WT[labels_WT['cohort'] == 'MS'].shape[0])\n",
    "print ('Total PD strides in WT: ', labels_WT[labels_WT['cohort'] == 'PD'].shape[0])"
   ]
  },
  {
   "cell_type": "code",
   "execution_count": 6,
   "metadata": {},
   "outputs": [
    {
     "name": "stdout",
     "output_type": "stream",
     "text": [
      "Total HOA, MS, PD subjects in W: \n"
     ]
    },
    {
     "data": {
      "text/html": [
       "<div>\n",
       "<style scoped>\n",
       "    .dataframe tbody tr th:only-of-type {\n",
       "        vertical-align: middle;\n",
       "    }\n",
       "\n",
       "    .dataframe tbody tr th {\n",
       "        vertical-align: top;\n",
       "    }\n",
       "\n",
       "    .dataframe thead th {\n",
       "        text-align: right;\n",
       "    }\n",
       "</style>\n",
       "<table border=\"1\" class=\"dataframe\">\n",
       "  <thead>\n",
       "    <tr style=\"text-align: right;\">\n",
       "      <th></th>\n",
       "      <th>PID</th>\n",
       "    </tr>\n",
       "    <tr>\n",
       "      <th>cohort</th>\n",
       "      <th></th>\n",
       "    </tr>\n",
       "  </thead>\n",
       "  <tbody>\n",
       "    <tr>\n",
       "      <th>HOA</th>\n",
       "      <td>14</td>\n",
       "    </tr>\n",
       "    <tr>\n",
       "      <th>MS</th>\n",
       "      <td>10</td>\n",
       "    </tr>\n",
       "    <tr>\n",
       "      <th>PD</th>\n",
       "      <td>8</td>\n",
       "    </tr>\n",
       "  </tbody>\n",
       "</table>\n",
       "</div>"
      ],
      "text/plain": [
       "        PID\n",
       "cohort     \n",
       "HOA      14\n",
       "MS       10\n",
       "PD        8"
      ]
     },
     "metadata": {},
     "output_type": "display_data"
    },
    {
     "name": "stdout",
     "output_type": "stream",
     "text": [
      "Total HOA, MS, PD subjects in WT: \n"
     ]
    },
    {
     "data": {
      "text/html": [
       "<div>\n",
       "<style scoped>\n",
       "    .dataframe tbody tr th:only-of-type {\n",
       "        vertical-align: middle;\n",
       "    }\n",
       "\n",
       "    .dataframe tbody tr th {\n",
       "        vertical-align: top;\n",
       "    }\n",
       "\n",
       "    .dataframe thead th {\n",
       "        text-align: right;\n",
       "    }\n",
       "</style>\n",
       "<table border=\"1\" class=\"dataframe\">\n",
       "  <thead>\n",
       "    <tr style=\"text-align: right;\">\n",
       "      <th></th>\n",
       "      <th>PID</th>\n",
       "    </tr>\n",
       "    <tr>\n",
       "      <th>cohort</th>\n",
       "      <th></th>\n",
       "    </tr>\n",
       "  </thead>\n",
       "  <tbody>\n",
       "    <tr>\n",
       "      <th>HOA</th>\n",
       "      <td>8</td>\n",
       "    </tr>\n",
       "    <tr>\n",
       "      <th>MS</th>\n",
       "      <td>9</td>\n",
       "    </tr>\n",
       "    <tr>\n",
       "      <th>PD</th>\n",
       "      <td>9</td>\n",
       "    </tr>\n",
       "  </tbody>\n",
       "</table>\n",
       "</div>"
      ],
      "text/plain": [
       "        PID\n",
       "cohort     \n",
       "HOA       8\n",
       "MS        9\n",
       "PD        9"
      ]
     },
     "metadata": {},
     "output_type": "display_data"
    }
   ],
   "source": [
    "print ('Total HOA, MS, PD subjects in W: ')\n",
    "display(labels_W[['PID', 'cohort']].groupby('PID').first().reset_index().groupby('cohort').count())\n",
    "\n",
    "print ('Total HOA, MS, PD subjects in WT: ')\n",
    "display(labels_WT[['PID', 'cohort']].groupby('PID').first().reset_index().groupby('cohort').count())"
   ]
  },
  {
   "cell_type": "code",
   "execution_count": 7,
   "metadata": {},
   "outputs": [
    {
     "name": "stdout",
     "output_type": "stream",
     "text": [
      "(32,) (26,)\n"
     ]
    }
   ],
   "source": [
    "print (labels_W.video.unique().shape, labels_WT.video.unique().shape)"
   ]
  },
  {
   "cell_type": "code",
   "execution_count": 8,
   "metadata": {},
   "outputs": [
    {
     "name": "stdout",
     "output_type": "stream",
     "text": [
      "Total frames in strides for trial W:  56226\n",
      "\n",
      "Total HOA, MS, PD frames in strides for trial W: \n"
     ]
    },
    {
     "data": {
      "text/plain": [
       "cohort\n",
       "HOA    26541\n",
       "MS     16187\n",
       "PD     13498\n",
       "Name: frame_count, dtype: int64"
      ]
     },
     "metadata": {},
     "output_type": "display_data"
    },
    {
     "name": "stdout",
     "output_type": "stream",
     "text": [
      "Total frames in strides for trial WT:  41747\n",
      "\n",
      "Total HOA, MS, PD frames in strides for trial WT: \n"
     ]
    },
    {
     "data": {
      "text/plain": [
       "cohort\n",
       "HOA    13638\n",
       "MS     13448\n",
       "PD     14661\n",
       "Name: frame_count, dtype: int64"
      ]
     },
     "metadata": {},
     "output_type": "display_data"
    }
   ],
   "source": [
    "#Number of frames after we delete extra frames before the first stride and after the last stride, but, \n",
    "#before we downsample to 20 frames per stride\n",
    "print ('Total frames in strides for trial W: ', labels_W['frame_count'].sum())\n",
    "\n",
    "print ('\\nTotal HOA, MS, PD frames in strides for trial W: ')\n",
    "display(labels_W.groupby('cohort')['frame_count'].sum())\n",
    "\n",
    "print ('Total frames in strides for trial WT: ', labels_WT['frame_count'].sum())\n",
    "\n",
    "print ('\\nTotal HOA, MS, PD frames in strides for trial WT: ')\n",
    "display(labels_WT.groupby('cohort')['frame_count'].sum())"
   ]
  },
  {
   "cell_type": "code",
   "execution_count": 18,
   "metadata": {},
   "outputs": [
    {
     "name": "stdout",
     "output_type": "stream",
     "text": [
      "Average number of strides per subject in trial W\n"
     ]
    },
    {
     "data": {
      "text/html": [
       "<div>\n",
       "<style scoped>\n",
       "    .dataframe tbody tr th:only-of-type {\n",
       "        vertical-align: middle;\n",
       "    }\n",
       "\n",
       "    .dataframe tbody tr th {\n",
       "        vertical-align: top;\n",
       "    }\n",
       "\n",
       "    .dataframe thead th {\n",
       "        text-align: right;\n",
       "    }\n",
       "</style>\n",
       "<table border=\"1\" class=\"dataframe\">\n",
       "  <thead>\n",
       "    <tr style=\"text-align: right;\">\n",
       "      <th></th>\n",
       "      <th>trial</th>\n",
       "      <th>scenario</th>\n",
       "      <th>video</th>\n",
       "      <th>stride_number</th>\n",
       "      <th>key</th>\n",
       "      <th>frame_count</th>\n",
       "      <th>label</th>\n",
       "    </tr>\n",
       "    <tr>\n",
       "      <th>cohort</th>\n",
       "      <th></th>\n",
       "      <th></th>\n",
       "      <th></th>\n",
       "      <th></th>\n",
       "      <th></th>\n",
       "      <th></th>\n",
       "      <th></th>\n",
       "    </tr>\n",
       "  </thead>\n",
       "  <tbody>\n",
       "    <tr>\n",
       "      <th>HOA</th>\n",
       "      <td>47.000</td>\n",
       "      <td>47.000</td>\n",
       "      <td>47.000</td>\n",
       "      <td>47.000</td>\n",
       "      <td>47.000</td>\n",
       "      <td>47.000</td>\n",
       "      <td>47.000</td>\n",
       "    </tr>\n",
       "    <tr>\n",
       "      <th>MS</th>\n",
       "      <td>38.900</td>\n",
       "      <td>38.900</td>\n",
       "      <td>38.900</td>\n",
       "      <td>38.900</td>\n",
       "      <td>38.900</td>\n",
       "      <td>38.900</td>\n",
       "      <td>38.900</td>\n",
       "    </tr>\n",
       "    <tr>\n",
       "      <th>PD</th>\n",
       "      <td>41.625</td>\n",
       "      <td>41.625</td>\n",
       "      <td>41.625</td>\n",
       "      <td>41.625</td>\n",
       "      <td>41.625</td>\n",
       "      <td>41.625</td>\n",
       "      <td>41.625</td>\n",
       "    </tr>\n",
       "  </tbody>\n",
       "</table>\n",
       "</div>"
      ],
      "text/plain": [
       "         trial  scenario   video  stride_number     key  frame_count   label\n",
       "cohort                                                                      \n",
       "HOA     47.000    47.000  47.000         47.000  47.000       47.000  47.000\n",
       "MS      38.900    38.900  38.900         38.900  38.900       38.900  38.900\n",
       "PD      41.625    41.625  41.625         41.625  41.625       41.625  41.625"
      ]
     },
     "metadata": {},
     "output_type": "display_data"
    },
    {
     "name": "stdout",
     "output_type": "stream",
     "text": [
      "Standard deviation number of strides per subject in trial W\n"
     ]
    },
    {
     "data": {
      "text/html": [
       "<div>\n",
       "<style scoped>\n",
       "    .dataframe tbody tr th:only-of-type {\n",
       "        vertical-align: middle;\n",
       "    }\n",
       "\n",
       "    .dataframe tbody tr th {\n",
       "        vertical-align: top;\n",
       "    }\n",
       "\n",
       "    .dataframe thead th {\n",
       "        text-align: right;\n",
       "    }\n",
       "</style>\n",
       "<table border=\"1\" class=\"dataframe\">\n",
       "  <thead>\n",
       "    <tr style=\"text-align: right;\">\n",
       "      <th></th>\n",
       "      <th>trial</th>\n",
       "      <th>scenario</th>\n",
       "      <th>video</th>\n",
       "      <th>stride_number</th>\n",
       "      <th>key</th>\n",
       "      <th>frame_count</th>\n",
       "      <th>label</th>\n",
       "    </tr>\n",
       "    <tr>\n",
       "      <th>cohort</th>\n",
       "      <th></th>\n",
       "      <th></th>\n",
       "      <th></th>\n",
       "      <th></th>\n",
       "      <th></th>\n",
       "      <th></th>\n",
       "      <th></th>\n",
       "    </tr>\n",
       "  </thead>\n",
       "  <tbody>\n",
       "    <tr>\n",
       "      <th>HOA</th>\n",
       "      <td>7.874008</td>\n",
       "      <td>7.874008</td>\n",
       "      <td>7.874008</td>\n",
       "      <td>7.874008</td>\n",
       "      <td>7.874008</td>\n",
       "      <td>7.874008</td>\n",
       "      <td>7.874008</td>\n",
       "    </tr>\n",
       "    <tr>\n",
       "      <th>MS</th>\n",
       "      <td>8.332667</td>\n",
       "      <td>8.332667</td>\n",
       "      <td>8.332667</td>\n",
       "      <td>8.332667</td>\n",
       "      <td>8.332667</td>\n",
       "      <td>8.332667</td>\n",
       "      <td>8.332667</td>\n",
       "    </tr>\n",
       "    <tr>\n",
       "      <th>PD</th>\n",
       "      <td>2.133910</td>\n",
       "      <td>2.133910</td>\n",
       "      <td>2.133910</td>\n",
       "      <td>2.133910</td>\n",
       "      <td>2.133910</td>\n",
       "      <td>2.133910</td>\n",
       "      <td>2.133910</td>\n",
       "    </tr>\n",
       "  </tbody>\n",
       "</table>\n",
       "</div>"
      ],
      "text/plain": [
       "           trial  scenario     video  stride_number       key  frame_count  \\\n",
       "cohort                                                                       \n",
       "HOA     7.874008  7.874008  7.874008       7.874008  7.874008     7.874008   \n",
       "MS      8.332667  8.332667  8.332667       8.332667  8.332667     8.332667   \n",
       "PD      2.133910  2.133910  2.133910       2.133910  2.133910     2.133910   \n",
       "\n",
       "           label  \n",
       "cohort            \n",
       "HOA     7.874008  \n",
       "MS      8.332667  \n",
       "PD      2.133910  "
      ]
     },
     "metadata": {},
     "output_type": "display_data"
    },
    {
     "name": "stdout",
     "output_type": "stream",
     "text": [
      "Average number of strides per subject in trial WT\n"
     ]
    },
    {
     "data": {
      "text/html": [
       "<div>\n",
       "<style scoped>\n",
       "    .dataframe tbody tr th:only-of-type {\n",
       "        vertical-align: middle;\n",
       "    }\n",
       "\n",
       "    .dataframe tbody tr th {\n",
       "        vertical-align: top;\n",
       "    }\n",
       "\n",
       "    .dataframe thead th {\n",
       "        text-align: right;\n",
       "    }\n",
       "</style>\n",
       "<table border=\"1\" class=\"dataframe\">\n",
       "  <thead>\n",
       "    <tr style=\"text-align: right;\">\n",
       "      <th></th>\n",
       "      <th>trial</th>\n",
       "      <th>scenario</th>\n",
       "      <th>video</th>\n",
       "      <th>stride_number</th>\n",
       "      <th>key</th>\n",
       "      <th>frame_count</th>\n",
       "      <th>label</th>\n",
       "    </tr>\n",
       "    <tr>\n",
       "      <th>cohort</th>\n",
       "      <th></th>\n",
       "      <th></th>\n",
       "      <th></th>\n",
       "      <th></th>\n",
       "      <th></th>\n",
       "      <th></th>\n",
       "      <th></th>\n",
       "    </tr>\n",
       "  </thead>\n",
       "  <tbody>\n",
       "    <tr>\n",
       "      <th>HOA</th>\n",
       "      <td>43.875000</td>\n",
       "      <td>43.875000</td>\n",
       "      <td>43.875000</td>\n",
       "      <td>43.875000</td>\n",
       "      <td>43.875000</td>\n",
       "      <td>43.875000</td>\n",
       "      <td>43.875000</td>\n",
       "    </tr>\n",
       "    <tr>\n",
       "      <th>MS</th>\n",
       "      <td>36.888889</td>\n",
       "      <td>36.888889</td>\n",
       "      <td>36.888889</td>\n",
       "      <td>36.888889</td>\n",
       "      <td>36.888889</td>\n",
       "      <td>36.888889</td>\n",
       "      <td>36.888889</td>\n",
       "    </tr>\n",
       "    <tr>\n",
       "      <th>PD</th>\n",
       "      <td>40.777778</td>\n",
       "      <td>40.777778</td>\n",
       "      <td>40.777778</td>\n",
       "      <td>40.777778</td>\n",
       "      <td>40.777778</td>\n",
       "      <td>40.777778</td>\n",
       "      <td>40.777778</td>\n",
       "    </tr>\n",
       "  </tbody>\n",
       "</table>\n",
       "</div>"
      ],
      "text/plain": [
       "            trial   scenario      video  stride_number        key  \\\n",
       "cohort                                                              \n",
       "HOA     43.875000  43.875000  43.875000      43.875000  43.875000   \n",
       "MS      36.888889  36.888889  36.888889      36.888889  36.888889   \n",
       "PD      40.777778  40.777778  40.777778      40.777778  40.777778   \n",
       "\n",
       "        frame_count      label  \n",
       "cohort                          \n",
       "HOA       43.875000  43.875000  \n",
       "MS        36.888889  36.888889  \n",
       "PD        40.777778  40.777778  "
      ]
     },
     "metadata": {},
     "output_type": "display_data"
    },
    {
     "name": "stdout",
     "output_type": "stream",
     "text": [
      "Standard deviation number of strides per subject in trial WT\n"
     ]
    },
    {
     "data": {
      "text/html": [
       "<div>\n",
       "<style scoped>\n",
       "    .dataframe tbody tr th:only-of-type {\n",
       "        vertical-align: middle;\n",
       "    }\n",
       "\n",
       "    .dataframe tbody tr th {\n",
       "        vertical-align: top;\n",
       "    }\n",
       "\n",
       "    .dataframe thead th {\n",
       "        text-align: right;\n",
       "    }\n",
       "</style>\n",
       "<table border=\"1\" class=\"dataframe\">\n",
       "  <thead>\n",
       "    <tr style=\"text-align: right;\">\n",
       "      <th></th>\n",
       "      <th>trial</th>\n",
       "      <th>scenario</th>\n",
       "      <th>video</th>\n",
       "      <th>stride_number</th>\n",
       "      <th>key</th>\n",
       "      <th>frame_count</th>\n",
       "      <th>label</th>\n",
       "    </tr>\n",
       "    <tr>\n",
       "      <th>cohort</th>\n",
       "      <th></th>\n",
       "      <th></th>\n",
       "      <th></th>\n",
       "      <th></th>\n",
       "      <th></th>\n",
       "      <th></th>\n",
       "      <th></th>\n",
       "    </tr>\n",
       "  </thead>\n",
       "  <tbody>\n",
       "    <tr>\n",
       "      <th>HOA</th>\n",
       "      <td>2.799872</td>\n",
       "      <td>2.799872</td>\n",
       "      <td>2.799872</td>\n",
       "      <td>2.799872</td>\n",
       "      <td>2.799872</td>\n",
       "      <td>2.799872</td>\n",
       "      <td>2.799872</td>\n",
       "    </tr>\n",
       "    <tr>\n",
       "      <th>MS</th>\n",
       "      <td>9.649410</td>\n",
       "      <td>9.649410</td>\n",
       "      <td>9.649410</td>\n",
       "      <td>9.649410</td>\n",
       "      <td>9.649410</td>\n",
       "      <td>9.649410</td>\n",
       "      <td>9.649410</td>\n",
       "    </tr>\n",
       "    <tr>\n",
       "      <th>PD</th>\n",
       "      <td>3.898005</td>\n",
       "      <td>3.898005</td>\n",
       "      <td>3.898005</td>\n",
       "      <td>3.898005</td>\n",
       "      <td>3.898005</td>\n",
       "      <td>3.898005</td>\n",
       "      <td>3.898005</td>\n",
       "    </tr>\n",
       "  </tbody>\n",
       "</table>\n",
       "</div>"
      ],
      "text/plain": [
       "           trial  scenario     video  stride_number       key  frame_count  \\\n",
       "cohort                                                                       \n",
       "HOA     2.799872  2.799872  2.799872       2.799872  2.799872     2.799872   \n",
       "MS      9.649410  9.649410  9.649410       9.649410  9.649410     9.649410   \n",
       "PD      3.898005  3.898005  3.898005       3.898005  3.898005     3.898005   \n",
       "\n",
       "           label  \n",
       "cohort            \n",
       "HOA     2.799872  \n",
       "MS      9.649410  \n",
       "PD      3.898005  "
      ]
     },
     "metadata": {},
     "output_type": "display_data"
    }
   ],
   "source": [
    "#Average +- standard deviation number of strides per subject (in W/WT - across HOA/MS/PD)\n",
    "print ('Average number of strides per subject in trial W')\n",
    "display(labels_W.groupby(['PID', 'cohort']).count().groupby('cohort').mean())\n",
    "\n",
    "print ('Standard deviation number of strides per subject in trial W')\n",
    "display(labels_W.groupby(['PID', 'cohort']).count().groupby('cohort').std())\n",
    "\n",
    "print ('Average number of strides per subject in trial WT')\n",
    "display(labels_WT.groupby(['PID', 'cohort']).count().groupby('cohort').mean())\n",
    "\n",
    "print ('Standard deviation number of strides per subject in trial WT')\n",
    "display(labels_WT.groupby(['PID', 'cohort']).count().groupby('cohort').std())"
   ]
  },
  {
   "cell_type": "code",
   "execution_count": 24,
   "metadata": {},
   "outputs": [
    {
     "name": "stdout",
     "output_type": "stream",
     "text": [
      "Average frames per stride in trial W cohort\n",
      "HOA    40.335866\n",
      "MS     41.611825\n",
      "PD     40.534535\n",
      "Name: frame_count, dtype: float64\n",
      "Standard deviation frames per stride in trial W cohort\n",
      "HOA    10.047132\n",
      "MS      9.356951\n",
      "PD      8.772708\n",
      "Name: frame_count, dtype: float64\n",
      "Average frames per stride in trial WT cohort\n",
      "HOA    38.854701\n",
      "MS     40.506024\n",
      "PD     39.948229\n",
      "Name: frame_count, dtype: float64\n",
      "Standard deviation frames per stride in trial WT cohort\n",
      "HOA    9.247948\n",
      "MS     8.495065\n",
      "PD     8.837949\n",
      "Name: frame_count, dtype: float64\n"
     ]
    }
   ],
   "source": [
    "#Average +- standard deviation number of frames per stride (represnting speed of walking) (in W/WT across HOA/MS/PD)\n",
    "#Higher the number of frames per stride = more the time person took to complete single stride = slower the person \n",
    "#is walking \n",
    "print ('Average frames per stride in trial W', labels_W.groupby('cohort').mean()['frame_count'])\n",
    "print ('Standard deviation frames per stride in trial W', labels_W.groupby('cohort').std()['frame_count'])\n",
    "\n",
    "print ('Average frames per stride in trial WT', labels_WT.groupby('cohort').mean()['frame_count'])\n",
    "print ('Standard deviation frames per stride in trial WT', labels_WT.groupby('cohort').std()['frame_count'])"
   ]
  },
  {
   "cell_type": "code",
   "execution_count": null,
   "metadata": {},
   "outputs": [],
   "source": []
  }
 ],
 "metadata": {
  "kernelspec": {
   "display_name": "Python 3",
   "language": "python",
   "name": "python3"
  },
  "language_info": {
   "codemirror_mode": {
    "name": "ipython",
    "version": 3
   },
   "file_extension": ".py",
   "mimetype": "text/x-python",
   "name": "python",
   "nbconvert_exporter": "python",
   "pygments_lexer": "ipython3",
   "version": "3.7.3"
  }
 },
 "nbformat": 4,
 "nbformat_minor": 4
}
