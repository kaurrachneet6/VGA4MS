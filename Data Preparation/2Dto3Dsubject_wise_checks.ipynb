{
 "cells": [
  {
   "cell_type": "markdown",
   "metadata": {},
   "source": [
    "## Gait Video Study \n",
    "### From the camera calibration intrinsic and extrinsic matrix, computing the required scale subject wise to compute 3D from 2D coordinates"
   ]
  },
  {
   "cell_type": "code",
   "execution_count": 1,
   "metadata": {},
   "outputs": [],
   "source": [
    "import numpy as np\n",
    "import cv2\n",
    "import os\n",
    "import glob\n",
    "import matplotlib.pyplot as plt\n",
    "import pandas as pd"
   ]
  },
  {
   "cell_type": "code",
   "execution_count": 2,
   "metadata": {},
   "outputs": [],
   "source": [
    "path = 'C:\\\\Users\\\\purpl\\\\Box\\\\Gait Video Project\\\\CameraCalibration\\\\'#1April\\\\mp4\\\\'"
   ]
  },
  {
   "cell_type": "code",
   "execution_count": null,
   "metadata": {},
   "outputs": [],
   "source": []
  },
  {
   "cell_type": "markdown",
   "metadata": {},
   "source": [
    "### Camera 1 - Side-look camera (_0)"
   ]
  },
  {
   "cell_type": "code",
   "execution_count": null,
   "metadata": {},
   "outputs": [],
   "source": []
  },
  {
   "cell_type": "code",
   "execution_count": null,
   "metadata": {},
   "outputs": [],
   "source": []
  },
  {
   "cell_type": "markdown",
   "metadata": {},
   "source": [
    "### Camera 2 - Front-look camera (_1)"
   ]
  },
  {
   "cell_type": "code",
   "execution_count": 3,
   "metadata": {},
   "outputs": [
    {
     "name": "stdout",
     "output_type": "stream",
     "text": [
      "Computed camera matrix\n",
      " [[560.02665252   0.         402.60078829]\n",
      " [  0.         869.92913382 252.54590069]\n",
      " [  0.           0.           1.        ]]\n",
      "Computed distortion matrix\n",
      " [[-4.70342049e-01  9.05259576e+00  4.59566683e-03  2.16735826e-02\n",
      "  -5.32980337e+01]]\n",
      "Computed rotation vector\n",
      " [[ 0.04456356]\n",
      " [ 3.01837349]\n",
      " [-0.90960737]]\n",
      "Computed translation vector\n",
      " [[  31.90938981]\n",
      " [-232.49838609]\n",
      " [ 249.25996024]]\n"
     ]
    }
   ],
   "source": [
    "# Load previously saved intrinsic and extrinsic matrices \n",
    "frontlook_mtx = np.load(path+'June\\\\frontlook\\\\calibrate\\\\frontlook_camera_matrix.npy')\n",
    "frontlook_dist = np.load(path+'June\\\\frontlook\\\\calibrate\\\\frontlook_distortion_matrix.npy')\n",
    "frontlook_rvecs = np.load(path+'June\\\\frontlook\\\\calibrate\\\\frontlook_rotation_matrix.npy')\n",
    "frontlook_tvecs = np.load(path+'June\\\\frontlook\\\\calibrate\\\\frontlook_translation_matrix.npy')\n",
    "\n",
    "print ('Computed camera matrix\\n', frontlook_mtx)\n",
    "print ('Computed distortion matrix\\n', frontlook_dist)\n",
    "print ('Computed rotation vector\\n', frontlook_rvecs)\n",
    "print ('Computed translation vector\\n', frontlook_tvecs)\n",
    "\n",
    "rotM = cv2.Rodrigues(frontlook_rvecs)[0]"
   ]
  },
  {
   "cell_type": "code",
   "execution_count": 4,
   "metadata": {},
   "outputs": [],
   "source": [
    "#Configuration for which to run the code for \n",
    "cohorts = ['\\\\HOA', '\\\\MS', '\\\\PD', '\\\\ExtraHOA']\n",
    "trials = ['\\\\beam_walking', '\\\\walking']\n",
    "cameras = ['\\\\feet\\\\', '\\\\lower_body\\\\']"
   ]
  },
  {
   "cell_type": "code",
   "execution_count": 5,
   "metadata": {},
   "outputs": [
    {
     "name": "stdout",
     "output_type": "stream",
     "text": [
      "12\n"
     ]
    }
   ],
   "source": [
    "lower_body_indices = list(range(9, 15)) + list(range(19, 25))\n",
    "print (len(lower_body_indices))\n",
    "\n",
    "#Dimensions of the image \n",
    "w = 800\n",
    "h = 448\n",
    "\n",
    "order = ['right hip', 'right knee', 'right ankle', 'left hip', 'left knee', 'left ankle', 'left toe 1', 'left toe 2', \\\n",
    "         'left heel', 'right toe 1', 'right toe 2', 'right heel']"
   ]
  },
  {
   "cell_type": "code",
   "execution_count": 6,
   "metadata": {},
   "outputs": [],
   "source": [
    "def convert2d_to_3d(coord, scale, shift_array):\n",
    "    frontlook_tvecs1 = frontlook_tvecs-np.array(shift_array)\n",
    "    col = coord[0]\n",
    "    row = coord[1]\n",
    "    u=col-w/2\n",
    "    v=h/2-row\n",
    "    p = np.matmul(np.linalg.pinv(frontlook_mtx), np.array([col, row, 1]))\n",
    "    return (np.matmul(np.matrix(rotM).T, (scale*p.reshape(-1,1) - np.matrix(frontlook_tvecs1))).T)"
   ]
  },
  {
   "cell_type": "code",
   "execution_count": 32,
   "metadata": {
    "scrolled": true
   },
   "outputs": [
    {
     "name": "stdout",
     "output_type": "stream",
     "text": [
      "C:\\Users\\purpl\\Box\\Gait Video Project\\GaitVideoData\\video\\openpose_data\\ExtraHOA\\walking\\lower_body\\InkedGVS_124_W_T1_1_Trim\\processed2d\\0.csv\n",
      "                     x           y           z  confidence\n",
      "right hip    54.233192  148.476691  114.407657    0.679501\n",
      "right knee   54.830383  175.071351   72.781771    0.781446\n",
      "right ankle  51.379007  182.818410   31.640879    0.811414\n",
      "left hip     22.761787  149.936548  113.343769    0.681224\n",
      "left knee    27.627027  173.849293   73.508943    0.803639\n",
      "left ankle   35.710563  185.060042   30.106922    0.847228\n",
      "left toe 1   38.604000  192.505579   25.179566    0.855304\n",
      "left toe 2   31.578963  191.759927   25.652474    0.899367\n",
      "left heel    37.556613  187.358793   28.588547    0.693563\n",
      "right toe 1  49.929363  190.836324   26.320799    0.784095\n",
      "right toe 2  56.034516  189.743116   27.064197    0.747329\n",
      "right heel   49.688593  184.721730   30.373871    0.575129\n",
      "C:\\Users\\purpl\\Box\\Gait Video Project\\GaitVideoData\\video\\openpose_data\\ExtraHOA\\walking\\lower_body\\InkedGVS_124_W_T1_1_Trim\\processed2d\\100.csv\n",
      "                     x           y           z  confidence\n",
      "right hip    61.235898  146.913882  115.465127    0.647803\n",
      "right knee   59.161151  174.033882   73.482801    0.771338\n",
      "right ankle  54.835619  181.784971   32.336570    0.815154\n",
      "left hip     31.504506  148.308973  114.449487    0.654277\n",
      "left knee    34.706173  175.551165   72.402253    0.834544\n",
      "left ankle   37.586501  188.300632   27.964225    0.800352\n",
      "left toe 1   42.209873  195.718315   23.060615    0.778408\n",
      "left toe 2   34.330381  195.449887   23.214529    0.810839\n",
      "left heel    39.410197  190.152781   26.741867    0.624032\n",
      "right toe 1  57.692602  187.369518   28.642888    0.785767\n",
      "right toe 2  62.894950  186.302943   29.365874    0.814626\n",
      "right heel   51.452959  184.219722   30.712074    0.542001\n",
      "C:\\Users\\purpl\\Box\\Gait Video Project\\GaitVideoData\\video\\openpose_data\\ExtraHOA\\walking\\lower_body\\InkedGVS_124_W_T1_1_Trim\\processed2d\\1001.csv\n",
      "                     x           y           z  confidence\n",
      "right hip    63.101077  150.396579  113.161887    0.616819\n",
      "right knee   58.570297  182.473271   67.885915    0.770856\n",
      "right ankle  49.843503  188.030347   28.180822    0.823796\n",
      "left hip     30.689878  150.462856  113.019036    0.619583\n",
      "left knee    33.101386  181.208332   68.646809    0.771205\n",
      "left ankle   32.471378  192.663273   25.056304    0.766490\n",
      "left toe 1   36.287572  201.510982   19.202163    0.765219\n",
      "left toe 2   28.400930  200.764383   19.673069    0.792625\n",
      "left heel    35.156072  194.473601   23.864299    0.601874\n",
      "right toe 1  51.896299  196.435610   22.614629    0.789539\n",
      "right toe 2  57.964557  194.883362   23.662246    0.824829\n",
      "right heel   45.522065  190.011281   26.854330    0.578326\n",
      "C:\\Users\\purpl\\Box\\Gait Video Project\\GaitVideoData\\video\\openpose_data\\ExtraHOA\\walking\\lower_body\\InkedGVS_124_W_T1_1_Trim\\processed2d\\1005.csv\n",
      "                     x           y           z  confidence\n",
      "right hip    62.191910  150.393052  113.161451    0.644941\n",
      "right knee   56.797468  181.558689   68.486848    0.711657\n",
      "right ankle  50.685574  186.593998   29.135652    0.837391\n",
      "left hip     29.795466  149.770466  113.475342    0.631506\n",
      "left knee    32.332480  183.067494   67.411890    0.770476\n",
      "left ankle   35.171843  195.425541   23.233238    0.769840\n",
      "left toe 1   36.359046  203.377052   17.965228    0.721708\n",
      "left toe 2   28.490529  203.088946   18.132221    0.779520\n",
      "left heel    37.060676  197.726207   21.713723    0.617417\n",
      "right toe 1  52.663025  193.586299   24.505984    0.770763\n",
      "right toe 2  57.873629  192.066362   25.529562    0.777737\n",
      "right heel   48.925480  188.058146   28.159591    0.593512\n",
      "C:\\Users\\purpl\\Box\\Gait Video Project\\GaitVideoData\\video\\openpose_data\\ExtraHOA\\walking\\lower_body\\InkedGVS_124_W_T1_1_Trim\\processed2d\\1010.csv\n",
      "                     x           y           z  confidence\n",
      "right hip    61.356713  150.439008  113.128435    0.620468\n",
      "right knee   56.758012  180.626857   69.104506    0.715494\n",
      "right ankle  49.680254  183.785767   30.994364    0.815086\n",
      "left hip     28.985100  151.201882  112.523880    0.618287\n",
      "left knee    34.081800  183.062840   67.420313    0.782650\n",
      "left ankle   36.120260  196.343391   22.627623    0.748962\n",
      "left toe 1   39.052171  204.734669   17.073384    0.663540\n",
      "left toe 2   32.002693  204.420305   17.260285    0.734100\n",
      "left heel    37.963995  199.114378   20.796161    0.509358\n",
      "right toe 1  53.437453  190.762813   26.380241    0.758366\n",
      "right toe 2  57.759615  189.254521   27.393387    0.755756\n",
      "right heel   47.054809  184.799297   30.314409    0.491971\n",
      "C:\\Users\\purpl\\Box\\Gait Video Project\\GaitVideoData\\video\\openpose_data\\ExtraHOA\\walking\\lower_body\\InkedGVS_124_W_T1_1_Trim\\processed2d\\1016.csv\n",
      "                     x           y           z  confidence\n",
      "right hip    60.384877  148.343417  114.514788    0.628516\n",
      "right knee   61.893699  176.784025   71.667871    0.777408\n",
      "right ankle  55.634347  179.887057   33.597272    0.832651\n",
      "left hip     27.183836  150.539401  112.957589    0.650621\n",
      "left knee    30.491605  181.270991   68.597304    0.778457\n",
      "left ankle   35.976154  193.048504   24.811602    0.791430\n",
      "left toe 1   38.946926  201.445202   19.253889    0.739618\n",
      "left toe 2   31.896681  201.141371   19.433805    0.816944\n",
      "left heel    38.688238  195.335713   23.303523    0.582508\n",
      "right toe 1  50.752988  188.947119   27.575804    0.808209\n",
      "right toe 2  55.989090  188.336742   27.996446    0.770258\n",
      "right heel   53.014102  179.960159   33.540811    0.636671\n",
      "C:\\Users\\purpl\\Box\\Gait Video Project\\GaitVideoData\\video\\openpose_data\\ExtraHOA\\walking\\lower_body\\InkedGVS_124_W_T1_1_Trim\\processed2d\\1021.csv\n",
      "                     x           y           z  confidence\n",
      "right hip    60.454068  150.441829  113.123810    0.658208\n",
      "right knee   62.000862  180.502121   69.203203    0.785790\n",
      "right ankle  57.715483  187.356908   28.651318    0.842660\n",
      "left hip     27.221154  151.940236  112.028988    0.658387\n",
      "left knee    31.391467  182.151814   68.016089    0.774203\n",
      "left ankle   35.895146  189.751569   26.997133    0.837227\n",
      "left toe 1   41.437654  198.546083   21.183526    0.812468\n",
      "left toe 2   33.516568  197.818380   21.641799    0.801215\n",
      "left heel    37.683689  191.603508   25.774806    0.621931\n",
      "right toe 1  56.242412  196.323531   22.702198    0.808953\n",
      "right toe 2  62.366355  195.241481   23.438256    0.743398\n",
      "right heel   56.002062  188.808710   27.683584    0.633160\n",
      "C:\\Users\\purpl\\Box\\Gait Video Project\\GaitVideoData\\video\\openpose_data\\ExtraHOA\\walking\\lower_body\\InkedGVS_124_W_T1_1_Trim\\processed2d\\1025.csv\n",
      "                     x           y           z  confidence\n",
      "right hip    60.441131  150.447048  113.120310    0.625103\n",
      "right knee   59.489330  183.390175   67.280838    0.733247\n",
      "right ankle  57.115523  195.832853   23.030168    0.768295\n",
      "left hip     26.352772  151.971726  112.005461    0.653584\n",
      "left knee    31.330402  180.309326   69.237421    0.759965\n",
      "left ankle   35.832019  187.873917   28.241771    0.808660\n",
      "left toe 1   38.736005  195.814268   22.986399    0.740397\n",
      "left toe 2   32.562150  195.025042   23.490793    0.798455\n",
      "left heel    37.610713  189.265879   27.324367    0.564250\n",
      "right toe 1  55.714824  205.266441   16.771685    0.717048\n",
      "right toe 2  62.679350  204.168650   17.520744    0.715375\n",
      "right heel   53.680899  197.796655   21.717740    0.574003\n",
      "C:\\Users\\purpl\\Box\\Gait Video Project\\GaitVideoData\\video\\openpose_data\\ExtraHOA\\walking\\lower_body\\InkedGVS_124_W_T1_1_Trim\\processed2d\\1029.csv\n",
      "                     x           y           z  confidence\n",
      "right hip    61.264781  149.014040  114.072869    0.632195\n",
      "right knee   56.848515  182.522731   67.847870    0.778029\n",
      "right ankle  52.774308  197.355325   22.007563    0.785333\n",
      "left hip     27.175364  149.831294  113.427018    0.634890\n",
      "left knee    31.228963  177.508184   71.094191    0.735613\n",
      "left ankle   37.394124  184.088227   30.756347    0.808995\n",
      "left toe 1   37.723048  193.008732   24.843301    0.802631\n",
      "left toe 2   32.449924  192.198389   25.364444    0.828637\n",
      "left heel    40.970532  185.402263   29.896091    0.598959\n",
      "right toe 1  53.106665  206.282148   16.090339    0.747789\n",
      "right toe 2  59.216037  205.195744   16.829239    0.736842\n",
      "right heel   50.214987  199.302566   20.708785    0.635151\n",
      "C:\\Users\\purpl\\Box\\Gait Video Project\\GaitVideoData\\video\\openpose_data\\ExtraHOA\\walking\\lower_body\\InkedGVS_124_W_T1_1_Trim\\processed2d\\1033.csv\n",
      "                     x           y           z  confidence\n",
      "right hip    61.364653  150.413868  113.145126    0.654378\n",
      "right knee   57.747603  184.348591   66.640119    0.742507\n",
      "right ankle  51.888025  196.900167   22.306616    0.812715\n",
      "left hip     28.058916  150.515922  112.975825    0.651319\n",
      "left knee    31.252235  177.508144   71.094289    0.711059\n",
      "left ankle   36.459762  181.761027   32.296364    0.811237\n",
      "left toe 1   37.655733  191.133393   26.086394    0.818989\n",
      "left toe 2   32.404541  190.315953   26.612309    0.784265\n",
      "left heel    39.983640  182.623695   31.735194    0.572058\n",
      "right toe 1  50.434085  205.394284   16.670813    0.754443\n",
      "right toe 2  57.400994  204.298841   17.418323    0.751683\n",
      "right heel   49.367830  199.305370   20.704341    0.528798\n",
      "C:\\Users\\purpl\\Box\\Gait Video Project\\GaitVideoData\\video\\openpose_data\\ExtraHOA\\walking\\lower_body\\InkedGVS_124_W_T1_1_Trim\\processed2d\\1038.csv\n",
      "                     x           y           z  confidence\n",
      "right hip    63.961373  150.350071  113.195346    0.624228\n",
      "right knee   60.365871  183.372129   67.295477    0.734685\n",
      "right ankle  51.748628  192.687708   25.098934    0.806283\n",
      "left hip     31.549544  149.726415  113.509899    0.651976\n",
      "left knee    31.276605  178.424992   70.486519    0.751870\n",
      "left ankle   33.781509  180.880072   32.872240    0.798824\n",
      "left toe 1   40.202039  188.729378   27.687960    0.734506\n",
      "left toe 2   34.939356  188.390524   27.896551    0.756175\n",
      "left heel    33.814587  181.355780   32.556960    0.579460\n",
      "right toe 1  50.311603  201.652050   19.151437    0.756885\n",
      "right toe 2  56.445181  201.018142   19.590419    0.757434\n",
      "right heel   49.192285  194.626798   23.805569    0.564555\n"
     ]
    }
   ],
   "source": [
    "raw_path = 'C:\\\\Users\\\\purpl\\\\Box\\\\Gait Video Project\\\\GaitVideoData\\\\video\\\\openpose_data' \n",
    "for cohort in cohorts[3:]:\n",
    "    for trial in trials[1:]:\n",
    "        for camera in cameras[1:]: #Front look camera only\n",
    "            frame_path = raw_path+cohort+trial+camera #Path to save the frames to \n",
    "            videos = os.listdir(frame_path)\n",
    "#             print (len(videos))\n",
    "            for video in videos[5:]:\n",
    "                frames = glob.glob(frame_path+video+'\\\\processed2d\\\\*.csv')\n",
    "                frames_selected = [frames[0], frames[3], frames[5], frames[9], frames[15], \\\n",
    "                                   frames[21], frames[27], frames[31], frames[35], frames[40], frames[45]]\n",
    "                for frame in frames_selected:\n",
    "                    data_frame = pd.DataFrame()\n",
    "#                     im_path = frame_path+video+'\\\\'+frame\n",
    "                    try:\n",
    "                        frame_csv = pd.read_csv(frame, index_col = 0)\n",
    "#                         print (frame_csv)\n",
    "                        coords = frame_csv[['x', 'y']].values\n",
    "                        #Only reading the x, y coordinates for 12 locations \n",
    "                        array = np.array([[5], [-120], [-530]]) #np.array([[5], [-60], [-500]])\n",
    "                        data_frame=pd.DataFrame(columns = ['x', 'y', 'z'])\n",
    "                        for idx, coord in enumerate(coords):\n",
    "                            if idx in [0, 3]: #Hip \n",
    "                                scale = [[(37+65+300)], [(37+65+500)], [(37+65+500)]] #[[(37+65+300)], [(37+65+900)], [(37+65+510)]]\n",
    "                            elif idx in [1, 4]: #Knee\n",
    "                                scale = [[(37+65+300)], [(37+65+700)], [(37+65+520)]] #[[(37+65+300)], [(37+65+1300)], [(37+65+550)]]\n",
    "                            else: #Ankle, Toes and Heel\n",
    "                                scale = [[(37+65+300)], [(37+65+300)], [(37+65+550)]] #[[(37+65+300)], [(37+65+1000)], [(37+65+590)]] #[[(37+65+300)], [(37+65+300)], [(37+65+550)]] #[[(37+65+300)], [(37+65+2700)], [(37+65+580)]]\n",
    "                            data_frame.loc[len(data_frame)] = np.array(convert2d_to_3d(coord, scale, array))[0].T\n",
    "                        data_frame.index = order\n",
    "                        data_frame['confidence'] = frame_csv['confidence']\n",
    "                        print (frame)\n",
    "                        print (data_frame)\n",
    "#                         data_frame.to_csv(frame[:-4]+'_3dcheck.csv')\n",
    "                    except Exception as e:\n",
    "                        print (e)"
   ]
  },
  {
   "cell_type": "code",
   "execution_count": null,
   "metadata": {},
   "outputs": [],
   "source": []
  }
 ],
 "metadata": {
  "kernelspec": {
   "display_name": "Python 3",
   "language": "python",
   "name": "python3"
  },
  "language_info": {
   "codemirror_mode": {
    "name": "ipython",
    "version": 3
   },
   "file_extension": ".py",
   "mimetype": "text/x-python",
   "name": "python",
   "nbconvert_exporter": "python",
   "pygments_lexer": "ipython3",
   "version": "3.7.6"
  }
 },
 "nbformat": 4,
 "nbformat_minor": 4
}
