{
 "cells": [
  {
   "cell_type": "markdown",
   "metadata": {},
   "source": [
    "## To convert video data to frames and downsample from 30FPS to 10FPS"
   ]
  },
  {
   "cell_type": "code",
   "execution_count": 12,
   "metadata": {},
   "outputs": [],
   "source": [
    "import cv2\n",
    "import os\n",
    "import re\n",
    "import glob\n",
    "import numpy as np\n",
    "from PIL import Image"
   ]
  },
  {
   "cell_type": "markdown",
   "metadata": {},
   "source": [
    "### Convert videos to frames (30FPS)"
   ]
  },
  {
   "cell_type": "code",
   "execution_count": 22,
   "metadata": {},
   "outputs": [],
   "source": [
    "# put this file video in the same folder\n",
    "def Convert_VTF(video_path, frame_path, Video_In, Frames_Out):\n",
    "    # creat a new folder with name 'FramesOut'\n",
    "    os.mkdir(frame_path+Frames_Out)\n",
    "    cap = cv2.VideoCapture(video_path+Video_In)\n",
    "    \n",
    "    count = 0\n",
    " \n",
    "    while (cap.isOpened()):\n",
    "        # capture each frame\n",
    "        ret, frame = cap.read()\n",
    " \n",
    "        if ret == True:\n",
    "            cv2.imwrite(os.path.join(frame_path+Frames_Out, \"{:d}.jpg\".format(count)), frame)\n",
    "            count += 1\n",
    "        else:\n",
    "            break\n",
    " \n",
    "    # When everything done, release the capture\n",
    "    cap.release()\n",
    "    cv2.destroyAllWindows()"
   ]
  },
  {
   "cell_type": "code",
   "execution_count": 23,
   "metadata": {},
   "outputs": [],
   "source": [
    "#Configuration for which to run the code for \n",
    "cohorts = ['\\\\HOA', '\\\\MS', '\\\\PD']\n",
    "trials = ['\\\\beam_walking', '\\\\walking']\n",
    "cameras = ['\\\\feet\\\\', '\\\\lower_body\\\\']"
   ]
  },
  {
   "cell_type": "code",
   "execution_count": 24,
   "metadata": {},
   "outputs": [],
   "source": [
    "raw_path = 'C:\\\\Users\\\\purpl\\\\Box\\\\Gait Video Project\\\\GaitVideoData\\\\video\\\\server_data\\\\'\n",
    "for cohort in cohorts:\n",
    "    for trial in trials:\n",
    "        for camera in cameras:\n",
    "            video_path = raw_path+cohort+trial+camera #Path to read the videos from \n",
    "           \n",
    "        frame_path = raw_path+'..\\\\frame_data'+cohort+trial+camera #Path to save the frames to \n",
    "            for vid_file in os.listdir(video_path):\n",
    "                Convert_VTF(video_path, frame_path, vid_file, vid_file[:-4])"
   ]
  },
  {
   "cell_type": "markdown",
   "metadata": {},
   "source": [
    "### Downsample frames to 10FPS"
   ]
  },
  {
   "cell_type": "code",
   "execution_count": 25,
   "metadata": {},
   "outputs": [],
   "source": [
    "# starting from index 0, delete first 2 out of 3 frames \n",
    "#Downsampling from 30FPS to 10FPS\n",
    "def Down_sampling_strategy(num):\n",
    "    if num % 3 == 2:\n",
    "        return True\n",
    "    else:\n",
    "        return False"
   ]
  },
  {
   "cell_type": "code",
   "execution_count": 26,
   "metadata": {},
   "outputs": [],
   "source": [
    "def Down_sampling(Frame_Folder, Video_Folder, Out_Path):\n",
    "    all_vid_path = Frame_Folder+Video_Folder\n",
    "    downsample_vid_path = Out_Path+Video_Folder\n",
    "    os.mkdir(downsample_vid_path)\n",
    "    frame_name = os.listdir(all_vid_path)\n",
    "    sorted_frame = sorted(frame_name, key = lambda x: int(os.path.splitext(x)[0]))\n",
    "    for pic in sorted_frame:  \n",
    "        # print(pic)\n",
    "        pic_index = int(re.findall(r'\\d+', pic)[0])\n",
    "        if Down_sampling_strategy(pic_index):            \n",
    "            #print(Video_Folder + '/' + pic)\n",
    "            img = cv2.imread(all_vid_path + '/'+ pic)\n",
    "            cv2.imwrite(os.path.join(downsample_vid_path, pic), img)\n",
    "#             file_path = os.path.join(OutPath, pic)\n",
    "#             pic.save(file_path)"
   ]
  },
  {
   "cell_type": "code",
   "execution_count": 27,
   "metadata": {},
   "outputs": [],
   "source": [
    "for cohort in cohorts:\n",
    "    for trial in trials:\n",
    "        for camera in cameras:\n",
    "            frame_path = raw_path+'..\\\\frame_data'+cohort+trial+camera #Path to read all the frames from \n",
    "            downsampled_path = raw_path+'..\\\\downsampled_frames'+cohort+trial+camera #Path to put the downsampled frames to\n",
    "            for frame_folder in os.listdir(frame_path):\n",
    "                Down_sampling(frame_path, frame_folder, downsampled_path)"
   ]
  },
  {
   "cell_type": "code",
   "execution_count": null,
   "metadata": {},
   "outputs": [],
   "source": []
  }
 ],
 "metadata": {
  "kernelspec": {
   "display_name": "Python 3",
   "language": "python",
   "name": "python3"
  },
  "language_info": {
   "codemirror_mode": {
    "name": "ipython",
    "version": 3
   },
   "file_extension": ".py",
   "mimetype": "text/x-python",
   "name": "python",
   "nbconvert_exporter": "python",
   "pygments_lexer": "ipython3",
   "version": "3.7.6"
  }
 },
 "nbformat": 4,
 "nbformat_minor": 4
}
