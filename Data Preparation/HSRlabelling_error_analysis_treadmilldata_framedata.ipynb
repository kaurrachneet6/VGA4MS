{
 "cells": [
  {
   "cell_type": "markdown",
   "metadata": {},
   "source": [
    "## Gait Video Study\n",
    "### Code to compute errors between true and detected HSRs from the treadmill GAITCYCLES.csv file\n",
    "1. We plot in red stars the actual HSRs and in blue dots the detected HSRs\n",
    "2. We compute the error series defining the difference between each detected HSR and it's closest true HSR \n",
    "3. We plot the histogram of the error series \n",
    "4. We compute the mean, absolute mean, SD, absolute SD of the error series \n"
   ]
  },
  {
   "cell_type": "code",
   "execution_count": 61,
   "metadata": {
    "scrolled": true
   },
   "outputs": [
    {
     "name": "stdout",
     "output_type": "stream",
     "text": [
      "Collecting ipympl==0.2.1\n",
      "  Downloading https://files.pythonhosted.org/packages/f3/95/0f81671c9b71ef50e39508e85395f8987734d1211833ec349509e7a78356/ipympl-0.2.1-py2.py3-none-any.whl (1.6MB)\n",
      "Requirement already satisfied: ipywidgets>=7.0.0 in c:\\users\\rk4\\appdata\\local\\continuum\\anaconda3\\lib\\site-packages (from ipympl==0.2.1) (7.5.1)\n",
      "Requirement already satisfied: ipykernel>=4.7 in c:\\users\\rk4\\appdata\\local\\continuum\\anaconda3\\lib\\site-packages (from ipympl==0.2.1) (4.8.2)\n",
      "Requirement already satisfied: matplotlib>=2.0.0 in c:\\users\\rk4\\appdata\\local\\continuum\\anaconda3\\lib\\site-packages (from ipympl==0.2.1) (2.2.2)\n",
      "Requirement already satisfied: six in c:\\users\\rk4\\appdata\\local\\continuum\\anaconda3\\lib\\site-packages (from ipympl==0.2.1) (1.11.0)\n",
      "Requirement already satisfied: traitlets>=4.3.1 in c:\\users\\rk4\\appdata\\local\\continuum\\anaconda3\\lib\\site-packages (from ipywidgets>=7.0.0->ipympl==0.2.1) (4.3.2)\n",
      "Requirement already satisfied: widgetsnbextension~=3.5.0 in c:\\users\\rk4\\appdata\\local\\continuum\\anaconda3\\lib\\site-packages (from ipywidgets>=7.0.0->ipympl==0.2.1) (3.5.1)\n",
      "Requirement already satisfied: ipython>=4.0.0; python_version >= \"3.3\" in c:\\users\\rk4\\appdata\\local\\continuum\\anaconda3\\lib\\site-packages (from ipywidgets>=7.0.0->ipympl==0.2.1) (6.4.0)\n",
      "Requirement already satisfied: nbformat>=4.2.0 in c:\\users\\rk4\\appdata\\local\\continuum\\anaconda3\\lib\\site-packages (from ipywidgets>=7.0.0->ipympl==0.2.1) (4.4.0)\n",
      "Requirement already satisfied: jupyter_client in c:\\users\\rk4\\appdata\\local\\continuum\\anaconda3\\lib\\site-packages (from ipykernel>=4.7->ipympl==0.2.1) (5.2.3)\n",
      "Requirement already satisfied: tornado>=4.0 in c:\\users\\rk4\\appdata\\local\\continuum\\anaconda3\\lib\\site-packages (from ipykernel>=4.7->ipympl==0.2.1) (5.1.1)\n",
      "Requirement already satisfied: numpy>=1.7.1 in c:\\users\\rk4\\appdata\\local\\continuum\\anaconda3\\lib\\site-packages (from matplotlib>=2.0.0->ipympl==0.2.1) (1.14.3)\n",
      "Requirement already satisfied: cycler>=0.10 in c:\\users\\rk4\\appdata\\local\\continuum\\anaconda3\\lib\\site-packages (from matplotlib>=2.0.0->ipympl==0.2.1) (0.10.0)\n",
      "Requirement already satisfied: pyparsing!=2.0.4,!=2.1.2,!=2.1.6,>=2.0.1 in c:\\users\\rk4\\appdata\\local\\continuum\\anaconda3\\lib\\site-packages (from matplotlib>=2.0.0->ipympl==0.2.1) (2.2.0)\n",
      "Requirement already satisfied: python-dateutil>=2.1 in c:\\users\\rk4\\appdata\\local\\continuum\\anaconda3\\lib\\site-packages (from matplotlib>=2.0.0->ipympl==0.2.1) (2.7.3)\n",
      "Requirement already satisfied: pytz in c:\\users\\rk4\\appdata\\local\\continuum\\anaconda3\\lib\\site-packages (from matplotlib>=2.0.0->ipympl==0.2.1) (2018.4)\n",
      "Requirement already satisfied: kiwisolver>=1.0.1 in c:\\users\\rk4\\appdata\\local\\continuum\\anaconda3\\lib\\site-packages (from matplotlib>=2.0.0->ipympl==0.2.1) (1.0.1)\n",
      "Requirement already satisfied: ipython_genutils in c:\\users\\rk4\\appdata\\local\\continuum\\anaconda3\\lib\\site-packages (from traitlets>=4.3.1->ipywidgets>=7.0.0->ipympl==0.2.1) (0.2.0)\n",
      "Requirement already satisfied: decorator in c:\\users\\rk4\\appdata\\local\\continuum\\anaconda3\\lib\\site-packages (from traitlets>=4.3.1->ipywidgets>=7.0.0->ipympl==0.2.1) (4.3.0)\n",
      "Requirement already satisfied: notebook>=4.4.1 in c:\\users\\rk4\\appdata\\local\\continuum\\anaconda3\\lib\\site-packages (from widgetsnbextension~=3.5.0->ipywidgets>=7.0.0->ipympl==0.2.1) (5.5.0)\n",
      "Requirement already satisfied: prompt-toolkit<2.0.0,>=1.0.15 in c:\\users\\rk4\\appdata\\local\\continuum\\anaconda3\\lib\\site-packages (from ipython>=4.0.0; python_version >= \"3.3\"->ipywidgets>=7.0.0->ipympl==0.2.1) (1.0.15)\n",
      "Requirement already satisfied: setuptools>=18.5 in c:\\users\\rk4\\appdata\\local\\continuum\\anaconda3\\lib\\site-packages (from ipython>=4.0.0; python_version >= \"3.3\"->ipywidgets>=7.0.0->ipympl==0.2.1) (39.1.0)\n",
      "Requirement already satisfied: pygments in c:\\users\\rk4\\appdata\\local\\continuum\\anaconda3\\lib\\site-packages (from ipython>=4.0.0; python_version >= \"3.3\"->ipywidgets>=7.0.0->ipympl==0.2.1) (2.2.0)\n",
      "Requirement already satisfied: pickleshare in c:\\users\\rk4\\appdata\\local\\continuum\\anaconda3\\lib\\site-packages (from ipython>=4.0.0; python_version >= \"3.3\"->ipywidgets>=7.0.0->ipympl==0.2.1) (0.7.4)\n",
      "Requirement already satisfied: jedi>=0.10 in c:\\users\\rk4\\appdata\\local\\continuum\\anaconda3\\lib\\site-packages (from ipython>=4.0.0; python_version >= \"3.3\"->ipywidgets>=7.0.0->ipympl==0.2.1) (0.12.0)\n",
      "Requirement already satisfied: simplegeneric>0.8 in c:\\users\\rk4\\appdata\\local\\continuum\\anaconda3\\lib\\site-packages (from ipython>=4.0.0; python_version >= \"3.3\"->ipywidgets>=7.0.0->ipympl==0.2.1) (0.8.1)\n",
      "Requirement already satisfied: backcall in c:\\users\\rk4\\appdata\\local\\continuum\\anaconda3\\lib\\site-packages (from ipython>=4.0.0; python_version >= \"3.3\"->ipywidgets>=7.0.0->ipympl==0.2.1) (0.1.0)\n",
      "Requirement already satisfied: colorama; sys_platform == \"win32\" in c:\\users\\rk4\\appdata\\local\\continuum\\anaconda3\\lib\\site-packages (from ipython>=4.0.0; python_version >= \"3.3\"->ipywidgets>=7.0.0->ipympl==0.2.1) (0.3.9)\n",
      "Requirement already satisfied: jsonschema!=2.5.0,>=2.4 in c:\\users\\rk4\\appdata\\local\\continuum\\anaconda3\\lib\\site-packages (from nbformat>=4.2.0->ipywidgets>=7.0.0->ipympl==0.2.1) (2.6.0)\n",
      "Requirement already satisfied: jupyter_core in c:\\users\\rk4\\appdata\\local\\continuum\\anaconda3\\lib\\site-packages (from nbformat>=4.2.0->ipywidgets>=7.0.0->ipympl==0.2.1) (4.4.0)\n",
      "Requirement already satisfied: pyzmq>=13 in c:\\users\\rk4\\appdata\\local\\continuum\\anaconda3\\lib\\site-packages (from jupyter_client->ipykernel>=4.7->ipympl==0.2.1) (17.0.0)\n",
      "Requirement already satisfied: nbconvert in c:\\users\\rk4\\appdata\\roaming\\python\\python36\\site-packages (from notebook>=4.4.1->widgetsnbextension~=3.5.0->ipywidgets>=7.0.0->ipympl==0.2.1) (5.6.1)\n",
      "Requirement already satisfied: jinja2 in c:\\users\\rk4\\appdata\\local\\continuum\\anaconda3\\lib\\site-packages (from notebook>=4.4.1->widgetsnbextension~=3.5.0->ipywidgets>=7.0.0->ipympl==0.2.1) (2.10)\n",
      "Requirement already satisfied: Send2Trash in c:\\users\\rk4\\appdata\\local\\continuum\\anaconda3\\lib\\site-packages (from notebook>=4.4.1->widgetsnbextension~=3.5.0->ipywidgets>=7.0.0->ipympl==0.2.1) (1.5.0)\n",
      "Requirement already satisfied: terminado>=0.8.1 in c:\\users\\rk4\\appdata\\local\\continuum\\anaconda3\\lib\\site-packages (from notebook>=4.4.1->widgetsnbextension~=3.5.0->ipywidgets>=7.0.0->ipympl==0.2.1) (0.8.1)\n",
      "Requirement already satisfied: wcwidth in c:\\users\\rk4\\appdata\\local\\continuum\\anaconda3\\lib\\site-packages (from prompt-toolkit<2.0.0,>=1.0.15->ipython>=4.0.0; python_version >= \"3.3\"->ipywidgets>=7.0.0->ipympl==0.2.1) (0.1.7)\n",
      "Requirement already satisfied: parso>=0.2.0 in c:\\users\\rk4\\appdata\\local\\continuum\\anaconda3\\lib\\site-packages (from jedi>=0.10->ipython>=4.0.0; python_version >= \"3.3\"->ipywidgets>=7.0.0->ipympl==0.2.1) (0.2.0)\n",
      "Requirement already satisfied: testpath in c:\\users\\rk4\\appdata\\local\\continuum\\anaconda3\\lib\\site-packages (from nbconvert->notebook>=4.4.1->widgetsnbextension~=3.5.0->ipywidgets>=7.0.0->ipympl==0.2.1) (0.3.1)\n",
      "Requirement already satisfied: pandocfilters>=1.4.1 in c:\\users\\rk4\\appdata\\local\\continuum\\anaconda3\\lib\\site-packages (from nbconvert->notebook>=4.4.1->widgetsnbextension~=3.5.0->ipywidgets>=7.0.0->ipympl==0.2.1) (1.4.2)\n",
      "Requirement already satisfied: entrypoints>=0.2.2 in c:\\users\\rk4\\appdata\\local\\continuum\\anaconda3\\lib\\site-packages (from nbconvert->notebook>=4.4.1->widgetsnbextension~=3.5.0->ipywidgets>=7.0.0->ipympl==0.2.1) (0.2.3)\n",
      "Requirement already satisfied: defusedxml in c:\\users\\rk4\\appdata\\roaming\\python\\python36\\site-packages (from nbconvert->notebook>=4.4.1->widgetsnbextension~=3.5.0->ipywidgets>=7.0.0->ipympl==0.2.1) (0.6.0)\n",
      "Requirement already satisfied: mistune<2,>=0.8.1 in c:\\users\\rk4\\appdata\\local\\continuum\\anaconda3\\lib\\site-packages (from nbconvert->notebook>=4.4.1->widgetsnbextension~=3.5.0->ipywidgets>=7.0.0->ipympl==0.2.1) (0.8.3)\n",
      "Requirement already satisfied: bleach in c:\\users\\rk4\\appdata\\local\\continuum\\anaconda3\\lib\\site-packages (from nbconvert->notebook>=4.4.1->widgetsnbextension~=3.5.0->ipywidgets>=7.0.0->ipympl==0.2.1) (2.1.3)\n",
      "Requirement already satisfied: MarkupSafe>=0.23 in c:\\users\\rk4\\appdata\\local\\continuum\\anaconda3\\lib\\site-packages (from jinja2->notebook>=4.4.1->widgetsnbextension~=3.5.0->ipywidgets>=7.0.0->ipympl==0.2.1) (1.0)\n",
      "Requirement already satisfied: html5lib!=1.0b1,!=1.0b2,!=1.0b3,!=1.0b4,!=1.0b5,!=1.0b6,!=1.0b7,!=1.0b8,>=0.99999999pre in c:\\users\\rk4\\appdata\\local\\continuum\\anaconda3\\lib\\site-packages (from bleach->nbconvert->notebook>=4.4.1->widgetsnbextension~=3.5.0->ipywidgets>=7.0.0->ipympl==0.2.1) (1.0.1)\n",
      "Requirement already satisfied: webencodings in c:\\users\\rk4\\appdata\\local\\continuum\\anaconda3\\lib\\site-packages (from html5lib!=1.0b1,!=1.0b2,!=1.0b3,!=1.0b4,!=1.0b5,!=1.0b6,!=1.0b7,!=1.0b8,>=0.99999999pre->bleach->nbconvert->notebook>=4.4.1->widgetsnbextension~=3.5.0->ipywidgets>=7.0.0->ipympl==0.2.1) (0.5.1)\n",
      "Installing collected packages: ipympl\n",
      "  Found existing installation: ipympl 0.5.7\n",
      "    Uninstalling ipympl-0.5.7:\n",
      "      Successfully uninstalled ipympl-0.5.7\n",
      "Successfully installed ipympl-0.2.1\n"
     ]
    },
    {
     "name": "stderr",
     "output_type": "stream",
     "text": [
      "WARNING: You are using pip version 19.3.1; however, version 20.2.3 is available.\n",
      "You should consider upgrading via the 'python -m pip install --upgrade pip' command.\n"
     ]
    }
   ],
   "source": [
    "!pip install ipympl==0.2.1"
   ]
  },
  {
   "cell_type": "code",
   "execution_count": 74,
   "metadata": {},
   "outputs": [],
   "source": [
    "import numpy as np\n",
    "%matplotlib inline\n",
    "import matplotlib.pyplot as plt\n",
    "import os\n",
    "import pandas as pd\n",
    "import shutil"
   ]
  },
  {
   "cell_type": "code",
   "execution_count": 75,
   "metadata": {},
   "outputs": [],
   "source": [
    "#Change paths accordingly\n",
    "trueHSR_path = 'C:\\\\Users\\\\rk4\\\\Box\\\\Gait Video Project\\\\GaitVideoData\\\\video\\\\trueHSR'\n",
    "detectedHSR_path = 'C:\\\\Users\\\\rk4\\\\Box\\\\'\n",
    "frame_path_merged = 'C:\\\\Users\\\\rk4\\\\Box\\\\Gait Video Project\\\\GaitVideoData\\\\video\\\\multi_view_merged_data\\\\'\n",
    "\n",
    "#Configuration for which to run the code for \n",
    "cohorts = ['\\\\HOA', '\\\\MS', '\\\\PD', '\\\\ExtraHOA']\n",
    "trials = ['\\\\beam_walking', '\\\\walking']"
   ]
  },
  {
   "cell_type": "code",
   "execution_count": 76,
   "metadata": {
    "scrolled": true
   },
   "outputs": [],
   "source": [
    "#Run only once to create true HSR directory \n",
    "# #Saving the HSRframes.txt file to the trueHSR\\\\ folder \n",
    "# for cohort in cohorts:\n",
    "#     for trial in trials:\n",
    "#         merged_path = frame_path_merged+cohort+trial \n",
    "#         if (os.path.exists(merged_path)):\n",
    "#             videos = os.listdir(merged_path)\n",
    "# #             print (len(videos))\n",
    "#             for video in videos:\n",
    "#                 trueHSRfile_loc = merged_path+'\\\\'+video+'\\\\hip_height_normalized\\\\HSRframes.txt'\n",
    "#         #             print (open(trueHSRfile_loc).read())\n",
    "#                 new_loc = trueHSR_path+cohort+trial+'\\\\'+video+'_HSRframes.txt'\n",
    "#                 shutil.copy(trueHSRfile_loc, new_loc) \n",
    "#                 print ('HSR for', video, 'copied')"
   ]
  },
  {
   "cell_type": "markdown",
   "metadata": {},
   "source": [
    "### Utility functions"
   ]
  },
  {
   "cell_type": "code",
   "execution_count": 114,
   "metadata": {},
   "outputs": [],
   "source": [
    "#Function to read the detected and true HSR files\n",
    "def read_detected_true_HSRs(folder_name, file_name, cohort, trial, video):\n",
    "    #Detected HSRs\n",
    "    labelled_file = pd.read_excel(detectedHSR_path+folder_name+file_name)\n",
    "    labelled_file_HSR = labelled_file[labelled_file['EventType']=='HSR']\n",
    "    detected_HSR_frames = labelled_file_HSR.dropna()['frame_number'].values\n",
    "    detected_HSR_frames = [int(a) for a in detected_HSR_frames]\n",
    "\n",
    "    #True HSRs\n",
    "    true_HSR_frames = open(trueHSR_path+cohort+trial+'\\\\'+video+'_HSRframes.txt').read()\n",
    "    true_HSR_frames = [int(a) for a in true_HSR_frames.split(',')]\n",
    "    return detected_HSR_frames, true_HSR_frames"
   ]
  },
  {
   "cell_type": "code",
   "execution_count": 115,
   "metadata": {},
   "outputs": [],
   "source": [
    "#Function to plot the detected and true HSRs\n",
    "def plot_detected_trueHSR(detected_HSR_frames, true_HSR_frames, folder_name, video):\n",
    "    fig= plt.figure(figsize = (13.5, 3))\n",
    "    ax1 = fig.add_subplot(111)\n",
    "    ax1.plot(detected_HSR_frames, [1]*len(detected_HSR_frames), 'bd', ms = 6, alpha = 0.5,\\\n",
    "             label = 'detected HSR')\n",
    "    ax1.plot(true_HSR_frames, [1]*len(true_HSR_frames),'r*', ms = 6, alpha = 0.5, label = 'true HSR')\n",
    "    plt.legend()\n",
    "    plt.title('Detected and true HSRs for '+video)\n",
    "    plt.show()\n",
    "    plt.savefig(detectedHSR_path+folder_name+video+ '_detected_true_HSRs.png', dpi = 250)\n",
    "    plt.close()"
   ]
  },
  {
   "cell_type": "code",
   "execution_count": 116,
   "metadata": {},
   "outputs": [],
   "source": [
    "#Computing the error series and error stats between true and detected HSRs and saving to a .txt file\n",
    "def compute_errors(detected_HSR_frames, true_HSR_frames, folder_name, video):\n",
    "    #For each detected HSR, error is defined as the difference of it with the closest true HSR \n",
    "    abs_error_indices = [np.argmin(abs(i-np.array(true_HSR_frames))) for i in detected_HSR_frames]\n",
    "    #Error\n",
    "    error = [i-true_HSR_frames[j] for i, j in zip(detected_HSR_frames, abs_error_indices)]\n",
    "    #Absolute error\n",
    "    abs_error = list(map(abs, error))\n",
    "    #Mean, Std, mean(abs), std(abs)\n",
    "    error_stats = [np.mean(error), np.std(error), np.mean(abs_error), np.std(abs_error)]\n",
    "    #Completely undetected/missed frames from true HSR \n",
    "    len_trueHSR_frames = list(range(len(true_HSR_frames)))\n",
    "    trueHSR_undetected_frames = list(set(len_trueHSR_frames).difference(abs_error_indices))\n",
    "\n",
    "    #Writing the errors, absolute error, error stats and undetected frames to a .txt file\n",
    "    with open(detectedHSR_path+folder_name+video+'_errorfile.txt', 'w') as filehandle:\n",
    "        filehandle.writelines(\"%d, \" % i for i in error) #Errors\n",
    "        filehandle.writelines(\"\\n\")\n",
    "        filehandle.writelines(\"%d, \" % i for i in abs_error) #Absolute errors \n",
    "        filehandle.writelines(\"\\n\")\n",
    "        filehandle.writelines(\"%d, \" % i for i in error_stats) \n",
    "        #Error stats (mean, std, mean(abs) std(abs))\n",
    "        filehandle.writelines(\"\\n\")\n",
    "        filehandle.writelines(\"%d, \" % i for i in trueHSR_undetected_frames) \n",
    "        #Undetected/missed true HSR frames\n",
    "    return error, abs_error, error_stats, trueHSR_undetected_frames"
   ]
  },
  {
   "cell_type": "markdown",
   "metadata": {},
   "source": [
    "### main()"
   ]
  },
  {
   "cell_type": "code",
   "execution_count": 117,
   "metadata": {},
   "outputs": [
    {
     "name": "stdout",
     "output_type": "stream",
     "text": [
      "detected_HSR_frames\n",
      " [99, 136, 173, 211, 251, 291, 334, 374, 416, 454, 492, 530, 567, 607, 644, 719, 756, 794, 834, 873, 913, 953, 995, 1036, 1077, 1118, 1160, 1202, 1243, 1284, 1326, 1371, 1414, 1457, 1502, 1547, 1591, 1636, 1681, 1726]\n",
      "true_HSR_frames\n",
      " [28, 65, 103, 145, 178, 216, 254, 295, 339, 378, 420, 458, 497, 533, 574, 613, 648, 686, 723, 761, 798, 836, 877, 916, 957, 997, 1040, 1080, 1123, 1165, 1206, 1247, 1289, 1330, 1374, 1417, 1461, 1505, 1549, 1593, 1639, 1684, 1729]\n"
     ]
    }
   ],
   "source": [
    "#Change paths accordingly\n",
    "folder_name = 'Reema Thakkar\\\\'\n",
    "file_name = 'GVS_213_T_T1_GAITCYCLESframedata.xlsx'\n",
    "cohort = '\\\\HOA'\n",
    "trial = '\\\\beam_walking'\n",
    "video = file_name[:12]\n",
    "\n",
    "#Reading the detected and true HSRs from the files\n",
    "detected_HSR_frames, true_HSR_frames = read_detected_true_HSRs(folder_name, file_name, cohort, trial, video)\n",
    "\n",
    "#Printing the detected and true HSRs\n",
    "print('detected_HSR_frames\\n', detected_HSR_frames)\n",
    "print ('true_HSR_frames\\n', true_HSR_frames) "
   ]
  },
  {
   "cell_type": "markdown",
   "metadata": {},
   "source": [
    "### Plotting detected and true HSRs"
   ]
  },
  {
   "cell_type": "code",
   "execution_count": 118,
   "metadata": {},
   "outputs": [
    {
     "data": {
      "image/png": "[encoded data removed]",
      "text/plain": [
       "<Figure size 972x216 with 1 Axes>"
      ]
     },
     "metadata": {},
     "output_type": "display_data"
    }
   ],
   "source": [
    "#Plotting the detected and true HSRs\n",
    "plot_detected_trueHSR(detected_HSR_frames, true_HSR_frames, folder_name, video)"
   ]
  },
  {
   "cell_type": "markdown",
   "metadata": {},
   "source": [
    "### Error analysis "
   ]
  },
  {
   "cell_type": "code",
   "execution_count": 121,
   "metadata": {},
   "outputs": [
    {
     "name": "stdout",
     "output_type": "stream",
     "text": [
      "error list (in frames):  [-4, -9, -5, -5, -3, -4, -5, -4, -4, -4, -5, -3, -7, -6, -4, -4, -5, -4, -2, -4, -3, -4, -2, -4, -3, -5, -5, -4, -4, -5, -4, -3, -3, -4, -3, -2, -2, -3, -3, -3]\n",
      "absolute error list (in frames):  [4, 9, 5, 5, 3, 4, 5, 4, 4, 4, 5, 3, 7, 6, 4, 4, 5, 4, 2, 4, 3, 4, 2, 4, 3, 5, 5, 4, 4, 5, 4, 3, 3, 4, 3, 2, 2, 3, 3, 3]\n",
      "error stats (in frames):  [-4.0, 1.3416407864998738, 4.0, 1.3416407864998738]\n",
      "Undetected/missed true HSR frames (in frames):  [0, 1, 17]\n"
     ]
    }
   ],
   "source": [
    "#Computing the error series and error stats between true and detected HSRs\n",
    "error, abs_error, error_stats, trueHSR_undetected_frames = compute_errors(detected_HSR_frames, true_HSR_frames, folder_name, video)\n",
    "# Note that these values are all in frames. Divide by 30 to get in seconds. \n",
    "print ('error list (in frames): ', error)\n",
    "print ('absolute error list (in frames): ', abs_error)\n",
    "print ('error stats (in frames): ', error_stats)\n",
    "print ('Undetected/missed true HSR frames (in frames): ', trueHSR_undetected_frames)"
   ]
  },
  {
   "cell_type": "markdown",
   "metadata": {},
   "source": [
    "### Histogram of errors"
   ]
  },
  {
   "cell_type": "code",
   "execution_count": 131,
   "metadata": {},
   "outputs": [
    {
     "data": {
      "image/png": "[encoded data removed]",
      "text/plain": [
       "<Figure size 432x288 with 1 Axes>"
      ]
     },
     "metadata": {},
     "output_type": "display_data"
    }
   ],
   "source": [
    "#Histogram of errors for distribution \n",
    "plt.figure()\n",
    "plt.hist(error, color='b', density=True, alpha=0.75)\n",
    "plt.title('Histogram of errors b/w detected and true HSRs for '+video)\n",
    "plt.savefig(detectedHSR_path+folder_name+video+'_histogram_errors.png', dpi = 250)\n",
    "plt.show()"
   ]
  },
  {
   "cell_type": "code",
   "execution_count": null,
   "metadata": {},
   "outputs": [],
   "source": []
  }
 ],
 "metadata": {
  "kernelspec": {
   "display_name": "Python 3",
   "language": "python",
   "name": "python3"
  },
  "language_info": {
   "codemirror_mode": {
    "name": "ipython",
    "version": 3
   },
   "file_extension": ".py",
   "mimetype": "text/x-python",
   "name": "python",
   "nbconvert_exporter": "python",
   "pygments_lexer": "ipython3",
   "version": "3.7.6"
  }
 },
 "nbformat": 4,
 "nbformat_minor": 4
}
